{
 "cells": [
  {
   "cell_type": "code",
   "execution_count": 9,
   "id": "8bed4cd4",
   "metadata": {},
   "outputs": [],
   "source": [
    "import pandas as pd\n",
    "import numpy as np\n",
    "import matplotlib.pyplot as plt\n",
    "import seaborn as sns\n",
    "import plotly.express as px\n",
    "import plotly.graph_objects as go\n",
    "import plotly.io as pio\n",
    "import statsmodels.api as sm\n",
    "\n",
    "# Set default theme for better looking plots\n",
    "pio.templates.default = 'plotly_white'\n",
    "\n",
    "# Custom color palette\n",
    "custom_colors = ['#1f77b4', '#ff7f0e', '#2ca02c', '#d62728', '#9467bd', '#8c564b']"
   ]
  },
  {
   "cell_type": "code",
   "execution_count": 10,
   "id": "ae6610ff",
   "metadata": {},
   "outputs": [],
   "source": [
    "# Read and prepare the data\n",
    "df = pd.read_csv(r'C:\\Users\\lenovo\\OneDrive\\Desktop\\flask\\graphs\\jobs.csv')\n",
    "\n",
    "# Clean salary data\n",
    "df['sal_low'] = pd.to_numeric(df['sal_low'], errors='coerce')\n",
    "df['sal_high'] = pd.to_numeric(df['sal_high'], errors='coerce')\n",
    "df['avg_salary'] = (df['sal_low'] + df['sal_high']) / 2\n",
    "\n",
    "# Format salary for better display\n",
    "df['formatted_salary'] = df['avg_salary'].apply(lambda x: f'${x:,.0f}')"
   ]
  },
  {
   "cell_type": "code",
   "execution_count": null,
   "id": "922d5367",
   "metadata": {},
   "outputs": [
    {
     "ename": "AttributeError",
     "evalue": "'float' object has no attribute 'expandtabs'",
     "output_type": "error",
     "traceback": [
      "\u001b[1;31m---------------------------------------------------------------------------\u001b[0m",
      "\u001b[1;31mAttributeError\u001b[0m                            Traceback (most recent call last)",
      "Cell \u001b[1;32mIn[15], line 18\u001b[0m\n\u001b[0;32m     16\u001b[0m \u001b[38;5;66;03m# Get unique job functions and wrap their labels\u001b[39;00m\n\u001b[0;32m     17\u001b[0m job_functions \u001b[38;5;241m=\u001b[39m df[\u001b[38;5;124m'\u001b[39m\u001b[38;5;124mJob function\u001b[39m\u001b[38;5;124m'\u001b[39m]\u001b[38;5;241m.\u001b[39munique()\n\u001b[1;32m---> 18\u001b[0m wrapped_labels \u001b[38;5;241m=\u001b[39m [\u001b[43mwrap_labels\u001b[49m\u001b[43m(\u001b[49m\u001b[43mjob\u001b[49m\u001b[43m)\u001b[49m \u001b[38;5;28;01mfor\u001b[39;00m job \u001b[38;5;129;01min\u001b[39;00m job_functions]\n\u001b[0;32m     20\u001b[0m fig1\u001b[38;5;241m.\u001b[39mupdate_layout(\n\u001b[0;32m     21\u001b[0m     title\u001b[38;5;241m=\u001b[39m\u001b[38;5;28mdict\u001b[39m(\n\u001b[0;32m     22\u001b[0m         text\u001b[38;5;241m=\u001b[39m\u001b[38;5;124m'\u001b[39m\u001b[38;5;124mSalary Distribution by Job Function\u001b[39m\u001b[38;5;124m'\u001b[39m,\n\u001b[1;32m   (...)\u001b[0m\n\u001b[0;32m     63\u001b[0m     )\n\u001b[0;32m     64\u001b[0m )\n\u001b[0;32m     66\u001b[0m \u001b[38;5;66;03m# Update box styling\u001b[39;00m\n",
      "Cell \u001b[1;32mIn[15], line 14\u001b[0m, in \u001b[0;36mwrap_labels\u001b[1;34m(text, width)\u001b[0m\n\u001b[0;32m     12\u001b[0m \u001b[38;5;250m\u001b[39m\u001b[38;5;124;03m\"\"\"Wrap labels to specified width\"\"\"\u001b[39;00m\n\u001b[0;32m     13\u001b[0m \u001b[38;5;28;01mimport\u001b[39;00m \u001b[38;5;21;01mtextwrap\u001b[39;00m\n\u001b[1;32m---> 14\u001b[0m \u001b[38;5;28;01mreturn\u001b[39;00m \u001b[38;5;124m'\u001b[39m\u001b[38;5;124m<br>\u001b[39m\u001b[38;5;124m'\u001b[39m\u001b[38;5;241m.\u001b[39mjoin(\u001b[43mtextwrap\u001b[49m\u001b[38;5;241;43m.\u001b[39;49m\u001b[43mwrap\u001b[49m\u001b[43m(\u001b[49m\u001b[43mtext\u001b[49m\u001b[43m,\u001b[49m\u001b[43m \u001b[49m\u001b[43mwidth\u001b[49m\u001b[38;5;241;43m=\u001b[39;49m\u001b[43mwidth\u001b[49m\u001b[43m)\u001b[49m)\n",
      "File \u001b[1;32mc:\\Users\\lenovo\\miniconda3\\Lib\\textwrap.py:384\u001b[0m, in \u001b[0;36mwrap\u001b[1;34m(text, width, **kwargs)\u001b[0m\n\u001b[0;32m    374\u001b[0m \u001b[38;5;250m\u001b[39m\u001b[38;5;124;03m\"\"\"Wrap a single paragraph of text, returning a list of wrapped lines.\u001b[39;00m\n\u001b[0;32m    375\u001b[0m \n\u001b[0;32m    376\u001b[0m \u001b[38;5;124;03mReformat the single paragraph in 'text' so it fits in lines of no\u001b[39;00m\n\u001b[1;32m   (...)\u001b[0m\n\u001b[0;32m    381\u001b[0m \u001b[38;5;124;03mwrapping behaviour.\u001b[39;00m\n\u001b[0;32m    382\u001b[0m \u001b[38;5;124;03m\"\"\"\u001b[39;00m\n\u001b[0;32m    383\u001b[0m w \u001b[38;5;241m=\u001b[39m TextWrapper(width\u001b[38;5;241m=\u001b[39mwidth, \u001b[38;5;241m*\u001b[39m\u001b[38;5;241m*\u001b[39mkwargs)\n\u001b[1;32m--> 384\u001b[0m \u001b[38;5;28;01mreturn\u001b[39;00m \u001b[43mw\u001b[49m\u001b[38;5;241;43m.\u001b[39;49m\u001b[43mwrap\u001b[49m\u001b[43m(\u001b[49m\u001b[43mtext\u001b[49m\u001b[43m)\u001b[49m\n",
      "File \u001b[1;32mc:\\Users\\lenovo\\miniconda3\\Lib\\textwrap.py:356\u001b[0m, in \u001b[0;36mTextWrapper.wrap\u001b[1;34m(self, text)\u001b[0m\n\u001b[0;32m    347\u001b[0m \u001b[38;5;28;01mdef\u001b[39;00m \u001b[38;5;21mwrap\u001b[39m(\u001b[38;5;28mself\u001b[39m, text):\n\u001b[0;32m    348\u001b[0m \u001b[38;5;250m    \u001b[39m\u001b[38;5;124;03m\"\"\"wrap(text : string) -> [string]\u001b[39;00m\n\u001b[0;32m    349\u001b[0m \n\u001b[0;32m    350\u001b[0m \u001b[38;5;124;03m    Reformat the single paragraph in 'text' so it fits in lines of\u001b[39;00m\n\u001b[1;32m   (...)\u001b[0m\n\u001b[0;32m    354\u001b[0m \u001b[38;5;124;03m    converted to space.\u001b[39;00m\n\u001b[0;32m    355\u001b[0m \u001b[38;5;124;03m    \"\"\"\u001b[39;00m\n\u001b[1;32m--> 356\u001b[0m     chunks \u001b[38;5;241m=\u001b[39m \u001b[38;5;28;43mself\u001b[39;49m\u001b[38;5;241;43m.\u001b[39;49m\u001b[43m_split_chunks\u001b[49m\u001b[43m(\u001b[49m\u001b[43mtext\u001b[49m\u001b[43m)\u001b[49m\n\u001b[0;32m    357\u001b[0m     \u001b[38;5;28;01mif\u001b[39;00m \u001b[38;5;28mself\u001b[39m\u001b[38;5;241m.\u001b[39mfix_sentence_endings:\n\u001b[0;32m    358\u001b[0m         \u001b[38;5;28mself\u001b[39m\u001b[38;5;241m.\u001b[39m_fix_sentence_endings(chunks)\n",
      "File \u001b[1;32mc:\\Users\\lenovo\\miniconda3\\Lib\\textwrap.py:342\u001b[0m, in \u001b[0;36mTextWrapper._split_chunks\u001b[1;34m(self, text)\u001b[0m\n\u001b[0;32m    341\u001b[0m \u001b[38;5;28;01mdef\u001b[39;00m \u001b[38;5;21m_split_chunks\u001b[39m(\u001b[38;5;28mself\u001b[39m, text):\n\u001b[1;32m--> 342\u001b[0m     text \u001b[38;5;241m=\u001b[39m \u001b[38;5;28;43mself\u001b[39;49m\u001b[38;5;241;43m.\u001b[39;49m\u001b[43m_munge_whitespace\u001b[49m\u001b[43m(\u001b[49m\u001b[43mtext\u001b[49m\u001b[43m)\u001b[49m\n\u001b[0;32m    343\u001b[0m     \u001b[38;5;28;01mreturn\u001b[39;00m \u001b[38;5;28mself\u001b[39m\u001b[38;5;241m.\u001b[39m_split(text)\n",
      "File \u001b[1;32mc:\\Users\\lenovo\\miniconda3\\Lib\\textwrap.py:151\u001b[0m, in \u001b[0;36mTextWrapper._munge_whitespace\u001b[1;34m(self, text)\u001b[0m\n\u001b[0;32m    144\u001b[0m \u001b[38;5;250m\u001b[39m\u001b[38;5;124;03m\"\"\"_munge_whitespace(text : string) -> string\u001b[39;00m\n\u001b[0;32m    145\u001b[0m \n\u001b[0;32m    146\u001b[0m \u001b[38;5;124;03mMunge whitespace in text: expand tabs and convert all other\u001b[39;00m\n\u001b[0;32m    147\u001b[0m \u001b[38;5;124;03mwhitespace characters to spaces.  Eg. \" foo\\\\tbar\\\\n\\\\nbaz\"\u001b[39;00m\n\u001b[0;32m    148\u001b[0m \u001b[38;5;124;03mbecomes \" foo    bar  baz\".\u001b[39;00m\n\u001b[0;32m    149\u001b[0m \u001b[38;5;124;03m\"\"\"\u001b[39;00m\n\u001b[0;32m    150\u001b[0m \u001b[38;5;28;01mif\u001b[39;00m \u001b[38;5;28mself\u001b[39m\u001b[38;5;241m.\u001b[39mexpand_tabs:\n\u001b[1;32m--> 151\u001b[0m     text \u001b[38;5;241m=\u001b[39m \u001b[43mtext\u001b[49m\u001b[38;5;241;43m.\u001b[39;49m\u001b[43mexpandtabs\u001b[49m(\u001b[38;5;28mself\u001b[39m\u001b[38;5;241m.\u001b[39mtabsize)\n\u001b[0;32m    152\u001b[0m \u001b[38;5;28;01mif\u001b[39;00m \u001b[38;5;28mself\u001b[39m\u001b[38;5;241m.\u001b[39mreplace_whitespace:\n\u001b[0;32m    153\u001b[0m     text \u001b[38;5;241m=\u001b[39m text\u001b[38;5;241m.\u001b[39mtranslate(\u001b[38;5;28mself\u001b[39m\u001b[38;5;241m.\u001b[39municode_whitespace_trans)\n",
      "\u001b[1;31mAttributeError\u001b[0m: 'float' object has no attribute 'expandtabs'"
     ]
    }
   ],
   "source": [
    "# Box Plot – Salary Ranges by Job Function\n",
    "fig1 = px.box(df, x='Job function', y='avg_salary', points='all',\n",
    "              title='Salary Ranges by Job Function',\n",
    "              color='Job function')\n",
    "fig1.update_layout(xaxis_tickangle=-45, yaxis_title='Average Salary')\n",
    "fig1.show()"
   ]
  },
  {
   "cell_type": "code",
   "execution_count": 12,
   "id": "f358529b",
   "metadata": {},
   "outputs": [
    {
     "data": {
      "application/vnd.plotly.v1+json": {
       "config": {
        "plotlyServerURL": "https://plot.ly"
       },
       "data": [
        {
         "alignmentgroup": "True",
         "box": {
          "visible": true
         },
         "hovertemplate": "Seniority level=%{x}<br>avg_salary=%{y}<extra></extra>",
         "legendgroup": "Mid-Senior level",
         "marker": {
          "color": "#1f77b4"
         },
         "name": "Mid-Senior level",
         "offsetgroup": "Mid-Senior level",
         "orientation": "v",
         "points": "outliers",
         "scalegroup": "True",
         "showlegend": true,
         "type": "violin",
         "x": [
          "Mid-Senior level",
          "Mid-Senior level",
          "Mid-Senior level",
          "Mid-Senior level",
          "Mid-Senior level",
          "Mid-Senior level",
          "Mid-Senior level",
          "Mid-Senior level",
          "Mid-Senior level",
          "Mid-Senior level",
          "Mid-Senior level",
          "Mid-Senior level",
          "Mid-Senior level",
          "Mid-Senior level",
          "Mid-Senior level",
          "Mid-Senior level",
          "Mid-Senior level",
          "Mid-Senior level",
          "Mid-Senior level",
          "Mid-Senior level",
          "Mid-Senior level",
          "Mid-Senior level",
          "Mid-Senior level",
          "Mid-Senior level",
          "Mid-Senior level",
          "Mid-Senior level",
          "Mid-Senior level",
          "Mid-Senior level",
          "Mid-Senior level",
          "Mid-Senior level",
          "Mid-Senior level",
          "Mid-Senior level",
          "Mid-Senior level",
          "Mid-Senior level",
          "Mid-Senior level",
          "Mid-Senior level",
          "Mid-Senior level",
          "Mid-Senior level",
          "Mid-Senior level",
          "Mid-Senior level",
          "Mid-Senior level",
          "Mid-Senior level",
          "Mid-Senior level",
          "Mid-Senior level",
          "Mid-Senior level",
          "Mid-Senior level",
          "Mid-Senior level",
          "Mid-Senior level",
          "Mid-Senior level",
          "Mid-Senior level",
          "Mid-Senior level",
          "Mid-Senior level",
          "Mid-Senior level",
          "Mid-Senior level",
          "Mid-Senior level",
          "Mid-Senior level",
          "Mid-Senior level",
          "Mid-Senior level",
          "Mid-Senior level",
          "Mid-Senior level",
          "Mid-Senior level",
          "Mid-Senior level",
          "Mid-Senior level",
          "Mid-Senior level",
          "Mid-Senior level",
          "Mid-Senior level",
          "Mid-Senior level",
          "Mid-Senior level",
          "Mid-Senior level",
          "Mid-Senior level",
          "Mid-Senior level",
          "Mid-Senior level",
          "Mid-Senior level",
          "Mid-Senior level",
          "Mid-Senior level",
          "Mid-Senior level",
          "Mid-Senior level",
          "Mid-Senior level",
          "Mid-Senior level",
          "Mid-Senior level",
          "Mid-Senior level",
          "Mid-Senior level",
          "Mid-Senior level",
          "Mid-Senior level",
          "Mid-Senior level",
          "Mid-Senior level",
          "Mid-Senior level",
          "Mid-Senior level",
          "Mid-Senior level",
          "Mid-Senior level",
          "Mid-Senior level",
          "Mid-Senior level",
          "Mid-Senior level",
          "Mid-Senior level",
          "Mid-Senior level",
          "Mid-Senior level",
          "Mid-Senior level",
          "Mid-Senior level",
          "Mid-Senior level",
          "Mid-Senior level",
          "Mid-Senior level",
          "Mid-Senior level",
          "Mid-Senior level",
          "Mid-Senior level",
          "Mid-Senior level",
          "Mid-Senior level",
          "Mid-Senior level",
          "Mid-Senior level",
          "Mid-Senior level",
          "Mid-Senior level",
          "Mid-Senior level",
          "Mid-Senior level",
          "Mid-Senior level",
          "Mid-Senior level",
          "Mid-Senior level",
          "Mid-Senior level",
          "Mid-Senior level",
          "Mid-Senior level",
          "Mid-Senior level",
          "Mid-Senior level",
          "Mid-Senior level",
          "Mid-Senior level",
          "Mid-Senior level",
          "Mid-Senior level",
          "Mid-Senior level",
          "Mid-Senior level",
          "Mid-Senior level",
          "Mid-Senior level",
          "Mid-Senior level",
          "Mid-Senior level",
          "Mid-Senior level",
          "Mid-Senior level",
          "Mid-Senior level",
          "Mid-Senior level",
          "Mid-Senior level",
          "Mid-Senior level",
          "Mid-Senior level",
          "Mid-Senior level",
          "Mid-Senior level",
          "Mid-Senior level",
          "Mid-Senior level",
          "Mid-Senior level",
          "Mid-Senior level",
          "Mid-Senior level",
          "Mid-Senior level",
          "Mid-Senior level",
          "Mid-Senior level",
          "Mid-Senior level",
          "Mid-Senior level",
          "Mid-Senior level",
          "Mid-Senior level",
          "Mid-Senior level",
          "Mid-Senior level",
          "Mid-Senior level",
          "Mid-Senior level",
          "Mid-Senior level",
          "Mid-Senior level",
          "Mid-Senior level",
          "Mid-Senior level",
          "Mid-Senior level",
          "Mid-Senior level",
          "Mid-Senior level",
          "Mid-Senior level",
          "Mid-Senior level",
          "Mid-Senior level",
          "Mid-Senior level",
          "Mid-Senior level",
          "Mid-Senior level",
          "Mid-Senior level",
          "Mid-Senior level",
          "Mid-Senior level",
          "Mid-Senior level",
          "Mid-Senior level",
          "Mid-Senior level",
          "Mid-Senior level",
          "Mid-Senior level",
          "Mid-Senior level",
          "Mid-Senior level",
          "Mid-Senior level",
          "Mid-Senior level",
          "Mid-Senior level",
          "Mid-Senior level",
          "Mid-Senior level",
          "Mid-Senior level",
          "Mid-Senior level",
          "Mid-Senior level",
          "Mid-Senior level",
          "Mid-Senior level",
          "Mid-Senior level",
          "Mid-Senior level",
          "Mid-Senior level",
          "Mid-Senior level",
          "Mid-Senior level",
          "Mid-Senior level",
          "Mid-Senior level",
          "Mid-Senior level",
          "Mid-Senior level",
          "Mid-Senior level",
          "Mid-Senior level",
          "Mid-Senior level",
          "Mid-Senior level",
          "Mid-Senior level",
          "Mid-Senior level",
          "Mid-Senior level",
          "Mid-Senior level",
          "Mid-Senior level",
          "Mid-Senior level",
          "Mid-Senior level",
          "Mid-Senior level",
          "Mid-Senior level",
          "Mid-Senior level",
          "Mid-Senior level",
          "Mid-Senior level",
          "Mid-Senior level",
          "Mid-Senior level",
          "Mid-Senior level",
          "Mid-Senior level",
          "Mid-Senior level",
          "Mid-Senior level",
          "Mid-Senior level",
          "Mid-Senior level",
          "Mid-Senior level",
          "Mid-Senior level",
          "Mid-Senior level",
          "Mid-Senior level",
          "Mid-Senior level",
          "Mid-Senior level",
          "Mid-Senior level",
          "Mid-Senior level",
          "Mid-Senior level",
          "Mid-Senior level",
          "Mid-Senior level",
          "Mid-Senior level",
          "Mid-Senior level",
          "Mid-Senior level",
          "Mid-Senior level",
          "Mid-Senior level",
          "Mid-Senior level",
          "Mid-Senior level",
          "Mid-Senior level",
          "Mid-Senior level",
          "Mid-Senior level",
          "Mid-Senior level",
          "Mid-Senior level",
          "Mid-Senior level",
          "Mid-Senior level",
          "Mid-Senior level",
          "Mid-Senior level",
          "Mid-Senior level",
          "Mid-Senior level",
          "Mid-Senior level",
          "Mid-Senior level",
          "Mid-Senior level",
          "Mid-Senior level",
          "Mid-Senior level",
          "Mid-Senior level",
          "Mid-Senior level",
          "Mid-Senior level",
          "Mid-Senior level",
          "Mid-Senior level",
          "Mid-Senior level",
          "Mid-Senior level",
          "Mid-Senior level",
          "Mid-Senior level",
          "Mid-Senior level",
          "Mid-Senior level",
          "Mid-Senior level",
          "Mid-Senior level",
          "Mid-Senior level",
          "Mid-Senior level",
          "Mid-Senior level",
          "Mid-Senior level",
          "Mid-Senior level",
          "Mid-Senior level",
          "Mid-Senior level",
          "Mid-Senior level",
          "Mid-Senior level",
          "Mid-Senior level",
          "Mid-Senior level",
          "Mid-Senior level",
          "Mid-Senior level",
          "Mid-Senior level",
          "Mid-Senior level",
          "Mid-Senior level",
          "Mid-Senior level",
          "Mid-Senior level",
          "Mid-Senior level",
          "Mid-Senior level",
          "Mid-Senior level",
          "Mid-Senior level",
          "Mid-Senior level",
          "Mid-Senior level",
          "Mid-Senior level",
          "Mid-Senior level",
          "Mid-Senior level",
          "Mid-Senior level",
          "Mid-Senior level",
          "Mid-Senior level",
          "Mid-Senior level",
          "Mid-Senior level",
          "Mid-Senior level",
          "Mid-Senior level",
          "Mid-Senior level",
          "Mid-Senior level",
          "Mid-Senior level",
          "Mid-Senior level",
          "Mid-Senior level",
          "Mid-Senior level",
          "Mid-Senior level",
          "Mid-Senior level",
          "Mid-Senior level",
          "Mid-Senior level",
          "Mid-Senior level",
          "Mid-Senior level",
          "Mid-Senior level",
          "Mid-Senior level",
          "Mid-Senior level",
          "Mid-Senior level",
          "Mid-Senior level",
          "Mid-Senior level",
          "Mid-Senior level",
          "Mid-Senior level",
          "Mid-Senior level",
          "Mid-Senior level",
          "Mid-Senior level",
          "Mid-Senior level",
          "Mid-Senior level",
          "Mid-Senior level",
          "Mid-Senior level",
          "Mid-Senior level",
          "Mid-Senior level",
          "Mid-Senior level",
          "Mid-Senior level",
          "Mid-Senior level",
          "Mid-Senior level",
          "Mid-Senior level",
          "Mid-Senior level",
          "Mid-Senior level",
          "Mid-Senior level",
          "Mid-Senior level",
          "Mid-Senior level",
          "Mid-Senior level",
          "Mid-Senior level",
          "Mid-Senior level",
          "Mid-Senior level",
          "Mid-Senior level",
          "Mid-Senior level",
          "Mid-Senior level",
          "Mid-Senior level",
          "Mid-Senior level",
          "Mid-Senior level",
          "Mid-Senior level",
          "Mid-Senior level",
          "Mid-Senior level",
          "Mid-Senior level",
          "Mid-Senior level",
          "Mid-Senior level",
          "Mid-Senior level",
          "Mid-Senior level",
          "Mid-Senior level",
          "Mid-Senior level",
          "Mid-Senior level",
          "Mid-Senior level",
          "Mid-Senior level",
          "Mid-Senior level",
          "Mid-Senior level",
          "Mid-Senior level",
          "Mid-Senior level",
          "Mid-Senior level",
          "Mid-Senior level",
          "Mid-Senior level",
          "Mid-Senior level",
          "Mid-Senior level",
          "Mid-Senior level",
          "Mid-Senior level",
          "Mid-Senior level",
          "Mid-Senior level",
          "Mid-Senior level",
          "Mid-Senior level",
          "Mid-Senior level",
          "Mid-Senior level",
          "Mid-Senior level",
          "Mid-Senior level",
          "Mid-Senior level",
          "Mid-Senior level",
          "Mid-Senior level",
          "Mid-Senior level",
          "Mid-Senior level",
          "Mid-Senior level",
          "Mid-Senior level",
          "Mid-Senior level",
          "Mid-Senior level",
          "Mid-Senior level",
          "Mid-Senior level",
          "Mid-Senior level",
          "Mid-Senior level",
          "Mid-Senior level",
          "Mid-Senior level",
          "Mid-Senior level",
          "Mid-Senior level",
          "Mid-Senior level",
          "Mid-Senior level",
          "Mid-Senior level",
          "Mid-Senior level",
          "Mid-Senior level",
          "Mid-Senior level",
          "Mid-Senior level",
          "Mid-Senior level",
          "Mid-Senior level",
          "Mid-Senior level",
          "Mid-Senior level",
          "Mid-Senior level",
          "Mid-Senior level",
          "Mid-Senior level",
          "Mid-Senior level",
          "Mid-Senior level",
          "Mid-Senior level",
          "Mid-Senior level",
          "Mid-Senior level",
          "Mid-Senior level",
          "Mid-Senior level",
          "Mid-Senior level",
          "Mid-Senior level",
          "Mid-Senior level",
          "Mid-Senior level",
          "Mid-Senior level",
          "Mid-Senior level",
          "Mid-Senior level",
          "Mid-Senior level",
          "Mid-Senior level",
          "Mid-Senior level",
          "Mid-Senior level",
          "Mid-Senior level",
          "Mid-Senior level",
          "Mid-Senior level",
          "Mid-Senior level",
          "Mid-Senior level",
          "Mid-Senior level",
          "Mid-Senior level",
          "Mid-Senior level",
          "Mid-Senior level",
          "Mid-Senior level",
          "Mid-Senior level",
          "Mid-Senior level",
          "Mid-Senior level",
          "Mid-Senior level",
          "Mid-Senior level",
          "Mid-Senior level",
          "Mid-Senior level",
          "Mid-Senior level",
          "Mid-Senior level",
          "Mid-Senior level",
          "Mid-Senior level",
          "Mid-Senior level",
          "Mid-Senior level",
          "Mid-Senior level",
          "Mid-Senior level",
          "Mid-Senior level",
          "Mid-Senior level",
          "Mid-Senior level",
          "Mid-Senior level",
          "Mid-Senior level",
          "Mid-Senior level",
          "Mid-Senior level",
          "Mid-Senior level",
          "Mid-Senior level",
          "Mid-Senior level",
          "Mid-Senior level",
          "Mid-Senior level",
          "Mid-Senior level",
          "Mid-Senior level",
          "Mid-Senior level",
          "Mid-Senior level",
          "Mid-Senior level",
          "Mid-Senior level",
          "Mid-Senior level",
          "Mid-Senior level",
          "Mid-Senior level",
          "Mid-Senior level",
          "Mid-Senior level",
          "Mid-Senior level",
          "Mid-Senior level",
          "Mid-Senior level",
          "Mid-Senior level",
          "Mid-Senior level",
          "Mid-Senior level",
          "Mid-Senior level",
          "Mid-Senior level",
          "Mid-Senior level",
          "Mid-Senior level",
          "Mid-Senior level",
          "Mid-Senior level",
          "Mid-Senior level",
          "Mid-Senior level",
          "Mid-Senior level",
          "Mid-Senior level",
          "Mid-Senior level",
          "Mid-Senior level",
          "Mid-Senior level",
          "Mid-Senior level",
          "Mid-Senior level",
          "Mid-Senior level",
          "Mid-Senior level",
          "Mid-Senior level",
          "Mid-Senior level",
          "Mid-Senior level",
          "Mid-Senior level",
          "Mid-Senior level",
          "Mid-Senior level",
          "Mid-Senior level",
          "Mid-Senior level",
          "Mid-Senior level",
          "Mid-Senior level",
          "Mid-Senior level",
          "Mid-Senior level",
          "Mid-Senior level",
          "Mid-Senior level",
          "Mid-Senior level",
          "Mid-Senior level",
          "Mid-Senior level",
          "Mid-Senior level",
          "Mid-Senior level",
          "Mid-Senior level",
          "Mid-Senior level",
          "Mid-Senior level",
          "Mid-Senior level",
          "Mid-Senior level",
          "Mid-Senior level",
          "Mid-Senior level",
          "Mid-Senior level",
          "Mid-Senior level",
          "Mid-Senior level",
          "Mid-Senior level",
          "Mid-Senior level",
          "Mid-Senior level",
          "Mid-Senior level",
          "Mid-Senior level",
          "Mid-Senior level",
          "Mid-Senior level",
          "Mid-Senior level",
          "Mid-Senior level",
          "Mid-Senior level",
          "Mid-Senior level",
          "Mid-Senior level",
          "Mid-Senior level",
          "Mid-Senior level",
          "Mid-Senior level",
          "Mid-Senior level",
          "Mid-Senior level",
          "Mid-Senior level",
          "Mid-Senior level",
          "Mid-Senior level",
          "Mid-Senior level",
          "Mid-Senior level",
          "Mid-Senior level",
          "Mid-Senior level",
          "Mid-Senior level",
          "Mid-Senior level",
          "Mid-Senior level",
          "Mid-Senior level",
          "Mid-Senior level",
          "Mid-Senior level",
          "Mid-Senior level",
          "Mid-Senior level",
          "Mid-Senior level",
          "Mid-Senior level",
          "Mid-Senior level",
          "Mid-Senior level",
          "Mid-Senior level",
          "Mid-Senior level",
          "Mid-Senior level",
          "Mid-Senior level",
          "Mid-Senior level",
          "Mid-Senior level",
          "Mid-Senior level",
          "Mid-Senior level",
          "Mid-Senior level",
          "Mid-Senior level",
          "Mid-Senior level",
          "Mid-Senior level",
          "Mid-Senior level",
          "Mid-Senior level",
          "Mid-Senior level",
          "Mid-Senior level",
          "Mid-Senior level",
          "Mid-Senior level",
          "Mid-Senior level",
          "Mid-Senior level",
          "Mid-Senior level",
          "Mid-Senior level",
          "Mid-Senior level",
          "Mid-Senior level",
          "Mid-Senior level",
          "Mid-Senior level",
          "Mid-Senior level",
          "Mid-Senior level",
          "Mid-Senior level",
          "Mid-Senior level",
          "Mid-Senior level",
          "Mid-Senior level",
          "Mid-Senior level",
          "Mid-Senior level",
          "Mid-Senior level",
          "Mid-Senior level",
          "Mid-Senior level",
          "Mid-Senior level",
          "Mid-Senior level",
          "Mid-Senior level",
          "Mid-Senior level",
          "Mid-Senior level",
          "Mid-Senior level",
          "Mid-Senior level",
          "Mid-Senior level",
          "Mid-Senior level",
          "Mid-Senior level",
          "Mid-Senior level",
          "Mid-Senior level",
          "Mid-Senior level",
          "Mid-Senior level",
          "Mid-Senior level",
          "Mid-Senior level",
          "Mid-Senior level",
          "Mid-Senior level",
          "Mid-Senior level",
          "Mid-Senior level",
          "Mid-Senior level",
          "Mid-Senior level",
          "Mid-Senior level",
          "Mid-Senior level",
          "Mid-Senior level",
          "Mid-Senior level",
          "Mid-Senior level",
          "Mid-Senior level",
          "Mid-Senior level",
          "Mid-Senior level",
          "Mid-Senior level",
          "Mid-Senior level",
          "Mid-Senior level",
          "Mid-Senior level",
          "Mid-Senior level",
          "Mid-Senior level",
          "Mid-Senior level",
          "Mid-Senior level",
          "Mid-Senior level",
          "Mid-Senior level",
          "Mid-Senior level",
          "Mid-Senior level",
          "Mid-Senior level",
          "Mid-Senior level",
          "Mid-Senior level",
          "Mid-Senior level",
          "Mid-Senior level",
          "Mid-Senior level",
          "Mid-Senior level",
          "Mid-Senior level",
          "Mid-Senior level",
          "Mid-Senior level",
          "Mid-Senior level",
          "Mid-Senior level",
          "Mid-Senior level",
          "Mid-Senior level",
          "Mid-Senior level",
          "Mid-Senior level",
          "Mid-Senior level",
          "Mid-Senior level",
          "Mid-Senior level",
          "Mid-Senior level",
          "Mid-Senior level",
          "Mid-Senior level",
          "Mid-Senior level",
          "Mid-Senior level",
          "Mid-Senior level",
          "Mid-Senior level",
          "Mid-Senior level",
          "Mid-Senior level",
          "Mid-Senior level",
          "Mid-Senior level",
          "Mid-Senior level",
          "Mid-Senior level",
          "Mid-Senior level",
          "Mid-Senior level",
          "Mid-Senior level",
          "Mid-Senior level",
          "Mid-Senior level",
          "Mid-Senior level",
          "Mid-Senior level",
          "Mid-Senior level",
          "Mid-Senior level",
          "Mid-Senior level",
          "Mid-Senior level",
          "Mid-Senior level",
          "Mid-Senior level",
          "Mid-Senior level",
          "Mid-Senior level",
          "Mid-Senior level",
          "Mid-Senior level",
          "Mid-Senior level",
          "Mid-Senior level",
          "Mid-Senior level",
          "Mid-Senior level",
          "Mid-Senior level",
          "Mid-Senior level",
          "Mid-Senior level",
          "Mid-Senior level",
          "Mid-Senior level",
          "Mid-Senior level",
          "Mid-Senior level",
          "Mid-Senior level",
          "Mid-Senior level",
          "Mid-Senior level",
          "Mid-Senior level",
          "Mid-Senior level",
          "Mid-Senior level",
          "Mid-Senior level",
          "Mid-Senior level",
          "Mid-Senior level",
          "Mid-Senior level",
          "Mid-Senior level",
          "Mid-Senior level",
          "Mid-Senior level",
          "Mid-Senior level",
          "Mid-Senior level",
          "Mid-Senior level",
          "Mid-Senior level",
          "Mid-Senior level",
          "Mid-Senior level",
          "Mid-Senior level",
          "Mid-Senior level",
          "Mid-Senior level",
          "Mid-Senior level",
          "Mid-Senior level",
          "Mid-Senior level",
          "Mid-Senior level",
          "Mid-Senior level",
          "Mid-Senior level",
          "Mid-Senior level",
          "Mid-Senior level",
          "Mid-Senior level",
          "Mid-Senior level",
          "Mid-Senior level",
          "Mid-Senior level",
          "Mid-Senior level",
          "Mid-Senior level",
          "Mid-Senior level",
          "Mid-Senior level",
          "Mid-Senior level",
          "Mid-Senior level",
          "Mid-Senior level",
          "Mid-Senior level",
          "Mid-Senior level",
          "Mid-Senior level",
          "Mid-Senior level",
          "Mid-Senior level",
          "Mid-Senior level",
          "Mid-Senior level",
          "Mid-Senior level",
          "Mid-Senior level",
          "Mid-Senior level",
          "Mid-Senior level",
          "Mid-Senior level",
          "Mid-Senior level",
          "Mid-Senior level",
          "Mid-Senior level",
          "Mid-Senior level",
          "Mid-Senior level",
          "Mid-Senior level",
          "Mid-Senior level",
          "Mid-Senior level",
          "Mid-Senior level",
          "Mid-Senior level",
          "Mid-Senior level",
          "Mid-Senior level",
          "Mid-Senior level",
          "Mid-Senior level",
          "Mid-Senior level",
          "Mid-Senior level",
          "Mid-Senior level",
          "Mid-Senior level",
          "Mid-Senior level",
          "Mid-Senior level",
          "Mid-Senior level",
          "Mid-Senior level",
          "Mid-Senior level",
          "Mid-Senior level",
          "Mid-Senior level",
          "Mid-Senior level",
          "Mid-Senior level",
          "Mid-Senior level",
          "Mid-Senior level",
          "Mid-Senior level",
          "Mid-Senior level",
          "Mid-Senior level",
          "Mid-Senior level",
          "Mid-Senior level",
          "Mid-Senior level",
          "Mid-Senior level",
          "Mid-Senior level",
          "Mid-Senior level",
          "Mid-Senior level",
          "Mid-Senior level",
          "Mid-Senior level",
          "Mid-Senior level",
          "Mid-Senior level",
          "Mid-Senior level",
          "Mid-Senior level",
          "Mid-Senior level",
          "Mid-Senior level",
          "Mid-Senior level",
          "Mid-Senior level",
          "Mid-Senior level",
          "Mid-Senior level",
          "Mid-Senior level",
          "Mid-Senior level",
          "Mid-Senior level",
          "Mid-Senior level",
          "Mid-Senior level",
          "Mid-Senior level",
          "Mid-Senior level",
          "Mid-Senior level",
          "Mid-Senior level",
          "Mid-Senior level",
          "Mid-Senior level",
          "Mid-Senior level",
          "Mid-Senior level",
          "Mid-Senior level",
          "Mid-Senior level",
          "Mid-Senior level",
          "Mid-Senior level",
          "Mid-Senior level",
          "Mid-Senior level",
          "Mid-Senior level",
          "Mid-Senior level",
          "Mid-Senior level",
          "Mid-Senior level",
          "Mid-Senior level",
          "Mid-Senior level",
          "Mid-Senior level",
          "Mid-Senior level",
          "Mid-Senior level",
          "Mid-Senior level",
          "Mid-Senior level",
          "Mid-Senior level",
          "Mid-Senior level",
          "Mid-Senior level",
          "Mid-Senior level",
          "Mid-Senior level",
          "Mid-Senior level",
          "Mid-Senior level",
          "Mid-Senior level",
          "Mid-Senior level",
          "Mid-Senior level",
          "Mid-Senior level",
          "Mid-Senior level",
          "Mid-Senior level",
          "Mid-Senior level",
          "Mid-Senior level",
          "Mid-Senior level",
          "Mid-Senior level",
          "Mid-Senior level",
          "Mid-Senior level",
          "Mid-Senior level",
          "Mid-Senior level",
          "Mid-Senior level",
          "Mid-Senior level",
          "Mid-Senior level",
          "Mid-Senior level",
          "Mid-Senior level",
          "Mid-Senior level",
          "Mid-Senior level",
          "Mid-Senior level",
          "Mid-Senior level",
          "Mid-Senior level",
          "Mid-Senior level",
          "Mid-Senior level",
          "Mid-Senior level",
          "Mid-Senior level",
          "Mid-Senior level",
          "Mid-Senior level",
          "Mid-Senior level",
          "Mid-Senior level",
          "Mid-Senior level",
          "Mid-Senior level",
          "Mid-Senior level",
          "Mid-Senior level",
          "Mid-Senior level",
          "Mid-Senior level",
          "Mid-Senior level",
          "Mid-Senior level",
          "Mid-Senior level",
          "Mid-Senior level",
          "Mid-Senior level",
          "Mid-Senior level",
          "Mid-Senior level",
          "Mid-Senior level",
          "Mid-Senior level",
          "Mid-Senior level",
          "Mid-Senior level",
          "Mid-Senior level",
          "Mid-Senior level",
          "Mid-Senior level",
          "Mid-Senior level",
          "Mid-Senior level",
          "Mid-Senior level",
          "Mid-Senior level",
          "Mid-Senior level",
          "Mid-Senior level",
          "Mid-Senior level",
          "Mid-Senior level",
          "Mid-Senior level",
          "Mid-Senior level",
          "Mid-Senior level",
          "Mid-Senior level",
          "Mid-Senior level",
          "Mid-Senior level",
          "Mid-Senior level",
          "Mid-Senior level",
          "Mid-Senior level",
          "Mid-Senior level",
          "Mid-Senior level",
          "Mid-Senior level",
          "Mid-Senior level",
          "Mid-Senior level",
          "Mid-Senior level",
          "Mid-Senior level",
          "Mid-Senior level",
          "Mid-Senior level",
          "Mid-Senior level",
          "Mid-Senior level",
          "Mid-Senior level",
          "Mid-Senior level",
          "Mid-Senior level",
          "Mid-Senior level",
          "Mid-Senior level",
          "Mid-Senior level",
          "Mid-Senior level",
          "Mid-Senior level",
          "Mid-Senior level",
          "Mid-Senior level",
          "Mid-Senior level",
          "Mid-Senior level",
          "Mid-Senior level",
          "Mid-Senior level",
          "Mid-Senior level",
          "Mid-Senior level",
          "Mid-Senior level",
          "Mid-Senior level",
          "Mid-Senior level",
          "Mid-Senior level",
          "Mid-Senior level",
          "Mid-Senior level",
          "Mid-Senior level",
          "Mid-Senior level",
          "Mid-Senior level",
          "Mid-Senior level",
          "Mid-Senior level",
          "Mid-Senior level",
          "Mid-Senior level",
          "Mid-Senior level",
          "Mid-Senior level",
          "Mid-Senior level",
          "Mid-Senior level",
          "Mid-Senior level",
          "Mid-Senior level",
          "Mid-Senior level",
          "Mid-Senior level",
          "Mid-Senior level",
          "Mid-Senior level",
          "Mid-Senior level",
          "Mid-Senior level",
          "Mid-Senior level",
          "Mid-Senior level",
          "Mid-Senior level",
          "Mid-Senior level",
          "Mid-Senior level",
          "Mid-Senior level",
          "Mid-Senior level",
          "Mid-Senior level",
          "Mid-Senior level",
          "Mid-Senior level",
          "Mid-Senior level",
          "Mid-Senior level",
          "Mid-Senior level",
          "Mid-Senior level",
          "Mid-Senior level",
          "Mid-Senior level",
          "Mid-Senior level",
          "Mid-Senior level",
          "Mid-Senior level",
          "Mid-Senior level",
          "Mid-Senior level",
          "Mid-Senior level",
          "Mid-Senior level",
          "Mid-Senior level",
          "Mid-Senior level",
          "Mid-Senior level",
          "Mid-Senior level",
          "Mid-Senior level",
          "Mid-Senior level",
          "Mid-Senior level",
          "Mid-Senior level",
          "Mid-Senior level",
          "Mid-Senior level",
          "Mid-Senior level",
          "Mid-Senior level",
          "Mid-Senior level",
          "Mid-Senior level",
          "Mid-Senior level",
          "Mid-Senior level",
          "Mid-Senior level",
          "Mid-Senior level",
          "Mid-Senior level",
          "Mid-Senior level",
          "Mid-Senior level",
          "Mid-Senior level",
          "Mid-Senior level",
          "Mid-Senior level",
          "Mid-Senior level",
          "Mid-Senior level",
          "Mid-Senior level",
          "Mid-Senior level",
          "Mid-Senior level",
          "Mid-Senior level",
          "Mid-Senior level",
          "Mid-Senior level",
          "Mid-Senior level",
          "Mid-Senior level",
          "Mid-Senior level",
          "Mid-Senior level",
          "Mid-Senior level",
          "Mid-Senior level",
          "Mid-Senior level",
          "Mid-Senior level",
          "Mid-Senior level",
          "Mid-Senior level",
          "Mid-Senior level",
          "Mid-Senior level",
          "Mid-Senior level",
          "Mid-Senior level",
          "Mid-Senior level",
          "Mid-Senior level",
          "Mid-Senior level",
          "Mid-Senior level",
          "Mid-Senior level",
          "Mid-Senior level",
          "Mid-Senior level",
          "Mid-Senior level",
          "Mid-Senior level",
          "Mid-Senior level",
          "Mid-Senior level",
          "Mid-Senior level",
          "Mid-Senior level",
          "Mid-Senior level",
          "Mid-Senior level",
          "Mid-Senior level",
          "Mid-Senior level",
          "Mid-Senior level",
          "Mid-Senior level",
          "Mid-Senior level",
          "Mid-Senior level",
          "Mid-Senior level",
          "Mid-Senior level",
          "Mid-Senior level",
          "Mid-Senior level",
          "Mid-Senior level",
          "Mid-Senior level",
          "Mid-Senior level",
          "Mid-Senior level",
          "Mid-Senior level",
          "Mid-Senior level",
          "Mid-Senior level",
          "Mid-Senior level",
          "Mid-Senior level",
          "Mid-Senior level",
          "Mid-Senior level",
          "Mid-Senior level",
          "Mid-Senior level",
          "Mid-Senior level",
          "Mid-Senior level",
          "Mid-Senior level",
          "Mid-Senior level",
          "Mid-Senior level",
          "Mid-Senior level",
          "Mid-Senior level",
          "Mid-Senior level",
          "Mid-Senior level",
          "Mid-Senior level",
          "Mid-Senior level",
          "Mid-Senior level",
          "Mid-Senior level",
          "Mid-Senior level",
          "Mid-Senior level",
          "Mid-Senior level",
          "Mid-Senior level",
          "Mid-Senior level",
          "Mid-Senior level",
          "Mid-Senior level",
          "Mid-Senior level",
          "Mid-Senior level",
          "Mid-Senior level",
          "Mid-Senior level",
          "Mid-Senior level",
          "Mid-Senior level",
          "Mid-Senior level",
          "Mid-Senior level",
          "Mid-Senior level",
          "Mid-Senior level",
          "Mid-Senior level",
          "Mid-Senior level",
          "Mid-Senior level",
          "Mid-Senior level",
          "Mid-Senior level",
          "Mid-Senior level",
          "Mid-Senior level",
          "Mid-Senior level",
          "Mid-Senior level",
          "Mid-Senior level",
          "Mid-Senior level",
          "Mid-Senior level",
          "Mid-Senior level",
          "Mid-Senior level",
          "Mid-Senior level",
          "Mid-Senior level",
          "Mid-Senior level",
          "Mid-Senior level",
          "Mid-Senior level",
          "Mid-Senior level",
          "Mid-Senior level",
          "Mid-Senior level",
          "Mid-Senior level",
          "Mid-Senior level",
          "Mid-Senior level",
          "Mid-Senior level",
          "Mid-Senior level",
          "Mid-Senior level",
          "Mid-Senior level",
          "Mid-Senior level",
          "Mid-Senior level",
          "Mid-Senior level",
          "Mid-Senior level",
          "Mid-Senior level",
          "Mid-Senior level",
          "Mid-Senior level",
          "Mid-Senior level",
          "Mid-Senior level",
          "Mid-Senior level",
          "Mid-Senior level",
          "Mid-Senior level",
          "Mid-Senior level",
          "Mid-Senior level",
          "Mid-Senior level",
          "Mid-Senior level",
          "Mid-Senior level",
          "Mid-Senior level",
          "Mid-Senior level",
          "Mid-Senior level",
          "Mid-Senior level",
          "Mid-Senior level",
          "Mid-Senior level",
          "Mid-Senior level",
          "Mid-Senior level",
          "Mid-Senior level",
          "Mid-Senior level",
          "Mid-Senior level",
          "Mid-Senior level",
          "Mid-Senior level",
          "Mid-Senior level",
          "Mid-Senior level",
          "Mid-Senior level",
          "Mid-Senior level",
          "Mid-Senior level",
          "Mid-Senior level",
          "Mid-Senior level",
          "Mid-Senior level",
          "Mid-Senior level",
          "Mid-Senior level",
          "Mid-Senior level",
          "Mid-Senior level",
          "Mid-Senior level",
          "Mid-Senior level",
          "Mid-Senior level",
          "Mid-Senior level",
          "Mid-Senior level",
          "Mid-Senior level",
          "Mid-Senior level",
          "Mid-Senior level",
          "Mid-Senior level",
          "Mid-Senior level",
          "Mid-Senior level",
          "Mid-Senior level",
          "Mid-Senior level",
          "Mid-Senior level",
          "Mid-Senior level",
          "Mid-Senior level",
          "Mid-Senior level",
          "Mid-Senior level",
          "Mid-Senior level",
          "Mid-Senior level",
          "Mid-Senior level",
          "Mid-Senior level",
          "Mid-Senior level",
          "Mid-Senior level",
          "Mid-Senior level",
          "Mid-Senior level",
          "Mid-Senior level",
          "Mid-Senior level",
          "Mid-Senior level",
          "Mid-Senior level",
          "Mid-Senior level",
          "Mid-Senior level",
          "Mid-Senior level",
          "Mid-Senior level",
          "Mid-Senior level",
          "Mid-Senior level",
          "Mid-Senior level",
          "Mid-Senior level",
          "Mid-Senior level",
          "Mid-Senior level",
          "Mid-Senior level",
          "Mid-Senior level",
          "Mid-Senior level",
          "Mid-Senior level",
          "Mid-Senior level",
          "Mid-Senior level",
          "Mid-Senior level",
          "Mid-Senior level",
          "Mid-Senior level",
          "Mid-Senior level",
          "Mid-Senior level",
          "Mid-Senior level",
          "Mid-Senior level",
          "Mid-Senior level",
          "Mid-Senior level",
          "Mid-Senior level",
          "Mid-Senior level",
          "Mid-Senior level",
          "Mid-Senior level",
          "Mid-Senior level",
          "Mid-Senior level",
          "Mid-Senior level",
          "Mid-Senior level",
          "Mid-Senior level",
          "Mid-Senior level",
          "Mid-Senior level",
          "Mid-Senior level",
          "Mid-Senior level",
          "Mid-Senior level",
          "Mid-Senior level",
          "Mid-Senior level",
          "Mid-Senior level",
          "Mid-Senior level",
          "Mid-Senior level",
          "Mid-Senior level",
          "Mid-Senior level",
          "Mid-Senior level",
          "Mid-Senior level",
          "Mid-Senior level",
          "Mid-Senior level",
          "Mid-Senior level",
          "Mid-Senior level",
          "Mid-Senior level",
          "Mid-Senior level",
          "Mid-Senior level",
          "Mid-Senior level",
          "Mid-Senior level",
          "Mid-Senior level",
          "Mid-Senior level",
          "Mid-Senior level",
          "Mid-Senior level",
          "Mid-Senior level",
          "Mid-Senior level",
          "Mid-Senior level",
          "Mid-Senior level",
          "Mid-Senior level",
          "Mid-Senior level",
          "Mid-Senior level",
          "Mid-Senior level",
          "Mid-Senior level",
          "Mid-Senior level",
          "Mid-Senior level",
          "Mid-Senior level",
          "Mid-Senior level",
          "Mid-Senior level",
          "Mid-Senior level",
          "Mid-Senior level",
          "Mid-Senior level",
          "Mid-Senior level",
          "Mid-Senior level",
          "Mid-Senior level",
          "Mid-Senior level",
          "Mid-Senior level",
          "Mid-Senior level",
          "Mid-Senior level",
          "Mid-Senior level",
          "Mid-Senior level",
          "Mid-Senior level",
          "Mid-Senior level",
          "Mid-Senior level",
          "Mid-Senior level",
          "Mid-Senior level",
          "Mid-Senior level",
          "Mid-Senior level",
          "Mid-Senior level",
          "Mid-Senior level",
          "Mid-Senior level",
          "Mid-Senior level",
          "Mid-Senior level",
          "Mid-Senior level",
          "Mid-Senior level",
          "Mid-Senior level",
          "Mid-Senior level",
          "Mid-Senior level",
          "Mid-Senior level",
          "Mid-Senior level",
          "Mid-Senior level",
          "Mid-Senior level",
          "Mid-Senior level",
          "Mid-Senior level",
          "Mid-Senior level",
          "Mid-Senior level",
          "Mid-Senior level",
          "Mid-Senior level",
          "Mid-Senior level",
          "Mid-Senior level",
          "Mid-Senior level",
          "Mid-Senior level",
          "Mid-Senior level",
          "Mid-Senior level",
          "Mid-Senior level",
          "Mid-Senior level",
          "Mid-Senior level",
          "Mid-Senior level",
          "Mid-Senior level",
          "Mid-Senior level",
          "Mid-Senior level",
          "Mid-Senior level",
          "Mid-Senior level",
          "Mid-Senior level",
          "Mid-Senior level",
          "Mid-Senior level",
          "Mid-Senior level",
          "Mid-Senior level",
          "Mid-Senior level",
          "Mid-Senior level",
          "Mid-Senior level",
          "Mid-Senior level",
          "Mid-Senior level",
          "Mid-Senior level",
          "Mid-Senior level",
          "Mid-Senior level",
          "Mid-Senior level",
          "Mid-Senior level",
          "Mid-Senior level",
          "Mid-Senior level",
          "Mid-Senior level",
          "Mid-Senior level",
          "Mid-Senior level",
          "Mid-Senior level",
          "Mid-Senior level",
          "Mid-Senior level",
          "Mid-Senior level",
          "Mid-Senior level",
          "Mid-Senior level",
          "Mid-Senior level",
          "Mid-Senior level",
          "Mid-Senior level",
          "Mid-Senior level",
          "Mid-Senior level",
          "Mid-Senior level",
          "Mid-Senior level",
          "Mid-Senior level",
          "Mid-Senior level",
          "Mid-Senior level",
          "Mid-Senior level",
          "Mid-Senior level",
          "Mid-Senior level",
          "Mid-Senior level",
          "Mid-Senior level",
          "Mid-Senior level",
          "Mid-Senior level",
          "Mid-Senior level",
          "Mid-Senior level",
          "Mid-Senior level",
          "Mid-Senior level",
          "Mid-Senior level",
          "Mid-Senior level",
          "Mid-Senior level",
          "Mid-Senior level",
          "Mid-Senior level",
          "Mid-Senior level",
          "Mid-Senior level",
          "Mid-Senior level",
          "Mid-Senior level",
          "Mid-Senior level",
          "Mid-Senior level",
          "Mid-Senior level",
          "Mid-Senior level",
          "Mid-Senior level",
          "Mid-Senior level",
          "Mid-Senior level",
          "Mid-Senior level",
          "Mid-Senior level",
          "Mid-Senior level",
          "Mid-Senior level",
          "Mid-Senior level",
          "Mid-Senior level",
          "Mid-Senior level",
          "Mid-Senior level",
          "Mid-Senior level",
          "Mid-Senior level",
          "Mid-Senior level",
          "Mid-Senior level",
          "Mid-Senior level",
          "Mid-Senior level",
          "Mid-Senior level",
          "Mid-Senior level",
          "Mid-Senior level",
          "Mid-Senior level",
          "Mid-Senior level",
          "Mid-Senior level",
          "Mid-Senior level",
          "Mid-Senior level",
          "Mid-Senior level",
          "Mid-Senior level",
          "Mid-Senior level",
          "Mid-Senior level",
          "Mid-Senior level",
          "Mid-Senior level",
          "Mid-Senior level",
          "Mid-Senior level",
          "Mid-Senior level",
          "Mid-Senior level",
          "Mid-Senior level",
          "Mid-Senior level",
          "Mid-Senior level",
          "Mid-Senior level",
          "Mid-Senior level",
          "Mid-Senior level",
          "Mid-Senior level",
          "Mid-Senior level",
          "Mid-Senior level",
          "Mid-Senior level",
          "Mid-Senior level",
          "Mid-Senior level",
          "Mid-Senior level",
          "Mid-Senior level",
          "Mid-Senior level",
          "Mid-Senior level",
          "Mid-Senior level",
          "Mid-Senior level",
          "Mid-Senior level",
          "Mid-Senior level",
          "Mid-Senior level",
          "Mid-Senior level",
          "Mid-Senior level",
          "Mid-Senior level",
          "Mid-Senior level",
          "Mid-Senior level",
          "Mid-Senior level",
          "Mid-Senior level",
          "Mid-Senior level",
          "Mid-Senior level",
          "Mid-Senior level",
          "Mid-Senior level",
          "Mid-Senior level",
          "Mid-Senior level",
          "Mid-Senior level",
          "Mid-Senior level",
          "Mid-Senior level",
          "Mid-Senior level",
          "Mid-Senior level",
          "Mid-Senior level",
          "Mid-Senior level",
          "Mid-Senior level",
          "Mid-Senior level",
          "Mid-Senior level",
          "Mid-Senior level",
          "Mid-Senior level",
          "Mid-Senior level",
          "Mid-Senior level",
          "Mid-Senior level",
          "Mid-Senior level",
          "Mid-Senior level",
          "Mid-Senior level",
          "Mid-Senior level",
          "Mid-Senior level",
          "Mid-Senior level",
          "Mid-Senior level",
          "Mid-Senior level",
          "Mid-Senior level",
          "Mid-Senior level",
          "Mid-Senior level",
          "Mid-Senior level",
          "Mid-Senior level",
          "Mid-Senior level",
          "Mid-Senior level",
          "Mid-Senior level",
          "Mid-Senior level",
          "Mid-Senior level",
          "Mid-Senior level",
          "Mid-Senior level",
          "Mid-Senior level",
          "Mid-Senior level",
          "Mid-Senior level",
          "Mid-Senior level",
          "Mid-Senior level",
          "Mid-Senior level",
          "Mid-Senior level",
          "Mid-Senior level",
          "Mid-Senior level",
          "Mid-Senior level",
          "Mid-Senior level",
          "Mid-Senior level",
          "Mid-Senior level",
          "Mid-Senior level",
          "Mid-Senior level",
          "Mid-Senior level",
          "Mid-Senior level",
          "Mid-Senior level",
          "Mid-Senior level",
          "Mid-Senior level",
          "Mid-Senior level",
          "Mid-Senior level",
          "Mid-Senior level",
          "Mid-Senior level",
          "Mid-Senior level",
          "Mid-Senior level",
          "Mid-Senior level",
          "Mid-Senior level",
          "Mid-Senior level",
          "Mid-Senior level",
          "Mid-Senior level",
          "Mid-Senior level",
          "Mid-Senior level",
          "Mid-Senior level",
          "Mid-Senior level",
          "Mid-Senior level",
          "Mid-Senior level",
          "Mid-Senior level",
          "Mid-Senior level",
          "Mid-Senior level",
          "Mid-Senior level",
          "Mid-Senior level",
          "Mid-Senior level",
          "Mid-Senior level",
          "Mid-Senior level",
          "Mid-Senior level",
          "Mid-Senior level",
          "Mid-Senior level",
          "Mid-Senior level",
          "Mid-Senior level",
          "Mid-Senior level",
          "Mid-Senior level",
          "Mid-Senior level",
          "Mid-Senior level",
          "Mid-Senior level",
          "Mid-Senior level",
          "Mid-Senior level",
          "Mid-Senior level",
          "Mid-Senior level",
          "Mid-Senior level",
          "Mid-Senior level",
          "Mid-Senior level",
          "Mid-Senior level",
          "Mid-Senior level",
          "Mid-Senior level",
          "Mid-Senior level",
          "Mid-Senior level",
          "Mid-Senior level",
          "Mid-Senior level",
          "Mid-Senior level",
          "Mid-Senior level",
          "Mid-Senior level",
          "Mid-Senior level",
          "Mid-Senior level",
          "Mid-Senior level",
          "Mid-Senior level",
          "Mid-Senior level",
          "Mid-Senior level",
          "Mid-Senior level",
          "Mid-Senior level",
          "Mid-Senior level",
          "Mid-Senior level",
          "Mid-Senior level",
          "Mid-Senior level",
          "Mid-Senior level",
          "Mid-Senior level",
          "Mid-Senior level",
          "Mid-Senior level",
          "Mid-Senior level",
          "Mid-Senior level",
          "Mid-Senior level",
          "Mid-Senior level",
          "Mid-Senior level",
          "Mid-Senior level",
          "Mid-Senior level",
          "Mid-Senior level",
          "Mid-Senior level",
          "Mid-Senior level",
          "Mid-Senior level",
          "Mid-Senior level",
          "Mid-Senior level",
          "Mid-Senior level",
          "Mid-Senior level",
          "Mid-Senior level",
          "Mid-Senior level",
          "Mid-Senior level",
          "Mid-Senior level",
          "Mid-Senior level",
          "Mid-Senior level",
          "Mid-Senior level",
          "Mid-Senior level",
          "Mid-Senior level",
          "Mid-Senior level",
          "Mid-Senior level",
          "Mid-Senior level",
          "Mid-Senior level",
          "Mid-Senior level",
          "Mid-Senior level",
          "Mid-Senior level",
          "Mid-Senior level",
          "Mid-Senior level",
          "Mid-Senior level",
          "Mid-Senior level",
          "Mid-Senior level",
          "Mid-Senior level",
          "Mid-Senior level",
          "Mid-Senior level",
          "Mid-Senior level",
          "Mid-Senior level",
          "Mid-Senior level",
          "Mid-Senior level",
          "Mid-Senior level",
          "Mid-Senior level",
          "Mid-Senior level",
          "Mid-Senior level",
          "Mid-Senior level",
          "Mid-Senior level",
          "Mid-Senior level",
          "Mid-Senior level",
          "Mid-Senior level",
          "Mid-Senior level",
          "Mid-Senior level",
          "Mid-Senior level",
          "Mid-Senior level",
          "Mid-Senior level",
          "Mid-Senior level",
          "Mid-Senior level",
          "Mid-Senior level",
          "Mid-Senior level",
          "Mid-Senior level",
          "Mid-Senior level",
          "Mid-Senior level",
          "Mid-Senior level",
          "Mid-Senior level",
          "Mid-Senior level",
          "Mid-Senior level",
          "Mid-Senior level",
          "Mid-Senior level",
          "Mid-Senior level",
          "Mid-Senior level",
          "Mid-Senior level",
          "Mid-Senior level",
          "Mid-Senior level",
          "Mid-Senior level",
          "Mid-Senior level",
          "Mid-Senior level",
          "Mid-Senior level",
          "Mid-Senior level",
          "Mid-Senior level",
          "Mid-Senior level",
          "Mid-Senior level",
          "Mid-Senior level",
          "Mid-Senior level",
          "Mid-Senior level",
          "Mid-Senior level",
          "Mid-Senior level",
          "Mid-Senior level",
          "Mid-Senior level",
          "Mid-Senior level",
          "Mid-Senior level",
          "Mid-Senior level",
          "Mid-Senior level",
          "Mid-Senior level",
          "Mid-Senior level",
          "Mid-Senior level",
          "Mid-Senior level",
          "Mid-Senior level",
          "Mid-Senior level",
          "Mid-Senior level",
          "Mid-Senior level",
          "Mid-Senior level",
          "Mid-Senior level",
          "Mid-Senior level",
          "Mid-Senior level",
          "Mid-Senior level",
          "Mid-Senior level",
          "Mid-Senior level",
          "Mid-Senior level",
          "Mid-Senior level",
          "Mid-Senior level",
          "Mid-Senior level",
          "Mid-Senior level",
          "Mid-Senior level",
          "Mid-Senior level",
          "Mid-Senior level",
          "Mid-Senior level",
          "Mid-Senior level",
          "Mid-Senior level",
          "Mid-Senior level",
          "Mid-Senior level",
          "Mid-Senior level",
          "Mid-Senior level",
          "Mid-Senior level",
          "Mid-Senior level",
          "Mid-Senior level",
          "Mid-Senior level",
          "Mid-Senior level",
          "Mid-Senior level",
          "Mid-Senior level",
          "Mid-Senior level",
          "Mid-Senior level",
          "Mid-Senior level",
          "Mid-Senior level",
          "Mid-Senior level",
          "Mid-Senior level",
          "Mid-Senior level",
          "Mid-Senior level",
          "Mid-Senior level",
          "Mid-Senior level",
          "Mid-Senior level",
          "Mid-Senior level",
          "Mid-Senior level",
          "Mid-Senior level",
          "Mid-Senior level",
          "Mid-Senior level",
          "Mid-Senior level",
          "Mid-Senior level",
          "Mid-Senior level",
          "Mid-Senior level",
          "Mid-Senior level",
          "Mid-Senior level",
          "Mid-Senior level",
          "Mid-Senior level",
          "Mid-Senior level",
          "Mid-Senior level",
          "Mid-Senior level",
          "Mid-Senior level",
          "Mid-Senior level",
          "Mid-Senior level",
          "Mid-Senior level",
          "Mid-Senior level",
          "Mid-Senior level",
          "Mid-Senior level",
          "Mid-Senior level",
          "Mid-Senior level",
          "Mid-Senior level",
          "Mid-Senior level",
          "Mid-Senior level",
          "Mid-Senior level",
          "Mid-Senior level",
          "Mid-Senior level",
          "Mid-Senior level",
          "Mid-Senior level",
          "Mid-Senior level",
          "Mid-Senior level",
          "Mid-Senior level",
          "Mid-Senior level",
          "Mid-Senior level",
          "Mid-Senior level",
          "Mid-Senior level",
          "Mid-Senior level",
          "Mid-Senior level",
          "Mid-Senior level",
          "Mid-Senior level",
          "Mid-Senior level",
          "Mid-Senior level",
          "Mid-Senior level",
          "Mid-Senior level",
          "Mid-Senior level",
          "Mid-Senior level",
          "Mid-Senior level",
          "Mid-Senior level",
          "Mid-Senior level",
          "Mid-Senior level",
          "Mid-Senior level",
          "Mid-Senior level",
          "Mid-Senior level",
          "Mid-Senior level",
          "Mid-Senior level",
          "Mid-Senior level",
          "Mid-Senior level",
          "Mid-Senior level",
          "Mid-Senior level",
          "Mid-Senior level",
          "Mid-Senior level",
          "Mid-Senior level",
          "Mid-Senior level",
          "Mid-Senior level",
          "Mid-Senior level",
          "Mid-Senior level",
          "Mid-Senior level",
          "Mid-Senior level"
         ],
         "x0": " ",
         "xaxis": "x",
         "y": {
          "bdata": "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",
          "dtype": "f8"
         },
         "y0": " ",
         "yaxis": "y"
        },
        {
         "alignmentgroup": "True",
         "box": {
          "visible": true
         },
         "hovertemplate": "Seniority level=%{x}<br>avg_salary=%{y}<extra></extra>",
         "legendgroup": "Not Applicable",
         "marker": {
          "color": "#ff7f0e"
         },
         "name": "Not Applicable",
         "offsetgroup": "Not Applicable",
         "orientation": "v",
         "points": "outliers",
         "scalegroup": "True",
         "showlegend": true,
         "type": "violin",
         "x": [
          "Not Applicable",
          "Not Applicable",
          "Not Applicable",
          "Not Applicable",
          "Not Applicable",
          "Not Applicable",
          "Not Applicable",
          "Not Applicable",
          "Not Applicable",
          "Not Applicable",
          "Not Applicable",
          "Not Applicable",
          "Not Applicable",
          "Not Applicable",
          "Not Applicable",
          "Not Applicable",
          "Not Applicable",
          "Not Applicable",
          "Not Applicable",
          "Not Applicable",
          "Not Applicable",
          "Not Applicable",
          "Not Applicable",
          "Not Applicable",
          "Not Applicable",
          "Not Applicable",
          "Not Applicable",
          "Not Applicable",
          "Not Applicable",
          "Not Applicable",
          "Not Applicable",
          "Not Applicable",
          "Not Applicable",
          "Not Applicable",
          "Not Applicable",
          "Not Applicable",
          "Not Applicable",
          "Not Applicable",
          "Not Applicable",
          "Not Applicable",
          "Not Applicable",
          "Not Applicable",
          "Not Applicable",
          "Not Applicable",
          "Not Applicable",
          "Not Applicable",
          "Not Applicable",
          "Not Applicable",
          "Not Applicable",
          "Not Applicable",
          "Not Applicable",
          "Not Applicable",
          "Not Applicable",
          "Not Applicable",
          "Not Applicable",
          "Not Applicable",
          "Not Applicable",
          "Not Applicable",
          "Not Applicable",
          "Not Applicable",
          "Not Applicable",
          "Not Applicable",
          "Not Applicable",
          "Not Applicable",
          "Not Applicable",
          "Not Applicable",
          "Not Applicable",
          "Not Applicable",
          "Not Applicable",
          "Not Applicable",
          "Not Applicable",
          "Not Applicable",
          "Not Applicable",
          "Not Applicable",
          "Not Applicable",
          "Not Applicable",
          "Not Applicable",
          "Not Applicable",
          "Not Applicable",
          "Not Applicable",
          "Not Applicable",
          "Not Applicable",
          "Not Applicable",
          "Not Applicable",
          "Not Applicable",
          "Not Applicable",
          "Not Applicable",
          "Not Applicable",
          "Not Applicable",
          "Not Applicable",
          "Not Applicable",
          "Not Applicable",
          "Not Applicable",
          "Not Applicable",
          "Not Applicable",
          "Not Applicable",
          "Not Applicable",
          "Not Applicable",
          "Not Applicable",
          "Not Applicable",
          "Not Applicable",
          "Not Applicable",
          "Not Applicable",
          "Not Applicable",
          "Not Applicable",
          "Not Applicable",
          "Not Applicable",
          "Not Applicable",
          "Not Applicable",
          "Not Applicable",
          "Not Applicable",
          "Not Applicable",
          "Not Applicable",
          "Not Applicable",
          "Not Applicable",
          "Not Applicable",
          "Not Applicable",
          "Not Applicable",
          "Not Applicable",
          "Not Applicable",
          "Not Applicable",
          "Not Applicable",
          "Not Applicable",
          "Not Applicable",
          "Not Applicable",
          "Not Applicable",
          "Not Applicable",
          "Not Applicable",
          "Not Applicable",
          "Not Applicable",
          "Not Applicable",
          "Not Applicable",
          "Not Applicable",
          "Not Applicable",
          "Not Applicable",
          "Not Applicable",
          "Not Applicable",
          "Not Applicable",
          "Not Applicable",
          "Not Applicable",
          "Not Applicable",
          "Not Applicable",
          "Not Applicable",
          "Not Applicable",
          "Not Applicable",
          "Not Applicable",
          "Not Applicable",
          "Not Applicable",
          "Not Applicable",
          "Not Applicable",
          "Not Applicable",
          "Not Applicable",
          "Not Applicable",
          "Not Applicable",
          "Not Applicable",
          "Not Applicable",
          "Not Applicable",
          "Not Applicable",
          "Not Applicable",
          "Not Applicable",
          "Not Applicable",
          "Not Applicable",
          "Not Applicable",
          "Not Applicable",
          "Not Applicable",
          "Not Applicable",
          "Not Applicable",
          "Not Applicable",
          "Not Applicable",
          "Not Applicable",
          "Not Applicable",
          "Not Applicable",
          "Not Applicable",
          "Not Applicable",
          "Not Applicable",
          "Not Applicable",
          "Not Applicable",
          "Not Applicable",
          "Not Applicable",
          "Not Applicable",
          "Not Applicable",
          "Not Applicable",
          "Not Applicable",
          "Not Applicable",
          "Not Applicable",
          "Not Applicable",
          "Not Applicable",
          "Not Applicable",
          "Not Applicable",
          "Not Applicable",
          "Not Applicable",
          "Not Applicable",
          "Not Applicable",
          "Not Applicable",
          "Not Applicable",
          "Not Applicable",
          "Not Applicable",
          "Not Applicable",
          "Not Applicable",
          "Not Applicable",
          "Not Applicable",
          "Not Applicable",
          "Not Applicable",
          "Not Applicable",
          "Not Applicable",
          "Not Applicable",
          "Not Applicable",
          "Not Applicable",
          "Not Applicable",
          "Not Applicable",
          "Not Applicable",
          "Not Applicable",
          "Not Applicable",
          "Not Applicable",
          "Not Applicable",
          "Not Applicable",
          "Not Applicable",
          "Not Applicable",
          "Not Applicable",
          "Not Applicable",
          "Not Applicable",
          "Not Applicable",
          "Not Applicable",
          "Not Applicable",
          "Not Applicable",
          "Not Applicable",
          "Not Applicable",
          "Not Applicable",
          "Not Applicable",
          "Not Applicable",
          "Not Applicable",
          "Not Applicable",
          "Not Applicable",
          "Not Applicable",
          "Not Applicable",
          "Not Applicable",
          "Not Applicable",
          "Not Applicable",
          "Not Applicable",
          "Not Applicable",
          "Not Applicable",
          "Not Applicable",
          "Not Applicable",
          "Not Applicable",
          "Not Applicable",
          "Not Applicable",
          "Not Applicable",
          "Not Applicable",
          "Not Applicable",
          "Not Applicable",
          "Not Applicable",
          "Not Applicable",
          "Not Applicable",
          "Not Applicable",
          "Not Applicable",
          "Not Applicable",
          "Not Applicable",
          "Not Applicable",
          "Not Applicable",
          "Not Applicable",
          "Not Applicable",
          "Not Applicable",
          "Not Applicable",
          "Not Applicable",
          "Not Applicable",
          "Not Applicable",
          "Not Applicable",
          "Not Applicable",
          "Not Applicable",
          "Not Applicable",
          "Not Applicable",
          "Not Applicable",
          "Not Applicable",
          "Not Applicable",
          "Not Applicable",
          "Not Applicable",
          "Not Applicable",
          "Not Applicable",
          "Not Applicable",
          "Not Applicable",
          "Not Applicable",
          "Not Applicable",
          "Not Applicable",
          "Not Applicable",
          "Not Applicable",
          "Not Applicable",
          "Not Applicable",
          "Not Applicable",
          "Not Applicable",
          "Not Applicable",
          "Not Applicable",
          "Not Applicable",
          "Not Applicable",
          "Not Applicable",
          "Not Applicable",
          "Not Applicable",
          "Not Applicable",
          "Not Applicable",
          "Not Applicable",
          "Not Applicable",
          "Not Applicable",
          "Not Applicable",
          "Not Applicable",
          "Not Applicable",
          "Not Applicable",
          "Not Applicable",
          "Not Applicable",
          "Not Applicable",
          "Not Applicable",
          "Not Applicable",
          "Not Applicable",
          "Not Applicable",
          "Not Applicable",
          "Not Applicable",
          "Not Applicable",
          "Not Applicable",
          "Not Applicable",
          "Not Applicable",
          "Not Applicable",
          "Not Applicable",
          "Not Applicable",
          "Not Applicable",
          "Not Applicable",
          "Not Applicable",
          "Not Applicable",
          "Not Applicable",
          "Not Applicable",
          "Not Applicable",
          "Not Applicable",
          "Not Applicable",
          "Not Applicable",
          "Not Applicable",
          "Not Applicable",
          "Not Applicable",
          "Not Applicable",
          "Not Applicable",
          "Not Applicable",
          "Not Applicable",
          "Not Applicable",
          "Not Applicable",
          "Not Applicable",
          "Not Applicable",
          "Not Applicable",
          "Not Applicable",
          "Not Applicable",
          "Not Applicable",
          "Not Applicable",
          "Not Applicable",
          "Not Applicable",
          "Not Applicable",
          "Not Applicable",
          "Not Applicable",
          "Not Applicable",
          "Not Applicable",
          "Not Applicable",
          "Not Applicable",
          "Not Applicable",
          "Not Applicable",
          "Not Applicable",
          "Not Applicable",
          "Not Applicable",
          "Not Applicable",
          "Not Applicable",
          "Not Applicable",
          "Not Applicable",
          "Not Applicable",
          "Not Applicable",
          "Not Applicable",
          "Not Applicable",
          "Not Applicable",
          "Not Applicable",
          "Not Applicable",
          "Not Applicable",
          "Not Applicable",
          "Not Applicable",
          "Not Applicable",
          "Not Applicable",
          "Not Applicable",
          "Not Applicable",
          "Not Applicable",
          "Not Applicable",
          "Not Applicable",
          "Not Applicable",
          "Not Applicable",
          "Not Applicable",
          "Not Applicable",
          "Not Applicable",
          "Not Applicable",
          "Not Applicable",
          "Not Applicable",
          "Not Applicable",
          "Not Applicable",
          "Not Applicable",
          "Not Applicable",
          "Not Applicable",
          "Not Applicable",
          "Not Applicable",
          "Not Applicable",
          "Not Applicable",
          "Not Applicable",
          "Not Applicable",
          "Not Applicable",
          "Not Applicable",
          "Not Applicable",
          "Not Applicable",
          "Not Applicable",
          "Not Applicable",
          "Not Applicable",
          "Not Applicable",
          "Not Applicable",
          "Not Applicable",
          "Not Applicable",
          "Not Applicable",
          "Not Applicable",
          "Not Applicable",
          "Not Applicable",
          "Not Applicable",
          "Not Applicable",
          "Not Applicable",
          "Not Applicable",
          "Not Applicable",
          "Not Applicable",
          "Not Applicable",
          "Not Applicable",
          "Not Applicable",
          "Not Applicable",
          "Not Applicable",
          "Not Applicable",
          "Not Applicable",
          "Not Applicable",
          "Not Applicable",
          "Not Applicable",
          "Not Applicable",
          "Not Applicable",
          "Not Applicable",
          "Not Applicable",
          "Not Applicable",
          "Not Applicable",
          "Not Applicable",
          "Not Applicable",
          "Not Applicable",
          "Not Applicable",
          "Not Applicable",
          "Not Applicable",
          "Not Applicable",
          "Not Applicable",
          "Not Applicable",
          "Not Applicable",
          "Not Applicable",
          "Not Applicable",
          "Not Applicable",
          "Not Applicable",
          "Not Applicable",
          "Not Applicable",
          "Not Applicable",
          "Not Applicable",
          "Not Applicable",
          "Not Applicable",
          "Not Applicable",
          "Not Applicable",
          "Not Applicable",
          "Not Applicable",
          "Not Applicable",
          "Not Applicable",
          "Not Applicable",
          "Not Applicable",
          "Not Applicable",
          "Not Applicable",
          "Not Applicable",
          "Not Applicable",
          "Not Applicable",
          "Not Applicable",
          "Not Applicable",
          "Not Applicable",
          "Not Applicable",
          "Not Applicable",
          "Not Applicable",
          "Not Applicable",
          "Not Applicable",
          "Not Applicable",
          "Not Applicable",
          "Not Applicable",
          "Not Applicable",
          "Not Applicable",
          "Not Applicable",
          "Not Applicable",
          "Not Applicable",
          "Not Applicable",
          "Not Applicable",
          "Not Applicable",
          "Not Applicable",
          "Not Applicable",
          "Not Applicable",
          "Not Applicable",
          "Not Applicable",
          "Not Applicable",
          "Not Applicable",
          "Not Applicable",
          "Not Applicable",
          "Not Applicable",
          "Not Applicable",
          "Not Applicable",
          "Not Applicable",
          "Not Applicable",
          "Not Applicable",
          "Not Applicable",
          "Not Applicable",
          "Not Applicable",
          "Not Applicable",
          "Not Applicable",
          "Not Applicable",
          "Not Applicable",
          "Not Applicable",
          "Not Applicable",
          "Not Applicable",
          "Not Applicable",
          "Not Applicable",
          "Not Applicable",
          "Not Applicable",
          "Not Applicable",
          "Not Applicable",
          "Not Applicable",
          "Not Applicable",
          "Not Applicable",
          "Not Applicable",
          "Not Applicable",
          "Not Applicable",
          "Not Applicable",
          "Not Applicable",
          "Not Applicable",
          "Not Applicable",
          "Not Applicable",
          "Not Applicable",
          "Not Applicable",
          "Not Applicable",
          "Not Applicable",
          "Not Applicable",
          "Not Applicable",
          "Not Applicable",
          "Not Applicable",
          "Not Applicable",
          "Not Applicable",
          "Not Applicable",
          "Not Applicable",
          "Not Applicable",
          "Not Applicable",
          "Not Applicable",
          "Not Applicable",
          "Not Applicable",
          "Not Applicable",
          "Not Applicable",
          "Not Applicable",
          "Not Applicable",
          "Not Applicable",
          "Not Applicable",
          "Not Applicable",
          "Not Applicable",
          "Not Applicable",
          "Not Applicable",
          "Not Applicable",
          "Not Applicable",
          "Not Applicable",
          "Not Applicable",
          "Not Applicable",
          "Not Applicable",
          "Not Applicable",
          "Not Applicable",
          "Not Applicable",
          "Not Applicable",
          "Not Applicable",
          "Not Applicable",
          "Not Applicable",
          "Not Applicable",
          "Not Applicable",
          "Not Applicable",
          "Not Applicable",
          "Not Applicable",
          "Not Applicable",
          "Not Applicable",
          "Not Applicable",
          "Not Applicable",
          "Not Applicable",
          "Not Applicable",
          "Not Applicable",
          "Not Applicable",
          "Not Applicable",
          "Not Applicable",
          "Not Applicable",
          "Not Applicable",
          "Not Applicable",
          "Not Applicable",
          "Not Applicable",
          "Not Applicable",
          "Not Applicable",
          "Not Applicable",
          "Not Applicable",
          "Not Applicable",
          "Not Applicable",
          "Not Applicable",
          "Not Applicable",
          "Not Applicable",
          "Not Applicable",
          "Not Applicable",
          "Not Applicable",
          "Not Applicable",
          "Not Applicable",
          "Not Applicable",
          "Not Applicable",
          "Not Applicable",
          "Not Applicable",
          "Not Applicable",
          "Not Applicable",
          "Not Applicable",
          "Not Applicable",
          "Not Applicable",
          "Not Applicable",
          "Not Applicable",
          "Not Applicable",
          "Not Applicable",
          "Not Applicable",
          "Not Applicable",
          "Not Applicable",
          "Not Applicable",
          "Not Applicable",
          "Not Applicable",
          "Not Applicable",
          "Not Applicable",
          "Not Applicable",
          "Not Applicable",
          "Not Applicable",
          "Not Applicable",
          "Not Applicable",
          "Not Applicable",
          "Not Applicable",
          "Not Applicable",
          "Not Applicable",
          "Not Applicable",
          "Not Applicable",
          "Not Applicable",
          "Not Applicable",
          "Not Applicable",
          "Not Applicable",
          "Not Applicable",
          "Not Applicable",
          "Not Applicable",
          "Not Applicable",
          "Not Applicable",
          "Not Applicable",
          "Not Applicable",
          "Not Applicable",
          "Not Applicable",
          "Not Applicable",
          "Not Applicable",
          "Not Applicable",
          "Not Applicable",
          "Not Applicable",
          "Not Applicable",
          "Not Applicable",
          "Not Applicable",
          "Not Applicable",
          "Not Applicable",
          "Not Applicable",
          "Not Applicable",
          "Not Applicable",
          "Not Applicable",
          "Not Applicable",
          "Not Applicable",
          "Not Applicable",
          "Not Applicable",
          "Not Applicable",
          "Not Applicable",
          "Not Applicable",
          "Not Applicable",
          "Not Applicable",
          "Not Applicable",
          "Not Applicable",
          "Not Applicable",
          "Not Applicable",
          "Not Applicable",
          "Not Applicable",
          "Not Applicable",
          "Not Applicable",
          "Not Applicable",
          "Not Applicable",
          "Not Applicable",
          "Not Applicable",
          "Not Applicable",
          "Not Applicable",
          "Not Applicable",
          "Not Applicable",
          "Not Applicable",
          "Not Applicable",
          "Not Applicable",
          "Not Applicable",
          "Not Applicable",
          "Not Applicable",
          "Not Applicable",
          "Not Applicable",
          "Not Applicable",
          "Not Applicable",
          "Not Applicable",
          "Not Applicable",
          "Not Applicable",
          "Not Applicable",
          "Not Applicable",
          "Not Applicable",
          "Not Applicable",
          "Not Applicable",
          "Not Applicable",
          "Not Applicable",
          "Not Applicable",
          "Not Applicable",
          "Not Applicable",
          "Not Applicable",
          "Not Applicable",
          "Not Applicable",
          "Not Applicable",
          "Not Applicable",
          "Not Applicable",
          "Not Applicable",
          "Not Applicable",
          "Not Applicable",
          "Not Applicable",
          "Not Applicable",
          "Not Applicable",
          "Not Applicable",
          "Not Applicable",
          "Not Applicable",
          "Not Applicable",
          "Not Applicable",
          "Not Applicable",
          "Not Applicable",
          "Not Applicable",
          "Not Applicable",
          "Not Applicable",
          "Not Applicable",
          "Not Applicable",
          "Not Applicable",
          "Not Applicable",
          "Not Applicable",
          "Not Applicable",
          "Not Applicable",
          "Not Applicable",
          "Not Applicable",
          "Not Applicable",
          "Not Applicable",
          "Not Applicable",
          "Not Applicable",
          "Not Applicable",
          "Not Applicable",
          "Not Applicable",
          "Not Applicable",
          "Not Applicable",
          "Not Applicable",
          "Not Applicable",
          "Not Applicable",
          "Not Applicable",
          "Not Applicable",
          "Not Applicable",
          "Not Applicable",
          "Not Applicable",
          "Not Applicable",
          "Not Applicable",
          "Not Applicable",
          "Not Applicable",
          "Not Applicable",
          "Not Applicable",
          "Not Applicable",
          "Not Applicable",
          "Not Applicable",
          "Not Applicable",
          "Not Applicable",
          "Not Applicable",
          "Not Applicable",
          "Not Applicable",
          "Not Applicable",
          "Not Applicable",
          "Not Applicable",
          "Not Applicable",
          "Not Applicable",
          "Not Applicable",
          "Not Applicable",
          "Not Applicable",
          "Not Applicable",
          "Not Applicable",
          "Not Applicable",
          "Not Applicable",
          "Not Applicable",
          "Not Applicable",
          "Not Applicable",
          "Not Applicable",
          "Not Applicable",
          "Not Applicable",
          "Not Applicable",
          "Not Applicable",
          "Not Applicable",
          "Not Applicable",
          "Not Applicable",
          "Not Applicable",
          "Not Applicable",
          "Not Applicable",
          "Not Applicable",
          "Not Applicable",
          "Not Applicable",
          "Not Applicable",
          "Not Applicable",
          "Not Applicable",
          "Not Applicable",
          "Not Applicable",
          "Not Applicable",
          "Not Applicable",
          "Not Applicable",
          "Not Applicable",
          "Not Applicable",
          "Not Applicable",
          "Not Applicable",
          "Not Applicable",
          "Not Applicable",
          "Not Applicable",
          "Not Applicable",
          "Not Applicable",
          "Not Applicable",
          "Not Applicable",
          "Not Applicable",
          "Not Applicable",
          "Not Applicable",
          "Not Applicable",
          "Not Applicable",
          "Not Applicable",
          "Not Applicable",
          "Not Applicable",
          "Not Applicable",
          "Not Applicable",
          "Not Applicable",
          "Not Applicable",
          "Not Applicable",
          "Not Applicable",
          "Not Applicable",
          "Not Applicable",
          "Not Applicable",
          "Not Applicable",
          "Not Applicable",
          "Not Applicable",
          "Not Applicable",
          "Not Applicable",
          "Not Applicable",
          "Not Applicable",
          "Not Applicable",
          "Not Applicable",
          "Not Applicable",
          "Not Applicable",
          "Not Applicable",
          "Not Applicable",
          "Not Applicable",
          "Not Applicable",
          "Not Applicable",
          "Not Applicable",
          "Not Applicable",
          "Not Applicable",
          "Not Applicable",
          "Not Applicable",
          "Not Applicable",
          "Not Applicable",
          "Not Applicable",
          "Not Applicable",
          "Not Applicable",
          "Not Applicable",
          "Not Applicable",
          "Not Applicable",
          "Not Applicable",
          "Not Applicable",
          "Not Applicable",
          "Not Applicable",
          "Not Applicable",
          "Not Applicable",
          "Not Applicable",
          "Not Applicable",
          "Not Applicable",
          "Not Applicable",
          "Not Applicable",
          "Not Applicable",
          "Not Applicable",
          "Not Applicable",
          "Not Applicable",
          "Not Applicable",
          "Not Applicable",
          "Not Applicable",
          "Not Applicable",
          "Not Applicable",
          "Not Applicable",
          "Not Applicable",
          "Not Applicable",
          "Not Applicable",
          "Not Applicable",
          "Not Applicable",
          "Not Applicable",
          "Not Applicable",
          "Not Applicable",
          "Not Applicable",
          "Not Applicable",
          "Not Applicable",
          "Not Applicable",
          "Not Applicable",
          "Not Applicable",
          "Not Applicable",
          "Not Applicable",
          "Not Applicable",
          "Not Applicable",
          "Not Applicable",
          "Not Applicable",
          "Not Applicable",
          "Not Applicable",
          "Not Applicable",
          "Not Applicable",
          "Not Applicable",
          "Not Applicable",
          "Not Applicable",
          "Not Applicable",
          "Not Applicable",
          "Not Applicable",
          "Not Applicable",
          "Not Applicable",
          "Not Applicable",
          "Not Applicable",
          "Not Applicable",
          "Not Applicable",
          "Not Applicable",
          "Not Applicable",
          "Not Applicable",
          "Not Applicable",
          "Not Applicable",
          "Not Applicable",
          "Not Applicable",
          "Not Applicable",
          "Not Applicable",
          "Not Applicable",
          "Not Applicable",
          "Not Applicable",
          "Not Applicable",
          "Not Applicable",
          "Not Applicable",
          "Not Applicable",
          "Not Applicable",
          "Not Applicable",
          "Not Applicable",
          "Not Applicable",
          "Not Applicable",
          "Not Applicable",
          "Not Applicable",
          "Not Applicable",
          "Not Applicable",
          "Not Applicable",
          "Not Applicable",
          "Not Applicable",
          "Not Applicable",
          "Not Applicable",
          "Not Applicable",
          "Not Applicable",
          "Not Applicable",
          "Not Applicable",
          "Not Applicable",
          "Not Applicable",
          "Not Applicable",
          "Not Applicable",
          "Not Applicable",
          "Not Applicable",
          "Not Applicable",
          "Not Applicable",
          "Not Applicable",
          "Not Applicable",
          "Not Applicable",
          "Not Applicable",
          "Not Applicable",
          "Not Applicable",
          "Not Applicable",
          "Not Applicable",
          "Not Applicable",
          "Not Applicable",
          "Not Applicable",
          "Not Applicable",
          "Not Applicable",
          "Not Applicable",
          "Not Applicable",
          "Not Applicable",
          "Not Applicable",
          "Not Applicable",
          "Not Applicable",
          "Not Applicable",
          "Not Applicable",
          "Not Applicable",
          "Not Applicable",
          "Not Applicable",
          "Not Applicable",
          "Not Applicable",
          "Not Applicable",
          "Not Applicable",
          "Not Applicable",
          "Not Applicable",
          "Not Applicable",
          "Not Applicable",
          "Not Applicable",
          "Not Applicable",
          "Not Applicable",
          "Not Applicable",
          "Not Applicable",
          "Not Applicable",
          "Not Applicable",
          "Not Applicable",
          "Not Applicable",
          "Not Applicable",
          "Not Applicable",
          "Not Applicable",
          "Not Applicable",
          "Not Applicable",
          "Not Applicable",
          "Not Applicable",
          "Not Applicable",
          "Not Applicable",
          "Not Applicable",
          "Not Applicable",
          "Not Applicable",
          "Not Applicable",
          "Not Applicable",
          "Not Applicable",
          "Not Applicable",
          "Not Applicable",
          "Not Applicable",
          "Not Applicable",
          "Not Applicable",
          "Not Applicable",
          "Not Applicable",
          "Not Applicable",
          "Not Applicable",
          "Not Applicable",
          "Not Applicable",
          "Not Applicable",
          "Not Applicable",
          "Not Applicable",
          "Not Applicable",
          "Not Applicable",
          "Not Applicable",
          "Not Applicable",
          "Not Applicable",
          "Not Applicable",
          "Not Applicable",
          "Not Applicable",
          "Not Applicable",
          "Not Applicable",
          "Not Applicable",
          "Not Applicable",
          "Not Applicable",
          "Not Applicable",
          "Not Applicable",
          "Not Applicable",
          "Not Applicable",
          "Not Applicable",
          "Not Applicable",
          "Not Applicable",
          "Not Applicable",
          "Not Applicable",
          "Not Applicable",
          "Not Applicable",
          "Not Applicable",
          "Not Applicable",
          "Not Applicable",
          "Not Applicable",
          "Not Applicable",
          "Not Applicable",
          "Not Applicable",
          "Not Applicable",
          "Not Applicable",
          "Not Applicable",
          "Not Applicable",
          "Not Applicable",
          "Not Applicable",
          "Not Applicable",
          "Not Applicable",
          "Not Applicable",
          "Not Applicable",
          "Not Applicable",
          "Not Applicable",
          "Not Applicable",
          "Not Applicable",
          "Not Applicable",
          "Not Applicable",
          "Not Applicable",
          "Not Applicable",
          "Not Applicable",
          "Not Applicable",
          "Not Applicable",
          "Not Applicable",
          "Not Applicable",
          "Not Applicable",
          "Not Applicable",
          "Not Applicable",
          "Not Applicable",
          "Not Applicable",
          "Not Applicable",
          "Not Applicable",
          "Not Applicable",
          "Not Applicable",
          "Not Applicable",
          "Not Applicable",
          "Not Applicable",
          "Not Applicable",
          "Not Applicable",
          "Not Applicable",
          "Not Applicable",
          "Not Applicable",
          "Not Applicable",
          "Not Applicable",
          "Not Applicable",
          "Not Applicable",
          "Not Applicable",
          "Not Applicable",
          "Not Applicable",
          "Not Applicable",
          "Not Applicable",
          "Not Applicable",
          "Not Applicable",
          "Not Applicable",
          "Not Applicable",
          "Not Applicable",
          "Not Applicable",
          "Not Applicable",
          "Not Applicable",
          "Not Applicable",
          "Not Applicable",
          "Not Applicable",
          "Not Applicable",
          "Not Applicable",
          "Not Applicable",
          "Not Applicable",
          "Not Applicable",
          "Not Applicable",
          "Not Applicable",
          "Not Applicable",
          "Not Applicable",
          "Not Applicable",
          "Not Applicable",
          "Not Applicable",
          "Not Applicable",
          "Not Applicable",
          "Not Applicable",
          "Not Applicable",
          "Not Applicable",
          "Not Applicable",
          "Not Applicable",
          "Not Applicable",
          "Not Applicable",
          "Not Applicable",
          "Not Applicable",
          "Not Applicable",
          "Not Applicable",
          "Not Applicable",
          "Not Applicable",
          "Not Applicable",
          "Not Applicable",
          "Not Applicable",
          "Not Applicable",
          "Not Applicable",
          "Not Applicable",
          "Not Applicable",
          "Not Applicable",
          "Not Applicable",
          "Not Applicable",
          "Not Applicable",
          "Not Applicable",
          "Not Applicable",
          "Not Applicable",
          "Not Applicable",
          "Not Applicable",
          "Not Applicable",
          "Not Applicable",
          "Not Applicable",
          "Not Applicable",
          "Not Applicable",
          "Not Applicable",
          "Not Applicable",
          "Not Applicable",
          "Not Applicable",
          "Not Applicable",
          "Not Applicable",
          "Not Applicable",
          "Not Applicable",
          "Not Applicable",
          "Not Applicable",
          "Not Applicable",
          "Not Applicable",
          "Not Applicable",
          "Not Applicable",
          "Not Applicable",
          "Not Applicable",
          "Not Applicable",
          "Not Applicable",
          "Not Applicable",
          "Not Applicable",
          "Not Applicable",
          "Not Applicable",
          "Not Applicable",
          "Not Applicable",
          "Not Applicable",
          "Not Applicable",
          "Not Applicable",
          "Not Applicable",
          "Not Applicable",
          "Not Applicable",
          "Not Applicable",
          "Not Applicable",
          "Not Applicable",
          "Not Applicable",
          "Not Applicable",
          "Not Applicable",
          "Not Applicable",
          "Not Applicable",
          "Not Applicable",
          "Not Applicable",
          "Not Applicable",
          "Not Applicable",
          "Not Applicable",
          "Not Applicable",
          "Not Applicable",
          "Not Applicable",
          "Not Applicable",
          "Not Applicable",
          "Not Applicable",
          "Not Applicable",
          "Not Applicable",
          "Not Applicable",
          "Not Applicable",
          "Not Applicable",
          "Not Applicable",
          "Not Applicable",
          "Not Applicable",
          "Not Applicable",
          "Not Applicable",
          "Not Applicable",
          "Not Applicable",
          "Not Applicable",
          "Not Applicable",
          "Not Applicable",
          "Not Applicable",
          "Not Applicable",
          "Not Applicable",
          "Not Applicable",
          "Not Applicable",
          "Not Applicable",
          "Not Applicable",
          "Not Applicable",
          "Not Applicable",
          "Not Applicable",
          "Not Applicable",
          "Not Applicable",
          "Not Applicable",
          "Not Applicable",
          "Not Applicable",
          "Not Applicable",
          "Not Applicable",
          "Not Applicable",
          "Not Applicable",
          "Not Applicable",
          "Not Applicable",
          "Not Applicable",
          "Not Applicable",
          "Not Applicable",
          "Not Applicable",
          "Not Applicable",
          "Not Applicable",
          "Not Applicable",
          "Not Applicable",
          "Not Applicable",
          "Not Applicable",
          "Not Applicable",
          "Not Applicable",
          "Not Applicable",
          "Not Applicable",
          "Not Applicable",
          "Not Applicable",
          "Not Applicable",
          "Not Applicable",
          "Not Applicable",
          "Not Applicable",
          "Not Applicable",
          "Not Applicable",
          "Not Applicable",
          "Not Applicable",
          "Not Applicable",
          "Not Applicable",
          "Not Applicable",
          "Not Applicable",
          "Not Applicable",
          "Not Applicable",
          "Not Applicable",
          "Not Applicable",
          "Not Applicable",
          "Not Applicable",
          "Not Applicable",
          "Not Applicable",
          "Not Applicable",
          "Not Applicable",
          "Not Applicable",
          "Not Applicable",
          "Not Applicable",
          "Not Applicable",
          "Not Applicable",
          "Not Applicable",
          "Not Applicable",
          "Not Applicable",
          "Not Applicable",
          "Not Applicable",
          "Not Applicable",
          "Not Applicable",
          "Not Applicable",
          "Not Applicable",
          "Not Applicable",
          "Not Applicable",
          "Not Applicable",
          "Not Applicable",
          "Not Applicable",
          "Not Applicable",
          "Not Applicable",
          "Not Applicable",
          "Not Applicable",
          "Not Applicable",
          "Not Applicable",
          "Not Applicable",
          "Not Applicable",
          "Not Applicable",
          "Not Applicable",
          "Not Applicable",
          "Not Applicable",
          "Not Applicable",
          "Not Applicable",
          "Not Applicable",
          "Not Applicable",
          "Not Applicable",
          "Not Applicable",
          "Not Applicable",
          "Not Applicable",
          "Not Applicable",
          "Not Applicable",
          "Not Applicable",
          "Not Applicable",
          "Not Applicable",
          "Not Applicable",
          "Not Applicable",
          "Not Applicable",
          "Not Applicable",
          "Not Applicable",
          "Not Applicable",
          "Not Applicable",
          "Not Applicable",
          "Not Applicable",
          "Not Applicable",
          "Not Applicable",
          "Not Applicable",
          "Not Applicable",
          "Not Applicable",
          "Not Applicable",
          "Not Applicable",
          "Not Applicable",
          "Not Applicable",
          "Not Applicable",
          "Not Applicable",
          "Not Applicable",
          "Not Applicable",
          "Not Applicable",
          "Not Applicable",
          "Not Applicable",
          "Not Applicable",
          "Not Applicable",
          "Not Applicable",
          "Not Applicable",
          "Not Applicable",
          "Not Applicable",
          "Not Applicable",
          "Not Applicable",
          "Not Applicable",
          "Not Applicable",
          "Not Applicable",
          "Not Applicable",
          "Not Applicable",
          "Not Applicable",
          "Not Applicable",
          "Not Applicable",
          "Not Applicable",
          "Not Applicable",
          "Not Applicable",
          "Not Applicable",
          "Not Applicable",
          "Not Applicable",
          "Not Applicable",
          "Not Applicable",
          "Not Applicable",
          "Not Applicable",
          "Not Applicable",
          "Not Applicable",
          "Not Applicable",
          "Not Applicable",
          "Not Applicable",
          "Not Applicable",
          "Not Applicable",
          "Not Applicable",
          "Not Applicable",
          "Not Applicable",
          "Not Applicable",
          "Not Applicable",
          "Not Applicable",
          "Not Applicable",
          "Not Applicable",
          "Not Applicable",
          "Not Applicable",
          "Not Applicable",
          "Not Applicable",
          "Not Applicable",
          "Not Applicable",
          "Not Applicable",
          "Not Applicable",
          "Not Applicable",
          "Not Applicable",
          "Not Applicable",
          "Not Applicable",
          "Not Applicable",
          "Not Applicable",
          "Not Applicable",
          "Not Applicable",
          "Not Applicable",
          "Not Applicable",
          "Not Applicable",
          "Not Applicable",
          "Not Applicable",
          "Not Applicable",
          "Not Applicable",
          "Not Applicable",
          "Not Applicable",
          "Not Applicable",
          "Not Applicable",
          "Not Applicable",
          "Not Applicable",
          "Not Applicable",
          "Not Applicable",
          "Not Applicable",
          "Not Applicable",
          "Not Applicable",
          "Not Applicable",
          "Not Applicable",
          "Not Applicable",
          "Not Applicable",
          "Not Applicable",
          "Not Applicable",
          "Not Applicable",
          "Not Applicable",
          "Not Applicable",
          "Not Applicable",
          "Not Applicable",
          "Not Applicable",
          "Not Applicable",
          "Not Applicable",
          "Not Applicable",
          "Not Applicable",
          "Not Applicable",
          "Not Applicable",
          "Not Applicable",
          "Not Applicable",
          "Not Applicable",
          "Not Applicable",
          "Not Applicable",
          "Not Applicable",
          "Not Applicable",
          "Not Applicable",
          "Not Applicable",
          "Not Applicable",
          "Not Applicable",
          "Not Applicable",
          "Not Applicable",
          "Not Applicable",
          "Not Applicable",
          "Not Applicable",
          "Not Applicable",
          "Not Applicable",
          "Not Applicable",
          "Not Applicable",
          "Not Applicable",
          "Not Applicable",
          "Not Applicable",
          "Not Applicable",
          "Not Applicable",
          "Not Applicable",
          "Not Applicable",
          "Not Applicable",
          "Not Applicable",
          "Not Applicable",
          "Not Applicable",
          "Not Applicable",
          "Not Applicable",
          "Not Applicable",
          "Not Applicable",
          "Not Applicable",
          "Not Applicable",
          "Not Applicable",
          "Not Applicable",
          "Not Applicable",
          "Not Applicable",
          "Not Applicable",
          "Not Applicable",
          "Not Applicable",
          "Not Applicable",
          "Not Applicable",
          "Not Applicable",
          "Not Applicable",
          "Not Applicable",
          "Not Applicable",
          "Not Applicable",
          "Not Applicable",
          "Not Applicable",
          "Not Applicable",
          "Not Applicable",
          "Not Applicable",
          "Not Applicable",
          "Not Applicable",
          "Not Applicable",
          "Not Applicable",
          "Not Applicable",
          "Not Applicable",
          "Not Applicable",
          "Not Applicable",
          "Not Applicable",
          "Not Applicable",
          "Not Applicable",
          "Not Applicable",
          "Not Applicable",
          "Not Applicable",
          "Not Applicable",
          "Not Applicable",
          "Not Applicable",
          "Not Applicable",
          "Not Applicable",
          "Not Applicable",
          "Not Applicable",
          "Not Applicable",
          "Not Applicable",
          "Not Applicable",
          "Not Applicable",
          "Not Applicable",
          "Not Applicable",
          "Not Applicable",
          "Not Applicable",
          "Not Applicable",
          "Not Applicable",
          "Not Applicable",
          "Not Applicable",
          "Not Applicable",
          "Not Applicable",
          "Not Applicable",
          "Not Applicable",
          "Not Applicable",
          "Not Applicable",
          "Not Applicable",
          "Not Applicable",
          "Not Applicable",
          "Not Applicable",
          "Not Applicable",
          "Not Applicable",
          "Not Applicable",
          "Not Applicable",
          "Not Applicable",
          "Not Applicable",
          "Not Applicable",
          "Not Applicable",
          "Not Applicable",
          "Not Applicable",
          "Not Applicable",
          "Not Applicable",
          "Not Applicable",
          "Not Applicable",
          "Not Applicable",
          "Not Applicable",
          "Not Applicable",
          "Not Applicable",
          "Not Applicable",
          "Not Applicable",
          "Not Applicable",
          "Not Applicable",
          "Not Applicable",
          "Not Applicable",
          "Not Applicable",
          "Not Applicable",
          "Not Applicable",
          "Not Applicable",
          "Not Applicable",
          "Not Applicable",
          "Not Applicable",
          "Not Applicable",
          "Not Applicable",
          "Not Applicable",
          "Not Applicable",
          "Not Applicable",
          "Not Applicable",
          "Not Applicable",
          "Not Applicable",
          "Not Applicable",
          "Not Applicable",
          "Not Applicable",
          "Not Applicable",
          "Not Applicable",
          "Not Applicable",
          "Not Applicable",
          "Not Applicable",
          "Not Applicable",
          "Not Applicable",
          "Not Applicable",
          "Not Applicable",
          "Not Applicable",
          "Not Applicable",
          "Not Applicable",
          "Not Applicable",
          "Not Applicable",
          "Not Applicable",
          "Not Applicable",
          "Not Applicable",
          "Not Applicable",
          "Not Applicable",
          "Not Applicable",
          "Not Applicable",
          "Not Applicable",
          "Not Applicable",
          "Not Applicable",
          "Not Applicable",
          "Not Applicable",
          "Not Applicable",
          "Not Applicable",
          "Not Applicable",
          "Not Applicable",
          "Not Applicable",
          "Not Applicable",
          "Not Applicable",
          "Not Applicable",
          "Not Applicable",
          "Not Applicable",
          "Not Applicable",
          "Not Applicable",
          "Not Applicable",
          "Not Applicable",
          "Not Applicable",
          "Not Applicable",
          "Not Applicable",
          "Not Applicable",
          "Not Applicable",
          "Not Applicable",
          "Not Applicable",
          "Not Applicable",
          "Not Applicable",
          "Not Applicable",
          "Not Applicable",
          "Not Applicable",
          "Not Applicable",
          "Not Applicable",
          "Not Applicable",
          "Not Applicable",
          "Not Applicable",
          "Not Applicable",
          "Not Applicable",
          "Not Applicable",
          "Not Applicable",
          "Not Applicable",
          "Not Applicable",
          "Not Applicable",
          "Not Applicable",
          "Not Applicable",
          "Not Applicable",
          "Not Applicable",
          "Not Applicable",
          "Not Applicable",
          "Not Applicable",
          "Not Applicable",
          "Not Applicable",
          "Not Applicable",
          "Not Applicable",
          "Not Applicable",
          "Not Applicable",
          "Not Applicable",
          "Not Applicable",
          "Not Applicable",
          "Not Applicable",
          "Not Applicable",
          "Not Applicable",
          "Not Applicable",
          "Not Applicable",
          "Not Applicable",
          "Not Applicable",
          "Not Applicable",
          "Not Applicable",
          "Not Applicable",
          "Not Applicable",
          "Not Applicable",
          "Not Applicable",
          "Not Applicable",
          "Not Applicable",
          "Not Applicable",
          "Not Applicable",
          "Not Applicable",
          "Not Applicable",
          "Not Applicable",
          "Not Applicable",
          "Not Applicable",
          "Not Applicable",
          "Not Applicable",
          "Not Applicable",
          "Not Applicable",
          "Not Applicable",
          "Not Applicable",
          "Not Applicable",
          "Not Applicable",
          "Not Applicable",
          "Not Applicable",
          "Not Applicable",
          "Not Applicable",
          "Not Applicable",
          "Not Applicable",
          "Not Applicable",
          "Not Applicable",
          "Not Applicable",
          "Not Applicable",
          "Not Applicable",
          "Not Applicable",
          "Not Applicable",
          "Not Applicable",
          "Not Applicable",
          "Not Applicable",
          "Not Applicable",
          "Not Applicable",
          "Not Applicable",
          "Not Applicable",
          "Not Applicable",
          "Not Applicable",
          "Not Applicable",
          "Not Applicable",
          "Not Applicable",
          "Not Applicable",
          "Not Applicable",
          "Not Applicable",
          "Not Applicable",
          "Not Applicable",
          "Not Applicable",
          "Not Applicable",
          "Not Applicable",
          "Not Applicable",
          "Not Applicable",
          "Not Applicable",
          "Not Applicable",
          "Not Applicable",
          "Not Applicable",
          "Not Applicable",
          "Not Applicable",
          "Not Applicable",
          "Not Applicable",
          "Not Applicable",
          "Not Applicable",
          "Not Applicable",
          "Not Applicable",
          "Not Applicable",
          "Not Applicable",
          "Not Applicable",
          "Not Applicable",
          "Not Applicable",
          "Not Applicable",
          "Not Applicable",
          "Not Applicable",
          "Not Applicable",
          "Not Applicable",
          "Not Applicable",
          "Not Applicable",
          "Not Applicable",
          "Not Applicable",
          "Not Applicable",
          "Not Applicable",
          "Not Applicable",
          "Not Applicable",
          "Not Applicable",
          "Not Applicable",
          "Not Applicable",
          "Not Applicable",
          "Not Applicable",
          "Not Applicable",
          "Not Applicable",
          "Not Applicable",
          "Not Applicable",
          "Not Applicable",
          "Not Applicable",
          "Not Applicable",
          "Not Applicable",
          "Not Applicable",
          "Not Applicable",
          "Not Applicable",
          "Not Applicable",
          "Not Applicable",
          "Not Applicable",
          "Not Applicable",
          "Not Applicable",
          "Not Applicable",
          "Not Applicable",
          "Not Applicable",
          "Not Applicable",
          "Not Applicable",
          "Not Applicable",
          "Not Applicable",
          "Not Applicable",
          "Not Applicable",
          "Not Applicable",
          "Not Applicable",
          "Not Applicable",
          "Not Applicable",
          "Not Applicable",
          "Not Applicable",
          "Not Applicable",
          "Not Applicable",
          "Not Applicable",
          "Not Applicable",
          "Not Applicable",
          "Not Applicable",
          "Not Applicable",
          "Not Applicable",
          "Not Applicable",
          "Not Applicable",
          "Not Applicable",
          "Not Applicable",
          "Not Applicable",
          "Not Applicable",
          "Not Applicable",
          "Not Applicable",
          "Not Applicable",
          "Not Applicable",
          "Not Applicable",
          "Not Applicable",
          "Not Applicable",
          "Not Applicable",
          "Not Applicable",
          "Not Applicable",
          "Not Applicable",
          "Not Applicable",
          "Not Applicable",
          "Not Applicable",
          "Not Applicable",
          "Not Applicable",
          "Not Applicable",
          "Not Applicable",
          "Not Applicable",
          "Not Applicable",
          "Not Applicable",
          "Not Applicable",
          "Not Applicable",
          "Not Applicable",
          "Not Applicable",
          "Not Applicable",
          "Not Applicable",
          "Not Applicable",
          "Not Applicable",
          "Not Applicable",
          "Not Applicable",
          "Not Applicable",
          "Not Applicable",
          "Not Applicable",
          "Not Applicable",
          "Not Applicable",
          "Not Applicable",
          "Not Applicable",
          "Not Applicable",
          "Not Applicable",
          "Not Applicable",
          "Not Applicable",
          "Not Applicable",
          "Not Applicable",
          "Not Applicable",
          "Not Applicable",
          "Not Applicable",
          "Not Applicable",
          "Not Applicable",
          "Not Applicable",
          "Not Applicable",
          "Not Applicable",
          "Not Applicable",
          "Not Applicable",
          "Not Applicable",
          "Not Applicable",
          "Not Applicable",
          "Not Applicable",
          "Not Applicable",
          "Not Applicable",
          "Not Applicable",
          "Not Applicable",
          "Not Applicable",
          "Not Applicable",
          "Not Applicable",
          "Not Applicable",
          "Not Applicable",
          "Not Applicable",
          "Not Applicable",
          "Not Applicable",
          "Not Applicable",
          "Not Applicable",
          "Not Applicable",
          "Not Applicable",
          "Not Applicable",
          "Not Applicable",
          "Not Applicable",
          "Not Applicable",
          "Not Applicable",
          "Not Applicable",
          "Not Applicable",
          "Not Applicable",
          "Not Applicable",
          "Not Applicable",
          "Not Applicable",
          "Not Applicable",
          "Not Applicable",
          "Not Applicable",
          "Not Applicable",
          "Not Applicable",
          "Not Applicable",
          "Not Applicable",
          "Not Applicable",
          "Not Applicable",
          "Not Applicable",
          "Not Applicable",
          "Not Applicable",
          "Not Applicable",
          "Not Applicable",
          "Not Applicable",
          "Not Applicable",
          "Not Applicable",
          "Not Applicable",
          "Not Applicable",
          "Not Applicable",
          "Not Applicable",
          "Not Applicable",
          "Not Applicable",
          "Not Applicable",
          "Not Applicable",
          "Not Applicable",
          "Not Applicable",
          "Not Applicable",
          "Not Applicable",
          "Not Applicable",
          "Not Applicable",
          "Not Applicable",
          "Not Applicable",
          "Not Applicable",
          "Not Applicable",
          "Not Applicable",
          "Not Applicable",
          "Not Applicable",
          "Not Applicable",
          "Not Applicable",
          "Not Applicable",
          "Not Applicable",
          "Not Applicable",
          "Not Applicable",
          "Not Applicable",
          "Not Applicable",
          "Not Applicable",
          "Not Applicable",
          "Not Applicable",
          "Not Applicable",
          "Not Applicable",
          "Not Applicable",
          "Not Applicable",
          "Not Applicable",
          "Not Applicable",
          "Not Applicable",
          "Not Applicable",
          "Not Applicable",
          "Not Applicable",
          "Not Applicable",
          "Not Applicable",
          "Not Applicable",
          "Not Applicable",
          "Not Applicable",
          "Not Applicable",
          "Not Applicable",
          "Not Applicable",
          "Not Applicable",
          "Not Applicable",
          "Not Applicable",
          "Not Applicable",
          "Not Applicable",
          "Not Applicable",
          "Not Applicable",
          "Not Applicable",
          "Not Applicable",
          "Not Applicable",
          "Not Applicable",
          "Not Applicable",
          "Not Applicable",
          "Not Applicable",
          "Not Applicable",
          "Not Applicable",
          "Not Applicable",
          "Not Applicable",
          "Not Applicable",
          "Not Applicable",
          "Not Applicable",
          "Not Applicable",
          "Not Applicable",
          "Not Applicable",
          "Not Applicable",
          "Not Applicable",
          "Not Applicable",
          "Not Applicable",
          "Not Applicable",
          "Not Applicable",
          "Not Applicable",
          "Not Applicable",
          "Not Applicable",
          "Not Applicable",
          "Not Applicable",
          "Not Applicable",
          "Not Applicable",
          "Not Applicable",
          "Not Applicable",
          "Not Applicable",
          "Not Applicable",
          "Not Applicable",
          "Not Applicable",
          "Not Applicable",
          "Not Applicable",
          "Not Applicable",
          "Not Applicable",
          "Not Applicable",
          "Not Applicable",
          "Not Applicable",
          "Not Applicable",
          "Not Applicable",
          "Not Applicable",
          "Not Applicable",
          "Not Applicable",
          "Not Applicable",
          "Not Applicable",
          "Not Applicable",
          "Not Applicable",
          "Not Applicable",
          "Not Applicable",
          "Not Applicable",
          "Not Applicable",
          "Not Applicable",
          "Not Applicable",
          "Not Applicable",
          "Not Applicable",
          "Not Applicable",
          "Not Applicable",
          "Not Applicable",
          "Not Applicable",
          "Not Applicable",
          "Not Applicable",
          "Not Applicable",
          "Not Applicable",
          "Not Applicable",
          "Not Applicable",
          "Not Applicable",
          "Not Applicable",
          "Not Applicable",
          "Not Applicable",
          "Not Applicable",
          "Not Applicable",
          "Not Applicable",
          "Not Applicable",
          "Not Applicable",
          "Not Applicable",
          "Not Applicable",
          "Not Applicable",
          "Not Applicable",
          "Not Applicable",
          "Not Applicable",
          "Not Applicable",
          "Not Applicable",
          "Not Applicable",
          "Not Applicable",
          "Not Applicable",
          "Not Applicable",
          "Not Applicable",
          "Not Applicable",
          "Not Applicable",
          "Not Applicable",
          "Not Applicable",
          "Not Applicable",
          "Not Applicable",
          "Not Applicable",
          "Not Applicable",
          "Not Applicable",
          "Not Applicable",
          "Not Applicable",
          "Not Applicable",
          "Not Applicable",
          "Not Applicable",
          "Not Applicable",
          "Not Applicable",
          "Not Applicable",
          "Not Applicable",
          "Not Applicable",
          "Not Applicable",
          "Not Applicable",
          "Not Applicable",
          "Not Applicable",
          "Not Applicable",
          "Not Applicable",
          "Not Applicable",
          "Not Applicable",
          "Not Applicable",
          "Not Applicable",
          "Not Applicable",
          "Not Applicable",
          "Not Applicable",
          "Not Applicable",
          "Not Applicable",
          "Not Applicable",
          "Not Applicable",
          "Not Applicable",
          "Not Applicable",
          "Not Applicable",
          "Not Applicable",
          "Not Applicable",
          "Not Applicable",
          "Not Applicable",
          "Not Applicable",
          "Not Applicable",
          "Not Applicable",
          "Not Applicable",
          "Not Applicable",
          "Not Applicable",
          "Not Applicable",
          "Not Applicable",
          "Not Applicable",
          "Not Applicable",
          "Not Applicable",
          "Not Applicable",
          "Not Applicable",
          "Not Applicable",
          "Not Applicable",
          "Not Applicable",
          "Not Applicable",
          "Not Applicable",
          "Not Applicable",
          "Not Applicable",
          "Not Applicable",
          "Not Applicable",
          "Not Applicable",
          "Not Applicable",
          "Not Applicable",
          "Not Applicable",
          "Not Applicable",
          "Not Applicable",
          "Not Applicable",
          "Not Applicable",
          "Not Applicable",
          "Not Applicable",
          "Not Applicable",
          "Not Applicable",
          "Not Applicable",
          "Not Applicable",
          "Not Applicable",
          "Not Applicable",
          "Not Applicable",
          "Not Applicable",
          "Not Applicable",
          "Not Applicable",
          "Not Applicable",
          "Not Applicable",
          "Not Applicable",
          "Not Applicable",
          "Not Applicable",
          "Not Applicable",
          "Not Applicable",
          "Not Applicable",
          "Not Applicable",
          "Not Applicable",
          "Not Applicable",
          "Not Applicable",
          "Not Applicable",
          "Not Applicable",
          "Not Applicable",
          "Not Applicable",
          "Not Applicable",
          "Not Applicable",
          "Not Applicable",
          "Not Applicable",
          "Not Applicable",
          "Not Applicable",
          "Not Applicable",
          "Not Applicable",
          "Not Applicable",
          "Not Applicable",
          "Not Applicable",
          "Not Applicable",
          "Not Applicable",
          "Not Applicable",
          "Not Applicable",
          "Not Applicable",
          "Not Applicable",
          "Not Applicable",
          "Not Applicable",
          "Not Applicable",
          "Not Applicable",
          "Not Applicable",
          "Not Applicable",
          "Not Applicable",
          "Not Applicable",
          "Not Applicable",
          "Not Applicable",
          "Not Applicable",
          "Not Applicable",
          "Not Applicable",
          "Not Applicable",
          "Not Applicable",
          "Not Applicable",
          "Not Applicable",
          "Not Applicable",
          "Not Applicable",
          "Not Applicable",
          "Not Applicable",
          "Not Applicable",
          "Not Applicable",
          "Not Applicable",
          "Not Applicable",
          "Not Applicable",
          "Not Applicable",
          "Not Applicable",
          "Not Applicable",
          "Not Applicable",
          "Not Applicable",
          "Not Applicable",
          "Not Applicable",
          "Not Applicable",
          "Not Applicable",
          "Not Applicable",
          "Not Applicable",
          "Not Applicable",
          "Not Applicable",
          "Not Applicable",
          "Not Applicable",
          "Not Applicable",
          "Not Applicable",
          "Not Applicable",
          "Not Applicable",
          "Not Applicable",
          "Not Applicable",
          "Not Applicable",
          "Not Applicable",
          "Not Applicable",
          "Not Applicable",
          "Not Applicable",
          "Not Applicable",
          "Not Applicable",
          "Not Applicable",
          "Not Applicable",
          "Not Applicable",
          "Not Applicable",
          "Not Applicable",
          "Not Applicable",
          "Not Applicable",
          "Not Applicable",
          "Not Applicable",
          "Not Applicable",
          "Not Applicable",
          "Not Applicable",
          "Not Applicable",
          "Not Applicable",
          "Not Applicable",
          "Not Applicable",
          "Not Applicable",
          "Not Applicable",
          "Not Applicable",
          "Not Applicable",
          "Not Applicable",
          "Not Applicable",
          "Not Applicable",
          "Not Applicable",
          "Not Applicable",
          "Not Applicable",
          "Not Applicable",
          "Not Applicable",
          "Not Applicable",
          "Not Applicable",
          "Not Applicable",
          "Not Applicable",
          "Not Applicable",
          "Not Applicable",
          "Not Applicable",
          "Not Applicable",
          "Not Applicable",
          "Not Applicable",
          "Not Applicable",
          "Not Applicable",
          "Not Applicable",
          "Not Applicable",
          "Not Applicable",
          "Not Applicable",
          "Not Applicable",
          "Not Applicable",
          "Not Applicable",
          "Not Applicable",
          "Not Applicable",
          "Not Applicable",
          "Not Applicable",
          "Not Applicable",
          "Not Applicable",
          "Not Applicable",
          "Not Applicable",
          "Not Applicable",
          "Not Applicable",
          "Not Applicable",
          "Not Applicable"
         ],
         "x0": " ",
         "xaxis": "x",
         "y": {
          "bdata": "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",
          "dtype": "f8"
         },
         "y0": " ",
         "yaxis": "y"
        },
        {
         "alignmentgroup": "True",
         "box": {
          "visible": true
         },
         "hovertemplate": "Seniority level=%{x}<br>avg_salary=%{y}<extra></extra>",
         "legendgroup": "Entry level",
         "marker": {
          "color": "#d62728"
         },
         "name": "Entry level",
         "offsetgroup": "Entry level",
         "orientation": "v",
         "points": "outliers",
         "scalegroup": "True",
         "showlegend": true,
         "type": "violin",
         "x": [
          "Entry level",
          "Entry level",
          "Entry level",
          "Entry level",
          "Entry level",
          "Entry level",
          "Entry level",
          "Entry level",
          "Entry level",
          "Entry level",
          "Entry level",
          "Entry level",
          "Entry level",
          "Entry level",
          "Entry level",
          "Entry level",
          "Entry level",
          "Entry level",
          "Entry level",
          "Entry level",
          "Entry level",
          "Entry level",
          "Entry level",
          "Entry level",
          "Entry level",
          "Entry level",
          "Entry level",
          "Entry level",
          "Entry level",
          "Entry level",
          "Entry level",
          "Entry level",
          "Entry level",
          "Entry level",
          "Entry level",
          "Entry level",
          "Entry level",
          "Entry level",
          "Entry level",
          "Entry level",
          "Entry level",
          "Entry level",
          "Entry level",
          "Entry level",
          "Entry level",
          "Entry level",
          "Entry level",
          "Entry level",
          "Entry level",
          "Entry level",
          "Entry level",
          "Entry level",
          "Entry level",
          "Entry level",
          "Entry level",
          "Entry level",
          "Entry level",
          "Entry level",
          "Entry level",
          "Entry level",
          "Entry level",
          "Entry level",
          "Entry level",
          "Entry level",
          "Entry level",
          "Entry level",
          "Entry level",
          "Entry level",
          "Entry level",
          "Entry level",
          "Entry level",
          "Entry level",
          "Entry level",
          "Entry level",
          "Entry level",
          "Entry level",
          "Entry level",
          "Entry level",
          "Entry level",
          "Entry level",
          "Entry level",
          "Entry level",
          "Entry level",
          "Entry level",
          "Entry level",
          "Entry level",
          "Entry level",
          "Entry level",
          "Entry level",
          "Entry level",
          "Entry level",
          "Entry level",
          "Entry level",
          "Entry level",
          "Entry level",
          "Entry level",
          "Entry level",
          "Entry level",
          "Entry level",
          "Entry level",
          "Entry level",
          "Entry level",
          "Entry level",
          "Entry level",
          "Entry level",
          "Entry level",
          "Entry level",
          "Entry level",
          "Entry level",
          "Entry level",
          "Entry level",
          "Entry level",
          "Entry level",
          "Entry level",
          "Entry level",
          "Entry level",
          "Entry level",
          "Entry level",
          "Entry level",
          "Entry level",
          "Entry level",
          "Entry level",
          "Entry level",
          "Entry level",
          "Entry level",
          "Entry level",
          "Entry level",
          "Entry level",
          "Entry level",
          "Entry level",
          "Entry level",
          "Entry level",
          "Entry level",
          "Entry level",
          "Entry level",
          "Entry level",
          "Entry level",
          "Entry level",
          "Entry level",
          "Entry level",
          "Entry level",
          "Entry level",
          "Entry level",
          "Entry level",
          "Entry level",
          "Entry level",
          "Entry level",
          "Entry level",
          "Entry level",
          "Entry level",
          "Entry level",
          "Entry level",
          "Entry level",
          "Entry level",
          "Entry level",
          "Entry level",
          "Entry level",
          "Entry level",
          "Entry level",
          "Entry level",
          "Entry level",
          "Entry level",
          "Entry level",
          "Entry level",
          "Entry level",
          "Entry level",
          "Entry level",
          "Entry level",
          "Entry level",
          "Entry level",
          "Entry level",
          "Entry level",
          "Entry level",
          "Entry level",
          "Entry level",
          "Entry level",
          "Entry level",
          "Entry level",
          "Entry level",
          "Entry level",
          "Entry level",
          "Entry level",
          "Entry level",
          "Entry level",
          "Entry level",
          "Entry level",
          "Entry level",
          "Entry level",
          "Entry level",
          "Entry level",
          "Entry level",
          "Entry level",
          "Entry level",
          "Entry level",
          "Entry level",
          "Entry level",
          "Entry level",
          "Entry level",
          "Entry level",
          "Entry level",
          "Entry level",
          "Entry level",
          "Entry level",
          "Entry level",
          "Entry level",
          "Entry level",
          "Entry level",
          "Entry level",
          "Entry level",
          "Entry level",
          "Entry level",
          "Entry level",
          "Entry level",
          "Entry level",
          "Entry level",
          "Entry level",
          "Entry level",
          "Entry level",
          "Entry level",
          "Entry level",
          "Entry level",
          "Entry level",
          "Entry level",
          "Entry level",
          "Entry level",
          "Entry level",
          "Entry level",
          "Entry level",
          "Entry level",
          "Entry level",
          "Entry level",
          "Entry level",
          "Entry level",
          "Entry level",
          "Entry level",
          "Entry level",
          "Entry level",
          "Entry level",
          "Entry level",
          "Entry level",
          "Entry level",
          "Entry level",
          "Entry level",
          "Entry level",
          "Entry level",
          "Entry level",
          "Entry level",
          "Entry level",
          "Entry level",
          "Entry level",
          "Entry level",
          "Entry level",
          "Entry level",
          "Entry level",
          "Entry level",
          "Entry level",
          "Entry level",
          "Entry level",
          "Entry level",
          "Entry level",
          "Entry level",
          "Entry level",
          "Entry level",
          "Entry level",
          "Entry level",
          "Entry level",
          "Entry level",
          "Entry level",
          "Entry level",
          "Entry level",
          "Entry level",
          "Entry level",
          "Entry level",
          "Entry level",
          "Entry level",
          "Entry level",
          "Entry level",
          "Entry level",
          "Entry level",
          "Entry level",
          "Entry level",
          "Entry level",
          "Entry level",
          "Entry level",
          "Entry level",
          "Entry level",
          "Entry level",
          "Entry level",
          "Entry level",
          "Entry level",
          "Entry level",
          "Entry level",
          "Entry level",
          "Entry level",
          "Entry level",
          "Entry level",
          "Entry level",
          "Entry level",
          "Entry level",
          "Entry level",
          "Entry level",
          "Entry level",
          "Entry level",
          "Entry level",
          "Entry level",
          "Entry level",
          "Entry level",
          "Entry level",
          "Entry level",
          "Entry level",
          "Entry level",
          "Entry level",
          "Entry level",
          "Entry level",
          "Entry level",
          "Entry level",
          "Entry level",
          "Entry level",
          "Entry level",
          "Entry level",
          "Entry level",
          "Entry level",
          "Entry level",
          "Entry level",
          "Entry level",
          "Entry level",
          "Entry level",
          "Entry level",
          "Entry level",
          "Entry level",
          "Entry level",
          "Entry level",
          "Entry level",
          "Entry level",
          "Entry level",
          "Entry level",
          "Entry level",
          "Entry level",
          "Entry level",
          "Entry level",
          "Entry level",
          "Entry level",
          "Entry level",
          "Entry level",
          "Entry level",
          "Entry level",
          "Entry level",
          "Entry level",
          "Entry level",
          "Entry level",
          "Entry level",
          "Entry level",
          "Entry level",
          "Entry level",
          "Entry level",
          "Entry level",
          "Entry level",
          "Entry level",
          "Entry level",
          "Entry level",
          "Entry level",
          "Entry level",
          "Entry level",
          "Entry level",
          "Entry level",
          "Entry level",
          "Entry level",
          "Entry level",
          "Entry level",
          "Entry level",
          "Entry level",
          "Entry level",
          "Entry level",
          "Entry level",
          "Entry level",
          "Entry level",
          "Entry level",
          "Entry level",
          "Entry level",
          "Entry level",
          "Entry level",
          "Entry level",
          "Entry level",
          "Entry level",
          "Entry level",
          "Entry level",
          "Entry level",
          "Entry level",
          "Entry level",
          "Entry level",
          "Entry level",
          "Entry level",
          "Entry level",
          "Entry level",
          "Entry level",
          "Entry level",
          "Entry level",
          "Entry level",
          "Entry level",
          "Entry level",
          "Entry level",
          "Entry level",
          "Entry level",
          "Entry level",
          "Entry level",
          "Entry level",
          "Entry level",
          "Entry level",
          "Entry level",
          "Entry level",
          "Entry level",
          "Entry level",
          "Entry level",
          "Entry level",
          "Entry level",
          "Entry level",
          "Entry level",
          "Entry level",
          "Entry level",
          "Entry level",
          "Entry level",
          "Entry level",
          "Entry level",
          "Entry level",
          "Entry level",
          "Entry level",
          "Entry level",
          "Entry level",
          "Entry level",
          "Entry level",
          "Entry level",
          "Entry level",
          "Entry level",
          "Entry level",
          "Entry level",
          "Entry level",
          "Entry level",
          "Entry level",
          "Entry level",
          "Entry level",
          "Entry level",
          "Entry level",
          "Entry level",
          "Entry level",
          "Entry level",
          "Entry level",
          "Entry level",
          "Entry level",
          "Entry level",
          "Entry level",
          "Entry level",
          "Entry level",
          "Entry level",
          "Entry level",
          "Entry level",
          "Entry level",
          "Entry level",
          "Entry level",
          "Entry level",
          "Entry level",
          "Entry level",
          "Entry level",
          "Entry level",
          "Entry level",
          "Entry level",
          "Entry level",
          "Entry level",
          "Entry level",
          "Entry level",
          "Entry level",
          "Entry level",
          "Entry level",
          "Entry level",
          "Entry level",
          "Entry level",
          "Entry level",
          "Entry level",
          "Entry level",
          "Entry level",
          "Entry level",
          "Entry level",
          "Entry level",
          "Entry level",
          "Entry level",
          "Entry level",
          "Entry level",
          "Entry level",
          "Entry level",
          "Entry level",
          "Entry level",
          "Entry level",
          "Entry level",
          "Entry level",
          "Entry level",
          "Entry level",
          "Entry level",
          "Entry level",
          "Entry level",
          "Entry level",
          "Entry level",
          "Entry level",
          "Entry level",
          "Entry level",
          "Entry level",
          "Entry level",
          "Entry level",
          "Entry level",
          "Entry level",
          "Entry level",
          "Entry level",
          "Entry level",
          "Entry level",
          "Entry level",
          "Entry level",
          "Entry level",
          "Entry level",
          "Entry level",
          "Entry level",
          "Entry level",
          "Entry level",
          "Entry level",
          "Entry level",
          "Entry level",
          "Entry level",
          "Entry level",
          "Entry level",
          "Entry level",
          "Entry level",
          "Entry level",
          "Entry level",
          "Entry level",
          "Entry level",
          "Entry level",
          "Entry level",
          "Entry level",
          "Entry level",
          "Entry level",
          "Entry level",
          "Entry level",
          "Entry level",
          "Entry level",
          "Entry level",
          "Entry level",
          "Entry level",
          "Entry level",
          "Entry level",
          "Entry level",
          "Entry level",
          "Entry level",
          "Entry level",
          "Entry level",
          "Entry level",
          "Entry level",
          "Entry level",
          "Entry level",
          "Entry level",
          "Entry level",
          "Entry level",
          "Entry level",
          "Entry level",
          "Entry level",
          "Entry level",
          "Entry level",
          "Entry level",
          "Entry level",
          "Entry level",
          "Entry level",
          "Entry level",
          "Entry level",
          "Entry level",
          "Entry level",
          "Entry level",
          "Entry level",
          "Entry level",
          "Entry level",
          "Entry level",
          "Entry level",
          "Entry level",
          "Entry level",
          "Entry level",
          "Entry level",
          "Entry level",
          "Entry level",
          "Entry level",
          "Entry level",
          "Entry level",
          "Entry level",
          "Entry level",
          "Entry level",
          "Entry level",
          "Entry level",
          "Entry level",
          "Entry level",
          "Entry level",
          "Entry level",
          "Entry level",
          "Entry level",
          "Entry level",
          "Entry level",
          "Entry level",
          "Entry level",
          "Entry level",
          "Entry level",
          "Entry level",
          "Entry level",
          "Entry level",
          "Entry level",
          "Entry level",
          "Entry level",
          "Entry level",
          "Entry level",
          "Entry level",
          "Entry level",
          "Entry level",
          "Entry level",
          "Entry level",
          "Entry level",
          "Entry level",
          "Entry level",
          "Entry level",
          "Entry level",
          "Entry level",
          "Entry level",
          "Entry level",
          "Entry level",
          "Entry level",
          "Entry level",
          "Entry level",
          "Entry level",
          "Entry level",
          "Entry level",
          "Entry level",
          "Entry level",
          "Entry level",
          "Entry level",
          "Entry level",
          "Entry level",
          "Entry level",
          "Entry level",
          "Entry level",
          "Entry level",
          "Entry level",
          "Entry level",
          "Entry level",
          "Entry level",
          "Entry level",
          "Entry level",
          "Entry level",
          "Entry level",
          "Entry level",
          "Entry level",
          "Entry level",
          "Entry level",
          "Entry level",
          "Entry level",
          "Entry level",
          "Entry level",
          "Entry level",
          "Entry level",
          "Entry level",
          "Entry level",
          "Entry level",
          "Entry level",
          "Entry level",
          "Entry level",
          "Entry level",
          "Entry level",
          "Entry level",
          "Entry level",
          "Entry level",
          "Entry level",
          "Entry level",
          "Entry level",
          "Entry level",
          "Entry level",
          "Entry level",
          "Entry level",
          "Entry level",
          "Entry level",
          "Entry level",
          "Entry level",
          "Entry level",
          "Entry level",
          "Entry level",
          "Entry level",
          "Entry level",
          "Entry level",
          "Entry level",
          "Entry level",
          "Entry level",
          "Entry level",
          "Entry level",
          "Entry level",
          "Entry level",
          "Entry level",
          "Entry level",
          "Entry level",
          "Entry level",
          "Entry level",
          "Entry level",
          "Entry level",
          "Entry level",
          "Entry level",
          "Entry level",
          "Entry level",
          "Entry level",
          "Entry level",
          "Entry level",
          "Entry level",
          "Entry level",
          "Entry level",
          "Entry level",
          "Entry level",
          "Entry level",
          "Entry level",
          "Entry level",
          "Entry level",
          "Entry level",
          "Entry level",
          "Entry level",
          "Entry level",
          "Entry level",
          "Entry level",
          "Entry level",
          "Entry level",
          "Entry level",
          "Entry level",
          "Entry level",
          "Entry level",
          "Entry level",
          "Entry level",
          "Entry level",
          "Entry level",
          "Entry level",
          "Entry level",
          "Entry level",
          "Entry level",
          "Entry level",
          "Entry level",
          "Entry level",
          "Entry level",
          "Entry level",
          "Entry level",
          "Entry level",
          "Entry level",
          "Entry level",
          "Entry level",
          "Entry level",
          "Entry level",
          "Entry level",
          "Entry level",
          "Entry level",
          "Entry level",
          "Entry level",
          "Entry level",
          "Entry level",
          "Entry level",
          "Entry level",
          "Entry level",
          "Entry level",
          "Entry level",
          "Entry level",
          "Entry level",
          "Entry level",
          "Entry level",
          "Entry level",
          "Entry level",
          "Entry level",
          "Entry level",
          "Entry level",
          "Entry level",
          "Entry level",
          "Entry level",
          "Entry level",
          "Entry level",
          "Entry level",
          "Entry level",
          "Entry level",
          "Entry level",
          "Entry level",
          "Entry level",
          "Entry level",
          "Entry level",
          "Entry level",
          "Entry level",
          "Entry level",
          "Entry level",
          "Entry level",
          "Entry level",
          "Entry level",
          "Entry level",
          "Entry level",
          "Entry level",
          "Entry level",
          "Entry level",
          "Entry level",
          "Entry level",
          "Entry level",
          "Entry level",
          "Entry level",
          "Entry level",
          "Entry level",
          "Entry level",
          "Entry level",
          "Entry level",
          "Entry level",
          "Entry level",
          "Entry level",
          "Entry level",
          "Entry level",
          "Entry level",
          "Entry level",
          "Entry level",
          "Entry level",
          "Entry level",
          "Entry level",
          "Entry level",
          "Entry level",
          "Entry level",
          "Entry level",
          "Entry level",
          "Entry level",
          "Entry level",
          "Entry level",
          "Entry level",
          "Entry level",
          "Entry level",
          "Entry level",
          "Entry level",
          "Entry level",
          "Entry level",
          "Entry level",
          "Entry level",
          "Entry level",
          "Entry level",
          "Entry level",
          "Entry level",
          "Entry level",
          "Entry level",
          "Entry level",
          "Entry level",
          "Entry level",
          "Entry level",
          "Entry level",
          "Entry level",
          "Entry level",
          "Entry level",
          "Entry level",
          "Entry level",
          "Entry level",
          "Entry level",
          "Entry level",
          "Entry level",
          "Entry level",
          "Entry level",
          "Entry level",
          "Entry level",
          "Entry level",
          "Entry level",
          "Entry level",
          "Entry level",
          "Entry level",
          "Entry level",
          "Entry level",
          "Entry level",
          "Entry level",
          "Entry level",
          "Entry level",
          "Entry level",
          "Entry level",
          "Entry level",
          "Entry level",
          "Entry level",
          "Entry level",
          "Entry level",
          "Entry level",
          "Entry level",
          "Entry level",
          "Entry level",
          "Entry level",
          "Entry level",
          "Entry level",
          "Entry level",
          "Entry level",
          "Entry level",
          "Entry level",
          "Entry level",
          "Entry level",
          "Entry level",
          "Entry level",
          "Entry level",
          "Entry level",
          "Entry level",
          "Entry level",
          "Entry level",
          "Entry level",
          "Entry level",
          "Entry level",
          "Entry level",
          "Entry level",
          "Entry level",
          "Entry level",
          "Entry level",
          "Entry level",
          "Entry level",
          "Entry level",
          "Entry level",
          "Entry level",
          "Entry level",
          "Entry level",
          "Entry level",
          "Entry level",
          "Entry level",
          "Entry level",
          "Entry level",
          "Entry level",
          "Entry level",
          "Entry level",
          "Entry level",
          "Entry level",
          "Entry level",
          "Entry level",
          "Entry level",
          "Entry level",
          "Entry level",
          "Entry level",
          "Entry level",
          "Entry level",
          "Entry level",
          "Entry level",
          "Entry level",
          "Entry level",
          "Entry level",
          "Entry level",
          "Entry level",
          "Entry level",
          "Entry level",
          "Entry level",
          "Entry level",
          "Entry level",
          "Entry level",
          "Entry level",
          "Entry level",
          "Entry level",
          "Entry level",
          "Entry level",
          "Entry level",
          "Entry level",
          "Entry level",
          "Entry level",
          "Entry level",
          "Entry level",
          "Entry level",
          "Entry level",
          "Entry level",
          "Entry level",
          "Entry level",
          "Entry level",
          "Entry level",
          "Entry level",
          "Entry level",
          "Entry level",
          "Entry level",
          "Entry level",
          "Entry level",
          "Entry level",
          "Entry level",
          "Entry level",
          "Entry level",
          "Entry level",
          "Entry level",
          "Entry level",
          "Entry level",
          "Entry level",
          "Entry level",
          "Entry level",
          "Entry level",
          "Entry level",
          "Entry level",
          "Entry level",
          "Entry level",
          "Entry level",
          "Entry level",
          "Entry level",
          "Entry level",
          "Entry level",
          "Entry level",
          "Entry level",
          "Entry level",
          "Entry level",
          "Entry level",
          "Entry level",
          "Entry level",
          "Entry level",
          "Entry level",
          "Entry level",
          "Entry level",
          "Entry level",
          "Entry level",
          "Entry level",
          "Entry level",
          "Entry level",
          "Entry level",
          "Entry level",
          "Entry level",
          "Entry level",
          "Entry level",
          "Entry level",
          "Entry level",
          "Entry level",
          "Entry level",
          "Entry level",
          "Entry level",
          "Entry level",
          "Entry level",
          "Entry level",
          "Entry level",
          "Entry level",
          "Entry level",
          "Entry level",
          "Entry level",
          "Entry level",
          "Entry level",
          "Entry level",
          "Entry level",
          "Entry level",
          "Entry level",
          "Entry level",
          "Entry level",
          "Entry level",
          "Entry level",
          "Entry level",
          "Entry level",
          "Entry level",
          "Entry level",
          "Entry level",
          "Entry level",
          "Entry level",
          "Entry level",
          "Entry level",
          "Entry level",
          "Entry level",
          "Entry level",
          "Entry level",
          "Entry level",
          "Entry level",
          "Entry level",
          "Entry level",
          "Entry level",
          "Entry level",
          "Entry level",
          "Entry level",
          "Entry level",
          "Entry level",
          "Entry level",
          "Entry level",
          "Entry level",
          "Entry level",
          "Entry level",
          "Entry level",
          "Entry level",
          "Entry level",
          "Entry level",
          "Entry level",
          "Entry level",
          "Entry level",
          "Entry level",
          "Entry level",
          "Entry level",
          "Entry level",
          "Entry level",
          "Entry level",
          "Entry level",
          "Entry level",
          "Entry level",
          "Entry level",
          "Entry level",
          "Entry level",
          "Entry level",
          "Entry level",
          "Entry level",
          "Entry level",
          "Entry level",
          "Entry level",
          "Entry level",
          "Entry level",
          "Entry level",
          "Entry level",
          "Entry level",
          "Entry level",
          "Entry level",
          "Entry level",
          "Entry level",
          "Entry level",
          "Entry level",
          "Entry level",
          "Entry level",
          "Entry level",
          "Entry level",
          "Entry level",
          "Entry level",
          "Entry level",
          "Entry level",
          "Entry level",
          "Entry level",
          "Entry level",
          "Entry level",
          "Entry level",
          "Entry level",
          "Entry level",
          "Entry level",
          "Entry level",
          "Entry level",
          "Entry level",
          "Entry level",
          "Entry level",
          "Entry level",
          "Entry level",
          "Entry level",
          "Entry level",
          "Entry level",
          "Entry level",
          "Entry level",
          "Entry level",
          "Entry level",
          "Entry level",
          "Entry level",
          "Entry level",
          "Entry level",
          "Entry level",
          "Entry level",
          "Entry level",
          "Entry level",
          "Entry level",
          "Entry level",
          "Entry level",
          "Entry level",
          "Entry level",
          "Entry level",
          "Entry level",
          "Entry level",
          "Entry level",
          "Entry level",
          "Entry level",
          "Entry level",
          "Entry level",
          "Entry level",
          "Entry level",
          "Entry level",
          "Entry level",
          "Entry level",
          "Entry level",
          "Entry level",
          "Entry level",
          "Entry level",
          "Entry level",
          "Entry level",
          "Entry level",
          "Entry level",
          "Entry level",
          "Entry level",
          "Entry level",
          "Entry level",
          "Entry level",
          "Entry level",
          "Entry level",
          "Entry level",
          "Entry level",
          "Entry level",
          "Entry level",
          "Entry level",
          "Entry level",
          "Entry level",
          "Entry level",
          "Entry level",
          "Entry level",
          "Entry level",
          "Entry level",
          "Entry level",
          "Entry level",
          "Entry level",
          "Entry level",
          "Entry level",
          "Entry level",
          "Entry level",
          "Entry level",
          "Entry level",
          "Entry level",
          "Entry level",
          "Entry level",
          "Entry level",
          "Entry level",
          "Entry level",
          "Entry level",
          "Entry level",
          "Entry level",
          "Entry level",
          "Entry level",
          "Entry level",
          "Entry level",
          "Entry level",
          "Entry level",
          "Entry level",
          "Entry level",
          "Entry level",
          "Entry level",
          "Entry level",
          "Entry level",
          "Entry level",
          "Entry level",
          "Entry level",
          "Entry level",
          "Entry level",
          "Entry level",
          "Entry level",
          "Entry level",
          "Entry level",
          "Entry level",
          "Entry level",
          "Entry level",
          "Entry level",
          "Entry level",
          "Entry level",
          "Entry level",
          "Entry level",
          "Entry level",
          "Entry level",
          "Entry level",
          "Entry level",
          "Entry level",
          "Entry level",
          "Entry level",
          "Entry level",
          "Entry level",
          "Entry level",
          "Entry level",
          "Entry level",
          "Entry level",
          "Entry level",
          "Entry level",
          "Entry level",
          "Entry level",
          "Entry level",
          "Entry level",
          "Entry level",
          "Entry level",
          "Entry level",
          "Entry level",
          "Entry level",
          "Entry level",
          "Entry level",
          "Entry level",
          "Entry level",
          "Entry level",
          "Entry level",
          "Entry level",
          "Entry level",
          "Entry level",
          "Entry level",
          "Entry level",
          "Entry level",
          "Entry level",
          "Entry level",
          "Entry level",
          "Entry level",
          "Entry level",
          "Entry level",
          "Entry level",
          "Entry level",
          "Entry level",
          "Entry level",
          "Entry level",
          "Entry level",
          "Entry level",
          "Entry level",
          "Entry level",
          "Entry level",
          "Entry level",
          "Entry level",
          "Entry level",
          "Entry level",
          "Entry level",
          "Entry level",
          "Entry level",
          "Entry level",
          "Entry level",
          "Entry level",
          "Entry level",
          "Entry level",
          "Entry level",
          "Entry level",
          "Entry level",
          "Entry level",
          "Entry level",
          "Entry level",
          "Entry level",
          "Entry level",
          "Entry level",
          "Entry level",
          "Entry level",
          "Entry level",
          "Entry level",
          "Entry level",
          "Entry level",
          "Entry level",
          "Entry level",
          "Entry level",
          "Entry level",
          "Entry level",
          "Entry level",
          "Entry level",
          "Entry level",
          "Entry level",
          "Entry level",
          "Entry level",
          "Entry level",
          "Entry level",
          "Entry level",
          "Entry level",
          "Entry level",
          "Entry level",
          "Entry level",
          "Entry level",
          "Entry level",
          "Entry level",
          "Entry level",
          "Entry level",
          "Entry level",
          "Entry level",
          "Entry level",
          "Entry level",
          "Entry level",
          "Entry level",
          "Entry level",
          "Entry level",
          "Entry level",
          "Entry level",
          "Entry level",
          "Entry level",
          "Entry level",
          "Entry level",
          "Entry level",
          "Entry level",
          "Entry level",
          "Entry level",
          "Entry level",
          "Entry level",
          "Entry level",
          "Entry level",
          "Entry level",
          "Entry level",
          "Entry level",
          "Entry level",
          "Entry level",
          "Entry level",
          "Entry level",
          "Entry level",
          "Entry level",
          "Entry level",
          "Entry level",
          "Entry level",
          "Entry level",
          "Entry level",
          "Entry level",
          "Entry level",
          "Entry level",
          "Entry level",
          "Entry level",
          "Entry level",
          "Entry level",
          "Entry level",
          "Entry level",
          "Entry level",
          "Entry level",
          "Entry level",
          "Entry level",
          "Entry level",
          "Entry level",
          "Entry level",
          "Entry level",
          "Entry level",
          "Entry level",
          "Entry level",
          "Entry level",
          "Entry level",
          "Entry level",
          "Entry level",
          "Entry level",
          "Entry level",
          "Entry level",
          "Entry level",
          "Entry level",
          "Entry level",
          "Entry level",
          "Entry level",
          "Entry level",
          "Entry level",
          "Entry level",
          "Entry level",
          "Entry level",
          "Entry level",
          "Entry level",
          "Entry level",
          "Entry level",
          "Entry level",
          "Entry level",
          "Entry level",
          "Entry level",
          "Entry level",
          "Entry level",
          "Entry level",
          "Entry level",
          "Entry level",
          "Entry level",
          "Entry level",
          "Entry level",
          "Entry level",
          "Entry level",
          "Entry level",
          "Entry level",
          "Entry level",
          "Entry level",
          "Entry level",
          "Entry level",
          "Entry level",
          "Entry level",
          "Entry level",
          "Entry level",
          "Entry level",
          "Entry level",
          "Entry level",
          "Entry level",
          "Entry level",
          "Entry level",
          "Entry level",
          "Entry level",
          "Entry level",
          "Entry level",
          "Entry level",
          "Entry level",
          "Entry level",
          "Entry level",
          "Entry level",
          "Entry level",
          "Entry level",
          "Entry level",
          "Entry level",
          "Entry level",
          "Entry level",
          "Entry level",
          "Entry level",
          "Entry level",
          "Entry level",
          "Entry level",
          "Entry level",
          "Entry level",
          "Entry level",
          "Entry level",
          "Entry level",
          "Entry level",
          "Entry level",
          "Entry level",
          "Entry level",
          "Entry level",
          "Entry level",
          "Entry level",
          "Entry level",
          "Entry level",
          "Entry level",
          "Entry level",
          "Entry level",
          "Entry level",
          "Entry level",
          "Entry level",
          "Entry level",
          "Entry level",
          "Entry level",
          "Entry level",
          "Entry level",
          "Entry level",
          "Entry level",
          "Entry level",
          "Entry level",
          "Entry level",
          "Entry level",
          "Entry level",
          "Entry level",
          "Entry level",
          "Entry level",
          "Entry level",
          "Entry level",
          "Entry level",
          "Entry level",
          "Entry level",
          "Entry level",
          "Entry level",
          "Entry level",
          "Entry level",
          "Entry level",
          "Entry level",
          "Entry level",
          "Entry level",
          "Entry level",
          "Entry level",
          "Entry level",
          "Entry level",
          "Entry level",
          "Entry level",
          "Entry level",
          "Entry level",
          "Entry level",
          "Entry level",
          "Entry level",
          "Entry level",
          "Entry level",
          "Entry level",
          "Entry level",
          "Entry level",
          "Entry level",
          "Entry level",
          "Entry level",
          "Entry level",
          "Entry level",
          "Entry level",
          "Entry level",
          "Entry level",
          "Entry level",
          "Entry level",
          "Entry level",
          "Entry level",
          "Entry level",
          "Entry level",
          "Entry level",
          "Entry level",
          "Entry level",
          "Entry level",
          "Entry level",
          "Entry level",
          "Entry level",
          "Entry level",
          "Entry level",
          "Entry level",
          "Entry level",
          "Entry level",
          "Entry level",
          "Entry level",
          "Entry level",
          "Entry level",
          "Entry level",
          "Entry level",
          "Entry level",
          "Entry level",
          "Entry level",
          "Entry level",
          "Entry level",
          "Entry level",
          "Entry level",
          "Entry level",
          "Entry level",
          "Entry level",
          "Entry level",
          "Entry level",
          "Entry level",
          "Entry level",
          "Entry level",
          "Entry level",
          "Entry level",
          "Entry level",
          "Entry level",
          "Entry level",
          "Entry level",
          "Entry level",
          "Entry level",
          "Entry level",
          "Entry level",
          "Entry level",
          "Entry level",
          "Entry level",
          "Entry level",
          "Entry level",
          "Entry level",
          "Entry level",
          "Entry level",
          "Entry level",
          "Entry level",
          "Entry level",
          "Entry level",
          "Entry level",
          "Entry level",
          "Entry level",
          "Entry level",
          "Entry level",
          "Entry level",
          "Entry level",
          "Entry level",
          "Entry level",
          "Entry level",
          "Entry level",
          "Entry level",
          "Entry level",
          "Entry level",
          "Entry level",
          "Entry level",
          "Entry level",
          "Entry level",
          "Entry level",
          "Entry level",
          "Entry level",
          "Entry level",
          "Entry level",
          "Entry level",
          "Entry level",
          "Entry level",
          "Entry level",
          "Entry level",
          "Entry level",
          "Entry level",
          "Entry level",
          "Entry level",
          "Entry level",
          "Entry level",
          "Entry level",
          "Entry level",
          "Entry level",
          "Entry level",
          "Entry level",
          "Entry level",
          "Entry level",
          "Entry level",
          "Entry level",
          "Entry level",
          "Entry level",
          "Entry level",
          "Entry level",
          "Entry level",
          "Entry level",
          "Entry level",
          "Entry level",
          "Entry level",
          "Entry level",
          "Entry level",
          "Entry level",
          "Entry level",
          "Entry level",
          "Entry level",
          "Entry level",
          "Entry level",
          "Entry level",
          "Entry level",
          "Entry level",
          "Entry level",
          "Entry level",
          "Entry level",
          "Entry level",
          "Entry level",
          "Entry level",
          "Entry level",
          "Entry level",
          "Entry level",
          "Entry level",
          "Entry level",
          "Entry level",
          "Entry level",
          "Entry level",
          "Entry level",
          "Entry level",
          "Entry level",
          "Entry level",
          "Entry level",
          "Entry level",
          "Entry level",
          "Entry level",
          "Entry level",
          "Entry level",
          "Entry level",
          "Entry level",
          "Entry level",
          "Entry level",
          "Entry level",
          "Entry level",
          "Entry level",
          "Entry level",
          "Entry level",
          "Entry level",
          "Entry level",
          "Entry level",
          "Entry level",
          "Entry level",
          "Entry level",
          "Entry level",
          "Entry level",
          "Entry level",
          "Entry level",
          "Entry level",
          "Entry level",
          "Entry level",
          "Entry level",
          "Entry level",
          "Entry level",
          "Entry level",
          "Entry level",
          "Entry level",
          "Entry level",
          "Entry level",
          "Entry level",
          "Entry level",
          "Entry level",
          "Entry level",
          "Entry level",
          "Entry level",
          "Entry level",
          "Entry level",
          "Entry level",
          "Entry level",
          "Entry level",
          "Entry level",
          "Entry level",
          "Entry level",
          "Entry level",
          "Entry level",
          "Entry level",
          "Entry level",
          "Entry level",
          "Entry level",
          "Entry level",
          "Entry level",
          "Entry level",
          "Entry level",
          "Entry level",
          "Entry level",
          "Entry level",
          "Entry level",
          "Entry level",
          "Entry level",
          "Entry level",
          "Entry level",
          "Entry level",
          "Entry level",
          "Entry level",
          "Entry level",
          "Entry level",
          "Entry level",
          "Entry level",
          "Entry level",
          "Entry level",
          "Entry level",
          "Entry level",
          "Entry level",
          "Entry level",
          "Entry level",
          "Entry level",
          "Entry level",
          "Entry level",
          "Entry level",
          "Entry level",
          "Entry level",
          "Entry level",
          "Entry level",
          "Entry level",
          "Entry level",
          "Entry level",
          "Entry level",
          "Entry level",
          "Entry level",
          "Entry level",
          "Entry level",
          "Entry level",
          "Entry level",
          "Entry level",
          "Entry level",
          "Entry level",
          "Entry level",
          "Entry level",
          "Entry level",
          "Entry level",
          "Entry level",
          "Entry level",
          "Entry level",
          "Entry level",
          "Entry level",
          "Entry level",
          "Entry level",
          "Entry level",
          "Entry level",
          "Entry level",
          "Entry level",
          "Entry level",
          "Entry level",
          "Entry level",
          "Entry level",
          "Entry level",
          "Entry level",
          "Entry level",
          "Entry level",
          "Entry level",
          "Entry level",
          "Entry level",
          "Entry level",
          "Entry level",
          "Entry level",
          "Entry level",
          "Entry level",
          "Entry level",
          "Entry level",
          "Entry level",
          "Entry level",
          "Entry level",
          "Entry level",
          "Entry level",
          "Entry level",
          "Entry level",
          "Entry level",
          "Entry level",
          "Entry level",
          "Entry level",
          "Entry level",
          "Entry level",
          "Entry level",
          "Entry level",
          "Entry level",
          "Entry level",
          "Entry level",
          "Entry level",
          "Entry level",
          "Entry level",
          "Entry level",
          "Entry level",
          "Entry level",
          "Entry level",
          "Entry level",
          "Entry level",
          "Entry level",
          "Entry level",
          "Entry level",
          "Entry level",
          "Entry level",
          "Entry level",
          "Entry level",
          "Entry level",
          "Entry level",
          "Entry level",
          "Entry level",
          "Entry level",
          "Entry level",
          "Entry level",
          "Entry level",
          "Entry level",
          "Entry level",
          "Entry level",
          "Entry level",
          "Entry level",
          "Entry level",
          "Entry level",
          "Entry level",
          "Entry level",
          "Entry level",
          "Entry level",
          "Entry level",
          "Entry level",
          "Entry level",
          "Entry level",
          "Entry level",
          "Entry level",
          "Entry level",
          "Entry level",
          "Entry level",
          "Entry level",
          "Entry level",
          "Entry level",
          "Entry level",
          "Entry level",
          "Entry level",
          "Entry level",
          "Entry level",
          "Entry level",
          "Entry level",
          "Entry level",
          "Entry level",
          "Entry level",
          "Entry level",
          "Entry level",
          "Entry level",
          "Entry level",
          "Entry level",
          "Entry level",
          "Entry level",
          "Entry level",
          "Entry level",
          "Entry level",
          "Entry level",
          "Entry level",
          "Entry level",
          "Entry level",
          "Entry level",
          "Entry level",
          "Entry level",
          "Entry level",
          "Entry level",
          "Entry level",
          "Entry level",
          "Entry level",
          "Entry level",
          "Entry level",
          "Entry level",
          "Entry level",
          "Entry level",
          "Entry level",
          "Entry level",
          "Entry level",
          "Entry level",
          "Entry level",
          "Entry level",
          "Entry level",
          "Entry level",
          "Entry level",
          "Entry level",
          "Entry level",
          "Entry level",
          "Entry level",
          "Entry level",
          "Entry level",
          "Entry level",
          "Entry level",
          "Entry level",
          "Entry level",
          "Entry level",
          "Entry level",
          "Entry level",
          "Entry level",
          "Entry level",
          "Entry level",
          "Entry level",
          "Entry level",
          "Entry level",
          "Entry level",
          "Entry level",
          "Entry level",
          "Entry level",
          "Entry level",
          "Entry level",
          "Entry level",
          "Entry level",
          "Entry level",
          "Entry level",
          "Entry level",
          "Entry level",
          "Entry level",
          "Entry level",
          "Entry level",
          "Entry level",
          "Entry level",
          "Entry level",
          "Entry level",
          "Entry level",
          "Entry level",
          "Entry level"
         ],
         "x0": " ",
         "xaxis": "x",
         "y": {
          "bdata": "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",
          "dtype": "f8"
         },
         "y0": " ",
         "yaxis": "y"
        },
        {
         "alignmentgroup": "True",
         "box": {
          "visible": true
         },
         "hovertemplate": "Seniority level=%{x}<br>avg_salary=%{y}<extra></extra>",
         "legendgroup": "Associate",
         "marker": {
          "color": "#9467bd"
         },
         "name": "Associate",
         "offsetgroup": "Associate",
         "orientation": "v",
         "points": "outliers",
         "scalegroup": "True",
         "showlegend": true,
         "type": "violin",
         "x": [
          "Associate",
          "Associate",
          "Associate",
          "Associate",
          "Associate",
          "Associate",
          "Associate",
          "Associate",
          "Associate",
          "Associate",
          "Associate",
          "Associate",
          "Associate",
          "Associate",
          "Associate",
          "Associate",
          "Associate",
          "Associate",
          "Associate",
          "Associate",
          "Associate",
          "Associate",
          "Associate",
          "Associate",
          "Associate",
          "Associate",
          "Associate",
          "Associate",
          "Associate",
          "Associate",
          "Associate",
          "Associate",
          "Associate",
          "Associate",
          "Associate",
          "Associate",
          "Associate",
          "Associate",
          "Associate",
          "Associate",
          "Associate",
          "Associate",
          "Associate",
          "Associate",
          "Associate",
          "Associate",
          "Associate",
          "Associate",
          "Associate",
          "Associate",
          "Associate",
          "Associate",
          "Associate",
          "Associate",
          "Associate",
          "Associate",
          "Associate",
          "Associate",
          "Associate",
          "Associate",
          "Associate",
          "Associate",
          "Associate",
          "Associate",
          "Associate",
          "Associate",
          "Associate",
          "Associate",
          "Associate",
          "Associate",
          "Associate",
          "Associate",
          "Associate",
          "Associate",
          "Associate",
          "Associate",
          "Associate",
          "Associate",
          "Associate",
          "Associate",
          "Associate",
          "Associate",
          "Associate",
          "Associate",
          "Associate",
          "Associate",
          "Associate",
          "Associate",
          "Associate",
          "Associate",
          "Associate",
          "Associate",
          "Associate",
          "Associate",
          "Associate",
          "Associate",
          "Associate",
          "Associate",
          "Associate",
          "Associate",
          "Associate",
          "Associate",
          "Associate",
          "Associate",
          "Associate",
          "Associate",
          "Associate",
          "Associate",
          "Associate",
          "Associate",
          "Associate",
          "Associate",
          "Associate",
          "Associate",
          "Associate",
          "Associate",
          "Associate",
          "Associate",
          "Associate",
          "Associate",
          "Associate",
          "Associate",
          "Associate",
          "Associate",
          "Associate",
          "Associate",
          "Associate",
          "Associate",
          "Associate",
          "Associate",
          "Associate",
          "Associate",
          "Associate",
          "Associate",
          "Associate",
          "Associate",
          "Associate",
          "Associate",
          "Associate",
          "Associate",
          "Associate",
          "Associate",
          "Associate",
          "Associate",
          "Associate",
          "Associate",
          "Associate",
          "Associate",
          "Associate",
          "Associate",
          "Associate",
          "Associate",
          "Associate",
          "Associate",
          "Associate",
          "Associate",
          "Associate",
          "Associate",
          "Associate",
          "Associate",
          "Associate",
          "Associate",
          "Associate",
          "Associate",
          "Associate",
          "Associate",
          "Associate",
          "Associate",
          "Associate",
          "Associate",
          "Associate",
          "Associate",
          "Associate",
          "Associate",
          "Associate",
          "Associate",
          "Associate",
          "Associate",
          "Associate",
          "Associate",
          "Associate",
          "Associate",
          "Associate",
          "Associate",
          "Associate",
          "Associate",
          "Associate",
          "Associate",
          "Associate",
          "Associate",
          "Associate",
          "Associate",
          "Associate",
          "Associate",
          "Associate",
          "Associate",
          "Associate",
          "Associate",
          "Associate",
          "Associate",
          "Associate",
          "Associate",
          "Associate",
          "Associate",
          "Associate",
          "Associate",
          "Associate",
          "Associate",
          "Associate",
          "Associate",
          "Associate",
          "Associate",
          "Associate",
          "Associate",
          "Associate",
          "Associate",
          "Associate",
          "Associate",
          "Associate",
          "Associate",
          "Associate",
          "Associate",
          "Associate",
          "Associate",
          "Associate",
          "Associate",
          "Associate",
          "Associate",
          "Associate",
          "Associate",
          "Associate",
          "Associate",
          "Associate",
          "Associate",
          "Associate",
          "Associate",
          "Associate",
          "Associate",
          "Associate",
          "Associate",
          "Associate",
          "Associate",
          "Associate",
          "Associate",
          "Associate",
          "Associate",
          "Associate",
          "Associate",
          "Associate",
          "Associate",
          "Associate",
          "Associate",
          "Associate",
          "Associate",
          "Associate",
          "Associate",
          "Associate",
          "Associate",
          "Associate",
          "Associate",
          "Associate",
          "Associate",
          "Associate",
          "Associate",
          "Associate",
          "Associate",
          "Associate",
          "Associate",
          "Associate",
          "Associate",
          "Associate",
          "Associate",
          "Associate",
          "Associate",
          "Associate",
          "Associate",
          "Associate",
          "Associate",
          "Associate",
          "Associate",
          "Associate",
          "Associate",
          "Associate",
          "Associate",
          "Associate",
          "Associate",
          "Associate",
          "Associate",
          "Associate",
          "Associate",
          "Associate",
          "Associate",
          "Associate",
          "Associate",
          "Associate",
          "Associate",
          "Associate",
          "Associate",
          "Associate",
          "Associate",
          "Associate",
          "Associate",
          "Associate",
          "Associate",
          "Associate",
          "Associate",
          "Associate",
          "Associate",
          "Associate",
          "Associate",
          "Associate",
          "Associate",
          "Associate",
          "Associate",
          "Associate",
          "Associate",
          "Associate",
          "Associate",
          "Associate",
          "Associate",
          "Associate",
          "Associate",
          "Associate",
          "Associate",
          "Associate",
          "Associate",
          "Associate",
          "Associate",
          "Associate",
          "Associate",
          "Associate",
          "Associate",
          "Associate",
          "Associate",
          "Associate",
          "Associate",
          "Associate",
          "Associate",
          "Associate",
          "Associate",
          "Associate",
          "Associate",
          "Associate",
          "Associate",
          "Associate",
          "Associate",
          "Associate",
          "Associate",
          "Associate",
          "Associate",
          "Associate",
          "Associate",
          "Associate",
          "Associate",
          "Associate",
          "Associate",
          "Associate",
          "Associate",
          "Associate",
          "Associate",
          "Associate",
          "Associate",
          "Associate",
          "Associate",
          "Associate",
          "Associate",
          "Associate",
          "Associate",
          "Associate",
          "Associate",
          "Associate",
          "Associate",
          "Associate",
          "Associate",
          "Associate",
          "Associate",
          "Associate",
          "Associate",
          "Associate",
          "Associate",
          "Associate",
          "Associate",
          "Associate",
          "Associate",
          "Associate",
          "Associate",
          "Associate",
          "Associate",
          "Associate",
          "Associate",
          "Associate",
          "Associate",
          "Associate",
          "Associate",
          "Associate",
          "Associate",
          "Associate",
          "Associate",
          "Associate",
          "Associate",
          "Associate",
          "Associate",
          "Associate",
          "Associate",
          "Associate",
          "Associate",
          "Associate",
          "Associate",
          "Associate",
          "Associate",
          "Associate",
          "Associate",
          "Associate",
          "Associate",
          "Associate",
          "Associate",
          "Associate",
          "Associate",
          "Associate",
          "Associate",
          "Associate",
          "Associate",
          "Associate",
          "Associate",
          "Associate",
          "Associate",
          "Associate",
          "Associate",
          "Associate",
          "Associate",
          "Associate",
          "Associate",
          "Associate",
          "Associate",
          "Associate",
          "Associate",
          "Associate",
          "Associate",
          "Associate",
          "Associate",
          "Associate",
          "Associate",
          "Associate",
          "Associate",
          "Associate",
          "Associate",
          "Associate",
          "Associate",
          "Associate",
          "Associate",
          "Associate",
          "Associate",
          "Associate",
          "Associate",
          "Associate",
          "Associate",
          "Associate",
          "Associate",
          "Associate",
          "Associate",
          "Associate",
          "Associate",
          "Associate",
          "Associate",
          "Associate",
          "Associate",
          "Associate",
          "Associate",
          "Associate",
          "Associate",
          "Associate",
          "Associate",
          "Associate",
          "Associate",
          "Associate",
          "Associate",
          "Associate",
          "Associate",
          "Associate",
          "Associate",
          "Associate",
          "Associate",
          "Associate",
          "Associate",
          "Associate",
          "Associate",
          "Associate",
          "Associate",
          "Associate",
          "Associate",
          "Associate",
          "Associate",
          "Associate",
          "Associate",
          "Associate",
          "Associate",
          "Associate",
          "Associate",
          "Associate",
          "Associate",
          "Associate",
          "Associate",
          "Associate",
          "Associate",
          "Associate",
          "Associate",
          "Associate",
          "Associate",
          "Associate",
          "Associate",
          "Associate",
          "Associate",
          "Associate",
          "Associate",
          "Associate",
          "Associate",
          "Associate",
          "Associate",
          "Associate",
          "Associate",
          "Associate",
          "Associate",
          "Associate",
          "Associate",
          "Associate",
          "Associate",
          "Associate",
          "Associate",
          "Associate",
          "Associate",
          "Associate",
          "Associate",
          "Associate",
          "Associate",
          "Associate",
          "Associate",
          "Associate",
          "Associate",
          "Associate",
          "Associate",
          "Associate",
          "Associate",
          "Associate",
          "Associate",
          "Associate",
          "Associate",
          "Associate",
          "Associate",
          "Associate",
          "Associate",
          "Associate",
          "Associate",
          "Associate",
          "Associate",
          "Associate",
          "Associate",
          "Associate",
          "Associate",
          "Associate",
          "Associate",
          "Associate",
          "Associate",
          "Associate",
          "Associate",
          "Associate",
          "Associate",
          "Associate",
          "Associate",
          "Associate",
          "Associate",
          "Associate",
          "Associate",
          "Associate",
          "Associate",
          "Associate",
          "Associate",
          "Associate",
          "Associate",
          "Associate",
          "Associate",
          "Associate",
          "Associate",
          "Associate",
          "Associate",
          "Associate",
          "Associate",
          "Associate",
          "Associate",
          "Associate",
          "Associate",
          "Associate",
          "Associate",
          "Associate",
          "Associate",
          "Associate",
          "Associate",
          "Associate",
          "Associate",
          "Associate",
          "Associate",
          "Associate",
          "Associate",
          "Associate",
          "Associate",
          "Associate",
          "Associate",
          "Associate",
          "Associate",
          "Associate",
          "Associate",
          "Associate",
          "Associate",
          "Associate",
          "Associate",
          "Associate",
          "Associate",
          "Associate",
          "Associate",
          "Associate",
          "Associate",
          "Associate",
          "Associate",
          "Associate",
          "Associate",
          "Associate",
          "Associate",
          "Associate",
          "Associate",
          "Associate",
          "Associate",
          "Associate",
          "Associate",
          "Associate",
          "Associate",
          "Associate",
          "Associate",
          "Associate",
          "Associate",
          "Associate",
          "Associate",
          "Associate",
          "Associate",
          "Associate",
          "Associate",
          "Associate",
          "Associate",
          "Associate",
          "Associate",
          "Associate",
          "Associate",
          "Associate",
          "Associate",
          "Associate",
          "Associate",
          "Associate",
          "Associate",
          "Associate",
          "Associate",
          "Associate",
          "Associate",
          "Associate",
          "Associate",
          "Associate",
          "Associate",
          "Associate",
          "Associate",
          "Associate",
          "Associate",
          "Associate",
          "Associate",
          "Associate",
          "Associate",
          "Associate",
          "Associate",
          "Associate",
          "Associate",
          "Associate",
          "Associate",
          "Associate",
          "Associate",
          "Associate",
          "Associate",
          "Associate",
          "Associate",
          "Associate",
          "Associate",
          "Associate",
          "Associate",
          "Associate",
          "Associate",
          "Associate",
          "Associate",
          "Associate",
          "Associate",
          "Associate",
          "Associate",
          "Associate",
          "Associate",
          "Associate",
          "Associate",
          "Associate",
          "Associate",
          "Associate",
          "Associate",
          "Associate",
          "Associate",
          "Associate",
          "Associate",
          "Associate",
          "Associate",
          "Associate",
          "Associate",
          "Associate",
          "Associate",
          "Associate",
          "Associate",
          "Associate",
          "Associate",
          "Associate",
          "Associate",
          "Associate",
          "Associate",
          "Associate",
          "Associate",
          "Associate",
          "Associate",
          "Associate",
          "Associate",
          "Associate",
          "Associate",
          "Associate",
          "Associate",
          "Associate",
          "Associate",
          "Associate",
          "Associate",
          "Associate",
          "Associate",
          "Associate",
          "Associate",
          "Associate",
          "Associate",
          "Associate",
          "Associate",
          "Associate",
          "Associate",
          "Associate",
          "Associate",
          "Associate",
          "Associate",
          "Associate",
          "Associate",
          "Associate",
          "Associate",
          "Associate",
          "Associate",
          "Associate",
          "Associate",
          "Associate",
          "Associate",
          "Associate",
          "Associate",
          "Associate",
          "Associate",
          "Associate",
          "Associate",
          "Associate",
          "Associate",
          "Associate",
          "Associate",
          "Associate",
          "Associate",
          "Associate",
          "Associate",
          "Associate",
          "Associate",
          "Associate",
          "Associate",
          "Associate",
          "Associate",
          "Associate",
          "Associate",
          "Associate",
          "Associate",
          "Associate",
          "Associate",
          "Associate",
          "Associate",
          "Associate",
          "Associate",
          "Associate",
          "Associate",
          "Associate",
          "Associate",
          "Associate",
          "Associate",
          "Associate",
          "Associate",
          "Associate",
          "Associate",
          "Associate",
          "Associate",
          "Associate",
          "Associate",
          "Associate",
          "Associate",
          "Associate",
          "Associate",
          "Associate",
          "Associate",
          "Associate",
          "Associate",
          "Associate",
          "Associate",
          "Associate",
          "Associate",
          "Associate",
          "Associate",
          "Associate",
          "Associate",
          "Associate",
          "Associate",
          "Associate",
          "Associate",
          "Associate",
          "Associate",
          "Associate",
          "Associate",
          "Associate",
          "Associate",
          "Associate",
          "Associate",
          "Associate",
          "Associate",
          "Associate",
          "Associate",
          "Associate",
          "Associate",
          "Associate",
          "Associate",
          "Associate",
          "Associate",
          "Associate",
          "Associate",
          "Associate",
          "Associate",
          "Associate",
          "Associate",
          "Associate",
          "Associate",
          "Associate",
          "Associate",
          "Associate",
          "Associate",
          "Associate",
          "Associate",
          "Associate",
          "Associate",
          "Associate",
          "Associate",
          "Associate",
          "Associate",
          "Associate",
          "Associate",
          "Associate",
          "Associate",
          "Associate",
          "Associate",
          "Associate",
          "Associate",
          "Associate",
          "Associate",
          "Associate",
          "Associate",
          "Associate",
          "Associate",
          "Associate",
          "Associate",
          "Associate",
          "Associate",
          "Associate",
          "Associate",
          "Associate",
          "Associate",
          "Associate",
          "Associate",
          "Associate",
          "Associate",
          "Associate",
          "Associate",
          "Associate",
          "Associate",
          "Associate",
          "Associate",
          "Associate",
          "Associate",
          "Associate",
          "Associate",
          "Associate",
          "Associate",
          "Associate",
          "Associate",
          "Associate",
          "Associate",
          "Associate",
          "Associate",
          "Associate",
          "Associate",
          "Associate",
          "Associate",
          "Associate",
          "Associate",
          "Associate",
          "Associate",
          "Associate",
          "Associate",
          "Associate",
          "Associate",
          "Associate",
          "Associate",
          "Associate",
          "Associate",
          "Associate",
          "Associate",
          "Associate",
          "Associate",
          "Associate",
          "Associate",
          "Associate",
          "Associate",
          "Associate",
          "Associate",
          "Associate",
          "Associate",
          "Associate",
          "Associate",
          "Associate",
          "Associate",
          "Associate",
          "Associate",
          "Associate",
          "Associate",
          "Associate",
          "Associate",
          "Associate",
          "Associate",
          "Associate",
          "Associate",
          "Associate",
          "Associate",
          "Associate",
          "Associate",
          "Associate",
          "Associate",
          "Associate",
          "Associate",
          "Associate",
          "Associate",
          "Associate",
          "Associate",
          "Associate",
          "Associate",
          "Associate",
          "Associate",
          "Associate",
          "Associate",
          "Associate",
          "Associate",
          "Associate",
          "Associate",
          "Associate",
          "Associate",
          "Associate",
          "Associate",
          "Associate",
          "Associate",
          "Associate",
          "Associate",
          "Associate",
          "Associate",
          "Associate",
          "Associate",
          "Associate",
          "Associate",
          "Associate",
          "Associate",
          "Associate",
          "Associate",
          "Associate",
          "Associate",
          "Associate",
          "Associate",
          "Associate",
          "Associate",
          "Associate",
          "Associate",
          "Associate",
          "Associate",
          "Associate",
          "Associate",
          "Associate",
          "Associate",
          "Associate",
          "Associate",
          "Associate",
          "Associate",
          "Associate",
          "Associate",
          "Associate",
          "Associate",
          "Associate",
          "Associate",
          "Associate",
          "Associate",
          "Associate",
          "Associate",
          "Associate",
          "Associate",
          "Associate",
          "Associate",
          "Associate",
          "Associate",
          "Associate",
          "Associate",
          "Associate",
          "Associate",
          "Associate",
          "Associate",
          "Associate",
          "Associate",
          "Associate",
          "Associate",
          "Associate",
          "Associate"
         ],
         "x0": " ",
         "xaxis": "x",
         "y": {
          "bdata": "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",
          "dtype": "f8"
         },
         "y0": " ",
         "yaxis": "y"
        },
        {
         "alignmentgroup": "True",
         "box": {
          "visible": true
         },
         "hovertemplate": "Seniority level=%{x}<br>avg_salary=%{y}<extra></extra>",
         "legendgroup": "Internship",
         "marker": {
          "color": "#8c564b"
         },
         "name": "Internship",
         "offsetgroup": "Internship",
         "orientation": "v",
         "points": "outliers",
         "scalegroup": "True",
         "showlegend": true,
         "type": "violin",
         "x": [
          "Internship",
          "Internship",
          "Internship",
          "Internship",
          "Internship",
          "Internship",
          "Internship",
          "Internship",
          "Internship",
          "Internship",
          "Internship",
          "Internship",
          "Internship",
          "Internship",
          "Internship",
          "Internship",
          "Internship",
          "Internship",
          "Internship",
          "Internship",
          "Internship",
          "Internship",
          "Internship",
          "Internship",
          "Internship",
          "Internship",
          "Internship",
          "Internship",
          "Internship",
          "Internship",
          "Internship",
          "Internship",
          "Internship",
          "Internship",
          "Internship"
         ],
         "x0": " ",
         "xaxis": "x",
         "y": {
          "bdata": "AAAAAAAA+H8AAAAAIE0FQQAAAAAAAPh/AAAAAAAA+H8AAAAAAAD4fwAAAAAAAPh/AAAAAICP+EAAAAAAAAD4fwAAAAAAAPh/AAAAAAAA+H8AAAAAAAD4fwAAAAAAAPh/AAAAAAAA+H8AAAAAAAD4fwAAAAAAAPh/AAAAAEAqA0EAAAAAAAD4fwAAAAAAAPh/AAAAAAAA+H8AAAAAAAD4fwAAAAAAAPh/AAAAAAAA+H8AAAAAAAD4fwAAAAAAAPh/AAAAAAAA+H8AAAAAAAD4fwAAAAAAWPZAAAAAAAAA+H8AAAAAAAD4fwAAAAAAAPh/AAAAAAAA+H8AAAAAAAD4fwAAAAAAAPh/AAAAAAAA+H8AAAAAAAD4fw==",
          "dtype": "f8"
         },
         "y0": " ",
         "yaxis": "y"
        },
        {
         "alignmentgroup": "True",
         "box": {
          "visible": true
         },
         "hovertemplate": "Seniority level=%{x}<br>avg_salary=%{y}<extra></extra>",
         "legendgroup": "Director",
         "marker": {
          "color": "#1f77b4"
         },
         "name": "Director",
         "offsetgroup": "Director",
         "orientation": "v",
         "points": "outliers",
         "scalegroup": "True",
         "showlegend": true,
         "type": "violin",
         "x": [
          "Director",
          "Director",
          "Director",
          "Director",
          "Director",
          "Director",
          "Director",
          "Director",
          "Director",
          "Director",
          "Director",
          "Director",
          "Director",
          "Director",
          "Director",
          "Director",
          "Director",
          "Director",
          "Director",
          "Director",
          "Director",
          "Director",
          "Director",
          "Director",
          "Director",
          "Director",
          "Director"
         ],
         "x0": " ",
         "xaxis": "x",
         "y": {
          "bdata": "AAAAAACd/EAAAAAAAAD4fwAAAAAAAPh/AAAAAKCjAUEAAAAAAAD4fwAAAAAAAPh/AAAAAABqCEEAAAAAAAD4fwAAAABAlPJAAAAAAAAA+H8AAAAAAAD4fwAAAAAAAPh/AAAAAMDrAkEAAAAAAAD4fwAAAACAwARBAAAAAAAA+H8AAAAAYBv2QAAAAAAAaghBAAAAAAAA+H8AAAAAAAD4fwAAAAAAAPh/AAAAAAAA+H8AAAAAAAD4fwAAAAAAAPh/AAAAAAAA+H8AAAAAAAD4fwAAAAAAAPh/",
          "dtype": "f8"
         },
         "y0": " ",
         "yaxis": "y"
        },
        {
         "alignmentgroup": "True",
         "box": {
          "visible": true
         },
         "hovertemplate": "Seniority level=%{x}<br>avg_salary=%{y}<extra></extra>",
         "legendgroup": "Executive",
         "marker": {
          "color": "#ff7f0e"
         },
         "name": "Executive",
         "offsetgroup": "Executive",
         "orientation": "v",
         "points": "outliers",
         "scalegroup": "True",
         "showlegend": true,
         "type": "violin",
         "x": [
          "Executive",
          "Executive",
          "Executive",
          "Executive",
          "Executive",
          "Executive",
          "Executive",
          "Executive"
         ],
         "x0": " ",
         "xaxis": "x",
         "y": {
          "bdata": "AAAAAABPAEEAAAAAgD/9QAAAAAAAAPh/AAAAAAAA+H8AAAAAAAD4fwAAAAAAAPh/AAAAAAAA+H8AAAAAAAD4fw==",
          "dtype": "f8"
         },
         "y0": " ",
         "yaxis": "y"
        }
       ],
       "layout": {
        "height": 600,
        "hoverlabel": {
         "bgcolor": "white"
        },
        "legend": {
         "title": {
          "text": "Seniority level"
         },
         "tracegroupgap": 0
        },
        "margin": {
         "t": 100
        },
        "plot_bgcolor": "white",
        "showlegend": false,
        "template": {
         "data": {
          "bar": [
           {
            "error_x": {
             "color": "#2a3f5f"
            },
            "error_y": {
             "color": "#2a3f5f"
            },
            "marker": {
             "line": {
              "color": "white",
              "width": 0.5
             },
             "pattern": {
              "fillmode": "overlay",
              "size": 10,
              "solidity": 0.2
             }
            },
            "type": "bar"
           }
          ],
          "barpolar": [
           {
            "marker": {
             "line": {
              "color": "white",
              "width": 0.5
             },
             "pattern": {
              "fillmode": "overlay",
              "size": 10,
              "solidity": 0.2
             }
            },
            "type": "barpolar"
           }
          ],
          "carpet": [
           {
            "aaxis": {
             "endlinecolor": "#2a3f5f",
             "gridcolor": "#C8D4E3",
             "linecolor": "#C8D4E3",
             "minorgridcolor": "#C8D4E3",
             "startlinecolor": "#2a3f5f"
            },
            "baxis": {
             "endlinecolor": "#2a3f5f",
             "gridcolor": "#C8D4E3",
             "linecolor": "#C8D4E3",
             "minorgridcolor": "#C8D4E3",
             "startlinecolor": "#2a3f5f"
            },
            "type": "carpet"
           }
          ],
          "choropleth": [
           {
            "colorbar": {
             "outlinewidth": 0,
             "ticks": ""
            },
            "type": "choropleth"
           }
          ],
          "contour": [
           {
            "colorbar": {
             "outlinewidth": 0,
             "ticks": ""
            },
            "colorscale": [
             [
              0,
              "#0d0887"
             ],
             [
              0.1111111111111111,
              "#46039f"
             ],
             [
              0.2222222222222222,
              "#7201a8"
             ],
             [
              0.3333333333333333,
              "#9c179e"
             ],
             [
              0.4444444444444444,
              "#bd3786"
             ],
             [
              0.5555555555555556,
              "#d8576b"
             ],
             [
              0.6666666666666666,
              "#ed7953"
             ],
             [
              0.7777777777777778,
              "#fb9f3a"
             ],
             [
              0.8888888888888888,
              "#fdca26"
             ],
             [
              1,
              "#f0f921"
             ]
            ],
            "type": "contour"
           }
          ],
          "contourcarpet": [
           {
            "colorbar": {
             "outlinewidth": 0,
             "ticks": ""
            },
            "type": "contourcarpet"
           }
          ],
          "heatmap": [
           {
            "colorbar": {
             "outlinewidth": 0,
             "ticks": ""
            },
            "colorscale": [
             [
              0,
              "#0d0887"
             ],
             [
              0.1111111111111111,
              "#46039f"
             ],
             [
              0.2222222222222222,
              "#7201a8"
             ],
             [
              0.3333333333333333,
              "#9c179e"
             ],
             [
              0.4444444444444444,
              "#bd3786"
             ],
             [
              0.5555555555555556,
              "#d8576b"
             ],
             [
              0.6666666666666666,
              "#ed7953"
             ],
             [
              0.7777777777777778,
              "#fb9f3a"
             ],
             [
              0.8888888888888888,
              "#fdca26"
             ],
             [
              1,
              "#f0f921"
             ]
            ],
            "type": "heatmap"
           }
          ],
          "histogram": [
           {
            "marker": {
             "pattern": {
              "fillmode": "overlay",
              "size": 10,
              "solidity": 0.2
             }
            },
            "type": "histogram"
           }
          ],
          "histogram2d": [
           {
            "colorbar": {
             "outlinewidth": 0,
             "ticks": ""
            },
            "colorscale": [
             [
              0,
              "#0d0887"
             ],
             [
              0.1111111111111111,
              "#46039f"
             ],
             [
              0.2222222222222222,
              "#7201a8"
             ],
             [
              0.3333333333333333,
              "#9c179e"
             ],
             [
              0.4444444444444444,
              "#bd3786"
             ],
             [
              0.5555555555555556,
              "#d8576b"
             ],
             [
              0.6666666666666666,
              "#ed7953"
             ],
             [
              0.7777777777777778,
              "#fb9f3a"
             ],
             [
              0.8888888888888888,
              "#fdca26"
             ],
             [
              1,
              "#f0f921"
             ]
            ],
            "type": "histogram2d"
           }
          ],
          "histogram2dcontour": [
           {
            "colorbar": {
             "outlinewidth": 0,
             "ticks": ""
            },
            "colorscale": [
             [
              0,
              "#0d0887"
             ],
             [
              0.1111111111111111,
              "#46039f"
             ],
             [
              0.2222222222222222,
              "#7201a8"
             ],
             [
              0.3333333333333333,
              "#9c179e"
             ],
             [
              0.4444444444444444,
              "#bd3786"
             ],
             [
              0.5555555555555556,
              "#d8576b"
             ],
             [
              0.6666666666666666,
              "#ed7953"
             ],
             [
              0.7777777777777778,
              "#fb9f3a"
             ],
             [
              0.8888888888888888,
              "#fdca26"
             ],
             [
              1,
              "#f0f921"
             ]
            ],
            "type": "histogram2dcontour"
           }
          ],
          "mesh3d": [
           {
            "colorbar": {
             "outlinewidth": 0,
             "ticks": ""
            },
            "type": "mesh3d"
           }
          ],
          "parcoords": [
           {
            "line": {
             "colorbar": {
              "outlinewidth": 0,
              "ticks": ""
             }
            },
            "type": "parcoords"
           }
          ],
          "pie": [
           {
            "automargin": true,
            "type": "pie"
           }
          ],
          "scatter": [
           {
            "fillpattern": {
             "fillmode": "overlay",
             "size": 10,
             "solidity": 0.2
            },
            "type": "scatter"
           }
          ],
          "scatter3d": [
           {
            "line": {
             "colorbar": {
              "outlinewidth": 0,
              "ticks": ""
             }
            },
            "marker": {
             "colorbar": {
              "outlinewidth": 0,
              "ticks": ""
             }
            },
            "type": "scatter3d"
           }
          ],
          "scattercarpet": [
           {
            "marker": {
             "colorbar": {
              "outlinewidth": 0,
              "ticks": ""
             }
            },
            "type": "scattercarpet"
           }
          ],
          "scattergeo": [
           {
            "marker": {
             "colorbar": {
              "outlinewidth": 0,
              "ticks": ""
             }
            },
            "type": "scattergeo"
           }
          ],
          "scattergl": [
           {
            "marker": {
             "colorbar": {
              "outlinewidth": 0,
              "ticks": ""
             }
            },
            "type": "scattergl"
           }
          ],
          "scattermap": [
           {
            "marker": {
             "colorbar": {
              "outlinewidth": 0,
              "ticks": ""
             }
            },
            "type": "scattermap"
           }
          ],
          "scattermapbox": [
           {
            "marker": {
             "colorbar": {
              "outlinewidth": 0,
              "ticks": ""
             }
            },
            "type": "scattermapbox"
           }
          ],
          "scatterpolar": [
           {
            "marker": {
             "colorbar": {
              "outlinewidth": 0,
              "ticks": ""
             }
            },
            "type": "scatterpolar"
           }
          ],
          "scatterpolargl": [
           {
            "marker": {
             "colorbar": {
              "outlinewidth": 0,
              "ticks": ""
             }
            },
            "type": "scatterpolargl"
           }
          ],
          "scatterternary": [
           {
            "marker": {
             "colorbar": {
              "outlinewidth": 0,
              "ticks": ""
             }
            },
            "type": "scatterternary"
           }
          ],
          "surface": [
           {
            "colorbar": {
             "outlinewidth": 0,
             "ticks": ""
            },
            "colorscale": [
             [
              0,
              "#0d0887"
             ],
             [
              0.1111111111111111,
              "#46039f"
             ],
             [
              0.2222222222222222,
              "#7201a8"
             ],
             [
              0.3333333333333333,
              "#9c179e"
             ],
             [
              0.4444444444444444,
              "#bd3786"
             ],
             [
              0.5555555555555556,
              "#d8576b"
             ],
             [
              0.6666666666666666,
              "#ed7953"
             ],
             [
              0.7777777777777778,
              "#fb9f3a"
             ],
             [
              0.8888888888888888,
              "#fdca26"
             ],
             [
              1,
              "#f0f921"
             ]
            ],
            "type": "surface"
           }
          ],
          "table": [
           {
            "cells": {
             "fill": {
              "color": "#EBF0F8"
             },
             "line": {
              "color": "white"
             }
            },
            "header": {
             "fill": {
              "color": "#C8D4E3"
             },
             "line": {
              "color": "white"
             }
            },
            "type": "table"
           }
          ]
         },
         "layout": {
          "annotationdefaults": {
           "arrowcolor": "#2a3f5f",
           "arrowhead": 0,
           "arrowwidth": 1
          },
          "autotypenumbers": "strict",
          "coloraxis": {
           "colorbar": {
            "outlinewidth": 0,
            "ticks": ""
           }
          },
          "colorscale": {
           "diverging": [
            [
             0,
             "#8e0152"
            ],
            [
             0.1,
             "#c51b7d"
            ],
            [
             0.2,
             "#de77ae"
            ],
            [
             0.3,
             "#f1b6da"
            ],
            [
             0.4,
             "#fde0ef"
            ],
            [
             0.5,
             "#f7f7f7"
            ],
            [
             0.6,
             "#e6f5d0"
            ],
            [
             0.7,
             "#b8e186"
            ],
            [
             0.8,
             "#7fbc41"
            ],
            [
             0.9,
             "#4d9221"
            ],
            [
             1,
             "#276419"
            ]
           ],
           "sequential": [
            [
             0,
             "#0d0887"
            ],
            [
             0.1111111111111111,
             "#46039f"
            ],
            [
             0.2222222222222222,
             "#7201a8"
            ],
            [
             0.3333333333333333,
             "#9c179e"
            ],
            [
             0.4444444444444444,
             "#bd3786"
            ],
            [
             0.5555555555555556,
             "#d8576b"
            ],
            [
             0.6666666666666666,
             "#ed7953"
            ],
            [
             0.7777777777777778,
             "#fb9f3a"
            ],
            [
             0.8888888888888888,
             "#fdca26"
            ],
            [
             1,
             "#f0f921"
            ]
           ],
           "sequentialminus": [
            [
             0,
             "#0d0887"
            ],
            [
             0.1111111111111111,
             "#46039f"
            ],
            [
             0.2222222222222222,
             "#7201a8"
            ],
            [
             0.3333333333333333,
             "#9c179e"
            ],
            [
             0.4444444444444444,
             "#bd3786"
            ],
            [
             0.5555555555555556,
             "#d8576b"
            ],
            [
             0.6666666666666666,
             "#ed7953"
            ],
            [
             0.7777777777777778,
             "#fb9f3a"
            ],
            [
             0.8888888888888888,
             "#fdca26"
            ],
            [
             1,
             "#f0f921"
            ]
           ]
          },
          "colorway": [
           "#636efa",
           "#EF553B",
           "#00cc96",
           "#ab63fa",
           "#FFA15A",
           "#19d3f3",
           "#FF6692",
           "#B6E880",
           "#FF97FF",
           "#FECB52"
          ],
          "font": {
           "color": "#2a3f5f"
          },
          "geo": {
           "bgcolor": "white",
           "lakecolor": "white",
           "landcolor": "white",
           "showlakes": true,
           "showland": true,
           "subunitcolor": "#C8D4E3"
          },
          "hoverlabel": {
           "align": "left"
          },
          "hovermode": "closest",
          "mapbox": {
           "style": "light"
          },
          "paper_bgcolor": "white",
          "plot_bgcolor": "white",
          "polar": {
           "angularaxis": {
            "gridcolor": "#EBF0F8",
            "linecolor": "#EBF0F8",
            "ticks": ""
           },
           "bgcolor": "white",
           "radialaxis": {
            "gridcolor": "#EBF0F8",
            "linecolor": "#EBF0F8",
            "ticks": ""
           }
          },
          "scene": {
           "xaxis": {
            "backgroundcolor": "white",
            "gridcolor": "#DFE8F3",
            "gridwidth": 2,
            "linecolor": "#EBF0F8",
            "showbackground": true,
            "ticks": "",
            "zerolinecolor": "#EBF0F8"
           },
           "yaxis": {
            "backgroundcolor": "white",
            "gridcolor": "#DFE8F3",
            "gridwidth": 2,
            "linecolor": "#EBF0F8",
            "showbackground": true,
            "ticks": "",
            "zerolinecolor": "#EBF0F8"
           },
           "zaxis": {
            "backgroundcolor": "white",
            "gridcolor": "#DFE8F3",
            "gridwidth": 2,
            "linecolor": "#EBF0F8",
            "showbackground": true,
            "ticks": "",
            "zerolinecolor": "#EBF0F8"
           }
          },
          "shapedefaults": {
           "line": {
            "color": "#2a3f5f"
           }
          },
          "ternary": {
           "aaxis": {
            "gridcolor": "#DFE8F3",
            "linecolor": "#A2B1C6",
            "ticks": ""
           },
           "baxis": {
            "gridcolor": "#DFE8F3",
            "linecolor": "#A2B1C6",
            "ticks": ""
           },
           "bgcolor": "white",
           "caxis": {
            "gridcolor": "#DFE8F3",
            "linecolor": "#A2B1C6",
            "ticks": ""
           }
          },
          "title": {
           "x": 0.05
          },
          "xaxis": {
           "automargin": true,
           "gridcolor": "#EBF0F8",
           "linecolor": "#EBF0F8",
           "ticks": "",
           "title": {
            "standoff": 15
           },
           "zerolinecolor": "#EBF0F8",
           "zerolinewidth": 2
          },
          "yaxis": {
           "automargin": true,
           "gridcolor": "#EBF0F8",
           "linecolor": "#EBF0F8",
           "ticks": "",
           "title": {
            "standoff": 15
           },
           "zerolinecolor": "#EBF0F8",
           "zerolinewidth": 2
          }
         }
        },
        "title": {
         "font": {
          "size": 20
         },
         "text": "Salary Distribution by Seniority Level",
         "x": 0.5
        },
        "violinmode": "overlay",
        "xaxis": {
         "anchor": "y",
         "categoryarray": [
          "Mid-Senior level",
          "Not Applicable",
          null,
          "Entry level",
          "Associate",
          "Internship",
          "Director",
          "Executive"
         ],
         "categoryorder": "array",
         "domain": [
          0,
          1
         ],
         "tickangle": -45,
         "title": {
          "text": "Seniority Level"
         }
        },
        "yaxis": {
         "anchor": "x",
         "domain": [
          0,
          1
         ],
         "tickformat": "$,.0f",
         "title": {
          "text": "Salary Distribution (USD)"
         }
        }
       }
      }
     },
     "metadata": {},
     "output_type": "display_data"
    }
   ],
   "source": [
    "# Enhanced Violin Plot – Salary Distribution by Seniority Level\n",
    "fig2 = px.violin(df, x='Seniority level', y='avg_salary',\n",
    "                box=True,\n",
    "                points='outliers',\n",
    "                title='Salary Distribution by Seniority Level',\n",
    "                color='Seniority level',\n",
    "                color_discrete_sequence=custom_colors)\n",
    "\n",
    "fig2.update_layout(\n",
    "    title_x=0.5,\n",
    "    title_font_size=20,\n",
    "    showlegend=False,\n",
    "    xaxis_title='Seniority Level',\n",
    "    yaxis_title='Salary Distribution (USD)',\n",
    "    xaxis_tickangle=-45,\n",
    "    height=600,\n",
    "    yaxis_tickformat='$,.0f',\n",
    "    plot_bgcolor='white',\n",
    "    hoverlabel=dict(bgcolor='white'),\n",
    "    margin=dict(t=100)\n",
    ")\n",
    "\n",
    "fig2.show()"
   ]
  },
  {
   "cell_type": "code",
   "execution_count": 13,
   "id": "542895c3",
   "metadata": {},
   "outputs": [
    {
     "ename": "NameError",
     "evalue": "name 'stats' is not defined",
     "output_type": "error",
     "traceback": [
      "\u001b[1;31m---------------------------------------------------------------------------\u001b[0m",
      "\u001b[1;31mNameError\u001b[0m                                 Traceback (most recent call last)",
      "Cell \u001b[1;32mIn[13], line 24\u001b[0m\n\u001b[0;32m      8\u001b[0m fig3\u001b[38;5;241m.\u001b[39mupdate_layout(\n\u001b[0;32m      9\u001b[0m     title_x\u001b[38;5;241m=\u001b[39m\u001b[38;5;241m0.5\u001b[39m,\n\u001b[0;32m     10\u001b[0m     title_font_size\u001b[38;5;241m=\u001b[39m\u001b[38;5;241m20\u001b[39m,\n\u001b[1;32m   (...)\u001b[0m\n\u001b[0;32m     18\u001b[0m     margin\u001b[38;5;241m=\u001b[39m\u001b[38;5;28mdict\u001b[39m(t\u001b[38;5;241m=\u001b[39m\u001b[38;5;241m100\u001b[39m)\n\u001b[0;32m     19\u001b[0m )\n\u001b[0;32m     21\u001b[0m \u001b[38;5;66;03m# Add a kernel density estimate curve\u001b[39;00m\n\u001b[0;32m     22\u001b[0m fig3\u001b[38;5;241m.\u001b[39madd_trace(\n\u001b[0;32m     23\u001b[0m     go\u001b[38;5;241m.\u001b[39mScatter(x\u001b[38;5;241m=\u001b[39mdf[\u001b[38;5;124m'\u001b[39m\u001b[38;5;124mavg_salary\u001b[39m\u001b[38;5;124m'\u001b[39m]\u001b[38;5;241m.\u001b[39msort_values(),\n\u001b[1;32m---> 24\u001b[0m               y\u001b[38;5;241m=\u001b[39m\u001b[43mstats\u001b[49m\u001b[38;5;241m.\u001b[39mgaussian_kde(df[\u001b[38;5;124m'\u001b[39m\u001b[38;5;124mavg_salary\u001b[39m\u001b[38;5;124m'\u001b[39m]\u001b[38;5;241m.\u001b[39mdropna())(df[\u001b[38;5;124m'\u001b[39m\u001b[38;5;124mavg_salary\u001b[39m\u001b[38;5;124m'\u001b[39m]\u001b[38;5;241m.\u001b[39msort_values()) \u001b[38;5;241m*\u001b[39m \u001b[38;5;28mlen\u001b[39m(df[\u001b[38;5;124m'\u001b[39m\u001b[38;5;124mavg_salary\u001b[39m\u001b[38;5;124m'\u001b[39m]) \u001b[38;5;241m*\u001b[39m (df[\u001b[38;5;124m'\u001b[39m\u001b[38;5;124mavg_salary\u001b[39m\u001b[38;5;124m'\u001b[39m]\u001b[38;5;241m.\u001b[39mmax() \u001b[38;5;241m-\u001b[39m df[\u001b[38;5;124m'\u001b[39m\u001b[38;5;124mavg_salary\u001b[39m\u001b[38;5;124m'\u001b[39m]\u001b[38;5;241m.\u001b[39mmin()) \u001b[38;5;241m/\u001b[39m \u001b[38;5;241m50\u001b[39m,\n\u001b[0;32m     25\u001b[0m               mode\u001b[38;5;241m=\u001b[39m\u001b[38;5;124m'\u001b[39m\u001b[38;5;124mlines\u001b[39m\u001b[38;5;124m'\u001b[39m,\n\u001b[0;32m     26\u001b[0m               name\u001b[38;5;241m=\u001b[39m\u001b[38;5;124m'\u001b[39m\u001b[38;5;124mKDE\u001b[39m\u001b[38;5;124m'\u001b[39m,\n\u001b[0;32m     27\u001b[0m               line\u001b[38;5;241m=\u001b[39m\u001b[38;5;28mdict\u001b[39m(color\u001b[38;5;241m=\u001b[39m\u001b[38;5;124m'\u001b[39m\u001b[38;5;124m#ff7f0e\u001b[39m\u001b[38;5;124m'\u001b[39m, width\u001b[38;5;241m=\u001b[39m\u001b[38;5;241m2\u001b[39m))\n\u001b[0;32m     28\u001b[0m )\n\u001b[0;32m     30\u001b[0m fig3\u001b[38;5;241m.\u001b[39mshow()\n",
      "\u001b[1;31mNameError\u001b[0m: name 'stats' is not defined"
     ]
    }
   ],
   "source": [
    "# Enhanced Histogram – Salary Distribution\n",
    "fig3 = px.histogram(df, x='avg_salary',\n",
    "                   nbins=50,\n",
    "                   title='Distribution of Salaries',\n",
    "                   color_discrete_sequence=['#1f77b4'],\n",
    "                   opacity=0.7)\n",
    "\n",
    "fig3.update_layout(\n",
    "    title_x=0.5,\n",
    "    title_font_size=20,\n",
    "    xaxis_title='Salary (USD)',\n",
    "    yaxis_title='Number of Jobs',\n",
    "    height=500,\n",
    "    xaxis_tickformat='$,.0f',\n",
    "    plot_bgcolor='white',\n",
    "    bargap=0.1,\n",
    "    showlegend=False,\n",
    "    margin=dict(t=100)\n",
    ")\n",
    "\n",
    "# Add a kernel density estimate curve\n",
    "fig3.add_trace(\n",
    "    go.Scatter(x=df['avg_salary'].sort_values(),\n",
    "              y=stats.gaussian_kde(df['avg_salary'].dropna())(df['avg_salary'].sort_values()) * len(df['avg_salary']) * (df['avg_salary'].max() - df['avg_salary'].min()) / 50,\n",
    "              mode='lines',\n",
    "              name='KDE',\n",
    "              line=dict(color='#ff7f0e', width=2))\n",
    ")\n",
    "\n",
    "fig3.show()"
   ]
  },
  {
   "cell_type": "code",
   "execution_count": null,
   "id": "a40e8cb1",
   "metadata": {},
   "outputs": [
    {
     "data": {
      "application/vnd.plotly.v1+json": {
       "config": {
        "plotlyServerURL": "https://plot.ly"
       },
       "data": [
        {
         "hovertemplate": "Job function=Information Technology<br>months_experience=%{x}<br>avg_salary=%{y}<extra></extra>",
         "legendgroup": "Information Technology",
         "marker": {
          "color": "#636efa",
          "symbol": "circle"
         },
         "mode": "markers",
         "name": "Information Technology",
         "showlegend": true,
         "type": "scattergl",
         "x": {
          "bdata": "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",
          "dtype": "f8"
         },
         "xaxis": "x",
         "y": {
          "bdata": "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",
          "dtype": "f8"
         },
         "yaxis": "y"
        },
        {
         "hovertemplate": "<b>OLS trendline</b><br>avg_salary = 469.708 * months_experience + 86665.7<br>R<sup>2</sup>=0.133419<br><br>Job function=Information Technology<br>months_experience=%{x}<br>avg_salary=%{y} <b>(trend)</b><extra></extra>",
         "legendgroup": "Information Technology",
         "marker": {
          "color": "#636efa",
          "symbol": "circle"
         },
         "mode": "lines",
         "name": "Information Technology",
         "showlegend": false,
         "type": "scattergl",
         "x": {
          "bdata": "AAAAAAAAKEAAAAAAAAAoQAAAAAAAAChAAAAAAAAAKEAAAAAAAAAoQAAAAAAAAChAAAAAAAAAKEAAAAAAAAAoQAAAAAAAADhAAAAAAAAAOEAAAAAAAAA4QAAAAAAAADhAAAAAAAAAOEAAAAAAAAA4QAAAAAAAADhAAAAAAAAAOEAAAAAAAAA4QAAAAAAAADhAAAAAAAAAOEAAAAAAAAA4QAAAAAAAADhAAAAAAAAAOEAAAAAAAAA4QAAAAAAAADhAAAAAAAAAOEAAAAAAAAA4QAAAAAAAADhAAAAAAAAAOEAAAAAAAABCQAAAAAAAAEJAAAAAAAAAQkAAAAAAAABCQAAAAAAAAEJAAAAAAAAAQkAAAAAAAABCQAAAAAAAAEJAAAAAAAAAQkAAAAAAAABCQAAAAAAAAEJAAAAAAAAAQkAAAAAAAABCQAAAAAAAAEJAAAAAAAAAQkAAAAAAAABCQAAAAAAAAEJAAAAAAAAAQkAAAAAAAABCQAAAAAAAAEJAAAAAAAAAQkAAAAAAAABCQAAAAAAAAEJAAAAAAAAAQkAAAAAAAABCQAAAAAAAAEJAAAAAAAAAQkAAAAAAAABCQAAAAAAAAEhAAAAAAAAASEAAAAAAAABIQAAAAAAAAEhAAAAAAAAASEAAAAAAAABIQAAAAAAAAEhAAAAAAAAASEAAAAAAAABIQAAAAAAAAEhAAAAAAAAASEAAAAAAAABIQAAAAAAAAEhAAAAAAAAASEAAAAAAAABIQAAAAAAAAEhAAAAAAAAATkAAAAAAAABOQAAAAAAAAE5AAAAAAAAATkAAAAAAAABOQAAAAAAAAE5AAAAAAAAATkAAAAAAAABOQAAAAAAAAE5AAAAAAAAATkAAAAAAAABOQAAAAAAAAE5AAAAAAAAATkAAAAAAAABOQAAAAAAAAE5AAAAAAAAATkAAAAAAAABOQAAAAAAAAE5AAAAAAAAATkAAAAAAAABOQAAAAAAAAE5AAAAAAAAATkAAAAAAAABOQAAAAAAAAE5AAAAAAAAATkAAAAAAAABOQAAAAAAAAE5AAAAAAAAATkAAAAAAAABOQAAAAAAAAE5AAAAAAAAATkAAAAAAAABOQAAAAAAAAE5AAAAAAAAAVUAAAAAAAABVQAAAAAAAAFhAAAAAAAAAWEAAAAAAAABbQAAAAAAAAF5AAAAAAAAAXkAAAAAAAABlQA==",
          "dtype": "f8"
         },
         "xaxis": "x",
         "y": {
          "bdata": "Ewe+f+KI9kATB75/4oj2QBMHvn/iiPZAEwe+f+KI9kATB75/4oj2QBMHvn/iiPZAEwe+f+KI9kATB75/4oj2QLnY1n0q6fdAudjWfSrp90C52NZ9Kun3QLnY1n0q6fdAudjWfSrp90C52NZ9Kun3QLnY1n0q6fdAudjWfSrp90C52NZ9Kun3QLnY1n0q6fdAudjWfSrp90C52NZ9Kun3QLnY1n0q6fdAudjWfSrp90C52NZ9Kun3QLnY1n0q6fdAudjWfSrp90C52NZ9Kun3QLnY1n0q6fdAudjWfSrp90Bgqu97ckn5QGCq73tySflAYKrve3JJ+UBgqu97ckn5QGCq73tySflAYKrve3JJ+UBgqu97ckn5QGCq73tySflAYKrve3JJ+UBgqu97ckn5QGCq73tySflAYKrve3JJ+UBgqu97ckn5QGCq73tySflAYKrve3JJ+UBgqu97ckn5QGCq73tySflAYKrve3JJ+UBgqu97ckn5QGCq73tySflAYKrve3JJ+UBgqu97ckn5QGCq73tySflAYKrve3JJ+UBgqu97ckn5QGCq73tySflAYKrve3JJ+UBgqu97ckn5QAZ8CHq6qfpABnwIerqp+kAGfAh6uqn6QAZ8CHq6qfpABnwIerqp+kAGfAh6uqn6QAZ8CHq6qfpABnwIerqp+kAGfAh6uqn6QAZ8CHq6qfpABnwIerqp+kAGfAh6uqn6QAZ8CHq6qfpABnwIerqp+kAGfAh6uqn6QAZ8CHq6qfpArU0heAIK/ECtTSF4Agr8QK1NIXgCCvxArU0heAIK/ECtTSF4Agr8QK1NIXgCCvxArU0heAIK/ECtTSF4Agr8QK1NIXgCCvxArU0heAIK/ECtTSF4Agr8QK1NIXgCCvxArU0heAIK/ECtTSF4Agr8QK1NIXgCCvxArU0heAIK/ECtTSF4Agr8QK1NIXgCCvxArU0heAIK/ECtTSF4Agr8QK1NIXgCCvxArU0heAIK/ECtTSF4Agr8QK1NIXgCCvxArU0heAIK/ECtTSF4Agr8QK1NIXgCCvxArU0heAIK/ECtTSF4Agr8QK1NIXgCCvxArU0heAIK/ECtTSF4Agr8QK1NIXgCCvxA+vBSdJLK/kD68FJ0ksr+QFDhNTltFQBBUOE1OW0VAEEkSkI4kcUAQfeyTje1dQFB97JON7V1AUFEVoAzRTYEQQ==",
          "dtype": "f8"
         },
         "yaxis": "y"
        },
        {
         "hovertemplate": "Job function=Engineering and Information Technology<br>months_experience=%{x}<br>avg_salary=%{y}<extra></extra>",
         "legendgroup": "Engineering and Information Technology",
         "marker": {
          "color": "#EF553B",
          "symbol": "circle"
         },
         "mode": "markers",
         "name": "Engineering and Information Technology",
         "showlegend": true,
         "type": "scattergl",
         "x": {
          "bdata": "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",
          "dtype": "f8"
         },
         "xaxis": "x",
         "y": {
          "bdata": "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",
          "dtype": "f8"
         },
         "yaxis": "y"
        },
        {
         "hovertemplate": "<b>OLS trendline</b><br>avg_salary = 131.009 * months_experience + 118331<br>R<sup>2</sup>=0.013672<br><br>Job function=Engineering and Information Technology<br>months_experience=%{x}<br>avg_salary=%{y} <b>(trend)</b><extra></extra>",
         "legendgroup": "Engineering and Information Technology",
         "marker": {
          "color": "#EF553B",
          "symbol": "circle"
         },
         "mode": "lines",
         "name": "Engineering and Information Technology",
         "showlegend": false,
         "type": "scattergl",
         "x": {
          "bdata": "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",
          "dtype": "f8"
         },
         "xaxis": "x",
         "y": {
          "bdata": "ZN2wuOxF/UBk3bC47EX9QGTdsLjsRf1AZN2wuOxF/UBk3bC47EX9QGTdsLjsRf1AZN2wuOxF/UBk3bC47EX9QGTdsLjsRf1AZN2wuOxF/UBk3bC47EX9QGTdsLjsRf1AZN2wuOxF/UBk3bC47EX9QGTdsLjsRf1AZN2wuOxF/UBk3bC47EX9QGTdsLjsRf1AZN2wuOxF/UBk3bC47EX9QGTdsLjsRf1AZN2wuOxF/UBk3bC47EX9QGTdsLjsRf1AZN2wuOxF/UBk3bC47EX9QGTdsLjsRf1AZN2wuOxF/UBk3bC47EX9QGTdsLjsRf1AZN2wuOxF/UBk3bC47EX9QGTdsLjsRf1AZN2wuOxF/UBk3bC47EX9QGTdsLjsRf1AZN2wuOxF/UBk3bC47EX9QGTdsLjsRf1AZN2wuOxF/UBk3bC47EX9QGTdsLjsRf1AZN2wuOxF/UBk3bC47EX9QGTdsLjsRf1AZN2wuOxF/UBk3bC47EX9QGTdsLjsRf1AZN2wuOxF/UBk3bC47EX9QGTdsLjsRf1AZN2wuOxF/UBk3bC47EX9QGTdsLjsRf1AZN2wuOxF/UBk3bC47EX9QGTdsLjsRf1AZN2wuOxF/UBk3bC47EX9QGTdsLjsRf1AZN2wuOxF/UBk3bC47EX9QGTdsLjsRf1AQL3key6o/UBAveR7Lqj9QEC95HsuqP1AQL3key6o/UBAveR7Lqj9QEC95HsuqP1AQL3key6o/UBAveR7Lqj9QEC95HsuqP1AQL3key6o/UBAveR7Lqj9QEC95HsuqP1AQL3key6o/UBAveR7Lqj9QEC95HsuqP1AQL3key6o/UBAveR7Lqj9QEC95HsuqP1AQL3key6o/UBAveR7Lqj9QEC95HsuqP1AQL3key6o/UBAveR7Lqj9QEC95HsuqP1AQL3key6o/UBAveR7Lqj9QEC95HsuqP1AQL3key6o/UBAveR7Lqj9QEC95HsuqP1AQL3key6o/UBAveR7Lqj9QEC95HsuqP1AQL3key6o/UBAveR7Lqj9QEC95HsuqP1AQL3key6o/UBAveR7Lqj9QEC95HsuqP1AQL3key6o/UBAveR7Lqj9QEC95HsuqP1AQL3key6o/UBAveR7Lqj9QEC95HsuqP1AQL3key6o/UBAveR7Lqj9QEC95HsuqP1AQL3key6o/UBAveR7Lqj9QEC95HsuqP1AQL3key6o/UBAveR7Lqj9QEC95HsuqP1AQL3key6o/UBAveR7Lqj9QEC95HsuqP1AQL3key6o/UBAveR7Lqj9QEC95HsuqP1AQL3key6o/UBAveR7Lqj9QEC95HsuqP1AQL3key6o/UBAveR7Lqj9QEC95HsuqP1AQL3key6o/UBAveR7Lqj9QEC95HsuqP1AQL3key6o/UBAveR7Lqj9QEC95HsuqP1AQL3key6o/UBAveR7Lqj9QEC95HsuqP1AQL3key6o/UBAveR7Lqj9QEC95HsuqP1AQL3key6o/UBAveR7Lqj9QEC95HsuqP1AQL3key6o/UBAveR7Lqj9QEC95HsuqP1AQL3key6o/UBAveR7Lqj9QEC95HsuqP1AQL3key6o/UBAveR7Lqj9QEC95HsuqP1AQL3key6o/UBAveR7Lqj9QEC95HsuqP1AQL3key6o/UBAveR7Lqj9QEC95HsuqP1AQL3key6o/UBAveR7Lqj9QEC95HsuqP1AQL3key6o/UBAveR7Lqj9QEC95HsuqP1AQL3key6o/UBAveR7Lqj9QEC95HsuqP1AQL3key6o/UBAveR7Lqj9QEC95HsuqP1AQL3key6o/UBAveR7Lqj9QEC95HsuqP1AQL3key6o/UBAveR7Lqj9QEC95HsuqP1AQL3key6o/UBAveR7Lqj9QEC95HsuqP1AQL3key6o/UBAveR7Lqj9QEC95HsuqP1AQL3key6o/UBAveR7Lqj9QEC95HsuqP1AQL3key6o/UBAveR7Lqj9QEC95HsuqP1AQL3key6o/UBAveR7Lqj9QEC95HsuqP1AQL3key6o/UBAveR7Lqj9QEC95HsuqP1AQL3key6o/UBAveR7Lqj9QEC95HsuqP1AQL3key6o/UBAveR7Lqj9QEC95HsuqP1AQL3key6o/UBAveR7Lqj9QEC95HsuqP1AQL3key6o/UBAveR7Lqj9QEC95HsuqP1AQL3key6o/UBAveR7Lqj9QEC95HsuqP1AQL3key6o/UBAveR7Lqj9QEC95HsuqP1AQL3key6o/UBAveR7Lqj9QEC95HsuqP1AQL3key6o/UBAveR7Lqj9QEC95HsuqP1AQL3key6o/UBAveR7Lqj9QEC95HsuqP1AQL3key6o/UBAveR7Lqj9QEC95HsuqP1AQL3key6o/UBAveR7Lqj9QEC95HsuqP1AQL3key6o/UBAveR7Lqj9QEC95HsuqP1AQL3key6o/UBAveR7Lqj9QEC95HsuqP1AQL3key6o/UBAveR7Lqj9QEC95HsuqP1AQL3key6o/UBAveR7Lqj9QEC95HsuqP1AQL3key6o/UBAveR7Lqj9QEC95HsuqP1AQL3key6o/UBAveR7Lqj9QEC95HsuqP1AQL3key6o/UBAveR7Lqj9QEC95HsuqP1AQL3key6o/UBAveR7Lqj9QEC95HsuqP1AQL3key6o/UBAveR7Lqj9QEC95HsuqP1AQL3key6o/UBAveR7Lqj9QEC95HsuqP1AQL3key6o/UBAveR7Lqj9QEC95HsuqP1AQL3key6o/UBAveR7Lqj9QEC95HsuqP1AQL3key6o/UBAveR7Lqj9QEC95HsuqP1AQL3key6o/UBAveR7Lqj9QEC95HsuqP1AQL3key6o/UBAveR7Lqj9QEC95HsuqP1AQL3key6o/UBAveR7Lqj9QEC95HsuqP1AQL3key6o/UBAveR7Lqj9QEC95HsuqP1AQL3key6o/UAcnRg/cAr+QBydGD9wCv5AHJ0YP3AK/kAcnRg/cAr+QBydGD9wCv5AHJ0YP3AK/kAcnRg/cAr+QBydGD9wCv5AHJ0YP3AK/kAcnRg/cAr+QBydGD9wCv5AHJ0YP3AK/kAcnRg/cAr+QBydGD9wCv5AHJ0YP3AK/kAcnRg/cAr+QBydGD9wCv5AHJ0YP3AK/kAcnRg/cAr+QBydGD9wCv5AHJ0YP3AK/kAcnRg/cAr+QBydGD9wCv5AHJ0YP3AK/kAcnRg/cAr+QBydGD9wCv5AHJ0YP3AK/kAcnRg/cAr+QBydGD9wCv5AHJ0YP3AK/kAcnRg/cAr+QBydGD9wCv5AHJ0YP3AK/kAcnRg/cAr+QBydGD9wCv5AHJ0YP3AK/kAcnRg/cAr+QBydGD9wCv5AHJ0YP3AK/kAcnRg/cAr+QBydGD9wCv5AHJ0YP3AK/kAcnRg/cAr+QBydGD9wCv5AHJ0YP3AK/kAcnRg/cAr+QBydGD9wCv5AHJ0YP3AK/kAcnRg/cAr+QBydGD9wCv5AHJ0YP3AK/kAcnRg/cAr+QBydGD9wCv5AHJ0YP3AK/kAcnRg/cAr+QBydGD9wCv5AHJ0YP3AK/kAcnRg/cAr+QBydGD9wCv5AHJ0YP3AK/kAcnRg/cAr+QBydGD9wCv5AHJ0YP3AK/kAcnRg/cAr+QBydGD9wCv5AHJ0YP3AK/kAcnRg/cAr+QBydGD9wCv5AHJ0YP3AK/kAcnRg/cAr+QBydGD9wCv5AHJ0YP3AK/kAcnRg/cAr+QBydGD9wCv5AHJ0YP3AK/kAcnRg/cAr+QBydGD9wCv5AHJ0YP3AK/kAcnRg/cAr+QBydGD9wCv5AHJ0YP3AK/kAcnRg/cAr+QBydGD9wCv5AHJ0YP3AK/kAcnRg/cAr+QBydGD9wCv5AHJ0YP3AK/kAcnRg/cAr+QBydGD9wCv5AHJ0YP3AK/kAcnRg/cAr+QBydGD9wCv5AHJ0YP3AK/kAcnRg/cAr+QBydGD9wCv5AHJ0YP3AK/kAcnRg/cAr+QBydGD9wCv5AHJ0YP3AK/kAcnRg/cAr+QBydGD9wCv5AHJ0YP3AK/kAcnRg/cAr+QBydGD9wCv5AHJ0YP3AK/kAcnRg/cAr+QBydGD9wCv5AHJ0YP3AK/kAcnRg/cAr+QBydGD9wCv5AHJ0YP3AK/kAcnRg/cAr+QBydGD9wCv5AHJ0YP3AK/kAcnRg/cAr+QBydGD9wCv5AHJ0YP3AK/kAcnRg/cAr+QBydGD9wCv5AHJ0YP3AK/kAcnRg/cAr+QBydGD9wCv5AHJ0YP3AK/kAcnRg/cAr+QBydGD9wCv5AHJ0YP3AK/kAcnRg/cAr+QBydGD9wCv5AHJ0YP3AK/kAcnRg/cAr+QBydGD9wCv5AHJ0YP3AK/kAcnRg/cAr+QBydGD9wCv5AHJ0YP3AK/kAcnRg/cAr+QBydGD9wCv5AHJ0YP3AK/kAcnRg/cAr+QBydGD9wCv5AHJ0YP3AK/kAcnRg/cAr+QBydGD9wCv5AHJ0YP3AK/kAcnRg/cAr+QBydGD9wCv5AHJ0YP3AK/kAcnRg/cAr+QBydGD9wCv5AHJ0YP3AK/kAcnRg/cAr+QBydGD9wCv5AHJ0YP3AK/kAcnRg/cAr+QBydGD9wCv5AHJ0YP3AK/kAcnRg/cAr+QBydGD9wCv5AHJ0YP3AK/kAcnRg/cAr+QBydGD9wCv5AHJ0YP3AK/kAcnRg/cAr+QBydGD9wCv5AHJ0YP3AK/kAcnRg/cAr+QBydGD9wCv5AHJ0YP3AK/kAcnRg/cAr+QBydGD9wCv5AHJ0YP3AK/kAcnRg/cAr+QBydGD9wCv5AHJ0YP3AK/kAcnRg/cAr+QBydGD9wCv5AHJ0YP3AK/kAcnRg/cAr+QBydGD9wCv5AHJ0YP3AK/kAcnRg/cAr+QBydGD9wCv5AHJ0YP3AK/kAcnRg/cAr+QBydGD9wCv5AHJ0YP3AK/kAcnRg/cAr+QBydGD9wCv5AHJ0YP3AK/kAcnRg/cAr+QBydGD9wCv5AHJ0YP3AK/kAcnRg/cAr+QBydGD9wCv5AHJ0YP3AK/kAcnRg/cAr+QBydGD9wCv5AHJ0YP3AK/kAcnRg/cAr+QBydGD9wCv5A+HxMArJs/kD4fEwCsmz+QPh8TAKybP5A+HxMArJs/kD4fEwCsmz+QPh8TAKybP5A+HxMArJs/kD4fEwCsmz+QPh8TAKybP5A+HxMArJs/kD4fEwCsmz+QPh8TAKybP5A+HxMArJs/kD4fEwCsmz+QPh8TAKybP5A+HxMArJs/kD4fEwCsmz+QPh8TAKybP5A+HxMArJs/kD4fEwCsmz+QPh8TAKybP5A+HxMArJs/kD4fEwCsmz+QPh8TAKybP5A+HxMArJs/kD4fEwCsmz+QPh8TAKybP5A+HxMArJs/kD4fEwCsmz+QPh8TAKybP5A+HxMArJs/kD4fEwCsmz+QPh8TAKybP5A+HxMArJs/kD4fEwCsmz+QPh8TAKybP5A+HxMArJs/kD4fEwCsmz+QPh8TAKybP5A+HxMArJs/kD4fEwCsmz+QPh8TAKybP5A+HxMArJs/kD4fEwCsmz+QPh8TAKybP5A+HxMArJs/kD4fEwCsmz+QPh8TAKybP5A+HxMArJs/kD4fEwCsmz+QPh8TAKybP5A+HxMArJs/kD4fEwCsmz+QPh8TAKybP5A+HxMArJs/kD4fEwCsmz+QPh8TAKybP5A+HxMArJs/kD4fEwCsmz+QPh8TAKybP5A+HxMArJs/kD4fEwCsmz+QPh8TAKybP5A+HxMArJs/kD4fEwCsmz+QPh8TAKybP5A+HxMArJs/kD4fEwCsmz+QPh8TAKybP5A+HxMArJs/kD4fEwCsmz+QPh8TAKybP5A+HxMArJs/kD4fEwCsmz+QPh8TAKybP5A+HxMArJs/kD4fEwCsmz+QPh8TAKybP5A1FyAxfPO/kDUXIDF887+QNRcgMXzzv5A1FyAxfPO/kDUXIDF887+QNRcgMXzzv5A1FyAxfPO/kDUXIDF887+QNRcgMXzzv5A1FyAxfPO/kDUXIDF887+QNRcgMXzzv5A1FyAxfPO/kDUXIDF887+QNRcgMXzzv5A1FyAxfPO/kDUXIDF887+QNRcgMXzzv5A1FyAxfPO/kDUXIDF887+QNRcgMXzzv5A1FyAxfPO/kDUXIDF887+QNRcgMXzzv5A1FyAxfPO/kDUXIDF887+QNRcgMXzzv5A1FyAxfPO/kDUXIDF887+QNRcgMXzzv5A1FyAxfPO/kDUXIDF887+QNRcgMXzzv5A1FyAxfPO/kDUXIDF887+QNRcgMXzzv5A1FyAxfPO/kDUXIDF887+QNRcgMXzzv5A1FyAxfPO/kDUXIDF887+QNRcgMXzzv5A1FyAxfPO/kDUXIDF887+QNRcgMXzzv5A1FyAxfPO/kDUXIDF887+QNRcgMXzzv5A1FyAxfPO/kDUXIDF887+QNRcgMXzzv5A1FyAxfPO/kDUXIDF887+QNRcgMXzzv5A1FyAxfPO/kDUXIDF887+QNRcgMXzzv5A1FyAxfPO/kDUXIDF887+QNRcgMXzzv5A1FyAxfPO/kDUXIDF887+QNRcgMXzzv5A1FyAxfPO/kDUXIDF887+QNRcgMXzzv5A1FyAxfPO/kDUXIDF887+QNRcgMXzzv5A1FyAxfPO/kDUXIDF887+QNRcgMXzzv5A1FyAxfPO/kDUXIDF887+QNRcgMXzzv5A1FyAxfPO/kDUXIDF887+QNRcgMXzzv5A1FyAxfPO/kDUXIDF887+QNRcgMXzzv5A1FyAxfPO/kDUXIDF887+QNRcgMXzzv5A1FyAxfPO/kDUXIDF887+QNRcgMXzzv5A1FyAxfPO/kDUXIDF887+QNRcgMXzzv5A1FyAxfPO/kDUXIDF887+QNRcgMXzzv5A1FyAxfPO/kDUXIDF887+QNRcgMXzzv5A1FyAxfPO/kDUXIDF887+QNRcgMXzzv5A1FyAxfPO/kDUXIDF887+QNRcgMXzzv5A1FyAxfPO/kDUXIDF887+QNRcgMXzzv5A1FyAxfPO/kDUXIDF887+QNRcgMXzzv5A1FyAxfPO/kDUXIDF887+QNRcgMXzzv5A1FyAxfPO/kDUXIDF887+QNRcgMXzzv5A1FyAxfPO/kDUXIDF887+QNRcgMXzzv5A1FyAxfPO/kDUXIDF887+QNRcgMXzzv5A1FyAxfPO/kDUXIDF887+QNRcgMXzzv5A1FyAxfPO/kDUXIDF887+QNRcgMXzzv5A1FyAxfPO/kDUXIDF887+QNRcgMXzzv5A1FyAxfPO/kDUXIDF887+QNRcgMXzzv5A1FyAxfPO/kDUXIDF887+QNRcgMXzzv5A1FyAxfPO/kDUXIDF887+QNRcgMXzzv5A1FyAxfPO/kDUXIDF887+QNRcgMXzzv5A1FyAxfPO/kDUXIDF887+QNRcgMXzzv5A1FyAxfPO/kDUXIDF887+QNRcgMXzzv5A1FyAxfPO/kDUXIDF887+QNRcgMXzzv5A1FyAxfPO/kDUXIDF887+QNRcgMXzzv5A1FyAxfPO/kDUXIDF887+QNRcgMXzzv5A1FyAxfPO/kDUXIDF887+QNRcgMXzzv5A1FyAxfPO/kDUXIDF887+QNRcgMXzzv5A1FyAxfPO/kDUXIDF887+QNRcgMXzzv5A1FyAxfPO/kDUXIDF887+QNRcgMXzzv5A1FyAxfPO/kDUXIDF887+QNRcgMXzzv5A1FyAxfPO/kDUXIDF887+QNRcgMXzzv5A1FyAxfPO/kDUXIDF887+QNRcgMXzzv5A1FyAxfPO/kDUXIDF887+QNRcgMXzzv5A1FyAxfPO/kDUXIDF887+QNRcgMXzzv5A1FyAxfPO/kDUXIDF887+QNRcgMXzzv5A1FyAxfPO/kDUXIDF887+QNRcgMXzzv5A1FyAxfPO/kDUXIDF887+QNRcgMXzzv5A1FyAxfPO/kDUXIDF887+QNRcgMXzzv5A1FyAxfPO/kDUXIDF887+QNRcgMXzzv5A1FyAxfPO/kDUXIDF887+QNRcgMXzzv5A1FyAxfPO/kDUXIDF887+QNRcgMXzzv5A1FyAxfPO/kDUXIDF887+QNRcgMXzzv5A1FyAxfPO/kDUXIDF887+QNRcgMXzzv5A1FyAxfPO/kDUXIDF887+QNRcgMXzzv5A1FyAxfPO/kDUXIDF887+QNRcgMXzzv5A1FyAxfPO/kDUXIDF887+QNRcgMXzzv5A1FyAxfPO/kDUXIDF887+QNRcgMXzzv5A1FyAxfPO/kDUXIDF887+QNRcgMXzzv5A1FyAxfPO/kDUXIDF887+QNRcgMXzzv5A1FyAxfPO/kDUXIDF887+QNRcgMXzzv5A1FyAxfPO/kDUXIDF887+QNRcgMXzzv5A1FyAxfPO/kDUXIDF887+QNRcgMXzzv5A1FyAxfPO/kDUXIDF887+QNRcgMXzzv5A1FyAxfPO/kDUXIDF887+QNRcgMXzzv5A1FyAxfPO/kDUXIDF887+QNRcgMXzzv5A1FyAxfPO/kDUXIDF887+QNRcgMXzzv5A1FyAxfPO/kDUXIDF887+QNRcgMXzzv5A1FyAxfPO/kDUXIDF887+QNRcgMXzzv5A1FyAxfPO/kDUXIDF887+QNRcgMXzzv5A1FyAxfPO/kDUXIDF887+QNRcgMXzzv5A1FyAxfPO/kDUXIDF887+QNRcgMXzzv5A1FyAxfPO/kDUXIDF887+QNRcgMXzzv5A1FyAxfPO/kDUXIDF887+QNRcgMXzzv5A1FyAxfPO/kDUXIDF887+QNRcgMXzzv5A1FyAxfPO/kDUXIDF887+QNRcgMXzzv5A1FyAxfPO/kDUXIDF887+QNRcgMXzzv5A1FyAxfPO/kDUXIDF887+QNRcgMXzzv5A1FyAxfPO/kDUXIDF887+QNRcgMXzzv5A1FyAxfPO/kDUXIDF887+QNRcgMXzzv5A1FyAxfPO/kDUXIDF887+QNRcgMXzzv5A1FyAxfPO/kDUXIDF887+QNRcgMXzzv5A1FyAxfPO/kDUXIDF887+QNRcgMXzzv5A1FyAxfPO/kDUXIDF887+QNRcgMXzzv5A1FyAxfPO/kDUXIDF887+QNRcgMXzzv5A1FyAxfPO/kDUXIDF887+QNRcgMXzzv5A1FyAxfPO/kDUXIDF887+QNRcgMXzzv5A1FyAxfPO/kDUXIDF887+QNRcgMXzzv5A1FyAxfPO/kDUXIDF887+QNRcgMXzzv5A1FyAxfPO/kDUXIDF887+QNRcgMXzzv5A1FyAxfPO/kDUXIDF887+QLA8tIg1Mf9AsDy0iDUx/0CwPLSINTH/QLA8tIg1Mf9AsDy0iDUx/0CwPLSINTH/QLA8tIg1Mf9AsDy0iDUx/0CwPLSINTH/QLA8tIg1Mf9AsDy0iDUx/0CwPLSINTH/QLA8tIg1Mf9AsDy0iDUx/0CwPLSINTH/QLA8tIg1Mf9AsDy0iDUx/0CwPLSINTH/QLA8tIg1Mf9AsDy0iDUx/0CwPLSINTH/QLA8tIg1Mf9AsDy0iDUx/0CwPLSINTH/QLA8tIg1Mf9AsDy0iDUx/0CwPLSINTH/QLA8tIg1Mf9AsDy0iDUx/0CwPLSINTH/QLA8tIg1Mf9AsDy0iDUx/0CwPLSINTH/QLA8tIg1Mf9AsDy0iDUx/0CwPLSINTH/QLA8tIg1Mf9AjBzoS3eT/0CMHOhLd5P/QIwc6Et3k/9AjBzoS3eT/0CMHOhLd5P/QIwc6Et3k/9AjBzoS3eT/0CMHOhLd5P/QIwc6Et3k/9AjBzoS3eT/0CMHOhLd5P/QIwc6Et3k/9AjBzoS3eT/0CMHOhLd5P/QIwc6Et3k/9AjBzoS3eT/0CMHOhLd5P/QIwc6Et3k/9AjBzoS3eT/0CMHOhLd5P/QIwc6Et3k/9AjBzoS3eT/0CMHOhLd5P/QIwc6Et3k/9AjBzoS3eT/0CMHOhLd5P/QIwc6Et3k/9AjBzoS3eT/0CMHOhLd5P/QIwc6Et3k/9AjBzoS3eT/0CMHOhLd5P/QIwc6Et3k/9AjBzoS3eT/0CMHOhLd5P/QIwc6Et3k/9AjBzoS3eT/0CMHOhLd5P/QIwc6Et3k/9AjBzoS3eT/0CMHOhLd5P/QGj8Gw+59f9AaPwbD7n1/0Bo/BsPufX/QGj8Gw+59f9AaPwbD7n1/0Bo/BsPufX/QGj8Gw+59f9AaPwbD7n1/0Bo/BsPufX/QGj8Gw+59f9AaPwbD7n1/0Bo/BsPufX/QGj8Gw+59f9AaPwbD7n1/0Bo/BsPufX/QGj8Gw+59f9AaPwbD7n1/0Bo/BsPufX/QGj8Gw+59f9AaPwbD7n1/0Bo/BsPufX/QCLuJ2n9KwBBIu4naf0rAEEQ3sFKHl0AQRDewUoeXQBBEN7BSh5dAEEQ3sFKHl0AQRDewUoeXQBBEN7BSh5dAEEQ3sFKHl0AQRDewUoeXQBBEN7BSh5dAEEQ3sFKHl0AQRDewUoeXQBBEN7BSh5dAEEQ3sFKHl0AQRDewUoeXQBBEN7BSh5dAEEQ3sFKHl0AQRDewUoeXQBBEN7BSh5dAEEQ3sFKHl0AQRDewUoeXQBBEN7BSh5dAEEQ3sFKHl0AQey99Q1gvwBB7L31DWC/AEHsvfUNYL8AQey99Q1gvwBB7L31DWC/AEHsvfUNYL8AQey99Q1gvwBB7L31DWC/AEHsvfUNYL8AQcidKdGhIQFBto3DssJSAUE=",
          "dtype": "f8"
         },
         "yaxis": "y"
        },
        {
         "hovertemplate": "Job function=Project Management and Information Technology<br>months_experience=%{x}<br>avg_salary=%{y}<extra></extra>",
         "legendgroup": "Project Management and Information Technology",
         "marker": {
          "color": "#ab63fa",
          "symbol": "circle"
         },
         "mode": "markers",
         "name": "Project Management and Information Technology",
         "showlegend": true,
         "type": "scattergl",
         "x": {
          "bdata": "AAAAAAAASEAAAAAAAAD4fwAAAAAAAE5AAAAAAAAA+H8AAAAAAAD4fwAAAAAAAPh/AAAAAAAA+H8AAAAAAAD4fwAAAAAAAPh/AAAAAAAATkAAAAAAAABCQA==",
          "dtype": "f8"
         },
         "xaxis": "x",
         "y": {
          "bdata": "AAAAAAAA+H8AAAAAAAD4fwAAAAAAAPh/AAAAAADn+EAAAAAAAAD4fwAAAAAAAPh/AAAAAAAA+H8AAAAAAAD4fwAAAAAAAPh/AAAAAAAA+H8AAAAAAAD4fw==",
          "dtype": "f8"
         },
         "yaxis": "y"
        },
        {
         "hovertemplate": "Job function=Project Management and Information Technology<extra></extra>",
         "legendgroup": "Project Management and Information Technology",
         "marker": {
          "color": "#ab63fa",
          "symbol": "circle"
         },
         "mode": "lines",
         "name": "Project Management and Information Technology",
         "showlegend": false,
         "type": "scattergl",
         "xaxis": "x",
         "yaxis": "y"
        },
        {
         "hovertemplate": "Job function=Information Technology and Consulting<br>months_experience=%{x}<br>avg_salary=%{y}<extra></extra>",
         "legendgroup": "Information Technology and Consulting",
         "marker": {
          "color": "#FFA15A",
          "symbol": "circle"
         },
         "mode": "markers",
         "name": "Information Technology and Consulting",
         "showlegend": true,
         "type": "scattergl",
         "x": {
          "bdata": "AAAAAAAAOEAAAAAAAAAoQAAAAAAAAEJAAAAAAAAA+H8AAAAAAAAoQAAAAAAAAPh/AAAAAAAAQkAAAAAAAABIQA==",
          "dtype": "f8"
         },
         "xaxis": "x",
         "y": {
          "bdata": "AAAAAECzAUEAAAAAwCD/QAAAAAAAAPh/AAAAAODV8kAAAAAAwCD/QAAAAAAAAPh/AAAAAAAA+H8AAAAAAAD4fw==",
          "dtype": "f8"
         },
         "yaxis": "y"
        },
        {
         "hovertemplate": "<b>OLS trendline</b><br>avg_salary = 1458.33 * months_experience + 110000<br>R<sup>2</sup>=1.000000<br><br>Job function=Information Technology and Consulting<br>months_experience=%{x}<br>avg_salary=%{y} <b>(trend)</b><extra></extra>",
         "legendgroup": "Information Technology and Consulting",
         "marker": {
          "color": "#FFA15A",
          "symbol": "circle"
         },
         "mode": "lines",
         "name": "Information Technology and Consulting",
         "showlegend": false,
         "type": "scattergl",
         "x": {
          "bdata": "AAAAAAAAKEAAAAAAAAAoQAAAAAAAADhA",
          "dtype": "f8"
         },
         "xaxis": "x",
         "y": {
          "bdata": "/f///78g/0D9////vyD/QP7///8/swFB",
          "dtype": "f8"
         },
         "yaxis": "y"
        },
        {
         "hovertemplate": "Job function=Engineering<br>months_experience=%{x}<br>avg_salary=%{y}<extra></extra>",
         "legendgroup": "Engineering",
         "marker": {
          "color": "#19d3f3",
          "symbol": "circle"
         },
         "mode": "markers",
         "name": "Engineering",
         "showlegend": true,
         "type": "scattergl",
         "x": {
          "bdata": "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",
          "dtype": "f8"
         },
         "xaxis": "x",
         "y": {
          "bdata": "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",
          "dtype": "f8"
         },
         "yaxis": "y"
        },
        {
         "hovertemplate": "<b>OLS trendline</b><br>avg_salary = 225.766 * months_experience + 130979<br>R<sup>2</sup>=0.043635<br><br>Job function=Engineering<br>months_experience=%{x}<br>avg_salary=%{y} <b>(trend)</b><extra></extra>",
         "legendgroup": "Engineering",
         "marker": {
          "color": "#19d3f3",
          "symbol": "circle"
         },
         "mode": "lines",
         "name": "Engineering",
         "showlegend": false,
         "type": "scattergl",
         "x": {
          "bdata": "AAAAAAAAKEAAAAAAAAAoQAAAAAAAADhAAAAAAAAAOEAAAAAAAAA4QAAAAAAAADhAAAAAAAAAOEAAAAAAAAA4QAAAAAAAADhAAAAAAAAAOEAAAAAAAAA4QAAAAAAAADhAAAAAAAAAOEAAAAAAAAA4QAAAAAAAADhAAAAAAAAAOEAAAAAAAAA4QAAAAAAAADhAAAAAAAAAOEAAAAAAAAA4QAAAAAAAADhAAAAAAAAAOEAAAAAAAAA4QAAAAAAAADhAAAAAAAAAOEAAAAAAAAA4QAAAAAAAADhAAAAAAAAAOEAAAAAAAAA4QAAAAAAAADhAAAAAAAAAOEAAAAAAAAA4QAAAAAAAADhAAAAAAAAAOEAAAAAAAAA4QAAAAAAAADhAAAAAAAAAQkAAAAAAAABCQAAAAAAAAEJAAAAAAAAAQkAAAAAAAABCQAAAAAAAAEJAAAAAAAAAQkAAAAAAAABCQAAAAAAAAEJAAAAAAAAAQkAAAAAAAABCQAAAAAAAAEJAAAAAAAAAQkAAAAAAAABCQAAAAAAAAEJAAAAAAAAASEAAAAAAAABIQAAAAAAAAEhAAAAAAAAATkAAAAAAAABOQAAAAAAAAE5AAAAAAAAATkAAAAAAAABOQAAAAAAAAE5AAAAAAAAATkAAAAAAAABOQAAAAAAAAE5AAAAAAAAAUkAAAAAAAABSQAAAAAAAAFJAAAAAAAAAVUAAAAAAAABVQAAAAAAAAFVAAAAAAAAAVUAAAAAAAABYQAAAAAAAAFhAAAAAAAAAWEAAAAAAAABYQAAAAAAAAFhAAAAAAAAAWEAAAAAAAABeQAAAAAAAAF5AAAAAAAAAXkAAAAAAAABeQAAAAAAAAF5AAAAAAAAAXkAAAAAAAABeQAAAAAAAAGVA",
          "dtype": "f8"
         },
         "xaxis": "x",
         "y": {
          "bdata": "jjHGGMNRAEGOMcYYw1EAQVRKKaVspgBBVEoppWymAEFUSimlbKYAQVRKKaVspgBBVEoppWymAEFUSimlbKYAQVRKKaVspgBBVEoppWymAEFUSimlbKYAQVRKKaVspgBBVEoppWymAEFUSimlbKYAQVRKKaVspgBBVEoppWymAEFUSimlbKYAQVRKKaVspgBBVEoppWymAEFUSimlbKYAQVRKKaVspgBBVEoppWymAEFUSimlbKYAQVRKKaVspgBBVEoppWymAEFUSimlbKYAQVRKKaVspgBBVEoppWymAEFUSimlbKYAQVRKKaVspgBBVEoppWymAEFUSimlbKYAQVRKKaVspgBBVEoppWymAEFUSimlbKYAQVRKKaVspgBBGmOMMRb7AEEaY4wxFvsAQRpjjDEW+wBBGmOMMRb7AEEaY4wxFvsAQRpjjDEW+wBBGmOMMRb7AEEaY4wxFvsAQRpjjDEW+wBBGmOMMRb7AEEaY4wxFvsAQRpjjDEW+wBBGmOMMRb7AEEaY4wxFvsAQRpjjDEW+wBB4Hvvvb9PAUHge++9v08BQeB7772/TwFBppRSSmmkAUGmlFJKaaQBQaaUUkpppAFBppRSSmmkAUGmlFJKaaQBQaaUUkpppAFBppRSSmmkAUGmlFJKaaQBQaaUUkpppAFBbK211hL5AUFsrbXWEvkBQWyttdYS+QFBMsYYY7xNAkEyxhhjvE0CQTLGGGO8TQJBMsYYY7xNAkH43nvvZaICQfjee+9logJB+N5772WiAkH43nvvZaICQfjee+9logJB+N5772WiAkGEEEIIuUsDQYQQQgi5SwNBhBBCCLlLA0GEEEIIuUsDQYQQQgi5SwNBhBBCCLlLA0GEEEIIuUsDQZxzzjlfngRB",
          "dtype": "f8"
         },
         "yaxis": "y"
        },
        {
         "hovertemplate": "Job function=Advertising and Marketing<br>months_experience=%{x}<br>avg_salary=%{y}<extra></extra>",
         "legendgroup": "Advertising and Marketing",
         "marker": {
          "color": "#FF6692",
          "symbol": "circle"
         },
         "mode": "markers",
         "name": "Advertising and Marketing",
         "showlegend": true,
         "type": "scattergl",
         "x": {
          "bdata": "AAAAAAAAKEAAAAAAAAA4QA==",
          "dtype": "f8"
         },
         "xaxis": "x",
         "y": {
          "bdata": "AAAAAADG4UAAAAAAwHoAQQ==",
          "dtype": "f8"
         },
         "yaxis": "y"
        },
        {
         "hovertemplate": "<b>OLS trendline</b><br>avg_salary = 8216.67 * months_experience + -62200<br>R<sup>2</sup>=1.000000<br><br>Job function=Advertising and Marketing<br>months_experience=%{x}<br>avg_salary=%{y} <b>(trend)</b><extra></extra>",
         "legendgroup": "Advertising and Marketing",
         "marker": {
          "color": "#FF6692",
          "symbol": "circle"
         },
         "mode": "lines",
         "name": "Advertising and Marketing",
         "showlegend": false,
         "type": "scattergl",
         "x": {
          "bdata": "AAAAAAAAKEAAAAAAAAA4QA==",
          "dtype": "f8"
         },
         "xaxis": "x",
         "y": {
          "bdata": "CAAAAADG4UAAAAAAwHoAQQ==",
          "dtype": "f8"
         },
         "yaxis": "y"
        },
        {
         "hovertemplate": "Job function=Quality Assurance<br>months_experience=%{x}<br>avg_salary=%{y}<extra></extra>",
         "legendgroup": "Quality Assurance",
         "marker": {
          "color": "#B6E880",
          "symbol": "circle"
         },
         "mode": "markers",
         "name": "Quality Assurance",
         "showlegend": true,
         "type": "scattergl",
         "x": {
          "bdata": "AAAAAAAASEAAAAAAAAD4fwAAAAAAAPh/AAAAAAAA+H8AAAAAAABCQAAAAAAAAPh/AAAAAAAA+H8AAAAAAABOQAAAAAAAAEJAAAAAAAAAQkAAAAAAAABCQAAAAAAAAEJAAAAAAAAAQkAAAAAAAAD4fwAAAAAAAE5AAAAAAAAASEAAAAAAAABVQAAAAAAAAEJAAAAAAAAA+H8AAAAAAAD4fwAAAAAAAF5AAAAAAAAAQkAAAAAAAABVQAAAAAAAAPh/AAAAAAAASEAAAAAAAABOQAAAAAAAAEhAAAAAAAAAUkAAAAAAAAAYQAAAAAAAAEJAAAAAAAAAUkAAAAAAAABOQAAAAAAAADhAAAAAAAAAKEAAAAAAAABIQA==",
          "dtype": "f8"
         },
         "xaxis": "x",
         "y": {
          "bdata": "AAAAAABq+EAAAAAAANr2QAAAAAAAAPh/AAAAAADa9kAAAAAAAAD4fwAAAAAAAPh/AAAAAAAA+H8AAAAAAAD4fwAAAAAAAPh/AAAAAAAA+H8AAAAAAAD4fwAAAAAAAPh/AAAAAAAA+H8AAAAAAAD4fwAAAAAAAPh/AAAAAAAA+H8AAAAAAAD4fwAAAAAAAPh/AAAAAAAA+H8AAAAAAAD4fwAAAAAAAPh/AAAAAAAA+H8AAAAAAAD4fwAAAAAAAPh/AAAAAAAA+H8AAAAAAAD4fwAAAAAAAPh/AAAAAAAA+H8AAAAAAAD4fwAAAAAAAPh/AAAAAAAA+H8AAAAAAAD4fwAAAAAAAPh/AAAAAAAA+H8AAAAAAAD4fw==",
          "dtype": "f8"
         },
         "yaxis": "y"
        },
        {
         "hovertemplate": "Job function=Quality Assurance<extra></extra>",
         "legendgroup": "Quality Assurance",
         "marker": {
          "color": "#B6E880",
          "symbol": "circle"
         },
         "mode": "lines",
         "name": "Quality Assurance",
         "showlegend": false,
         "type": "scattergl",
         "xaxis": "x",
         "yaxis": "y"
        },
        {
         "hovertemplate": "Job function=Research and Engineering<br>months_experience=%{x}<br>avg_salary=%{y}<extra></extra>",
         "legendgroup": "Research and Engineering",
         "marker": {
          "color": "#FF97FF",
          "symbol": "circle"
         },
         "mode": "markers",
         "name": "Research and Engineering",
         "showlegend": true,
         "type": "scattergl",
         "x": {
          "bdata": "AAAAAAAASEAAAAAAAAD4fwAAAAAAAEJAAAAAAAAAVUAAAAAAAABVQAAAAAAAAEhAAAAAAAAA+H8AAAAAAABOQAAAAAAAAPh/",
          "dtype": "f8"
         },
         "xaxis": "x",
         "y": {
          "bdata": "AAAAAAAA+H8AAAAAINAEQQAAAAAAAPh/AAAAAAAA+H8AAAAAAJoAQQAAAAAAAPh/AAAAAAAA+H8AAAAAoCACQQAAAACgxPhA",
          "dtype": "f8"
         },
         "yaxis": "y"
        },
        {
         "hovertemplate": "<b>OLS trendline</b><br>avg_salary = -520.833 * months_experience + 179750<br>R<sup>2</sup>=1.000000<br><br>Job function=Research and Engineering<br>months_experience=%{x}<br>avg_salary=%{y} <b>(trend)</b><extra></extra>",
         "legendgroup": "Research and Engineering",
         "marker": {
          "color": "#FF97FF",
          "symbol": "circle"
         },
         "mode": "lines",
         "name": "Research and Engineering",
         "showlegend": false,
         "type": "scattergl",
         "x": {
          "bdata": "AAAAAAAATkAAAAAAAABVQA==",
          "dtype": "f8"
         },
         "xaxis": "x",
         "y": {
          "bdata": "/P///58gAkH8/////5kAQQ==",
          "dtype": "f8"
         },
         "yaxis": "y"
        },
        {
         "hovertemplate": "Job function=Engineering, Science, and Information Technology<br>months_experience=%{x}<br>avg_salary=%{y}<extra></extra>",
         "legendgroup": "Engineering, Science, and Information Technology",
         "marker": {
          "color": "#FECB52",
          "symbol": "circle"
         },
         "mode": "markers",
         "name": "Engineering, Science, and Information Technology",
         "showlegend": true,
         "type": "scattergl",
         "x": {
          "bdata": "AAAAAAAAUkAAAAAAAABIQAAAAAAAAE5A",
          "dtype": "f8"
         },
         "xaxis": "x",
         "y": {
          "bdata": "AAAAAAAA+H8AAAAAAAD4fwAAAAAAAPh/",
          "dtype": "f8"
         },
         "yaxis": "y"
        },
        {
         "hovertemplate": "Job function=Engineering, Science, and Information Technology<extra></extra>",
         "legendgroup": "Engineering, Science, and Information Technology",
         "marker": {
          "color": "#FECB52",
          "symbol": "circle"
         },
         "mode": "lines",
         "name": "Engineering, Science, and Information Technology",
         "showlegend": false,
         "type": "scattergl",
         "xaxis": "x",
         "yaxis": "y"
        },
        {
         "hovertemplate": "Job function=Engineering, Information Technology, and Consulting<br>months_experience=%{x}<br>avg_salary=%{y}<extra></extra>",
         "legendgroup": "Engineering, Information Technology, and Consulting",
         "marker": {
          "color": "#636efa",
          "symbol": "circle"
         },
         "mode": "markers",
         "name": "Engineering, Information Technology, and Consulting",
         "showlegend": true,
         "type": "scattergl",
         "x": {
          "bdata": "AAAAAAAATkAAAAAAAABIQAAAAAAAAFJAAAAAAAAATkA=",
          "dtype": "f8"
         },
         "xaxis": "x",
         "y": {
          "bdata": "AAAAAAAA+H8AAAAAAAD4fwAAAACA++9AAAAAAAAA+H8=",
          "dtype": "f8"
         },
         "yaxis": "y"
        },
        {
         "hovertemplate": "Job function=Engineering, Information Technology, and Consulting<extra></extra>",
         "legendgroup": "Engineering, Information Technology, and Consulting",
         "marker": {
          "color": "#636efa",
          "symbol": "circle"
         },
         "mode": "lines",
         "name": "Engineering, Information Technology, and Consulting",
         "showlegend": false,
         "type": "scattergl",
         "xaxis": "x",
         "yaxis": "y"
        },
        {
         "hovertemplate": "Job function=Engineering, Information Technology, and Analyst<br>months_experience=%{x}<br>avg_salary=%{y}<extra></extra>",
         "legendgroup": "Engineering, Information Technology, and Analyst",
         "marker": {
          "color": "#EF553B",
          "symbol": "circle"
         },
         "mode": "markers",
         "name": "Engineering, Information Technology, and Analyst",
         "showlegend": true,
         "type": "scattergl",
         "x": {
          "bdata": "AAAAAAAAWEAAAAAAAAD4fwAAAAAAAE5AAAAAAAAAOEAAAAAAAABCQAAAAAAAAPh/AAAAAAAA+H8AAAAAAAD4fwAAAAAAAPh/AAAAAAAA+H8AAAAAAAD4fwAAAAAAAPh/AAAAAAAAQkAAAAAAAAA4QAAAAAAAAChAAAAAAAAAQkAAAAAAAAD4fw==",
          "dtype": "f8"
         },
         "xaxis": "x",
         "y": {
          "bdata": "AAAAAAAA+H8AAAAAAAD4fwAAAAAAAPh/AAAAAAAXAUEAAAAAAAD4fwAAAADA5QNBAAAAAAAA+H8AAAAAgAf+QAAAAAAAAPh/AAAAAAAA+H8AAAAAAAD4fwAAAAAAAPh/AAAAAAAA+H8AAAAAAAD4fwAAAAAAAPh/AAAAAAAA+H8AAAAAAPn1QA==",
          "dtype": "f8"
         },
         "yaxis": "y"
        },
        {
         "hovertemplate": "Job function=Engineering, Information Technology, and Analyst<extra></extra>",
         "legendgroup": "Engineering, Information Technology, and Analyst",
         "marker": {
          "color": "#EF553B",
          "symbol": "circle"
         },
         "mode": "lines",
         "name": "Engineering, Information Technology, and Analyst",
         "showlegend": false,
         "type": "scattergl",
         "xaxis": "x",
         "yaxis": "y"
        },
        {
         "hovertemplate": "Job function=Quality Assurance, Information Technology, and Engineering<br>months_experience=%{x}<br>avg_salary=%{y}<extra></extra>",
         "legendgroup": "Quality Assurance, Information Technology, and Engineering",
         "marker": {
          "color": "#00cc96",
          "symbol": "circle"
         },
         "mode": "markers",
         "name": "Quality Assurance, Information Technology, and Engineering",
         "showlegend": true,
         "type": "scattergl",
         "x": {
          "bdata": "AAAAAAAAVUAAAAAAAAD4fwAAAAAAAPh/AAAAAAAAOEAAAAAAAAA4QAAAAAAAAE5AAAAAAAAAOEAAAAAAAAA4QAAAAAAAAPh/AAAAAAAA+H8AAAAAAABYQAAAAAAAAFVAAAAAAAAAKEAAAAAAAABeQAAAAAAAAE5AAAAAAAAASEAAAAAAAAA4QAAAAAAAAPh/AAAAAAAAKEA=",
          "dtype": "f8"
         },
         "xaxis": "x",
         "y": {
          "bdata": "AAAAAIAH/kAAAAAAYPsCQQAAAAAAAPh/AAAAACBc/0AAAAAAAAD4fwAAAAAAAPh/AAAAAAAA+H8AAAAAAAD4fwAAAAAAAPh/AAAAAAAA+H8AAAAAAAD4fwAAAAAAAPh/AAAAAAAA+H8AAAAAAAD4fwAAAAAAAPh/AAAAAAAA+H8AAAAAAAD4fwAAAACAK/hAAAAAAKAmAUE=",
          "dtype": "f8"
         },
         "yaxis": "y"
        },
        {
         "hovertemplate": "<b>OLS trendline</b><br>avg_salary = -193.952 * months_experience + 138408<br>R<sup>2</sup>=0.698001<br><br>Job function=Quality Assurance, Information Technology, and Engineering<br>months_experience=%{x}<br>avg_salary=%{y} <b>(trend)</b><extra></extra>",
         "legendgroup": "Quality Assurance, Information Technology, and Engineering",
         "marker": {
          "color": "#00cc96",
          "symbol": "circle"
         },
         "mode": "lines",
         "name": "Quality Assurance, Information Technology, and Engineering",
         "showlegend": false,
         "type": "scattergl",
         "x": {
          "bdata": "AAAAAAAAKEAAAAAAAAA4QAAAAAAAAFVA",
          "dtype": "f8"
         },
         "xaxis": "x",
         "y": {
          "bdata": "lVJKKYWcAEHonHPOyVMAQQghhBBC0P1A",
          "dtype": "f8"
         },
         "yaxis": "y"
        },
        {
         "hovertemplate": "Job function=Information Technology and Engineering<br>months_experience=%{x}<br>avg_salary=%{y}<extra></extra>",
         "legendgroup": "Information Technology and Engineering",
         "marker": {
          "color": "#ab63fa",
          "symbol": "circle"
         },
         "mode": "markers",
         "name": "Information Technology and Engineering",
         "showlegend": true,
         "type": "scattergl",
         "x": {
          "bdata": "AAAAAAAAVUAAAAAAAABVQAAAAAAAAFVAAAAAAAAA+H8AAAAAAAD4fwAAAAAAAEJAAAAAAAAASEAAAAAAAAD4fwAAAAAAAFJAAAAAAAAAUkAAAAAAAABCQAAAAAAAAEJAAAAAAAAAQkAAAAAAAABCQAAAAAAAAE5AAAAAAAAASEAAAAAAAAD4fwAAAAAAAPh/AAAAAAAA+H8AAAAAAAAoQAAAAAAAAChAAAAAAAAAKEAAAAAAAABVQAAAAAAAAE5AAAAAAAAATkAAAAAAAABOQAAAAAAAAFVAAAAAAAAATkAAAAAAAABOQAAAAAAAAF5AAAAAAAAATkAAAAAAAAA4QAAAAAAAADhAAAAAAAAATkAAAAAAAAA4QAAAAAAAAFVAAAAAAAAAOEAAAAAAAABOQAAAAAAAAFVAAAAAAAAAVUAAAAAAAABSQAAAAAAAAEhAAAAAAAAA+H8AAAAAAAD4fwAAAAAAADhAAAAAAAAAKEAAAAAAAAD4fwAAAAAAAPh/AAAAAAAA+H8AAAAAAAD4fwAAAAAAAPh/AAAAAAAA+H8AAAAAAAD4fwAAAAAAAPh/AAAAAAAA+H8AAAAAAAD4fwAAAAAAAEJAAAAAAAAATkAAAAAAAABSQAAAAAAAAEJAAAAAAAAA+H8AAAAAAABOQAAAAAAAAEhAAAAAAAAAQkAAAAAAAABVQAAAAAAAAEJAAAAAAAAA+H8AAAAAAAD4fwAAAAAAAPh/AAAAAAAA+H8AAAAAAAD4fwAAAAAAAPh/AAAAAAAAYkAAAAAAAAD4fwAAAAAAAPh/AAAAAAAAQkAAAAAAAAD4fwAAAAAAADhAAAAAAAAAQkAAAAAAAAD4fwAAAAAAAGJAAAAAAAAASEAAAAAAAAD4fwAAAAAAAPh/AAAAAAAA+H8AAAAAAABeQAAAAAAAAF5AAAAAAAAAQkAAAAAAAABOQAAAAAAAAFVAAAAAAAAATkAAAAAAAABVQAAAAAAAAFVAAAAAAAAAVUAAAAAAAABiQAAAAAAAAGJAAAAAAAAAYkAAAAAAAABOQAAAAAAAAE5AAAAAAAAAXkAAAAAAAABVQAAAAAAAAFVAAAAAAAAASEAAAAAAAAAoQAAAAAAAAFVAAAAAAAAATkAAAAAAAABOQAAAAAAAAPh/AAAAAAAASEAAAAAAAABIQAAAAAAAAEhAAAAAAAAASEAAAAAAAABIQAAAAAAAAEJAAAAAAAAAKEAAAAAAAABOQAAAAAAAAEhAAAAAAAAASEAAAAAAAABIQAAAAAAAAEhAAAAAAAAATkAAAAAAAAD4fwAAAAAAAEhAAAAAAAAASEAAAAAAAABOQAAAAAAAAE5AAAAAAAAATkAAAAAAAABOQAAAAAAAAE5AAAAAAAAAWEAAAAAAAABOQAAAAAAAAFVAAAAAAAAATkAAAAAAAABOQAAAAAAAAE5AAAAAAAAATkAAAAAAAABIQAAAAAAAAFhAAAAAAAAASEAAAAAAAAD4fwAAAAAAAPh/AAAAAAAA+H8AAAAAAAD4fwAAAAAAAE5AAAAAAAAAWEAAAAAAAAD4fwAAAAAAAPh/AAAAAAAA+H8AAAAAAAD4fwAAAAAAAE5AAAAAAAAATkAAAAAAAAD4fwAAAAAAAFhAAAAAAAAAUkAAAAAAAAA4QAAAAAAAAE5A",
          "dtype": "f8"
         },
         "xaxis": "x",
         "y": {
          "bdata": "AAAAAAAA+H8AAAAAAAD4fwAAAAAAAPh/AAAAAAAA+H8AAAAAAAD4fwAAAAAAAPh/AAAAAAAA+H8AAAAAAAD4fwAAAAAAAPh/AAAAAAAA+H8AAAAAYE/+QAAAAAAA+/1AAAAAAAAA+H8AAAAAQCT0QAAAAAAAAPh/AAAAAAAA+H8AAAAAAAD4fwAAAAAAAPh/AAAAAAAA+H8AAAAAINn/QAAAAAAAAPh/AAAAACCs+kAAAAAAAAD4fwAAAAAAAPh/AAAAAAAA+H8AAAAAAAD4fwAAAAAAAPh/AAAAAAAA+H8AAAAAAAD4fwAAAAAAAPh/AAAAAAAA+H8AAAAAAAD4fwAAAAAAAPh/AAAAAAAA+H8AAAAAAAD4fwAAAAAAAPh/AAAAAAAA+H8AAAAAAAD4fwAAAAAAAPh/AAAAAAAA+H8AAAAAAAD4fwAAAAAAAPh/AAAAAAAA+H8AAAAA4MT5QAAAAAAAAPh/AAAAAAAA+H8AAAAAAAD4fwAAAADAavtAAAAAAAAA+H8AAAAAAAD4fwAAAAAAAPh/AAAAAAAA+H8AAAAAAAD4fwAAAAAAAPh/AAAAAAAA+H8AAAAAAAD4fwAAAAAAAPh/AAAAAAAA+H8AAAAA4OT8QAAAAAAAAPh/AAAAAAAA+H8AAAAAAAD4fwAAAAAAAPh/AAAAAAAA+H8AAAAAAAD4fwAAAAAAAPh/AAAAAAAA+H8AAAAAAAD4fwAAAAAAAPh/AAAAAAAA+H8AAAAAAAD4fwAAAACAWP1AAAAAAAAA+H8AAAAAAAD4fwAAAAAAAPh/AAAAAAAe9EAAAAAAAAD4fwAAAAAAAPh/AAAAAAAA+H8AAAAAgIT+QAAAAAAAAPh/AAAAAAAA+H8AAAAAAAD4fwAAAAAAAPh/AAAAACDZ/0AAAAAAAAD4fwAAAAAAAPh/AAAAAAAA+H8AAAAAoIz5QAAAAAAAAPh/AAAAAOCQ8UAAAAAAAAD4fwAAAAAAAPh/AAAAAAAA+H8AAAAAAAD4fwAAAAAAAPh/AAAAAAAA+H8AAAAAoIz5QAAAAABgfvJAAAAAAAAA+H8AAAAAAAD4fwAAAAAAAPh/AAAAAAAA+H8AAAAAIOr4QAAAAAAAAPh/AAAAAIBY/UAAAAAAAAD4fwAAAAAAAPh/AAAAAAAA+H8AAAAAAAD4fwAAAAAAAPh/AAAAAAAA+H8AAAAAAAD4fwAAAAAAAPh/AAAAAAAA+H8AAAAAAAD4fwAAAABgWvhAAAAAAAAA+H8AAAAAAAD4fwAAAABgWvhAAAAAAAAA+H8AAAAAQIL1QAAAAAAAAPh/AAAAAAAA+H8AAAAAYND1QAAAAAAAAPh/AAAAAAAA+H8AAAAAAAD4fwAAAAAgxPZAAAAAAAAA+H8AAAAAAAD4fwAAAAAAAPh/AAAAAOD79EAAAAAAYH7yQAAAAACgA/tAAAAAAOCj8kAAAAAAAAD4fwAAAABA2/tAAAAAAAAA+H8AAAAAAAD4fwAAAAAAAPh/AAAAAAAA+H8AAAAAAAD4fwAAAAAAYAhBAAAAAAAXAUEAAAAAAAD4fwAAAAAAAPh/AAAAAAAA+H8AAAAAAAD4fwAAAADgt/dAAAAAAAAA+H8AAAAAAAD4fwAAAAAAAPh/AAAAAAAA+H8AAAAAAAD4fwAAAAAAAPh/",
          "dtype": "f8"
         },
         "yaxis": "y"
        },
        {
         "hovertemplate": "<b>OLS trendline</b><br>avg_salary = 75.6338 * months_experience + 101242<br>R<sup>2</sup>=0.003562<br><br>Job function=Information Technology and Engineering<br>months_experience=%{x}<br>avg_salary=%{y} <b>(trend)</b><extra></extra>",
         "legendgroup": "Information Technology and Engineering",
         "marker": {
          "color": "#ab63fa",
          "symbol": "circle"
         },
         "mode": "lines",
         "name": "Information Technology and Engineering",
         "showlegend": false,
         "type": "scattergl",
         "x": {
          "bdata": "AAAAAAAAKEAAAAAAAAAoQAAAAAAAAChAAAAAAAAAQkAAAAAAAABCQAAAAAAAAEJAAAAAAAAAQkAAAAAAAABIQAAAAAAAAEhAAAAAAAAATkAAAAAAAABOQAAAAAAAAE5AAAAAAAAATkAAAAAAAABOQAAAAAAAAE5AAAAAAAAATkAAAAAAAABOQAAAAAAAAE5AAAAAAAAATkAAAAAAAABOQAAAAAAAAE5AAAAAAAAATkAAAAAAAABSQAAAAAAAAFhAAAAAAAAAWEA=",
          "dtype": "f8"
         },
         "xaxis": "x",
         "y": {
          "bdata": "T15DeVXw+EBPXkN5VfD4QE9eQ3lV8PhA5DWU18hh+UDkNZTXyGH5QOQ1lNfIYflA5DWU18hh+UCuobyGgpr5QK6hvIaCmvlAeA3lNTzT+UB4DeU1PNP5QHgN5TU80/lAeA3lNTzT+UB4DeU1PNP5QHgN5TU80/lAeA3lNTzT+UB4DeU1PNP5QHgN5TU80/lAeA3lNTzT+UB4DeU1PNP5QHgN5TU80/lAeA3lNTzT+UBCeQ3l9Qv6QNZQXkNpffpA1lBeQ2l9+kA=",
          "dtype": "f8"
         },
         "yaxis": "y"
        },
        {
         "hovertemplate": "Job function=Advertising, Art/Creative, and Marketing<br>months_experience=%{x}<br>avg_salary=%{y}<extra></extra>",
         "legendgroup": "Advertising, Art/Creative, and Marketing",
         "marker": {
          "color": "#FFA15A",
          "symbol": "circle"
         },
         "mode": "markers",
         "name": "Advertising, Art/Creative, and Marketing",
         "showlegend": true,
         "type": "scattergl",
         "x": {
          "bdata": "AAAAAAAAUkAAAAAAAAD4fw==",
          "dtype": "f8"
         },
         "xaxis": "x",
         "y": {
          "bdata": "AAAAAAAA+H8AAAAAAAD4fw==",
          "dtype": "f8"
         },
         "yaxis": "y"
        },
        {
         "hovertemplate": "Job function=Advertising, Art/Creative, and Marketing<extra></extra>",
         "legendgroup": "Advertising, Art/Creative, and Marketing",
         "marker": {
          "color": "#FFA15A",
          "symbol": "circle"
         },
         "mode": "lines",
         "name": "Advertising, Art/Creative, and Marketing",
         "showlegend": false,
         "type": "scattergl",
         "xaxis": "x",
         "yaxis": "y"
        },
        {
         "hovertemplate": "Job function=Other<br>months_experience=%{x}<br>avg_salary=%{y}<extra></extra>",
         "legendgroup": "Other",
         "marker": {
          "color": "#19d3f3",
          "symbol": "circle"
         },
         "mode": "markers",
         "name": "Other",
         "showlegend": true,
         "type": "scattergl",
         "x": {
          "bdata": "AAAAAAAAQkAAAAAAAABCQAAAAAAAAEJAAAAAAAAA+H8AAAAAAAD4fwAAAAAAAEhAAAAAAAAAQkAAAAAAAABOQAAAAAAAADhAAAAAAAAAWEAAAAAAAABOQAAAAAAAAE5AAAAAAAAAQkAAAAAAAABSQAAAAAAAAPh/AAAAAAAA+H8AAAAAAAD4fwAAAAAAAChAAAAAAAAAQkAAAAAAAAD4fwAAAAAAAPh/AAAAAAAA+H8AAAAAAAD4fwAAAAAAAFtAAAAAAAAA+H8AAAAAAABeQAAAAAAAABhAAAAAAAAATkAAAAAAAABCQAAAAAAAAPh/AAAAAAAAKEAAAAAAAAD4fwAAAAAAAEJAAAAAAAAATkAAAAAAAAAoQAAAAAAAAEJAAAAAAAAAKEAAAAAAAABSQAAAAAAAAEJAAAAAAAAA+H8AAAAAAABVQAAAAAAAAE5AAAAAAAAAOEAAAAAAAABOQAAAAAAAAPh/AAAAAAAATkAAAAAAAABCQAAAAAAAAPh/AAAAAAAATkAAAAAAAABYQAAAAAAAAEJAAAAAAAAASEAAAAAAAAA4QAAAAAAAAPh/AAAAAAAAQkAAAAAAAABYQAAAAAAAAPh/AAAAAAAA+H8AAAAAAAD4fwAAAAAAAE5AAAAAAAAA+H8AAAAAAAD4fwAAAAAAAPh/AAAAAAAATkAAAAAAAAA4QAAAAAAAAEhAAAAAAAAAQkAAAAAAAAD4fwAAAAAAAFhAAAAAAAAAVUAAAAAAAAD4fwAAAAAAAF5AAAAAAAAAKEAAAAAAAAD4fwAAAAAAAE5AAAAAAAAA+H8AAAAAAAD4fwAAAAAAAF5AAAAAAAAAOEAAAAAAAABCQA==",
          "dtype": "f8"
         },
         "xaxis": "x",
         "y": {
          "bdata": "AAAAAAAA+H8AAAAAAAD4fwAAAABAhwBBAAAAAKCLBUEAAAAAAAD4fwAAAAAAAPh/AAAAAEBF+0AAAAAAAAD4fwAAAAAAAPh/AAAAAAAA+H8AAAAAAAD4fwAAAAAAAPh/AAAAAAAA+H8AAAAAAAD4fwAAAAAAAPh/AAAAACAj/EAAAAAAAAD4fwAAAAAAAPh/AAAAAAAy+UAAAAAAAAD4fwAAAAAAAPh/AAAAAAAA+H8AAAAAgAf+QAAAAADADPpAAAAAAAAA+H8AAAAA4MgAQQAAAAAAAPh/AAAAAAAA+H8AAAAA4OP4QAAAAAAAAPh/AAAAAEAH/UAAAAAAQJsFQQAAAAAA5/hAAAAAAAAA+H8AAAAAIFr3QAAAAAAAAPh/AAAAAAAA+H8AAAAAgGn2QAAAAACAafZAAAAAAAAA+H8AAAAAAAD4fwAAAAAAAPh/AAAAAAAA+H8AAAAAAAD4fwAAAAAAAPh/AAAAAAAA+H8AAAAAAAD4fwAAAADAXAVBAAAAAAAA+H8AAAAAAED/QAAAAAAAAPh/AAAAAKAIBkEAAAAAoAgGQQAAAACgLABBAAAAAECbBUEAAAAAAB0AQQAAAAAAAPh/AAAAAACB8EAAAAAAAAD4fwAAAAAAAPh/AAAAAAAA+H8AAAAAAJoAQQAAAABAmwVBAAAAAAAA+H8AAAAAAAD4fwAAAAAAAPh/AAAAAKAP+UAAAAAAAAD4fwAAAAAAAPh/AAAAAAAA+H8AAAAAYGz1QAAAAAAAAPh/AAAAAOB/+EAAAAAAQJsFQQAAAAAAAPh/AAAAAAAA+H8AAAAAAAD4fwAAAAAAAPh/AAAAAAAA+H8AAAAAAAD4fw==",
          "dtype": "f8"
         },
         "yaxis": "y"
        },
        {
         "hovertemplate": "<b>OLS trendline</b><br>avg_salary = 65.3778 * months_experience + 118864<br>R<sup>2</sup>=0.005465<br><br>Job function=Other<br>months_experience=%{x}<br>avg_salary=%{y} <b>(trend)</b><extra></extra>",
         "legendgroup": "Other",
         "marker": {
          "color": "#19d3f3",
          "symbol": "circle"
         },
         "mode": "lines",
         "name": "Other",
         "showlegend": false,
         "type": "scattergl",
         "x": {
          "bdata": "AAAAAAAAKEAAAAAAAAAoQAAAAAAAAChAAAAAAAAAOEAAAAAAAABCQAAAAAAAAEJAAAAAAAAAQkAAAAAAAABCQAAAAAAAAEJAAAAAAAAAQkAAAAAAAABCQAAAAAAAAEJAAAAAAAAASEAAAAAAAABSQAAAAAAAAFhAAAAAAAAAWEAAAAAAAABbQAAAAAAAAF5A",
          "dtype": "f8"
         },
         "xaxis": "x",
         "y": {
          "bdata": "rsir4gE2/UCuyKviATb9QK7Iq+IBNv1AmiMZbApn/UCFfob1Epj9QIV+hvUSmP1AhX6G9RKY/UCFfob1Epj9QIV+hvUSmP1AhX6G9RKY/UCFfob1Epj9QIV+hvUSmP1AcdnzfhvJ/UBJj86RLCv+QCBFqaQ9jf5AIEWppD2N/kAMoBYuRr7+QPj6g7dO7/5A",
          "dtype": "f8"
         },
         "yaxis": "y"
        },
        {
         "hovertemplate": "Job function=Management and Strategy/Planning<br>months_experience=%{x}<br>avg_salary=%{y}<extra></extra>",
         "legendgroup": "Management and Strategy/Planning",
         "marker": {
          "color": "#FF6692",
          "symbol": "circle"
         },
         "mode": "markers",
         "name": "Management and Strategy/Planning",
         "showlegend": true,
         "type": "scattergl",
         "x": {
          "bdata": "AAAAAAAA+H8AAAAAAAA4QAAAAAAAAEJAAAAAAAAA+H8AAAAAAAD4fwAAAAAAAPh/",
          "dtype": "f8"
         },
         "xaxis": "x",
         "y": {
          "bdata": "AAAAAEC8/EAAAAAAAM/8QAAAAAAAAPh/AAAAAOAV+UAAAAAAAOj8QAAAAAAAAPh/",
          "dtype": "f8"
         },
         "yaxis": "y"
        },
        {
         "hovertemplate": "Job function=Management and Strategy/Planning<extra></extra>",
         "legendgroup": "Management and Strategy/Planning",
         "marker": {
          "color": "#FF6692",
          "symbol": "circle"
         },
         "mode": "lines",
         "name": "Management and Strategy/Planning",
         "showlegend": false,
         "type": "scattergl",
         "xaxis": "x",
         "yaxis": "y"
        },
        {
         "hovertemplate": "Job function=Management, Strategy/Planning, and Consulting<br>months_experience=%{x}<br>avg_salary=%{y}<extra></extra>",
         "legendgroup": "Management, Strategy/Planning, and Consulting",
         "marker": {
          "color": "#B6E880",
          "symbol": "circle"
         },
         "mode": "markers",
         "name": "Management, Strategy/Planning, and Consulting",
         "showlegend": true,
         "type": "scattergl",
         "x": {
          "bdata": "AAAAAAAATkAAAAAAAAA4QAAAAAAAADhAAAAAAAAAQkAAAAAAAABCQAAAAAAAAEJAAAAAAAAAQkAAAAAAAABOQAAAAAAAAEJAAAAAAAAAOEAAAAAAAABCQAAAAAAAAEJAAAAAAAAAQkAAAAAAAABCQAAAAAAAAEJAAAAAAAAAQkAAAAAAAABOQAAAAAAAAEhAAAAAAAAAQkAAAAAAAABCQAAAAAAAAEJAAAAAAAAAQkAAAAAAAABCQAAAAAAAAEJAAAAAAAAAQkAAAAAAAAA4QAAAAAAAAEJAAAAAAAAAQkAAAAAAAAD4fwAAAAAAAPh/AAAAAAAAQkAAAAAAAABCQAAAAAAAAEJAAAAAAAAAOEAAAAAAAABCQAAAAAAAAE5AAAAAAAAATkAAAAAAAABCQAAAAAAAAEJAAAAAAAAAQkAAAAAAAAA4QAAAAAAAAEJAAAAAAAAAQkAAAAAAAABOQAAAAAAAAE5AAAAAAAAAQkAAAAAAAABCQAAAAAAAAEJAAAAAAAAAQkAAAAAAAABCQAAAAAAAAEJAAAAAAAAAQkAAAAAAAABCQAAAAAAAAEJAAAAAAAAAQkAAAAAAAABCQAAAAAAAAEJAAAAAAAAATkAAAAAAAABOQA==",
          "dtype": "f8"
         },
         "xaxis": "x",
         "y": {
          "bdata": "AAAAAAAA+H8AAAAAAAD4fwAAAAAAAPh/AAAAAAAA+H8AAAAAAAD4fwAAAAAAAPh/AAAAAAAA+H8AAAAAAAD4fwAAAAAAAPh/AAAAAAAA+H8AAAAAAAD4fwAAAAAAAPh/AAAAAAAA+H8AAAAAAAD4fwAAAAAAAPh/AAAAAAAA+H8AAAAAAAD4fwAAAAAAAPh/AAAAAAAA+H8AAAAAAAD4fwAAAAAAAPh/AAAAAAAA+H8AAAAAAAD4fwAAAAAAAPh/AAAAAAAA+H8AAAAAAAD4fwAAAAAAAPh/AAAAAAAA+H8AAAAAAAD4fwAAAAAAAPh/AAAAAAAA+H8AAAAAAAD4fwAAAAAAAPh/AAAAAAAA+H8AAAAAAAD4fwAAAAAAAPh/AAAAAAAA+H8AAAAAAAD4fwAAAAAAAPh/AAAAAAAA+H8AAAAAAAD4fwAAAAAAAPh/AAAAAAAA+H8AAAAAAAD4fwAAAAAAAPh/AAAAAAAA+H8AAAAAAAD4fwAAAAAAAPh/AAAAAAAA+H8AAAAAAAD4fwAAAAAAAPh/AAAAAAAA+H8AAAAAAAD4fwAAAAAAAPh/AAAAAAAA+H8AAAAAAAD4fwAAAAAAAPh/AAAAAAAA+H8AAAAAAAD4fw==",
          "dtype": "f8"
         },
         "yaxis": "y"
        },
        {
         "hovertemplate": "Job function=Management, Strategy/Planning, and Consulting<extra></extra>",
         "legendgroup": "Management, Strategy/Planning, and Consulting",
         "marker": {
          "color": "#B6E880",
          "symbol": "circle"
         },
         "mode": "lines",
         "name": "Management, Strategy/Planning, and Consulting",
         "showlegend": false,
         "type": "scattergl",
         "xaxis": "x",
         "yaxis": "y"
        },
        {
         "hovertemplate": "Job function=Engineering, Information Technology, and Other<br>months_experience=%{x}<br>avg_salary=%{y}<extra></extra>",
         "legendgroup": "Engineering, Information Technology, and Other",
         "marker": {
          "color": "#FF97FF",
          "symbol": "circle"
         },
         "mode": "markers",
         "name": "Engineering, Information Technology, and Other",
         "showlegend": true,
         "type": "scattergl",
         "x": {
          "bdata": "AAAAAAAAQkAAAAAAAABOQAAAAAAAADhAAAAAAAAATkAAAAAAAABCQAAAAAAAAPh/AAAAAAAAUkAAAAAAAABOQAAAAAAAAE5AAAAAAAAATkAAAAAAAABVQAAAAAAAAE5AAAAAAAAAOEAAAAAAAABOQAAAAAAAAE5A",
          "dtype": "f8"
         },
         "xaxis": "x",
         "y": {
          "bdata": "AAAAAAAA+H8AAAAAAAD4fwAAAAAAHQBBAAAAAAAA+H8AAAAAAAD4fwAAAAAAAPh/AAAAAAAA+H8AAAAAoHMJQQAAAAAAAPh/AAAAAABo+kAAAAAAAAD4fwAAAAAAAPh/AAAAAAAA+H8AAAAAAAD4fwAAAAAAAPh/",
          "dtype": "f8"
         },
         "yaxis": "y"
        },
        {
         "hovertemplate": "<b>OLS trendline</b><br>avg_salary = 731.389 * months_experience + 114447<br>R<sup>2</sup>=0.084090<br><br>Job function=Engineering, Information Technology, and Other<br>months_experience=%{x}<br>avg_salary=%{y} <b>(trend)</b><extra></extra>",
         "legendgroup": "Engineering, Information Technology, and Other",
         "marker": {
          "color": "#FF97FF",
          "symbol": "circle"
         },
         "mode": "lines",
         "name": "Engineering, Information Technology, and Other",
         "showlegend": false,
         "type": "scattergl",
         "x": {
          "bdata": "AAAAAAAAOEAAAAAAAABOQAAAAAAAAE5A",
          "dtype": "f8"
         },
         "xaxis": "x",
         "y": {
          "bdata": "AAAAAAAdAEEBAAAA0FMDQQEAAADQUwNB",
          "dtype": "f8"
         },
         "yaxis": "y"
        },
        {
         "hovertemplate": "Job function=Information Technology and Health Care Provider<br>months_experience=%{x}<br>avg_salary=%{y}<extra></extra>",
         "legendgroup": "Information Technology and Health Care Provider",
         "marker": {
          "color": "#FECB52",
          "symbol": "circle"
         },
         "mode": "markers",
         "name": "Information Technology and Health Care Provider",
         "showlegend": true,
         "type": "scattergl",
         "x": {
          "bdata": "AAAAAAAA+H8=",
          "dtype": "f8"
         },
         "xaxis": "x",
         "y": {
          "bdata": "AAAAAAAA+H8=",
          "dtype": "f8"
         },
         "yaxis": "y"
        },
        {
         "hovertemplate": "Job function=Information Technology and Health Care Provider<extra></extra>",
         "legendgroup": "Information Technology and Health Care Provider",
         "marker": {
          "color": "#FECB52",
          "symbol": "circle"
         },
         "mode": "lines",
         "name": "Information Technology and Health Care Provider",
         "showlegend": false,
         "type": "scattergl",
         "xaxis": "x",
         "yaxis": "y"
        },
        {
         "hovertemplate": "Job function=Information Technology, Consulting, and Engineering<br>months_experience=%{x}<br>avg_salary=%{y}<extra></extra>",
         "legendgroup": "Information Technology, Consulting, and Engineering",
         "marker": {
          "color": "#636efa",
          "symbol": "circle"
         },
         "mode": "markers",
         "name": "Information Technology, Consulting, and Engineering",
         "showlegend": true,
         "type": "scattergl",
         "x": {
          "bdata": "AAAAAAAAQkAAAAAAAAA4QAAAAAAAADhAAAAAAAAA+H8AAAAAAABCQAAAAAAAAEJAAAAAAAAAOEAAAAAAAAA4QAAAAAAAAChAAAAAAAAAOEAAAAAAAAA4QAAAAAAAAChA",
          "dtype": "f8"
         },
         "xaxis": "x",
         "y": {
          "bdata": "AAAAAGCB/kAAAAAAgPv/QAAAAAAAvf9AAAAAACBrAEEAAAAAIHv+QAAAAADgLvlAAAAAAAAA+H8AAAAA4Ez0QAAAAAAAAPh/AAAAAOBM9EAAAAAA4Ez0QAAAAADgTPRA",
          "dtype": "f8"
         },
         "yaxis": "y"
        },
        {
         "hovertemplate": "<b>OLS trendline</b><br>avg_salary = 1393.49 * months_experience + 68012.5<br>R<sup>2</sup>=0.248188<br><br>Job function=Information Technology, Consulting, and Engineering<br>months_experience=%{x}<br>avg_salary=%{y} <b>(trend)</b><extra></extra>",
         "legendgroup": "Information Technology, Consulting, and Engineering",
         "marker": {
          "color": "#636efa",
          "symbol": "circle"
         },
         "mode": "lines",
         "name": "Information Technology, Consulting, and Engineering",
         "showlegend": false,
         "type": "scattergl",
         "x": {
          "bdata": "AAAAAAAAKEAAAAAAAAA4QAAAAAAAADhAAAAAAAAAOEAAAAAAAAA4QAAAAAAAADhAAAAAAAAAQkAAAAAAAABCQAAAAAAAAEJA",
          "dtype": "f8"
         },
         "xaxis": "x",
         "y": {
          "bdata": "/////+Wv9EABAAAABMX4QAEAAAAExfhAAQAAAATF+EABAAAABMX4QAEAAAAExfhAAwAAACLa/EADAAAAItr8QAMAAAAi2vxA",
          "dtype": "f8"
         },
         "yaxis": "y"
        },
        {
         "hovertemplate": "Job function=Engineering and Research<br>months_experience=%{x}<br>avg_salary=%{y}<extra></extra>",
         "legendgroup": "Engineering and Research",
         "marker": {
          "color": "#EF553B",
          "symbol": "circle"
         },
         "mode": "markers",
         "name": "Engineering and Research",
         "showlegend": true,
         "type": "scattergl",
         "x": {
          "bdata": "AAAAAAAAQkAAAAAAAABCQAAAAAAAAPh/AAAAAAAAQkA=",
          "dtype": "f8"
         },
         "xaxis": "x",
         "y": {
          "bdata": "AAAAAAAA+H8AAAAAAAD4fwAAAAAAAPh/AAAAAAAA+H8=",
          "dtype": "f8"
         },
         "yaxis": "y"
        },
        {
         "hovertemplate": "Job function=Engineering and Research<extra></extra>",
         "legendgroup": "Engineering and Research",
         "marker": {
          "color": "#EF553B",
          "symbol": "circle"
         },
         "mode": "lines",
         "name": "Engineering and Research",
         "showlegend": false,
         "type": "scattergl",
         "xaxis": "x",
         "yaxis": "y"
        },
        {
         "hovertemplate": "Job function=Research, Engineering, and Information Technology<br>months_experience=%{x}<br>avg_salary=%{y}<extra></extra>",
         "legendgroup": "Research, Engineering, and Information Technology",
         "marker": {
          "color": "#00cc96",
          "symbol": "circle"
         },
         "mode": "markers",
         "name": "Research, Engineering, and Information Technology",
         "showlegend": true,
         "type": "scattergl",
         "x": {
          "bdata": "AAAAAAAA+H8=",
          "dtype": "f8"
         },
         "xaxis": "x",
         "y": {
          "bdata": "AAAAAAAA+H8=",
          "dtype": "f8"
         },
         "yaxis": "y"
        },
        {
         "hovertemplate": "Job function=Research, Engineering, and Information Technology<extra></extra>",
         "legendgroup": "Research, Engineering, and Information Technology",
         "marker": {
          "color": "#00cc96",
          "symbol": "circle"
         },
         "mode": "lines",
         "name": "Research, Engineering, and Information Technology",
         "showlegend": false,
         "type": "scattergl",
         "xaxis": "x",
         "yaxis": "y"
        },
        {
         "hovertemplate": "Job function=Research, Science, and Engineering<br>months_experience=%{x}<br>avg_salary=%{y}<extra></extra>",
         "legendgroup": "Research, Science, and Engineering",
         "marker": {
          "color": "#ab63fa",
          "symbol": "circle"
         },
         "mode": "markers",
         "name": "Research, Science, and Engineering",
         "showlegend": true,
         "type": "scattergl",
         "x": {
          "bdata": "AAAAAAAA+H8AAAAAAABOQAAAAAAAADhAAAAAAAAAOEAAAAAAAABOQAAAAAAAAE5AAAAAAAAAOEAAAAAAAAA4QAAAAAAAADhAAAAAAAAAOEA=",
          "dtype": "f8"
         },
         "xaxis": "x",
         "y": {
          "bdata": "AAAAAAAA+H8AAAAAoIf+QAAAAACgh/5AAAAAAOBM9EAAAAAAgH7/QAAAAABggPpAAAAAAKDW9UAAAAAAAAD4fwAAAAAgrPpAAAAAACCs+kA=",
          "dtype": "f8"
         },
         "yaxis": "y"
        },
        {
         "hovertemplate": "<b>OLS trendline</b><br>avg_salary = 489.907 * months_experience + 91472.2<br>R<sup>2</sup>=0.297523<br><br>Job function=Research, Science, and Engineering<br>months_experience=%{x}<br>avg_salary=%{y} <b>(trend)</b><extra></extra>",
         "legendgroup": "Research, Science, and Engineering",
         "marker": {
          "color": "#ab63fa",
          "symbol": "circle"
         },
         "mode": "lines",
         "name": "Research, Science, and Engineering",
         "showlegend": false,
         "type": "scattergl",
         "x": {
          "bdata": "AAAAAAAAOEAAAAAAAAA4QAAAAAAAADhAAAAAAAAAOEAAAAAAAAA4QAAAAAAAAE5AAAAAAAAATkAAAAAAAABOQA==",
          "dtype": "f8"
         },
         "xaxis": "x",
         "y": {
          "bdata": "/f///98z+UD9////3zP5QP3////fM/lA/f///98z+UD9////3zP5QKaqqqoqgv1ApqqqqiqC/UCmqqqqKoL9QA==",
          "dtype": "f8"
         },
         "yaxis": "y"
        },
        {
         "hovertemplate": "Job function=Consulting and Information Technology<br>months_experience=%{x}<br>avg_salary=%{y}<extra></extra>",
         "legendgroup": "Consulting and Information Technology",
         "marker": {
          "color": "#FFA15A",
          "symbol": "circle"
         },
         "mode": "markers",
         "name": "Consulting and Information Technology",
         "showlegend": true,
         "type": "scattergl",
         "x": {
          "bdata": "AAAAAAAASEAAAAAAAAD4fwAAAAAAAPh/",
          "dtype": "f8"
         },
         "xaxis": "x",
         "y": {
          "bdata": "AAAAAOAAAEEAAAAAAAD4fwAAAAAAAPh/",
          "dtype": "f8"
         },
         "yaxis": "y"
        },
        {
         "hovertemplate": "Job function=Consulting and Information Technology<extra></extra>",
         "legendgroup": "Consulting and Information Technology",
         "marker": {
          "color": "#FFA15A",
          "symbol": "circle"
         },
         "mode": "lines",
         "name": "Consulting and Information Technology",
         "showlegend": false,
         "type": "scattergl",
         "xaxis": "x",
         "yaxis": "y"
        },
        {
         "hovertemplate": "Job function=Design, Art/Creative, and Information Technology<br>months_experience=%{x}<br>avg_salary=%{y}<extra></extra>",
         "legendgroup": "Design, Art/Creative, and Information Technology",
         "marker": {
          "color": "#19d3f3",
          "symbol": "circle"
         },
         "mode": "markers",
         "name": "Design, Art/Creative, and Information Technology",
         "showlegend": true,
         "type": "scattergl",
         "x": {
          "bdata": "AAAAAACAZkAAAAAAAIBmQAAAAAAAgGZAAAAAAAAATkAAAAAAAABOQAAAAAAAAEJAAAAAAAAA+H8AAAAAAABOQA==",
          "dtype": "f8"
         },
         "xaxis": "x",
         "y": {
          "bdata": "AAAAAAAA+H8AAAAAAAD4fwAAAAAAAPh/AAAAAAAA+H8AAAAAAAD4fwAAAADAr/xAAAAAAAAA+H8AAAAAAAD4fw==",
          "dtype": "f8"
         },
         "yaxis": "y"
        },
        {
         "hovertemplate": "Job function=Design, Art/Creative, and Information Technology<extra></extra>",
         "legendgroup": "Design, Art/Creative, and Information Technology",
         "marker": {
          "color": "#19d3f3",
          "symbol": "circle"
         },
         "mode": "lines",
         "name": "Design, Art/Creative, and Information Technology",
         "showlegend": false,
         "type": "scattergl",
         "xaxis": "x",
         "yaxis": "y"
        },
        {
         "hovertemplate": "Job function=Management and Manufacturing<br>months_experience=%{x}<br>avg_salary=%{y}<extra></extra>",
         "legendgroup": "Management and Manufacturing",
         "marker": {
          "color": "#FF6692",
          "symbol": "circle"
         },
         "mode": "markers",
         "name": "Management and Manufacturing",
         "showlegend": true,
         "type": "scattergl",
         "x": {
          "bdata": "AAAAAAAAQkAAAAAAAAD4fwAAAAAAAPh/AAAAAAAATkAAAAAAAABOQAAAAAAAAE5AAAAAAAAATkAAAAAAAABCQAAAAAAAADhAAAAAAAAA+H8AAAAAAAD4fwAAAAAAAEJAAAAAAAAAKEAAAAAAAAD4fwAAAAAAADhAAAAAAAAAQkAAAAAAAABCQAAAAAAAAEJAAAAAAAAAQkAAAAAAAABCQAAAAAAAAEJAAAAAAAAAQkAAAAAAAABCQA==",
          "dtype": "f8"
         },
         "xaxis": "x",
         "y": {
          "bdata": "AAAAAAAA+H8AAAAAAAD4fwAAAAAAAPh/AAAAAAAA+H8AAAAAAAD4fwAAAAAAAPh/AAAAAAAA+H8AAAAAAAD4fwAAAAAA2vZAAAAAAAAA+H8AAAAAAAD4fwAAAAAAAPh/AAAAAAAA+H8AAAAAAAD4fwAAAAAAAPh/AAAAAAAA+H8AAAAAAAD4fwAAAAAAAPh/AAAAAAAA+H8AAAAAAAD4fwAAAAAAAPh/AAAAAAAA+H8AAAAAAAD4fw==",
          "dtype": "f8"
         },
         "yaxis": "y"
        },
        {
         "hovertemplate": "Job function=Management and Manufacturing<extra></extra>",
         "legendgroup": "Management and Manufacturing",
         "marker": {
          "color": "#FF6692",
          "symbol": "circle"
         },
         "mode": "lines",
         "name": "Management and Manufacturing",
         "showlegend": false,
         "type": "scattergl",
         "xaxis": "x",
         "yaxis": "y"
        },
        {
         "hovertemplate": "Job function=Engineering, Information Technology, and Manufacturing<br>months_experience=%{x}<br>avg_salary=%{y}<extra></extra>",
         "legendgroup": "Engineering, Information Technology, and Manufacturing",
         "marker": {
          "color": "#B6E880",
          "symbol": "circle"
         },
         "mode": "markers",
         "name": "Engineering, Information Technology, and Manufacturing",
         "showlegend": true,
         "type": "scattergl",
         "x": {
          "bdata": "AAAAAAAATkAAAAAAAABYQA==",
          "dtype": "f8"
         },
         "xaxis": "x",
         "y": {
          "bdata": "AAAAAECzAUEAAAAAAAD4fw==",
          "dtype": "f8"
         },
         "yaxis": "y"
        },
        {
         "hovertemplate": "Job function=Engineering, Information Technology, and Manufacturing<extra></extra>",
         "legendgroup": "Engineering, Information Technology, and Manufacturing",
         "marker": {
          "color": "#B6E880",
          "symbol": "circle"
         },
         "mode": "lines",
         "name": "Engineering, Information Technology, and Manufacturing",
         "showlegend": false,
         "type": "scattergl",
         "xaxis": "x",
         "yaxis": "y"
        },
        {
         "hovertemplate": "Job function=Accounting/Auditing<br>months_experience=%{x}<br>avg_salary=%{y}<extra></extra>",
         "legendgroup": "Accounting/Auditing",
         "marker": {
          "color": "#FF97FF",
          "symbol": "circle"
         },
         "mode": "markers",
         "name": "Accounting/Auditing",
         "showlegend": true,
         "type": "scattergl",
         "x": {
          "bdata": "AAAAAAAASEAAAAAAAABIQAAAAAAAAEhAAAAAAAAASEAAAAAAAABIQAAAAAAAAEhAAAAAAAAAOEAAAAAAAAAoQA==",
          "dtype": "f8"
         },
         "xaxis": "x",
         "y": {
          "bdata": "AAAAAAAA+H8AAAAAAAD4fwAAAAAAAPh/AAAAAAAA+H8AAAAAAAD4fwAAAAAAAPh/AAAAAAAA+H8AAAAAAAD4fw==",
          "dtype": "f8"
         },
         "yaxis": "y"
        },
        {
         "hovertemplate": "Job function=Accounting/Auditing<extra></extra>",
         "legendgroup": "Accounting/Auditing",
         "marker": {
          "color": "#FF97FF",
          "symbol": "circle"
         },
         "mode": "lines",
         "name": "Accounting/Auditing",
         "showlegend": false,
         "type": "scattergl",
         "xaxis": "x",
         "yaxis": "y"
        },
        {
         "hovertemplate": "Job function=Finance and Sales<br>months_experience=%{x}<br>avg_salary=%{y}<extra></extra>",
         "legendgroup": "Finance and Sales",
         "marker": {
          "color": "#FECB52",
          "symbol": "circle"
         },
         "mode": "markers",
         "name": "Finance and Sales",
         "showlegend": true,
         "type": "scattergl",
         "x": {
          "bdata": "AAAAAAAA+H8AAAAAAAD4fwAAAAAAAEJAAAAAAAAA+H8AAAAAAABVQA==",
          "dtype": "f8"
         },
         "xaxis": "x",
         "y": {
          "bdata": "AAAAAMB68EAAAAAAAMflQAAAAAAAAPh/AAAAAAAA+H8AAAAAQCv3QA==",
          "dtype": "f8"
         },
         "yaxis": "y"
        },
        {
         "hovertemplate": "Job function=Finance and Sales<extra></extra>",
         "legendgroup": "Finance and Sales",
         "marker": {
          "color": "#FECB52",
          "symbol": "circle"
         },
         "mode": "lines",
         "name": "Finance and Sales",
         "showlegend": false,
         "type": "scattergl",
         "xaxis": "x",
         "yaxis": "y"
        },
        {
         "hovertemplate": "Job function=Business Development and Sales<br>months_experience=%{x}<br>avg_salary=%{y}<extra></extra>",
         "legendgroup": "Business Development and Sales",
         "marker": {
          "color": "#636efa",
          "symbol": "circle"
         },
         "mode": "markers",
         "name": "Business Development and Sales",
         "showlegend": true,
         "type": "scattergl",
         "x": {
          "bdata": "AAAAAAAA+H8AAAAAAAD4fw==",
          "dtype": "f8"
         },
         "xaxis": "x",
         "y": {
          "bdata": "AAAAAKBT9kAAAAAAAAD4fw==",
          "dtype": "f8"
         },
         "yaxis": "y"
        },
        {
         "hovertemplate": "Job function=Business Development and Sales<extra></extra>",
         "legendgroup": "Business Development and Sales",
         "marker": {
          "color": "#636efa",
          "symbol": "circle"
         },
         "mode": "lines",
         "name": "Business Development and Sales",
         "showlegend": false,
         "type": "scattergl",
         "xaxis": "x",
         "yaxis": "y"
        },
        {
         "hovertemplate": "Job function=Information Technology, Engineering, and Management<br>months_experience=%{x}<br>avg_salary=%{y}<extra></extra>",
         "legendgroup": "Information Technology, Engineering, and Management",
         "marker": {
          "color": "#EF553B",
          "symbol": "circle"
         },
         "mode": "markers",
         "name": "Information Technology, Engineering, and Management",
         "showlegend": true,
         "type": "scattergl",
         "x": {
          "bdata": "AAAAAAAAWEA=",
          "dtype": "f8"
         },
         "xaxis": "x",
         "y": {
          "bdata": "AAAAAADu+0A=",
          "dtype": "f8"
         },
         "yaxis": "y"
        },
        {
         "hovertemplate": "Job function=Information Technology, Engineering, and Management<extra></extra>",
         "legendgroup": "Information Technology, Engineering, and Management",
         "marker": {
          "color": "#EF553B",
          "symbol": "circle"
         },
         "mode": "lines",
         "name": "Information Technology, Engineering, and Management",
         "showlegend": false,
         "type": "scattergl",
         "xaxis": "x",
         "yaxis": "y"
        },
        {
         "hovertemplate": "Job function=Design, Consulting, and Engineering<br>months_experience=%{x}<br>avg_salary=%{y}<extra></extra>",
         "legendgroup": "Design, Consulting, and Engineering",
         "marker": {
          "color": "#00cc96",
          "symbol": "circle"
         },
         "mode": "markers",
         "name": "Design, Consulting, and Engineering",
         "showlegend": true,
         "type": "scattergl",
         "x": {
          "bdata": "AAAAAAAA+H8=",
          "dtype": "f8"
         },
         "xaxis": "x",
         "y": {
          "bdata": "AAAAAAC790A=",
          "dtype": "f8"
         },
         "yaxis": "y"
        },
        {
         "hovertemplate": "Job function=Design, Consulting, and Engineering<extra></extra>",
         "legendgroup": "Design, Consulting, and Engineering",
         "marker": {
          "color": "#00cc96",
          "symbol": "circle"
         },
         "mode": "lines",
         "name": "Design, Consulting, and Engineering",
         "showlegend": false,
         "type": "scattergl",
         "xaxis": "x",
         "yaxis": "y"
        },
        {
         "hovertemplate": "Job function=Finance<br>months_experience=%{x}<br>avg_salary=%{y}<extra></extra>",
         "legendgroup": "Finance",
         "marker": {
          "color": "#ab63fa",
          "symbol": "circle"
         },
         "mode": "markers",
         "name": "Finance",
         "showlegend": true,
         "type": "scattergl",
         "x": {
          "bdata": "AAAAAAAATkAAAAAAAABOQAAAAAAAAPh/AAAAAAAAXkAAAAAAAABOQA==",
          "dtype": "f8"
         },
         "xaxis": "x",
         "y": {
          "bdata": "AAAAAAAA+H8AAAAAAAD4fwAAAAAAAPh/AAAAAAAA+H8AAAAAYEL8QA==",
          "dtype": "f8"
         },
         "yaxis": "y"
        },
        {
         "hovertemplate": "Job function=Finance<extra></extra>",
         "legendgroup": "Finance",
         "marker": {
          "color": "#ab63fa",
          "symbol": "circle"
         },
         "mode": "lines",
         "name": "Finance",
         "showlegend": false,
         "type": "scattergl",
         "xaxis": "x",
         "yaxis": "y"
        },
        {
         "hovertemplate": "Job function=Analyst<br>months_experience=%{x}<br>avg_salary=%{y}<extra></extra>",
         "legendgroup": "Analyst",
         "marker": {
          "color": "#FFA15A",
          "symbol": "circle"
         },
         "mode": "markers",
         "name": "Analyst",
         "showlegend": true,
         "type": "scattergl",
         "x": {
          "bdata": "AAAAAAAAQkAAAAAAAAA4QAAAAAAAAPh/AAAAAAAA+H8AAAAAAAD4fwAAAAAAAPh/AAAAAAAAOEAAAAAAAAD4fwAAAAAAADhAAAAAAAAAOEAAAAAAAAAoQAAAAAAAADhAAAAAAAAAWEAAAAAAAAD4fwAAAAAAADhAAAAAAAAAQkAAAAAAAAA4QAAAAAAAADhAAAAAAAAAVUAAAAAAAAD4fwAAAAAAAEJAAAAAAAAAOEAAAAAAAAD4fwAAAAAAAPh/AAAAAAAAUkAAAAAAAABOQAAAAAAAAPh/AAAAAAAA+H8AAAAAAABOQAAAAAAAAEJAAAAAAAAASEAAAAAAAAA4QAAAAAAAAE5AAAAAAAAAOEAAAAAAAAA4QAAAAAAAAEhAAAAAAAAAOEAAAAAAAAA4QAAAAAAAADhAAAAAAAAAKEA=",
          "dtype": "f8"
         },
         "xaxis": "x",
         "y": {
          "bdata": "AAAAAAAA+H8AAAAAAAD4fwAAAAAAAPh/AAAAAAAA+H8AAAAAYJP7QAAAAAAAAPh/AAAAAAAA+H8AAAAAgJb7QAAAAADgA/xAAAAAAEA//EAAAAAAAAD4fwAAAAAAAPh/AAAAAAAA+H8AAAAAAAD4fwAAAAAAAPh/AAAAAAAA+H8AAAAAAAD4fwAAAAAAAPh/AAAAAAAA+H8AAAAAAAD4fwAAAAAAAPh/AAAAAAAA+H8AAAAAAAD4fwAAAACgq/hAAAAAAAAA+H8AAAAAAAD4fwAAAAAAAPh/AAAAAAAA+H8AAAAA4MT5QAAAAAAAAPh/AAAAAAAA+H8AAAAAAAD4fwAAAAAAAPh/AAAAAAAA+H8AAAAAAAD4fwAAAABgG/ZAAAAAAAAA+H8AAAAAAAD4fwAAAAAAAPh/AAAAAAAA+H8=",
          "dtype": "f8"
         },
         "yaxis": "y"
        },
        {
         "hovertemplate": "<b>OLS trendline</b><br>avg_salary = -437.5 * months_experience + 123700<br>R<sup>2</sup>=0.456073<br><br>Job function=Analyst<br>months_experience=%{x}<br>avg_salary=%{y} <b>(trend)</b><extra></extra>",
         "legendgroup": "Analyst",
         "marker": {
          "color": "#FFA15A",
          "symbol": "circle"
         },
         "mode": "lines",
         "name": "Analyst",
         "showlegend": false,
         "type": "scattergl",
         "x": {
          "bdata": "AAAAAAAAOEAAAAAAAAA4QAAAAAAAAEhAAAAAAAAATkA=",
          "dtype": "f8"
         },
         "xaxis": "x",
         "y": {
          "bdata": "/f////+i+0D9/////6L7QP7///+/EvlA/v///5/K90A=",
          "dtype": "f8"
         },
         "yaxis": "y"
        },
        {
         "hovertemplate": "Job function=Engineering, Information Technology, and Research<br>months_experience=%{x}<br>avg_salary=%{y}<extra></extra>",
         "legendgroup": "Engineering, Information Technology, and Research",
         "marker": {
          "color": "#19d3f3",
          "symbol": "circle"
         },
         "mode": "markers",
         "name": "Engineering, Information Technology, and Research",
         "showlegend": true,
         "type": "scattergl",
         "x": {
          "bdata": "AAAAAAAA+H8AAAAAAABIQAAAAAAAAEhAAAAAAAAASEAAAAAAAABIQAAAAAAAAPh/AAAAAAAAQkAAAAAAAAD4fwAAAAAAAChAAAAAAAAA+H8AAAAAAAD4fwAAAAAAAPh/",
          "dtype": "f8"
         },
         "xaxis": "x",
         "y": {
          "bdata": "AAAAAAAA+H8AAAAAQHDoQAAAAABAcOhAAAAAAEBw6EAAAAAAQHDoQAAAAABAlfZAAAAAAIB26EAAAAAAAAD4fwAAAAAAAPh/AAAAAAAA+H8AAAAAAAD4fwAAAACA1f1A",
          "dtype": "f8"
         },
         "yaxis": "y"
        },
        {
         "hovertemplate": "<b>OLS trendline</b><br>avg_salary = -4.16667 * months_experience + 50250<br>R<sup>2</sup>=1.000000<br><br>Job function=Engineering, Information Technology, and Research<br>months_experience=%{x}<br>avg_salary=%{y} <b>(trend)</b><extra></extra>",
         "legendgroup": "Engineering, Information Technology, and Research",
         "marker": {
          "color": "#19d3f3",
          "symbol": "circle"
         },
         "mode": "lines",
         "name": "Engineering, Information Technology, and Research",
         "showlegend": false,
         "type": "scattergl",
         "x": {
          "bdata": "AAAAAAAAQkAAAAAAAABIQAAAAAAAAEhAAAAAAAAASEAAAAAAAABIQA==",
          "dtype": "f8"
         },
         "xaxis": "x",
         "y": {
          "bdata": "9////3926ED4////P3DoQPj///8/cOhA+P///z9w6ED4////P3DoQA==",
          "dtype": "f8"
         },
         "yaxis": "y"
        },
        {
         "hovertemplate": "Job function=Engineering, Research, and Science<br>months_experience=%{x}<br>avg_salary=%{y}<extra></extra>",
         "legendgroup": "Engineering, Research, and Science",
         "marker": {
          "color": "#FF6692",
          "symbol": "circle"
         },
         "mode": "markers",
         "name": "Engineering, Research, and Science",
         "showlegend": true,
         "type": "scattergl",
         "x": {
          "bdata": "AAAAAAAA+H8AAAAAAABOQA==",
          "dtype": "f8"
         },
         "xaxis": "x",
         "y": {
          "bdata": "AAAAAMAvEEEAAAAAAAD4fw==",
          "dtype": "f8"
         },
         "yaxis": "y"
        },
        {
         "hovertemplate": "Job function=Engineering, Research, and Science<extra></extra>",
         "legendgroup": "Engineering, Research, and Science",
         "marker": {
          "color": "#FF6692",
          "symbol": "circle"
         },
         "mode": "lines",
         "name": "Engineering, Research, and Science",
         "showlegend": false,
         "type": "scattergl",
         "xaxis": "x",
         "yaxis": "y"
        },
        {
         "hovertemplate": "Job function=Information Technology, Analyst, and Engineering<br>months_experience=%{x}<br>avg_salary=%{y}<extra></extra>",
         "legendgroup": "Information Technology, Analyst, and Engineering",
         "marker": {
          "color": "#B6E880",
          "symbol": "circle"
         },
         "mode": "markers",
         "name": "Information Technology, Analyst, and Engineering",
         "showlegend": true,
         "type": "scattergl",
         "x": {
          "bdata": "AAAAAAAAOEAAAAAAAABCQAAAAAAAAE5A",
          "dtype": "f8"
         },
         "xaxis": "x",
         "y": {
          "bdata": "AAAAAAAA+H8AAAAAAOL4QAAAAABAswFB",
          "dtype": "f8"
         },
         "yaxis": "y"
        },
        {
         "hovertemplate": "<b>OLS trendline</b><br>avg_salary = 1795 * months_experience + 37300<br>R<sup>2</sup>=1.000000<br><br>Job function=Information Technology, Analyst, and Engineering<br>months_experience=%{x}<br>avg_salary=%{y} <b>(trend)</b><extra></extra>",
         "legendgroup": "Information Technology, Analyst, and Engineering",
         "marker": {
          "color": "#B6E880",
          "symbol": "circle"
         },
         "mode": "lines",
         "name": "Information Technology, Analyst, and Engineering",
         "showlegend": false,
         "type": "scattergl",
         "x": {
          "bdata": "AAAAAAAAQkAAAAAAAABOQA==",
          "dtype": "f8"
         },
         "xaxis": "x",
         "y": {
          "bdata": "AAAAAADi+EACAAAAQLMBQQ==",
          "dtype": "f8"
         },
         "yaxis": "y"
        },
        {
         "hovertemplate": "Job function=Business Development, Analyst, and Engineering<br>months_experience=%{x}<br>avg_salary=%{y}<extra></extra>",
         "legendgroup": "Business Development, Analyst, and Engineering",
         "marker": {
          "color": "#FF97FF",
          "symbol": "circle"
         },
         "mode": "markers",
         "name": "Business Development, Analyst, and Engineering",
         "showlegend": true,
         "type": "scattergl",
         "x": {
          "bdata": "AAAAAAAATkA=",
          "dtype": "f8"
         },
         "xaxis": "x",
         "y": {
          "bdata": "AAAAAAAA+H8=",
          "dtype": "f8"
         },
         "yaxis": "y"
        },
        {
         "hovertemplate": "Job function=Business Development, Analyst, and Engineering<extra></extra>",
         "legendgroup": "Business Development, Analyst, and Engineering",
         "marker": {
          "color": "#FF97FF",
          "symbol": "circle"
         },
         "mode": "lines",
         "name": "Business Development, Analyst, and Engineering",
         "showlegend": false,
         "type": "scattergl",
         "xaxis": "x",
         "yaxis": "y"
        },
        {
         "hovertemplate": "Job function=Information Technology, Engineering, and Other<br>months_experience=%{x}<br>avg_salary=%{y}<extra></extra>",
         "legendgroup": "Information Technology, Engineering, and Other",
         "marker": {
          "color": "#FECB52",
          "symbol": "circle"
         },
         "mode": "markers",
         "name": "Information Technology, Engineering, and Other",
         "showlegend": true,
         "type": "scattergl",
         "x": {
          "bdata": "AAAAAAAA+H8AAAAAAAD4fwAAAAAAAE5AAAAAAAAA+H8AAAAAAAD4fwAAAAAAAPh/AAAAAAAA+H8AAAAAAAD4fw==",
          "dtype": "f8"
         },
         "xaxis": "x",
         "y": {
          "bdata": "AAAAAAAA+H8AAAAAAAD4fwAAAAAAAPh/AAAAAAAA+H8AAAAAAAD4fwAAAAAAAPh/AAAAAAAA+H8AAAAAAAD4fw==",
          "dtype": "f8"
         },
         "yaxis": "y"
        },
        {
         "hovertemplate": "Job function=Information Technology, Engineering, and Other<extra></extra>",
         "legendgroup": "Information Technology, Engineering, and Other",
         "marker": {
          "color": "#FECB52",
          "symbol": "circle"
         },
         "mode": "lines",
         "name": "Information Technology, Engineering, and Other",
         "showlegend": false,
         "type": "scattergl",
         "xaxis": "x",
         "yaxis": "y"
        },
        {
         "hovertemplate": "Job function=Engineering, Quality Assurance, and Science<br>months_experience=%{x}<br>avg_salary=%{y}<extra></extra>",
         "legendgroup": "Engineering, Quality Assurance, and Science",
         "marker": {
          "color": "#636efa",
          "symbol": "circle"
         },
         "mode": "markers",
         "name": "Engineering, Quality Assurance, and Science",
         "showlegend": true,
         "type": "scattergl",
         "x": {
          "bdata": "AAAAAAAAQkAAAAAAAABCQA==",
          "dtype": "f8"
         },
         "xaxis": "x",
         "y": {
          "bdata": "AAAAAAAA+H8AAAAAAAD4fw==",
          "dtype": "f8"
         },
         "yaxis": "y"
        },
        {
         "hovertemplate": "Job function=Engineering, Quality Assurance, and Science<extra></extra>",
         "legendgroup": "Engineering, Quality Assurance, and Science",
         "marker": {
          "color": "#636efa",
          "symbol": "circle"
         },
         "mode": "lines",
         "name": "Engineering, Quality Assurance, and Science",
         "showlegend": false,
         "type": "scattergl",
         "xaxis": "x",
         "yaxis": "y"
        },
        {
         "hovertemplate": "Job function=Project Management, Information Technology, and Engineering<br>months_experience=%{x}<br>avg_salary=%{y}<extra></extra>",
         "legendgroup": "Project Management, Information Technology, and Engineering",
         "marker": {
          "color": "#EF553B",
          "symbol": "circle"
         },
         "mode": "markers",
         "name": "Project Management, Information Technology, and Engineering",
         "showlegend": true,
         "type": "scattergl",
         "x": {
          "bdata": "AAAAAAAAOEAAAAAAAABIQA==",
          "dtype": "f8"
         },
         "xaxis": "x",
         "y": {
          "bdata": "AAAAAADh+UAAAAAAwA3+QA==",
          "dtype": "f8"
         },
         "yaxis": "y"
        },
        {
         "hovertemplate": "<b>OLS trendline</b><br>avg_salary = 712.5 * months_experience + 88900<br>R<sup>2</sup>=1.000000<br><br>Job function=Project Management, Information Technology, and Engineering<br>months_experience=%{x}<br>avg_salary=%{y} <b>(trend)</b><extra></extra>",
         "legendgroup": "Project Management, Information Technology, and Engineering",
         "marker": {
          "color": "#EF553B",
          "symbol": "circle"
         },
         "mode": "lines",
         "name": "Project Management, Information Technology, and Engineering",
         "showlegend": false,
         "type": "scattergl",
         "x": {
          "bdata": "AAAAAAAAOEAAAAAAAABIQA==",
          "dtype": "f8"
         },
         "xaxis": "x",
         "y": {
          "bdata": "/P/////g+UD6////vw3+QA==",
          "dtype": "f8"
         },
         "yaxis": "y"
        },
        {
         "hovertemplate": "Job function=Quality Assurance, Information Technology, and Other<br>months_experience=%{x}<br>avg_salary=%{y}<extra></extra>",
         "legendgroup": "Quality Assurance, Information Technology, and Other",
         "marker": {
          "color": "#00cc96",
          "symbol": "circle"
         },
         "mode": "markers",
         "name": "Quality Assurance, Information Technology, and Other",
         "showlegend": true,
         "type": "scattergl",
         "x": {
          "bdata": "AAAAAAAAUkA=",
          "dtype": "f8"
         },
         "xaxis": "x",
         "y": {
          "bdata": "AAAAAEAq80A=",
          "dtype": "f8"
         },
         "yaxis": "y"
        },
        {
         "hovertemplate": "Job function=Quality Assurance, Information Technology, and Other<extra></extra>",
         "legendgroup": "Quality Assurance, Information Technology, and Other",
         "marker": {
          "color": "#00cc96",
          "symbol": "circle"
         },
         "mode": "lines",
         "name": "Quality Assurance, Information Technology, and Other",
         "showlegend": false,
         "type": "scattergl",
         "xaxis": "x",
         "yaxis": "y"
        },
        {
         "hovertemplate": "Job function=Information Technology, Research, and Engineering<br>months_experience=%{x}<br>avg_salary=%{y}<extra></extra>",
         "legendgroup": "Information Technology, Research, and Engineering",
         "marker": {
          "color": "#ab63fa",
          "symbol": "circle"
         },
         "mode": "markers",
         "name": "Information Technology, Research, and Engineering",
         "showlegend": true,
         "type": "scattergl",
         "x": {
          "bdata": "AAAAAAAATkAAAAAAAABOQAAAAAAAAE5AAAAAAAAATkAAAAAAAAD4fw==",
          "dtype": "f8"
         },
         "xaxis": "x",
         "y": {
          "bdata": "AAAAAIB26EAAAAAAgHboQAAAAABAcOhAAAAAAEBw6EAAAAAAgHboQA==",
          "dtype": "f8"
         },
         "yaxis": "y"
        },
        {
         "hovertemplate": "<b>OLS trendline</b><br>avg_salary = 834.352 * months_experience + 13.9059<br>R<sup>2</sup>=0.000000<br><br>Job function=Information Technology, Research, and Engineering<br>months_experience=%{x}<br>avg_salary=%{y} <b>(trend)</b><extra></extra>",
         "legendgroup": "Information Technology, Research, and Engineering",
         "marker": {
          "color": "#ab63fa",
          "symbol": "circle"
         },
         "mode": "lines",
         "name": "Information Technology, Research, and Engineering",
         "showlegend": false,
         "type": "scattergl",
         "x": {
          "bdata": "AAAAAAAATkAAAAAAAABOQAAAAAAAAE5AAAAAAAAATkA=",
          "dtype": "f8"
         },
         "xaxis": "x",
         "y": {
          "bdata": "AQAAAGBz6EABAAAAYHPoQAEAAABgc+hAAQAAAGBz6EA=",
          "dtype": "f8"
         },
         "yaxis": "y"
        },
        {
         "hovertemplate": "Job function=Engineering, Information Technology, and Finance<br>months_experience=%{x}<br>avg_salary=%{y}<extra></extra>",
         "legendgroup": "Engineering, Information Technology, and Finance",
         "marker": {
          "color": "#FFA15A",
          "symbol": "circle"
         },
         "mode": "markers",
         "name": "Engineering, Information Technology, and Finance",
         "showlegend": true,
         "type": "scattergl",
         "x": {
          "bdata": "AAAAAAAAQkAAAAAAAAAoQAAAAAAAAPh/AAAAAAAA+H8AAAAAAAA4QA==",
          "dtype": "f8"
         },
         "xaxis": "x",
         "y": {
          "bdata": "AAAAAAAA+H8AAAAAAAD4fwAAAAAAAPh/AAAAAAAA+H8AAAAAoBrzQA==",
          "dtype": "f8"
         },
         "yaxis": "y"
        },
        {
         "hovertemplate": "Job function=Engineering, Information Technology, and Finance<extra></extra>",
         "legendgroup": "Engineering, Information Technology, and Finance",
         "marker": {
          "color": "#FFA15A",
          "symbol": "circle"
         },
         "mode": "lines",
         "name": "Engineering, Information Technology, and Finance",
         "showlegend": false,
         "type": "scattergl",
         "xaxis": "x",
         "yaxis": "y"
        },
        {
         "hovertemplate": "Job function=Research<br>months_experience=%{x}<br>avg_salary=%{y}<extra></extra>",
         "legendgroup": "Research",
         "marker": {
          "color": "#19d3f3",
          "symbol": "circle"
         },
         "mode": "markers",
         "name": "Research",
         "showlegend": true,
         "type": "scattergl",
         "x": {
          "bdata": "AAAAAAAAQkAAAAAAAAAYQAAAAAAAAPh/AAAAAAAAKEAAAAAAAAD4fwAAAAAAADhAAAAAAAAAUkAAAAAAAABIQAAAAAAAAPh/AAAAAAAAOEAAAAAAAABOQAAAAAAAAE5AAAAAAAAA+H8=",
          "dtype": "f8"
         },
         "xaxis": "x",
         "y": {
          "bdata": "AAAAAIBD9EAAAAAA4C75QAAAAAAAAPh/AAAAAAAA+H8AAAAAAAD4fwAAAABgeANBAAAAAAAA+H8AAAAAAAD4fwAAAAAAAPh/AAAAAAAA+H8AAAAAQI7zQAAAAAAAAPh/AAAAAAAA+H8=",
          "dtype": "f8"
         },
         "yaxis": "y"
        },
        {
         "hovertemplate": "<b>OLS trendline</b><br>avg_salary = -760.38 * months_experience + 130389<br>R<sup>2</sup>=0.218659<br><br>Job function=Research<br>months_experience=%{x}<br>avg_salary=%{y} <b>(trend)</b><extra></extra>",
         "legendgroup": "Research",
         "marker": {
          "color": "#19d3f3",
          "symbol": "circle"
         },
         "mode": "lines",
         "name": "Research",
         "showlegend": false,
         "type": "scattergl",
         "x": {
          "bdata": "AAAAAAAAGEAAAAAAAAA4QAAAAAAAAEJAAAAAAAAATkA=",
          "dtype": "f8"
         },
         "xaxis": "x",
         "y": {
          "bdata": "nMV0FjO4/kBMZzGdxWD7QGwor6F8JvlAraqqquqx9EA=",
          "dtype": "f8"
         },
         "yaxis": "y"
        },
        {
         "hovertemplate": "Job function=Quality Assurance, Product Management, and Engineering<br>months_experience=%{x}<br>avg_salary=%{y}<extra></extra>",
         "legendgroup": "Quality Assurance, Product Management, and Engineering",
         "marker": {
          "color": "#FF6692",
          "symbol": "circle"
         },
         "mode": "markers",
         "name": "Quality Assurance, Product Management, and Engineering",
         "showlegend": true,
         "type": "scattergl",
         "x": {
          "bdata": "AAAAAAAA+H8AAAAAAABCQAAAAAAAAEhAAAAAAAAA+H8AAAAAAABCQAAAAAAAAPh/",
          "dtype": "f8"
         },
         "xaxis": "x",
         "y": {
          "bdata": "AAAAAAAA+H8AAAAAAAD4fwAAAAAAAPh/AAAAAAAA+H8AAAAAAAD4fwAAAAAAAPh/",
          "dtype": "f8"
         },
         "yaxis": "y"
        },
        {
         "hovertemplate": "Job function=Quality Assurance, Product Management, and Engineering<extra></extra>",
         "legendgroup": "Quality Assurance, Product Management, and Engineering",
         "marker": {
          "color": "#FF6692",
          "symbol": "circle"
         },
         "mode": "lines",
         "name": "Quality Assurance, Product Management, and Engineering",
         "showlegend": false,
         "type": "scattergl",
         "xaxis": "x",
         "yaxis": "y"
        },
        {
         "hovertemplate": "Job function=Sales<br>months_experience=%{x}<br>avg_salary=%{y}<extra></extra>",
         "legendgroup": "Sales",
         "marker": {
          "color": "#B6E880",
          "symbol": "circle"
         },
         "mode": "markers",
         "name": "Sales",
         "showlegend": true,
         "type": "scattergl",
         "x": {
          "bdata": "AAAAAAAATkAAAAAAAABOQAAAAAAAAEhAAAAAAAAASEAAAAAAAABCQA==",
          "dtype": "f8"
         },
         "xaxis": "x",
         "y": {
          "bdata": "AAAAAAAA+H8AAAAAAAD4fwAAAAAAAPh/AAAAAAAA+H8AAAAAAAD4fw==",
          "dtype": "f8"
         },
         "yaxis": "y"
        },
        {
         "hovertemplate": "Job function=Sales<extra></extra>",
         "legendgroup": "Sales",
         "marker": {
          "color": "#B6E880",
          "symbol": "circle"
         },
         "mode": "lines",
         "name": "Sales",
         "showlegend": false,
         "type": "scattergl",
         "xaxis": "x",
         "yaxis": "y"
        },
        {
         "hovertemplate": "Job function=Information Technology, Engineering, and Consulting<br>months_experience=%{x}<br>avg_salary=%{y}<extra></extra>",
         "legendgroup": "Information Technology, Engineering, and Consulting",
         "marker": {
          "color": "#FF97FF",
          "symbol": "circle"
         },
         "mode": "markers",
         "name": "Information Technology, Engineering, and Consulting",
         "showlegend": true,
         "type": "scattergl",
         "x": {
          "bdata": "AAAAAAAAOEAAAAAAAABVQAAAAAAAAFVAAAAAAAAAVUAAAAAAAABVQAAAAAAAAFVAAAAAAAAA+H8AAAAAAABCQAAAAAAAAFVA",
          "dtype": "f8"
         },
         "xaxis": "x",
         "y": {
          "bdata": "AAAAAAAA+H8AAAAAAAD4fwAAAAAAAPh/AAAAAAAA+H8AAAAAAAD4fwAAAAAAAPh/AAAAAAAA+H8AAAAAgKL5QAAAAAAAAPh/",
          "dtype": "f8"
         },
         "yaxis": "y"
        },
        {
         "hovertemplate": "Job function=Information Technology, Engineering, and Consulting<extra></extra>",
         "legendgroup": "Information Technology, Engineering, and Consulting",
         "marker": {
          "color": "#FF97FF",
          "symbol": "circle"
         },
         "mode": "lines",
         "name": "Information Technology, Engineering, and Consulting",
         "showlegend": false,
         "type": "scattergl",
         "xaxis": "x",
         "yaxis": "y"
        },
        {
         "hovertemplate": "Job function=Design and Strategy/Planning<br>months_experience=%{x}<br>avg_salary=%{y}<extra></extra>",
         "legendgroup": "Design and Strategy/Planning",
         "marker": {
          "color": "#FECB52",
          "symbol": "circle"
         },
         "mode": "markers",
         "name": "Design and Strategy/Planning",
         "showlegend": true,
         "type": "scattergl",
         "x": {
          "bdata": "AAAAAAAAQkA=",
          "dtype": "f8"
         },
         "xaxis": "x",
         "y": {
          "bdata": "AAAAAAAA+H8=",
          "dtype": "f8"
         },
         "yaxis": "y"
        },
        {
         "hovertemplate": "Job function=Design and Strategy/Planning<extra></extra>",
         "legendgroup": "Design and Strategy/Planning",
         "marker": {
          "color": "#FECB52",
          "symbol": "circle"
         },
         "mode": "lines",
         "name": "Design and Strategy/Planning",
         "showlegend": false,
         "type": "scattergl",
         "xaxis": "x",
         "yaxis": "y"
        },
        {
         "hovertemplate": "Job function=General Business, Management, and Administrative<br>months_experience=%{x}<br>avg_salary=%{y}<extra></extra>",
         "legendgroup": "General Business, Management, and Administrative",
         "marker": {
          "color": "#636efa",
          "symbol": "circle"
         },
         "mode": "markers",
         "name": "General Business, Management, and Administrative",
         "showlegend": true,
         "type": "scattergl",
         "x": {
          "bdata": "AAAAAAAAW0AAAAAAAAA4QAAAAAAAAE5AAAAAAAAATkA=",
          "dtype": "f8"
         },
         "xaxis": "x",
         "y": {
          "bdata": "AAAAAOAJ+0AAAAAAAAD4fwAAAADgCftAAAAAACDP8EA=",
          "dtype": "f8"
         },
         "yaxis": "y"
        },
        {
         "hovertemplate": "<b>OLS trendline</b><br>avg_salary = 436.458 * months_experience + 63612.5<br>R<sup>2</sup>=0.250000<br><br>Job function=General Business, Management, and Administrative<br>months_experience=%{x}<br>avg_salary=%{y} <b>(trend)</b><extra></extra>",
         "legendgroup": "General Business, Management, and Administrative",
         "marker": {
          "color": "#636efa",
          "symbol": "circle"
         },
         "mode": "lines",
         "name": "General Business, Management, and Administrative",
         "showlegend": false,
         "type": "scattergl",
         "x": {
          "bdata": "AAAAAAAATkAAAAAAAABOQAAAAAAAAFtA",
          "dtype": "f8"
         },
         "xaxis": "x",
         "y": {
          "bdata": "/v///3/s9UD+////f+z1QP3////fCftA",
          "dtype": "f8"
         },
         "yaxis": "y"
        },
        {
         "hovertemplate": "Job function=Information Technology, Engineering, and Science<br>months_experience=%{x}<br>avg_salary=%{y}<extra></extra>",
         "legendgroup": "Information Technology, Engineering, and Science",
         "marker": {
          "color": "#EF553B",
          "symbol": "circle"
         },
         "mode": "markers",
         "name": "Information Technology, Engineering, and Science",
         "showlegend": true,
         "type": "scattergl",
         "x": {
          "bdata": "AAAAAAAA+H8=",
          "dtype": "f8"
         },
         "xaxis": "x",
         "y": {
          "bdata": "AAAAAAAA+H8=",
          "dtype": "f8"
         },
         "yaxis": "y"
        },
        {
         "hovertemplate": "Job function=Information Technology, Engineering, and Science<extra></extra>",
         "legendgroup": "Information Technology, Engineering, and Science",
         "marker": {
          "color": "#EF553B",
          "symbol": "circle"
         },
         "mode": "lines",
         "name": "Information Technology, Engineering, and Science",
         "showlegend": false,
         "type": "scattergl",
         "xaxis": "x",
         "yaxis": "y"
        },
        {
         "hovertemplate": "Job function=Analyst, Science, and Health Care Provider<br>months_experience=%{x}<br>avg_salary=%{y}<extra></extra>",
         "legendgroup": "Analyst, Science, and Health Care Provider",
         "marker": {
          "color": "#00cc96",
          "symbol": "circle"
         },
         "mode": "markers",
         "name": "Analyst, Science, and Health Care Provider",
         "showlegend": true,
         "type": "scattergl",
         "x": {
          "bdata": "AAAAAAAAOEA=",
          "dtype": "f8"
         },
         "xaxis": "x",
         "y": {
          "bdata": "AAAAAAAA+H8=",
          "dtype": "f8"
         },
         "yaxis": "y"
        },
        {
         "hovertemplate": "Job function=Analyst, Science, and Health Care Provider<extra></extra>",
         "legendgroup": "Analyst, Science, and Health Care Provider",
         "marker": {
          "color": "#00cc96",
          "symbol": "circle"
         },
         "mode": "lines",
         "name": "Analyst, Science, and Health Care Provider",
         "showlegend": false,
         "type": "scattergl",
         "xaxis": "x",
         "yaxis": "y"
        },
        {
         "hovertemplate": "Job function=Research, Analyst, and Information Technology<br>months_experience=%{x}<br>avg_salary=%{y}<extra></extra>",
         "legendgroup": "Research, Analyst, and Information Technology",
         "marker": {
          "color": "#ab63fa",
          "symbol": "circle"
         },
         "mode": "markers",
         "name": "Research, Analyst, and Information Technology",
         "showlegend": true,
         "type": "scattergl",
         "x": {
          "bdata": "AAAAAAAATkAAAAAAAABCQAAAAAAAAPh/AAAAAAAATkAAAAAAAAAoQAAAAAAAAChAAAAAAAAA+H8AAAAAAABOQAAAAAAAAFhAAAAAAAAASEAAAAAAAABIQAAAAAAAAE5AAAAAAAAAUkAAAAAAAAA4QAAAAAAAAFhAAAAAAAAAUkAAAAAAAAD4fwAAAAAAAPh/AAAAAAAASEAAAAAAAAD4fwAAAAAAAPh/AAAAAAAA+H8AAAAAAABOQAAAAAAAAE5AAAAAAAAA+H8AAAAAAAD4fwAAAAAAAChAAAAAAAAAQkAAAAAAAAD4fwAAAAAAAFhAAAAAAAAA+H8=",
          "dtype": "f8"
         },
         "xaxis": "x",
         "y": {
          "bdata": "AAAAAACIA0EAAAAAAAD4fwAAAADAROlAAAAAAAAA+H8AAAAAAAD4fwAAAAAAAPh/AAAAAAAA+H8AAAAAAAD4fwAAAAAAAPh/AAAAAAAA+H8AAAAAAAD4fwAAAAAAAPh/AAAAAAAA+H8AAAAAAAD4fwAAAAAAAPh/AAAAAAAA+H8AAAAAAAD4fwAAAAAAAPh/AAAAAAAA+H8AAAAAQGvtQAAAAABAa+1AAAAAAADzBkEAAAAAAAD4fwAAAADAu/pAAAAAAAB89UAAAAAAAAD4fwAAAAAAAPh/AAAAAAAA+H8AAAAAAAD4fwAAAAAAAPh/AAAAAAAA+H8=",
          "dtype": "f8"
         },
         "yaxis": "y"
        },
        {
         "hovertemplate": "<b>OLS trendline</b><br>avg_salary = 2245.21 * months_experience + 37.4202<br>R<sup>2</sup>=0.000000<br><br>Job function=Research, Analyst, and Information Technology<br>months_experience=%{x}<br>avg_salary=%{y} <b>(trend)</b><extra></extra>",
         "legendgroup": "Research, Analyst, and Information Technology",
         "marker": {
          "color": "#ab63fa",
          "symbol": "circle"
         },
         "mode": "lines",
         "name": "Research, Analyst, and Information Technology",
         "showlegend": false,
         "type": "scattergl",
         "x": {
          "bdata": "AAAAAAAATkAAAAAAAABOQA==",
          "dtype": "f8"
         },
         "xaxis": "x",
         "y": {
          "bdata": "AQAAAPByAEEBAAAA8HIAQQ==",
          "dtype": "f8"
         },
         "yaxis": "y"
        },
        {
         "hovertemplate": "Job function=Analyst and Information Technology<br>months_experience=%{x}<br>avg_salary=%{y}<extra></extra>",
         "legendgroup": "Analyst and Information Technology",
         "marker": {
          "color": "#FFA15A",
          "symbol": "circle"
         },
         "mode": "markers",
         "name": "Analyst and Information Technology",
         "showlegend": true,
         "type": "scattergl",
         "x": {
          "bdata": "AAAAAAAAKEAAAAAAAABOQA==",
          "dtype": "f8"
         },
         "xaxis": "x",
         "y": {
          "bdata": "AAAAAAAA+H8AAAAAAAD4fw==",
          "dtype": "f8"
         },
         "yaxis": "y"
        },
        {
         "hovertemplate": "Job function=Analyst and Information Technology<extra></extra>",
         "legendgroup": "Analyst and Information Technology",
         "marker": {
          "color": "#FFA15A",
          "symbol": "circle"
         },
         "mode": "lines",
         "name": "Analyst and Information Technology",
         "showlegend": false,
         "type": "scattergl",
         "xaxis": "x",
         "yaxis": "y"
        },
        {
         "hovertemplate": "Job function=Engineering and Analyst<br>months_experience=%{x}<br>avg_salary=%{y}<extra></extra>",
         "legendgroup": "Engineering and Analyst",
         "marker": {
          "color": "#19d3f3",
          "symbol": "circle"
         },
         "mode": "markers",
         "name": "Engineering and Analyst",
         "showlegend": true,
         "type": "scattergl",
         "x": {
          "bdata": "AAAAAAAAQkAAAAAAAAAoQAAAAAAAAEJAAAAAAAAAKEAAAAAAAABCQAAAAAAAAPh/",
          "dtype": "f8"
         },
         "xaxis": "x",
         "y": {
          "bdata": "AAAAAAAA+H8AAAAAQKn7QAAAAAAAAPh/AAAAAAAA+H8AAAAAAAD4fwAAAAAAAPh/",
          "dtype": "f8"
         },
         "yaxis": "y"
        },
        {
         "hovertemplate": "Job function=Engineering and Analyst<extra></extra>",
         "legendgroup": "Engineering and Analyst",
         "marker": {
          "color": "#19d3f3",
          "symbol": "circle"
         },
         "mode": "lines",
         "name": "Engineering and Analyst",
         "showlegend": false,
         "type": "scattergl",
         "xaxis": "x",
         "yaxis": "y"
        },
        {
         "hovertemplate": "Job function=Advertising<br>months_experience=%{x}<br>avg_salary=%{y}<extra></extra>",
         "legendgroup": "Advertising",
         "marker": {
          "color": "#FF6692",
          "symbol": "circle"
         },
         "mode": "markers",
         "name": "Advertising",
         "showlegend": true,
         "type": "scattergl",
         "x": {
          "bdata": "AAAAAAAATkAAAAAAAAA4QAAAAAAAAPh/",
          "dtype": "f8"
         },
         "xaxis": "x",
         "y": {
          "bdata": "AAAAAAAA+H8AAAAAAAD4fwAAAABAgvVA",
          "dtype": "f8"
         },
         "yaxis": "y"
        },
        {
         "hovertemplate": "Job function=Advertising<extra></extra>",
         "legendgroup": "Advertising",
         "marker": {
          "color": "#FF6692",
          "symbol": "circle"
         },
         "mode": "lines",
         "name": "Advertising",
         "showlegend": false,
         "type": "scattergl",
         "xaxis": "x",
         "yaxis": "y"
        },
        {
         "hovertemplate": "Job function=Engineering, Information Technology, and Science<br>months_experience=%{x}<br>avg_salary=%{y}<extra></extra>",
         "legendgroup": "Engineering, Information Technology, and Science",
         "marker": {
          "color": "#B6E880",
          "symbol": "circle"
         },
         "mode": "markers",
         "name": "Engineering, Information Technology, and Science",
         "showlegend": true,
         "type": "scattergl",
         "x": {
          "bdata": "AAAAAAAA+H8AAAAAAAD4fwAAAAAAAEJAAAAAAAAAQkA=",
          "dtype": "f8"
         },
         "xaxis": "x",
         "y": {
          "bdata": "AAAAAAAA+H8AAAAAAAD4fwAAAAAAAPh/AAAAAAAA+H8=",
          "dtype": "f8"
         },
         "yaxis": "y"
        },
        {
         "hovertemplate": "Job function=Engineering, Information Technology, and Science<extra></extra>",
         "legendgroup": "Engineering, Information Technology, and Science",
         "marker": {
          "color": "#B6E880",
          "symbol": "circle"
         },
         "mode": "lines",
         "name": "Engineering, Information Technology, and Science",
         "showlegend": false,
         "type": "scattergl",
         "xaxis": "x",
         "yaxis": "y"
        },
        {
         "hovertemplate": "Job function=Human Resources<br>months_experience=%{x}<br>avg_salary=%{y}<extra></extra>",
         "legendgroup": "Human Resources",
         "marker": {
          "color": "#FF97FF",
          "symbol": "circle"
         },
         "mode": "markers",
         "name": "Human Resources",
         "showlegend": true,
         "type": "scattergl",
         "x": {
          "bdata": "AAAAAAAAQkAAAAAAAAAoQAAAAAAAAE5AAAAAAAAATkAAAAAAAABOQAAAAAAAAE5AAAAAAAAATkAAAAAAAABOQAAAAAAAAE5AAAAAAAAATkAAAAAAAABOQAAAAAAAAE5AAAAAAAAATkAAAAAAAAD4fwAAAAAAAPh/AAAAAAAA+H8AAAAAAABCQAAAAAAAAEJAAAAAAAAA+H8AAAAAAABOQA==",
          "dtype": "f8"
         },
         "xaxis": "x",
         "y": {
          "bdata": "AAAAAAAA+H8AAAAAAAD4fwAAAAAAAPh/AAAAAAAA+H8AAAAAAAD4fwAAAAAAAPh/AAAAAAAA+H8AAAAAAAD4fwAAAAAAAPh/AAAAAAAA+H8AAAAAAAD4fwAAAAAAAPh/AAAAAAAA+H8AAAAAAAD4fwAAAAAAAPh/AAAAAAB43kAAAAAAAAD4fwAAAAAAxvFAAAAAAAAA+H8AAAAAgMAEQQ==",
          "dtype": "f8"
         },
         "yaxis": "y"
        },
        {
         "hovertemplate": "<b>OLS trendline</b><br>avg_salary = 4050 * months_experience + -73000<br>R<sup>2</sup>=1.000000<br><br>Job function=Human Resources<br>months_experience=%{x}<br>avg_salary=%{y} <b>(trend)</b><extra></extra>",
         "legendgroup": "Human Resources",
         "marker": {
          "color": "#FF97FF",
          "symbol": "circle"
         },
         "mode": "lines",
         "name": "Human Resources",
         "showlegend": false,
         "type": "scattergl",
         "x": {
          "bdata": "AAAAAAAAQkAAAAAAAABOQA==",
          "dtype": "f8"
         },
         "xaxis": "x",
         "y": {
          "bdata": "AAAAAADG8UADAAAAgMAEQQ==",
          "dtype": "f8"
         },
         "yaxis": "y"
        },
        {
         "hovertemplate": "Job function=Product Management<br>months_experience=%{x}<br>avg_salary=%{y}<extra></extra>",
         "legendgroup": "Product Management",
         "marker": {
          "color": "#FECB52",
          "symbol": "circle"
         },
         "mode": "markers",
         "name": "Product Management",
         "showlegend": true,
         "type": "scattergl",
         "x": {
          "bdata": "AAAAAAAAOEAAAAAAAAA4QAAAAAAAADhAAAAAAAAAOEAAAAAAAAA4QAAAAAAAADhAAAAAAAAAQkAAAAAAAAA4QAAAAAAAADhAAAAAAAAAOEAAAAAAAAA4QAAAAAAAAPh/AAAAAAAAOEA=",
          "dtype": "f8"
         },
         "xaxis": "x",
         "y": {
          "bdata": "AAAAAEBf/0AAAAAAQF//QAAAAABAX/9AAAAAAEBf/0AAAAAAQF//QAAAAABAX/9AAAAAAGDY/EAAAAAAAAD4fwAAAAAAw/5AAAAAAEDc/0AAAAAAQNz/QAAAAAAAAPh/AAAAAEDc/0A=",
          "dtype": "f8"
         },
         "yaxis": "y"
        },
        {
         "hovertemplate": "<b>OLS trendline</b><br>avg_salary = -891.667 * months_experience + 150250<br>R<sup>2</sup>=0.859422<br><br>Job function=Product Management<br>months_experience=%{x}<br>avg_salary=%{y} <b>(trend)</b><extra></extra>",
         "legendgroup": "Product Management",
         "marker": {
          "color": "#FECB52",
          "symbol": "circle"
         },
         "mode": "lines",
         "name": "Product Management",
         "showlegend": false,
         "type": "scattergl",
         "x": {
          "bdata": "AAAAAAAAOEAAAAAAAAA4QAAAAAAAADhAAAAAAAAAOEAAAAAAAAA4QAAAAAAAADhAAAAAAAAAOEAAAAAAAAA4QAAAAAAAADhAAAAAAAAAOEAAAAAAAABCQA==",
          "dtype": "f8"
         },
         "xaxis": "x",
         "y": {
          "bdata": "BAAAACB1/0AEAAAAIHX/QAQAAAAgdf9ABAAAACB1/0AEAAAAIHX/QAQAAAAgdf9ABAAAACB1/0AEAAAAIHX/QAQAAAAgdf9ABAAAACB1/0ADAAAAYNj8QA==",
          "dtype": "f8"
         },
         "yaxis": "y"
        },
        {
         "hovertemplate": "Job function=Science and Research<br>months_experience=%{x}<br>avg_salary=%{y}<extra></extra>",
         "legendgroup": "Science and Research",
         "marker": {
          "color": "#636efa",
          "symbol": "circle"
         },
         "mode": "markers",
         "name": "Science and Research",
         "showlegend": true,
         "type": "scattergl",
         "x": {
          "bdata": "AAAAAAAAQkAAAAAAAAD4fwAAAAAAAPh/",
          "dtype": "f8"
         },
         "xaxis": "x",
         "y": {
          "bdata": "AAAAAAAA+H8AAAAA4EUBQQAAAAAAAPh/",
          "dtype": "f8"
         },
         "yaxis": "y"
        },
        {
         "hovertemplate": "Job function=Science and Research<extra></extra>",
         "legendgroup": "Science and Research",
         "marker": {
          "color": "#636efa",
          "symbol": "circle"
         },
         "mode": "lines",
         "name": "Science and Research",
         "showlegend": false,
         "type": "scattergl",
         "xaxis": "x",
         "yaxis": "y"
        },
        {
         "hovertemplate": "Job function=Other, Information Technology, and Management<br>months_experience=%{x}<br>avg_salary=%{y}<extra></extra>",
         "legendgroup": "Other, Information Technology, and Management",
         "marker": {
          "color": "#EF553B",
          "symbol": "circle"
         },
         "mode": "markers",
         "name": "Other, Information Technology, and Management",
         "showlegend": true,
         "type": "scattergl",
         "x": {
          "bdata": "AAAAAAAAQkA=",
          "dtype": "f8"
         },
         "xaxis": "x",
         "y": {
          "bdata": "AAAAAAAA+H8=",
          "dtype": "f8"
         },
         "yaxis": "y"
        },
        {
         "hovertemplate": "Job function=Other, Information Technology, and Management<extra></extra>",
         "legendgroup": "Other, Information Technology, and Management",
         "marker": {
          "color": "#EF553B",
          "symbol": "circle"
         },
         "mode": "lines",
         "name": "Other, Information Technology, and Management",
         "showlegend": false,
         "type": "scattergl",
         "xaxis": "x",
         "yaxis": "y"
        },
        {
         "hovertemplate": "Job function=Analyst, Consulting, and Engineering<br>months_experience=%{x}<br>avg_salary=%{y}<extra></extra>",
         "legendgroup": "Analyst, Consulting, and Engineering",
         "marker": {
          "color": "#00cc96",
          "symbol": "circle"
         },
         "mode": "markers",
         "name": "Analyst, Consulting, and Engineering",
         "showlegend": true,
         "type": "scattergl",
         "x": {
          "bdata": "AAAAAAAATkAAAAAAAABOQAAAAAAAAE5AAAAAAAAATkAAAAAAAABOQAAAAAAAAE5A",
          "dtype": "f8"
         },
         "xaxis": "x",
         "y": {
          "bdata": "AAAAAAAA+H8AAAAAAAD4fwAAAAAAAPh/AAAAAAAA+H8AAAAAAAD4fwAAAAAAAPh/",
          "dtype": "f8"
         },
         "yaxis": "y"
        },
        {
         "hovertemplate": "Job function=Analyst, Consulting, and Engineering<extra></extra>",
         "legendgroup": "Analyst, Consulting, and Engineering",
         "marker": {
          "color": "#00cc96",
          "symbol": "circle"
         },
         "mode": "lines",
         "name": "Analyst, Consulting, and Engineering",
         "showlegend": false,
         "type": "scattergl",
         "xaxis": "x",
         "yaxis": "y"
        },
        {
         "hovertemplate": "Job function=Engineering and Science<br>months_experience=%{x}<br>avg_salary=%{y}<extra></extra>",
         "legendgroup": "Engineering and Science",
         "marker": {
          "color": "#ab63fa",
          "symbol": "circle"
         },
         "mode": "markers",
         "name": "Engineering and Science",
         "showlegend": true,
         "type": "scattergl",
         "x": {
          "bdata": "AAAAAAAAQkAAAAAAAABCQAAAAAAAAEJA",
          "dtype": "f8"
         },
         "xaxis": "x",
         "y": {
          "bdata": "AAAAAAAA+H8AAAAAAAD4fwAAAAAAAPh/",
          "dtype": "f8"
         },
         "yaxis": "y"
        },
        {
         "hovertemplate": "Job function=Engineering and Science<extra></extra>",
         "legendgroup": "Engineering and Science",
         "marker": {
          "color": "#ab63fa",
          "symbol": "circle"
         },
         "mode": "lines",
         "name": "Engineering and Science",
         "showlegend": false,
         "type": "scattergl",
         "xaxis": "x",
         "yaxis": "y"
        },
        {
         "hovertemplate": "Job function=Project Management and Management<br>months_experience=%{x}<br>avg_salary=%{y}<extra></extra>",
         "legendgroup": "Project Management and Management",
         "marker": {
          "color": "#FFA15A",
          "symbol": "circle"
         },
         "mode": "markers",
         "name": "Project Management and Management",
         "showlegend": true,
         "type": "scattergl",
         "x": {
          "bdata": "AAAAAAAA+H8=",
          "dtype": "f8"
         },
         "xaxis": "x",
         "y": {
          "bdata": "AAAAAAAA+H8=",
          "dtype": "f8"
         },
         "yaxis": "y"
        },
        {
         "hovertemplate": "Job function=Project Management and Management<extra></extra>",
         "legendgroup": "Project Management and Management",
         "marker": {
          "color": "#FFA15A",
          "symbol": "circle"
         },
         "mode": "lines",
         "name": "Project Management and Management",
         "showlegend": false,
         "type": "scattergl",
         "xaxis": "x",
         "yaxis": "y"
        },
        {
         "hovertemplate": "Job function=Information Technology, Sales, and Business Development<br>months_experience=%{x}<br>avg_salary=%{y}<extra></extra>",
         "legendgroup": "Information Technology, Sales, and Business Development",
         "marker": {
          "color": "#19d3f3",
          "symbol": "circle"
         },
         "mode": "markers",
         "name": "Information Technology, Sales, and Business Development",
         "showlegend": true,
         "type": "scattergl",
         "x": {
          "bdata": "AAAAAAAASEA=",
          "dtype": "f8"
         },
         "xaxis": "x",
         "y": {
          "bdata": "AAAAAAAA+H8=",
          "dtype": "f8"
         },
         "yaxis": "y"
        },
        {
         "hovertemplate": "Job function=Information Technology, Sales, and Business Development<extra></extra>",
         "legendgroup": "Information Technology, Sales, and Business Development",
         "marker": {
          "color": "#19d3f3",
          "symbol": "circle"
         },
         "mode": "lines",
         "name": "Information Technology, Sales, and Business Development",
         "showlegend": false,
         "type": "scattergl",
         "xaxis": "x",
         "yaxis": "y"
        },
        {
         "hovertemplate": "Job function=Marketing and Sales<br>months_experience=%{x}<br>avg_salary=%{y}<extra></extra>",
         "legendgroup": "Marketing and Sales",
         "marker": {
          "color": "#FF6692",
          "symbol": "circle"
         },
         "mode": "markers",
         "name": "Marketing and Sales",
         "showlegend": true,
         "type": "scattergl",
         "x": {
          "bdata": "AAAAAAAA+H8AAAAAAABIQAAAAAAAAEJAAAAAAAAAQkAAAAAAAABCQAAAAAAAAPh/AAAAAAAAQkAAAAAAAAD4fwAAAAAAAPh/",
          "dtype": "f8"
         },
         "xaxis": "x",
         "y": {
          "bdata": "AAAAAAAA+H8AAAAA0AsAQQAAAAAAAPh/AAAAAAAA+H8AAAAAAAD4fwAAAABALOtAAAAAAAAA+H8AAAAAAAD4fwAAAAAAAPh/",
          "dtype": "f8"
         },
         "yaxis": "y"
        },
        {
         "hovertemplate": "Job function=Marketing and Sales<extra></extra>",
         "legendgroup": "Marketing and Sales",
         "marker": {
          "color": "#FF6692",
          "symbol": "circle"
         },
         "mode": "lines",
         "name": "Marketing and Sales",
         "showlegend": false,
         "type": "scattergl",
         "xaxis": "x",
         "yaxis": "y"
        },
        {
         "hovertemplate": "Job function=Education and Training<br>months_experience=%{x}<br>avg_salary=%{y}<extra></extra>",
         "legendgroup": "Education and Training",
         "marker": {
          "color": "#B6E880",
          "symbol": "circle"
         },
         "mode": "markers",
         "name": "Education and Training",
         "showlegend": true,
         "type": "scattergl",
         "x": {
          "bdata": "AAAAAAAA+H8AAAAAAAA4QA==",
          "dtype": "f8"
         },
         "xaxis": "x",
         "y": {
          "bdata": "AAAAAAAA+H8AAAAAAAD4fw==",
          "dtype": "f8"
         },
         "yaxis": "y"
        },
        {
         "hovertemplate": "Job function=Education and Training<extra></extra>",
         "legendgroup": "Education and Training",
         "marker": {
          "color": "#B6E880",
          "symbol": "circle"
         },
         "mode": "lines",
         "name": "Education and Training",
         "showlegend": false,
         "type": "scattergl",
         "xaxis": "x",
         "yaxis": "y"
        },
        {
         "hovertemplate": "Job function=General Business<br>months_experience=%{x}<br>avg_salary=%{y}<extra></extra>",
         "legendgroup": "General Business",
         "marker": {
          "color": "#FF97FF",
          "symbol": "circle"
         },
         "mode": "markers",
         "name": "General Business",
         "showlegend": true,
         "type": "scattergl",
         "x": {
          "bdata": "AAAAAAAAQkAAAAAAAABCQAAAAAAAAEJAAAAAAAAAKEAAAAAAAABCQAAAAAAAADhAAAAAAAAAKEAAAAAAAAAoQAAAAAAAADhAAAAAAAAAOEAAAAAAAAA4QAAAAAAAADhAAAAAAAAAQkAAAAAAAABIQAAAAAAAAEhAAAAAAAAASEAAAAAAAABIQAAAAAAAAEhAAAAAAAAASEAAAAAAAABIQAAAAAAAAEhAAAAAAAAASEAAAAAAAABIQA==",
          "dtype": "f8"
         },
         "xaxis": "x",
         "y": {
          "bdata": "AAAAAGD7AkEAAAAAAAD4fwAAAAAAAPh/AAAAAAAA+H8AAAAAAAD4fwAAAAAAAPh/AAAAAAAA+H8AAAAAAAD4fwAAAAAAAPh/AAAAAAAA+H8AAAAAAAD4fwAAAAAAAPh/AAAAAEAqA0EAAAAAAAD4fwAAAAAAAPh/AAAAAAAA+H8AAAAAAAD4fwAAAAAAAPh/AAAAAAAA+H8AAAAAAAD4fwAAAAAAAPh/AAAAAAAA+H8AAAAAAAD4fw==",
          "dtype": "f8"
         },
         "yaxis": "y"
        },
        {
         "hovertemplate": "<b>OLS trendline</b><br>avg_salary = 4336.93 * months_experience + 120.47<br>R<sup>2</sup>=0.000000<br><br>Job function=General Business<br>months_experience=%{x}<br>avg_salary=%{y} <b>(trend)</b><extra></extra>",
         "legendgroup": "General Business",
         "marker": {
          "color": "#FF97FF",
          "symbol": "circle"
         },
         "mode": "lines",
         "name": "General Business",
         "showlegend": false,
         "type": "scattergl",
         "x": {
          "bdata": "AAAAAAAAQkAAAAAAAABCQA==",
          "dtype": "f8"
         },
         "xaxis": "x",
         "y": {
          "bdata": "AAAAANASA0EAAAAA0BIDQQ==",
          "dtype": "f8"
         },
         "yaxis": "y"
        },
        {
         "hovertemplate": "Job function=Information Technology, Engineering, and Design<br>months_experience=%{x}<br>avg_salary=%{y}<extra></extra>",
         "legendgroup": "Information Technology, Engineering, and Design",
         "marker": {
          "color": "#FECB52",
          "symbol": "circle"
         },
         "mode": "markers",
         "name": "Information Technology, Engineering, and Design",
         "showlegend": true,
         "type": "scattergl",
         "x": {
          "bdata": "AAAAAAAAXkAAAAAAAABOQAAAAAAAAE5A",
          "dtype": "f8"
         },
         "xaxis": "x",
         "y": {
          "bdata": "AAAAAAAA+H8AAAAAgDH3QAAAAAAAAPh/",
          "dtype": "f8"
         },
         "yaxis": "y"
        },
        {
         "hovertemplate": "Job function=Information Technology, Engineering, and Design<extra></extra>",
         "legendgroup": "Information Technology, Engineering, and Design",
         "marker": {
          "color": "#FECB52",
          "symbol": "circle"
         },
         "mode": "lines",
         "name": "Information Technology, Engineering, and Design",
         "showlegend": false,
         "type": "scattergl",
         "xaxis": "x",
         "yaxis": "y"
        },
        {
         "hovertemplate": "Job function=Engineering and Design<br>months_experience=%{x}<br>avg_salary=%{y}<extra></extra>",
         "legendgroup": "Engineering and Design",
         "marker": {
          "color": "#636efa",
          "symbol": "circle"
         },
         "mode": "markers",
         "name": "Engineering and Design",
         "showlegend": true,
         "type": "scattergl",
         "x": {
          "bdata": "AAAAAAAASEAAAAAAAABOQAAAAAAAADhA",
          "dtype": "f8"
         },
         "xaxis": "x",
         "y": {
          "bdata": "AAAAAAAA+H8AAAAAAAD4fwAAAAAAAPh/",
          "dtype": "f8"
         },
         "yaxis": "y"
        },
        {
         "hovertemplate": "Job function=Engineering and Design<extra></extra>",
         "legendgroup": "Engineering and Design",
         "marker": {
          "color": "#636efa",
          "symbol": "circle"
         },
         "mode": "lines",
         "name": "Engineering and Design",
         "showlegend": false,
         "type": "scattergl",
         "xaxis": "x",
         "yaxis": "y"
        },
        {
         "hovertemplate": "Job function=Manufacturing<br>months_experience=%{x}<br>avg_salary=%{y}<extra></extra>",
         "legendgroup": "Manufacturing",
         "marker": {
          "color": "#EF553B",
          "symbol": "circle"
         },
         "mode": "markers",
         "name": "Manufacturing",
         "showlegend": true,
         "type": "scattergl",
         "x": {
          "bdata": "AAAAAAAATkAAAAAAAABOQAAAAAAAAPh/AAAAAAAAQkAAAAAAAABOQA==",
          "dtype": "f8"
         },
         "xaxis": "x",
         "y": {
          "bdata": "AAAAAAAA+H8AAAAAAAD4fwAAAAAAAPh/AAAAAAAA+H8AAAAAAAD4fw==",
          "dtype": "f8"
         },
         "yaxis": "y"
        },
        {
         "hovertemplate": "Job function=Manufacturing<extra></extra>",
         "legendgroup": "Manufacturing",
         "marker": {
          "color": "#EF553B",
          "symbol": "circle"
         },
         "mode": "lines",
         "name": "Manufacturing",
         "showlegend": false,
         "type": "scattergl",
         "xaxis": "x",
         "yaxis": "y"
        },
        {
         "hovertemplate": "Job function=Customer Service and Information Technology<br>months_experience=%{x}<br>avg_salary=%{y}<extra></extra>",
         "legendgroup": "Customer Service and Information Technology",
         "marker": {
          "color": "#00cc96",
          "symbol": "circle"
         },
         "mode": "markers",
         "name": "Customer Service and Information Technology",
         "showlegend": true,
         "type": "scattergl",
         "x": {
          "bdata": "AAAAAAAA+H8AAAAAAAD4fwAAAAAAAPh/AAAAAAAA+H8=",
          "dtype": "f8"
         },
         "xaxis": "x",
         "y": {
          "bdata": "AAAAAMCC90AAAAAAgDbyQAAAAAAA7utAAAAAAMBE6UA=",
          "dtype": "f8"
         },
         "yaxis": "y"
        },
        {
         "hovertemplate": "Job function=Customer Service and Information Technology<extra></extra>",
         "legendgroup": "Customer Service and Information Technology",
         "marker": {
          "color": "#00cc96",
          "symbol": "circle"
         },
         "mode": "lines",
         "name": "Customer Service and Information Technology",
         "showlegend": false,
         "type": "scattergl",
         "xaxis": "x",
         "yaxis": "y"
        },
        {
         "hovertemplate": "Job function=Consulting, Information Technology, and Sales<br>months_experience=%{x}<br>avg_salary=%{y}<extra></extra>",
         "legendgroup": "Consulting, Information Technology, and Sales",
         "marker": {
          "color": "#ab63fa",
          "symbol": "circle"
         },
         "mode": "markers",
         "name": "Consulting, Information Technology, and Sales",
         "showlegend": true,
         "type": "scattergl",
         "x": {
          "bdata": "AAAAAAAAWEAAAAAAAABIQAAAAAAAAFJA",
          "dtype": "f8"
         },
         "xaxis": "x",
         "y": {
          "bdata": "AAAAAAAA+H8AAAAAAAD4fwAAAAAAAPh/",
          "dtype": "f8"
         },
         "yaxis": "y"
        },
        {
         "hovertemplate": "Job function=Consulting, Information Technology, and Sales<extra></extra>",
         "legendgroup": "Consulting, Information Technology, and Sales",
         "marker": {
          "color": "#ab63fa",
          "symbol": "circle"
         },
         "mode": "lines",
         "name": "Consulting, Information Technology, and Sales",
         "showlegend": false,
         "type": "scattergl",
         "xaxis": "x",
         "yaxis": "y"
        },
        {
         "hovertemplate": "Job function=Design<br>months_experience=%{x}<br>avg_salary=%{y}<extra></extra>",
         "legendgroup": "Design",
         "marker": {
          "color": "#FFA15A",
          "symbol": "circle"
         },
         "mode": "markers",
         "name": "Design",
         "showlegend": true,
         "type": "scattergl",
         "x": {
          "bdata": "AAAAAAAAKEAAAAAAAABCQA==",
          "dtype": "f8"
         },
         "xaxis": "x",
         "y": {
          "bdata": "AAAAAAAA+H8AAAAAAAD4fw==",
          "dtype": "f8"
         },
         "yaxis": "y"
        },
        {
         "hovertemplate": "Job function=Design<extra></extra>",
         "legendgroup": "Design",
         "marker": {
          "color": "#FFA15A",
          "symbol": "circle"
         },
         "mode": "lines",
         "name": "Design",
         "showlegend": false,
         "type": "scattergl",
         "xaxis": "x",
         "yaxis": "y"
        },
        {
         "hovertemplate": "Job function=Consulting, Engineering, and Information Technology<br>months_experience=%{x}<br>avg_salary=%{y}<extra></extra>",
         "legendgroup": "Consulting, Engineering, and Information Technology",
         "marker": {
          "color": "#19d3f3",
          "symbol": "circle"
         },
         "mode": "markers",
         "name": "Consulting, Engineering, and Information Technology",
         "showlegend": true,
         "type": "scattergl",
         "x": {
          "bdata": "AAAAAAAATkAAAAAAAABSQAAAAAAAAPh/",
          "dtype": "f8"
         },
         "xaxis": "x",
         "y": {
          "bdata": "AAAAAAAA+H8AAAAAAAD4fwAAAACAhP5A",
          "dtype": "f8"
         },
         "yaxis": "y"
        },
        {
         "hovertemplate": "Job function=Consulting, Engineering, and Information Technology<extra></extra>",
         "legendgroup": "Consulting, Engineering, and Information Technology",
         "marker": {
          "color": "#19d3f3",
          "symbol": "circle"
         },
         "mode": "lines",
         "name": "Consulting, Engineering, and Information Technology",
         "showlegend": false,
         "type": "scattergl",
         "xaxis": "x",
         "yaxis": "y"
        },
        {
         "hovertemplate": "Job function=Engineering and Management<br>months_experience=%{x}<br>avg_salary=%{y}<extra></extra>",
         "legendgroup": "Engineering and Management",
         "marker": {
          "color": "#FF6692",
          "symbol": "circle"
         },
         "mode": "markers",
         "name": "Engineering and Management",
         "showlegend": true,
         "type": "scattergl",
         "x": {
          "bdata": "AAAAAAAA+H8AAAAAAABCQA==",
          "dtype": "f8"
         },
         "xaxis": "x",
         "y": {
          "bdata": "AAAAAGC2AUEAAAAAAAD4fw==",
          "dtype": "f8"
         },
         "yaxis": "y"
        },
        {
         "hovertemplate": "Job function=Engineering and Management<extra></extra>",
         "legendgroup": "Engineering and Management",
         "marker": {
          "color": "#FF6692",
          "symbol": "circle"
         },
         "mode": "lines",
         "name": "Engineering and Management",
         "showlegend": false,
         "type": "scattergl",
         "xaxis": "x",
         "yaxis": "y"
        },
        {
         "hovertemplate": "Job function=Marketing and Advertising<br>months_experience=%{x}<br>avg_salary=%{y}<extra></extra>",
         "legendgroup": "Marketing and Advertising",
         "marker": {
          "color": "#B6E880",
          "symbol": "circle"
         },
         "mode": "markers",
         "name": "Marketing and Advertising",
         "showlegend": true,
         "type": "scattergl",
         "x": {
          "bdata": "AAAAAAAAOEA=",
          "dtype": "f8"
         },
         "xaxis": "x",
         "y": {
          "bdata": "AAAAAAAA+H8=",
          "dtype": "f8"
         },
         "yaxis": "y"
        },
        {
         "hovertemplate": "Job function=Marketing and Advertising<extra></extra>",
         "legendgroup": "Marketing and Advertising",
         "marker": {
          "color": "#B6E880",
          "symbol": "circle"
         },
         "mode": "lines",
         "name": "Marketing and Advertising",
         "showlegend": false,
         "type": "scattergl",
         "xaxis": "x",
         "yaxis": "y"
        },
        {
         "hovertemplate": "Job function=Science, Information Technology, and Other<br>months_experience=%{x}<br>avg_salary=%{y}<extra></extra>",
         "legendgroup": "Science, Information Technology, and Other",
         "marker": {
          "color": "#FF97FF",
          "symbol": "circle"
         },
         "mode": "markers",
         "name": "Science, Information Technology, and Other",
         "showlegend": true,
         "type": "scattergl",
         "x": {
          "bdata": "AAAAAAAA+H8=",
          "dtype": "f8"
         },
         "xaxis": "x",
         "y": {
          "bdata": "AAAAAAAA+H8=",
          "dtype": "f8"
         },
         "yaxis": "y"
        },
        {
         "hovertemplate": "Job function=Science, Information Technology, and Other<extra></extra>",
         "legendgroup": "Science, Information Technology, and Other",
         "marker": {
          "color": "#FF97FF",
          "symbol": "circle"
         },
         "mode": "lines",
         "name": "Science, Information Technology, and Other",
         "showlegend": false,
         "type": "scattergl",
         "xaxis": "x",
         "yaxis": "y"
        },
        {
         "hovertemplate": "Job function=Information Technology, Product Management, and Engineering<br>months_experience=%{x}<br>avg_salary=%{y}<extra></extra>",
         "legendgroup": "Information Technology, Product Management, and Engineering",
         "marker": {
          "color": "#FECB52",
          "symbol": "circle"
         },
         "mode": "markers",
         "name": "Information Technology, Product Management, and Engineering",
         "showlegend": true,
         "type": "scattergl",
         "x": {
          "bdata": "AAAAAAAAQkAAAAAAAABIQAAAAAAAAPh/AAAAAAAAQkAAAAAAAABCQAAAAAAAAEhAAAAAAAAAQkAAAAAAAABCQAAAAAAAAEJAAAAAAAAASEAAAAAAAABCQAAAAAAAAEJAAAAAAAAAQkAAAAAAAABCQAAAAAAAADhAAAAAAAAASEA=",
          "dtype": "f8"
         },
         "xaxis": "x",
         "y": {
          "bdata": "AAAAAEC5AEEAAAAA4DMEQQAAAAAAAPh/AAAAANAeAUEAAAAAAAD4fwAAAAAAAPh/AAAAAOC2A0EAAAAA4LYDQQAAAAAgAQFBAAAAAIDGA0EAAAAAgMYDQQAAAACAxgNBAAAAAGCEAUEAAAAAgMYDQQAAAAAAAPh/AAAAAAAA+H8=",
          "dtype": "f8"
         },
         "yaxis": "y"
        },
        {
         "hovertemplate": "<b>OLS trendline</b><br>avg_salary = 969.444 * months_experience + 117217<br>R<sup>2</sup>=0.169755<br><br>Job function=Information Technology, Product Management, and Engineering<br>months_experience=%{x}<br>avg_salary=%{y} <b>(trend)</b><extra></extra>",
         "legendgroup": "Information Technology, Product Management, and Engineering",
         "marker": {
          "color": "#FECB52",
          "symbol": "circle"
         },
         "mode": "lines",
         "name": "Information Technology, Product Management, and Engineering",
         "showlegend": false,
         "type": "scattergl",
         "x": {
          "bdata": "AAAAAAAAQkAAAAAAAABCQAAAAAAAAEJAAAAAAAAAQkAAAAAAAABCQAAAAAAAAEJAAAAAAAAAQkAAAAAAAABCQAAAAAAAAEJAAAAAAAAASEAAAAAAAABIQA==",
          "dtype": "f8"
         },
         "xaxis": "x",
         "y": {
          "bdata": "U1VVVaWRAkFTVVVVpZECQVNVVVWlkQJBU1VVVaWRAkFTVVVVpZECQVNVVVWlkQJBU1VVVaWRAkFTVVVVpZECQVNVVVWlkQJB/////y/9A0H/////L/0DQQ==",
          "dtype": "f8"
         },
         "yaxis": "y"
        },
        {
         "hovertemplate": "Job function=Information Technology and Other<br>months_experience=%{x}<br>avg_salary=%{y}<extra></extra>",
         "legendgroup": "Information Technology and Other",
         "marker": {
          "color": "#636efa",
          "symbol": "circle"
         },
         "mode": "markers",
         "name": "Information Technology and Other",
         "showlegend": true,
         "type": "scattergl",
         "x": {
          "bdata": "AAAAAAAA+H8AAAAAAABOQAAAAAAAAPh/",
          "dtype": "f8"
         },
         "xaxis": "x",
         "y": {
          "bdata": "AAAAAAAA+H8AAAAAAAD4fwAAAAAAAPh/",
          "dtype": "f8"
         },
         "yaxis": "y"
        },
        {
         "hovertemplate": "Job function=Information Technology and Other<extra></extra>",
         "legendgroup": "Information Technology and Other",
         "marker": {
          "color": "#636efa",
          "symbol": "circle"
         },
         "mode": "lines",
         "name": "Information Technology and Other",
         "showlegend": false,
         "type": "scattergl",
         "xaxis": "x",
         "yaxis": "y"
        },
        {
         "hovertemplate": "Job function=Information Technology and Accounting/Auditing<br>months_experience=%{x}<br>avg_salary=%{y}<extra></extra>",
         "legendgroup": "Information Technology and Accounting/Auditing",
         "marker": {
          "color": "#EF553B",
          "symbol": "circle"
         },
         "mode": "markers",
         "name": "Information Technology and Accounting/Auditing",
         "showlegend": true,
         "type": "scattergl",
         "x": {
          "bdata": "AAAAAAAAKEAAAAAAAAD4fwAAAAAAAPh/AAAAAAAA+H8AAAAAAAA4QA==",
          "dtype": "f8"
         },
         "xaxis": "x",
         "y": {
          "bdata": "AAAAAAAA+H8AAAAAAAD4fwAAAAAAAPh/AAAAAAAA+H8AAAAAAAD4fw==",
          "dtype": "f8"
         },
         "yaxis": "y"
        },
        {
         "hovertemplate": "Job function=Information Technology and Accounting/Auditing<extra></extra>",
         "legendgroup": "Information Technology and Accounting/Auditing",
         "marker": {
          "color": "#EF553B",
          "symbol": "circle"
         },
         "mode": "lines",
         "name": "Information Technology and Accounting/Auditing",
         "showlegend": false,
         "type": "scattergl",
         "xaxis": "x",
         "yaxis": "y"
        },
        {
         "hovertemplate": "Job function=Project Management<br>months_experience=%{x}<br>avg_salary=%{y}<extra></extra>",
         "legendgroup": "Project Management",
         "marker": {
          "color": "#00cc96",
          "symbol": "circle"
         },
         "mode": "markers",
         "name": "Project Management",
         "showlegend": true,
         "type": "scattergl",
         "x": {
          "bdata": "AAAAAAAAQkAAAAAAAABCQAAAAAAAAEJAAAAAAAAAQkAAAAAAAABCQAAAAAAAAEJAAAAAAAAAQkAAAAAAAABCQAAAAAAAAEJAAAAAAAAAQkA=",
          "dtype": "f8"
         },
         "xaxis": "x",
         "y": {
          "bdata": "AAAAAAAA+H8AAAAAAAD4fwAAAAAAAPh/AAAAAAAA+H8AAAAAAAD4fwAAAAAAAPh/AAAAAAAA+H8AAAAAAAD4fwAAAAAAAPh/AAAAAAAA+H8=",
          "dtype": "f8"
         },
         "yaxis": "y"
        },
        {
         "hovertemplate": "Job function=Project Management<extra></extra>",
         "legendgroup": "Project Management",
         "marker": {
          "color": "#00cc96",
          "symbol": "circle"
         },
         "mode": "lines",
         "name": "Project Management",
         "showlegend": false,
         "type": "scattergl",
         "xaxis": "x",
         "yaxis": "y"
        },
        {
         "hovertemplate": "Job function=Supply Chain<br>months_experience=%{x}<br>avg_salary=%{y}<extra></extra>",
         "legendgroup": "Supply Chain",
         "marker": {
          "color": "#ab63fa",
          "symbol": "circle"
         },
         "mode": "markers",
         "name": "Supply Chain",
         "showlegend": true,
         "type": "scattergl",
         "x": {
          "bdata": "AAAAAAAATkAAAAAAAAA4QA==",
          "dtype": "f8"
         },
         "xaxis": "x",
         "y": {
          "bdata": "AAAAAAAA+H8AAAAAAAD4fw==",
          "dtype": "f8"
         },
         "yaxis": "y"
        },
        {
         "hovertemplate": "Job function=Supply Chain<extra></extra>",
         "legendgroup": "Supply Chain",
         "marker": {
          "color": "#ab63fa",
          "symbol": "circle"
         },
         "mode": "lines",
         "name": "Supply Chain",
         "showlegend": false,
         "type": "scattergl",
         "xaxis": "x",
         "yaxis": "y"
        },
        {
         "hovertemplate": "Job function=Project Management, General Business, and Analyst<br>months_experience=%{x}<br>avg_salary=%{y}<extra></extra>",
         "legendgroup": "Project Management, General Business, and Analyst",
         "marker": {
          "color": "#FFA15A",
          "symbol": "circle"
         },
         "mode": "markers",
         "name": "Project Management, General Business, and Analyst",
         "showlegend": true,
         "type": "scattergl",
         "x": {
          "bdata": "AAAAAAAA+H8AAAAAAAAoQAAAAAAAADhA",
          "dtype": "f8"
         },
         "xaxis": "x",
         "y": {
          "bdata": "AAAAAAAA+H8AAAAAAAD4fwAAAAAAAPh/",
          "dtype": "f8"
         },
         "yaxis": "y"
        },
        {
         "hovertemplate": "Job function=Project Management, General Business, and Analyst<extra></extra>",
         "legendgroup": "Project Management, General Business, and Analyst",
         "marker": {
          "color": "#FFA15A",
          "symbol": "circle"
         },
         "mode": "lines",
         "name": "Project Management, General Business, and Analyst",
         "showlegend": false,
         "type": "scattergl",
         "xaxis": "x",
         "yaxis": "y"
        },
        {
         "hovertemplate": "Job function=Engineering, Information Technology, and Marketing<br>months_experience=%{x}<br>avg_salary=%{y}<extra></extra>",
         "legendgroup": "Engineering, Information Technology, and Marketing",
         "marker": {
          "color": "#19d3f3",
          "symbol": "circle"
         },
         "mode": "markers",
         "name": "Engineering, Information Technology, and Marketing",
         "showlegend": true,
         "type": "scattergl",
         "x": {
          "bdata": "AAAAAAAATkAAAAAAAABOQA==",
          "dtype": "f8"
         },
         "xaxis": "x",
         "y": {
          "bdata": "AAAAAAD+AEEAAAAAQKAAQQ==",
          "dtype": "f8"
         },
         "yaxis": "y"
        },
        {
         "hovertemplate": "<b>OLS trendline</b><br>avg_salary = 2295<br>R<sup>2</sup>=0.000000<br><br>Job function=Engineering, Information Technology, and Marketing<br>months_experience=%{x}<br>avg_salary=%{y} <b>(trend)</b><extra></extra>",
         "legendgroup": "Engineering, Information Technology, and Marketing",
         "marker": {
          "color": "#19d3f3",
          "symbol": "circle"
         },
         "mode": "lines",
         "name": "Engineering, Information Technology, and Marketing",
         "showlegend": false,
         "type": "scattergl",
         "x": {
          "bdata": "AAAAAAAATkAAAAAAAABOQA==",
          "dtype": "f8"
         },
         "xaxis": "x",
         "y": {
          "bdata": "AAAAACDPAEEAAAAAIM8AQQ==",
          "dtype": "f8"
         },
         "yaxis": "y"
        },
        {
         "hovertemplate": "Job function=Marketing, Public Relations, and Writing/Editing<br>months_experience=%{x}<br>avg_salary=%{y}<extra></extra>",
         "legendgroup": "Marketing, Public Relations, and Writing/Editing",
         "marker": {
          "color": "#FF6692",
          "symbol": "circle"
         },
         "mode": "markers",
         "name": "Marketing, Public Relations, and Writing/Editing",
         "showlegend": true,
         "type": "scattergl",
         "x": {
          "bdata": "AAAAAAAAQkAAAAAAAAD4fwAAAAAAAPh/AAAAAAAA+H8AAAAAAAD4fwAAAAAAAPh/AAAAAAAA+H8AAAAAAAD4fwAAAAAAAPh/AAAAAAAA+H8AAAAAAAD4fwAAAAAAAPh/AAAAAAAA+H8AAAAAAAD4fwAAAAAAAPh/AAAAAAAA+H8AAAAAAAD4fwAAAAAAAPh/AAAAAAAA+H8AAAAAAAD4fwAAAAAAAPh/AAAAAAAA+H8AAAAAAAD4fwAAAAAAAPh/AAAAAAAA+H8AAAAAAAD4fwAAAAAAAPh/AAAAAAAA+H8AAAAAAAD4fwAAAAAAAPh/AAAAAAAA+H8AAAAAAAD4fwAAAAAAAPh/AAAAAAAA+H8AAAAAAAD4fwAAAAAAAPh/AAAAAAAA+H8AAAAAAAD4fwAAAAAAAPh/AAAAAAAA+H8=",
          "dtype": "f8"
         },
         "xaxis": "x",
         "y": {
          "bdata": "AAAAAAAA+H8AAAAAAAD4fwAAAAAAAPh/AAAAAAAA+H8AAAAAAAD4fwAAAAAAAPh/AAAAAAAA+H8AAAAAAAD4fwAAAAAAAPh/AAAAAAAA+H8AAAAAAAD4fwAAAAAAAPh/AAAAAAAA+H8AAAAAAAD4fwAAAAAAAPh/AAAAAAAA+H8AAAAAAAD4fwAAAAAAAPh/AAAAAAAA+H8AAAAAAAD4fwAAAAAAAPh/AAAAAAAA+H8AAAAAAAD4fwAAAAAAAPh/AAAAAAAA+H8AAAAAAAD4fwAAAAAAAPh/AAAAAAAA+H8AAAAAAAD4fwAAAAAAAPh/AAAAAAAA+H8AAAAAAAD4fwAAAAAAAPh/AAAAAAAA+H8AAAAAAAD4fwAAAAAAAPh/AAAAAAAA+H8AAAAAAAD4fwAAAAAAAPh/AAAAAAAA+H8=",
          "dtype": "f8"
         },
         "yaxis": "y"
        },
        {
         "hovertemplate": "Job function=Marketing, Public Relations, and Writing/Editing<extra></extra>",
         "legendgroup": "Marketing, Public Relations, and Writing/Editing",
         "marker": {
          "color": "#FF6692",
          "symbol": "circle"
         },
         "mode": "lines",
         "name": "Marketing, Public Relations, and Writing/Editing",
         "showlegend": false,
         "type": "scattergl",
         "xaxis": "x",
         "yaxis": "y"
        },
        {
         "hovertemplate": "Job function=Administrative<br>months_experience=%{x}<br>avg_salary=%{y}<extra></extra>",
         "legendgroup": "Administrative",
         "marker": {
          "color": "#B6E880",
          "symbol": "circle"
         },
         "mode": "markers",
         "name": "Administrative",
         "showlegend": true,
         "type": "scattergl",
         "x": {
          "bdata": "AAAAAAAAQkA=",
          "dtype": "f8"
         },
         "xaxis": "x",
         "y": {
          "bdata": "AAAAAAAA+H8=",
          "dtype": "f8"
         },
         "yaxis": "y"
        },
        {
         "hovertemplate": "Job function=Administrative<extra></extra>",
         "legendgroup": "Administrative",
         "marker": {
          "color": "#B6E880",
          "symbol": "circle"
         },
         "mode": "lines",
         "name": "Administrative",
         "showlegend": false,
         "type": "scattergl",
         "xaxis": "x",
         "yaxis": "y"
        },
        {
         "hovertemplate": "Job function=Marketing<br>months_experience=%{x}<br>avg_salary=%{y}<extra></extra>",
         "legendgroup": "Marketing",
         "marker": {
          "color": "#FF97FF",
          "symbol": "circle"
         },
         "mode": "markers",
         "name": "Marketing",
         "showlegend": true,
         "type": "scattergl",
         "x": {
          "bdata": "AAAAAAAAQkAAAAAAAAD4fwAAAAAAAE5A",
          "dtype": "f8"
         },
         "xaxis": "x",
         "y": {
          "bdata": "AAAAAAAA+H8AAAAAAAD4fwAAAACAhP5A",
          "dtype": "f8"
         },
         "yaxis": "y"
        },
        {
         "hovertemplate": "Job function=Marketing<extra></extra>",
         "legendgroup": "Marketing",
         "marker": {
          "color": "#FF97FF",
          "symbol": "circle"
         },
         "mode": "lines",
         "name": "Marketing",
         "showlegend": false,
         "type": "scattergl",
         "xaxis": "x",
         "yaxis": "y"
        },
        {
         "hovertemplate": "Job function=Science<br>months_experience=%{x}<br>avg_salary=%{y}<extra></extra>",
         "legendgroup": "Science",
         "marker": {
          "color": "#FECB52",
          "symbol": "circle"
         },
         "mode": "markers",
         "name": "Science",
         "showlegend": true,
         "type": "scattergl",
         "x": {
          "bdata": "AAAAAAAAOEAAAAAAAABCQAAAAAAAAEJAAAAAAAAA+H8AAAAAAABIQAAAAAAAAFhAAAAAAAAA+H8AAAAAAABYQAAAAAAAAE5AAAAAAAAAUkA=",
          "dtype": "f8"
         },
         "xaxis": "x",
         "y": {
          "bdata": "AAAAAAAA+H8AAAAAIOT5QAAAAADAiv5AAAAAAAAA+H8AAAAAAAD4fwAAAAAAAPh/AAAAAAAA+H8AAAAAAAD4fwAAAACA0/VAAAAAAAAA+H8=",
          "dtype": "f8"
         },
         "yaxis": "y"
        },
        {
         "hovertemplate": "<b>OLS trendline</b><br>avg_salary = -1090.63 * months_experience + 154838<br>R<sup>2</sup>=0.715685<br><br>Job function=Science<br>months_experience=%{x}<br>avg_salary=%{y} <b>(trend)</b><extra></extra>",
         "legendgroup": "Science",
         "marker": {
          "color": "#FECB52",
          "symbol": "circle"
         },
         "mode": "lines",
         "name": "Science",
         "showlegend": false,
         "type": "scattergl",
         "x": {
          "bdata": "AAAAAAAAQkAAAAAAAABCQAAAAAAAAE5A",
          "dtype": "f8"
         },
         "xaxis": "x",
         "y": {
          "bdata": "/f///283/ED9////bzf8QPz///9/0/VA",
          "dtype": "f8"
         },
         "yaxis": "y"
        },
        {
         "hovertemplate": "Job function=Accounting/Auditing and Finance<br>months_experience=%{x}<br>avg_salary=%{y}<extra></extra>",
         "legendgroup": "Accounting/Auditing and Finance",
         "marker": {
          "color": "#636efa",
          "symbol": "circle"
         },
         "mode": "markers",
         "name": "Accounting/Auditing and Finance",
         "showlegend": true,
         "type": "scattergl",
         "x": {
          "bdata": "AAAAAAAAVUAAAAAAAABOQAAAAAAAAE5AAAAAAAAAXkAAAAAAAAAoQA==",
          "dtype": "f8"
         },
         "xaxis": "x",
         "y": {
          "bdata": "AAAAAAAA+H8AAAAAAHH7QAAAAAAAAPh/AAAAAAAA+H8AAAAAAAD4fw==",
          "dtype": "f8"
         },
         "yaxis": "y"
        },
        {
         "hovertemplate": "Job function=Accounting/Auditing and Finance<extra></extra>",
         "legendgroup": "Accounting/Auditing and Finance",
         "marker": {
          "color": "#636efa",
          "symbol": "circle"
         },
         "mode": "lines",
         "name": "Accounting/Auditing and Finance",
         "showlegend": false,
         "type": "scattergl",
         "xaxis": "x",
         "yaxis": "y"
        },
        {
         "hovertemplate": "Job function=Product Management and Marketing<br>months_experience=%{x}<br>avg_salary=%{y}<extra></extra>",
         "legendgroup": "Product Management and Marketing",
         "marker": {
          "color": "#EF553B",
          "symbol": "circle"
         },
         "mode": "markers",
         "name": "Product Management and Marketing",
         "showlegend": true,
         "type": "scattergl",
         "x": {
          "bdata": "AAAAAAAATkAAAAAAAAD4fw==",
          "dtype": "f8"
         },
         "xaxis": "x",
         "y": {
          "bdata": "AAAAAAAA+H8AAAAAAAD4fw==",
          "dtype": "f8"
         },
         "yaxis": "y"
        },
        {
         "hovertemplate": "Job function=Product Management and Marketing<extra></extra>",
         "legendgroup": "Product Management and Marketing",
         "marker": {
          "color": "#EF553B",
          "symbol": "circle"
         },
         "mode": "lines",
         "name": "Product Management and Marketing",
         "showlegend": false,
         "type": "scattergl",
         "xaxis": "x",
         "yaxis": "y"
        },
        {
         "hovertemplate": "Job function=Analyst, Information Technology, and Engineering<br>months_experience=%{x}<br>avg_salary=%{y}<extra></extra>",
         "legendgroup": "Analyst, Information Technology, and Engineering",
         "marker": {
          "color": "#00cc96",
          "symbol": "circle"
         },
         "mode": "markers",
         "name": "Analyst, Information Technology, and Engineering",
         "showlegend": true,
         "type": "scattergl",
         "x": {
          "bdata": "AAAAAAAAWEAAAAAAAABCQA==",
          "dtype": "f8"
         },
         "xaxis": "x",
         "y": {
          "bdata": "AAAAADBUAkEAAAAAAAD4fw==",
          "dtype": "f8"
         },
         "yaxis": "y"
        },
        {
         "hovertemplate": "Job function=Analyst, Information Technology, and Engineering<extra></extra>",
         "legendgroup": "Analyst, Information Technology, and Engineering",
         "marker": {
          "color": "#00cc96",
          "symbol": "circle"
         },
         "mode": "lines",
         "name": "Analyst, Information Technology, and Engineering",
         "showlegend": false,
         "type": "scattergl",
         "xaxis": "x",
         "yaxis": "y"
        },
        {
         "hovertemplate": "Job function=Engineering, Information Technology, and Product Management<br>months_experience=%{x}<br>avg_salary=%{y}<extra></extra>",
         "legendgroup": "Engineering, Information Technology, and Product Management",
         "marker": {
          "color": "#ab63fa",
          "symbol": "circle"
         },
         "mode": "markers",
         "name": "Engineering, Information Technology, and Product Management",
         "showlegend": true,
         "type": "scattergl",
         "x": {
          "bdata": "AAAAAAAAOEA=",
          "dtype": "f8"
         },
         "xaxis": "x",
         "y": {
          "bdata": "AAAAAAAA+H8=",
          "dtype": "f8"
         },
         "yaxis": "y"
        },
        {
         "hovertemplate": "Job function=Engineering, Information Technology, and Product Management<extra></extra>",
         "legendgroup": "Engineering, Information Technology, and Product Management",
         "marker": {
          "color": "#ab63fa",
          "symbol": "circle"
         },
         "mode": "lines",
         "name": "Engineering, Information Technology, and Product Management",
         "showlegend": false,
         "type": "scattergl",
         "xaxis": "x",
         "yaxis": "y"
        },
        {
         "hovertemplate": "Job function=Research and Science<br>months_experience=%{x}<br>avg_salary=%{y}<extra></extra>",
         "legendgroup": "Research and Science",
         "marker": {
          "color": "#FFA15A",
          "symbol": "circle"
         },
         "mode": "markers",
         "name": "Research and Science",
         "showlegend": true,
         "type": "scattergl",
         "x": {
          "bdata": "AAAAAAAA+H8AAAAAAAD4fwAAAAAAAPh/AAAAAAAA+H8AAAAAAAD4fwAAAAAAAPh/AAAAAAAA+H8AAAAAAABCQAAAAAAAAFhAAAAAAAAATkAAAAAAAABOQAAAAAAAADhA",
          "dtype": "f8"
         },
         "xaxis": "x",
         "y": {
          "bdata": "AAAAAIAxB0EAAAAAgDEHQQAAAAAAAPh/AAAAAAAA+H8AAAAAAAD4fwAAAAAAAPh/AAAAAIAxB0EAAAAAAAD4fwAAAAAAAPh/AAAAAAAA+H8AAAAAAAD4fwAAAAAAAPh/",
          "dtype": "f8"
         },
         "yaxis": "y"
        },
        {
         "hovertemplate": "Job function=Research and Science<extra></extra>",
         "legendgroup": "Research and Science",
         "marker": {
          "color": "#FFA15A",
          "symbol": "circle"
         },
         "mode": "lines",
         "name": "Research and Science",
         "showlegend": false,
         "type": "scattergl",
         "xaxis": "x",
         "yaxis": "y"
        },
        {
         "hovertemplate": "Job function=Strategy/Planning and Analyst<br>months_experience=%{x}<br>avg_salary=%{y}<extra></extra>",
         "legendgroup": "Strategy/Planning and Analyst",
         "marker": {
          "color": "#19d3f3",
          "symbol": "circle"
         },
         "mode": "markers",
         "name": "Strategy/Planning and Analyst",
         "showlegend": true,
         "type": "scattergl",
         "x": {
          "bdata": "AAAAAAAATkAAAAAAAABOQAAAAAAAAFJAAAAAAAAAOEA=",
          "dtype": "f8"
         },
         "xaxis": "x",
         "y": {
          "bdata": "AAAAAAAA+H8AAAAAYAn5QAAAAAAAAPh/AAAAAAAA+H8=",
          "dtype": "f8"
         },
         "yaxis": "y"
        },
        {
         "hovertemplate": "Job function=Strategy/Planning and Analyst<extra></extra>",
         "legendgroup": "Strategy/Planning and Analyst",
         "marker": {
          "color": "#19d3f3",
          "symbol": "circle"
         },
         "mode": "lines",
         "name": "Strategy/Planning and Analyst",
         "showlegend": false,
         "type": "scattergl",
         "xaxis": "x",
         "yaxis": "y"
        },
        {
         "hovertemplate": "Job function=Education, Information Technology, and Engineering<br>months_experience=%{x}<br>avg_salary=%{y}<extra></extra>",
         "legendgroup": "Education, Information Technology, and Engineering",
         "marker": {
          "color": "#FF6692",
          "symbol": "circle"
         },
         "mode": "markers",
         "name": "Education, Information Technology, and Engineering",
         "showlegend": true,
         "type": "scattergl",
         "x": {
          "bdata": "AAAAAAAA+H8AAAAAAABIQA==",
          "dtype": "f8"
         },
         "xaxis": "x",
         "y": {
          "bdata": "AAAAAAAA+H8AAAAAAAD4fw==",
          "dtype": "f8"
         },
         "yaxis": "y"
        },
        {
         "hovertemplate": "Job function=Education, Information Technology, and Engineering<extra></extra>",
         "legendgroup": "Education, Information Technology, and Engineering",
         "marker": {
          "color": "#FF6692",
          "symbol": "circle"
         },
         "mode": "lines",
         "name": "Education, Information Technology, and Engineering",
         "showlegend": false,
         "type": "scattergl",
         "xaxis": "x",
         "yaxis": "y"
        },
        {
         "hovertemplate": "Job function=Marketing and Information Technology<br>months_experience=%{x}<br>avg_salary=%{y}<extra></extra>",
         "legendgroup": "Marketing and Information Technology",
         "marker": {
          "color": "#B6E880",
          "symbol": "circle"
         },
         "mode": "markers",
         "name": "Marketing and Information Technology",
         "showlegend": true,
         "type": "scattergl",
         "x": {
          "bdata": "AAAAAAAA+H8=",
          "dtype": "f8"
         },
         "xaxis": "x",
         "y": {
          "bdata": "AAAAAAAA+H8=",
          "dtype": "f8"
         },
         "yaxis": "y"
        },
        {
         "hovertemplate": "Job function=Marketing and Information Technology<extra></extra>",
         "legendgroup": "Marketing and Information Technology",
         "marker": {
          "color": "#B6E880",
          "symbol": "circle"
         },
         "mode": "lines",
         "name": "Marketing and Information Technology",
         "showlegend": false,
         "type": "scattergl",
         "xaxis": "x",
         "yaxis": "y"
        },
        {
         "hovertemplate": "Job function=Business Development, Information Technology, and Product Management<br>months_experience=%{x}<br>avg_salary=%{y}<extra></extra>",
         "legendgroup": "Business Development, Information Technology, and Product Management",
         "marker": {
          "color": "#FF97FF",
          "symbol": "circle"
         },
         "mode": "markers",
         "name": "Business Development, Information Technology, and Product Management",
         "showlegend": true,
         "type": "scattergl",
         "x": {
          "bdata": "AAAAAAAATkAAAAAAAABOQAAAAAAAAE5AAAAAAAAAXkAAAAAAAABOQAAAAAAAAE5A",
          "dtype": "f8"
         },
         "xaxis": "x",
         "y": {
          "bdata": "AAAAAAAA+H8AAAAAAAD4fwAAAAAAAPh/AAAAAEDg9kAAAAAAAAD4fwAAAAAAAPh/",
          "dtype": "f8"
         },
         "yaxis": "y"
        },
        {
         "hovertemplate": "Job function=Business Development, Information Technology, and Product Management<extra></extra>",
         "legendgroup": "Business Development, Information Technology, and Product Management",
         "marker": {
          "color": "#FF97FF",
          "symbol": "circle"
         },
         "mode": "lines",
         "name": "Business Development, Information Technology, and Product Management",
         "showlegend": false,
         "type": "scattergl",
         "xaxis": "x",
         "yaxis": "y"
        },
        {
         "hovertemplate": "Job function=General Business, Analyst, and Information Technology<br>months_experience=%{x}<br>avg_salary=%{y}<extra></extra>",
         "legendgroup": "General Business, Analyst, and Information Technology",
         "marker": {
          "color": "#FECB52",
          "symbol": "circle"
         },
         "mode": "markers",
         "name": "General Business, Analyst, and Information Technology",
         "showlegend": true,
         "type": "scattergl",
         "x": {
          "bdata": "AAAAAAAATkAAAAAAAABOQA==",
          "dtype": "f8"
         },
         "xaxis": "x",
         "y": {
          "bdata": "AAAAAAAA+H8AAAAAAAD4fw==",
          "dtype": "f8"
         },
         "yaxis": "y"
        },
        {
         "hovertemplate": "Job function=General Business, Analyst, and Information Technology<extra></extra>",
         "legendgroup": "General Business, Analyst, and Information Technology",
         "marker": {
          "color": "#FECB52",
          "symbol": "circle"
         },
         "mode": "lines",
         "name": "General Business, Analyst, and Information Technology",
         "showlegend": false,
         "type": "scattergl",
         "xaxis": "x",
         "yaxis": "y"
        },
        {
         "hovertemplate": "Job function=Strategy/Planning, Engineering, and Analyst<br>months_experience=%{x}<br>avg_salary=%{y}<extra></extra>",
         "legendgroup": "Strategy/Planning, Engineering, and Analyst",
         "marker": {
          "color": "#636efa",
          "symbol": "circle"
         },
         "mode": "markers",
         "name": "Strategy/Planning, Engineering, and Analyst",
         "showlegend": true,
         "type": "scattergl",
         "x": {
          "bdata": "AAAAAAAAOEA=",
          "dtype": "f8"
         },
         "xaxis": "x",
         "y": {
          "bdata": "AAAAAAAA+H8=",
          "dtype": "f8"
         },
         "yaxis": "y"
        },
        {
         "hovertemplate": "Job function=Strategy/Planning, Engineering, and Analyst<extra></extra>",
         "legendgroup": "Strategy/Planning, Engineering, and Analyst",
         "marker": {
          "color": "#636efa",
          "symbol": "circle"
         },
         "mode": "lines",
         "name": "Strategy/Planning, Engineering, and Analyst",
         "showlegend": false,
         "type": "scattergl",
         "xaxis": "x",
         "yaxis": "y"
        },
        {
         "hovertemplate": "Job function=Engineering, Design, and Science<br>months_experience=%{x}<br>avg_salary=%{y}<extra></extra>",
         "legendgroup": "Engineering, Design, and Science",
         "marker": {
          "color": "#EF553B",
          "symbol": "circle"
         },
         "mode": "markers",
         "name": "Engineering, Design, and Science",
         "showlegend": true,
         "type": "scattergl",
         "x": {
          "bdata": "AAAAAAAA+H8=",
          "dtype": "f8"
         },
         "xaxis": "x",
         "y": {
          "bdata": "AAAAAAAA+H8=",
          "dtype": "f8"
         },
         "yaxis": "y"
        },
        {
         "hovertemplate": "Job function=Engineering, Design, and Science<extra></extra>",
         "legendgroup": "Engineering, Design, and Science",
         "marker": {
          "color": "#EF553B",
          "symbol": "circle"
         },
         "mode": "lines",
         "name": "Engineering, Design, and Science",
         "showlegend": false,
         "type": "scattergl",
         "xaxis": "x",
         "yaxis": "y"
        },
        {
         "hovertemplate": "Job function=Engineering, Analyst, and Science<br>months_experience=%{x}<br>avg_salary=%{y}<extra></extra>",
         "legendgroup": "Engineering, Analyst, and Science",
         "marker": {
          "color": "#00cc96",
          "symbol": "circle"
         },
         "mode": "markers",
         "name": "Engineering, Analyst, and Science",
         "showlegend": true,
         "type": "scattergl",
         "x": {
          "bdata": "AAAAAAAAKEA=",
          "dtype": "f8"
         },
         "xaxis": "x",
         "y": {
          "bdata": "AAAAAAAA+H8=",
          "dtype": "f8"
         },
         "yaxis": "y"
        },
        {
         "hovertemplate": "Job function=Engineering, Analyst, and Science<extra></extra>",
         "legendgroup": "Engineering, Analyst, and Science",
         "marker": {
          "color": "#00cc96",
          "symbol": "circle"
         },
         "mode": "lines",
         "name": "Engineering, Analyst, and Science",
         "showlegend": false,
         "type": "scattergl",
         "xaxis": "x",
         "yaxis": "y"
        },
        {
         "hovertemplate": "Job function=Information Technology, Science, and Research<br>months_experience=%{x}<br>avg_salary=%{y}<extra></extra>",
         "legendgroup": "Information Technology, Science, and Research",
         "marker": {
          "color": "#ab63fa",
          "symbol": "circle"
         },
         "mode": "markers",
         "name": "Information Technology, Science, and Research",
         "showlegend": true,
         "type": "scattergl",
         "x": {
          "bdata": "AAAAAAAA+H8=",
          "dtype": "f8"
         },
         "xaxis": "x",
         "y": {
          "bdata": "AAAAAAAA+H8=",
          "dtype": "f8"
         },
         "yaxis": "y"
        },
        {
         "hovertemplate": "Job function=Information Technology, Science, and Research<extra></extra>",
         "legendgroup": "Information Technology, Science, and Research",
         "marker": {
          "color": "#ab63fa",
          "symbol": "circle"
         },
         "mode": "lines",
         "name": "Information Technology, Science, and Research",
         "showlegend": false,
         "type": "scattergl",
         "xaxis": "x",
         "yaxis": "y"
        },
        {
         "hovertemplate": "Job function=Product Management, Supply Chain, and Customer Service<br>months_experience=%{x}<br>avg_salary=%{y}<extra></extra>",
         "legendgroup": "Product Management, Supply Chain, and Customer Service",
         "marker": {
          "color": "#FFA15A",
          "symbol": "circle"
         },
         "mode": "markers",
         "name": "Product Management, Supply Chain, and Customer Service",
         "showlegend": true,
         "type": "scattergl",
         "x": {
          "bdata": "AAAAAAAA+H8=",
          "dtype": "f8"
         },
         "xaxis": "x",
         "y": {
          "bdata": "AAAAAABqCEE=",
          "dtype": "f8"
         },
         "yaxis": "y"
        },
        {
         "hovertemplate": "Job function=Product Management, Supply Chain, and Customer Service<extra></extra>",
         "legendgroup": "Product Management, Supply Chain, and Customer Service",
         "marker": {
          "color": "#FFA15A",
          "symbol": "circle"
         },
         "mode": "lines",
         "name": "Product Management, Supply Chain, and Customer Service",
         "showlegend": false,
         "type": "scattergl",
         "xaxis": "x",
         "yaxis": "y"
        },
        {
         "hovertemplate": "Job function=Finance and Research<br>months_experience=%{x}<br>avg_salary=%{y}<extra></extra>",
         "legendgroup": "Finance and Research",
         "marker": {
          "color": "#19d3f3",
          "symbol": "circle"
         },
         "mode": "markers",
         "name": "Finance and Research",
         "showlegend": true,
         "type": "scattergl",
         "x": {
          "bdata": "AAAAAAAA+H8=",
          "dtype": "f8"
         },
         "xaxis": "x",
         "y": {
          "bdata": "AAAAAEB3C0E=",
          "dtype": "f8"
         },
         "yaxis": "y"
        },
        {
         "hovertemplate": "Job function=Finance and Research<extra></extra>",
         "legendgroup": "Finance and Research",
         "marker": {
          "color": "#19d3f3",
          "symbol": "circle"
         },
         "mode": "lines",
         "name": "Finance and Research",
         "showlegend": false,
         "type": "scattergl",
         "xaxis": "x",
         "yaxis": "y"
        },
        {
         "hovertemplate": "Job function=Information Technology, Analyst, and Marketing<br>months_experience=%{x}<br>avg_salary=%{y}<extra></extra>",
         "legendgroup": "Information Technology, Analyst, and Marketing",
         "marker": {
          "color": "#FF6692",
          "symbol": "circle"
         },
         "mode": "markers",
         "name": "Information Technology, Analyst, and Marketing",
         "showlegend": true,
         "type": "scattergl",
         "x": {
          "bdata": "AAAAAAAAOEA=",
          "dtype": "f8"
         },
         "xaxis": "x",
         "y": {
          "bdata": "AAAAAAAA+H8=",
          "dtype": "f8"
         },
         "yaxis": "y"
        },
        {
         "hovertemplate": "Job function=Information Technology, Analyst, and Marketing<extra></extra>",
         "legendgroup": "Information Technology, Analyst, and Marketing",
         "marker": {
          "color": "#FF6692",
          "symbol": "circle"
         },
         "mode": "lines",
         "name": "Information Technology, Analyst, and Marketing",
         "showlegend": false,
         "type": "scattergl",
         "xaxis": "x",
         "yaxis": "y"
        },
        {
         "hovertemplate": "Job function=Science, Health Care Provider, and Information Technology<br>months_experience=%{x}<br>avg_salary=%{y}<extra></extra>",
         "legendgroup": "Science, Health Care Provider, and Information Technology",
         "marker": {
          "color": "#B6E880",
          "symbol": "circle"
         },
         "mode": "markers",
         "name": "Science, Health Care Provider, and Information Technology",
         "showlegend": true,
         "type": "scattergl",
         "x": {
          "bdata": "AAAAAAAAOEA=",
          "dtype": "f8"
         },
         "xaxis": "x",
         "y": {
          "bdata": "AAAAAGBT9UA=",
          "dtype": "f8"
         },
         "yaxis": "y"
        },
        {
         "hovertemplate": "Job function=Science, Health Care Provider, and Information Technology<extra></extra>",
         "legendgroup": "Science, Health Care Provider, and Information Technology",
         "marker": {
          "color": "#B6E880",
          "symbol": "circle"
         },
         "mode": "lines",
         "name": "Science, Health Care Provider, and Information Technology",
         "showlegend": false,
         "type": "scattergl",
         "xaxis": "x",
         "yaxis": "y"
        },
        {
         "hovertemplate": "Job function=Finance, Information Technology, and Engineering<br>months_experience=%{x}<br>avg_salary=%{y}<extra></extra>",
         "legendgroup": "Finance, Information Technology, and Engineering",
         "marker": {
          "color": "#FF97FF",
          "symbol": "circle"
         },
         "mode": "markers",
         "name": "Finance, Information Technology, and Engineering",
         "showlegend": true,
         "type": "scattergl",
         "x": {
          "bdata": "AAAAAAAAOEA=",
          "dtype": "f8"
         },
         "xaxis": "x",
         "y": {
          "bdata": "AAAAAAAA+H8=",
          "dtype": "f8"
         },
         "yaxis": "y"
        },
        {
         "hovertemplate": "Job function=Finance, Information Technology, and Engineering<extra></extra>",
         "legendgroup": "Finance, Information Technology, and Engineering",
         "marker": {
          "color": "#FF97FF",
          "symbol": "circle"
         },
         "mode": "lines",
         "name": "Finance, Information Technology, and Engineering",
         "showlegend": false,
         "type": "scattergl",
         "xaxis": "x",
         "yaxis": "y"
        },
        {
         "hovertemplate": "Job function=Information Technology, Consulting, and Other<br>months_experience=%{x}<br>avg_salary=%{y}<extra></extra>",
         "legendgroup": "Information Technology, Consulting, and Other",
         "marker": {
          "color": "#FECB52",
          "symbol": "circle"
         },
         "mode": "markers",
         "name": "Information Technology, Consulting, and Other",
         "showlegend": true,
         "type": "scattergl",
         "x": {
          "bdata": "AAAAAAAAOEA=",
          "dtype": "f8"
         },
         "xaxis": "x",
         "y": {
          "bdata": "AAAAAADO80A=",
          "dtype": "f8"
         },
         "yaxis": "y"
        },
        {
         "hovertemplate": "Job function=Information Technology, Consulting, and Other<extra></extra>",
         "legendgroup": "Information Technology, Consulting, and Other",
         "marker": {
          "color": "#FECB52",
          "symbol": "circle"
         },
         "mode": "lines",
         "name": "Information Technology, Consulting, and Other",
         "showlegend": false,
         "type": "scattergl",
         "xaxis": "x",
         "yaxis": "y"
        },
        {
         "hovertemplate": "Job function=Information Technology and Research<br>months_experience=%{x}<br>avg_salary=%{y}<extra></extra>",
         "legendgroup": "Information Technology and Research",
         "marker": {
          "color": "#636efa",
          "symbol": "circle"
         },
         "mode": "markers",
         "name": "Information Technology and Research",
         "showlegend": true,
         "type": "scattergl",
         "x": {
          "bdata": "AAAAAAAA+H8AAAAAAAD4fwAAAAAAAFVA",
          "dtype": "f8"
         },
         "xaxis": "x",
         "y": {
          "bdata": "AAAAAAAA+H8AAAAAAAD4fwAAAAAAAPh/",
          "dtype": "f8"
         },
         "yaxis": "y"
        },
        {
         "hovertemplate": "Job function=Information Technology and Research<extra></extra>",
         "legendgroup": "Information Technology and Research",
         "marker": {
          "color": "#636efa",
          "symbol": "circle"
         },
         "mode": "lines",
         "name": "Information Technology and Research",
         "showlegend": false,
         "type": "scattergl",
         "xaxis": "x",
         "yaxis": "y"
        },
        {
         "hovertemplate": "Job function=Analyst and Engineering<br>months_experience=%{x}<br>avg_salary=%{y}<extra></extra>",
         "legendgroup": "Analyst and Engineering",
         "marker": {
          "color": "#EF553B",
          "symbol": "circle"
         },
         "mode": "markers",
         "name": "Analyst and Engineering",
         "showlegend": true,
         "type": "scattergl",
         "x": {
          "bdata": "AAAAAAAA+H8AAAAAAAAoQA==",
          "dtype": "f8"
         },
         "xaxis": "x",
         "y": {
          "bdata": "AAAAAAAA+H8AAAAAAAD4fw==",
          "dtype": "f8"
         },
         "yaxis": "y"
        },
        {
         "hovertemplate": "Job function=Analyst and Engineering<extra></extra>",
         "legendgroup": "Analyst and Engineering",
         "marker": {
          "color": "#EF553B",
          "symbol": "circle"
         },
         "mode": "lines",
         "name": "Analyst and Engineering",
         "showlegend": false,
         "type": "scattergl",
         "xaxis": "x",
         "yaxis": "y"
        },
        {
         "hovertemplate": "Job function=Health Care Provider<br>months_experience=%{x}<br>avg_salary=%{y}<extra></extra>",
         "legendgroup": "Health Care Provider",
         "marker": {
          "color": "#00cc96",
          "symbol": "circle"
         },
         "mode": "markers",
         "name": "Health Care Provider",
         "showlegend": true,
         "type": "scattergl",
         "x": {
          "bdata": "AAAAAAAATkAAAAAAAABIQAAAAAAAAPh/AAAAAAAAKEAAAAAAAAD4fwAAAAAAAPh/AAAAAAAAQkAAAAAAAABeQAAAAAAAAPh/AAAAAAAA+H8AAAAAAAD4fw==",
          "dtype": "f8"
         },
         "xaxis": "x",
         "y": {
          "bdata": "AAAAAECU8kAAAAAAwKPuQAAAAAAAAPh/AAAAAAAA+H8AAAAAAAD4fwAAAAAAAPh/AAAAAKAI9kAAAAAAAAD4fwAAAAAAAPh/AAAAAAAA+H8AAAAAAAD4fw==",
          "dtype": "f8"
         },
         "yaxis": "y"
        },
        {
         "hovertemplate": "<b>OLS trendline</b><br>avg_salary = -589.583 * months_experience + 104667<br>R<sup>2</sup>=0.264682<br><br>Job function=Health Care Provider<br>months_experience=%{x}<br>avg_salary=%{y} <b>(trend)</b><extra></extra>",
         "legendgroup": "Health Care Provider",
         "marker": {
          "color": "#00cc96",
          "symbol": "circle"
         },
         "mode": "lines",
         "name": "Health Care Provider",
         "showlegend": false,
         "type": "scattergl",
         "x": {
          "bdata": "AAAAAAAAQkAAAAAAAABIQAAAAAAAAE5A",
          "dtype": "f8"
         },
         "xaxis": "x",
         "y": {
          "bdata": "rqqqqhpf9ECtqqqq6qTyQKyqqqq66vBA",
          "dtype": "f8"
         },
         "yaxis": "y"
        },
        {
         "hovertemplate": "Job function=Engineering, Information Technology, and Quality Assurance<br>months_experience=%{x}<br>avg_salary=%{y}<extra></extra>",
         "legendgroup": "Engineering, Information Technology, and Quality Assurance",
         "marker": {
          "color": "#ab63fa",
          "symbol": "circle"
         },
         "mode": "markers",
         "name": "Engineering, Information Technology, and Quality Assurance",
         "showlegend": true,
         "type": "scattergl",
         "x": {
          "bdata": "AAAAAAAATkAAAAAAAABCQA==",
          "dtype": "f8"
         },
         "xaxis": "x",
         "y": {
          "bdata": "AAAAAAAA+H8AAAAAAAD4fw==",
          "dtype": "f8"
         },
         "yaxis": "y"
        },
        {
         "hovertemplate": "Job function=Engineering, Information Technology, and Quality Assurance<extra></extra>",
         "legendgroup": "Engineering, Information Technology, and Quality Assurance",
         "marker": {
          "color": "#ab63fa",
          "symbol": "circle"
         },
         "mode": "lines",
         "name": "Engineering, Information Technology, and Quality Assurance",
         "showlegend": false,
         "type": "scattergl",
         "xaxis": "x",
         "yaxis": "y"
        },
        {
         "hovertemplate": "Job function=Information Technology, Engineering, and Administrative<br>months_experience=%{x}<br>avg_salary=%{y}<extra></extra>",
         "legendgroup": "Information Technology, Engineering, and Administrative",
         "marker": {
          "color": "#FFA15A",
          "symbol": "circle"
         },
         "mode": "markers",
         "name": "Information Technology, Engineering, and Administrative",
         "showlegend": true,
         "type": "scattergl",
         "x": {
          "bdata": "AAAAAAAA+H8AAAAAAAD4fw==",
          "dtype": "f8"
         },
         "xaxis": "x",
         "y": {
          "bdata": "AAAAAAAA+H8AAAAAAAD4fw==",
          "dtype": "f8"
         },
         "yaxis": "y"
        },
        {
         "hovertemplate": "Job function=Information Technology, Engineering, and Administrative<extra></extra>",
         "legendgroup": "Information Technology, Engineering, and Administrative",
         "marker": {
          "color": "#FFA15A",
          "symbol": "circle"
         },
         "mode": "lines",
         "name": "Information Technology, Engineering, and Administrative",
         "showlegend": false,
         "type": "scattergl",
         "xaxis": "x",
         "yaxis": "y"
        },
        {
         "hovertemplate": "Job function=Marketing, Advertising, and Analyst<br>months_experience=%{x}<br>avg_salary=%{y}<extra></extra>",
         "legendgroup": "Marketing, Advertising, and Analyst",
         "marker": {
          "color": "#19d3f3",
          "symbol": "circle"
         },
         "mode": "markers",
         "name": "Marketing, Advertising, and Analyst",
         "showlegend": true,
         "type": "scattergl",
         "x": {
          "bdata": "AAAAAAAA+H8=",
          "dtype": "f8"
         },
         "xaxis": "x",
         "y": {
          "bdata": "AAAAAAAA+H8=",
          "dtype": "f8"
         },
         "yaxis": "y"
        },
        {
         "hovertemplate": "Job function=Marketing, Advertising, and Analyst<extra></extra>",
         "legendgroup": "Marketing, Advertising, and Analyst",
         "marker": {
          "color": "#19d3f3",
          "symbol": "circle"
         },
         "mode": "lines",
         "name": "Marketing, Advertising, and Analyst",
         "showlegend": false,
         "type": "scattergl",
         "xaxis": "x",
         "yaxis": "y"
        },
        {
         "hovertemplate": "Job function=Advertising, Public Relations, and Marketing<br>months_experience=%{x}<br>avg_salary=%{y}<extra></extra>",
         "legendgroup": "Advertising, Public Relations, and Marketing",
         "marker": {
          "color": "#FF6692",
          "symbol": "circle"
         },
         "mode": "markers",
         "name": "Advertising, Public Relations, and Marketing",
         "showlegend": true,
         "type": "scattergl",
         "x": {
          "bdata": "AAAAAAAAQkA=",
          "dtype": "f8"
         },
         "xaxis": "x",
         "y": {
          "bdata": "AAAAAAAA+H8=",
          "dtype": "f8"
         },
         "yaxis": "y"
        },
        {
         "hovertemplate": "Job function=Advertising, Public Relations, and Marketing<extra></extra>",
         "legendgroup": "Advertising, Public Relations, and Marketing",
         "marker": {
          "color": "#FF6692",
          "symbol": "circle"
         },
         "mode": "lines",
         "name": "Advertising, Public Relations, and Marketing",
         "showlegend": false,
         "type": "scattergl",
         "xaxis": "x",
         "yaxis": "y"
        },
        {
         "hovertemplate": "Job function=Human Resources and Information Technology<br>months_experience=%{x}<br>avg_salary=%{y}<extra></extra>",
         "legendgroup": "Human Resources and Information Technology",
         "marker": {
          "color": "#B6E880",
          "symbol": "circle"
         },
         "mode": "markers",
         "name": "Human Resources and Information Technology",
         "showlegend": true,
         "type": "scattergl",
         "x": {
          "bdata": "AAAAAAAATkA=",
          "dtype": "f8"
         },
         "xaxis": "x",
         "y": {
          "bdata": "AAAAAKDW9UA=",
          "dtype": "f8"
         },
         "yaxis": "y"
        },
        {
         "hovertemplate": "Job function=Human Resources and Information Technology<extra></extra>",
         "legendgroup": "Human Resources and Information Technology",
         "marker": {
          "color": "#B6E880",
          "symbol": "circle"
         },
         "mode": "lines",
         "name": "Human Resources and Information Technology",
         "showlegend": false,
         "type": "scattergl",
         "xaxis": "x",
         "yaxis": "y"
        },
        {
         "hovertemplate": "Job function=Design and Information Technology<br>months_experience=%{x}<br>avg_salary=%{y}<extra></extra>",
         "legendgroup": "Design and Information Technology",
         "marker": {
          "color": "#FF97FF",
          "symbol": "circle"
         },
         "mode": "markers",
         "name": "Design and Information Technology",
         "showlegend": true,
         "type": "scattergl",
         "x": {
          "bdata": "AAAAAAAA+H8AAAAAAAD4fwAAAAAAAGJAAAAAAAAAYkAAAAAAAABiQA==",
          "dtype": "f8"
         },
         "xaxis": "x",
         "y": {
          "bdata": "AAAAAAAA+H8AAAAAAAD4fwAAAAAAAPh/AAAAAAAA+H8AAAAAAAD4fw==",
          "dtype": "f8"
         },
         "yaxis": "y"
        },
        {
         "hovertemplate": "Job function=Design and Information Technology<extra></extra>",
         "legendgroup": "Design and Information Technology",
         "marker": {
          "color": "#FF97FF",
          "symbol": "circle"
         },
         "mode": "lines",
         "name": "Design and Information Technology",
         "showlegend": false,
         "type": "scattergl",
         "xaxis": "x",
         "yaxis": "y"
        },
        {
         "hovertemplate": "Job function=Engineering, Manufacturing, and Information Technology<br>months_experience=%{x}<br>avg_salary=%{y}<extra></extra>",
         "legendgroup": "Engineering, Manufacturing, and Information Technology",
         "marker": {
          "color": "#FECB52",
          "symbol": "circle"
         },
         "mode": "markers",
         "name": "Engineering, Manufacturing, and Information Technology",
         "showlegend": true,
         "type": "scattergl",
         "x": {
          "bdata": "AAAAAAAAQkA=",
          "dtype": "f8"
         },
         "xaxis": "x",
         "y": {
          "bdata": "AAAAAAAA+H8=",
          "dtype": "f8"
         },
         "yaxis": "y"
        },
        {
         "hovertemplate": "Job function=Engineering, Manufacturing, and Information Technology<extra></extra>",
         "legendgroup": "Engineering, Manufacturing, and Information Technology",
         "marker": {
          "color": "#FECB52",
          "symbol": "circle"
         },
         "mode": "lines",
         "name": "Engineering, Manufacturing, and Information Technology",
         "showlegend": false,
         "type": "scattergl",
         "xaxis": "x",
         "yaxis": "y"
        },
        {
         "hovertemplate": "Job function=Project Management, Science, and Engineering<br>months_experience=%{x}<br>avg_salary=%{y}<extra></extra>",
         "legendgroup": "Project Management, Science, and Engineering",
         "marker": {
          "color": "#636efa",
          "symbol": "circle"
         },
         "mode": "markers",
         "name": "Project Management, Science, and Engineering",
         "showlegend": true,
         "type": "scattergl",
         "x": {
          "bdata": "AAAAAAAAXkA=",
          "dtype": "f8"
         },
         "xaxis": "x",
         "y": {
          "bdata": "AAAAAAAA+H8=",
          "dtype": "f8"
         },
         "yaxis": "y"
        },
        {
         "hovertemplate": "Job function=Project Management, Science, and Engineering<extra></extra>",
         "legendgroup": "Project Management, Science, and Engineering",
         "marker": {
          "color": "#636efa",
          "symbol": "circle"
         },
         "mode": "lines",
         "name": "Project Management, Science, and Engineering",
         "showlegend": false,
         "type": "scattergl",
         "xaxis": "x",
         "yaxis": "y"
        },
        {
         "hovertemplate": "Job function=Science, Research, and Engineering<br>months_experience=%{x}<br>avg_salary=%{y}<extra></extra>",
         "legendgroup": "Science, Research, and Engineering",
         "marker": {
          "color": "#EF553B",
          "symbol": "circle"
         },
         "mode": "markers",
         "name": "Science, Research, and Engineering",
         "showlegend": true,
         "type": "scattergl",
         "x": {
          "bdata": "AAAAAAAA+H8=",
          "dtype": "f8"
         },
         "xaxis": "x",
         "y": {
          "bdata": "AAAAAAAA+H8=",
          "dtype": "f8"
         },
         "yaxis": "y"
        },
        {
         "hovertemplate": "Job function=Science, Research, and Engineering<extra></extra>",
         "legendgroup": "Science, Research, and Engineering",
         "marker": {
          "color": "#EF553B",
          "symbol": "circle"
         },
         "mode": "lines",
         "name": "Science, Research, and Engineering",
         "showlegend": false,
         "type": "scattergl",
         "xaxis": "x",
         "yaxis": "y"
        },
        {
         "hovertemplate": "Job function=Customer Service<br>months_experience=%{x}<br>avg_salary=%{y}<extra></extra>",
         "legendgroup": "Customer Service",
         "marker": {
          "color": "#00cc96",
          "symbol": "circle"
         },
         "mode": "markers",
         "name": "Customer Service",
         "showlegend": true,
         "type": "scattergl",
         "x": {
          "bdata": "AAAAAAAATkAAAAAAAABOQAAAAAAAAE5AAAAAAAAATkAAAAAAAABOQAAAAAAAAE5AAAAAAAAATkAAAAAAAABOQAAAAAAAAE5AAAAAAAAATkAAAAAAAABOQAAAAAAAAE5AAAAAAAAATkAAAAAAAABOQAAAAAAAAE5AAAAAAAAATkAAAAAAAABOQAAAAAAAAE5AAAAAAAAATkAAAAAAAABOQAAAAAAAAE5AAAAAAAAATkAAAAAAAABOQAAAAAAAAE5AAAAAAAAATkAAAAAAAABOQA==",
          "dtype": "f8"
         },
         "xaxis": "x",
         "y": {
          "bdata": "AAAAAAAA+H8AAAAAAAD4fwAAAAAAAPh/AAAAAMDn+0AAAAAAAAD4fwAAAAAgpvtAAAAAAAAA+H8AAAAAAAD4fwAAAAAAAPh/AAAAAAAA+H8AAAAAAAD4fwAAAAAAAPh/AAAAAAAA+H8AAAAAAAD4fwAAAACgSPxAAAAAAAAA+H8AAAAAAAD4fwAAAAAAAPh/AAAAAAAA+H8AAAAAAAD4fwAAAAAAAPh/AAAAAECQ+0AAAAAAoBz7QAAAAAAAAPh/AAAAAAAA+H8AAAAAAAD4fw==",
          "dtype": "f8"
         },
         "yaxis": "y"
        },
        {
         "hovertemplate": "<b>OLS trendline</b><br>avg_salary = 1891.17<br>R<sup>2</sup>=0.000000<br><br>Job function=Customer Service<br>months_experience=%{x}<br>avg_salary=%{y} <b>(trend)</b><extra></extra>",
         "legendgroup": "Customer Service",
         "marker": {
          "color": "#00cc96",
          "symbol": "circle"
         },
         "mode": "lines",
         "name": "Customer Service",
         "showlegend": false,
         "type": "scattergl",
         "x": {
          "bdata": "AAAAAAAATkAAAAAAAABOQAAAAAAAAE5AAAAAAAAATkAAAAAAAABOQA==",
          "dtype": "f8"
         },
         "xaxis": "x",
         "y": {
          "bdata": "/v///9+z+0D+////37P7QP7////fs/tA/v///9+z+0D+////37P7QA==",
          "dtype": "f8"
         },
         "yaxis": "y"
        },
        {
         "hovertemplate": "Job function=Information Technology, Accounting/Auditing, and Administrative<br>months_experience=%{x}<br>avg_salary=%{y}<extra></extra>",
         "legendgroup": "Information Technology, Accounting/Auditing, and Administrative",
         "marker": {
          "color": "#ab63fa",
          "symbol": "circle"
         },
         "mode": "markers",
         "name": "Information Technology, Accounting/Auditing, and Administrative",
         "showlegend": true,
         "type": "scattergl",
         "x": {
          "bdata": "AAAAAAAATkA=",
          "dtype": "f8"
         },
         "xaxis": "x",
         "y": {
          "bdata": "AAAAAAAA+H8=",
          "dtype": "f8"
         },
         "yaxis": "y"
        },
        {
         "hovertemplate": "Job function=Information Technology, Accounting/Auditing, and Administrative<extra></extra>",
         "legendgroup": "Information Technology, Accounting/Auditing, and Administrative",
         "marker": {
          "color": "#ab63fa",
          "symbol": "circle"
         },
         "mode": "lines",
         "name": "Information Technology, Accounting/Auditing, and Administrative",
         "showlegend": false,
         "type": "scattergl",
         "xaxis": "x",
         "yaxis": "y"
        },
        {
         "hovertemplate": "Job function=Management and Analyst<br>months_experience=%{x}<br>avg_salary=%{y}<extra></extra>",
         "legendgroup": "Management and Analyst",
         "marker": {
          "color": "#FFA15A",
          "symbol": "circle"
         },
         "mode": "markers",
         "name": "Management and Analyst",
         "showlegend": true,
         "type": "scattergl",
         "x": {
          "bdata": "AAAAAAAAKEA=",
          "dtype": "f8"
         },
         "xaxis": "x",
         "y": {
          "bdata": "AAAAAAAA+H8=",
          "dtype": "f8"
         },
         "yaxis": "y"
        },
        {
         "hovertemplate": "Job function=Management and Analyst<extra></extra>",
         "legendgroup": "Management and Analyst",
         "marker": {
          "color": "#FFA15A",
          "symbol": "circle"
         },
         "mode": "lines",
         "name": "Management and Analyst",
         "showlegend": false,
         "type": "scattergl",
         "xaxis": "x",
         "yaxis": "y"
        },
        {
         "hovertemplate": "Job function=Information Technology, Engineering, and Finance<br>months_experience=%{x}<br>avg_salary=%{y}<extra></extra>",
         "legendgroup": "Information Technology, Engineering, and Finance",
         "marker": {
          "color": "#19d3f3",
          "symbol": "circle"
         },
         "mode": "markers",
         "name": "Information Technology, Engineering, and Finance",
         "showlegend": true,
         "type": "scattergl",
         "x": {
          "bdata": "AAAAAAAAOEA=",
          "dtype": "f8"
         },
         "xaxis": "x",
         "y": {
          "bdata": "AAAAAAAA+H8=",
          "dtype": "f8"
         },
         "yaxis": "y"
        },
        {
         "hovertemplate": "Job function=Information Technology, Engineering, and Finance<extra></extra>",
         "legendgroup": "Information Technology, Engineering, and Finance",
         "marker": {
          "color": "#19d3f3",
          "symbol": "circle"
         },
         "mode": "lines",
         "name": "Information Technology, Engineering, and Finance",
         "showlegend": false,
         "type": "scattergl",
         "xaxis": "x",
         "yaxis": "y"
        },
        {
         "hovertemplate": "Job function=Information Technology, Business Development, and Engineering<br>months_experience=%{x}<br>avg_salary=%{y}<extra></extra>",
         "legendgroup": "Information Technology, Business Development, and Engineering",
         "marker": {
          "color": "#FF6692",
          "symbol": "circle"
         },
         "mode": "markers",
         "name": "Information Technology, Business Development, and Engineering",
         "showlegend": true,
         "type": "scattergl",
         "x": {
          "bdata": "AAAAAAAAQkAAAAAAAAA4QA==",
          "dtype": "f8"
         },
         "xaxis": "x",
         "y": {
          "bdata": "AAAAAAAA+H8AAAAAAAD4fw==",
          "dtype": "f8"
         },
         "yaxis": "y"
        },
        {
         "hovertemplate": "Job function=Information Technology, Business Development, and Engineering<extra></extra>",
         "legendgroup": "Information Technology, Business Development, and Engineering",
         "marker": {
          "color": "#FF6692",
          "symbol": "circle"
         },
         "mode": "lines",
         "name": "Information Technology, Business Development, and Engineering",
         "showlegend": false,
         "type": "scattergl",
         "xaxis": "x",
         "yaxis": "y"
        },
        {
         "hovertemplate": "Job function=Information Technology, Strategy/Planning, and Marketing<br>months_experience=%{x}<br>avg_salary=%{y}<extra></extra>",
         "legendgroup": "Information Technology, Strategy/Planning, and Marketing",
         "marker": {
          "color": "#B6E880",
          "symbol": "circle"
         },
         "mode": "markers",
         "name": "Information Technology, Strategy/Planning, and Marketing",
         "showlegend": true,
         "type": "scattergl",
         "x": {
          "bdata": "AAAAAAAATkA=",
          "dtype": "f8"
         },
         "xaxis": "x",
         "y": {
          "bdata": "AAAAAAAA+H8=",
          "dtype": "f8"
         },
         "yaxis": "y"
        },
        {
         "hovertemplate": "Job function=Information Technology, Strategy/Planning, and Marketing<extra></extra>",
         "legendgroup": "Information Technology, Strategy/Planning, and Marketing",
         "marker": {
          "color": "#B6E880",
          "symbol": "circle"
         },
         "mode": "lines",
         "name": "Information Technology, Strategy/Planning, and Marketing",
         "showlegend": false,
         "type": "scattergl",
         "xaxis": "x",
         "yaxis": "y"
        },
        {
         "hovertemplate": "Job function=Manufacturing and Engineering<br>months_experience=%{x}<br>avg_salary=%{y}<extra></extra>",
         "legendgroup": "Manufacturing and Engineering",
         "marker": {
          "color": "#FF97FF",
          "symbol": "circle"
         },
         "mode": "markers",
         "name": "Manufacturing and Engineering",
         "showlegend": true,
         "type": "scattergl",
         "x": {
          "bdata": "AAAAAAAAQkA=",
          "dtype": "f8"
         },
         "xaxis": "x",
         "y": {
          "bdata": "AAAAAAAA+H8=",
          "dtype": "f8"
         },
         "yaxis": "y"
        },
        {
         "hovertemplate": "Job function=Manufacturing and Engineering<extra></extra>",
         "legendgroup": "Manufacturing and Engineering",
         "marker": {
          "color": "#FF97FF",
          "symbol": "circle"
         },
         "mode": "lines",
         "name": "Manufacturing and Engineering",
         "showlegend": false,
         "type": "scattergl",
         "xaxis": "x",
         "yaxis": "y"
        },
        {
         "hovertemplate": "Job function=Engineering, Information Technology, and Management<br>months_experience=%{x}<br>avg_salary=%{y}<extra></extra>",
         "legendgroup": "Engineering, Information Technology, and Management",
         "marker": {
          "color": "#FECB52",
          "symbol": "circle"
         },
         "mode": "markers",
         "name": "Engineering, Information Technology, and Management",
         "showlegend": true,
         "type": "scattergl",
         "x": {
          "bdata": "AAAAAAAATkAAAAAAAAD4fw==",
          "dtype": "f8"
         },
         "xaxis": "x",
         "y": {
          "bdata": "AAAAAAAA+H8AAAAAAAD4fw==",
          "dtype": "f8"
         },
         "yaxis": "y"
        },
        {
         "hovertemplate": "Job function=Engineering, Information Technology, and Management<extra></extra>",
         "legendgroup": "Engineering, Information Technology, and Management",
         "marker": {
          "color": "#FECB52",
          "symbol": "circle"
         },
         "mode": "lines",
         "name": "Engineering, Information Technology, and Management",
         "showlegend": false,
         "type": "scattergl",
         "xaxis": "x",
         "yaxis": "y"
        },
        {
         "hovertemplate": "Job function=Sales and Business Development<br>months_experience=%{x}<br>avg_salary=%{y}<extra></extra>",
         "legendgroup": "Sales and Business Development",
         "marker": {
          "color": "#636efa",
          "symbol": "circle"
         },
         "mode": "markers",
         "name": "Sales and Business Development",
         "showlegend": true,
         "type": "scattergl",
         "x": {
          "bdata": "AAAAAAAAVUAAAAAAAAD4fwAAAAAAAE5AAAAAAAAAWEAAAAAAAAAoQA==",
          "dtype": "f8"
         },
         "xaxis": "x",
         "y": {
          "bdata": "AAAAACAD+UAAAAAAAAD4fwAAAAAAAPh/AAAAAAAA+H8AAAAAAAD4fw==",
          "dtype": "f8"
         },
         "yaxis": "y"
        },
        {
         "hovertemplate": "Job function=Sales and Business Development<extra></extra>",
         "legendgroup": "Sales and Business Development",
         "marker": {
          "color": "#636efa",
          "symbol": "circle"
         },
         "mode": "lines",
         "name": "Sales and Business Development",
         "showlegend": false,
         "type": "scattergl",
         "xaxis": "x",
         "yaxis": "y"
        },
        {
         "hovertemplate": "Job function=Analyst and Administrative<br>months_experience=%{x}<br>avg_salary=%{y}<extra></extra>",
         "legendgroup": "Analyst and Administrative",
         "marker": {
          "color": "#EF553B",
          "symbol": "circle"
         },
         "mode": "markers",
         "name": "Analyst and Administrative",
         "showlegend": true,
         "type": "scattergl",
         "x": {
          "bdata": "AAAAAAAA+H8=",
          "dtype": "f8"
         },
         "xaxis": "x",
         "y": {
          "bdata": "AAAAAIBPAkE=",
          "dtype": "f8"
         },
         "yaxis": "y"
        },
        {
         "hovertemplate": "Job function=Analyst and Administrative<extra></extra>",
         "legendgroup": "Analyst and Administrative",
         "marker": {
          "color": "#EF553B",
          "symbol": "circle"
         },
         "mode": "lines",
         "name": "Analyst and Administrative",
         "showlegend": false,
         "type": "scattergl",
         "xaxis": "x",
         "yaxis": "y"
        },
        {
         "hovertemplate": "Job function=Finance and Information Technology<br>months_experience=%{x}<br>avg_salary=%{y}<extra></extra>",
         "legendgroup": "Finance and Information Technology",
         "marker": {
          "color": "#00cc96",
          "symbol": "circle"
         },
         "mode": "markers",
         "name": "Finance and Information Technology",
         "showlegend": true,
         "type": "scattergl",
         "x": {
          "bdata": "AAAAAAAAXkAAAAAAAABOQA==",
          "dtype": "f8"
         },
         "xaxis": "x",
         "y": {
          "bdata": "AAAAAMDNB0EAAAAAAAD4fw==",
          "dtype": "f8"
         },
         "yaxis": "y"
        },
        {
         "hovertemplate": "Job function=Finance and Information Technology<extra></extra>",
         "legendgroup": "Finance and Information Technology",
         "marker": {
          "color": "#00cc96",
          "symbol": "circle"
         },
         "mode": "lines",
         "name": "Finance and Information Technology",
         "showlegend": false,
         "type": "scattergl",
         "xaxis": "x",
         "yaxis": "y"
        },
        {
         "hovertemplate": "Job function=Information Technology and Analyst<br>months_experience=%{x}<br>avg_salary=%{y}<extra></extra>",
         "legendgroup": "Information Technology and Analyst",
         "marker": {
          "color": "#ab63fa",
          "symbol": "circle"
         },
         "mode": "markers",
         "name": "Information Technology and Analyst",
         "showlegend": true,
         "type": "scattergl",
         "x": {
          "bdata": "AAAAAAAAQkA=",
          "dtype": "f8"
         },
         "xaxis": "x",
         "y": {
          "bdata": "AAAAAAAA+H8=",
          "dtype": "f8"
         },
         "yaxis": "y"
        },
        {
         "hovertemplate": "Job function=Information Technology and Analyst<extra></extra>",
         "legendgroup": "Information Technology and Analyst",
         "marker": {
          "color": "#ab63fa",
          "symbol": "circle"
         },
         "mode": "lines",
         "name": "Information Technology and Analyst",
         "showlegend": false,
         "type": "scattergl",
         "xaxis": "x",
         "yaxis": "y"
        },
        {
         "hovertemplate": "Job function=Health Care Provider and Engineering<br>months_experience=%{x}<br>avg_salary=%{y}<extra></extra>",
         "legendgroup": "Health Care Provider and Engineering",
         "marker": {
          "color": "#FFA15A",
          "symbol": "circle"
         },
         "mode": "markers",
         "name": "Health Care Provider and Engineering",
         "showlegend": true,
         "type": "scattergl",
         "x": {
          "bdata": "AAAAAAAA+H8=",
          "dtype": "f8"
         },
         "xaxis": "x",
         "y": {
          "bdata": "AAAAAMDrAkE=",
          "dtype": "f8"
         },
         "yaxis": "y"
        },
        {
         "hovertemplate": "Job function=Health Care Provider and Engineering<extra></extra>",
         "legendgroup": "Health Care Provider and Engineering",
         "marker": {
          "color": "#FFA15A",
          "symbol": "circle"
         },
         "mode": "lines",
         "name": "Health Care Provider and Engineering",
         "showlegend": false,
         "type": "scattergl",
         "xaxis": "x",
         "yaxis": "y"
        },
        {
         "hovertemplate": "Job function=Information Technology, Quality Assurance, and Engineering<br>months_experience=%{x}<br>avg_salary=%{y}<extra></extra>",
         "legendgroup": "Information Technology, Quality Assurance, and Engineering",
         "marker": {
          "color": "#19d3f3",
          "symbol": "circle"
         },
         "mode": "markers",
         "name": "Information Technology, Quality Assurance, and Engineering",
         "showlegend": true,
         "type": "scattergl",
         "x": {
          "bdata": "AAAAAAAASEA=",
          "dtype": "f8"
         },
         "xaxis": "x",
         "y": {
          "bdata": "AAAAAAAA+H8=",
          "dtype": "f8"
         },
         "yaxis": "y"
        },
        {
         "hovertemplate": "Job function=Information Technology, Quality Assurance, and Engineering<extra></extra>",
         "legendgroup": "Information Technology, Quality Assurance, and Engineering",
         "marker": {
          "color": "#19d3f3",
          "symbol": "circle"
         },
         "mode": "lines",
         "name": "Information Technology, Quality Assurance, and Engineering",
         "showlegend": false,
         "type": "scattergl",
         "xaxis": "x",
         "yaxis": "y"
        },
        {
         "hovertemplate": "Job function=Administrative, Customer Service, and General Business<br>months_experience=%{x}<br>avg_salary=%{y}<extra></extra>",
         "legendgroup": "Administrative, Customer Service, and General Business",
         "marker": {
          "color": "#FF6692",
          "symbol": "circle"
         },
         "mode": "markers",
         "name": "Administrative, Customer Service, and General Business",
         "showlegend": true,
         "type": "scattergl",
         "x": {
          "bdata": "AAAAAAAA+H8=",
          "dtype": "f8"
         },
         "xaxis": "x",
         "y": {
          "bdata": "AAAAAAAA+H8=",
          "dtype": "f8"
         },
         "yaxis": "y"
        },
        {
         "hovertemplate": "Job function=Administrative, Customer Service, and General Business<extra></extra>",
         "legendgroup": "Administrative, Customer Service, and General Business",
         "marker": {
          "color": "#FF6692",
          "symbol": "circle"
         },
         "mode": "lines",
         "name": "Administrative, Customer Service, and General Business",
         "showlegend": false,
         "type": "scattergl",
         "xaxis": "x",
         "yaxis": "y"
        },
        {
         "hovertemplate": "Job function=Sales, Design, and Customer Service<br>months_experience=%{x}<br>avg_salary=%{y}<extra></extra>",
         "legendgroup": "Sales, Design, and Customer Service",
         "marker": {
          "color": "#B6E880",
          "symbol": "circle"
         },
         "mode": "markers",
         "name": "Sales, Design, and Customer Service",
         "showlegend": true,
         "type": "scattergl",
         "x": {
          "bdata": "AAAAAAAA+H8=",
          "dtype": "f8"
         },
         "xaxis": "x",
         "y": {
          "bdata": "AAAAAAAA+H8=",
          "dtype": "f8"
         },
         "yaxis": "y"
        },
        {
         "hovertemplate": "Job function=Sales, Design, and Customer Service<extra></extra>",
         "legendgroup": "Sales, Design, and Customer Service",
         "marker": {
          "color": "#B6E880",
          "symbol": "circle"
         },
         "mode": "lines",
         "name": "Sales, Design, and Customer Service",
         "showlegend": false,
         "type": "scattergl",
         "xaxis": "x",
         "yaxis": "y"
        },
        {
         "hovertemplate": "Job function=Information Technology, Research, and Analyst<br>months_experience=%{x}<br>avg_salary=%{y}<extra></extra>",
         "legendgroup": "Information Technology, Research, and Analyst",
         "marker": {
          "color": "#FF97FF",
          "symbol": "circle"
         },
         "mode": "markers",
         "name": "Information Technology, Research, and Analyst",
         "showlegend": true,
         "type": "scattergl",
         "x": {
          "bdata": "AAAAAAAASEA=",
          "dtype": "f8"
         },
         "xaxis": "x",
         "y": {
          "bdata": "AAAAAOBH+UA=",
          "dtype": "f8"
         },
         "yaxis": "y"
        },
        {
         "hovertemplate": "Job function=Information Technology, Research, and Analyst<extra></extra>",
         "legendgroup": "Information Technology, Research, and Analyst",
         "marker": {
          "color": "#FF97FF",
          "symbol": "circle"
         },
         "mode": "lines",
         "name": "Information Technology, Research, and Analyst",
         "showlegend": false,
         "type": "scattergl",
         "xaxis": "x",
         "yaxis": "y"
        },
        {
         "hovertemplate": "Job function=Information Technology, Analyst, and Consulting<br>months_experience=%{x}<br>avg_salary=%{y}<extra></extra>",
         "legendgroup": "Information Technology, Analyst, and Consulting",
         "marker": {
          "color": "#FECB52",
          "symbol": "circle"
         },
         "mode": "markers",
         "name": "Information Technology, Analyst, and Consulting",
         "showlegend": true,
         "type": "scattergl",
         "x": {
          "bdata": "AAAAAAAA+H8AAAAAAABCQA==",
          "dtype": "f8"
         },
         "xaxis": "x",
         "y": {
          "bdata": "AAAAAAAA+H8AAAAAADP9QA==",
          "dtype": "f8"
         },
         "yaxis": "y"
        },
        {
         "hovertemplate": "Job function=Information Technology, Analyst, and Consulting<extra></extra>",
         "legendgroup": "Information Technology, Analyst, and Consulting",
         "marker": {
          "color": "#FECB52",
          "symbol": "circle"
         },
         "mode": "lines",
         "name": "Information Technology, Analyst, and Consulting",
         "showlegend": false,
         "type": "scattergl",
         "xaxis": "x",
         "yaxis": "y"
        },
        {
         "hovertemplate": "Job function=Information Technology and Science<br>months_experience=%{x}<br>avg_salary=%{y}<extra></extra>",
         "legendgroup": "Information Technology and Science",
         "marker": {
          "color": "#636efa",
          "symbol": "circle"
         },
         "mode": "markers",
         "name": "Information Technology and Science",
         "showlegend": true,
         "type": "scattergl",
         "x": {
          "bdata": "AAAAAAAAQkA=",
          "dtype": "f8"
         },
         "xaxis": "x",
         "y": {
          "bdata": "AAAAAAAXAUE=",
          "dtype": "f8"
         },
         "yaxis": "y"
        },
        {
         "hovertemplate": "Job function=Information Technology and Science<extra></extra>",
         "legendgroup": "Information Technology and Science",
         "marker": {
          "color": "#636efa",
          "symbol": "circle"
         },
         "mode": "lines",
         "name": "Information Technology and Science",
         "showlegend": false,
         "type": "scattergl",
         "xaxis": "x",
         "yaxis": "y"
        },
        {
         "hovertemplate": "Job function=Engineering, Information Technology, and Production<br>months_experience=%{x}<br>avg_salary=%{y}<extra></extra>",
         "legendgroup": "Engineering, Information Technology, and Production",
         "marker": {
          "color": "#EF553B",
          "symbol": "circle"
         },
         "mode": "markers",
         "name": "Engineering, Information Technology, and Production",
         "showlegend": true,
         "type": "scattergl",
         "x": {
          "bdata": "AAAAAAAATkA=",
          "dtype": "f8"
         },
         "xaxis": "x",
         "y": {
          "bdata": "AAAAAAAA+H8=",
          "dtype": "f8"
         },
         "yaxis": "y"
        },
        {
         "hovertemplate": "Job function=Engineering, Information Technology, and Production<extra></extra>",
         "legendgroup": "Engineering, Information Technology, and Production",
         "marker": {
          "color": "#EF553B",
          "symbol": "circle"
         },
         "mode": "lines",
         "name": "Engineering, Information Technology, and Production",
         "showlegend": false,
         "type": "scattergl",
         "xaxis": "x",
         "yaxis": "y"
        },
        {
         "hovertemplate": "Job function=Management and Project Management<br>months_experience=%{x}<br>avg_salary=%{y}<extra></extra>",
         "legendgroup": "Management and Project Management",
         "marker": {
          "color": "#00cc96",
          "symbol": "circle"
         },
         "mode": "markers",
         "name": "Management and Project Management",
         "showlegend": true,
         "type": "scattergl",
         "x": {
          "bdata": "AAAAAAAAVUA=",
          "dtype": "f8"
         },
         "xaxis": "x",
         "y": {
          "bdata": "AAAAAIBoAkE=",
          "dtype": "f8"
         },
         "yaxis": "y"
        },
        {
         "hovertemplate": "Job function=Management and Project Management<extra></extra>",
         "legendgroup": "Management and Project Management",
         "marker": {
          "color": "#00cc96",
          "symbol": "circle"
         },
         "mode": "lines",
         "name": "Management and Project Management",
         "showlegend": false,
         "type": "scattergl",
         "xaxis": "x",
         "yaxis": "y"
        },
        {
         "hovertemplate": "Job function=Engineering and Manufacturing<br>months_experience=%{x}<br>avg_salary=%{y}<extra></extra>",
         "legendgroup": "Engineering and Manufacturing",
         "marker": {
          "color": "#ab63fa",
          "symbol": "circle"
         },
         "mode": "markers",
         "name": "Engineering and Manufacturing",
         "showlegend": true,
         "type": "scattergl",
         "x": {
          "bdata": "AAAAAAAAOEAAAAAAAAD4fw==",
          "dtype": "f8"
         },
         "xaxis": "x",
         "y": {
          "bdata": "AAAAAAAA+H8AAAAAAAD4fw==",
          "dtype": "f8"
         },
         "yaxis": "y"
        },
        {
         "hovertemplate": "Job function=Engineering and Manufacturing<extra></extra>",
         "legendgroup": "Engineering and Manufacturing",
         "marker": {
          "color": "#ab63fa",
          "symbol": "circle"
         },
         "mode": "lines",
         "name": "Engineering and Manufacturing",
         "showlegend": false,
         "type": "scattergl",
         "xaxis": "x",
         "yaxis": "y"
        },
        {
         "hovertemplate": "Job function=Other, Information Technology, and Engineering<br>months_experience=%{x}<br>avg_salary=%{y}<extra></extra>",
         "legendgroup": "Other, Information Technology, and Engineering",
         "marker": {
          "color": "#FFA15A",
          "symbol": "circle"
         },
         "mode": "markers",
         "name": "Other, Information Technology, and Engineering",
         "showlegend": true,
         "type": "scattergl",
         "x": {
          "bdata": "AAAAAAAA+H8=",
          "dtype": "f8"
         },
         "xaxis": "x",
         "y": {
          "bdata": "AAAAAAAA+H8=",
          "dtype": "f8"
         },
         "yaxis": "y"
        },
        {
         "hovertemplate": "Job function=Other, Information Technology, and Engineering<extra></extra>",
         "legendgroup": "Other, Information Technology, and Engineering",
         "marker": {
          "color": "#FFA15A",
          "symbol": "circle"
         },
         "mode": "lines",
         "name": "Other, Information Technology, and Engineering",
         "showlegend": false,
         "type": "scattergl",
         "xaxis": "x",
         "yaxis": "y"
        },
        {
         "hovertemplate": "Job function=Consulting and Engineering<br>months_experience=%{x}<br>avg_salary=%{y}<extra></extra>",
         "legendgroup": "Consulting and Engineering",
         "marker": {
          "color": "#19d3f3",
          "symbol": "circle"
         },
         "mode": "markers",
         "name": "Consulting and Engineering",
         "showlegend": true,
         "type": "scattergl",
         "x": {
          "bdata": "AAAAAAAATkA=",
          "dtype": "f8"
         },
         "xaxis": "x",
         "y": {
          "bdata": "AAAAAAAA+H8=",
          "dtype": "f8"
         },
         "yaxis": "y"
        },
        {
         "hovertemplate": "Job function=Consulting and Engineering<extra></extra>",
         "legendgroup": "Consulting and Engineering",
         "marker": {
          "color": "#19d3f3",
          "symbol": "circle"
         },
         "mode": "lines",
         "name": "Consulting and Engineering",
         "showlegend": false,
         "type": "scattergl",
         "xaxis": "x",
         "yaxis": "y"
        },
        {
         "hovertemplate": "Job function=Information Technology, Marketing, and Engineering<br>months_experience=%{x}<br>avg_salary=%{y}<extra></extra>",
         "legendgroup": "Information Technology, Marketing, and Engineering",
         "marker": {
          "color": "#FF6692",
          "symbol": "circle"
         },
         "mode": "markers",
         "name": "Information Technology, Marketing, and Engineering",
         "showlegend": true,
         "type": "scattergl",
         "x": {
          "bdata": "AAAAAAAA+H8=",
          "dtype": "f8"
         },
         "xaxis": "x",
         "y": {
          "bdata": "AAAAAAAA+H8=",
          "dtype": "f8"
         },
         "yaxis": "y"
        },
        {
         "hovertemplate": "Job function=Information Technology, Marketing, and Engineering<extra></extra>",
         "legendgroup": "Information Technology, Marketing, and Engineering",
         "marker": {
          "color": "#FF6692",
          "symbol": "circle"
         },
         "mode": "lines",
         "name": "Information Technology, Marketing, and Engineering",
         "showlegend": false,
         "type": "scattergl",
         "xaxis": "x",
         "yaxis": "y"
        },
        {
         "hovertemplate": "Job function=Information Technology, Consulting, and Finance<br>months_experience=%{x}<br>avg_salary=%{y}<extra></extra>",
         "legendgroup": "Information Technology, Consulting, and Finance",
         "marker": {
          "color": "#B6E880",
          "symbol": "circle"
         },
         "mode": "markers",
         "name": "Information Technology, Consulting, and Finance",
         "showlegend": true,
         "type": "scattergl",
         "x": {
          "bdata": "AAAAAAAA+H8=",
          "dtype": "f8"
         },
         "xaxis": "x",
         "y": {
          "bdata": "AAAAAAAA+H8=",
          "dtype": "f8"
         },
         "yaxis": "y"
        },
        {
         "hovertemplate": "Job function=Information Technology, Consulting, and Finance<extra></extra>",
         "legendgroup": "Information Technology, Consulting, and Finance",
         "marker": {
          "color": "#B6E880",
          "symbol": "circle"
         },
         "mode": "lines",
         "name": "Information Technology, Consulting, and Finance",
         "showlegend": false,
         "type": "scattergl",
         "xaxis": "x",
         "yaxis": "y"
        },
        {
         "hovertemplate": "Job function=Sales, Information Technology, and Engineering<br>months_experience=%{x}<br>avg_salary=%{y}<extra></extra>",
         "legendgroup": "Sales, Information Technology, and Engineering",
         "marker": {
          "color": "#FF97FF",
          "symbol": "circle"
         },
         "mode": "markers",
         "name": "Sales, Information Technology, and Engineering",
         "showlegend": true,
         "type": "scattergl",
         "x": {
          "bdata": "AAAAAAAATkA=",
          "dtype": "f8"
         },
         "xaxis": "x",
         "y": {
          "bdata": "AAAAAAAA+H8=",
          "dtype": "f8"
         },
         "yaxis": "y"
        },
        {
         "hovertemplate": "Job function=Sales, Information Technology, and Engineering<extra></extra>",
         "legendgroup": "Sales, Information Technology, and Engineering",
         "marker": {
          "color": "#FF97FF",
          "symbol": "circle"
         },
         "mode": "lines",
         "name": "Sales, Information Technology, and Engineering",
         "showlegend": false,
         "type": "scattergl",
         "xaxis": "x",
         "yaxis": "y"
        },
        {
         "hovertemplate": "Job function=Business Development, Customer Service, and Sales<br>months_experience=%{x}<br>avg_salary=%{y}<extra></extra>",
         "legendgroup": "Business Development, Customer Service, and Sales",
         "marker": {
          "color": "#FECB52",
          "symbol": "circle"
         },
         "mode": "markers",
         "name": "Business Development, Customer Service, and Sales",
         "showlegend": true,
         "type": "scattergl",
         "x": {
          "bdata": "AAAAAAAAOEA=",
          "dtype": "f8"
         },
         "xaxis": "x",
         "y": {
          "bdata": "AAAAAAAA+H8=",
          "dtype": "f8"
         },
         "yaxis": "y"
        },
        {
         "hovertemplate": "Job function=Business Development, Customer Service, and Sales<extra></extra>",
         "legendgroup": "Business Development, Customer Service, and Sales",
         "marker": {
          "color": "#FECB52",
          "symbol": "circle"
         },
         "mode": "lines",
         "name": "Business Development, Customer Service, and Sales",
         "showlegend": false,
         "type": "scattergl",
         "xaxis": "x",
         "yaxis": "y"
        },
        {
         "hovertemplate": "Job function=Engineering, Analyst, and Other<br>months_experience=%{x}<br>avg_salary=%{y}<extra></extra>",
         "legendgroup": "Engineering, Analyst, and Other",
         "marker": {
          "color": "#636efa",
          "symbol": "circle"
         },
         "mode": "markers",
         "name": "Engineering, Analyst, and Other",
         "showlegend": true,
         "type": "scattergl",
         "x": {
          "bdata": "AAAAAAAA+H8=",
          "dtype": "f8"
         },
         "xaxis": "x",
         "y": {
          "bdata": "AAAAAIDABEE=",
          "dtype": "f8"
         },
         "yaxis": "y"
        },
        {
         "hovertemplate": "Job function=Engineering, Analyst, and Other<extra></extra>",
         "legendgroup": "Engineering, Analyst, and Other",
         "marker": {
          "color": "#636efa",
          "symbol": "circle"
         },
         "mode": "lines",
         "name": "Engineering, Analyst, and Other",
         "showlegend": false,
         "type": "scattergl",
         "xaxis": "x",
         "yaxis": "y"
        },
        {
         "hovertemplate": "Job function=Analyst and Marketing<br>months_experience=%{x}<br>avg_salary=%{y}<extra></extra>",
         "legendgroup": "Analyst and Marketing",
         "marker": {
          "color": "#EF553B",
          "symbol": "circle"
         },
         "mode": "markers",
         "name": "Analyst and Marketing",
         "showlegend": true,
         "type": "scattergl",
         "x": {
          "bdata": "AAAAAAAASEA=",
          "dtype": "f8"
         },
         "xaxis": "x",
         "y": {
          "bdata": "AAAAAAAA+H8=",
          "dtype": "f8"
         },
         "yaxis": "y"
        },
        {
         "hovertemplate": "Job function=Analyst and Marketing<extra></extra>",
         "legendgroup": "Analyst and Marketing",
         "marker": {
          "color": "#EF553B",
          "symbol": "circle"
         },
         "mode": "lines",
         "name": "Analyst and Marketing",
         "showlegend": false,
         "type": "scattergl",
         "xaxis": "x",
         "yaxis": "y"
        },
        {
         "hovertemplate": "Job function=Consulting<br>months_experience=%{x}<br>avg_salary=%{y}<extra></extra>",
         "legendgroup": "Consulting",
         "marker": {
          "color": "#00cc96",
          "symbol": "circle"
         },
         "mode": "markers",
         "name": "Consulting",
         "showlegend": true,
         "type": "scattergl",
         "x": {
          "bdata": "AAAAAAAASEAAAAAAAAD4fw==",
          "dtype": "f8"
         },
         "xaxis": "x",
         "y": {
          "bdata": "AAAAAAAA+H8AAAAAAAD4fw==",
          "dtype": "f8"
         },
         "yaxis": "y"
        },
        {
         "hovertemplate": "Job function=Consulting<extra></extra>",
         "legendgroup": "Consulting",
         "marker": {
          "color": "#00cc96",
          "symbol": "circle"
         },
         "mode": "lines",
         "name": "Consulting",
         "showlegend": false,
         "type": "scattergl",
         "xaxis": "x",
         "yaxis": "y"
        },
        {
         "hovertemplate": "Job function=Analyst and Science<br>months_experience=%{x}<br>avg_salary=%{y}<extra></extra>",
         "legendgroup": "Analyst and Science",
         "marker": {
          "color": "#ab63fa",
          "symbol": "circle"
         },
         "mode": "markers",
         "name": "Analyst and Science",
         "showlegend": true,
         "type": "scattergl",
         "x": {
          "bdata": "AAAAAAAATkA=",
          "dtype": "f8"
         },
         "xaxis": "x",
         "y": {
          "bdata": "AAAAAAAA+H8=",
          "dtype": "f8"
         },
         "yaxis": "y"
        },
        {
         "hovertemplate": "Job function=Analyst and Science<extra></extra>",
         "legendgroup": "Analyst and Science",
         "marker": {
          "color": "#ab63fa",
          "symbol": "circle"
         },
         "mode": "lines",
         "name": "Analyst and Science",
         "showlegend": false,
         "type": "scattergl",
         "xaxis": "x",
         "yaxis": "y"
        },
        {
         "hovertemplate": "Job function=Administrative, General Business, and Management<br>months_experience=%{x}<br>avg_salary=%{y}<extra></extra>",
         "legendgroup": "Administrative, General Business, and Management",
         "marker": {
          "color": "#FFA15A",
          "symbol": "circle"
         },
         "mode": "markers",
         "name": "Administrative, General Business, and Management",
         "showlegend": true,
         "type": "scattergl",
         "x": {
          "bdata": "AAAAAAAA+H8=",
          "dtype": "f8"
         },
         "xaxis": "x",
         "y": {
          "bdata": "AAAAAMD38EA=",
          "dtype": "f8"
         },
         "yaxis": "y"
        },
        {
         "hovertemplate": "Job function=Administrative, General Business, and Management<extra></extra>",
         "legendgroup": "Administrative, General Business, and Management",
         "marker": {
          "color": "#FFA15A",
          "symbol": "circle"
         },
         "mode": "lines",
         "name": "Administrative, General Business, and Management",
         "showlegend": false,
         "type": "scattergl",
         "xaxis": "x",
         "yaxis": "y"
        },
        {
         "hovertemplate": "Job function=Management and Information Technology<br>months_experience=%{x}<br>avg_salary=%{y}<extra></extra>",
         "legendgroup": "Management and Information Technology",
         "marker": {
          "color": "#19d3f3",
          "symbol": "circle"
         },
         "mode": "markers",
         "name": "Management and Information Technology",
         "showlegend": true,
         "type": "scattergl",
         "x": {
          "bdata": "AAAAAAAATkA=",
          "dtype": "f8"
         },
         "xaxis": "x",
         "y": {
          "bdata": "AAAAAAAA+H8=",
          "dtype": "f8"
         },
         "yaxis": "y"
        },
        {
         "hovertemplate": "Job function=Management and Information Technology<extra></extra>",
         "legendgroup": "Management and Information Technology",
         "marker": {
          "color": "#19d3f3",
          "symbol": "circle"
         },
         "mode": "lines",
         "name": "Management and Information Technology",
         "showlegend": false,
         "type": "scattergl",
         "xaxis": "x",
         "yaxis": "y"
        },
        {
         "hovertemplate": "Job function=Education, Research, and Science<br>months_experience=%{x}<br>avg_salary=%{y}<extra></extra>",
         "legendgroup": "Education, Research, and Science",
         "marker": {
          "color": "#FF6692",
          "symbol": "circle"
         },
         "mode": "markers",
         "name": "Education, Research, and Science",
         "showlegend": true,
         "type": "scattergl",
         "x": {
          "bdata": "AAAAAAAA+H8=",
          "dtype": "f8"
         },
         "xaxis": "x",
         "y": {
          "bdata": "AAAAAAAA+H8=",
          "dtype": "f8"
         },
         "yaxis": "y"
        },
        {
         "hovertemplate": "Job function=Education, Research, and Science<extra></extra>",
         "legendgroup": "Education, Research, and Science",
         "marker": {
          "color": "#FF6692",
          "symbol": "circle"
         },
         "mode": "lines",
         "name": "Education, Research, and Science",
         "showlegend": false,
         "type": "scattergl",
         "xaxis": "x",
         "yaxis": "y"
        },
        {
         "hovertemplate": "Job function=Project Management, Consulting, and Customer Service<br>months_experience=%{x}<br>avg_salary=%{y}<extra></extra>",
         "legendgroup": "Project Management, Consulting, and Customer Service",
         "marker": {
          "color": "#B6E880",
          "symbol": "circle"
         },
         "mode": "markers",
         "name": "Project Management, Consulting, and Customer Service",
         "showlegend": true,
         "type": "scattergl",
         "x": {
          "bdata": "AAAAAAAATkA=",
          "dtype": "f8"
         },
         "xaxis": "x",
         "y": {
          "bdata": "AAAAAAAA+H8=",
          "dtype": "f8"
         },
         "yaxis": "y"
        },
        {
         "hovertemplate": "Job function=Project Management, Consulting, and Customer Service<extra></extra>",
         "legendgroup": "Project Management, Consulting, and Customer Service",
         "marker": {
          "color": "#B6E880",
          "symbol": "circle"
         },
         "mode": "lines",
         "name": "Project Management, Consulting, and Customer Service",
         "showlegend": false,
         "type": "scattergl",
         "xaxis": "x",
         "yaxis": "y"
        },
        {
         "hovertemplate": "Job function=Purchasing and Supply Chain<br>months_experience=%{x}<br>avg_salary=%{y}<extra></extra>",
         "legendgroup": "Purchasing and Supply Chain",
         "marker": {
          "color": "#FF97FF",
          "symbol": "circle"
         },
         "mode": "markers",
         "name": "Purchasing and Supply Chain",
         "showlegend": true,
         "type": "scattergl",
         "x": {
          "bdata": "AAAAAAAATkA=",
          "dtype": "f8"
         },
         "xaxis": "x",
         "y": {
          "bdata": "AAAAAACa8EA=",
          "dtype": "f8"
         },
         "yaxis": "y"
        },
        {
         "hovertemplate": "Job function=Purchasing and Supply Chain<extra></extra>",
         "legendgroup": "Purchasing and Supply Chain",
         "marker": {
          "color": "#FF97FF",
          "symbol": "circle"
         },
         "mode": "lines",
         "name": "Purchasing and Supply Chain",
         "showlegend": false,
         "type": "scattergl",
         "xaxis": "x",
         "yaxis": "y"
        },
        {
         "hovertemplate": "Job function=Management<br>months_experience=%{x}<br>avg_salary=%{y}<extra></extra>",
         "legendgroup": "Management",
         "marker": {
          "color": "#FECB52",
          "symbol": "circle"
         },
         "mode": "markers",
         "name": "Management",
         "showlegend": true,
         "type": "scattergl",
         "x": {
          "bdata": "AAAAAAAA+H8=",
          "dtype": "f8"
         },
         "xaxis": "x",
         "y": {
          "bdata": "AAAAAAAA+H8=",
          "dtype": "f8"
         },
         "yaxis": "y"
        },
        {
         "hovertemplate": "Job function=Management<extra></extra>",
         "legendgroup": "Management",
         "marker": {
          "color": "#FECB52",
          "symbol": "circle"
         },
         "mode": "lines",
         "name": "Management",
         "showlegend": false,
         "type": "scattergl",
         "xaxis": "x",
         "yaxis": "y"
        },
        {
         "hovertemplate": "Job function=Art/Creative, Design, and Project Management<br>months_experience=%{x}<br>avg_salary=%{y}<extra></extra>",
         "legendgroup": "Art/Creative, Design, and Project Management",
         "marker": {
          "color": "#636efa",
          "symbol": "circle"
         },
         "mode": "markers",
         "name": "Art/Creative, Design, and Project Management",
         "showlegend": true,
         "type": "scattergl",
         "x": {
          "bdata": "AAAAAAAAWEA=",
          "dtype": "f8"
         },
         "xaxis": "x",
         "y": {
          "bdata": "AAAAAAAA+H8=",
          "dtype": "f8"
         },
         "yaxis": "y"
        },
        {
         "hovertemplate": "Job function=Art/Creative, Design, and Project Management<extra></extra>",
         "legendgroup": "Art/Creative, Design, and Project Management",
         "marker": {
          "color": "#636efa",
          "symbol": "circle"
         },
         "mode": "lines",
         "name": "Art/Creative, Design, and Project Management",
         "showlegend": false,
         "type": "scattergl",
         "xaxis": "x",
         "yaxis": "y"
        },
        {
         "hovertemplate": "Job function=Information Technology, Design, and Engineering<br>months_experience=%{x}<br>avg_salary=%{y}<extra></extra>",
         "legendgroup": "Information Technology, Design, and Engineering",
         "marker": {
          "color": "#EF553B",
          "symbol": "circle"
         },
         "mode": "markers",
         "name": "Information Technology, Design, and Engineering",
         "showlegend": true,
         "type": "scattergl",
         "x": {
          "bdata": "AAAAAAAATkA=",
          "dtype": "f8"
         },
         "xaxis": "x",
         "y": {
          "bdata": "AAAAAAAA+H8=",
          "dtype": "f8"
         },
         "yaxis": "y"
        },
        {
         "hovertemplate": "Job function=Information Technology, Design, and Engineering<extra></extra>",
         "legendgroup": "Information Technology, Design, and Engineering",
         "marker": {
          "color": "#EF553B",
          "symbol": "circle"
         },
         "mode": "lines",
         "name": "Information Technology, Design, and Engineering",
         "showlegend": false,
         "type": "scattergl",
         "xaxis": "x",
         "yaxis": "y"
        },
        {
         "hovertemplate": "Job function=Customer Service, Information Technology, and Sales<br>months_experience=%{x}<br>avg_salary=%{y}<extra></extra>",
         "legendgroup": "Customer Service, Information Technology, and Sales",
         "marker": {
          "color": "#00cc96",
          "symbol": "circle"
         },
         "mode": "markers",
         "name": "Customer Service, Information Technology, and Sales",
         "showlegend": true,
         "type": "scattergl",
         "x": {
          "bdata": "AAAAAAAA+H8=",
          "dtype": "f8"
         },
         "xaxis": "x",
         "y": {
          "bdata": "AAAAAAAA+H8=",
          "dtype": "f8"
         },
         "yaxis": "y"
        },
        {
         "hovertemplate": "Job function=Customer Service, Information Technology, and Sales<extra></extra>",
         "legendgroup": "Customer Service, Information Technology, and Sales",
         "marker": {
          "color": "#00cc96",
          "symbol": "circle"
         },
         "mode": "lines",
         "name": "Customer Service, Information Technology, and Sales",
         "showlegend": false,
         "type": "scattergl",
         "xaxis": "x",
         "yaxis": "y"
        },
        {
         "hovertemplate": "Job function=Engineering and Product Management<br>months_experience=%{x}<br>avg_salary=%{y}<extra></extra>",
         "legendgroup": "Engineering and Product Management",
         "marker": {
          "color": "#ab63fa",
          "symbol": "circle"
         },
         "mode": "markers",
         "name": "Engineering and Product Management",
         "showlegend": true,
         "type": "scattergl",
         "x": {
          "bdata": "AAAAAAAASEA=",
          "dtype": "f8"
         },
         "xaxis": "x",
         "y": {
          "bdata": "AAAAAECb9UA=",
          "dtype": "f8"
         },
         "yaxis": "y"
        },
        {
         "hovertemplate": "Job function=Engineering and Product Management<extra></extra>",
         "legendgroup": "Engineering and Product Management",
         "marker": {
          "color": "#ab63fa",
          "symbol": "circle"
         },
         "mode": "lines",
         "name": "Engineering and Product Management",
         "showlegend": false,
         "type": "scattergl",
         "xaxis": "x",
         "yaxis": "y"
        },
        {
         "hovertemplate": "Job function=Sales and Customer Service<br>months_experience=%{x}<br>avg_salary=%{y}<extra></extra>",
         "legendgroup": "Sales and Customer Service",
         "marker": {
          "color": "#FFA15A",
          "symbol": "circle"
         },
         "mode": "markers",
         "name": "Sales and Customer Service",
         "showlegend": true,
         "type": "scattergl",
         "x": {
          "bdata": "AAAAAAAA+H8=",
          "dtype": "f8"
         },
         "xaxis": "x",
         "y": {
          "bdata": "AAAAAACI40A=",
          "dtype": "f8"
         },
         "yaxis": "y"
        },
        {
         "hovertemplate": "Job function=Sales and Customer Service<extra></extra>",
         "legendgroup": "Sales and Customer Service",
         "marker": {
          "color": "#FFA15A",
          "symbol": "circle"
         },
         "mode": "lines",
         "name": "Sales and Customer Service",
         "showlegend": false,
         "type": "scattergl",
         "xaxis": "x",
         "yaxis": "y"
        },
        {
         "hovertemplate": "Job function=Quality Assurance and Strategy/Planning<br>months_experience=%{x}<br>avg_salary=%{y}<extra></extra>",
         "legendgroup": "Quality Assurance and Strategy/Planning",
         "marker": {
          "color": "#19d3f3",
          "symbol": "circle"
         },
         "mode": "markers",
         "name": "Quality Assurance and Strategy/Planning",
         "showlegend": true,
         "type": "scattergl",
         "x": {
          "bdata": "AAAAAAAAQkA=",
          "dtype": "f8"
         },
         "xaxis": "x",
         "y": {
          "bdata": "AAAAAAAA+H8=",
          "dtype": "f8"
         },
         "yaxis": "y"
        },
        {
         "hovertemplate": "Job function=Quality Assurance and Strategy/Planning<extra></extra>",
         "legendgroup": "Quality Assurance and Strategy/Planning",
         "marker": {
          "color": "#19d3f3",
          "symbol": "circle"
         },
         "mode": "lines",
         "name": "Quality Assurance and Strategy/Planning",
         "showlegend": false,
         "type": "scattergl",
         "xaxis": "x",
         "yaxis": "y"
        },
        {
         "hovertemplate": "Job function=Legal<br>months_experience=%{x}<br>avg_salary=%{y}<extra></extra>",
         "legendgroup": "Legal",
         "marker": {
          "color": "#FF6692",
          "symbol": "circle"
         },
         "mode": "markers",
         "name": "Legal",
         "showlegend": true,
         "type": "scattergl",
         "x": {
          "bdata": "AAAAAAAASEAAAAAAAABeQAAAAAAAAPh/AAAAAAAAQkAAAAAAAABIQAAAAAAAAE5A",
          "dtype": "f8"
         },
         "xaxis": "x",
         "y": {
          "bdata": "AAAAAAAA+H8AAAAAAAD4fwAAAAAAAPh/AAAAAAAA+H8AAAAAAAD4fwAAAAAAAPh/",
          "dtype": "f8"
         },
         "yaxis": "y"
        },
        {
         "hovertemplate": "Job function=Legal<extra></extra>",
         "legendgroup": "Legal",
         "marker": {
          "color": "#FF6692",
          "symbol": "circle"
         },
         "mode": "lines",
         "name": "Legal",
         "showlegend": false,
         "type": "scattergl",
         "xaxis": "x",
         "yaxis": "y"
        },
        {
         "hovertemplate": "Job function=Information Technology, Other, and Customer Service<br>months_experience=%{x}<br>avg_salary=%{y}<extra></extra>",
         "legendgroup": "Information Technology, Other, and Customer Service",
         "marker": {
          "color": "#B6E880",
          "symbol": "circle"
         },
         "mode": "markers",
         "name": "Information Technology, Other, and Customer Service",
         "showlegend": true,
         "type": "scattergl",
         "x": {
          "bdata": "AAAAAAAA+H8=",
          "dtype": "f8"
         },
         "xaxis": "x",
         "y": {
          "bdata": "AAAAAADW5UA=",
          "dtype": "f8"
         },
         "yaxis": "y"
        },
        {
         "hovertemplate": "Job function=Information Technology, Other, and Customer Service<extra></extra>",
         "legendgroup": "Information Technology, Other, and Customer Service",
         "marker": {
          "color": "#B6E880",
          "symbol": "circle"
         },
         "mode": "lines",
         "name": "Information Technology, Other, and Customer Service",
         "showlegend": false,
         "type": "scattergl",
         "xaxis": "x",
         "yaxis": "y"
        },
        {
         "hovertemplate": "Job function=Consulting, Customer Service, and Other<br>months_experience=%{x}<br>avg_salary=%{y}<extra></extra>",
         "legendgroup": "Consulting, Customer Service, and Other",
         "marker": {
          "color": "#FF97FF",
          "symbol": "circle"
         },
         "mode": "markers",
         "name": "Consulting, Customer Service, and Other",
         "showlegend": true,
         "type": "scattergl",
         "x": {
          "bdata": "AAAAAAAA+H8=",
          "dtype": "f8"
         },
         "xaxis": "x",
         "y": {
          "bdata": "AAAAAAAA+H8=",
          "dtype": "f8"
         },
         "yaxis": "y"
        },
        {
         "hovertemplate": "Job function=Consulting, Customer Service, and Other<extra></extra>",
         "legendgroup": "Consulting, Customer Service, and Other",
         "marker": {
          "color": "#FF97FF",
          "symbol": "circle"
         },
         "mode": "lines",
         "name": "Consulting, Customer Service, and Other",
         "showlegend": false,
         "type": "scattergl",
         "xaxis": "x",
         "yaxis": "y"
        },
        {
         "hovertemplate": "Job function=General Business, Management, and Business Development<br>months_experience=%{x}<br>avg_salary=%{y}<extra></extra>",
         "legendgroup": "General Business, Management, and Business Development",
         "marker": {
          "color": "#FECB52",
          "symbol": "circle"
         },
         "mode": "markers",
         "name": "General Business, Management, and Business Development",
         "showlegend": true,
         "type": "scattergl",
         "x": {
          "bdata": "AAAAAAAAQkA=",
          "dtype": "f8"
         },
         "xaxis": "x",
         "y": {
          "bdata": "AAAAAAAA+H8=",
          "dtype": "f8"
         },
         "yaxis": "y"
        },
        {
         "hovertemplate": "Job function=General Business, Management, and Business Development<extra></extra>",
         "legendgroup": "General Business, Management, and Business Development",
         "marker": {
          "color": "#FECB52",
          "symbol": "circle"
         },
         "mode": "lines",
         "name": "General Business, Management, and Business Development",
         "showlegend": false,
         "type": "scattergl",
         "xaxis": "x",
         "yaxis": "y"
        },
        {
         "hovertemplate": "Job function=Analyst, Human Resources, and Information Technology<br>months_experience=%{x}<br>avg_salary=%{y}<extra></extra>",
         "legendgroup": "Analyst, Human Resources, and Information Technology",
         "marker": {
          "color": "#636efa",
          "symbol": "circle"
         },
         "mode": "markers",
         "name": "Analyst, Human Resources, and Information Technology",
         "showlegend": true,
         "type": "scattergl",
         "x": {
          "bdata": "AAAAAAAASEA=",
          "dtype": "f8"
         },
         "xaxis": "x",
         "y": {
          "bdata": "AAAAAAAA+H8=",
          "dtype": "f8"
         },
         "yaxis": "y"
        },
        {
         "hovertemplate": "Job function=Analyst, Human Resources, and Information Technology<extra></extra>",
         "legendgroup": "Analyst, Human Resources, and Information Technology",
         "marker": {
          "color": "#636efa",
          "symbol": "circle"
         },
         "mode": "lines",
         "name": "Analyst, Human Resources, and Information Technology",
         "showlegend": false,
         "type": "scattergl",
         "xaxis": "x",
         "yaxis": "y"
        },
        {
         "hovertemplate": "Job function=Business Development and Advertising<br>months_experience=%{x}<br>avg_salary=%{y}<extra></extra>",
         "legendgroup": "Business Development and Advertising",
         "marker": {
          "color": "#EF553B",
          "symbol": "circle"
         },
         "mode": "markers",
         "name": "Business Development and Advertising",
         "showlegend": true,
         "type": "scattergl",
         "x": {
          "bdata": "AAAAAAAA+H8=",
          "dtype": "f8"
         },
         "xaxis": "x",
         "y": {
          "bdata": "AAAAAAAA+H8=",
          "dtype": "f8"
         },
         "yaxis": "y"
        },
        {
         "hovertemplate": "Job function=Business Development and Advertising<extra></extra>",
         "legendgroup": "Business Development and Advertising",
         "marker": {
          "color": "#EF553B",
          "symbol": "circle"
         },
         "mode": "lines",
         "name": "Business Development and Advertising",
         "showlegend": false,
         "type": "scattergl",
         "xaxis": "x",
         "yaxis": "y"
        },
        {
         "hovertemplate": "Job function=Engineering, Research, and Information Technology<br>months_experience=%{x}<br>avg_salary=%{y}<extra></extra>",
         "legendgroup": "Engineering, Research, and Information Technology",
         "marker": {
          "color": "#00cc96",
          "symbol": "circle"
         },
         "mode": "markers",
         "name": "Engineering, Research, and Information Technology",
         "showlegend": true,
         "type": "scattergl",
         "x": {
          "bdata": "AAAAAAAATkA=",
          "dtype": "f8"
         },
         "xaxis": "x",
         "y": {
          "bdata": "AAAAAAAA+H8=",
          "dtype": "f8"
         },
         "yaxis": "y"
        },
        {
         "hovertemplate": "Job function=Engineering, Research, and Information Technology<extra></extra>",
         "legendgroup": "Engineering, Research, and Information Technology",
         "marker": {
          "color": "#00cc96",
          "symbol": "circle"
         },
         "mode": "lines",
         "name": "Engineering, Research, and Information Technology",
         "showlegend": false,
         "type": "scattergl",
         "xaxis": "x",
         "yaxis": "y"
        },
        {
         "hovertemplate": "Job function=Analyst and Product Management<br>months_experience=%{x}<br>avg_salary=%{y}<extra></extra>",
         "legendgroup": "Analyst and Product Management",
         "marker": {
          "color": "#ab63fa",
          "symbol": "circle"
         },
         "mode": "markers",
         "name": "Analyst and Product Management",
         "showlegend": true,
         "type": "scattergl",
         "x": {
          "bdata": "AAAAAAAA+H8=",
          "dtype": "f8"
         },
         "xaxis": "x",
         "y": {
          "bdata": "AAAAAAAA+H8=",
          "dtype": "f8"
         },
         "yaxis": "y"
        },
        {
         "hovertemplate": "Job function=Analyst and Product Management<extra></extra>",
         "legendgroup": "Analyst and Product Management",
         "marker": {
          "color": "#ab63fa",
          "symbol": "circle"
         },
         "mode": "lines",
         "name": "Analyst and Product Management",
         "showlegend": false,
         "type": "scattergl",
         "xaxis": "x",
         "yaxis": "y"
        },
        {
         "hovertemplate": "Job function=Analyst, Engineering, and Information Technology<br>months_experience=%{x}<br>avg_salary=%{y}<extra></extra>",
         "legendgroup": "Analyst, Engineering, and Information Technology",
         "marker": {
          "color": "#FFA15A",
          "symbol": "circle"
         },
         "mode": "markers",
         "name": "Analyst, Engineering, and Information Technology",
         "showlegend": true,
         "type": "scattergl",
         "x": {
          "bdata": "AAAAAAAA+H8AAAAAAABVQA==",
          "dtype": "f8"
         },
         "xaxis": "x",
         "y": {
          "bdata": "AAAAAAAA+H8AAAAAAAD4fw==",
          "dtype": "f8"
         },
         "yaxis": "y"
        },
        {
         "hovertemplate": "Job function=Analyst, Engineering, and Information Technology<extra></extra>",
         "legendgroup": "Analyst, Engineering, and Information Technology",
         "marker": {
          "color": "#FFA15A",
          "symbol": "circle"
         },
         "mode": "lines",
         "name": "Analyst, Engineering, and Information Technology",
         "showlegend": false,
         "type": "scattergl",
         "xaxis": "x",
         "yaxis": "y"
        },
        {
         "hovertemplate": "Job function=Research and Analyst<br>months_experience=%{x}<br>avg_salary=%{y}<extra></extra>",
         "legendgroup": "Research and Analyst",
         "marker": {
          "color": "#19d3f3",
          "symbol": "circle"
         },
         "mode": "markers",
         "name": "Research and Analyst",
         "showlegend": true,
         "type": "scattergl",
         "x": {
          "bdata": "AAAAAAAAKEA=",
          "dtype": "f8"
         },
         "xaxis": "x",
         "y": {
          "bdata": "AAAAAAAA+H8=",
          "dtype": "f8"
         },
         "yaxis": "y"
        },
        {
         "hovertemplate": "Job function=Research and Analyst<extra></extra>",
         "legendgroup": "Research and Analyst",
         "marker": {
          "color": "#19d3f3",
          "symbol": "circle"
         },
         "mode": "lines",
         "name": "Research and Analyst",
         "showlegend": false,
         "type": "scattergl",
         "xaxis": "x",
         "yaxis": "y"
        },
        {
         "hovertemplate": "Job function=Engineering, Analyst, and Information Technology<br>months_experience=%{x}<br>avg_salary=%{y}<extra></extra>",
         "legendgroup": "Engineering, Analyst, and Information Technology",
         "marker": {
          "color": "#FF6692",
          "symbol": "circle"
         },
         "mode": "markers",
         "name": "Engineering, Analyst, and Information Technology",
         "showlegend": true,
         "type": "scattergl",
         "x": {
          "bdata": "AAAAAAAAQkAAAAAAAABCQA==",
          "dtype": "f8"
         },
         "xaxis": "x",
         "y": {
          "bdata": "AAAAAABqCEEAAAAAQJUGQQ==",
          "dtype": "f8"
         },
         "yaxis": "y"
        },
        {
         "hovertemplate": "<b>OLS trendline</b><br>avg_salary = 5347.22<br>R<sup>2</sup>=0.000000<br><br>Job function=Engineering, Analyst, and Information Technology<br>months_experience=%{x}<br>avg_salary=%{y} <b>(trend)</b><extra></extra>",
         "legendgroup": "Engineering, Analyst, and Information Technology",
         "marker": {
          "color": "#FF6692",
          "symbol": "circle"
         },
         "mode": "lines",
         "name": "Engineering, Analyst, and Information Technology",
         "showlegend": false,
         "type": "scattergl",
         "x": {
          "bdata": "AAAAAAAAQkAAAAAAAABCQA==",
          "dtype": "f8"
         },
         "xaxis": "x",
         "y": {
          "bdata": "AAAAAKB/B0EAAAAAoH8HQQ==",
          "dtype": "f8"
         },
         "yaxis": "y"
        },
        {
         "hovertemplate": "Job function=Research and Strategy/Planning<br>months_experience=%{x}<br>avg_salary=%{y}<extra></extra>",
         "legendgroup": "Research and Strategy/Planning",
         "marker": {
          "color": "#B6E880",
          "symbol": "circle"
         },
         "mode": "markers",
         "name": "Research and Strategy/Planning",
         "showlegend": true,
         "type": "scattergl",
         "x": {
          "bdata": "AAAAAAAAYkAAAAAAAABiQAAAAAAAAGJAAAAAAAAAYkAAAAAAAABiQAAAAAAAAGJA",
          "dtype": "f8"
         },
         "xaxis": "x",
         "y": {
          "bdata": "AAAAAAAA+H8AAAAAAAD4fwAAAAAAAPh/AAAAAAAA+H8AAAAAAAD4fwAAAAAAAPh/",
          "dtype": "f8"
         },
         "yaxis": "y"
        },
        {
         "hovertemplate": "Job function=Research and Strategy/Planning<extra></extra>",
         "legendgroup": "Research and Strategy/Planning",
         "marker": {
          "color": "#B6E880",
          "symbol": "circle"
         },
         "mode": "lines",
         "name": "Research and Strategy/Planning",
         "showlegend": false,
         "type": "scattergl",
         "xaxis": "x",
         "yaxis": "y"
        },
        {
         "hovertemplate": "Job function=Strategy/Planning and Information Technology<br>months_experience=%{x}<br>avg_salary=%{y}<extra></extra>",
         "legendgroup": "Strategy/Planning and Information Technology",
         "marker": {
          "color": "#FF97FF",
          "symbol": "circle"
         },
         "mode": "markers",
         "name": "Strategy/Planning and Information Technology",
         "showlegend": true,
         "type": "scattergl",
         "x": {
          "bdata": "AAAAAAAAYkAAAAAAAABiQAAAAAAAAGJAAAAAAAAAYkAAAAAAAABiQAAAAAAAAGJAAAAAAAAAYkAAAAAAAABiQAAAAAAAAGJA",
          "dtype": "f8"
         },
         "xaxis": "x",
         "y": {
          "bdata": "AAAAAAAA+H8AAAAAAAD4fwAAAAAAAPh/AAAAAAAA+H8AAAAAAAD4fwAAAAAAAPh/AAAAAAAA+H8AAAAAAAD4fwAAAAAAAPh/",
          "dtype": "f8"
         },
         "yaxis": "y"
        },
        {
         "hovertemplate": "Job function=Strategy/Planning and Information Technology<extra></extra>",
         "legendgroup": "Strategy/Planning and Information Technology",
         "marker": {
          "color": "#FF97FF",
          "symbol": "circle"
         },
         "mode": "lines",
         "name": "Strategy/Planning and Information Technology",
         "showlegend": false,
         "type": "scattergl",
         "xaxis": "x",
         "yaxis": "y"
        },
        {
         "hovertemplate": "Job function=General Business and Information Technology<br>months_experience=%{x}<br>avg_salary=%{y}<extra></extra>",
         "legendgroup": "General Business and Information Technology",
         "marker": {
          "color": "#FECB52",
          "symbol": "circle"
         },
         "mode": "markers",
         "name": "General Business and Information Technology",
         "showlegend": true,
         "type": "scattergl",
         "x": {
          "bdata": "AAAAAAAA+H8AAAAAAAA4QAAAAAAAAPh/",
          "dtype": "f8"
         },
         "xaxis": "x",
         "y": {
          "bdata": "AAAAAAAA+H8AAAAAAAH9QAAAAAAAAPh/",
          "dtype": "f8"
         },
         "yaxis": "y"
        },
        {
         "hovertemplate": "Job function=General Business and Information Technology<extra></extra>",
         "legendgroup": "General Business and Information Technology",
         "marker": {
          "color": "#FECB52",
          "symbol": "circle"
         },
         "mode": "lines",
         "name": "General Business and Information Technology",
         "showlegend": false,
         "type": "scattergl",
         "xaxis": "x",
         "yaxis": "y"
        },
        {
         "hovertemplate": "Job function=Advertising, Analyst, and Engineering<br>months_experience=%{x}<br>avg_salary=%{y}<extra></extra>",
         "legendgroup": "Advertising, Analyst, and Engineering",
         "marker": {
          "color": "#636efa",
          "symbol": "circle"
         },
         "mode": "markers",
         "name": "Advertising, Analyst, and Engineering",
         "showlegend": true,
         "type": "scattergl",
         "x": {
          "bdata": "AAAAAAAATkAAAAAAAABOQA==",
          "dtype": "f8"
         },
         "xaxis": "x",
         "y": {
          "bdata": "AAAAAOCm/kAAAAAAAAD4fw==",
          "dtype": "f8"
         },
         "yaxis": "y"
        },
        {
         "hovertemplate": "Job function=Advertising, Analyst, and Engineering<extra></extra>",
         "legendgroup": "Advertising, Analyst, and Engineering",
         "marker": {
          "color": "#636efa",
          "symbol": "circle"
         },
         "mode": "lines",
         "name": "Advertising, Analyst, and Engineering",
         "showlegend": false,
         "type": "scattergl",
         "xaxis": "x",
         "yaxis": "y"
        },
        {
         "hovertemplate": "Job function=Business Development and Information Technology<br>months_experience=%{x}<br>avg_salary=%{y}<extra></extra>",
         "legendgroup": "Business Development and Information Technology",
         "marker": {
          "color": "#EF553B",
          "symbol": "circle"
         },
         "mode": "markers",
         "name": "Business Development and Information Technology",
         "showlegend": true,
         "type": "scattergl",
         "x": {
          "bdata": "AAAAAAAAKEA=",
          "dtype": "f8"
         },
         "xaxis": "x",
         "y": {
          "bdata": "AAAAAAAA+H8=",
          "dtype": "f8"
         },
         "yaxis": "y"
        },
        {
         "hovertemplate": "Job function=Business Development and Information Technology<extra></extra>",
         "legendgroup": "Business Development and Information Technology",
         "marker": {
          "color": "#EF553B",
          "symbol": "circle"
         },
         "mode": "lines",
         "name": "Business Development and Information Technology",
         "showlegend": false,
         "type": "scattergl",
         "xaxis": "x",
         "yaxis": "y"
        },
        {
         "hovertemplate": "Job function=Research, Analyst, and Science<br>months_experience=%{x}<br>avg_salary=%{y}<extra></extra>",
         "legendgroup": "Research, Analyst, and Science",
         "marker": {
          "color": "#00cc96",
          "symbol": "circle"
         },
         "mode": "markers",
         "name": "Research, Analyst, and Science",
         "showlegend": true,
         "type": "scattergl",
         "x": {
          "bdata": "AAAAAAAASEA=",
          "dtype": "f8"
         },
         "xaxis": "x",
         "y": {
          "bdata": "AAAAAAAA+H8=",
          "dtype": "f8"
         },
         "yaxis": "y"
        },
        {
         "hovertemplate": "Job function=Research, Analyst, and Science<extra></extra>",
         "legendgroup": "Research, Analyst, and Science",
         "marker": {
          "color": "#00cc96",
          "symbol": "circle"
         },
         "mode": "lines",
         "name": "Research, Analyst, and Science",
         "showlegend": false,
         "type": "scattergl",
         "xaxis": "x",
         "yaxis": "y"
        },
        {
         "hovertemplate": "Job function=Analyst and Research<br>months_experience=%{x}<br>avg_salary=%{y}<extra></extra>",
         "legendgroup": "Analyst and Research",
         "marker": {
          "color": "#ab63fa",
          "symbol": "circle"
         },
         "mode": "markers",
         "name": "Analyst and Research",
         "showlegend": true,
         "type": "scattergl",
         "x": {
          "bdata": "AAAAAAAA+H8=",
          "dtype": "f8"
         },
         "xaxis": "x",
         "y": {
          "bdata": "AAAAACAv+kA=",
          "dtype": "f8"
         },
         "yaxis": "y"
        },
        {
         "hovertemplate": "Job function=Analyst and Research<extra></extra>",
         "legendgroup": "Analyst and Research",
         "marker": {
          "color": "#ab63fa",
          "symbol": "circle"
         },
         "mode": "lines",
         "name": "Analyst and Research",
         "showlegend": false,
         "type": "scattergl",
         "xaxis": "x",
         "yaxis": "y"
        },
        {
         "hovertemplate": "Job function=Engineering, Information Technology, and Administrative<br>months_experience=%{x}<br>avg_salary=%{y}<extra></extra>",
         "legendgroup": "Engineering, Information Technology, and Administrative",
         "marker": {
          "color": "#FFA15A",
          "symbol": "circle"
         },
         "mode": "markers",
         "name": "Engineering, Information Technology, and Administrative",
         "showlegend": true,
         "type": "scattergl",
         "x": {
          "bdata": "AAAAAAAAOEA=",
          "dtype": "f8"
         },
         "xaxis": "x",
         "y": {
          "bdata": "AAAAAAAA+H8=",
          "dtype": "f8"
         },
         "yaxis": "y"
        },
        {
         "hovertemplate": "Job function=Engineering, Information Technology, and Administrative<extra></extra>",
         "legendgroup": "Engineering, Information Technology, and Administrative",
         "marker": {
          "color": "#FFA15A",
          "symbol": "circle"
         },
         "mode": "lines",
         "name": "Engineering, Information Technology, and Administrative",
         "showlegend": false,
         "type": "scattergl",
         "xaxis": "x",
         "yaxis": "y"
        },
        {
         "hovertemplate": "Job function=Engineering, Design, and Analyst<br>months_experience=%{x}<br>avg_salary=%{y}<extra></extra>",
         "legendgroup": "Engineering, Design, and Analyst",
         "marker": {
          "color": "#19d3f3",
          "symbol": "circle"
         },
         "mode": "markers",
         "name": "Engineering, Design, and Analyst",
         "showlegend": true,
         "type": "scattergl",
         "x": {
          "bdata": "AAAAAAAATkA=",
          "dtype": "f8"
         },
         "xaxis": "x",
         "y": {
          "bdata": "AAAAAAAA+H8=",
          "dtype": "f8"
         },
         "yaxis": "y"
        },
        {
         "hovertemplate": "Job function=Engineering, Design, and Analyst<extra></extra>",
         "legendgroup": "Engineering, Design, and Analyst",
         "marker": {
          "color": "#19d3f3",
          "symbol": "circle"
         },
         "mode": "lines",
         "name": "Engineering, Design, and Analyst",
         "showlegend": false,
         "type": "scattergl",
         "xaxis": "x",
         "yaxis": "y"
        },
        {
         "hovertemplate": "Job function=Finance and Strategy/Planning<br>months_experience=%{x}<br>avg_salary=%{y}<extra></extra>",
         "legendgroup": "Finance and Strategy/Planning",
         "marker": {
          "color": "#FF6692",
          "symbol": "circle"
         },
         "mode": "markers",
         "name": "Finance and Strategy/Planning",
         "showlegend": true,
         "type": "scattergl",
         "x": {
          "bdata": "AAAAAAAAKEA=",
          "dtype": "f8"
         },
         "xaxis": "x",
         "y": {
          "bdata": "AAAAAIDA9EA=",
          "dtype": "f8"
         },
         "yaxis": "y"
        },
        {
         "hovertemplate": "Job function=Finance and Strategy/Planning<extra></extra>",
         "legendgroup": "Finance and Strategy/Planning",
         "marker": {
          "color": "#FF6692",
          "symbol": "circle"
         },
         "mode": "lines",
         "name": "Finance and Strategy/Planning",
         "showlegend": false,
         "type": "scattergl",
         "xaxis": "x",
         "yaxis": "y"
        },
        {
         "hovertemplate": "Job function=Information Technology, Strategy/Planning, and Engineering<br>months_experience=%{x}<br>avg_salary=%{y}<extra></extra>",
         "legendgroup": "Information Technology, Strategy/Planning, and Engineering",
         "marker": {
          "color": "#B6E880",
          "symbol": "circle"
         },
         "mode": "markers",
         "name": "Information Technology, Strategy/Planning, and Engineering",
         "showlegend": true,
         "type": "scattergl",
         "x": {
          "bdata": "AAAAAAAAQkA=",
          "dtype": "f8"
         },
         "xaxis": "x",
         "y": {
          "bdata": "AAAAAAAA+H8=",
          "dtype": "f8"
         },
         "yaxis": "y"
        },
        {
         "hovertemplate": "Job function=Information Technology, Strategy/Planning, and Engineering<extra></extra>",
         "legendgroup": "Information Technology, Strategy/Planning, and Engineering",
         "marker": {
          "color": "#B6E880",
          "symbol": "circle"
         },
         "mode": "lines",
         "name": "Information Technology, Strategy/Planning, and Engineering",
         "showlegend": false,
         "type": "scattergl",
         "xaxis": "x",
         "yaxis": "y"
        },
        {
         "hovertemplate": "Job function=Engineering, Information Technology, and Strategy/Planning<br>months_experience=%{x}<br>avg_salary=%{y}<extra></extra>",
         "legendgroup": "Engineering, Information Technology, and Strategy/Planning",
         "marker": {
          "color": "#FF97FF",
          "symbol": "circle"
         },
         "mode": "markers",
         "name": "Engineering, Information Technology, and Strategy/Planning",
         "showlegend": true,
         "type": "scattergl",
         "x": {
          "bdata": "AAAAAAAAQkA=",
          "dtype": "f8"
         },
         "xaxis": "x",
         "y": {
          "bdata": "AAAAAAAA+H8=",
          "dtype": "f8"
         },
         "yaxis": "y"
        },
        {
         "hovertemplate": "Job function=Engineering, Information Technology, and Strategy/Planning<extra></extra>",
         "legendgroup": "Engineering, Information Technology, and Strategy/Planning",
         "marker": {
          "color": "#FF97FF",
          "symbol": "circle"
         },
         "mode": "lines",
         "name": "Engineering, Information Technology, and Strategy/Planning",
         "showlegend": false,
         "type": "scattergl",
         "xaxis": "x",
         "yaxis": "y"
        },
        {
         "hovertemplate": "Job function=Engineering and Quality Assurance<br>months_experience=%{x}<br>avg_salary=%{y}<extra></extra>",
         "legendgroup": "Engineering and Quality Assurance",
         "marker": {
          "color": "#FECB52",
          "symbol": "circle"
         },
         "mode": "markers",
         "name": "Engineering and Quality Assurance",
         "showlegend": true,
         "type": "scattergl",
         "x": {
          "bdata": "AAAAAAAAWEA=",
          "dtype": "f8"
         },
         "xaxis": "x",
         "y": {
          "bdata": "AAAAAAAA+H8=",
          "dtype": "f8"
         },
         "yaxis": "y"
        },
        {
         "hovertemplate": "Job function=Engineering and Quality Assurance<extra></extra>",
         "legendgroup": "Engineering and Quality Assurance",
         "marker": {
          "color": "#FECB52",
          "symbol": "circle"
         },
         "mode": "lines",
         "name": "Engineering and Quality Assurance",
         "showlegend": false,
         "type": "scattergl",
         "xaxis": "x",
         "yaxis": "y"
        },
        {
         "hovertemplate": "Job function=Engineering, Information Technology, and Project Management<br>months_experience=%{x}<br>avg_salary=%{y}<extra></extra>",
         "legendgroup": "Engineering, Information Technology, and Project Management",
         "marker": {
          "color": "#636efa",
          "symbol": "circle"
         },
         "mode": "markers",
         "name": "Engineering, Information Technology, and Project Management",
         "showlegend": true,
         "type": "scattergl",
         "x": {
          "bdata": "AAAAAAAATkA=",
          "dtype": "f8"
         },
         "xaxis": "x",
         "y": {
          "bdata": "AAAAAAAA+H8=",
          "dtype": "f8"
         },
         "yaxis": "y"
        },
        {
         "hovertemplate": "Job function=Engineering, Information Technology, and Project Management<extra></extra>",
         "legendgroup": "Engineering, Information Technology, and Project Management",
         "marker": {
          "color": "#636efa",
          "symbol": "circle"
         },
         "mode": "lines",
         "name": "Engineering, Information Technology, and Project Management",
         "showlegend": false,
         "type": "scattergl",
         "xaxis": "x",
         "yaxis": "y"
        },
        {
         "hovertemplate": "Job function=Engineering and Consulting<br>months_experience=%{x}<br>avg_salary=%{y}<extra></extra>",
         "legendgroup": "Engineering and Consulting",
         "marker": {
          "color": "#EF553B",
          "symbol": "circle"
         },
         "mode": "markers",
         "name": "Engineering and Consulting",
         "showlegend": true,
         "type": "scattergl",
         "x": {
          "bdata": "AAAAAAAAWEA=",
          "dtype": "f8"
         },
         "xaxis": "x",
         "y": {
          "bdata": "AAAAAAAA+H8=",
          "dtype": "f8"
         },
         "yaxis": "y"
        },
        {
         "hovertemplate": "Job function=Engineering and Consulting<extra></extra>",
         "legendgroup": "Engineering and Consulting",
         "marker": {
          "color": "#EF553B",
          "symbol": "circle"
         },
         "mode": "lines",
         "name": "Engineering and Consulting",
         "showlegend": false,
         "type": "scattergl",
         "xaxis": "x",
         "yaxis": "y"
        },
        {
         "hovertemplate": "Job function=Engineering, Strategy/Planning, and Quality Assurance<br>months_experience=%{x}<br>avg_salary=%{y}<extra></extra>",
         "legendgroup": "Engineering, Strategy/Planning, and Quality Assurance",
         "marker": {
          "color": "#00cc96",
          "symbol": "circle"
         },
         "mode": "markers",
         "name": "Engineering, Strategy/Planning, and Quality Assurance",
         "showlegend": true,
         "type": "scattergl",
         "x": {
          "bdata": "AAAAAAAAQkA=",
          "dtype": "f8"
         },
         "xaxis": "x",
         "y": {
          "bdata": "AAAAAIDyBEE=",
          "dtype": "f8"
         },
         "yaxis": "y"
        },
        {
         "hovertemplate": "Job function=Engineering, Strategy/Planning, and Quality Assurance<extra></extra>",
         "legendgroup": "Engineering, Strategy/Planning, and Quality Assurance",
         "marker": {
          "color": "#00cc96",
          "symbol": "circle"
         },
         "mode": "lines",
         "name": "Engineering, Strategy/Planning, and Quality Assurance",
         "showlegend": false,
         "type": "scattergl",
         "xaxis": "x",
         "yaxis": "y"
        },
        {
         "hovertemplate": "Job function=Business Development, General Business, and Customer Service<br>months_experience=%{x}<br>avg_salary=%{y}<extra></extra>",
         "legendgroup": "Business Development, General Business, and Customer Service",
         "marker": {
          "color": "#ab63fa",
          "symbol": "circle"
         },
         "mode": "markers",
         "name": "Business Development, General Business, and Customer Service",
         "showlegend": true,
         "type": "scattergl",
         "x": {
          "bdata": "AAAAAAAAOEA=",
          "dtype": "f8"
         },
         "xaxis": "x",
         "y": {
          "bdata": "AAAAAODv9kA=",
          "dtype": "f8"
         },
         "yaxis": "y"
        },
        {
         "hovertemplate": "Job function=Business Development, General Business, and Customer Service<extra></extra>",
         "legendgroup": "Business Development, General Business, and Customer Service",
         "marker": {
          "color": "#ab63fa",
          "symbol": "circle"
         },
         "mode": "lines",
         "name": "Business Development, General Business, and Customer Service",
         "showlegend": false,
         "type": "scattergl",
         "xaxis": "x",
         "yaxis": "y"
        },
        {
         "hovertemplate": "Job function=Consulting, Analyst, and Other<br>months_experience=%{x}<br>avg_salary=%{y}<extra></extra>",
         "legendgroup": "Consulting, Analyst, and Other",
         "marker": {
          "color": "#FFA15A",
          "symbol": "circle"
         },
         "mode": "markers",
         "name": "Consulting, Analyst, and Other",
         "showlegend": true,
         "type": "scattergl",
         "x": {
          "bdata": "AAAAAAAA+H8=",
          "dtype": "f8"
         },
         "xaxis": "x",
         "y": {
          "bdata": "AAAAAAAA+H8=",
          "dtype": "f8"
         },
         "yaxis": "y"
        },
        {
         "hovertemplate": "Job function=Consulting, Analyst, and Other<extra></extra>",
         "legendgroup": "Consulting, Analyst, and Other",
         "marker": {
          "color": "#FFA15A",
          "symbol": "circle"
         },
         "mode": "lines",
         "name": "Consulting, Analyst, and Other",
         "showlegend": false,
         "type": "scattergl",
         "xaxis": "x",
         "yaxis": "y"
        },
        {
         "hovertemplate": "Job function=Information Technology, Other, and Engineering<br>months_experience=%{x}<br>avg_salary=%{y}<extra></extra>",
         "legendgroup": "Information Technology, Other, and Engineering",
         "marker": {
          "color": "#19d3f3",
          "symbol": "circle"
         },
         "mode": "markers",
         "name": "Information Technology, Other, and Engineering",
         "showlegend": true,
         "type": "scattergl",
         "x": {
          "bdata": "AAAAAAAAQkA=",
          "dtype": "f8"
         },
         "xaxis": "x",
         "y": {
          "bdata": "AAAAAECzAUE=",
          "dtype": "f8"
         },
         "yaxis": "y"
        },
        {
         "hovertemplate": "Job function=Information Technology, Other, and Engineering<extra></extra>",
         "legendgroup": "Information Technology, Other, and Engineering",
         "marker": {
          "color": "#19d3f3",
          "symbol": "circle"
         },
         "mode": "lines",
         "name": "Information Technology, Other, and Engineering",
         "showlegend": false,
         "type": "scattergl",
         "xaxis": "x",
         "yaxis": "y"
        }
       ],
       "layout": {
        "legend": {
         "title": {
          "text": "Job function"
         },
         "tracegroupgap": 0
        },
        "template": {
         "data": {
          "bar": [
           {
            "error_x": {
             "color": "#2a3f5f"
            },
            "error_y": {
             "color": "#2a3f5f"
            },
            "marker": {
             "line": {
              "color": "#E5ECF6",
              "width": 0.5
             },
             "pattern": {
              "fillmode": "overlay",
              "size": 10,
              "solidity": 0.2
             }
            },
            "type": "bar"
           }
          ],
          "barpolar": [
           {
            "marker": {
             "line": {
              "color": "#E5ECF6",
              "width": 0.5
             },
             "pattern": {
              "fillmode": "overlay",
              "size": 10,
              "solidity": 0.2
             }
            },
            "type": "barpolar"
           }
          ],
          "carpet": [
           {
            "aaxis": {
             "endlinecolor": "#2a3f5f",
             "gridcolor": "white",
             "linecolor": "white",
             "minorgridcolor": "white",
             "startlinecolor": "#2a3f5f"
            },
            "baxis": {
             "endlinecolor": "#2a3f5f",
             "gridcolor": "white",
             "linecolor": "white",
             "minorgridcolor": "white",
             "startlinecolor": "#2a3f5f"
            },
            "type": "carpet"
           }
          ],
          "choropleth": [
           {
            "colorbar": {
             "outlinewidth": 0,
             "ticks": ""
            },
            "type": "choropleth"
           }
          ],
          "contour": [
           {
            "colorbar": {
             "outlinewidth": 0,
             "ticks": ""
            },
            "colorscale": [
             [
              0,
              "#0d0887"
             ],
             [
              0.1111111111111111,
              "#46039f"
             ],
             [
              0.2222222222222222,
              "#7201a8"
             ],
             [
              0.3333333333333333,
              "#9c179e"
             ],
             [
              0.4444444444444444,
              "#bd3786"
             ],
             [
              0.5555555555555556,
              "#d8576b"
             ],
             [
              0.6666666666666666,
              "#ed7953"
             ],
             [
              0.7777777777777778,
              "#fb9f3a"
             ],
             [
              0.8888888888888888,
              "#fdca26"
             ],
             [
              1,
              "#f0f921"
             ]
            ],
            "type": "contour"
           }
          ],
          "contourcarpet": [
           {
            "colorbar": {
             "outlinewidth": 0,
             "ticks": ""
            },
            "type": "contourcarpet"
           }
          ],
          "heatmap": [
           {
            "colorbar": {
             "outlinewidth": 0,
             "ticks": ""
            },
            "colorscale": [
             [
              0,
              "#0d0887"
             ],
             [
              0.1111111111111111,
              "#46039f"
             ],
             [
              0.2222222222222222,
              "#7201a8"
             ],
             [
              0.3333333333333333,
              "#9c179e"
             ],
             [
              0.4444444444444444,
              "#bd3786"
             ],
             [
              0.5555555555555556,
              "#d8576b"
             ],
             [
              0.6666666666666666,
              "#ed7953"
             ],
             [
              0.7777777777777778,
              "#fb9f3a"
             ],
             [
              0.8888888888888888,
              "#fdca26"
             ],
             [
              1,
              "#f0f921"
             ]
            ],
            "type": "heatmap"
           }
          ],
          "histogram": [
           {
            "marker": {
             "pattern": {
              "fillmode": "overlay",
              "size": 10,
              "solidity": 0.2
             }
            },
            "type": "histogram"
           }
          ],
          "histogram2d": [
           {
            "colorbar": {
             "outlinewidth": 0,
             "ticks": ""
            },
            "colorscale": [
             [
              0,
              "#0d0887"
             ],
             [
              0.1111111111111111,
              "#46039f"
             ],
             [
              0.2222222222222222,
              "#7201a8"
             ],
             [
              0.3333333333333333,
              "#9c179e"
             ],
             [
              0.4444444444444444,
              "#bd3786"
             ],
             [
              0.5555555555555556,
              "#d8576b"
             ],
             [
              0.6666666666666666,
              "#ed7953"
             ],
             [
              0.7777777777777778,
              "#fb9f3a"
             ],
             [
              0.8888888888888888,
              "#fdca26"
             ],
             [
              1,
              "#f0f921"
             ]
            ],
            "type": "histogram2d"
           }
          ],
          "histogram2dcontour": [
           {
            "colorbar": {
             "outlinewidth": 0,
             "ticks": ""
            },
            "colorscale": [
             [
              0,
              "#0d0887"
             ],
             [
              0.1111111111111111,
              "#46039f"
             ],
             [
              0.2222222222222222,
              "#7201a8"
             ],
             [
              0.3333333333333333,
              "#9c179e"
             ],
             [
              0.4444444444444444,
              "#bd3786"
             ],
             [
              0.5555555555555556,
              "#d8576b"
             ],
             [
              0.6666666666666666,
              "#ed7953"
             ],
             [
              0.7777777777777778,
              "#fb9f3a"
             ],
             [
              0.8888888888888888,
              "#fdca26"
             ],
             [
              1,
              "#f0f921"
             ]
            ],
            "type": "histogram2dcontour"
           }
          ],
          "mesh3d": [
           {
            "colorbar": {
             "outlinewidth": 0,
             "ticks": ""
            },
            "type": "mesh3d"
           }
          ],
          "parcoords": [
           {
            "line": {
             "colorbar": {
              "outlinewidth": 0,
              "ticks": ""
             }
            },
            "type": "parcoords"
           }
          ],
          "pie": [
           {
            "automargin": true,
            "type": "pie"
           }
          ],
          "scatter": [
           {
            "fillpattern": {
             "fillmode": "overlay",
             "size": 10,
             "solidity": 0.2
            },
            "type": "scatter"
           }
          ],
          "scatter3d": [
           {
            "line": {
             "colorbar": {
              "outlinewidth": 0,
              "ticks": ""
             }
            },
            "marker": {
             "colorbar": {
              "outlinewidth": 0,
              "ticks": ""
             }
            },
            "type": "scatter3d"
           }
          ],
          "scattercarpet": [
           {
            "marker": {
             "colorbar": {
              "outlinewidth": 0,
              "ticks": ""
             }
            },
            "type": "scattercarpet"
           }
          ],
          "scattergeo": [
           {
            "marker": {
             "colorbar": {
              "outlinewidth": 0,
              "ticks": ""
             }
            },
            "type": "scattergeo"
           }
          ],
          "scattergl": [
           {
            "marker": {
             "colorbar": {
              "outlinewidth": 0,
              "ticks": ""
             }
            },
            "type": "scattergl"
           }
          ],
          "scattermap": [
           {
            "marker": {
             "colorbar": {
              "outlinewidth": 0,
              "ticks": ""
             }
            },
            "type": "scattermap"
           }
          ],
          "scattermapbox": [
           {
            "marker": {
             "colorbar": {
              "outlinewidth": 0,
              "ticks": ""
             }
            },
            "type": "scattermapbox"
           }
          ],
          "scatterpolar": [
           {
            "marker": {
             "colorbar": {
              "outlinewidth": 0,
              "ticks": ""
             }
            },
            "type": "scatterpolar"
           }
          ],
          "scatterpolargl": [
           {
            "marker": {
             "colorbar": {
              "outlinewidth": 0,
              "ticks": ""
             }
            },
            "type": "scatterpolargl"
           }
          ],
          "scatterternary": [
           {
            "marker": {
             "colorbar": {
              "outlinewidth": 0,
              "ticks": ""
             }
            },
            "type": "scatterternary"
           }
          ],
          "surface": [
           {
            "colorbar": {
             "outlinewidth": 0,
             "ticks": ""
            },
            "colorscale": [
             [
              0,
              "#0d0887"
             ],
             [
              0.1111111111111111,
              "#46039f"
             ],
             [
              0.2222222222222222,
              "#7201a8"
             ],
             [
              0.3333333333333333,
              "#9c179e"
             ],
             [
              0.4444444444444444,
              "#bd3786"
             ],
             [
              0.5555555555555556,
              "#d8576b"
             ],
             [
              0.6666666666666666,
              "#ed7953"
             ],
             [
              0.7777777777777778,
              "#fb9f3a"
             ],
             [
              0.8888888888888888,
              "#fdca26"
             ],
             [
              1,
              "#f0f921"
             ]
            ],
            "type": "surface"
           }
          ],
          "table": [
           {
            "cells": {
             "fill": {
              "color": "#EBF0F8"
             },
             "line": {
              "color": "white"
             }
            },
            "header": {
             "fill": {
              "color": "#C8D4E3"
             },
             "line": {
              "color": "white"
             }
            },
            "type": "table"
           }
          ]
         },
         "layout": {
          "annotationdefaults": {
           "arrowcolor": "#2a3f5f",
           "arrowhead": 0,
           "arrowwidth": 1
          },
          "autotypenumbers": "strict",
          "coloraxis": {
           "colorbar": {
            "outlinewidth": 0,
            "ticks": ""
           }
          },
          "colorscale": {
           "diverging": [
            [
             0,
             "#8e0152"
            ],
            [
             0.1,
             "#c51b7d"
            ],
            [
             0.2,
             "#de77ae"
            ],
            [
             0.3,
             "#f1b6da"
            ],
            [
             0.4,
             "#fde0ef"
            ],
            [
             0.5,
             "#f7f7f7"
            ],
            [
             0.6,
             "#e6f5d0"
            ],
            [
             0.7,
             "#b8e186"
            ],
            [
             0.8,
             "#7fbc41"
            ],
            [
             0.9,
             "#4d9221"
            ],
            [
             1,
             "#276419"
            ]
           ],
           "sequential": [
            [
             0,
             "#0d0887"
            ],
            [
             0.1111111111111111,
             "#46039f"
            ],
            [
             0.2222222222222222,
             "#7201a8"
            ],
            [
             0.3333333333333333,
             "#9c179e"
            ],
            [
             0.4444444444444444,
             "#bd3786"
            ],
            [
             0.5555555555555556,
             "#d8576b"
            ],
            [
             0.6666666666666666,
             "#ed7953"
            ],
            [
             0.7777777777777778,
             "#fb9f3a"
            ],
            [
             0.8888888888888888,
             "#fdca26"
            ],
            [
             1,
             "#f0f921"
            ]
           ],
           "sequentialminus": [
            [
             0,
             "#0d0887"
            ],
            [
             0.1111111111111111,
             "#46039f"
            ],
            [
             0.2222222222222222,
             "#7201a8"
            ],
            [
             0.3333333333333333,
             "#9c179e"
            ],
            [
             0.4444444444444444,
             "#bd3786"
            ],
            [
             0.5555555555555556,
             "#d8576b"
            ],
            [
             0.6666666666666666,
             "#ed7953"
            ],
            [
             0.7777777777777778,
             "#fb9f3a"
            ],
            [
             0.8888888888888888,
             "#fdca26"
            ],
            [
             1,
             "#f0f921"
            ]
           ]
          },
          "colorway": [
           "#636efa",
           "#EF553B",
           "#00cc96",
           "#ab63fa",
           "#FFA15A",
           "#19d3f3",
           "#FF6692",
           "#B6E880",
           "#FF97FF",
           "#FECB52"
          ],
          "font": {
           "color": "#2a3f5f"
          },
          "geo": {
           "bgcolor": "white",
           "lakecolor": "white",
           "landcolor": "#E5ECF6",
           "showlakes": true,
           "showland": true,
           "subunitcolor": "white"
          },
          "hoverlabel": {
           "align": "left"
          },
          "hovermode": "closest",
          "mapbox": {
           "style": "light"
          },
          "paper_bgcolor": "white",
          "plot_bgcolor": "#E5ECF6",
          "polar": {
           "angularaxis": {
            "gridcolor": "white",
            "linecolor": "white",
            "ticks": ""
           },
           "bgcolor": "#E5ECF6",
           "radialaxis": {
            "gridcolor": "white",
            "linecolor": "white",
            "ticks": ""
           }
          },
          "scene": {
           "xaxis": {
            "backgroundcolor": "#E5ECF6",
            "gridcolor": "white",
            "gridwidth": 2,
            "linecolor": "white",
            "showbackground": true,
            "ticks": "",
            "zerolinecolor": "white"
           },
           "yaxis": {
            "backgroundcolor": "#E5ECF6",
            "gridcolor": "white",
            "gridwidth": 2,
            "linecolor": "white",
            "showbackground": true,
            "ticks": "",
            "zerolinecolor": "white"
           },
           "zaxis": {
            "backgroundcolor": "#E5ECF6",
            "gridcolor": "white",
            "gridwidth": 2,
            "linecolor": "white",
            "showbackground": true,
            "ticks": "",
            "zerolinecolor": "white"
           }
          },
          "shapedefaults": {
           "line": {
            "color": "#2a3f5f"
           }
          },
          "ternary": {
           "aaxis": {
            "gridcolor": "white",
            "linecolor": "white",
            "ticks": ""
           },
           "baxis": {
            "gridcolor": "white",
            "linecolor": "white",
            "ticks": ""
           },
           "bgcolor": "#E5ECF6",
           "caxis": {
            "gridcolor": "white",
            "linecolor": "white",
            "ticks": ""
           }
          },
          "title": {
           "x": 0.05
          },
          "xaxis": {
           "automargin": true,
           "gridcolor": "white",
           "linecolor": "white",
           "ticks": "",
           "title": {
            "standoff": 15
           },
           "zerolinecolor": "white",
           "zerolinewidth": 2
          },
          "yaxis": {
           "automargin": true,
           "gridcolor": "white",
           "linecolor": "white",
           "ticks": "",
           "title": {
            "standoff": 15
           },
           "zerolinecolor": "white",
           "zerolinewidth": 2
          }
         }
        },
        "title": {
         "text": "Experience vs. Average Salary"
        },
        "xaxis": {
         "anchor": "y",
         "domain": [
          0,
          1
         ],
         "title": {
          "text": "Months of Experience"
         }
        },
        "yaxis": {
         "anchor": "x",
         "domain": [
          0,
          1
         ],
         "title": {
          "text": "Average Salary"
         }
        }
       }
      }
     },
     "metadata": {},
     "output_type": "display_data"
    }
   ],
   "source": [
    "# Enhanced Scatter Plot – Experience vs. Salary\n",
    "fig4 = px.scatter(df, x='months_experience', y='avg_salary',\n",
    "                 title='Experience vs. Salary Correlation',\n",
    "                 color='Job function',\n",
    "                 size='avg_salary',  # Bubble size based on salary\n",
    "                 size_max=15,\n",
    "                 trendline='ols',\n",
    "                 color_discrete_sequence=custom_colors,\n",
    "                 hover_data=['title', 'formatted_salary'])\n",
    "\n",
    "fig4.update_layout(\n",
    "    title_x=0.5,\n",
    "    title_font_size=20,\n",
    "    xaxis_title='Experience (Months)',\n",
    "    yaxis_title='Salary (USD)',\n",
    "    height=600,\n",
    "    yaxis_tickformat='$,.0f',\n",
    "    plot_bgcolor='white',\n",
    "    hoverlabel=dict(bgcolor='white'),\n",
    "    margin=dict(t=100, r=100)\n",
    "    legend=dict(\n",
    "        yanchor='top',\n",
    "        y=0.99,\n",
    "        xanchor='right',\n",
    "        x=0.99\n",
    "    )\n",
    ")\n",
    "\n",
    "fig4.show()"
   ]
  },
  {
   "cell_type": "code",
   "execution_count": null,
   "id": "cf4a367f",
   "metadata": {},
   "outputs": [
    {
     "data": {
      "application/vnd.plotly.v1+json": {
       "config": {
        "plotlyServerURL": "https://plot.ly"
       },
       "data": [
        {
         "hovertemplate": "title=%{x}<br>avg_salary=%{marker.color}<extra></extra>",
         "legendgroup": "",
         "marker": {
          "color": {
           "bdata": "AAAAAIA3FkEAAAAA4MgQQQAAAABAdwtBAAAAAKBzCUEAAAAAYNcIQQAAAAAAaghBAAAAAABqCEEAAAAAAGoIQQAAAAAAaghBAAAAAABgCEEAAAAA4BsIQQAAAAAA7QdBAAAAAADtB0EAAAAAwM0HQQAAAADAzQdB",
           "dtype": "f8"
          },
          "coloraxis": "coloraxis",
          "pattern": {
           "shape": ""
          }
         },
         "name": "",
         "orientation": "v",
         "showlegend": false,
         "text": {
          "bdata": "AAAAAIA3FkEAAAAA4MgQQQAAAABAdwtBAAAAAKBzCUEAAAAAYNcIQQAAAAAAaghBAAAAAABqCEEAAAAAAGoIQQAAAAAAaghBAAAAAABgCEEAAAAA4BsIQQAAAAAA7QdBAAAAAADtB0EAAAAAwM0HQQAAAADAzQdB",
          "dtype": "f8"
         },
         "textposition": "auto",
         "type": "bar",
         "x": [
          "Machine Learning Engineer V",
          "Digital Principal Data Scientist",
          "Investment Data Scientist",
          "Senior Site Reliability Engineer, Security",
          "Staff Software Engineer - Tracking Data Quality (Systems & Infrastructure)",
          "DevOps Engineer-Cryptoassets",
          "Principal Machine Learning Engineer",
          "Senior Machine Learning Engineer (Deep Learning)",
          "Software Engineer, GQMA",
          "Senior Full Stack Software Engineer",
          "Lead Software Engineer (Python) ($175-225k), 100% remote",
          "Senior Software Engineer II - Customer Platform",
          "Sr. Software Engineer - AI Platform",
          "Applied Data Scientist",
          "Principal Data Scientist (open to Remote)"
         ],
         "xaxis": "x",
         "y": {
          "bdata": "AAAAAIA3FkEAAAAA4MgQQQAAAABAdwtBAAAAAKBzCUEAAAAAYNcIQQAAAAAAaghBAAAAAABqCEEAAAAAAGoIQQAAAAAAaghBAAAAAABgCEEAAAAA4BsIQQAAAAAA7QdBAAAAAADtB0EAAAAAwM0HQQAAAADAzQdB",
          "dtype": "f8"
         },
         "yaxis": "y"
        }
       ],
       "layout": {
        "barmode": "relative",
        "coloraxis": {
         "colorbar": {
          "title": {
           "text": "avg_salary"
          }
         },
         "colorscale": [
          [
           0,
           "#0d0887"
          ],
          [
           0.1111111111111111,
           "#46039f"
          ],
          [
           0.2222222222222222,
           "#7201a8"
          ],
          [
           0.3333333333333333,
           "#9c179e"
          ],
          [
           0.4444444444444444,
           "#bd3786"
          ],
          [
           0.5555555555555556,
           "#d8576b"
          ],
          [
           0.6666666666666666,
           "#ed7953"
          ],
          [
           0.7777777777777778,
           "#fb9f3a"
          ],
          [
           0.8888888888888888,
           "#fdca26"
          ],
          [
           1,
           "#f0f921"
          ]
         ]
        },
        "legend": {
         "tracegroupgap": 0
        },
        "template": {
         "data": {
          "bar": [
           {
            "error_x": {
             "color": "#2a3f5f"
            },
            "error_y": {
             "color": "#2a3f5f"
            },
            "marker": {
             "line": {
              "color": "#E5ECF6",
              "width": 0.5
             },
             "pattern": {
              "fillmode": "overlay",
              "size": 10,
              "solidity": 0.2
             }
            },
            "type": "bar"
           }
          ],
          "barpolar": [
           {
            "marker": {
             "line": {
              "color": "#E5ECF6",
              "width": 0.5
             },
             "pattern": {
              "fillmode": "overlay",
              "size": 10,
              "solidity": 0.2
             }
            },
            "type": "barpolar"
           }
          ],
          "carpet": [
           {
            "aaxis": {
             "endlinecolor": "#2a3f5f",
             "gridcolor": "white",
             "linecolor": "white",
             "minorgridcolor": "white",
             "startlinecolor": "#2a3f5f"
            },
            "baxis": {
             "endlinecolor": "#2a3f5f",
             "gridcolor": "white",
             "linecolor": "white",
             "minorgridcolor": "white",
             "startlinecolor": "#2a3f5f"
            },
            "type": "carpet"
           }
          ],
          "choropleth": [
           {
            "colorbar": {
             "outlinewidth": 0,
             "ticks": ""
            },
            "type": "choropleth"
           }
          ],
          "contour": [
           {
            "colorbar": {
             "outlinewidth": 0,
             "ticks": ""
            },
            "colorscale": [
             [
              0,
              "#0d0887"
             ],
             [
              0.1111111111111111,
              "#46039f"
             ],
             [
              0.2222222222222222,
              "#7201a8"
             ],
             [
              0.3333333333333333,
              "#9c179e"
             ],
             [
              0.4444444444444444,
              "#bd3786"
             ],
             [
              0.5555555555555556,
              "#d8576b"
             ],
             [
              0.6666666666666666,
              "#ed7953"
             ],
             [
              0.7777777777777778,
              "#fb9f3a"
             ],
             [
              0.8888888888888888,
              "#fdca26"
             ],
             [
              1,
              "#f0f921"
             ]
            ],
            "type": "contour"
           }
          ],
          "contourcarpet": [
           {
            "colorbar": {
             "outlinewidth": 0,
             "ticks": ""
            },
            "type": "contourcarpet"
           }
          ],
          "heatmap": [
           {
            "colorbar": {
             "outlinewidth": 0,
             "ticks": ""
            },
            "colorscale": [
             [
              0,
              "#0d0887"
             ],
             [
              0.1111111111111111,
              "#46039f"
             ],
             [
              0.2222222222222222,
              "#7201a8"
             ],
             [
              0.3333333333333333,
              "#9c179e"
             ],
             [
              0.4444444444444444,
              "#bd3786"
             ],
             [
              0.5555555555555556,
              "#d8576b"
             ],
             [
              0.6666666666666666,
              "#ed7953"
             ],
             [
              0.7777777777777778,
              "#fb9f3a"
             ],
             [
              0.8888888888888888,
              "#fdca26"
             ],
             [
              1,
              "#f0f921"
             ]
            ],
            "type": "heatmap"
           }
          ],
          "histogram": [
           {
            "marker": {
             "pattern": {
              "fillmode": "overlay",
              "size": 10,
              "solidity": 0.2
             }
            },
            "type": "histogram"
           }
          ],
          "histogram2d": [
           {
            "colorbar": {
             "outlinewidth": 0,
             "ticks": ""
            },
            "colorscale": [
             [
              0,
              "#0d0887"
             ],
             [
              0.1111111111111111,
              "#46039f"
             ],
             [
              0.2222222222222222,
              "#7201a8"
             ],
             [
              0.3333333333333333,
              "#9c179e"
             ],
             [
              0.4444444444444444,
              "#bd3786"
             ],
             [
              0.5555555555555556,
              "#d8576b"
             ],
             [
              0.6666666666666666,
              "#ed7953"
             ],
             [
              0.7777777777777778,
              "#fb9f3a"
             ],
             [
              0.8888888888888888,
              "#fdca26"
             ],
             [
              1,
              "#f0f921"
             ]
            ],
            "type": "histogram2d"
           }
          ],
          "histogram2dcontour": [
           {
            "colorbar": {
             "outlinewidth": 0,
             "ticks": ""
            },
            "colorscale": [
             [
              0,
              "#0d0887"
             ],
             [
              0.1111111111111111,
              "#46039f"
             ],
             [
              0.2222222222222222,
              "#7201a8"
             ],
             [
              0.3333333333333333,
              "#9c179e"
             ],
             [
              0.4444444444444444,
              "#bd3786"
             ],
             [
              0.5555555555555556,
              "#d8576b"
             ],
             [
              0.6666666666666666,
              "#ed7953"
             ],
             [
              0.7777777777777778,
              "#fb9f3a"
             ],
             [
              0.8888888888888888,
              "#fdca26"
             ],
             [
              1,
              "#f0f921"
             ]
            ],
            "type": "histogram2dcontour"
           }
          ],
          "mesh3d": [
           {
            "colorbar": {
             "outlinewidth": 0,
             "ticks": ""
            },
            "type": "mesh3d"
           }
          ],
          "parcoords": [
           {
            "line": {
             "colorbar": {
              "outlinewidth": 0,
              "ticks": ""
             }
            },
            "type": "parcoords"
           }
          ],
          "pie": [
           {
            "automargin": true,
            "type": "pie"
           }
          ],
          "scatter": [
           {
            "fillpattern": {
             "fillmode": "overlay",
             "size": 10,
             "solidity": 0.2
            },
            "type": "scatter"
           }
          ],
          "scatter3d": [
           {
            "line": {
             "colorbar": {
              "outlinewidth": 0,
              "ticks": ""
             }
            },
            "marker": {
             "colorbar": {
              "outlinewidth": 0,
              "ticks": ""
             }
            },
            "type": "scatter3d"
           }
          ],
          "scattercarpet": [
           {
            "marker": {
             "colorbar": {
              "outlinewidth": 0,
              "ticks": ""
             }
            },
            "type": "scattercarpet"
           }
          ],
          "scattergeo": [
           {
            "marker": {
             "colorbar": {
              "outlinewidth": 0,
              "ticks": ""
             }
            },
            "type": "scattergeo"
           }
          ],
          "scattergl": [
           {
            "marker": {
             "colorbar": {
              "outlinewidth": 0,
              "ticks": ""
             }
            },
            "type": "scattergl"
           }
          ],
          "scattermap": [
           {
            "marker": {
             "colorbar": {
              "outlinewidth": 0,
              "ticks": ""
             }
            },
            "type": "scattermap"
           }
          ],
          "scattermapbox": [
           {
            "marker": {
             "colorbar": {
              "outlinewidth": 0,
              "ticks": ""
             }
            },
            "type": "scattermapbox"
           }
          ],
          "scatterpolar": [
           {
            "marker": {
             "colorbar": {
              "outlinewidth": 0,
              "ticks": ""
             }
            },
            "type": "scatterpolar"
           }
          ],
          "scatterpolargl": [
           {
            "marker": {
             "colorbar": {
              "outlinewidth": 0,
              "ticks": ""
             }
            },
            "type": "scatterpolargl"
           }
          ],
          "scatterternary": [
           {
            "marker": {
             "colorbar": {
              "outlinewidth": 0,
              "ticks": ""
             }
            },
            "type": "scatterternary"
           }
          ],
          "surface": [
           {
            "colorbar": {
             "outlinewidth": 0,
             "ticks": ""
            },
            "colorscale": [
             [
              0,
              "#0d0887"
             ],
             [
              0.1111111111111111,
              "#46039f"
             ],
             [
              0.2222222222222222,
              "#7201a8"
             ],
             [
              0.3333333333333333,
              "#9c179e"
             ],
             [
              0.4444444444444444,
              "#bd3786"
             ],
             [
              0.5555555555555556,
              "#d8576b"
             ],
             [
              0.6666666666666666,
              "#ed7953"
             ],
             [
              0.7777777777777778,
              "#fb9f3a"
             ],
             [
              0.8888888888888888,
              "#fdca26"
             ],
             [
              1,
              "#f0f921"
             ]
            ],
            "type": "surface"
           }
          ],
          "table": [
           {
            "cells": {
             "fill": {
              "color": "#EBF0F8"
             },
             "line": {
              "color": "white"
             }
            },
            "header": {
             "fill": {
              "color": "#C8D4E3"
             },
             "line": {
              "color": "white"
             }
            },
            "type": "table"
           }
          ]
         },
         "layout": {
          "annotationdefaults": {
           "arrowcolor": "#2a3f5f",
           "arrowhead": 0,
           "arrowwidth": 1
          },
          "autotypenumbers": "strict",
          "coloraxis": {
           "colorbar": {
            "outlinewidth": 0,
            "ticks": ""
           }
          },
          "colorscale": {
           "diverging": [
            [
             0,
             "#8e0152"
            ],
            [
             0.1,
             "#c51b7d"
            ],
            [
             0.2,
             "#de77ae"
            ],
            [
             0.3,
             "#f1b6da"
            ],
            [
             0.4,
             "#fde0ef"
            ],
            [
             0.5,
             "#f7f7f7"
            ],
            [
             0.6,
             "#e6f5d0"
            ],
            [
             0.7,
             "#b8e186"
            ],
            [
             0.8,
             "#7fbc41"
            ],
            [
             0.9,
             "#4d9221"
            ],
            [
             1,
             "#276419"
            ]
           ],
           "sequential": [
            [
             0,
             "#0d0887"
            ],
            [
             0.1111111111111111,
             "#46039f"
            ],
            [
             0.2222222222222222,
             "#7201a8"
            ],
            [
             0.3333333333333333,
             "#9c179e"
            ],
            [
             0.4444444444444444,
             "#bd3786"
            ],
            [
             0.5555555555555556,
             "#d8576b"
            ],
            [
             0.6666666666666666,
             "#ed7953"
            ],
            [
             0.7777777777777778,
             "#fb9f3a"
            ],
            [
             0.8888888888888888,
             "#fdca26"
            ],
            [
             1,
             "#f0f921"
            ]
           ],
           "sequentialminus": [
            [
             0,
             "#0d0887"
            ],
            [
             0.1111111111111111,
             "#46039f"
            ],
            [
             0.2222222222222222,
             "#7201a8"
            ],
            [
             0.3333333333333333,
             "#9c179e"
            ],
            [
             0.4444444444444444,
             "#bd3786"
            ],
            [
             0.5555555555555556,
             "#d8576b"
            ],
            [
             0.6666666666666666,
             "#ed7953"
            ],
            [
             0.7777777777777778,
             "#fb9f3a"
            ],
            [
             0.8888888888888888,
             "#fdca26"
            ],
            [
             1,
             "#f0f921"
            ]
           ]
          },
          "colorway": [
           "#636efa",
           "#EF553B",
           "#00cc96",
           "#ab63fa",
           "#FFA15A",
           "#19d3f3",
           "#FF6692",
           "#B6E880",
           "#FF97FF",
           "#FECB52"
          ],
          "font": {
           "color": "#2a3f5f"
          },
          "geo": {
           "bgcolor": "white",
           "lakecolor": "white",
           "landcolor": "#E5ECF6",
           "showlakes": true,
           "showland": true,
           "subunitcolor": "white"
          },
          "hoverlabel": {
           "align": "left"
          },
          "hovermode": "closest",
          "mapbox": {
           "style": "light"
          },
          "paper_bgcolor": "white",
          "plot_bgcolor": "#E5ECF6",
          "polar": {
           "angularaxis": {
            "gridcolor": "white",
            "linecolor": "white",
            "ticks": ""
           },
           "bgcolor": "#E5ECF6",
           "radialaxis": {
            "gridcolor": "white",
            "linecolor": "white",
            "ticks": ""
           }
          },
          "scene": {
           "xaxis": {
            "backgroundcolor": "#E5ECF6",
            "gridcolor": "white",
            "gridwidth": 2,
            "linecolor": "white",
            "showbackground": true,
            "ticks": "",
            "zerolinecolor": "white"
           },
           "yaxis": {
            "backgroundcolor": "#E5ECF6",
            "gridcolor": "white",
            "gridwidth": 2,
            "linecolor": "white",
            "showbackground": true,
            "ticks": "",
            "zerolinecolor": "white"
           },
           "zaxis": {
            "backgroundcolor": "#E5ECF6",
            "gridcolor": "white",
            "gridwidth": 2,
            "linecolor": "white",
            "showbackground": true,
            "ticks": "",
            "zerolinecolor": "white"
           }
          },
          "shapedefaults": {
           "line": {
            "color": "#2a3f5f"
           }
          },
          "ternary": {
           "aaxis": {
            "gridcolor": "white",
            "linecolor": "white",
            "ticks": ""
           },
           "baxis": {
            "gridcolor": "white",
            "linecolor": "white",
            "ticks": ""
           },
           "bgcolor": "#E5ECF6",
           "caxis": {
            "gridcolor": "white",
            "linecolor": "white",
            "ticks": ""
           }
          },
          "title": {
           "x": 0.05
          },
          "xaxis": {
           "automargin": true,
           "gridcolor": "white",
           "linecolor": "white",
           "ticks": "",
           "title": {
            "standoff": 15
           },
           "zerolinecolor": "white",
           "zerolinewidth": 2
          },
          "yaxis": {
           "automargin": true,
           "gridcolor": "white",
           "linecolor": "white",
           "ticks": "",
           "title": {
            "standoff": 15
           },
           "zerolinecolor": "white",
           "zerolinewidth": 2
          }
         }
        },
        "title": {
         "text": "Top 15 Highest Paying Job Titles"
        },
        "xaxis": {
         "anchor": "y",
         "domain": [
          0,
          1
         ],
         "tickangle": -45,
         "title": {
          "text": "title"
         }
        },
        "yaxis": {
         "anchor": "x",
         "domain": [
          0,
          1
         ],
         "title": {
          "text": "Average Salary"
         }
        }
       }
      }
     },
     "metadata": {},
     "output_type": "display_data"
    }
   ],
   "source": [
    "# Enhanced Bar Chart – Top 15 Highest Paying Jobs\n",
    "title_salary = df.groupby('title')['avg_salary'].mean().nlargest(15).reset_index()\n",
    "\n",
    "fig5 = px.bar(title_salary,\n",
    "             x='avg_salary',\n",
    "             y='title',\n",
    "             orientation='h',\n",
    "             title='Top 15 Highest Paying Job Titles',\n",
    "             color='avg_salary',\n",
    "             color_continuous_scale='viridis',\n",
    "             text=title_salary['avg_salary'].apply(lambda x: f'${x:,.0f}'))\n",
    "\n",
    "fig5.update_layout(\n",
    "    title_x=0.5,\n",
    "    title_font_size=20,\n",
    "    xaxis_title='Average Salary (USD)',\n",
    "    yaxis_title='Job Title',\n",
    "    height=700,\n",
    "    xaxis_tickformat='$,.0f',\n",
    "    plot_bgcolor='white',\n",
    "    hoverlabel=dict(bgcolor='white'),\n",
    "    margin=dict(l=200, t=100, r=100)\n",
    "    showlegend=False\n",
    ")\n",
    "\n",
    "fig5.update_traces(\n",
    "    textposition='auto',\n",
    "    hovertemplate='<b>%{y}</b><br>Salary: %{text}<extra></extra>'\n",
    ")\n",
    "\n",
    "fig5.show()"
   ]
  }
 ],
 "metadata": {
  "kernelspec": {
   "display_name": "base",
   "language": "python",
   "name": "python3"
  },
  "language_info": {
   "codemirror_mode": {
    "name": "ipython",
    "version": 3
   },
   "file_extension": ".py",
   "mimetype": "text/x-python",
   "name": "python",
   "nbconvert_exporter": "python",
   "pygments_lexer": "ipython3",
   "version": "3.12.9"
  }
 },
 "nbformat": 4,
 "nbformat_minor": 5
}
