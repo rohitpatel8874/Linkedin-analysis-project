{
 "cells": [
  {
   "cell_type": "code",
   "execution_count": 5,
   "id": "ebb55e2f",
   "metadata": {},
   "outputs": [],
   "source": [
    "import pandas as pd\n",
    "import numpy as np\n",
    "import matplotlib.pyplot as plt\n",
    "import seaborn as sns\n",
    "import plotly.express as px"
   ]
  },
  {
   "cell_type": "code",
   "execution_count": 3,
   "id": "066bed88",
   "metadata": {},
   "outputs": [
    {
     "data": {
      "text/html": [
       "<div>\n",
       "<style scoped>\n",
       "    .dataframe tbody tr th:only-of-type {\n",
       "        vertical-align: middle;\n",
       "    }\n",
       "\n",
       "    .dataframe tbody tr th {\n",
       "        vertical-align: top;\n",
       "    }\n",
       "\n",
       "    .dataframe thead th {\n",
       "        text-align: right;\n",
       "    }\n",
       "</style>\n",
       "<table border=\"1\" class=\"dataframe\">\n",
       "  <thead>\n",
       "    <tr style=\"text-align: right;\">\n",
       "      <th></th>\n",
       "      <th>Employment type</th>\n",
       "      <th>Industries</th>\n",
       "      <th>Job function</th>\n",
       "      <th>Seniority level</th>\n",
       "      <th>company</th>\n",
       "      <th>company_id</th>\n",
       "      <th>context</th>\n",
       "      <th>date</th>\n",
       "      <th>description</th>\n",
       "      <th>education</th>\n",
       "      <th>location</th>\n",
       "      <th>months_experience</th>\n",
       "      <th>post_id</th>\n",
       "      <th>post_url</th>\n",
       "      <th>sal_high</th>\n",
       "      <th>sal_low</th>\n",
       "      <th>salary</th>\n",
       "      <th>title</th>\n",
       "    </tr>\n",
       "  </thead>\n",
       "  <tbody>\n",
       "    <tr>\n",
       "      <th>0</th>\n",
       "      <td>Full-time</td>\n",
       "      <td>Broadcast Media</td>\n",
       "      <td>Information Technology</td>\n",
       "      <td>Mid-Senior level</td>\n",
       "      <td>CyberCoders</td>\n",
       "      <td>21836.0</td>\n",
       "      <td>{\"@context\": \"http://schema.org\", \"@type\": \"Jo...</td>\n",
       "      <td>NaN</td>\n",
       "      <td>Job Title: Senior Data Engineer Location: Alex...</td>\n",
       "      <td>bachelor degree</td>\n",
       "      <td>Alexandria, VA</td>\n",
       "      <td>60.0</td>\n",
       "      <td>2632814552</td>\n",
       "      <td>https://www.linkedin.com/jobs/view/senior-data...</td>\n",
       "      <td>NaN</td>\n",
       "      <td>NaN</td>\n",
       "      <td>NaN</td>\n",
       "      <td>Senior Data Engineer</td>\n",
       "    </tr>\n",
       "    <tr>\n",
       "      <th>1</th>\n",
       "      <td>Full-time</td>\n",
       "      <td>Hospital &amp; Health Care, Medical Devices, and P...</td>\n",
       "      <td>Engineering and Information Technology</td>\n",
       "      <td>Not Applicable</td>\n",
       "      <td>Johnson &amp; Johnson</td>\n",
       "      <td>1207.0</td>\n",
       "      <td>{\"@context\": \"http://schema.org\", \"@type\": \"Jo...</td>\n",
       "      <td>NaN</td>\n",
       "      <td>Ethicon, part of Johnson &amp; Johnson Medical Dev...</td>\n",
       "      <td>bachelor degree</td>\n",
       "      <td>Santa Clara, CA</td>\n",
       "      <td>96.0</td>\n",
       "      <td>2632810866</td>\n",
       "      <td>https://www.linkedin.com/jobs/view/principal-f...</td>\n",
       "      <td>NaN</td>\n",
       "      <td>NaN</td>\n",
       "      <td>NaN</td>\n",
       "      <td>Principal Full Stack Software Engineer.</td>\n",
       "    </tr>\n",
       "    <tr>\n",
       "      <th>2</th>\n",
       "      <td>Full-time</td>\n",
       "      <td>Computer Hardware, Computer Software, and Info...</td>\n",
       "      <td>Engineering and Information Technology</td>\n",
       "      <td>Not Applicable</td>\n",
       "      <td>Microsoft</td>\n",
       "      <td>1035.0</td>\n",
       "      <td>{\"@context\": \"http://schema.org\", \"@type\": \"Jo...</td>\n",
       "      <td>NaN</td>\n",
       "      <td>Microsoft’s WCB health team is looking for a S...</td>\n",
       "      <td>bachelor degree</td>\n",
       "      <td>Washington, DC</td>\n",
       "      <td>84.0</td>\n",
       "      <td>2632812746</td>\n",
       "      <td>https://www.linkedin.com/jobs/view/senior-soft...</td>\n",
       "      <td>189000.0</td>\n",
       "      <td>120000.0</td>\n",
       "      <td>$120,000.00/yr - $189,000.00/yr</td>\n",
       "      <td>Senior Software Engineer</td>\n",
       "    </tr>\n",
       "    <tr>\n",
       "      <th>3</th>\n",
       "      <td>Full-time</td>\n",
       "      <td>Computer Hardware, Computer Software, and Info...</td>\n",
       "      <td>Engineering and Information Technology</td>\n",
       "      <td>Not Applicable</td>\n",
       "      <td>Microsoft</td>\n",
       "      <td>1035.0</td>\n",
       "      <td>{\"@context\": \"http://schema.org\", \"@type\": \"Jo...</td>\n",
       "      <td>NaN</td>\n",
       "      <td>Microsoft’s WCB health team is looking for a S...</td>\n",
       "      <td>bachelor degree</td>\n",
       "      <td>Reston, VA</td>\n",
       "      <td>84.0</td>\n",
       "      <td>2632817427</td>\n",
       "      <td>https://www.linkedin.com/jobs/view/senior-soft...</td>\n",
       "      <td>189000.0</td>\n",
       "      <td>120000.0</td>\n",
       "      <td>$120,000.00/yr - $189,000.00/yr</td>\n",
       "      <td>Senior Software Engineer</td>\n",
       "    </tr>\n",
       "    <tr>\n",
       "      <th>4</th>\n",
       "      <td>Full-time</td>\n",
       "      <td>Computer Hardware, Computer Software, and Info...</td>\n",
       "      <td>Engineering and Information Technology</td>\n",
       "      <td>Not Applicable</td>\n",
       "      <td>Microsoft</td>\n",
       "      <td>1035.0</td>\n",
       "      <td>{\"@context\": \"http://schema.org\", \"@type\": \"Jo...</td>\n",
       "      <td>NaN</td>\n",
       "      <td>Microsoft’s WCB health team is looking for a S...</td>\n",
       "      <td>bachelor degree</td>\n",
       "      <td>Irving, TX</td>\n",
       "      <td>84.0</td>\n",
       "      <td>2632817426</td>\n",
       "      <td>https://www.linkedin.com/jobs/view/senior-soft...</td>\n",
       "      <td>175000.0</td>\n",
       "      <td>108000.0</td>\n",
       "      <td>$108,000.00/yr - $175,000.00/yr</td>\n",
       "      <td>Senior Software Engineer</td>\n",
       "    </tr>\n",
       "    <tr>\n",
       "      <th>...</th>\n",
       "      <td>...</td>\n",
       "      <td>...</td>\n",
       "      <td>...</td>\n",
       "      <td>...</td>\n",
       "      <td>...</td>\n",
       "      <td>...</td>\n",
       "      <td>...</td>\n",
       "      <td>...</td>\n",
       "      <td>...</td>\n",
       "      <td>...</td>\n",
       "      <td>...</td>\n",
       "      <td>...</td>\n",
       "      <td>...</td>\n",
       "      <td>...</td>\n",
       "      <td>...</td>\n",
       "      <td>...</td>\n",
       "      <td>...</td>\n",
       "      <td>...</td>\n",
       "    </tr>\n",
       "    <tr>\n",
       "      <th>8256</th>\n",
       "      <td>Contract</td>\n",
       "      <td>NaN</td>\n",
       "      <td>NaN</td>\n",
       "      <td>NaN</td>\n",
       "      <td>Sky Solutions</td>\n",
       "      <td>18682633.0</td>\n",
       "      <td>{\"@context\": \"http://schema.org\", \"@type\": \"Jo...</td>\n",
       "      <td>2021-10-17 23:50:58.294116</td>\n",
       "      <td>Primary Skills: 1. Good hands on experience on...</td>\n",
       "      <td>bachelor degree</td>\n",
       "      <td>Malvern, PA</td>\n",
       "      <td>NaN</td>\n",
       "      <td>2750535238</td>\n",
       "      <td>https://www.linkedin.com/jobs/view/site-reliab...</td>\n",
       "      <td>NaN</td>\n",
       "      <td>NaN</td>\n",
       "      <td>NaN</td>\n",
       "      <td>Site Reliability Engineer</td>\n",
       "    </tr>\n",
       "    <tr>\n",
       "      <th>8257</th>\n",
       "      <td>Full-time</td>\n",
       "      <td>Marketing and Advertising, Computer Software, ...</td>\n",
       "      <td>Information Technology</td>\n",
       "      <td>Associate</td>\n",
       "      <td>Zillow</td>\n",
       "      <td>13990.0</td>\n",
       "      <td>{\"@context\": \"http://schema.org\", \"@type\": \"Jo...</td>\n",
       "      <td>2021-10-17 23:51:01.950194</td>\n",
       "      <td>About The Team The SRE team at Zillow Group em...</td>\n",
       "      <td>bachelor degree</td>\n",
       "      <td>United States</td>\n",
       "      <td>60.0</td>\n",
       "      <td>2743905746</td>\n",
       "      <td>https://www.linkedin.com/jobs/view/senior-site...</td>\n",
       "      <td>NaN</td>\n",
       "      <td>NaN</td>\n",
       "      <td>NaN</td>\n",
       "      <td>Senior Site Reliability Engineer</td>\n",
       "    </tr>\n",
       "    <tr>\n",
       "      <th>8258</th>\n",
       "      <td>Full-time</td>\n",
       "      <td>Computer Software, Consumer Services, and Ente...</td>\n",
       "      <td>Engineering and Information Technology</td>\n",
       "      <td>Not Applicable</td>\n",
       "      <td>PlayStation</td>\n",
       "      <td>1254.0</td>\n",
       "      <td>{\"@context\": \"http://schema.org\", \"@type\": \"Jo...</td>\n",
       "      <td>2021-10-17 23:51:05.271522</td>\n",
       "      <td>PlayStation isn’t just the Best Place to Play ...</td>\n",
       "      <td>bachelor degree</td>\n",
       "      <td>San Diego, CA</td>\n",
       "      <td>84.0</td>\n",
       "      <td>2740102323</td>\n",
       "      <td>https://www.linkedin.com/jobs/view/sr-site-rel...</td>\n",
       "      <td>162000.0</td>\n",
       "      <td>129000.0</td>\n",
       "      <td>$129,000.00/yr - $162,000.00/yr</td>\n",
       "      <td>Sr. Site Reliability Engineer</td>\n",
       "    </tr>\n",
       "    <tr>\n",
       "      <th>8259</th>\n",
       "      <td>NaN</td>\n",
       "      <td>NaN</td>\n",
       "      <td>NaN</td>\n",
       "      <td>NaN</td>\n",
       "      <td>Flowspace</td>\n",
       "      <td>NaN</td>\n",
       "      <td>NaN</td>\n",
       "      <td>2021-10-17 23:51:08.758745</td>\n",
       "      <td>NaN</td>\n",
       "      <td>NaN</td>\n",
       "      <td>Los Angeles, CA</td>\n",
       "      <td>NaN</td>\n",
       "      <td>2754349591</td>\n",
       "      <td>https://www.linkedin.com/jobs/view/site-reliab...</td>\n",
       "      <td>NaN</td>\n",
       "      <td>NaN</td>\n",
       "      <td>NaN</td>\n",
       "      <td>Site Reliability / DevOps Engineer (Remote)</td>\n",
       "    </tr>\n",
       "    <tr>\n",
       "      <th>8260</th>\n",
       "      <td>Full-time</td>\n",
       "      <td>Marketing and Advertising, Information Technol...</td>\n",
       "      <td>Engineering and Information Technology</td>\n",
       "      <td>Mid-Senior level</td>\n",
       "      <td>Adobe</td>\n",
       "      <td>1480.0</td>\n",
       "      <td>{\"@context\": \"http://schema.org\", \"@type\": \"Jo...</td>\n",
       "      <td>2021-10-17 23:51:11.907258</td>\n",
       "      <td>Our Company Changing the world through digital...</td>\n",
       "      <td>bachelor degree</td>\n",
       "      <td>Austin, TX</td>\n",
       "      <td>36.0</td>\n",
       "      <td>2751979003</td>\n",
       "      <td>https://www.linkedin.com/jobs/view/site-reliab...</td>\n",
       "      <td>NaN</td>\n",
       "      <td>NaN</td>\n",
       "      <td>NaN</td>\n",
       "      <td>Site Reliability Engineer</td>\n",
       "    </tr>\n",
       "  </tbody>\n",
       "</table>\n",
       "<p>8261 rows × 18 columns</p>\n",
       "</div>"
      ],
      "text/plain": [
       "     Employment type                                         Industries  \\\n",
       "0          Full-time                                    Broadcast Media   \n",
       "1          Full-time  Hospital & Health Care, Medical Devices, and P...   \n",
       "2          Full-time  Computer Hardware, Computer Software, and Info...   \n",
       "3          Full-time  Computer Hardware, Computer Software, and Info...   \n",
       "4          Full-time  Computer Hardware, Computer Software, and Info...   \n",
       "...              ...                                                ...   \n",
       "8256        Contract                                                NaN   \n",
       "8257       Full-time  Marketing and Advertising, Computer Software, ...   \n",
       "8258       Full-time  Computer Software, Consumer Services, and Ente...   \n",
       "8259             NaN                                                NaN   \n",
       "8260       Full-time  Marketing and Advertising, Information Technol...   \n",
       "\n",
       "                                Job function   Seniority level  \\\n",
       "0                     Information Technology  Mid-Senior level   \n",
       "1     Engineering and Information Technology    Not Applicable   \n",
       "2     Engineering and Information Technology    Not Applicable   \n",
       "3     Engineering and Information Technology    Not Applicable   \n",
       "4     Engineering and Information Technology    Not Applicable   \n",
       "...                                      ...               ...   \n",
       "8256                                     NaN               NaN   \n",
       "8257                  Information Technology         Associate   \n",
       "8258  Engineering and Information Technology    Not Applicable   \n",
       "8259                                     NaN               NaN   \n",
       "8260  Engineering and Information Technology  Mid-Senior level   \n",
       "\n",
       "                company  company_id  \\\n",
       "0           CyberCoders     21836.0   \n",
       "1     Johnson & Johnson      1207.0   \n",
       "2             Microsoft      1035.0   \n",
       "3             Microsoft      1035.0   \n",
       "4             Microsoft      1035.0   \n",
       "...                 ...         ...   \n",
       "8256      Sky Solutions  18682633.0   \n",
       "8257             Zillow     13990.0   \n",
       "8258        PlayStation      1254.0   \n",
       "8259          Flowspace         NaN   \n",
       "8260              Adobe      1480.0   \n",
       "\n",
       "                                                context  \\\n",
       "0     {\"@context\": \"http://schema.org\", \"@type\": \"Jo...   \n",
       "1     {\"@context\": \"http://schema.org\", \"@type\": \"Jo...   \n",
       "2     {\"@context\": \"http://schema.org\", \"@type\": \"Jo...   \n",
       "3     {\"@context\": \"http://schema.org\", \"@type\": \"Jo...   \n",
       "4     {\"@context\": \"http://schema.org\", \"@type\": \"Jo...   \n",
       "...                                                 ...   \n",
       "8256  {\"@context\": \"http://schema.org\", \"@type\": \"Jo...   \n",
       "8257  {\"@context\": \"http://schema.org\", \"@type\": \"Jo...   \n",
       "8258  {\"@context\": \"http://schema.org\", \"@type\": \"Jo...   \n",
       "8259                                                NaN   \n",
       "8260  {\"@context\": \"http://schema.org\", \"@type\": \"Jo...   \n",
       "\n",
       "                            date  \\\n",
       "0                            NaN   \n",
       "1                            NaN   \n",
       "2                            NaN   \n",
       "3                            NaN   \n",
       "4                            NaN   \n",
       "...                          ...   \n",
       "8256  2021-10-17 23:50:58.294116   \n",
       "8257  2021-10-17 23:51:01.950194   \n",
       "8258  2021-10-17 23:51:05.271522   \n",
       "8259  2021-10-17 23:51:08.758745   \n",
       "8260  2021-10-17 23:51:11.907258   \n",
       "\n",
       "                                            description        education  \\\n",
       "0     Job Title: Senior Data Engineer Location: Alex...  bachelor degree   \n",
       "1     Ethicon, part of Johnson & Johnson Medical Dev...  bachelor degree   \n",
       "2     Microsoft’s WCB health team is looking for a S...  bachelor degree   \n",
       "3     Microsoft’s WCB health team is looking for a S...  bachelor degree   \n",
       "4     Microsoft’s WCB health team is looking for a S...  bachelor degree   \n",
       "...                                                 ...              ...   \n",
       "8256  Primary Skills: 1. Good hands on experience on...  bachelor degree   \n",
       "8257  About The Team The SRE team at Zillow Group em...  bachelor degree   \n",
       "8258  PlayStation isn’t just the Best Place to Play ...  bachelor degree   \n",
       "8259                                                NaN              NaN   \n",
       "8260  Our Company Changing the world through digital...  bachelor degree   \n",
       "\n",
       "             location  months_experience     post_id  \\\n",
       "0      Alexandria, VA               60.0  2632814552   \n",
       "1     Santa Clara, CA               96.0  2632810866   \n",
       "2      Washington, DC               84.0  2632812746   \n",
       "3          Reston, VA               84.0  2632817427   \n",
       "4          Irving, TX               84.0  2632817426   \n",
       "...               ...                ...         ...   \n",
       "8256      Malvern, PA                NaN  2750535238   \n",
       "8257    United States               60.0  2743905746   \n",
       "8258    San Diego, CA               84.0  2740102323   \n",
       "8259  Los Angeles, CA                NaN  2754349591   \n",
       "8260       Austin, TX               36.0  2751979003   \n",
       "\n",
       "                                               post_url  sal_high   sal_low  \\\n",
       "0     https://www.linkedin.com/jobs/view/senior-data...       NaN       NaN   \n",
       "1     https://www.linkedin.com/jobs/view/principal-f...       NaN       NaN   \n",
       "2     https://www.linkedin.com/jobs/view/senior-soft...  189000.0  120000.0   \n",
       "3     https://www.linkedin.com/jobs/view/senior-soft...  189000.0  120000.0   \n",
       "4     https://www.linkedin.com/jobs/view/senior-soft...  175000.0  108000.0   \n",
       "...                                                 ...       ...       ...   \n",
       "8256  https://www.linkedin.com/jobs/view/site-reliab...       NaN       NaN   \n",
       "8257  https://www.linkedin.com/jobs/view/senior-site...       NaN       NaN   \n",
       "8258  https://www.linkedin.com/jobs/view/sr-site-rel...  162000.0  129000.0   \n",
       "8259  https://www.linkedin.com/jobs/view/site-reliab...       NaN       NaN   \n",
       "8260  https://www.linkedin.com/jobs/view/site-reliab...       NaN       NaN   \n",
       "\n",
       "                               salary  \\\n",
       "0                                 NaN   \n",
       "1                                 NaN   \n",
       "2     $120,000.00/yr - $189,000.00/yr   \n",
       "3     $120,000.00/yr - $189,000.00/yr   \n",
       "4     $108,000.00/yr - $175,000.00/yr   \n",
       "...                               ...   \n",
       "8256                              NaN   \n",
       "8257                              NaN   \n",
       "8258  $129,000.00/yr - $162,000.00/yr   \n",
       "8259                              NaN   \n",
       "8260                              NaN   \n",
       "\n",
       "                                            title  \n",
       "0                            Senior Data Engineer  \n",
       "1         Principal Full Stack Software Engineer.  \n",
       "2                        Senior Software Engineer  \n",
       "3                        Senior Software Engineer  \n",
       "4                        Senior Software Engineer  \n",
       "...                                           ...  \n",
       "8256                    Site Reliability Engineer  \n",
       "8257             Senior Site Reliability Engineer  \n",
       "8258                Sr. Site Reliability Engineer  \n",
       "8259  Site Reliability / DevOps Engineer (Remote)  \n",
       "8260                    Site Reliability Engineer  \n",
       "\n",
       "[8261 rows x 18 columns]"
      ]
     },
     "execution_count": 3,
     "metadata": {},
     "output_type": "execute_result"
    }
   ],
   "source": [
    "df = pd.read_csv(r'C:\\Users\\lenovo\\OneDrive\\Desktop\\flask\\graphs\\jobs.csv')\n",
    "df"
   ]
  },
  {
   "cell_type": "code",
   "execution_count": 6,
   "id": "a40acf34",
   "metadata": {},
   "outputs": [
    {
     "data": {
      "application/vnd.plotly.v1+json": {
       "config": {
        "plotlyServerURL": "https://plot.ly"
       },
       "data": [
        {
         "hovertemplate": "Job Title=%{x}<br>Count=%{marker.color}<extra></extra>",
         "legendgroup": "",
         "marker": {
          "color": {
           "bdata": "AQPnAusBuQF7AHEAUgBRAEkAPAA7ADEAMQArACoA",
           "dtype": "i2"
          },
          "coloraxis": "coloraxis",
          "pattern": {
           "shape": ""
          }
         },
         "name": "",
         "orientation": "v",
         "showlegend": false,
         "text": {
          "bdata": "AAAAAAAIiEAAAAAAADiHQAAAAAAAsH5AAAAAAACQe0AAAAAAAMBeQAAAAAAAQFxAAAAAAACAVEAAAAAAAEBUQAAAAAAAQFJAAAAAAAAATkAAAAAAAIBNQAAAAAAAgEhAAAAAAACASEAAAAAAAIBFQAAAAAAAAEVA",
          "dtype": "f8"
         },
         "textposition": "auto",
         "type": "bar",
         "x": [
          "Data Scientist",
          "Software Engineer",
          "Machine Learning Engineer",
          "Site Reliability Engineer",
          "Senior Software Engineer",
          "Software Engineer I",
          "Senior Site Reliability Engineer",
          "Junior Data Scientist",
          "Junior Software Engineer",
          "Data Engineer",
          "Site Reliability Engineer (SRE), Apple Cloud Services",
          "Senior Data Engineer",
          "Software Engineer, Apple Pay",
          "Data & Applied Scientist",
          "Software Engineer (Entry Level)"
         ],
         "xaxis": "x",
         "y": {
          "bdata": "AQPnAusBuQF7AHEAUgBRAEkAPAA7ADEAMQArACoA",
          "dtype": "i2"
         },
         "yaxis": "y"
        }
       ],
       "layout": {
        "barmode": "relative",
        "coloraxis": {
         "colorbar": {
          "title": {
           "text": "Count"
          }
         },
         "colorscale": [
          [
           0,
           "#0d0887"
          ],
          [
           0.1111111111111111,
           "#46039f"
          ],
          [
           0.2222222222222222,
           "#7201a8"
          ],
          [
           0.3333333333333333,
           "#9c179e"
          ],
          [
           0.4444444444444444,
           "#bd3786"
          ],
          [
           0.5555555555555556,
           "#d8576b"
          ],
          [
           0.6666666666666666,
           "#ed7953"
          ],
          [
           0.7777777777777778,
           "#fb9f3a"
          ],
          [
           0.8888888888888888,
           "#fdca26"
          ],
          [
           1,
           "#f0f921"
          ]
         ]
        },
        "legend": {
         "tracegroupgap": 0
        },
        "template": {
         "data": {
          "bar": [
           {
            "error_x": {
             "color": "#2a3f5f"
            },
            "error_y": {
             "color": "#2a3f5f"
            },
            "marker": {
             "line": {
              "color": "#E5ECF6",
              "width": 0.5
             },
             "pattern": {
              "fillmode": "overlay",
              "size": 10,
              "solidity": 0.2
             }
            },
            "type": "bar"
           }
          ],
          "barpolar": [
           {
            "marker": {
             "line": {
              "color": "#E5ECF6",
              "width": 0.5
             },
             "pattern": {
              "fillmode": "overlay",
              "size": 10,
              "solidity": 0.2
             }
            },
            "type": "barpolar"
           }
          ],
          "carpet": [
           {
            "aaxis": {
             "endlinecolor": "#2a3f5f",
             "gridcolor": "white",
             "linecolor": "white",
             "minorgridcolor": "white",
             "startlinecolor": "#2a3f5f"
            },
            "baxis": {
             "endlinecolor": "#2a3f5f",
             "gridcolor": "white",
             "linecolor": "white",
             "minorgridcolor": "white",
             "startlinecolor": "#2a3f5f"
            },
            "type": "carpet"
           }
          ],
          "choropleth": [
           {
            "colorbar": {
             "outlinewidth": 0,
             "ticks": ""
            },
            "type": "choropleth"
           }
          ],
          "contour": [
           {
            "colorbar": {
             "outlinewidth": 0,
             "ticks": ""
            },
            "colorscale": [
             [
              0,
              "#0d0887"
             ],
             [
              0.1111111111111111,
              "#46039f"
             ],
             [
              0.2222222222222222,
              "#7201a8"
             ],
             [
              0.3333333333333333,
              "#9c179e"
             ],
             [
              0.4444444444444444,
              "#bd3786"
             ],
             [
              0.5555555555555556,
              "#d8576b"
             ],
             [
              0.6666666666666666,
              "#ed7953"
             ],
             [
              0.7777777777777778,
              "#fb9f3a"
             ],
             [
              0.8888888888888888,
              "#fdca26"
             ],
             [
              1,
              "#f0f921"
             ]
            ],
            "type": "contour"
           }
          ],
          "contourcarpet": [
           {
            "colorbar": {
             "outlinewidth": 0,
             "ticks": ""
            },
            "type": "contourcarpet"
           }
          ],
          "heatmap": [
           {
            "colorbar": {
             "outlinewidth": 0,
             "ticks": ""
            },
            "colorscale": [
             [
              0,
              "#0d0887"
             ],
             [
              0.1111111111111111,
              "#46039f"
             ],
             [
              0.2222222222222222,
              "#7201a8"
             ],
             [
              0.3333333333333333,
              "#9c179e"
             ],
             [
              0.4444444444444444,
              "#bd3786"
             ],
             [
              0.5555555555555556,
              "#d8576b"
             ],
             [
              0.6666666666666666,
              "#ed7953"
             ],
             [
              0.7777777777777778,
              "#fb9f3a"
             ],
             [
              0.8888888888888888,
              "#fdca26"
             ],
             [
              1,
              "#f0f921"
             ]
            ],
            "type": "heatmap"
           }
          ],
          "histogram": [
           {
            "marker": {
             "pattern": {
              "fillmode": "overlay",
              "size": 10,
              "solidity": 0.2
             }
            },
            "type": "histogram"
           }
          ],
          "histogram2d": [
           {
            "colorbar": {
             "outlinewidth": 0,
             "ticks": ""
            },
            "colorscale": [
             [
              0,
              "#0d0887"
             ],
             [
              0.1111111111111111,
              "#46039f"
             ],
             [
              0.2222222222222222,
              "#7201a8"
             ],
             [
              0.3333333333333333,
              "#9c179e"
             ],
             [
              0.4444444444444444,
              "#bd3786"
             ],
             [
              0.5555555555555556,
              "#d8576b"
             ],
             [
              0.6666666666666666,
              "#ed7953"
             ],
             [
              0.7777777777777778,
              "#fb9f3a"
             ],
             [
              0.8888888888888888,
              "#fdca26"
             ],
             [
              1,
              "#f0f921"
             ]
            ],
            "type": "histogram2d"
           }
          ],
          "histogram2dcontour": [
           {
            "colorbar": {
             "outlinewidth": 0,
             "ticks": ""
            },
            "colorscale": [
             [
              0,
              "#0d0887"
             ],
             [
              0.1111111111111111,
              "#46039f"
             ],
             [
              0.2222222222222222,
              "#7201a8"
             ],
             [
              0.3333333333333333,
              "#9c179e"
             ],
             [
              0.4444444444444444,
              "#bd3786"
             ],
             [
              0.5555555555555556,
              "#d8576b"
             ],
             [
              0.6666666666666666,
              "#ed7953"
             ],
             [
              0.7777777777777778,
              "#fb9f3a"
             ],
             [
              0.8888888888888888,
              "#fdca26"
             ],
             [
              1,
              "#f0f921"
             ]
            ],
            "type": "histogram2dcontour"
           }
          ],
          "mesh3d": [
           {
            "colorbar": {
             "outlinewidth": 0,
             "ticks": ""
            },
            "type": "mesh3d"
           }
          ],
          "parcoords": [
           {
            "line": {
             "colorbar": {
              "outlinewidth": 0,
              "ticks": ""
             }
            },
            "type": "parcoords"
           }
          ],
          "pie": [
           {
            "automargin": true,
            "type": "pie"
           }
          ],
          "scatter": [
           {
            "fillpattern": {
             "fillmode": "overlay",
             "size": 10,
             "solidity": 0.2
            },
            "type": "scatter"
           }
          ],
          "scatter3d": [
           {
            "line": {
             "colorbar": {
              "outlinewidth": 0,
              "ticks": ""
             }
            },
            "marker": {
             "colorbar": {
              "outlinewidth": 0,
              "ticks": ""
             }
            },
            "type": "scatter3d"
           }
          ],
          "scattercarpet": [
           {
            "marker": {
             "colorbar": {
              "outlinewidth": 0,
              "ticks": ""
             }
            },
            "type": "scattercarpet"
           }
          ],
          "scattergeo": [
           {
            "marker": {
             "colorbar": {
              "outlinewidth": 0,
              "ticks": ""
             }
            },
            "type": "scattergeo"
           }
          ],
          "scattergl": [
           {
            "marker": {
             "colorbar": {
              "outlinewidth": 0,
              "ticks": ""
             }
            },
            "type": "scattergl"
           }
          ],
          "scattermap": [
           {
            "marker": {
             "colorbar": {
              "outlinewidth": 0,
              "ticks": ""
             }
            },
            "type": "scattermap"
           }
          ],
          "scattermapbox": [
           {
            "marker": {
             "colorbar": {
              "outlinewidth": 0,
              "ticks": ""
             }
            },
            "type": "scattermapbox"
           }
          ],
          "scatterpolar": [
           {
            "marker": {
             "colorbar": {
              "outlinewidth": 0,
              "ticks": ""
             }
            },
            "type": "scatterpolar"
           }
          ],
          "scatterpolargl": [
           {
            "marker": {
             "colorbar": {
              "outlinewidth": 0,
              "ticks": ""
             }
            },
            "type": "scatterpolargl"
           }
          ],
          "scatterternary": [
           {
            "marker": {
             "colorbar": {
              "outlinewidth": 0,
              "ticks": ""
             }
            },
            "type": "scatterternary"
           }
          ],
          "surface": [
           {
            "colorbar": {
             "outlinewidth": 0,
             "ticks": ""
            },
            "colorscale": [
             [
              0,
              "#0d0887"
             ],
             [
              0.1111111111111111,
              "#46039f"
             ],
             [
              0.2222222222222222,
              "#7201a8"
             ],
             [
              0.3333333333333333,
              "#9c179e"
             ],
             [
              0.4444444444444444,
              "#bd3786"
             ],
             [
              0.5555555555555556,
              "#d8576b"
             ],
             [
              0.6666666666666666,
              "#ed7953"
             ],
             [
              0.7777777777777778,
              "#fb9f3a"
             ],
             [
              0.8888888888888888,
              "#fdca26"
             ],
             [
              1,
              "#f0f921"
             ]
            ],
            "type": "surface"
           }
          ],
          "table": [
           {
            "cells": {
             "fill": {
              "color": "#EBF0F8"
             },
             "line": {
              "color": "white"
             }
            },
            "header": {
             "fill": {
              "color": "#C8D4E3"
             },
             "line": {
              "color": "white"
             }
            },
            "type": "table"
           }
          ]
         },
         "layout": {
          "annotationdefaults": {
           "arrowcolor": "#2a3f5f",
           "arrowhead": 0,
           "arrowwidth": 1
          },
          "autotypenumbers": "strict",
          "coloraxis": {
           "colorbar": {
            "outlinewidth": 0,
            "ticks": ""
           }
          },
          "colorscale": {
           "diverging": [
            [
             0,
             "#8e0152"
            ],
            [
             0.1,
             "#c51b7d"
            ],
            [
             0.2,
             "#de77ae"
            ],
            [
             0.3,
             "#f1b6da"
            ],
            [
             0.4,
             "#fde0ef"
            ],
            [
             0.5,
             "#f7f7f7"
            ],
            [
             0.6,
             "#e6f5d0"
            ],
            [
             0.7,
             "#b8e186"
            ],
            [
             0.8,
             "#7fbc41"
            ],
            [
             0.9,
             "#4d9221"
            ],
            [
             1,
             "#276419"
            ]
           ],
           "sequential": [
            [
             0,
             "#0d0887"
            ],
            [
             0.1111111111111111,
             "#46039f"
            ],
            [
             0.2222222222222222,
             "#7201a8"
            ],
            [
             0.3333333333333333,
             "#9c179e"
            ],
            [
             0.4444444444444444,
             "#bd3786"
            ],
            [
             0.5555555555555556,
             "#d8576b"
            ],
            [
             0.6666666666666666,
             "#ed7953"
            ],
            [
             0.7777777777777778,
             "#fb9f3a"
            ],
            [
             0.8888888888888888,
             "#fdca26"
            ],
            [
             1,
             "#f0f921"
            ]
           ],
           "sequentialminus": [
            [
             0,
             "#0d0887"
            ],
            [
             0.1111111111111111,
             "#46039f"
            ],
            [
             0.2222222222222222,
             "#7201a8"
            ],
            [
             0.3333333333333333,
             "#9c179e"
            ],
            [
             0.4444444444444444,
             "#bd3786"
            ],
            [
             0.5555555555555556,
             "#d8576b"
            ],
            [
             0.6666666666666666,
             "#ed7953"
            ],
            [
             0.7777777777777778,
             "#fb9f3a"
            ],
            [
             0.8888888888888888,
             "#fdca26"
            ],
            [
             1,
             "#f0f921"
            ]
           ]
          },
          "colorway": [
           "#636efa",
           "#EF553B",
           "#00cc96",
           "#ab63fa",
           "#FFA15A",
           "#19d3f3",
           "#FF6692",
           "#B6E880",
           "#FF97FF",
           "#FECB52"
          ],
          "font": {
           "color": "#2a3f5f"
          },
          "geo": {
           "bgcolor": "white",
           "lakecolor": "white",
           "landcolor": "#E5ECF6",
           "showlakes": true,
           "showland": true,
           "subunitcolor": "white"
          },
          "hoverlabel": {
           "align": "left"
          },
          "hovermode": "closest",
          "mapbox": {
           "style": "light"
          },
          "paper_bgcolor": "white",
          "plot_bgcolor": "#E5ECF6",
          "polar": {
           "angularaxis": {
            "gridcolor": "white",
            "linecolor": "white",
            "ticks": ""
           },
           "bgcolor": "#E5ECF6",
           "radialaxis": {
            "gridcolor": "white",
            "linecolor": "white",
            "ticks": ""
           }
          },
          "scene": {
           "xaxis": {
            "backgroundcolor": "#E5ECF6",
            "gridcolor": "white",
            "gridwidth": 2,
            "linecolor": "white",
            "showbackground": true,
            "ticks": "",
            "zerolinecolor": "white"
           },
           "yaxis": {
            "backgroundcolor": "#E5ECF6",
            "gridcolor": "white",
            "gridwidth": 2,
            "linecolor": "white",
            "showbackground": true,
            "ticks": "",
            "zerolinecolor": "white"
           },
           "zaxis": {
            "backgroundcolor": "#E5ECF6",
            "gridcolor": "white",
            "gridwidth": 2,
            "linecolor": "white",
            "showbackground": true,
            "ticks": "",
            "zerolinecolor": "white"
           }
          },
          "shapedefaults": {
           "line": {
            "color": "#2a3f5f"
           }
          },
          "ternary": {
           "aaxis": {
            "gridcolor": "white",
            "linecolor": "white",
            "ticks": ""
           },
           "baxis": {
            "gridcolor": "white",
            "linecolor": "white",
            "ticks": ""
           },
           "bgcolor": "#E5ECF6",
           "caxis": {
            "gridcolor": "white",
            "linecolor": "white",
            "ticks": ""
           }
          },
          "title": {
           "x": 0.05
          },
          "xaxis": {
           "automargin": true,
           "gridcolor": "white",
           "linecolor": "white",
           "ticks": "",
           "title": {
            "standoff": 15
           },
           "zerolinecolor": "white",
           "zerolinewidth": 2
          },
          "yaxis": {
           "automargin": true,
           "gridcolor": "white",
           "linecolor": "white",
           "ticks": "",
           "title": {
            "standoff": 15
           },
           "zerolinecolor": "white",
           "zerolinewidth": 2
          }
         }
        },
        "title": {
         "text": "Top 15 Most Common Job Titles"
        },
        "xaxis": {
         "anchor": "y",
         "domain": [
          0,
          1
         ],
         "tickangle": -45,
         "title": {
          "text": "Job Title"
         }
        },
        "yaxis": {
         "anchor": "x",
         "domain": [
          0,
          1
         ],
         "title": {
          "text": "Count"
         }
        }
       }
      }
     },
     "metadata": {},
     "output_type": "display_data"
    }
   ],
   "source": [
    "# Job Market Overview\n",
    "top_titles = df['title'].value_counts().nlargest(15).reset_index()\n",
    "top_titles.columns = ['Job Title', 'Count']\n",
    "\n",
    "fig1 = px.bar(top_titles, x='Job Title', y='Count',\n",
    "              title=\"Top 15 Most Common Job Titles\",\n",
    "              color='Count', text='Count')\n",
    "fig1.update_layout(xaxis_tickangle=-45)\n",
    "fig1.show()\n"
   ]
  },
  {
   "cell_type": "code",
   "execution_count": 7,
   "id": "50c90c6a",
   "metadata": {},
   "outputs": [
    {
     "data": {
      "application/vnd.plotly.v1+json": {
       "config": {
        "plotlyServerURL": "https://plot.ly"
       },
       "data": [
        {
         "domain": {
          "x": [
           0,
           1
          ],
          "y": [
           0,
           1
          ]
         },
         "hole": 0.3,
         "hovertemplate": "Employment Type=%{label}<br>Count=%{value}<extra></extra>",
         "labels": [
          "Full-time",
          "Contract",
          "Internship",
          "Part-time",
          "Other",
          "Temporary",
          "Volunteer"
         ],
         "legendgroup": "",
         "name": "",
         "showlegend": true,
         "type": "pie",
         "values": {
          "bdata": "EhywATEALAApAA4AAgA=",
          "dtype": "i2"
         }
        }
       ],
       "layout": {
        "legend": {
         "tracegroupgap": 0
        },
        "template": {
         "data": {
          "bar": [
           {
            "error_x": {
             "color": "#2a3f5f"
            },
            "error_y": {
             "color": "#2a3f5f"
            },
            "marker": {
             "line": {
              "color": "#E5ECF6",
              "width": 0.5
             },
             "pattern": {
              "fillmode": "overlay",
              "size": 10,
              "solidity": 0.2
             }
            },
            "type": "bar"
           }
          ],
          "barpolar": [
           {
            "marker": {
             "line": {
              "color": "#E5ECF6",
              "width": 0.5
             },
             "pattern": {
              "fillmode": "overlay",
              "size": 10,
              "solidity": 0.2
             }
            },
            "type": "barpolar"
           }
          ],
          "carpet": [
           {
            "aaxis": {
             "endlinecolor": "#2a3f5f",
             "gridcolor": "white",
             "linecolor": "white",
             "minorgridcolor": "white",
             "startlinecolor": "#2a3f5f"
            },
            "baxis": {
             "endlinecolor": "#2a3f5f",
             "gridcolor": "white",
             "linecolor": "white",
             "minorgridcolor": "white",
             "startlinecolor": "#2a3f5f"
            },
            "type": "carpet"
           }
          ],
          "choropleth": [
           {
            "colorbar": {
             "outlinewidth": 0,
             "ticks": ""
            },
            "type": "choropleth"
           }
          ],
          "contour": [
           {
            "colorbar": {
             "outlinewidth": 0,
             "ticks": ""
            },
            "colorscale": [
             [
              0,
              "#0d0887"
             ],
             [
              0.1111111111111111,
              "#46039f"
             ],
             [
              0.2222222222222222,
              "#7201a8"
             ],
             [
              0.3333333333333333,
              "#9c179e"
             ],
             [
              0.4444444444444444,
              "#bd3786"
             ],
             [
              0.5555555555555556,
              "#d8576b"
             ],
             [
              0.6666666666666666,
              "#ed7953"
             ],
             [
              0.7777777777777778,
              "#fb9f3a"
             ],
             [
              0.8888888888888888,
              "#fdca26"
             ],
             [
              1,
              "#f0f921"
             ]
            ],
            "type": "contour"
           }
          ],
          "contourcarpet": [
           {
            "colorbar": {
             "outlinewidth": 0,
             "ticks": ""
            },
            "type": "contourcarpet"
           }
          ],
          "heatmap": [
           {
            "colorbar": {
             "outlinewidth": 0,
             "ticks": ""
            },
            "colorscale": [
             [
              0,
              "#0d0887"
             ],
             [
              0.1111111111111111,
              "#46039f"
             ],
             [
              0.2222222222222222,
              "#7201a8"
             ],
             [
              0.3333333333333333,
              "#9c179e"
             ],
             [
              0.4444444444444444,
              "#bd3786"
             ],
             [
              0.5555555555555556,
              "#d8576b"
             ],
             [
              0.6666666666666666,
              "#ed7953"
             ],
             [
              0.7777777777777778,
              "#fb9f3a"
             ],
             [
              0.8888888888888888,
              "#fdca26"
             ],
             [
              1,
              "#f0f921"
             ]
            ],
            "type": "heatmap"
           }
          ],
          "histogram": [
           {
            "marker": {
             "pattern": {
              "fillmode": "overlay",
              "size": 10,
              "solidity": 0.2
             }
            },
            "type": "histogram"
           }
          ],
          "histogram2d": [
           {
            "colorbar": {
             "outlinewidth": 0,
             "ticks": ""
            },
            "colorscale": [
             [
              0,
              "#0d0887"
             ],
             [
              0.1111111111111111,
              "#46039f"
             ],
             [
              0.2222222222222222,
              "#7201a8"
             ],
             [
              0.3333333333333333,
              "#9c179e"
             ],
             [
              0.4444444444444444,
              "#bd3786"
             ],
             [
              0.5555555555555556,
              "#d8576b"
             ],
             [
              0.6666666666666666,
              "#ed7953"
             ],
             [
              0.7777777777777778,
              "#fb9f3a"
             ],
             [
              0.8888888888888888,
              "#fdca26"
             ],
             [
              1,
              "#f0f921"
             ]
            ],
            "type": "histogram2d"
           }
          ],
          "histogram2dcontour": [
           {
            "colorbar": {
             "outlinewidth": 0,
             "ticks": ""
            },
            "colorscale": [
             [
              0,
              "#0d0887"
             ],
             [
              0.1111111111111111,
              "#46039f"
             ],
             [
              0.2222222222222222,
              "#7201a8"
             ],
             [
              0.3333333333333333,
              "#9c179e"
             ],
             [
              0.4444444444444444,
              "#bd3786"
             ],
             [
              0.5555555555555556,
              "#d8576b"
             ],
             [
              0.6666666666666666,
              "#ed7953"
             ],
             [
              0.7777777777777778,
              "#fb9f3a"
             ],
             [
              0.8888888888888888,
              "#fdca26"
             ],
             [
              1,
              "#f0f921"
             ]
            ],
            "type": "histogram2dcontour"
           }
          ],
          "mesh3d": [
           {
            "colorbar": {
             "outlinewidth": 0,
             "ticks": ""
            },
            "type": "mesh3d"
           }
          ],
          "parcoords": [
           {
            "line": {
             "colorbar": {
              "outlinewidth": 0,
              "ticks": ""
             }
            },
            "type": "parcoords"
           }
          ],
          "pie": [
           {
            "automargin": true,
            "type": "pie"
           }
          ],
          "scatter": [
           {
            "fillpattern": {
             "fillmode": "overlay",
             "size": 10,
             "solidity": 0.2
            },
            "type": "scatter"
           }
          ],
          "scatter3d": [
           {
            "line": {
             "colorbar": {
              "outlinewidth": 0,
              "ticks": ""
             }
            },
            "marker": {
             "colorbar": {
              "outlinewidth": 0,
              "ticks": ""
             }
            },
            "type": "scatter3d"
           }
          ],
          "scattercarpet": [
           {
            "marker": {
             "colorbar": {
              "outlinewidth": 0,
              "ticks": ""
             }
            },
            "type": "scattercarpet"
           }
          ],
          "scattergeo": [
           {
            "marker": {
             "colorbar": {
              "outlinewidth": 0,
              "ticks": ""
             }
            },
            "type": "scattergeo"
           }
          ],
          "scattergl": [
           {
            "marker": {
             "colorbar": {
              "outlinewidth": 0,
              "ticks": ""
             }
            },
            "type": "scattergl"
           }
          ],
          "scattermap": [
           {
            "marker": {
             "colorbar": {
              "outlinewidth": 0,
              "ticks": ""
             }
            },
            "type": "scattermap"
           }
          ],
          "scattermapbox": [
           {
            "marker": {
             "colorbar": {
              "outlinewidth": 0,
              "ticks": ""
             }
            },
            "type": "scattermapbox"
           }
          ],
          "scatterpolar": [
           {
            "marker": {
             "colorbar": {
              "outlinewidth": 0,
              "ticks": ""
             }
            },
            "type": "scatterpolar"
           }
          ],
          "scatterpolargl": [
           {
            "marker": {
             "colorbar": {
              "outlinewidth": 0,
              "ticks": ""
             }
            },
            "type": "scatterpolargl"
           }
          ],
          "scatterternary": [
           {
            "marker": {
             "colorbar": {
              "outlinewidth": 0,
              "ticks": ""
             }
            },
            "type": "scatterternary"
           }
          ],
          "surface": [
           {
            "colorbar": {
             "outlinewidth": 0,
             "ticks": ""
            },
            "colorscale": [
             [
              0,
              "#0d0887"
             ],
             [
              0.1111111111111111,
              "#46039f"
             ],
             [
              0.2222222222222222,
              "#7201a8"
             ],
             [
              0.3333333333333333,
              "#9c179e"
             ],
             [
              0.4444444444444444,
              "#bd3786"
             ],
             [
              0.5555555555555556,
              "#d8576b"
             ],
             [
              0.6666666666666666,
              "#ed7953"
             ],
             [
              0.7777777777777778,
              "#fb9f3a"
             ],
             [
              0.8888888888888888,
              "#fdca26"
             ],
             [
              1,
              "#f0f921"
             ]
            ],
            "type": "surface"
           }
          ],
          "table": [
           {
            "cells": {
             "fill": {
              "color": "#EBF0F8"
             },
             "line": {
              "color": "white"
             }
            },
            "header": {
             "fill": {
              "color": "#C8D4E3"
             },
             "line": {
              "color": "white"
             }
            },
            "type": "table"
           }
          ]
         },
         "layout": {
          "annotationdefaults": {
           "arrowcolor": "#2a3f5f",
           "arrowhead": 0,
           "arrowwidth": 1
          },
          "autotypenumbers": "strict",
          "coloraxis": {
           "colorbar": {
            "outlinewidth": 0,
            "ticks": ""
           }
          },
          "colorscale": {
           "diverging": [
            [
             0,
             "#8e0152"
            ],
            [
             0.1,
             "#c51b7d"
            ],
            [
             0.2,
             "#de77ae"
            ],
            [
             0.3,
             "#f1b6da"
            ],
            [
             0.4,
             "#fde0ef"
            ],
            [
             0.5,
             "#f7f7f7"
            ],
            [
             0.6,
             "#e6f5d0"
            ],
            [
             0.7,
             "#b8e186"
            ],
            [
             0.8,
             "#7fbc41"
            ],
            [
             0.9,
             "#4d9221"
            ],
            [
             1,
             "#276419"
            ]
           ],
           "sequential": [
            [
             0,
             "#0d0887"
            ],
            [
             0.1111111111111111,
             "#46039f"
            ],
            [
             0.2222222222222222,
             "#7201a8"
            ],
            [
             0.3333333333333333,
             "#9c179e"
            ],
            [
             0.4444444444444444,
             "#bd3786"
            ],
            [
             0.5555555555555556,
             "#d8576b"
            ],
            [
             0.6666666666666666,
             "#ed7953"
            ],
            [
             0.7777777777777778,
             "#fb9f3a"
            ],
            [
             0.8888888888888888,
             "#fdca26"
            ],
            [
             1,
             "#f0f921"
            ]
           ],
           "sequentialminus": [
            [
             0,
             "#0d0887"
            ],
            [
             0.1111111111111111,
             "#46039f"
            ],
            [
             0.2222222222222222,
             "#7201a8"
            ],
            [
             0.3333333333333333,
             "#9c179e"
            ],
            [
             0.4444444444444444,
             "#bd3786"
            ],
            [
             0.5555555555555556,
             "#d8576b"
            ],
            [
             0.6666666666666666,
             "#ed7953"
            ],
            [
             0.7777777777777778,
             "#fb9f3a"
            ],
            [
             0.8888888888888888,
             "#fdca26"
            ],
            [
             1,
             "#f0f921"
            ]
           ]
          },
          "colorway": [
           "#636efa",
           "#EF553B",
           "#00cc96",
           "#ab63fa",
           "#FFA15A",
           "#19d3f3",
           "#FF6692",
           "#B6E880",
           "#FF97FF",
           "#FECB52"
          ],
          "font": {
           "color": "#2a3f5f"
          },
          "geo": {
           "bgcolor": "white",
           "lakecolor": "white",
           "landcolor": "#E5ECF6",
           "showlakes": true,
           "showland": true,
           "subunitcolor": "white"
          },
          "hoverlabel": {
           "align": "left"
          },
          "hovermode": "closest",
          "mapbox": {
           "style": "light"
          },
          "paper_bgcolor": "white",
          "plot_bgcolor": "#E5ECF6",
          "polar": {
           "angularaxis": {
            "gridcolor": "white",
            "linecolor": "white",
            "ticks": ""
           },
           "bgcolor": "#E5ECF6",
           "radialaxis": {
            "gridcolor": "white",
            "linecolor": "white",
            "ticks": ""
           }
          },
          "scene": {
           "xaxis": {
            "backgroundcolor": "#E5ECF6",
            "gridcolor": "white",
            "gridwidth": 2,
            "linecolor": "white",
            "showbackground": true,
            "ticks": "",
            "zerolinecolor": "white"
           },
           "yaxis": {
            "backgroundcolor": "#E5ECF6",
            "gridcolor": "white",
            "gridwidth": 2,
            "linecolor": "white",
            "showbackground": true,
            "ticks": "",
            "zerolinecolor": "white"
           },
           "zaxis": {
            "backgroundcolor": "#E5ECF6",
            "gridcolor": "white",
            "gridwidth": 2,
            "linecolor": "white",
            "showbackground": true,
            "ticks": "",
            "zerolinecolor": "white"
           }
          },
          "shapedefaults": {
           "line": {
            "color": "#2a3f5f"
           }
          },
          "ternary": {
           "aaxis": {
            "gridcolor": "white",
            "linecolor": "white",
            "ticks": ""
           },
           "baxis": {
            "gridcolor": "white",
            "linecolor": "white",
            "ticks": ""
           },
           "bgcolor": "#E5ECF6",
           "caxis": {
            "gridcolor": "white",
            "linecolor": "white",
            "ticks": ""
           }
          },
          "title": {
           "x": 0.05
          },
          "xaxis": {
           "automargin": true,
           "gridcolor": "white",
           "linecolor": "white",
           "ticks": "",
           "title": {
            "standoff": 15
           },
           "zerolinecolor": "white",
           "zerolinewidth": 2
          },
          "yaxis": {
           "automargin": true,
           "gridcolor": "white",
           "linecolor": "white",
           "ticks": "",
           "title": {
            "standoff": 15
           },
           "zerolinecolor": "white",
           "zerolinewidth": 2
          }
         }
        },
        "title": {
         "text": "Distribution of Employment Types"
        }
       }
      }
     },
     "metadata": {},
     "output_type": "display_data"
    }
   ],
   "source": [
    "employment_dist = df['Employment type'].value_counts().reset_index()\n",
    "employment_dist.columns = ['Employment Type', 'Count']\n",
    "\n",
    "fig2 = px.pie(employment_dist, names='Employment Type', values='Count',\n",
    "              title=\"Distribution of Employment Types\",\n",
    "              hole=0.3)  # Donut style\n",
    "fig2.show()"
   ]
  },
  {
   "cell_type": "code",
   "execution_count": 8,
   "id": "cc5ea3bb",
   "metadata": {},
   "outputs": [
    {
     "data": {
      "application/vnd.plotly.v1+json": {
       "config": {
        "plotlyServerURL": "https://plot.ly"
       },
       "data": [
        {
         "bingroup": "x",
         "hovertemplate": "Seniority level=%{x}<br>count=%{y}<extra></extra>",
         "legendgroup": "Mid-Senior level",
         "marker": {
          "color": "#636efa",
          "pattern": {
           "shape": ""
          }
         },
         "name": "Mid-Senior level",
         "orientation": "v",
         "showlegend": true,
         "type": "histogram",
         "x": [
          "Mid-Senior level",
          "Mid-Senior level",
          "Mid-Senior level",
          "Mid-Senior level",
          "Mid-Senior level",
          "Mid-Senior level",
          "Mid-Senior level",
          "Mid-Senior level",
          "Mid-Senior level",
          "Mid-Senior level",
          "Mid-Senior level",
          "Mid-Senior level",
          "Mid-Senior level",
          "Mid-Senior level",
          "Mid-Senior level",
          "Mid-Senior level",
          "Mid-Senior level",
          "Mid-Senior level",
          "Mid-Senior level",
          "Mid-Senior level",
          "Mid-Senior level",
          "Mid-Senior level",
          "Mid-Senior level",
          "Mid-Senior level",
          "Mid-Senior level",
          "Mid-Senior level",
          "Mid-Senior level",
          "Mid-Senior level",
          "Mid-Senior level",
          "Mid-Senior level",
          "Mid-Senior level",
          "Mid-Senior level",
          "Mid-Senior level",
          "Mid-Senior level",
          "Mid-Senior level",
          "Mid-Senior level",
          "Mid-Senior level",
          "Mid-Senior level",
          "Mid-Senior level",
          "Mid-Senior level",
          "Mid-Senior level",
          "Mid-Senior level",
          "Mid-Senior level",
          "Mid-Senior level",
          "Mid-Senior level",
          "Mid-Senior level",
          "Mid-Senior level",
          "Mid-Senior level",
          "Mid-Senior level",
          "Mid-Senior level",
          "Mid-Senior level",
          "Mid-Senior level",
          "Mid-Senior level",
          "Mid-Senior level",
          "Mid-Senior level",
          "Mid-Senior level",
          "Mid-Senior level",
          "Mid-Senior level",
          "Mid-Senior level",
          "Mid-Senior level",
          "Mid-Senior level",
          "Mid-Senior level",
          "Mid-Senior level",
          "Mid-Senior level",
          "Mid-Senior level",
          "Mid-Senior level",
          "Mid-Senior level",
          "Mid-Senior level",
          "Mid-Senior level",
          "Mid-Senior level",
          "Mid-Senior level",
          "Mid-Senior level",
          "Mid-Senior level",
          "Mid-Senior level",
          "Mid-Senior level",
          "Mid-Senior level",
          "Mid-Senior level",
          "Mid-Senior level",
          "Mid-Senior level",
          "Mid-Senior level",
          "Mid-Senior level",
          "Mid-Senior level",
          "Mid-Senior level",
          "Mid-Senior level",
          "Mid-Senior level",
          "Mid-Senior level",
          "Mid-Senior level",
          "Mid-Senior level",
          "Mid-Senior level",
          "Mid-Senior level",
          "Mid-Senior level",
          "Mid-Senior level",
          "Mid-Senior level",
          "Mid-Senior level",
          "Mid-Senior level",
          "Mid-Senior level",
          "Mid-Senior level",
          "Mid-Senior level",
          "Mid-Senior level",
          "Mid-Senior level",
          "Mid-Senior level",
          "Mid-Senior level",
          "Mid-Senior level",
          "Mid-Senior level",
          "Mid-Senior level",
          "Mid-Senior level",
          "Mid-Senior level",
          "Mid-Senior level",
          "Mid-Senior level",
          "Mid-Senior level",
          "Mid-Senior level",
          "Mid-Senior level",
          "Mid-Senior level",
          "Mid-Senior level",
          "Mid-Senior level",
          "Mid-Senior level",
          "Mid-Senior level",
          "Mid-Senior level",
          "Mid-Senior level",
          "Mid-Senior level",
          "Mid-Senior level",
          "Mid-Senior level",
          "Mid-Senior level",
          "Mid-Senior level",
          "Mid-Senior level",
          "Mid-Senior level",
          "Mid-Senior level",
          "Mid-Senior level",
          "Mid-Senior level",
          "Mid-Senior level",
          "Mid-Senior level",
          "Mid-Senior level",
          "Mid-Senior level",
          "Mid-Senior level",
          "Mid-Senior level",
          "Mid-Senior level",
          "Mid-Senior level",
          "Mid-Senior level",
          "Mid-Senior level",
          "Mid-Senior level",
          "Mid-Senior level",
          "Mid-Senior level",
          "Mid-Senior level",
          "Mid-Senior level",
          "Mid-Senior level",
          "Mid-Senior level",
          "Mid-Senior level",
          "Mid-Senior level",
          "Mid-Senior level",
          "Mid-Senior level",
          "Mid-Senior level",
          "Mid-Senior level",
          "Mid-Senior level",
          "Mid-Senior level",
          "Mid-Senior level",
          "Mid-Senior level",
          "Mid-Senior level",
          "Mid-Senior level",
          "Mid-Senior level",
          "Mid-Senior level",
          "Mid-Senior level",
          "Mid-Senior level",
          "Mid-Senior level",
          "Mid-Senior level",
          "Mid-Senior level",
          "Mid-Senior level",
          "Mid-Senior level",
          "Mid-Senior level",
          "Mid-Senior level",
          "Mid-Senior level",
          "Mid-Senior level",
          "Mid-Senior level",
          "Mid-Senior level",
          "Mid-Senior level",
          "Mid-Senior level",
          "Mid-Senior level",
          "Mid-Senior level",
          "Mid-Senior level",
          "Mid-Senior level",
          "Mid-Senior level",
          "Mid-Senior level",
          "Mid-Senior level",
          "Mid-Senior level",
          "Mid-Senior level",
          "Mid-Senior level",
          "Mid-Senior level",
          "Mid-Senior level",
          "Mid-Senior level",
          "Mid-Senior level",
          "Mid-Senior level",
          "Mid-Senior level",
          "Mid-Senior level",
          "Mid-Senior level",
          "Mid-Senior level",
          "Mid-Senior level",
          "Mid-Senior level",
          "Mid-Senior level",
          "Mid-Senior level",
          "Mid-Senior level",
          "Mid-Senior level",
          "Mid-Senior level",
          "Mid-Senior level",
          "Mid-Senior level",
          "Mid-Senior level",
          "Mid-Senior level",
          "Mid-Senior level",
          "Mid-Senior level",
          "Mid-Senior level",
          "Mid-Senior level",
          "Mid-Senior level",
          "Mid-Senior level",
          "Mid-Senior level",
          "Mid-Senior level",
          "Mid-Senior level",
          "Mid-Senior level",
          "Mid-Senior level",
          "Mid-Senior level",
          "Mid-Senior level",
          "Mid-Senior level",
          "Mid-Senior level",
          "Mid-Senior level",
          "Mid-Senior level",
          "Mid-Senior level",
          "Mid-Senior level",
          "Mid-Senior level",
          "Mid-Senior level",
          "Mid-Senior level",
          "Mid-Senior level",
          "Mid-Senior level",
          "Mid-Senior level",
          "Mid-Senior level",
          "Mid-Senior level",
          "Mid-Senior level",
          "Mid-Senior level",
          "Mid-Senior level",
          "Mid-Senior level",
          "Mid-Senior level",
          "Mid-Senior level",
          "Mid-Senior level",
          "Mid-Senior level",
          "Mid-Senior level",
          "Mid-Senior level",
          "Mid-Senior level",
          "Mid-Senior level",
          "Mid-Senior level",
          "Mid-Senior level",
          "Mid-Senior level",
          "Mid-Senior level",
          "Mid-Senior level",
          "Mid-Senior level",
          "Mid-Senior level",
          "Mid-Senior level",
          "Mid-Senior level",
          "Mid-Senior level",
          "Mid-Senior level",
          "Mid-Senior level",
          "Mid-Senior level",
          "Mid-Senior level",
          "Mid-Senior level",
          "Mid-Senior level",
          "Mid-Senior level",
          "Mid-Senior level",
          "Mid-Senior level",
          "Mid-Senior level",
          "Mid-Senior level",
          "Mid-Senior level",
          "Mid-Senior level",
          "Mid-Senior level",
          "Mid-Senior level",
          "Mid-Senior level",
          "Mid-Senior level",
          "Mid-Senior level",
          "Mid-Senior level",
          "Mid-Senior level",
          "Mid-Senior level",
          "Mid-Senior level",
          "Mid-Senior level",
          "Mid-Senior level",
          "Mid-Senior level",
          "Mid-Senior level",
          "Mid-Senior level",
          "Mid-Senior level",
          "Mid-Senior level",
          "Mid-Senior level",
          "Mid-Senior level",
          "Mid-Senior level",
          "Mid-Senior level",
          "Mid-Senior level",
          "Mid-Senior level",
          "Mid-Senior level",
          "Mid-Senior level",
          "Mid-Senior level",
          "Mid-Senior level",
          "Mid-Senior level",
          "Mid-Senior level",
          "Mid-Senior level",
          "Mid-Senior level",
          "Mid-Senior level",
          "Mid-Senior level",
          "Mid-Senior level",
          "Mid-Senior level",
          "Mid-Senior level",
          "Mid-Senior level",
          "Mid-Senior level",
          "Mid-Senior level",
          "Mid-Senior level",
          "Mid-Senior level",
          "Mid-Senior level",
          "Mid-Senior level",
          "Mid-Senior level",
          "Mid-Senior level",
          "Mid-Senior level",
          "Mid-Senior level",
          "Mid-Senior level",
          "Mid-Senior level",
          "Mid-Senior level",
          "Mid-Senior level",
          "Mid-Senior level",
          "Mid-Senior level",
          "Mid-Senior level",
          "Mid-Senior level",
          "Mid-Senior level",
          "Mid-Senior level",
          "Mid-Senior level",
          "Mid-Senior level",
          "Mid-Senior level",
          "Mid-Senior level",
          "Mid-Senior level",
          "Mid-Senior level",
          "Mid-Senior level",
          "Mid-Senior level",
          "Mid-Senior level",
          "Mid-Senior level",
          "Mid-Senior level",
          "Mid-Senior level",
          "Mid-Senior level",
          "Mid-Senior level",
          "Mid-Senior level",
          "Mid-Senior level",
          "Mid-Senior level",
          "Mid-Senior level",
          "Mid-Senior level",
          "Mid-Senior level",
          "Mid-Senior level",
          "Mid-Senior level",
          "Mid-Senior level",
          "Mid-Senior level",
          "Mid-Senior level",
          "Mid-Senior level",
          "Mid-Senior level",
          "Mid-Senior level",
          "Mid-Senior level",
          "Mid-Senior level",
          "Mid-Senior level",
          "Mid-Senior level",
          "Mid-Senior level",
          "Mid-Senior level",
          "Mid-Senior level",
          "Mid-Senior level",
          "Mid-Senior level",
          "Mid-Senior level",
          "Mid-Senior level",
          "Mid-Senior level",
          "Mid-Senior level",
          "Mid-Senior level",
          "Mid-Senior level",
          "Mid-Senior level",
          "Mid-Senior level",
          "Mid-Senior level",
          "Mid-Senior level",
          "Mid-Senior level",
          "Mid-Senior level",
          "Mid-Senior level",
          "Mid-Senior level",
          "Mid-Senior level",
          "Mid-Senior level",
          "Mid-Senior level",
          "Mid-Senior level",
          "Mid-Senior level",
          "Mid-Senior level",
          "Mid-Senior level",
          "Mid-Senior level",
          "Mid-Senior level",
          "Mid-Senior level",
          "Mid-Senior level",
          "Mid-Senior level",
          "Mid-Senior level",
          "Mid-Senior level",
          "Mid-Senior level",
          "Mid-Senior level",
          "Mid-Senior level",
          "Mid-Senior level",
          "Mid-Senior level",
          "Mid-Senior level",
          "Mid-Senior level",
          "Mid-Senior level",
          "Mid-Senior level",
          "Mid-Senior level",
          "Mid-Senior level",
          "Mid-Senior level",
          "Mid-Senior level",
          "Mid-Senior level",
          "Mid-Senior level",
          "Mid-Senior level",
          "Mid-Senior level",
          "Mid-Senior level",
          "Mid-Senior level",
          "Mid-Senior level",
          "Mid-Senior level",
          "Mid-Senior level",
          "Mid-Senior level",
          "Mid-Senior level",
          "Mid-Senior level",
          "Mid-Senior level",
          "Mid-Senior level",
          "Mid-Senior level",
          "Mid-Senior level",
          "Mid-Senior level",
          "Mid-Senior level",
          "Mid-Senior level",
          "Mid-Senior level",
          "Mid-Senior level",
          "Mid-Senior level",
          "Mid-Senior level",
          "Mid-Senior level",
          "Mid-Senior level",
          "Mid-Senior level",
          "Mid-Senior level",
          "Mid-Senior level",
          "Mid-Senior level",
          "Mid-Senior level",
          "Mid-Senior level",
          "Mid-Senior level",
          "Mid-Senior level",
          "Mid-Senior level",
          "Mid-Senior level",
          "Mid-Senior level",
          "Mid-Senior level",
          "Mid-Senior level",
          "Mid-Senior level",
          "Mid-Senior level",
          "Mid-Senior level",
          "Mid-Senior level",
          "Mid-Senior level",
          "Mid-Senior level",
          "Mid-Senior level",
          "Mid-Senior level",
          "Mid-Senior level",
          "Mid-Senior level",
          "Mid-Senior level",
          "Mid-Senior level",
          "Mid-Senior level",
          "Mid-Senior level",
          "Mid-Senior level",
          "Mid-Senior level",
          "Mid-Senior level",
          "Mid-Senior level",
          "Mid-Senior level",
          "Mid-Senior level",
          "Mid-Senior level",
          "Mid-Senior level",
          "Mid-Senior level",
          "Mid-Senior level",
          "Mid-Senior level",
          "Mid-Senior level",
          "Mid-Senior level",
          "Mid-Senior level",
          "Mid-Senior level",
          "Mid-Senior level",
          "Mid-Senior level",
          "Mid-Senior level",
          "Mid-Senior level",
          "Mid-Senior level",
          "Mid-Senior level",
          "Mid-Senior level",
          "Mid-Senior level",
          "Mid-Senior level",
          "Mid-Senior level",
          "Mid-Senior level",
          "Mid-Senior level",
          "Mid-Senior level",
          "Mid-Senior level",
          "Mid-Senior level",
          "Mid-Senior level",
          "Mid-Senior level",
          "Mid-Senior level",
          "Mid-Senior level",
          "Mid-Senior level",
          "Mid-Senior level",
          "Mid-Senior level",
          "Mid-Senior level",
          "Mid-Senior level",
          "Mid-Senior level",
          "Mid-Senior level",
          "Mid-Senior level",
          "Mid-Senior level",
          "Mid-Senior level",
          "Mid-Senior level",
          "Mid-Senior level",
          "Mid-Senior level",
          "Mid-Senior level",
          "Mid-Senior level",
          "Mid-Senior level",
          "Mid-Senior level",
          "Mid-Senior level",
          "Mid-Senior level",
          "Mid-Senior level",
          "Mid-Senior level",
          "Mid-Senior level",
          "Mid-Senior level",
          "Mid-Senior level",
          "Mid-Senior level",
          "Mid-Senior level",
          "Mid-Senior level",
          "Mid-Senior level",
          "Mid-Senior level",
          "Mid-Senior level",
          "Mid-Senior level",
          "Mid-Senior level",
          "Mid-Senior level",
          "Mid-Senior level",
          "Mid-Senior level",
          "Mid-Senior level",
          "Mid-Senior level",
          "Mid-Senior level",
          "Mid-Senior level",
          "Mid-Senior level",
          "Mid-Senior level",
          "Mid-Senior level",
          "Mid-Senior level",
          "Mid-Senior level",
          "Mid-Senior level",
          "Mid-Senior level",
          "Mid-Senior level",
          "Mid-Senior level",
          "Mid-Senior level",
          "Mid-Senior level",
          "Mid-Senior level",
          "Mid-Senior level",
          "Mid-Senior level",
          "Mid-Senior level",
          "Mid-Senior level",
          "Mid-Senior level",
          "Mid-Senior level",
          "Mid-Senior level",
          "Mid-Senior level",
          "Mid-Senior level",
          "Mid-Senior level",
          "Mid-Senior level",
          "Mid-Senior level",
          "Mid-Senior level",
          "Mid-Senior level",
          "Mid-Senior level",
          "Mid-Senior level",
          "Mid-Senior level",
          "Mid-Senior level",
          "Mid-Senior level",
          "Mid-Senior level",
          "Mid-Senior level",
          "Mid-Senior level",
          "Mid-Senior level",
          "Mid-Senior level",
          "Mid-Senior level",
          "Mid-Senior level",
          "Mid-Senior level",
          "Mid-Senior level",
          "Mid-Senior level",
          "Mid-Senior level",
          "Mid-Senior level",
          "Mid-Senior level",
          "Mid-Senior level",
          "Mid-Senior level",
          "Mid-Senior level",
          "Mid-Senior level",
          "Mid-Senior level",
          "Mid-Senior level",
          "Mid-Senior level",
          "Mid-Senior level",
          "Mid-Senior level",
          "Mid-Senior level",
          "Mid-Senior level",
          "Mid-Senior level",
          "Mid-Senior level",
          "Mid-Senior level",
          "Mid-Senior level",
          "Mid-Senior level",
          "Mid-Senior level",
          "Mid-Senior level",
          "Mid-Senior level",
          "Mid-Senior level",
          "Mid-Senior level",
          "Mid-Senior level",
          "Mid-Senior level",
          "Mid-Senior level",
          "Mid-Senior level",
          "Mid-Senior level",
          "Mid-Senior level",
          "Mid-Senior level",
          "Mid-Senior level",
          "Mid-Senior level",
          "Mid-Senior level",
          "Mid-Senior level",
          "Mid-Senior level",
          "Mid-Senior level",
          "Mid-Senior level",
          "Mid-Senior level",
          "Mid-Senior level",
          "Mid-Senior level",
          "Mid-Senior level",
          "Mid-Senior level",
          "Mid-Senior level",
          "Mid-Senior level",
          "Mid-Senior level",
          "Mid-Senior level",
          "Mid-Senior level",
          "Mid-Senior level",
          "Mid-Senior level",
          "Mid-Senior level",
          "Mid-Senior level",
          "Mid-Senior level",
          "Mid-Senior level",
          "Mid-Senior level",
          "Mid-Senior level",
          "Mid-Senior level",
          "Mid-Senior level",
          "Mid-Senior level",
          "Mid-Senior level",
          "Mid-Senior level",
          "Mid-Senior level",
          "Mid-Senior level",
          "Mid-Senior level",
          "Mid-Senior level",
          "Mid-Senior level",
          "Mid-Senior level",
          "Mid-Senior level",
          "Mid-Senior level",
          "Mid-Senior level",
          "Mid-Senior level",
          "Mid-Senior level",
          "Mid-Senior level",
          "Mid-Senior level",
          "Mid-Senior level",
          "Mid-Senior level",
          "Mid-Senior level",
          "Mid-Senior level",
          "Mid-Senior level",
          "Mid-Senior level",
          "Mid-Senior level",
          "Mid-Senior level",
          "Mid-Senior level",
          "Mid-Senior level",
          "Mid-Senior level",
          "Mid-Senior level",
          "Mid-Senior level",
          "Mid-Senior level",
          "Mid-Senior level",
          "Mid-Senior level",
          "Mid-Senior level",
          "Mid-Senior level",
          "Mid-Senior level",
          "Mid-Senior level",
          "Mid-Senior level",
          "Mid-Senior level",
          "Mid-Senior level",
          "Mid-Senior level",
          "Mid-Senior level",
          "Mid-Senior level",
          "Mid-Senior level",
          "Mid-Senior level",
          "Mid-Senior level",
          "Mid-Senior level",
          "Mid-Senior level",
          "Mid-Senior level",
          "Mid-Senior level",
          "Mid-Senior level",
          "Mid-Senior level",
          "Mid-Senior level",
          "Mid-Senior level",
          "Mid-Senior level",
          "Mid-Senior level",
          "Mid-Senior level",
          "Mid-Senior level",
          "Mid-Senior level",
          "Mid-Senior level",
          "Mid-Senior level",
          "Mid-Senior level",
          "Mid-Senior level",
          "Mid-Senior level",
          "Mid-Senior level",
          "Mid-Senior level",
          "Mid-Senior level",
          "Mid-Senior level",
          "Mid-Senior level",
          "Mid-Senior level",
          "Mid-Senior level",
          "Mid-Senior level",
          "Mid-Senior level",
          "Mid-Senior level",
          "Mid-Senior level",
          "Mid-Senior level",
          "Mid-Senior level",
          "Mid-Senior level",
          "Mid-Senior level",
          "Mid-Senior level",
          "Mid-Senior level",
          "Mid-Senior level",
          "Mid-Senior level",
          "Mid-Senior level",
          "Mid-Senior level",
          "Mid-Senior level",
          "Mid-Senior level",
          "Mid-Senior level",
          "Mid-Senior level",
          "Mid-Senior level",
          "Mid-Senior level",
          "Mid-Senior level",
          "Mid-Senior level",
          "Mid-Senior level",
          "Mid-Senior level",
          "Mid-Senior level",
          "Mid-Senior level",
          "Mid-Senior level",
          "Mid-Senior level",
          "Mid-Senior level",
          "Mid-Senior level",
          "Mid-Senior level",
          "Mid-Senior level",
          "Mid-Senior level",
          "Mid-Senior level",
          "Mid-Senior level",
          "Mid-Senior level",
          "Mid-Senior level",
          "Mid-Senior level",
          "Mid-Senior level",
          "Mid-Senior level",
          "Mid-Senior level",
          "Mid-Senior level",
          "Mid-Senior level",
          "Mid-Senior level",
          "Mid-Senior level",
          "Mid-Senior level",
          "Mid-Senior level",
          "Mid-Senior level",
          "Mid-Senior level",
          "Mid-Senior level",
          "Mid-Senior level",
          "Mid-Senior level",
          "Mid-Senior level",
          "Mid-Senior level",
          "Mid-Senior level",
          "Mid-Senior level",
          "Mid-Senior level",
          "Mid-Senior level",
          "Mid-Senior level",
          "Mid-Senior level",
          "Mid-Senior level",
          "Mid-Senior level",
          "Mid-Senior level",
          "Mid-Senior level",
          "Mid-Senior level",
          "Mid-Senior level",
          "Mid-Senior level",
          "Mid-Senior level",
          "Mid-Senior level",
          "Mid-Senior level",
          "Mid-Senior level",
          "Mid-Senior level",
          "Mid-Senior level",
          "Mid-Senior level",
          "Mid-Senior level",
          "Mid-Senior level",
          "Mid-Senior level",
          "Mid-Senior level",
          "Mid-Senior level",
          "Mid-Senior level",
          "Mid-Senior level",
          "Mid-Senior level",
          "Mid-Senior level",
          "Mid-Senior level",
          "Mid-Senior level",
          "Mid-Senior level",
          "Mid-Senior level",
          "Mid-Senior level",
          "Mid-Senior level",
          "Mid-Senior level",
          "Mid-Senior level",
          "Mid-Senior level",
          "Mid-Senior level",
          "Mid-Senior level",
          "Mid-Senior level",
          "Mid-Senior level",
          "Mid-Senior level",
          "Mid-Senior level",
          "Mid-Senior level",
          "Mid-Senior level",
          "Mid-Senior level",
          "Mid-Senior level",
          "Mid-Senior level",
          "Mid-Senior level",
          "Mid-Senior level",
          "Mid-Senior level",
          "Mid-Senior level",
          "Mid-Senior level",
          "Mid-Senior level",
          "Mid-Senior level",
          "Mid-Senior level",
          "Mid-Senior level",
          "Mid-Senior level",
          "Mid-Senior level",
          "Mid-Senior level",
          "Mid-Senior level",
          "Mid-Senior level",
          "Mid-Senior level",
          "Mid-Senior level",
          "Mid-Senior level",
          "Mid-Senior level",
          "Mid-Senior level",
          "Mid-Senior level",
          "Mid-Senior level",
          "Mid-Senior level",
          "Mid-Senior level",
          "Mid-Senior level",
          "Mid-Senior level",
          "Mid-Senior level",
          "Mid-Senior level",
          "Mid-Senior level",
          "Mid-Senior level",
          "Mid-Senior level",
          "Mid-Senior level",
          "Mid-Senior level",
          "Mid-Senior level",
          "Mid-Senior level",
          "Mid-Senior level",
          "Mid-Senior level",
          "Mid-Senior level",
          "Mid-Senior level",
          "Mid-Senior level",
          "Mid-Senior level",
          "Mid-Senior level",
          "Mid-Senior level",
          "Mid-Senior level",
          "Mid-Senior level",
          "Mid-Senior level",
          "Mid-Senior level",
          "Mid-Senior level",
          "Mid-Senior level",
          "Mid-Senior level",
          "Mid-Senior level",
          "Mid-Senior level",
          "Mid-Senior level",
          "Mid-Senior level",
          "Mid-Senior level",
          "Mid-Senior level",
          "Mid-Senior level",
          "Mid-Senior level",
          "Mid-Senior level",
          "Mid-Senior level",
          "Mid-Senior level",
          "Mid-Senior level",
          "Mid-Senior level",
          "Mid-Senior level",
          "Mid-Senior level",
          "Mid-Senior level",
          "Mid-Senior level",
          "Mid-Senior level",
          "Mid-Senior level",
          "Mid-Senior level",
          "Mid-Senior level",
          "Mid-Senior level",
          "Mid-Senior level",
          "Mid-Senior level",
          "Mid-Senior level",
          "Mid-Senior level",
          "Mid-Senior level",
          "Mid-Senior level",
          "Mid-Senior level",
          "Mid-Senior level",
          "Mid-Senior level",
          "Mid-Senior level",
          "Mid-Senior level",
          "Mid-Senior level",
          "Mid-Senior level",
          "Mid-Senior level",
          "Mid-Senior level",
          "Mid-Senior level",
          "Mid-Senior level",
          "Mid-Senior level",
          "Mid-Senior level",
          "Mid-Senior level",
          "Mid-Senior level",
          "Mid-Senior level",
          "Mid-Senior level",
          "Mid-Senior level",
          "Mid-Senior level",
          "Mid-Senior level",
          "Mid-Senior level",
          "Mid-Senior level",
          "Mid-Senior level",
          "Mid-Senior level",
          "Mid-Senior level",
          "Mid-Senior level",
          "Mid-Senior level",
          "Mid-Senior level",
          "Mid-Senior level",
          "Mid-Senior level",
          "Mid-Senior level",
          "Mid-Senior level",
          "Mid-Senior level",
          "Mid-Senior level",
          "Mid-Senior level",
          "Mid-Senior level",
          "Mid-Senior level",
          "Mid-Senior level",
          "Mid-Senior level",
          "Mid-Senior level",
          "Mid-Senior level",
          "Mid-Senior level",
          "Mid-Senior level",
          "Mid-Senior level",
          "Mid-Senior level",
          "Mid-Senior level",
          "Mid-Senior level",
          "Mid-Senior level",
          "Mid-Senior level",
          "Mid-Senior level",
          "Mid-Senior level",
          "Mid-Senior level",
          "Mid-Senior level",
          "Mid-Senior level",
          "Mid-Senior level",
          "Mid-Senior level",
          "Mid-Senior level",
          "Mid-Senior level",
          "Mid-Senior level",
          "Mid-Senior level",
          "Mid-Senior level",
          "Mid-Senior level",
          "Mid-Senior level",
          "Mid-Senior level",
          "Mid-Senior level",
          "Mid-Senior level",
          "Mid-Senior level",
          "Mid-Senior level",
          "Mid-Senior level",
          "Mid-Senior level",
          "Mid-Senior level",
          "Mid-Senior level",
          "Mid-Senior level",
          "Mid-Senior level",
          "Mid-Senior level",
          "Mid-Senior level",
          "Mid-Senior level",
          "Mid-Senior level",
          "Mid-Senior level",
          "Mid-Senior level",
          "Mid-Senior level",
          "Mid-Senior level",
          "Mid-Senior level",
          "Mid-Senior level",
          "Mid-Senior level",
          "Mid-Senior level",
          "Mid-Senior level",
          "Mid-Senior level",
          "Mid-Senior level",
          "Mid-Senior level",
          "Mid-Senior level",
          "Mid-Senior level",
          "Mid-Senior level",
          "Mid-Senior level",
          "Mid-Senior level",
          "Mid-Senior level",
          "Mid-Senior level",
          "Mid-Senior level",
          "Mid-Senior level",
          "Mid-Senior level",
          "Mid-Senior level",
          "Mid-Senior level",
          "Mid-Senior level",
          "Mid-Senior level",
          "Mid-Senior level",
          "Mid-Senior level",
          "Mid-Senior level",
          "Mid-Senior level",
          "Mid-Senior level",
          "Mid-Senior level",
          "Mid-Senior level",
          "Mid-Senior level",
          "Mid-Senior level",
          "Mid-Senior level",
          "Mid-Senior level",
          "Mid-Senior level",
          "Mid-Senior level",
          "Mid-Senior level",
          "Mid-Senior level",
          "Mid-Senior level",
          "Mid-Senior level",
          "Mid-Senior level",
          "Mid-Senior level",
          "Mid-Senior level",
          "Mid-Senior level",
          "Mid-Senior level",
          "Mid-Senior level",
          "Mid-Senior level",
          "Mid-Senior level",
          "Mid-Senior level",
          "Mid-Senior level",
          "Mid-Senior level",
          "Mid-Senior level",
          "Mid-Senior level",
          "Mid-Senior level",
          "Mid-Senior level",
          "Mid-Senior level",
          "Mid-Senior level",
          "Mid-Senior level",
          "Mid-Senior level",
          "Mid-Senior level",
          "Mid-Senior level",
          "Mid-Senior level",
          "Mid-Senior level",
          "Mid-Senior level",
          "Mid-Senior level",
          "Mid-Senior level",
          "Mid-Senior level",
          "Mid-Senior level",
          "Mid-Senior level",
          "Mid-Senior level",
          "Mid-Senior level",
          "Mid-Senior level",
          "Mid-Senior level",
          "Mid-Senior level",
          "Mid-Senior level",
          "Mid-Senior level",
          "Mid-Senior level",
          "Mid-Senior level",
          "Mid-Senior level",
          "Mid-Senior level",
          "Mid-Senior level",
          "Mid-Senior level",
          "Mid-Senior level",
          "Mid-Senior level",
          "Mid-Senior level",
          "Mid-Senior level",
          "Mid-Senior level",
          "Mid-Senior level",
          "Mid-Senior level",
          "Mid-Senior level",
          "Mid-Senior level",
          "Mid-Senior level",
          "Mid-Senior level",
          "Mid-Senior level",
          "Mid-Senior level",
          "Mid-Senior level",
          "Mid-Senior level",
          "Mid-Senior level",
          "Mid-Senior level",
          "Mid-Senior level",
          "Mid-Senior level",
          "Mid-Senior level",
          "Mid-Senior level",
          "Mid-Senior level",
          "Mid-Senior level",
          "Mid-Senior level",
          "Mid-Senior level",
          "Mid-Senior level",
          "Mid-Senior level",
          "Mid-Senior level",
          "Mid-Senior level",
          "Mid-Senior level",
          "Mid-Senior level",
          "Mid-Senior level",
          "Mid-Senior level",
          "Mid-Senior level",
          "Mid-Senior level",
          "Mid-Senior level",
          "Mid-Senior level",
          "Mid-Senior level",
          "Mid-Senior level",
          "Mid-Senior level",
          "Mid-Senior level",
          "Mid-Senior level",
          "Mid-Senior level",
          "Mid-Senior level",
          "Mid-Senior level",
          "Mid-Senior level",
          "Mid-Senior level",
          "Mid-Senior level",
          "Mid-Senior level",
          "Mid-Senior level",
          "Mid-Senior level",
          "Mid-Senior level",
          "Mid-Senior level",
          "Mid-Senior level",
          "Mid-Senior level",
          "Mid-Senior level",
          "Mid-Senior level",
          "Mid-Senior level",
          "Mid-Senior level",
          "Mid-Senior level",
          "Mid-Senior level",
          "Mid-Senior level",
          "Mid-Senior level",
          "Mid-Senior level",
          "Mid-Senior level",
          "Mid-Senior level",
          "Mid-Senior level",
          "Mid-Senior level",
          "Mid-Senior level",
          "Mid-Senior level",
          "Mid-Senior level",
          "Mid-Senior level",
          "Mid-Senior level",
          "Mid-Senior level",
          "Mid-Senior level",
          "Mid-Senior level",
          "Mid-Senior level",
          "Mid-Senior level",
          "Mid-Senior level",
          "Mid-Senior level",
          "Mid-Senior level",
          "Mid-Senior level",
          "Mid-Senior level",
          "Mid-Senior level",
          "Mid-Senior level",
          "Mid-Senior level",
          "Mid-Senior level",
          "Mid-Senior level",
          "Mid-Senior level",
          "Mid-Senior level",
          "Mid-Senior level",
          "Mid-Senior level",
          "Mid-Senior level",
          "Mid-Senior level",
          "Mid-Senior level",
          "Mid-Senior level",
          "Mid-Senior level",
          "Mid-Senior level",
          "Mid-Senior level",
          "Mid-Senior level",
          "Mid-Senior level",
          "Mid-Senior level",
          "Mid-Senior level",
          "Mid-Senior level",
          "Mid-Senior level",
          "Mid-Senior level",
          "Mid-Senior level",
          "Mid-Senior level",
          "Mid-Senior level",
          "Mid-Senior level",
          "Mid-Senior level",
          "Mid-Senior level",
          "Mid-Senior level",
          "Mid-Senior level",
          "Mid-Senior level",
          "Mid-Senior level",
          "Mid-Senior level",
          "Mid-Senior level",
          "Mid-Senior level",
          "Mid-Senior level",
          "Mid-Senior level",
          "Mid-Senior level",
          "Mid-Senior level",
          "Mid-Senior level",
          "Mid-Senior level",
          "Mid-Senior level",
          "Mid-Senior level",
          "Mid-Senior level",
          "Mid-Senior level",
          "Mid-Senior level",
          "Mid-Senior level",
          "Mid-Senior level",
          "Mid-Senior level",
          "Mid-Senior level",
          "Mid-Senior level",
          "Mid-Senior level",
          "Mid-Senior level",
          "Mid-Senior level",
          "Mid-Senior level",
          "Mid-Senior level",
          "Mid-Senior level",
          "Mid-Senior level",
          "Mid-Senior level",
          "Mid-Senior level",
          "Mid-Senior level",
          "Mid-Senior level",
          "Mid-Senior level",
          "Mid-Senior level",
          "Mid-Senior level",
          "Mid-Senior level",
          "Mid-Senior level",
          "Mid-Senior level",
          "Mid-Senior level",
          "Mid-Senior level",
          "Mid-Senior level",
          "Mid-Senior level",
          "Mid-Senior level",
          "Mid-Senior level",
          "Mid-Senior level",
          "Mid-Senior level",
          "Mid-Senior level",
          "Mid-Senior level",
          "Mid-Senior level",
          "Mid-Senior level",
          "Mid-Senior level",
          "Mid-Senior level",
          "Mid-Senior level",
          "Mid-Senior level",
          "Mid-Senior level",
          "Mid-Senior level",
          "Mid-Senior level",
          "Mid-Senior level",
          "Mid-Senior level",
          "Mid-Senior level",
          "Mid-Senior level",
          "Mid-Senior level",
          "Mid-Senior level",
          "Mid-Senior level",
          "Mid-Senior level",
          "Mid-Senior level",
          "Mid-Senior level",
          "Mid-Senior level",
          "Mid-Senior level",
          "Mid-Senior level",
          "Mid-Senior level",
          "Mid-Senior level",
          "Mid-Senior level",
          "Mid-Senior level",
          "Mid-Senior level",
          "Mid-Senior level",
          "Mid-Senior level",
          "Mid-Senior level",
          "Mid-Senior level",
          "Mid-Senior level",
          "Mid-Senior level",
          "Mid-Senior level",
          "Mid-Senior level",
          "Mid-Senior level",
          "Mid-Senior level",
          "Mid-Senior level",
          "Mid-Senior level",
          "Mid-Senior level",
          "Mid-Senior level",
          "Mid-Senior level",
          "Mid-Senior level",
          "Mid-Senior level",
          "Mid-Senior level",
          "Mid-Senior level",
          "Mid-Senior level",
          "Mid-Senior level",
          "Mid-Senior level",
          "Mid-Senior level",
          "Mid-Senior level",
          "Mid-Senior level",
          "Mid-Senior level",
          "Mid-Senior level",
          "Mid-Senior level",
          "Mid-Senior level",
          "Mid-Senior level",
          "Mid-Senior level",
          "Mid-Senior level",
          "Mid-Senior level",
          "Mid-Senior level",
          "Mid-Senior level",
          "Mid-Senior level",
          "Mid-Senior level",
          "Mid-Senior level",
          "Mid-Senior level",
          "Mid-Senior level",
          "Mid-Senior level",
          "Mid-Senior level",
          "Mid-Senior level",
          "Mid-Senior level",
          "Mid-Senior level",
          "Mid-Senior level",
          "Mid-Senior level",
          "Mid-Senior level",
          "Mid-Senior level",
          "Mid-Senior level",
          "Mid-Senior level",
          "Mid-Senior level",
          "Mid-Senior level",
          "Mid-Senior level",
          "Mid-Senior level",
          "Mid-Senior level",
          "Mid-Senior level",
          "Mid-Senior level",
          "Mid-Senior level",
          "Mid-Senior level",
          "Mid-Senior level",
          "Mid-Senior level",
          "Mid-Senior level",
          "Mid-Senior level",
          "Mid-Senior level",
          "Mid-Senior level",
          "Mid-Senior level",
          "Mid-Senior level",
          "Mid-Senior level",
          "Mid-Senior level",
          "Mid-Senior level",
          "Mid-Senior level",
          "Mid-Senior level",
          "Mid-Senior level",
          "Mid-Senior level",
          "Mid-Senior level",
          "Mid-Senior level",
          "Mid-Senior level",
          "Mid-Senior level",
          "Mid-Senior level",
          "Mid-Senior level",
          "Mid-Senior level",
          "Mid-Senior level",
          "Mid-Senior level",
          "Mid-Senior level",
          "Mid-Senior level",
          "Mid-Senior level",
          "Mid-Senior level",
          "Mid-Senior level",
          "Mid-Senior level",
          "Mid-Senior level",
          "Mid-Senior level",
          "Mid-Senior level",
          "Mid-Senior level",
          "Mid-Senior level",
          "Mid-Senior level",
          "Mid-Senior level",
          "Mid-Senior level",
          "Mid-Senior level",
          "Mid-Senior level",
          "Mid-Senior level",
          "Mid-Senior level",
          "Mid-Senior level",
          "Mid-Senior level",
          "Mid-Senior level",
          "Mid-Senior level",
          "Mid-Senior level",
          "Mid-Senior level",
          "Mid-Senior level",
          "Mid-Senior level",
          "Mid-Senior level",
          "Mid-Senior level",
          "Mid-Senior level",
          "Mid-Senior level",
          "Mid-Senior level",
          "Mid-Senior level",
          "Mid-Senior level",
          "Mid-Senior level",
          "Mid-Senior level",
          "Mid-Senior level",
          "Mid-Senior level",
          "Mid-Senior level",
          "Mid-Senior level",
          "Mid-Senior level",
          "Mid-Senior level",
          "Mid-Senior level",
          "Mid-Senior level",
          "Mid-Senior level",
          "Mid-Senior level",
          "Mid-Senior level",
          "Mid-Senior level",
          "Mid-Senior level",
          "Mid-Senior level",
          "Mid-Senior level",
          "Mid-Senior level",
          "Mid-Senior level",
          "Mid-Senior level",
          "Mid-Senior level",
          "Mid-Senior level",
          "Mid-Senior level",
          "Mid-Senior level",
          "Mid-Senior level",
          "Mid-Senior level",
          "Mid-Senior level",
          "Mid-Senior level",
          "Mid-Senior level",
          "Mid-Senior level",
          "Mid-Senior level",
          "Mid-Senior level",
          "Mid-Senior level",
          "Mid-Senior level",
          "Mid-Senior level",
          "Mid-Senior level",
          "Mid-Senior level",
          "Mid-Senior level",
          "Mid-Senior level",
          "Mid-Senior level",
          "Mid-Senior level",
          "Mid-Senior level",
          "Mid-Senior level",
          "Mid-Senior level",
          "Mid-Senior level",
          "Mid-Senior level",
          "Mid-Senior level",
          "Mid-Senior level",
          "Mid-Senior level",
          "Mid-Senior level",
          "Mid-Senior level",
          "Mid-Senior level",
          "Mid-Senior level",
          "Mid-Senior level",
          "Mid-Senior level",
          "Mid-Senior level",
          "Mid-Senior level",
          "Mid-Senior level",
          "Mid-Senior level",
          "Mid-Senior level",
          "Mid-Senior level",
          "Mid-Senior level",
          "Mid-Senior level",
          "Mid-Senior level",
          "Mid-Senior level",
          "Mid-Senior level",
          "Mid-Senior level",
          "Mid-Senior level",
          "Mid-Senior level",
          "Mid-Senior level",
          "Mid-Senior level",
          "Mid-Senior level",
          "Mid-Senior level",
          "Mid-Senior level",
          "Mid-Senior level",
          "Mid-Senior level",
          "Mid-Senior level",
          "Mid-Senior level",
          "Mid-Senior level",
          "Mid-Senior level",
          "Mid-Senior level",
          "Mid-Senior level",
          "Mid-Senior level",
          "Mid-Senior level",
          "Mid-Senior level",
          "Mid-Senior level",
          "Mid-Senior level",
          "Mid-Senior level",
          "Mid-Senior level",
          "Mid-Senior level",
          "Mid-Senior level",
          "Mid-Senior level",
          "Mid-Senior level",
          "Mid-Senior level",
          "Mid-Senior level",
          "Mid-Senior level",
          "Mid-Senior level",
          "Mid-Senior level",
          "Mid-Senior level",
          "Mid-Senior level",
          "Mid-Senior level",
          "Mid-Senior level",
          "Mid-Senior level",
          "Mid-Senior level",
          "Mid-Senior level",
          "Mid-Senior level",
          "Mid-Senior level",
          "Mid-Senior level",
          "Mid-Senior level",
          "Mid-Senior level",
          "Mid-Senior level",
          "Mid-Senior level",
          "Mid-Senior level",
          "Mid-Senior level",
          "Mid-Senior level",
          "Mid-Senior level",
          "Mid-Senior level",
          "Mid-Senior level",
          "Mid-Senior level",
          "Mid-Senior level",
          "Mid-Senior level",
          "Mid-Senior level",
          "Mid-Senior level",
          "Mid-Senior level",
          "Mid-Senior level",
          "Mid-Senior level",
          "Mid-Senior level",
          "Mid-Senior level",
          "Mid-Senior level",
          "Mid-Senior level",
          "Mid-Senior level",
          "Mid-Senior level",
          "Mid-Senior level",
          "Mid-Senior level",
          "Mid-Senior level",
          "Mid-Senior level",
          "Mid-Senior level",
          "Mid-Senior level",
          "Mid-Senior level",
          "Mid-Senior level",
          "Mid-Senior level",
          "Mid-Senior level",
          "Mid-Senior level",
          "Mid-Senior level",
          "Mid-Senior level",
          "Mid-Senior level",
          "Mid-Senior level",
          "Mid-Senior level",
          "Mid-Senior level",
          "Mid-Senior level",
          "Mid-Senior level",
          "Mid-Senior level",
          "Mid-Senior level",
          "Mid-Senior level",
          "Mid-Senior level",
          "Mid-Senior level",
          "Mid-Senior level",
          "Mid-Senior level",
          "Mid-Senior level",
          "Mid-Senior level",
          "Mid-Senior level",
          "Mid-Senior level",
          "Mid-Senior level",
          "Mid-Senior level",
          "Mid-Senior level",
          "Mid-Senior level",
          "Mid-Senior level",
          "Mid-Senior level",
          "Mid-Senior level",
          "Mid-Senior level",
          "Mid-Senior level",
          "Mid-Senior level",
          "Mid-Senior level",
          "Mid-Senior level",
          "Mid-Senior level",
          "Mid-Senior level",
          "Mid-Senior level",
          "Mid-Senior level",
          "Mid-Senior level",
          "Mid-Senior level",
          "Mid-Senior level",
          "Mid-Senior level",
          "Mid-Senior level",
          "Mid-Senior level",
          "Mid-Senior level",
          "Mid-Senior level",
          "Mid-Senior level",
          "Mid-Senior level",
          "Mid-Senior level",
          "Mid-Senior level",
          "Mid-Senior level",
          "Mid-Senior level",
          "Mid-Senior level",
          "Mid-Senior level",
          "Mid-Senior level",
          "Mid-Senior level",
          "Mid-Senior level",
          "Mid-Senior level",
          "Mid-Senior level",
          "Mid-Senior level",
          "Mid-Senior level",
          "Mid-Senior level",
          "Mid-Senior level",
          "Mid-Senior level",
          "Mid-Senior level",
          "Mid-Senior level",
          "Mid-Senior level",
          "Mid-Senior level",
          "Mid-Senior level",
          "Mid-Senior level",
          "Mid-Senior level",
          "Mid-Senior level",
          "Mid-Senior level",
          "Mid-Senior level",
          "Mid-Senior level",
          "Mid-Senior level",
          "Mid-Senior level",
          "Mid-Senior level",
          "Mid-Senior level",
          "Mid-Senior level",
          "Mid-Senior level",
          "Mid-Senior level",
          "Mid-Senior level",
          "Mid-Senior level",
          "Mid-Senior level",
          "Mid-Senior level",
          "Mid-Senior level",
          "Mid-Senior level",
          "Mid-Senior level",
          "Mid-Senior level",
          "Mid-Senior level",
          "Mid-Senior level",
          "Mid-Senior level",
          "Mid-Senior level",
          "Mid-Senior level",
          "Mid-Senior level",
          "Mid-Senior level",
          "Mid-Senior level",
          "Mid-Senior level",
          "Mid-Senior level",
          "Mid-Senior level",
          "Mid-Senior level",
          "Mid-Senior level",
          "Mid-Senior level",
          "Mid-Senior level",
          "Mid-Senior level",
          "Mid-Senior level",
          "Mid-Senior level",
          "Mid-Senior level",
          "Mid-Senior level",
          "Mid-Senior level",
          "Mid-Senior level",
          "Mid-Senior level",
          "Mid-Senior level",
          "Mid-Senior level",
          "Mid-Senior level",
          "Mid-Senior level",
          "Mid-Senior level",
          "Mid-Senior level",
          "Mid-Senior level",
          "Mid-Senior level",
          "Mid-Senior level",
          "Mid-Senior level",
          "Mid-Senior level",
          "Mid-Senior level",
          "Mid-Senior level",
          "Mid-Senior level",
          "Mid-Senior level",
          "Mid-Senior level",
          "Mid-Senior level",
          "Mid-Senior level",
          "Mid-Senior level",
          "Mid-Senior level",
          "Mid-Senior level",
          "Mid-Senior level",
          "Mid-Senior level",
          "Mid-Senior level",
          "Mid-Senior level",
          "Mid-Senior level",
          "Mid-Senior level",
          "Mid-Senior level",
          "Mid-Senior level",
          "Mid-Senior level",
          "Mid-Senior level",
          "Mid-Senior level",
          "Mid-Senior level",
          "Mid-Senior level",
          "Mid-Senior level",
          "Mid-Senior level",
          "Mid-Senior level",
          "Mid-Senior level",
          "Mid-Senior level",
          "Mid-Senior level",
          "Mid-Senior level",
          "Mid-Senior level",
          "Mid-Senior level",
          "Mid-Senior level",
          "Mid-Senior level",
          "Mid-Senior level",
          "Mid-Senior level",
          "Mid-Senior level",
          "Mid-Senior level",
          "Mid-Senior level",
          "Mid-Senior level",
          "Mid-Senior level",
          "Mid-Senior level",
          "Mid-Senior level",
          "Mid-Senior level",
          "Mid-Senior level",
          "Mid-Senior level",
          "Mid-Senior level",
          "Mid-Senior level",
          "Mid-Senior level",
          "Mid-Senior level",
          "Mid-Senior level",
          "Mid-Senior level",
          "Mid-Senior level",
          "Mid-Senior level",
          "Mid-Senior level",
          "Mid-Senior level",
          "Mid-Senior level",
          "Mid-Senior level",
          "Mid-Senior level",
          "Mid-Senior level",
          "Mid-Senior level",
          "Mid-Senior level",
          "Mid-Senior level",
          "Mid-Senior level",
          "Mid-Senior level",
          "Mid-Senior level",
          "Mid-Senior level",
          "Mid-Senior level",
          "Mid-Senior level",
          "Mid-Senior level",
          "Mid-Senior level",
          "Mid-Senior level",
          "Mid-Senior level",
          "Mid-Senior level",
          "Mid-Senior level",
          "Mid-Senior level",
          "Mid-Senior level",
          "Mid-Senior level",
          "Mid-Senior level",
          "Mid-Senior level",
          "Mid-Senior level",
          "Mid-Senior level",
          "Mid-Senior level",
          "Mid-Senior level",
          "Mid-Senior level",
          "Mid-Senior level",
          "Mid-Senior level",
          "Mid-Senior level",
          "Mid-Senior level",
          "Mid-Senior level",
          "Mid-Senior level",
          "Mid-Senior level",
          "Mid-Senior level",
          "Mid-Senior level",
          "Mid-Senior level",
          "Mid-Senior level",
          "Mid-Senior level",
          "Mid-Senior level",
          "Mid-Senior level",
          "Mid-Senior level",
          "Mid-Senior level",
          "Mid-Senior level",
          "Mid-Senior level",
          "Mid-Senior level",
          "Mid-Senior level",
          "Mid-Senior level",
          "Mid-Senior level",
          "Mid-Senior level",
          "Mid-Senior level",
          "Mid-Senior level",
          "Mid-Senior level",
          "Mid-Senior level",
          "Mid-Senior level",
          "Mid-Senior level",
          "Mid-Senior level",
          "Mid-Senior level",
          "Mid-Senior level",
          "Mid-Senior level",
          "Mid-Senior level",
          "Mid-Senior level",
          "Mid-Senior level",
          "Mid-Senior level",
          "Mid-Senior level",
          "Mid-Senior level",
          "Mid-Senior level",
          "Mid-Senior level",
          "Mid-Senior level",
          "Mid-Senior level",
          "Mid-Senior level",
          "Mid-Senior level",
          "Mid-Senior level",
          "Mid-Senior level",
          "Mid-Senior level",
          "Mid-Senior level",
          "Mid-Senior level",
          "Mid-Senior level",
          "Mid-Senior level",
          "Mid-Senior level",
          "Mid-Senior level",
          "Mid-Senior level",
          "Mid-Senior level",
          "Mid-Senior level",
          "Mid-Senior level",
          "Mid-Senior level",
          "Mid-Senior level",
          "Mid-Senior level",
          "Mid-Senior level",
          "Mid-Senior level",
          "Mid-Senior level",
          "Mid-Senior level",
          "Mid-Senior level",
          "Mid-Senior level",
          "Mid-Senior level",
          "Mid-Senior level",
          "Mid-Senior level",
          "Mid-Senior level",
          "Mid-Senior level",
          "Mid-Senior level",
          "Mid-Senior level",
          "Mid-Senior level",
          "Mid-Senior level",
          "Mid-Senior level",
          "Mid-Senior level",
          "Mid-Senior level",
          "Mid-Senior level",
          "Mid-Senior level",
          "Mid-Senior level",
          "Mid-Senior level",
          "Mid-Senior level",
          "Mid-Senior level",
          "Mid-Senior level",
          "Mid-Senior level",
          "Mid-Senior level",
          "Mid-Senior level",
          "Mid-Senior level",
          "Mid-Senior level",
          "Mid-Senior level",
          "Mid-Senior level",
          "Mid-Senior level",
          "Mid-Senior level",
          "Mid-Senior level",
          "Mid-Senior level",
          "Mid-Senior level",
          "Mid-Senior level",
          "Mid-Senior level",
          "Mid-Senior level",
          "Mid-Senior level",
          "Mid-Senior level",
          "Mid-Senior level",
          "Mid-Senior level",
          "Mid-Senior level",
          "Mid-Senior level",
          "Mid-Senior level",
          "Mid-Senior level"
         ],
         "xaxis": "x",
         "yaxis": "y"
        },
        {
         "bingroup": "x",
         "hovertemplate": "Seniority level=%{x}<br>count=%{y}<extra></extra>",
         "legendgroup": "Not Applicable",
         "marker": {
          "color": "#EF553B",
          "pattern": {
           "shape": ""
          }
         },
         "name": "Not Applicable",
         "orientation": "v",
         "showlegend": true,
         "type": "histogram",
         "x": [
          "Not Applicable",
          "Not Applicable",
          "Not Applicable",
          "Not Applicable",
          "Not Applicable",
          "Not Applicable",
          "Not Applicable",
          "Not Applicable",
          "Not Applicable",
          "Not Applicable",
          "Not Applicable",
          "Not Applicable",
          "Not Applicable",
          "Not Applicable",
          "Not Applicable",
          "Not Applicable",
          "Not Applicable",
          "Not Applicable",
          "Not Applicable",
          "Not Applicable",
          "Not Applicable",
          "Not Applicable",
          "Not Applicable",
          "Not Applicable",
          "Not Applicable",
          "Not Applicable",
          "Not Applicable",
          "Not Applicable",
          "Not Applicable",
          "Not Applicable",
          "Not Applicable",
          "Not Applicable",
          "Not Applicable",
          "Not Applicable",
          "Not Applicable",
          "Not Applicable",
          "Not Applicable",
          "Not Applicable",
          "Not Applicable",
          "Not Applicable",
          "Not Applicable",
          "Not Applicable",
          "Not Applicable",
          "Not Applicable",
          "Not Applicable",
          "Not Applicable",
          "Not Applicable",
          "Not Applicable",
          "Not Applicable",
          "Not Applicable",
          "Not Applicable",
          "Not Applicable",
          "Not Applicable",
          "Not Applicable",
          "Not Applicable",
          "Not Applicable",
          "Not Applicable",
          "Not Applicable",
          "Not Applicable",
          "Not Applicable",
          "Not Applicable",
          "Not Applicable",
          "Not Applicable",
          "Not Applicable",
          "Not Applicable",
          "Not Applicable",
          "Not Applicable",
          "Not Applicable",
          "Not Applicable",
          "Not Applicable",
          "Not Applicable",
          "Not Applicable",
          "Not Applicable",
          "Not Applicable",
          "Not Applicable",
          "Not Applicable",
          "Not Applicable",
          "Not Applicable",
          "Not Applicable",
          "Not Applicable",
          "Not Applicable",
          "Not Applicable",
          "Not Applicable",
          "Not Applicable",
          "Not Applicable",
          "Not Applicable",
          "Not Applicable",
          "Not Applicable",
          "Not Applicable",
          "Not Applicable",
          "Not Applicable",
          "Not Applicable",
          "Not Applicable",
          "Not Applicable",
          "Not Applicable",
          "Not Applicable",
          "Not Applicable",
          "Not Applicable",
          "Not Applicable",
          "Not Applicable",
          "Not Applicable",
          "Not Applicable",
          "Not Applicable",
          "Not Applicable",
          "Not Applicable",
          "Not Applicable",
          "Not Applicable",
          "Not Applicable",
          "Not Applicable",
          "Not Applicable",
          "Not Applicable",
          "Not Applicable",
          "Not Applicable",
          "Not Applicable",
          "Not Applicable",
          "Not Applicable",
          "Not Applicable",
          "Not Applicable",
          "Not Applicable",
          "Not Applicable",
          "Not Applicable",
          "Not Applicable",
          "Not Applicable",
          "Not Applicable",
          "Not Applicable",
          "Not Applicable",
          "Not Applicable",
          "Not Applicable",
          "Not Applicable",
          "Not Applicable",
          "Not Applicable",
          "Not Applicable",
          "Not Applicable",
          "Not Applicable",
          "Not Applicable",
          "Not Applicable",
          "Not Applicable",
          "Not Applicable",
          "Not Applicable",
          "Not Applicable",
          "Not Applicable",
          "Not Applicable",
          "Not Applicable",
          "Not Applicable",
          "Not Applicable",
          "Not Applicable",
          "Not Applicable",
          "Not Applicable",
          "Not Applicable",
          "Not Applicable",
          "Not Applicable",
          "Not Applicable",
          "Not Applicable",
          "Not Applicable",
          "Not Applicable",
          "Not Applicable",
          "Not Applicable",
          "Not Applicable",
          "Not Applicable",
          "Not Applicable",
          "Not Applicable",
          "Not Applicable",
          "Not Applicable",
          "Not Applicable",
          "Not Applicable",
          "Not Applicable",
          "Not Applicable",
          "Not Applicable",
          "Not Applicable",
          "Not Applicable",
          "Not Applicable",
          "Not Applicable",
          "Not Applicable",
          "Not Applicable",
          "Not Applicable",
          "Not Applicable",
          "Not Applicable",
          "Not Applicable",
          "Not Applicable",
          "Not Applicable",
          "Not Applicable",
          "Not Applicable",
          "Not Applicable",
          "Not Applicable",
          "Not Applicable",
          "Not Applicable",
          "Not Applicable",
          "Not Applicable",
          "Not Applicable",
          "Not Applicable",
          "Not Applicable",
          "Not Applicable",
          "Not Applicable",
          "Not Applicable",
          "Not Applicable",
          "Not Applicable",
          "Not Applicable",
          "Not Applicable",
          "Not Applicable",
          "Not Applicable",
          "Not Applicable",
          "Not Applicable",
          "Not Applicable",
          "Not Applicable",
          "Not Applicable",
          "Not Applicable",
          "Not Applicable",
          "Not Applicable",
          "Not Applicable",
          "Not Applicable",
          "Not Applicable",
          "Not Applicable",
          "Not Applicable",
          "Not Applicable",
          "Not Applicable",
          "Not Applicable",
          "Not Applicable",
          "Not Applicable",
          "Not Applicable",
          "Not Applicable",
          "Not Applicable",
          "Not Applicable",
          "Not Applicable",
          "Not Applicable",
          "Not Applicable",
          "Not Applicable",
          "Not Applicable",
          "Not Applicable",
          "Not Applicable",
          "Not Applicable",
          "Not Applicable",
          "Not Applicable",
          "Not Applicable",
          "Not Applicable",
          "Not Applicable",
          "Not Applicable",
          "Not Applicable",
          "Not Applicable",
          "Not Applicable",
          "Not Applicable",
          "Not Applicable",
          "Not Applicable",
          "Not Applicable",
          "Not Applicable",
          "Not Applicable",
          "Not Applicable",
          "Not Applicable",
          "Not Applicable",
          "Not Applicable",
          "Not Applicable",
          "Not Applicable",
          "Not Applicable",
          "Not Applicable",
          "Not Applicable",
          "Not Applicable",
          "Not Applicable",
          "Not Applicable",
          "Not Applicable",
          "Not Applicable",
          "Not Applicable",
          "Not Applicable",
          "Not Applicable",
          "Not Applicable",
          "Not Applicable",
          "Not Applicable",
          "Not Applicable",
          "Not Applicable",
          "Not Applicable",
          "Not Applicable",
          "Not Applicable",
          "Not Applicable",
          "Not Applicable",
          "Not Applicable",
          "Not Applicable",
          "Not Applicable",
          "Not Applicable",
          "Not Applicable",
          "Not Applicable",
          "Not Applicable",
          "Not Applicable",
          "Not Applicable",
          "Not Applicable",
          "Not Applicable",
          "Not Applicable",
          "Not Applicable",
          "Not Applicable",
          "Not Applicable",
          "Not Applicable",
          "Not Applicable",
          "Not Applicable",
          "Not Applicable",
          "Not Applicable",
          "Not Applicable",
          "Not Applicable",
          "Not Applicable",
          "Not Applicable",
          "Not Applicable",
          "Not Applicable",
          "Not Applicable",
          "Not Applicable",
          "Not Applicable",
          "Not Applicable",
          "Not Applicable",
          "Not Applicable",
          "Not Applicable",
          "Not Applicable",
          "Not Applicable",
          "Not Applicable",
          "Not Applicable",
          "Not Applicable",
          "Not Applicable",
          "Not Applicable",
          "Not Applicable",
          "Not Applicable",
          "Not Applicable",
          "Not Applicable",
          "Not Applicable",
          "Not Applicable",
          "Not Applicable",
          "Not Applicable",
          "Not Applicable",
          "Not Applicable",
          "Not Applicable",
          "Not Applicable",
          "Not Applicable",
          "Not Applicable",
          "Not Applicable",
          "Not Applicable",
          "Not Applicable",
          "Not Applicable",
          "Not Applicable",
          "Not Applicable",
          "Not Applicable",
          "Not Applicable",
          "Not Applicable",
          "Not Applicable",
          "Not Applicable",
          "Not Applicable",
          "Not Applicable",
          "Not Applicable",
          "Not Applicable",
          "Not Applicable",
          "Not Applicable",
          "Not Applicable",
          "Not Applicable",
          "Not Applicable",
          "Not Applicable",
          "Not Applicable",
          "Not Applicable",
          "Not Applicable",
          "Not Applicable",
          "Not Applicable",
          "Not Applicable",
          "Not Applicable",
          "Not Applicable",
          "Not Applicable",
          "Not Applicable",
          "Not Applicable",
          "Not Applicable",
          "Not Applicable",
          "Not Applicable",
          "Not Applicable",
          "Not Applicable",
          "Not Applicable",
          "Not Applicable",
          "Not Applicable",
          "Not Applicable",
          "Not Applicable",
          "Not Applicable",
          "Not Applicable",
          "Not Applicable",
          "Not Applicable",
          "Not Applicable",
          "Not Applicable",
          "Not Applicable",
          "Not Applicable",
          "Not Applicable",
          "Not Applicable",
          "Not Applicable",
          "Not Applicable",
          "Not Applicable",
          "Not Applicable",
          "Not Applicable",
          "Not Applicable",
          "Not Applicable",
          "Not Applicable",
          "Not Applicable",
          "Not Applicable",
          "Not Applicable",
          "Not Applicable",
          "Not Applicable",
          "Not Applicable",
          "Not Applicable",
          "Not Applicable",
          "Not Applicable",
          "Not Applicable",
          "Not Applicable",
          "Not Applicable",
          "Not Applicable",
          "Not Applicable",
          "Not Applicable",
          "Not Applicable",
          "Not Applicable",
          "Not Applicable",
          "Not Applicable",
          "Not Applicable",
          "Not Applicable",
          "Not Applicable",
          "Not Applicable",
          "Not Applicable",
          "Not Applicable",
          "Not Applicable",
          "Not Applicable",
          "Not Applicable",
          "Not Applicable",
          "Not Applicable",
          "Not Applicable",
          "Not Applicable",
          "Not Applicable",
          "Not Applicable",
          "Not Applicable",
          "Not Applicable",
          "Not Applicable",
          "Not Applicable",
          "Not Applicable",
          "Not Applicable",
          "Not Applicable",
          "Not Applicable",
          "Not Applicable",
          "Not Applicable",
          "Not Applicable",
          "Not Applicable",
          "Not Applicable",
          "Not Applicable",
          "Not Applicable",
          "Not Applicable",
          "Not Applicable",
          "Not Applicable",
          "Not Applicable",
          "Not Applicable",
          "Not Applicable",
          "Not Applicable",
          "Not Applicable",
          "Not Applicable",
          "Not Applicable",
          "Not Applicable",
          "Not Applicable",
          "Not Applicable",
          "Not Applicable",
          "Not Applicable",
          "Not Applicable",
          "Not Applicable",
          "Not Applicable",
          "Not Applicable",
          "Not Applicable",
          "Not Applicable",
          "Not Applicable",
          "Not Applicable",
          "Not Applicable",
          "Not Applicable",
          "Not Applicable",
          "Not Applicable",
          "Not Applicable",
          "Not Applicable",
          "Not Applicable",
          "Not Applicable",
          "Not Applicable",
          "Not Applicable",
          "Not Applicable",
          "Not Applicable",
          "Not Applicable",
          "Not Applicable",
          "Not Applicable",
          "Not Applicable",
          "Not Applicable",
          "Not Applicable",
          "Not Applicable",
          "Not Applicable",
          "Not Applicable",
          "Not Applicable",
          "Not Applicable",
          "Not Applicable",
          "Not Applicable",
          "Not Applicable",
          "Not Applicable",
          "Not Applicable",
          "Not Applicable",
          "Not Applicable",
          "Not Applicable",
          "Not Applicable",
          "Not Applicable",
          "Not Applicable",
          "Not Applicable",
          "Not Applicable",
          "Not Applicable",
          "Not Applicable",
          "Not Applicable",
          "Not Applicable",
          "Not Applicable",
          "Not Applicable",
          "Not Applicable",
          "Not Applicable",
          "Not Applicable",
          "Not Applicable",
          "Not Applicable",
          "Not Applicable",
          "Not Applicable",
          "Not Applicable",
          "Not Applicable",
          "Not Applicable",
          "Not Applicable",
          "Not Applicable",
          "Not Applicable",
          "Not Applicable",
          "Not Applicable",
          "Not Applicable",
          "Not Applicable",
          "Not Applicable",
          "Not Applicable",
          "Not Applicable",
          "Not Applicable",
          "Not Applicable",
          "Not Applicable",
          "Not Applicable",
          "Not Applicable",
          "Not Applicable",
          "Not Applicable",
          "Not Applicable",
          "Not Applicable",
          "Not Applicable",
          "Not Applicable",
          "Not Applicable",
          "Not Applicable",
          "Not Applicable",
          "Not Applicable",
          "Not Applicable",
          "Not Applicable",
          "Not Applicable",
          "Not Applicable",
          "Not Applicable",
          "Not Applicable",
          "Not Applicable",
          "Not Applicable",
          "Not Applicable",
          "Not Applicable",
          "Not Applicable",
          "Not Applicable",
          "Not Applicable",
          "Not Applicable",
          "Not Applicable",
          "Not Applicable",
          "Not Applicable",
          "Not Applicable",
          "Not Applicable",
          "Not Applicable",
          "Not Applicable",
          "Not Applicable",
          "Not Applicable",
          "Not Applicable",
          "Not Applicable",
          "Not Applicable",
          "Not Applicable",
          "Not Applicable",
          "Not Applicable",
          "Not Applicable",
          "Not Applicable",
          "Not Applicable",
          "Not Applicable",
          "Not Applicable",
          "Not Applicable",
          "Not Applicable",
          "Not Applicable",
          "Not Applicable",
          "Not Applicable",
          "Not Applicable",
          "Not Applicable",
          "Not Applicable",
          "Not Applicable",
          "Not Applicable",
          "Not Applicable",
          "Not Applicable",
          "Not Applicable",
          "Not Applicable",
          "Not Applicable",
          "Not Applicable",
          "Not Applicable",
          "Not Applicable",
          "Not Applicable",
          "Not Applicable",
          "Not Applicable",
          "Not Applicable",
          "Not Applicable",
          "Not Applicable",
          "Not Applicable",
          "Not Applicable",
          "Not Applicable",
          "Not Applicable",
          "Not Applicable",
          "Not Applicable",
          "Not Applicable",
          "Not Applicable",
          "Not Applicable",
          "Not Applicable",
          "Not Applicable",
          "Not Applicable",
          "Not Applicable",
          "Not Applicable",
          "Not Applicable",
          "Not Applicable",
          "Not Applicable",
          "Not Applicable",
          "Not Applicable",
          "Not Applicable",
          "Not Applicable",
          "Not Applicable",
          "Not Applicable",
          "Not Applicable",
          "Not Applicable",
          "Not Applicable",
          "Not Applicable",
          "Not Applicable",
          "Not Applicable",
          "Not Applicable",
          "Not Applicable",
          "Not Applicable",
          "Not Applicable",
          "Not Applicable",
          "Not Applicable",
          "Not Applicable",
          "Not Applicable",
          "Not Applicable",
          "Not Applicable",
          "Not Applicable",
          "Not Applicable",
          "Not Applicable",
          "Not Applicable",
          "Not Applicable",
          "Not Applicable",
          "Not Applicable",
          "Not Applicable",
          "Not Applicable",
          "Not Applicable",
          "Not Applicable",
          "Not Applicable",
          "Not Applicable",
          "Not Applicable",
          "Not Applicable",
          "Not Applicable",
          "Not Applicable",
          "Not Applicable",
          "Not Applicable",
          "Not Applicable",
          "Not Applicable",
          "Not Applicable",
          "Not Applicable",
          "Not Applicable",
          "Not Applicable",
          "Not Applicable",
          "Not Applicable",
          "Not Applicable",
          "Not Applicable",
          "Not Applicable",
          "Not Applicable",
          "Not Applicable",
          "Not Applicable",
          "Not Applicable",
          "Not Applicable",
          "Not Applicable",
          "Not Applicable",
          "Not Applicable",
          "Not Applicable",
          "Not Applicable",
          "Not Applicable",
          "Not Applicable",
          "Not Applicable",
          "Not Applicable",
          "Not Applicable",
          "Not Applicable",
          "Not Applicable",
          "Not Applicable",
          "Not Applicable",
          "Not Applicable",
          "Not Applicable",
          "Not Applicable",
          "Not Applicable",
          "Not Applicable",
          "Not Applicable",
          "Not Applicable",
          "Not Applicable",
          "Not Applicable",
          "Not Applicable",
          "Not Applicable",
          "Not Applicable",
          "Not Applicable",
          "Not Applicable",
          "Not Applicable",
          "Not Applicable",
          "Not Applicable",
          "Not Applicable",
          "Not Applicable",
          "Not Applicable",
          "Not Applicable",
          "Not Applicable",
          "Not Applicable",
          "Not Applicable",
          "Not Applicable",
          "Not Applicable",
          "Not Applicable",
          "Not Applicable",
          "Not Applicable",
          "Not Applicable",
          "Not Applicable",
          "Not Applicable",
          "Not Applicable",
          "Not Applicable",
          "Not Applicable",
          "Not Applicable",
          "Not Applicable",
          "Not Applicable",
          "Not Applicable",
          "Not Applicable",
          "Not Applicable",
          "Not Applicable",
          "Not Applicable",
          "Not Applicable",
          "Not Applicable",
          "Not Applicable",
          "Not Applicable",
          "Not Applicable",
          "Not Applicable",
          "Not Applicable",
          "Not Applicable",
          "Not Applicable",
          "Not Applicable",
          "Not Applicable",
          "Not Applicable",
          "Not Applicable",
          "Not Applicable",
          "Not Applicable",
          "Not Applicable",
          "Not Applicable",
          "Not Applicable",
          "Not Applicable",
          "Not Applicable",
          "Not Applicable",
          "Not Applicable",
          "Not Applicable",
          "Not Applicable",
          "Not Applicable",
          "Not Applicable",
          "Not Applicable",
          "Not Applicable",
          "Not Applicable",
          "Not Applicable",
          "Not Applicable",
          "Not Applicable",
          "Not Applicable",
          "Not Applicable",
          "Not Applicable",
          "Not Applicable",
          "Not Applicable",
          "Not Applicable",
          "Not Applicable",
          "Not Applicable",
          "Not Applicable",
          "Not Applicable",
          "Not Applicable",
          "Not Applicable",
          "Not Applicable",
          "Not Applicable",
          "Not Applicable",
          "Not Applicable",
          "Not Applicable",
          "Not Applicable",
          "Not Applicable",
          "Not Applicable",
          "Not Applicable",
          "Not Applicable",
          "Not Applicable",
          "Not Applicable",
          "Not Applicable",
          "Not Applicable",
          "Not Applicable",
          "Not Applicable",
          "Not Applicable",
          "Not Applicable",
          "Not Applicable",
          "Not Applicable",
          "Not Applicable",
          "Not Applicable",
          "Not Applicable",
          "Not Applicable",
          "Not Applicable",
          "Not Applicable",
          "Not Applicable",
          "Not Applicable",
          "Not Applicable",
          "Not Applicable",
          "Not Applicable",
          "Not Applicable",
          "Not Applicable",
          "Not Applicable",
          "Not Applicable",
          "Not Applicable",
          "Not Applicable",
          "Not Applicable",
          "Not Applicable",
          "Not Applicable",
          "Not Applicable",
          "Not Applicable",
          "Not Applicable",
          "Not Applicable",
          "Not Applicable",
          "Not Applicable",
          "Not Applicable",
          "Not Applicable",
          "Not Applicable",
          "Not Applicable",
          "Not Applicable",
          "Not Applicable",
          "Not Applicable",
          "Not Applicable",
          "Not Applicable",
          "Not Applicable",
          "Not Applicable",
          "Not Applicable",
          "Not Applicable",
          "Not Applicable",
          "Not Applicable",
          "Not Applicable",
          "Not Applicable",
          "Not Applicable",
          "Not Applicable",
          "Not Applicable",
          "Not Applicable",
          "Not Applicable",
          "Not Applicable",
          "Not Applicable",
          "Not Applicable",
          "Not Applicable",
          "Not Applicable",
          "Not Applicable",
          "Not Applicable",
          "Not Applicable",
          "Not Applicable",
          "Not Applicable",
          "Not Applicable",
          "Not Applicable",
          "Not Applicable",
          "Not Applicable",
          "Not Applicable",
          "Not Applicable",
          "Not Applicable",
          "Not Applicable",
          "Not Applicable",
          "Not Applicable",
          "Not Applicable",
          "Not Applicable",
          "Not Applicable",
          "Not Applicable",
          "Not Applicable",
          "Not Applicable",
          "Not Applicable",
          "Not Applicable",
          "Not Applicable",
          "Not Applicable",
          "Not Applicable",
          "Not Applicable",
          "Not Applicable",
          "Not Applicable",
          "Not Applicable",
          "Not Applicable",
          "Not Applicable",
          "Not Applicable",
          "Not Applicable",
          "Not Applicable",
          "Not Applicable",
          "Not Applicable",
          "Not Applicable",
          "Not Applicable",
          "Not Applicable",
          "Not Applicable",
          "Not Applicable",
          "Not Applicable",
          "Not Applicable",
          "Not Applicable",
          "Not Applicable",
          "Not Applicable",
          "Not Applicable",
          "Not Applicable",
          "Not Applicable",
          "Not Applicable",
          "Not Applicable",
          "Not Applicable",
          "Not Applicable",
          "Not Applicable",
          "Not Applicable",
          "Not Applicable",
          "Not Applicable",
          "Not Applicable",
          "Not Applicable",
          "Not Applicable",
          "Not Applicable",
          "Not Applicable",
          "Not Applicable",
          "Not Applicable",
          "Not Applicable",
          "Not Applicable",
          "Not Applicable",
          "Not Applicable",
          "Not Applicable",
          "Not Applicable",
          "Not Applicable",
          "Not Applicable",
          "Not Applicable",
          "Not Applicable",
          "Not Applicable",
          "Not Applicable",
          "Not Applicable",
          "Not Applicable",
          "Not Applicable",
          "Not Applicable",
          "Not Applicable",
          "Not Applicable",
          "Not Applicable",
          "Not Applicable",
          "Not Applicable",
          "Not Applicable",
          "Not Applicable",
          "Not Applicable",
          "Not Applicable",
          "Not Applicable",
          "Not Applicable",
          "Not Applicable",
          "Not Applicable",
          "Not Applicable",
          "Not Applicable",
          "Not Applicable",
          "Not Applicable",
          "Not Applicable",
          "Not Applicable",
          "Not Applicable",
          "Not Applicable",
          "Not Applicable",
          "Not Applicable",
          "Not Applicable",
          "Not Applicable",
          "Not Applicable",
          "Not Applicable",
          "Not Applicable",
          "Not Applicable",
          "Not Applicable",
          "Not Applicable",
          "Not Applicable",
          "Not Applicable",
          "Not Applicable",
          "Not Applicable",
          "Not Applicable",
          "Not Applicable",
          "Not Applicable",
          "Not Applicable",
          "Not Applicable",
          "Not Applicable",
          "Not Applicable",
          "Not Applicable",
          "Not Applicable",
          "Not Applicable",
          "Not Applicable",
          "Not Applicable",
          "Not Applicable",
          "Not Applicable",
          "Not Applicable",
          "Not Applicable",
          "Not Applicable",
          "Not Applicable",
          "Not Applicable",
          "Not Applicable",
          "Not Applicable",
          "Not Applicable",
          "Not Applicable",
          "Not Applicable",
          "Not Applicable",
          "Not Applicable",
          "Not Applicable",
          "Not Applicable",
          "Not Applicable",
          "Not Applicable",
          "Not Applicable",
          "Not Applicable",
          "Not Applicable",
          "Not Applicable",
          "Not Applicable",
          "Not Applicable",
          "Not Applicable",
          "Not Applicable",
          "Not Applicable",
          "Not Applicable",
          "Not Applicable",
          "Not Applicable",
          "Not Applicable",
          "Not Applicable",
          "Not Applicable",
          "Not Applicable",
          "Not Applicable",
          "Not Applicable",
          "Not Applicable",
          "Not Applicable",
          "Not Applicable",
          "Not Applicable",
          "Not Applicable",
          "Not Applicable",
          "Not Applicable",
          "Not Applicable",
          "Not Applicable",
          "Not Applicable",
          "Not Applicable",
          "Not Applicable",
          "Not Applicable",
          "Not Applicable",
          "Not Applicable",
          "Not Applicable",
          "Not Applicable",
          "Not Applicable",
          "Not Applicable",
          "Not Applicable",
          "Not Applicable",
          "Not Applicable",
          "Not Applicable",
          "Not Applicable",
          "Not Applicable",
          "Not Applicable",
          "Not Applicable",
          "Not Applicable",
          "Not Applicable",
          "Not Applicable",
          "Not Applicable",
          "Not Applicable",
          "Not Applicable",
          "Not Applicable",
          "Not Applicable",
          "Not Applicable",
          "Not Applicable",
          "Not Applicable",
          "Not Applicable",
          "Not Applicable",
          "Not Applicable",
          "Not Applicable",
          "Not Applicable",
          "Not Applicable",
          "Not Applicable",
          "Not Applicable",
          "Not Applicable",
          "Not Applicable",
          "Not Applicable",
          "Not Applicable",
          "Not Applicable",
          "Not Applicable",
          "Not Applicable",
          "Not Applicable",
          "Not Applicable",
          "Not Applicable",
          "Not Applicable",
          "Not Applicable",
          "Not Applicable",
          "Not Applicable",
          "Not Applicable",
          "Not Applicable",
          "Not Applicable",
          "Not Applicable",
          "Not Applicable",
          "Not Applicable",
          "Not Applicable",
          "Not Applicable",
          "Not Applicable",
          "Not Applicable",
          "Not Applicable",
          "Not Applicable",
          "Not Applicable",
          "Not Applicable",
          "Not Applicable",
          "Not Applicable",
          "Not Applicable",
          "Not Applicable",
          "Not Applicable",
          "Not Applicable",
          "Not Applicable",
          "Not Applicable",
          "Not Applicable",
          "Not Applicable",
          "Not Applicable",
          "Not Applicable",
          "Not Applicable",
          "Not Applicable",
          "Not Applicable",
          "Not Applicable",
          "Not Applicable",
          "Not Applicable",
          "Not Applicable",
          "Not Applicable",
          "Not Applicable",
          "Not Applicable",
          "Not Applicable",
          "Not Applicable",
          "Not Applicable",
          "Not Applicable",
          "Not Applicable",
          "Not Applicable",
          "Not Applicable",
          "Not Applicable",
          "Not Applicable",
          "Not Applicable",
          "Not Applicable",
          "Not Applicable",
          "Not Applicable",
          "Not Applicable",
          "Not Applicable",
          "Not Applicable",
          "Not Applicable",
          "Not Applicable",
          "Not Applicable",
          "Not Applicable",
          "Not Applicable",
          "Not Applicable",
          "Not Applicable",
          "Not Applicable",
          "Not Applicable",
          "Not Applicable",
          "Not Applicable",
          "Not Applicable",
          "Not Applicable",
          "Not Applicable",
          "Not Applicable",
          "Not Applicable",
          "Not Applicable",
          "Not Applicable",
          "Not Applicable",
          "Not Applicable",
          "Not Applicable",
          "Not Applicable",
          "Not Applicable",
          "Not Applicable",
          "Not Applicable",
          "Not Applicable",
          "Not Applicable",
          "Not Applicable",
          "Not Applicable",
          "Not Applicable",
          "Not Applicable",
          "Not Applicable",
          "Not Applicable",
          "Not Applicable",
          "Not Applicable",
          "Not Applicable",
          "Not Applicable",
          "Not Applicable",
          "Not Applicable",
          "Not Applicable",
          "Not Applicable",
          "Not Applicable",
          "Not Applicable",
          "Not Applicable",
          "Not Applicable",
          "Not Applicable",
          "Not Applicable",
          "Not Applicable",
          "Not Applicable",
          "Not Applicable",
          "Not Applicable",
          "Not Applicable",
          "Not Applicable",
          "Not Applicable",
          "Not Applicable",
          "Not Applicable",
          "Not Applicable",
          "Not Applicable",
          "Not Applicable",
          "Not Applicable",
          "Not Applicable",
          "Not Applicable",
          "Not Applicable",
          "Not Applicable",
          "Not Applicable",
          "Not Applicable",
          "Not Applicable",
          "Not Applicable",
          "Not Applicable",
          "Not Applicable",
          "Not Applicable",
          "Not Applicable",
          "Not Applicable",
          "Not Applicable",
          "Not Applicable",
          "Not Applicable",
          "Not Applicable",
          "Not Applicable",
          "Not Applicable",
          "Not Applicable",
          "Not Applicable",
          "Not Applicable",
          "Not Applicable",
          "Not Applicable",
          "Not Applicable",
          "Not Applicable",
          "Not Applicable",
          "Not Applicable",
          "Not Applicable",
          "Not Applicable",
          "Not Applicable",
          "Not Applicable",
          "Not Applicable",
          "Not Applicable",
          "Not Applicable",
          "Not Applicable",
          "Not Applicable",
          "Not Applicable",
          "Not Applicable",
          "Not Applicable",
          "Not Applicable",
          "Not Applicable",
          "Not Applicable",
          "Not Applicable",
          "Not Applicable",
          "Not Applicable",
          "Not Applicable",
          "Not Applicable",
          "Not Applicable",
          "Not Applicable",
          "Not Applicable",
          "Not Applicable",
          "Not Applicable",
          "Not Applicable",
          "Not Applicable",
          "Not Applicable",
          "Not Applicable",
          "Not Applicable",
          "Not Applicable",
          "Not Applicable",
          "Not Applicable",
          "Not Applicable",
          "Not Applicable",
          "Not Applicable",
          "Not Applicable",
          "Not Applicable",
          "Not Applicable",
          "Not Applicable",
          "Not Applicable",
          "Not Applicable",
          "Not Applicable",
          "Not Applicable",
          "Not Applicable",
          "Not Applicable",
          "Not Applicable",
          "Not Applicable",
          "Not Applicable",
          "Not Applicable",
          "Not Applicable",
          "Not Applicable",
          "Not Applicable",
          "Not Applicable",
          "Not Applicable",
          "Not Applicable",
          "Not Applicable",
          "Not Applicable",
          "Not Applicable",
          "Not Applicable",
          "Not Applicable",
          "Not Applicable",
          "Not Applicable",
          "Not Applicable",
          "Not Applicable",
          "Not Applicable",
          "Not Applicable",
          "Not Applicable",
          "Not Applicable",
          "Not Applicable",
          "Not Applicable",
          "Not Applicable",
          "Not Applicable",
          "Not Applicable",
          "Not Applicable",
          "Not Applicable",
          "Not Applicable",
          "Not Applicable",
          "Not Applicable",
          "Not Applicable",
          "Not Applicable",
          "Not Applicable",
          "Not Applicable",
          "Not Applicable",
          "Not Applicable",
          "Not Applicable",
          "Not Applicable",
          "Not Applicable",
          "Not Applicable",
          "Not Applicable",
          "Not Applicable",
          "Not Applicable",
          "Not Applicable",
          "Not Applicable",
          "Not Applicable",
          "Not Applicable",
          "Not Applicable",
          "Not Applicable",
          "Not Applicable",
          "Not Applicable",
          "Not Applicable",
          "Not Applicable",
          "Not Applicable",
          "Not Applicable",
          "Not Applicable",
          "Not Applicable",
          "Not Applicable",
          "Not Applicable",
          "Not Applicable",
          "Not Applicable",
          "Not Applicable",
          "Not Applicable",
          "Not Applicable",
          "Not Applicable",
          "Not Applicable",
          "Not Applicable",
          "Not Applicable",
          "Not Applicable",
          "Not Applicable",
          "Not Applicable",
          "Not Applicable",
          "Not Applicable",
          "Not Applicable",
          "Not Applicable",
          "Not Applicable",
          "Not Applicable",
          "Not Applicable",
          "Not Applicable",
          "Not Applicable",
          "Not Applicable",
          "Not Applicable",
          "Not Applicable",
          "Not Applicable",
          "Not Applicable",
          "Not Applicable",
          "Not Applicable",
          "Not Applicable",
          "Not Applicable",
          "Not Applicable",
          "Not Applicable",
          "Not Applicable",
          "Not Applicable",
          "Not Applicable",
          "Not Applicable",
          "Not Applicable",
          "Not Applicable",
          "Not Applicable",
          "Not Applicable",
          "Not Applicable",
          "Not Applicable",
          "Not Applicable",
          "Not Applicable",
          "Not Applicable",
          "Not Applicable",
          "Not Applicable",
          "Not Applicable",
          "Not Applicable",
          "Not Applicable",
          "Not Applicable",
          "Not Applicable",
          "Not Applicable",
          "Not Applicable",
          "Not Applicable",
          "Not Applicable",
          "Not Applicable",
          "Not Applicable",
          "Not Applicable",
          "Not Applicable",
          "Not Applicable",
          "Not Applicable",
          "Not Applicable",
          "Not Applicable",
          "Not Applicable",
          "Not Applicable",
          "Not Applicable",
          "Not Applicable",
          "Not Applicable",
          "Not Applicable",
          "Not Applicable",
          "Not Applicable",
          "Not Applicable",
          "Not Applicable",
          "Not Applicable",
          "Not Applicable",
          "Not Applicable",
          "Not Applicable",
          "Not Applicable",
          "Not Applicable",
          "Not Applicable",
          "Not Applicable",
          "Not Applicable",
          "Not Applicable",
          "Not Applicable",
          "Not Applicable",
          "Not Applicable",
          "Not Applicable",
          "Not Applicable",
          "Not Applicable",
          "Not Applicable",
          "Not Applicable",
          "Not Applicable",
          "Not Applicable",
          "Not Applicable",
          "Not Applicable",
          "Not Applicable",
          "Not Applicable",
          "Not Applicable",
          "Not Applicable",
          "Not Applicable",
          "Not Applicable",
          "Not Applicable",
          "Not Applicable",
          "Not Applicable",
          "Not Applicable",
          "Not Applicable",
          "Not Applicable",
          "Not Applicable",
          "Not Applicable",
          "Not Applicable",
          "Not Applicable",
          "Not Applicable",
          "Not Applicable",
          "Not Applicable",
          "Not Applicable",
          "Not Applicable",
          "Not Applicable",
          "Not Applicable",
          "Not Applicable",
          "Not Applicable",
          "Not Applicable",
          "Not Applicable",
          "Not Applicable",
          "Not Applicable",
          "Not Applicable",
          "Not Applicable",
          "Not Applicable",
          "Not Applicable",
          "Not Applicable",
          "Not Applicable",
          "Not Applicable",
          "Not Applicable",
          "Not Applicable",
          "Not Applicable",
          "Not Applicable",
          "Not Applicable",
          "Not Applicable",
          "Not Applicable",
          "Not Applicable",
          "Not Applicable",
          "Not Applicable",
          "Not Applicable",
          "Not Applicable",
          "Not Applicable",
          "Not Applicable",
          "Not Applicable",
          "Not Applicable",
          "Not Applicable",
          "Not Applicable",
          "Not Applicable",
          "Not Applicable",
          "Not Applicable",
          "Not Applicable",
          "Not Applicable",
          "Not Applicable",
          "Not Applicable",
          "Not Applicable",
          "Not Applicable",
          "Not Applicable",
          "Not Applicable",
          "Not Applicable",
          "Not Applicable",
          "Not Applicable",
          "Not Applicable",
          "Not Applicable",
          "Not Applicable",
          "Not Applicable",
          "Not Applicable",
          "Not Applicable",
          "Not Applicable",
          "Not Applicable",
          "Not Applicable",
          "Not Applicable",
          "Not Applicable",
          "Not Applicable",
          "Not Applicable",
          "Not Applicable",
          "Not Applicable",
          "Not Applicable",
          "Not Applicable",
          "Not Applicable",
          "Not Applicable",
          "Not Applicable",
          "Not Applicable",
          "Not Applicable",
          "Not Applicable",
          "Not Applicable",
          "Not Applicable",
          "Not Applicable",
          "Not Applicable",
          "Not Applicable",
          "Not Applicable",
          "Not Applicable",
          "Not Applicable",
          "Not Applicable",
          "Not Applicable",
          "Not Applicable",
          "Not Applicable",
          "Not Applicable",
          "Not Applicable",
          "Not Applicable",
          "Not Applicable",
          "Not Applicable",
          "Not Applicable",
          "Not Applicable",
          "Not Applicable",
          "Not Applicable",
          "Not Applicable",
          "Not Applicable",
          "Not Applicable",
          "Not Applicable",
          "Not Applicable",
          "Not Applicable",
          "Not Applicable",
          "Not Applicable",
          "Not Applicable",
          "Not Applicable",
          "Not Applicable",
          "Not Applicable",
          "Not Applicable",
          "Not Applicable",
          "Not Applicable",
          "Not Applicable",
          "Not Applicable",
          "Not Applicable",
          "Not Applicable",
          "Not Applicable",
          "Not Applicable",
          "Not Applicable",
          "Not Applicable",
          "Not Applicable",
          "Not Applicable",
          "Not Applicable",
          "Not Applicable",
          "Not Applicable",
          "Not Applicable",
          "Not Applicable",
          "Not Applicable",
          "Not Applicable",
          "Not Applicable",
          "Not Applicable",
          "Not Applicable",
          "Not Applicable",
          "Not Applicable",
          "Not Applicable",
          "Not Applicable",
          "Not Applicable",
          "Not Applicable",
          "Not Applicable",
          "Not Applicable",
          "Not Applicable",
          "Not Applicable",
          "Not Applicable",
          "Not Applicable",
          "Not Applicable",
          "Not Applicable",
          "Not Applicable",
          "Not Applicable",
          "Not Applicable",
          "Not Applicable",
          "Not Applicable",
          "Not Applicable",
          "Not Applicable",
          "Not Applicable",
          "Not Applicable",
          "Not Applicable",
          "Not Applicable",
          "Not Applicable",
          "Not Applicable",
          "Not Applicable",
          "Not Applicable",
          "Not Applicable",
          "Not Applicable",
          "Not Applicable",
          "Not Applicable",
          "Not Applicable",
          "Not Applicable",
          "Not Applicable",
          "Not Applicable",
          "Not Applicable",
          "Not Applicable",
          "Not Applicable",
          "Not Applicable",
          "Not Applicable",
          "Not Applicable",
          "Not Applicable",
          "Not Applicable",
          "Not Applicable",
          "Not Applicable",
          "Not Applicable",
          "Not Applicable",
          "Not Applicable",
          "Not Applicable",
          "Not Applicable",
          "Not Applicable",
          "Not Applicable",
          "Not Applicable",
          "Not Applicable",
          "Not Applicable",
          "Not Applicable",
          "Not Applicable",
          "Not Applicable",
          "Not Applicable",
          "Not Applicable",
          "Not Applicable",
          "Not Applicable",
          "Not Applicable",
          "Not Applicable",
          "Not Applicable",
          "Not Applicable",
          "Not Applicable",
          "Not Applicable",
          "Not Applicable",
          "Not Applicable",
          "Not Applicable",
          "Not Applicable",
          "Not Applicable",
          "Not Applicable",
          "Not Applicable",
          "Not Applicable",
          "Not Applicable",
          "Not Applicable",
          "Not Applicable",
          "Not Applicable",
          "Not Applicable",
          "Not Applicable",
          "Not Applicable",
          "Not Applicable",
          "Not Applicable",
          "Not Applicable",
          "Not Applicable",
          "Not Applicable",
          "Not Applicable",
          "Not Applicable",
          "Not Applicable",
          "Not Applicable",
          "Not Applicable",
          "Not Applicable",
          "Not Applicable",
          "Not Applicable",
          "Not Applicable",
          "Not Applicable",
          "Not Applicable",
          "Not Applicable",
          "Not Applicable",
          "Not Applicable",
          "Not Applicable",
          "Not Applicable",
          "Not Applicable",
          "Not Applicable",
          "Not Applicable",
          "Not Applicable",
          "Not Applicable",
          "Not Applicable",
          "Not Applicable",
          "Not Applicable",
          "Not Applicable",
          "Not Applicable",
          "Not Applicable",
          "Not Applicable",
          "Not Applicable",
          "Not Applicable",
          "Not Applicable",
          "Not Applicable",
          "Not Applicable",
          "Not Applicable",
          "Not Applicable",
          "Not Applicable",
          "Not Applicable",
          "Not Applicable",
          "Not Applicable",
          "Not Applicable",
          "Not Applicable",
          "Not Applicable",
          "Not Applicable",
          "Not Applicable",
          "Not Applicable",
          "Not Applicable",
          "Not Applicable",
          "Not Applicable",
          "Not Applicable",
          "Not Applicable",
          "Not Applicable",
          "Not Applicable",
          "Not Applicable",
          "Not Applicable",
          "Not Applicable",
          "Not Applicable",
          "Not Applicable",
          "Not Applicable",
          "Not Applicable",
          "Not Applicable",
          "Not Applicable",
          "Not Applicable",
          "Not Applicable",
          "Not Applicable",
          "Not Applicable",
          "Not Applicable",
          "Not Applicable",
          "Not Applicable",
          "Not Applicable",
          "Not Applicable",
          "Not Applicable",
          "Not Applicable",
          "Not Applicable",
          "Not Applicable",
          "Not Applicable",
          "Not Applicable",
          "Not Applicable",
          "Not Applicable",
          "Not Applicable",
          "Not Applicable",
          "Not Applicable",
          "Not Applicable",
          "Not Applicable",
          "Not Applicable",
          "Not Applicable",
          "Not Applicable",
          "Not Applicable",
          "Not Applicable",
          "Not Applicable",
          "Not Applicable",
          "Not Applicable",
          "Not Applicable",
          "Not Applicable",
          "Not Applicable",
          "Not Applicable",
          "Not Applicable",
          "Not Applicable",
          "Not Applicable",
          "Not Applicable",
          "Not Applicable",
          "Not Applicable",
          "Not Applicable",
          "Not Applicable",
          "Not Applicable",
          "Not Applicable",
          "Not Applicable",
          "Not Applicable",
          "Not Applicable",
          "Not Applicable",
          "Not Applicable",
          "Not Applicable",
          "Not Applicable",
          "Not Applicable",
          "Not Applicable",
          "Not Applicable",
          "Not Applicable",
          "Not Applicable",
          "Not Applicable",
          "Not Applicable",
          "Not Applicable",
          "Not Applicable",
          "Not Applicable",
          "Not Applicable",
          "Not Applicable",
          "Not Applicable",
          "Not Applicable",
          "Not Applicable",
          "Not Applicable",
          "Not Applicable",
          "Not Applicable",
          "Not Applicable",
          "Not Applicable",
          "Not Applicable",
          "Not Applicable",
          "Not Applicable",
          "Not Applicable",
          "Not Applicable",
          "Not Applicable",
          "Not Applicable",
          "Not Applicable",
          "Not Applicable",
          "Not Applicable",
          "Not Applicable",
          "Not Applicable",
          "Not Applicable",
          "Not Applicable",
          "Not Applicable",
          "Not Applicable",
          "Not Applicable",
          "Not Applicable",
          "Not Applicable",
          "Not Applicable",
          "Not Applicable",
          "Not Applicable",
          "Not Applicable",
          "Not Applicable",
          "Not Applicable",
          "Not Applicable",
          "Not Applicable",
          "Not Applicable",
          "Not Applicable",
          "Not Applicable",
          "Not Applicable",
          "Not Applicable",
          "Not Applicable",
          "Not Applicable",
          "Not Applicable",
          "Not Applicable",
          "Not Applicable",
          "Not Applicable",
          "Not Applicable",
          "Not Applicable",
          "Not Applicable",
          "Not Applicable",
          "Not Applicable",
          "Not Applicable",
          "Not Applicable",
          "Not Applicable",
          "Not Applicable",
          "Not Applicable",
          "Not Applicable",
          "Not Applicable",
          "Not Applicable",
          "Not Applicable",
          "Not Applicable",
          "Not Applicable",
          "Not Applicable",
          "Not Applicable",
          "Not Applicable",
          "Not Applicable",
          "Not Applicable",
          "Not Applicable",
          "Not Applicable",
          "Not Applicable",
          "Not Applicable",
          "Not Applicable",
          "Not Applicable",
          "Not Applicable",
          "Not Applicable",
          "Not Applicable",
          "Not Applicable",
          "Not Applicable",
          "Not Applicable",
          "Not Applicable",
          "Not Applicable",
          "Not Applicable",
          "Not Applicable",
          "Not Applicable",
          "Not Applicable",
          "Not Applicable",
          "Not Applicable",
          "Not Applicable",
          "Not Applicable",
          "Not Applicable",
          "Not Applicable",
          "Not Applicable",
          "Not Applicable",
          "Not Applicable",
          "Not Applicable",
          "Not Applicable",
          "Not Applicable",
          "Not Applicable",
          "Not Applicable",
          "Not Applicable",
          "Not Applicable",
          "Not Applicable",
          "Not Applicable",
          "Not Applicable",
          "Not Applicable",
          "Not Applicable",
          "Not Applicable",
          "Not Applicable",
          "Not Applicable",
          "Not Applicable",
          "Not Applicable",
          "Not Applicable",
          "Not Applicable",
          "Not Applicable",
          "Not Applicable",
          "Not Applicable",
          "Not Applicable",
          "Not Applicable",
          "Not Applicable",
          "Not Applicable",
          "Not Applicable",
          "Not Applicable",
          "Not Applicable",
          "Not Applicable",
          "Not Applicable",
          "Not Applicable",
          "Not Applicable",
          "Not Applicable",
          "Not Applicable",
          "Not Applicable",
          "Not Applicable",
          "Not Applicable",
          "Not Applicable",
          "Not Applicable",
          "Not Applicable",
          "Not Applicable",
          "Not Applicable",
          "Not Applicable",
          "Not Applicable",
          "Not Applicable",
          "Not Applicable",
          "Not Applicable",
          "Not Applicable",
          "Not Applicable",
          "Not Applicable",
          "Not Applicable",
          "Not Applicable",
          "Not Applicable",
          "Not Applicable",
          "Not Applicable",
          "Not Applicable",
          "Not Applicable",
          "Not Applicable",
          "Not Applicable",
          "Not Applicable",
          "Not Applicable",
          "Not Applicable",
          "Not Applicable",
          "Not Applicable",
          "Not Applicable",
          "Not Applicable",
          "Not Applicable",
          "Not Applicable",
          "Not Applicable",
          "Not Applicable",
          "Not Applicable",
          "Not Applicable",
          "Not Applicable",
          "Not Applicable",
          "Not Applicable",
          "Not Applicable",
          "Not Applicable",
          "Not Applicable",
          "Not Applicable",
          "Not Applicable",
          "Not Applicable",
          "Not Applicable",
          "Not Applicable",
          "Not Applicable",
          "Not Applicable",
          "Not Applicable",
          "Not Applicable",
          "Not Applicable",
          "Not Applicable",
          "Not Applicable",
          "Not Applicable",
          "Not Applicable",
          "Not Applicable",
          "Not Applicable",
          "Not Applicable",
          "Not Applicable",
          "Not Applicable",
          "Not Applicable",
          "Not Applicable",
          "Not Applicable",
          "Not Applicable",
          "Not Applicable",
          "Not Applicable",
          "Not Applicable",
          "Not Applicable",
          "Not Applicable",
          "Not Applicable",
          "Not Applicable",
          "Not Applicable",
          "Not Applicable",
          "Not Applicable",
          "Not Applicable",
          "Not Applicable",
          "Not Applicable",
          "Not Applicable",
          "Not Applicable",
          "Not Applicable",
          "Not Applicable",
          "Not Applicable",
          "Not Applicable",
          "Not Applicable",
          "Not Applicable",
          "Not Applicable",
          "Not Applicable",
          "Not Applicable",
          "Not Applicable",
          "Not Applicable",
          "Not Applicable",
          "Not Applicable",
          "Not Applicable",
          "Not Applicable",
          "Not Applicable",
          "Not Applicable",
          "Not Applicable",
          "Not Applicable",
          "Not Applicable",
          "Not Applicable",
          "Not Applicable",
          "Not Applicable",
          "Not Applicable",
          "Not Applicable",
          "Not Applicable",
          "Not Applicable",
          "Not Applicable",
          "Not Applicable",
          "Not Applicable",
          "Not Applicable",
          "Not Applicable",
          "Not Applicable",
          "Not Applicable",
          "Not Applicable",
          "Not Applicable",
          "Not Applicable",
          "Not Applicable",
          "Not Applicable",
          "Not Applicable",
          "Not Applicable",
          "Not Applicable",
          "Not Applicable",
          "Not Applicable",
          "Not Applicable",
          "Not Applicable",
          "Not Applicable",
          "Not Applicable",
          "Not Applicable",
          "Not Applicable",
          "Not Applicable",
          "Not Applicable",
          "Not Applicable",
          "Not Applicable",
          "Not Applicable",
          "Not Applicable",
          "Not Applicable",
          "Not Applicable",
          "Not Applicable",
          "Not Applicable",
          "Not Applicable",
          "Not Applicable",
          "Not Applicable",
          "Not Applicable",
          "Not Applicable",
          "Not Applicable",
          "Not Applicable",
          "Not Applicable",
          "Not Applicable",
          "Not Applicable",
          "Not Applicable",
          "Not Applicable",
          "Not Applicable",
          "Not Applicable",
          "Not Applicable",
          "Not Applicable",
          "Not Applicable",
          "Not Applicable",
          "Not Applicable",
          "Not Applicable",
          "Not Applicable",
          "Not Applicable",
          "Not Applicable",
          "Not Applicable",
          "Not Applicable",
          "Not Applicable",
          "Not Applicable",
          "Not Applicable",
          "Not Applicable",
          "Not Applicable",
          "Not Applicable",
          "Not Applicable",
          "Not Applicable",
          "Not Applicable",
          "Not Applicable",
          "Not Applicable",
          "Not Applicable",
          "Not Applicable",
          "Not Applicable",
          "Not Applicable",
          "Not Applicable",
          "Not Applicable",
          "Not Applicable",
          "Not Applicable",
          "Not Applicable",
          "Not Applicable",
          "Not Applicable",
          "Not Applicable",
          "Not Applicable",
          "Not Applicable",
          "Not Applicable",
          "Not Applicable",
          "Not Applicable",
          "Not Applicable",
          "Not Applicable",
          "Not Applicable",
          "Not Applicable",
          "Not Applicable",
          "Not Applicable",
          "Not Applicable",
          "Not Applicable",
          "Not Applicable",
          "Not Applicable",
          "Not Applicable",
          "Not Applicable",
          "Not Applicable",
          "Not Applicable",
          "Not Applicable",
          "Not Applicable",
          "Not Applicable",
          "Not Applicable",
          "Not Applicable",
          "Not Applicable",
          "Not Applicable",
          "Not Applicable",
          "Not Applicable",
          "Not Applicable",
          "Not Applicable",
          "Not Applicable",
          "Not Applicable",
          "Not Applicable",
          "Not Applicable",
          "Not Applicable",
          "Not Applicable",
          "Not Applicable",
          "Not Applicable",
          "Not Applicable",
          "Not Applicable",
          "Not Applicable",
          "Not Applicable",
          "Not Applicable",
          "Not Applicable",
          "Not Applicable",
          "Not Applicable",
          "Not Applicable",
          "Not Applicable",
          "Not Applicable",
          "Not Applicable",
          "Not Applicable",
          "Not Applicable",
          "Not Applicable",
          "Not Applicable",
          "Not Applicable",
          "Not Applicable",
          "Not Applicable",
          "Not Applicable",
          "Not Applicable",
          "Not Applicable",
          "Not Applicable",
          "Not Applicable",
          "Not Applicable",
          "Not Applicable",
          "Not Applicable",
          "Not Applicable",
          "Not Applicable",
          "Not Applicable",
          "Not Applicable",
          "Not Applicable",
          "Not Applicable",
          "Not Applicable",
          "Not Applicable",
          "Not Applicable",
          "Not Applicable",
          "Not Applicable",
          "Not Applicable",
          "Not Applicable",
          "Not Applicable",
          "Not Applicable",
          "Not Applicable",
          "Not Applicable",
          "Not Applicable",
          "Not Applicable",
          "Not Applicable",
          "Not Applicable",
          "Not Applicable",
          "Not Applicable",
          "Not Applicable",
          "Not Applicable",
          "Not Applicable",
          "Not Applicable",
          "Not Applicable",
          "Not Applicable",
          "Not Applicable",
          "Not Applicable",
          "Not Applicable",
          "Not Applicable",
          "Not Applicable",
          "Not Applicable",
          "Not Applicable",
          "Not Applicable",
          "Not Applicable",
          "Not Applicable",
          "Not Applicable",
          "Not Applicable",
          "Not Applicable",
          "Not Applicable",
          "Not Applicable",
          "Not Applicable",
          "Not Applicable",
          "Not Applicable",
          "Not Applicable",
          "Not Applicable",
          "Not Applicable",
          "Not Applicable",
          "Not Applicable",
          "Not Applicable",
          "Not Applicable",
          "Not Applicable",
          "Not Applicable",
          "Not Applicable",
          "Not Applicable",
          "Not Applicable",
          "Not Applicable",
          "Not Applicable",
          "Not Applicable",
          "Not Applicable",
          "Not Applicable",
          "Not Applicable",
          "Not Applicable",
          "Not Applicable",
          "Not Applicable",
          "Not Applicable",
          "Not Applicable",
          "Not Applicable",
          "Not Applicable",
          "Not Applicable",
          "Not Applicable",
          "Not Applicable",
          "Not Applicable",
          "Not Applicable",
          "Not Applicable",
          "Not Applicable",
          "Not Applicable",
          "Not Applicable",
          "Not Applicable",
          "Not Applicable",
          "Not Applicable",
          "Not Applicable",
          "Not Applicable",
          "Not Applicable",
          "Not Applicable",
          "Not Applicable",
          "Not Applicable",
          "Not Applicable",
          "Not Applicable",
          "Not Applicable",
          "Not Applicable",
          "Not Applicable",
          "Not Applicable",
          "Not Applicable",
          "Not Applicable",
          "Not Applicable",
          "Not Applicable",
          "Not Applicable",
          "Not Applicable",
          "Not Applicable",
          "Not Applicable",
          "Not Applicable",
          "Not Applicable",
          "Not Applicable",
          "Not Applicable",
          "Not Applicable",
          "Not Applicable",
          "Not Applicable",
          "Not Applicable",
          "Not Applicable",
          "Not Applicable",
          "Not Applicable",
          "Not Applicable",
          "Not Applicable",
          "Not Applicable",
          "Not Applicable",
          "Not Applicable",
          "Not Applicable",
          "Not Applicable",
          "Not Applicable",
          "Not Applicable",
          "Not Applicable",
          "Not Applicable",
          "Not Applicable",
          "Not Applicable",
          "Not Applicable",
          "Not Applicable",
          "Not Applicable",
          "Not Applicable",
          "Not Applicable",
          "Not Applicable",
          "Not Applicable",
          "Not Applicable",
          "Not Applicable",
          "Not Applicable",
          "Not Applicable",
          "Not Applicable",
          "Not Applicable",
          "Not Applicable",
          "Not Applicable",
          "Not Applicable",
          "Not Applicable",
          "Not Applicable",
          "Not Applicable",
          "Not Applicable",
          "Not Applicable",
          "Not Applicable",
          "Not Applicable",
          "Not Applicable",
          "Not Applicable",
          "Not Applicable",
          "Not Applicable",
          "Not Applicable"
         ],
         "xaxis": "x",
         "yaxis": "y"
        },
        {
         "bingroup": "x",
         "hovertemplate": "Seniority level=%{x}<br>count=%{y}<extra></extra>",
         "legendgroup": "Entry level",
         "marker": {
          "color": "#ab63fa",
          "pattern": {
           "shape": ""
          }
         },
         "name": "Entry level",
         "orientation": "v",
         "showlegend": true,
         "type": "histogram",
         "x": [
          "Entry level",
          "Entry level",
          "Entry level",
          "Entry level",
          "Entry level",
          "Entry level",
          "Entry level",
          "Entry level",
          "Entry level",
          "Entry level",
          "Entry level",
          "Entry level",
          "Entry level",
          "Entry level",
          "Entry level",
          "Entry level",
          "Entry level",
          "Entry level",
          "Entry level",
          "Entry level",
          "Entry level",
          "Entry level",
          "Entry level",
          "Entry level",
          "Entry level",
          "Entry level",
          "Entry level",
          "Entry level",
          "Entry level",
          "Entry level",
          "Entry level",
          "Entry level",
          "Entry level",
          "Entry level",
          "Entry level",
          "Entry level",
          "Entry level",
          "Entry level",
          "Entry level",
          "Entry level",
          "Entry level",
          "Entry level",
          "Entry level",
          "Entry level",
          "Entry level",
          "Entry level",
          "Entry level",
          "Entry level",
          "Entry level",
          "Entry level",
          "Entry level",
          "Entry level",
          "Entry level",
          "Entry level",
          "Entry level",
          "Entry level",
          "Entry level",
          "Entry level",
          "Entry level",
          "Entry level",
          "Entry level",
          "Entry level",
          "Entry level",
          "Entry level",
          "Entry level",
          "Entry level",
          "Entry level",
          "Entry level",
          "Entry level",
          "Entry level",
          "Entry level",
          "Entry level",
          "Entry level",
          "Entry level",
          "Entry level",
          "Entry level",
          "Entry level",
          "Entry level",
          "Entry level",
          "Entry level",
          "Entry level",
          "Entry level",
          "Entry level",
          "Entry level",
          "Entry level",
          "Entry level",
          "Entry level",
          "Entry level",
          "Entry level",
          "Entry level",
          "Entry level",
          "Entry level",
          "Entry level",
          "Entry level",
          "Entry level",
          "Entry level",
          "Entry level",
          "Entry level",
          "Entry level",
          "Entry level",
          "Entry level",
          "Entry level",
          "Entry level",
          "Entry level",
          "Entry level",
          "Entry level",
          "Entry level",
          "Entry level",
          "Entry level",
          "Entry level",
          "Entry level",
          "Entry level",
          "Entry level",
          "Entry level",
          "Entry level",
          "Entry level",
          "Entry level",
          "Entry level",
          "Entry level",
          "Entry level",
          "Entry level",
          "Entry level",
          "Entry level",
          "Entry level",
          "Entry level",
          "Entry level",
          "Entry level",
          "Entry level",
          "Entry level",
          "Entry level",
          "Entry level",
          "Entry level",
          "Entry level",
          "Entry level",
          "Entry level",
          "Entry level",
          "Entry level",
          "Entry level",
          "Entry level",
          "Entry level",
          "Entry level",
          "Entry level",
          "Entry level",
          "Entry level",
          "Entry level",
          "Entry level",
          "Entry level",
          "Entry level",
          "Entry level",
          "Entry level",
          "Entry level",
          "Entry level",
          "Entry level",
          "Entry level",
          "Entry level",
          "Entry level",
          "Entry level",
          "Entry level",
          "Entry level",
          "Entry level",
          "Entry level",
          "Entry level",
          "Entry level",
          "Entry level",
          "Entry level",
          "Entry level",
          "Entry level",
          "Entry level",
          "Entry level",
          "Entry level",
          "Entry level",
          "Entry level",
          "Entry level",
          "Entry level",
          "Entry level",
          "Entry level",
          "Entry level",
          "Entry level",
          "Entry level",
          "Entry level",
          "Entry level",
          "Entry level",
          "Entry level",
          "Entry level",
          "Entry level",
          "Entry level",
          "Entry level",
          "Entry level",
          "Entry level",
          "Entry level",
          "Entry level",
          "Entry level",
          "Entry level",
          "Entry level",
          "Entry level",
          "Entry level",
          "Entry level",
          "Entry level",
          "Entry level",
          "Entry level",
          "Entry level",
          "Entry level",
          "Entry level",
          "Entry level",
          "Entry level",
          "Entry level",
          "Entry level",
          "Entry level",
          "Entry level",
          "Entry level",
          "Entry level",
          "Entry level",
          "Entry level",
          "Entry level",
          "Entry level",
          "Entry level",
          "Entry level",
          "Entry level",
          "Entry level",
          "Entry level",
          "Entry level",
          "Entry level",
          "Entry level",
          "Entry level",
          "Entry level",
          "Entry level",
          "Entry level",
          "Entry level",
          "Entry level",
          "Entry level",
          "Entry level",
          "Entry level",
          "Entry level",
          "Entry level",
          "Entry level",
          "Entry level",
          "Entry level",
          "Entry level",
          "Entry level",
          "Entry level",
          "Entry level",
          "Entry level",
          "Entry level",
          "Entry level",
          "Entry level",
          "Entry level",
          "Entry level",
          "Entry level",
          "Entry level",
          "Entry level",
          "Entry level",
          "Entry level",
          "Entry level",
          "Entry level",
          "Entry level",
          "Entry level",
          "Entry level",
          "Entry level",
          "Entry level",
          "Entry level",
          "Entry level",
          "Entry level",
          "Entry level",
          "Entry level",
          "Entry level",
          "Entry level",
          "Entry level",
          "Entry level",
          "Entry level",
          "Entry level",
          "Entry level",
          "Entry level",
          "Entry level",
          "Entry level",
          "Entry level",
          "Entry level",
          "Entry level",
          "Entry level",
          "Entry level",
          "Entry level",
          "Entry level",
          "Entry level",
          "Entry level",
          "Entry level",
          "Entry level",
          "Entry level",
          "Entry level",
          "Entry level",
          "Entry level",
          "Entry level",
          "Entry level",
          "Entry level",
          "Entry level",
          "Entry level",
          "Entry level",
          "Entry level",
          "Entry level",
          "Entry level",
          "Entry level",
          "Entry level",
          "Entry level",
          "Entry level",
          "Entry level",
          "Entry level",
          "Entry level",
          "Entry level",
          "Entry level",
          "Entry level",
          "Entry level",
          "Entry level",
          "Entry level",
          "Entry level",
          "Entry level",
          "Entry level",
          "Entry level",
          "Entry level",
          "Entry level",
          "Entry level",
          "Entry level",
          "Entry level",
          "Entry level",
          "Entry level",
          "Entry level",
          "Entry level",
          "Entry level",
          "Entry level",
          "Entry level",
          "Entry level",
          "Entry level",
          "Entry level",
          "Entry level",
          "Entry level",
          "Entry level",
          "Entry level",
          "Entry level",
          "Entry level",
          "Entry level",
          "Entry level",
          "Entry level",
          "Entry level",
          "Entry level",
          "Entry level",
          "Entry level",
          "Entry level",
          "Entry level",
          "Entry level",
          "Entry level",
          "Entry level",
          "Entry level",
          "Entry level",
          "Entry level",
          "Entry level",
          "Entry level",
          "Entry level",
          "Entry level",
          "Entry level",
          "Entry level",
          "Entry level",
          "Entry level",
          "Entry level",
          "Entry level",
          "Entry level",
          "Entry level",
          "Entry level",
          "Entry level",
          "Entry level",
          "Entry level",
          "Entry level",
          "Entry level",
          "Entry level",
          "Entry level",
          "Entry level",
          "Entry level",
          "Entry level",
          "Entry level",
          "Entry level",
          "Entry level",
          "Entry level",
          "Entry level",
          "Entry level",
          "Entry level",
          "Entry level",
          "Entry level",
          "Entry level",
          "Entry level",
          "Entry level",
          "Entry level",
          "Entry level",
          "Entry level",
          "Entry level",
          "Entry level",
          "Entry level",
          "Entry level",
          "Entry level",
          "Entry level",
          "Entry level",
          "Entry level",
          "Entry level",
          "Entry level",
          "Entry level",
          "Entry level",
          "Entry level",
          "Entry level",
          "Entry level",
          "Entry level",
          "Entry level",
          "Entry level",
          "Entry level",
          "Entry level",
          "Entry level",
          "Entry level",
          "Entry level",
          "Entry level",
          "Entry level",
          "Entry level",
          "Entry level",
          "Entry level",
          "Entry level",
          "Entry level",
          "Entry level",
          "Entry level",
          "Entry level",
          "Entry level",
          "Entry level",
          "Entry level",
          "Entry level",
          "Entry level",
          "Entry level",
          "Entry level",
          "Entry level",
          "Entry level",
          "Entry level",
          "Entry level",
          "Entry level",
          "Entry level",
          "Entry level",
          "Entry level",
          "Entry level",
          "Entry level",
          "Entry level",
          "Entry level",
          "Entry level",
          "Entry level",
          "Entry level",
          "Entry level",
          "Entry level",
          "Entry level",
          "Entry level",
          "Entry level",
          "Entry level",
          "Entry level",
          "Entry level",
          "Entry level",
          "Entry level",
          "Entry level",
          "Entry level",
          "Entry level",
          "Entry level",
          "Entry level",
          "Entry level",
          "Entry level",
          "Entry level",
          "Entry level",
          "Entry level",
          "Entry level",
          "Entry level",
          "Entry level",
          "Entry level",
          "Entry level",
          "Entry level",
          "Entry level",
          "Entry level",
          "Entry level",
          "Entry level",
          "Entry level",
          "Entry level",
          "Entry level",
          "Entry level",
          "Entry level",
          "Entry level",
          "Entry level",
          "Entry level",
          "Entry level",
          "Entry level",
          "Entry level",
          "Entry level",
          "Entry level",
          "Entry level",
          "Entry level",
          "Entry level",
          "Entry level",
          "Entry level",
          "Entry level",
          "Entry level",
          "Entry level",
          "Entry level",
          "Entry level",
          "Entry level",
          "Entry level",
          "Entry level",
          "Entry level",
          "Entry level",
          "Entry level",
          "Entry level",
          "Entry level",
          "Entry level",
          "Entry level",
          "Entry level",
          "Entry level",
          "Entry level",
          "Entry level",
          "Entry level",
          "Entry level",
          "Entry level",
          "Entry level",
          "Entry level",
          "Entry level",
          "Entry level",
          "Entry level",
          "Entry level",
          "Entry level",
          "Entry level",
          "Entry level",
          "Entry level",
          "Entry level",
          "Entry level",
          "Entry level",
          "Entry level",
          "Entry level",
          "Entry level",
          "Entry level",
          "Entry level",
          "Entry level",
          "Entry level",
          "Entry level",
          "Entry level",
          "Entry level",
          "Entry level",
          "Entry level",
          "Entry level",
          "Entry level",
          "Entry level",
          "Entry level",
          "Entry level",
          "Entry level",
          "Entry level",
          "Entry level",
          "Entry level",
          "Entry level",
          "Entry level",
          "Entry level",
          "Entry level",
          "Entry level",
          "Entry level",
          "Entry level",
          "Entry level",
          "Entry level",
          "Entry level",
          "Entry level",
          "Entry level",
          "Entry level",
          "Entry level",
          "Entry level",
          "Entry level",
          "Entry level",
          "Entry level",
          "Entry level",
          "Entry level",
          "Entry level",
          "Entry level",
          "Entry level",
          "Entry level",
          "Entry level",
          "Entry level",
          "Entry level",
          "Entry level",
          "Entry level",
          "Entry level",
          "Entry level",
          "Entry level",
          "Entry level",
          "Entry level",
          "Entry level",
          "Entry level",
          "Entry level",
          "Entry level",
          "Entry level",
          "Entry level",
          "Entry level",
          "Entry level",
          "Entry level",
          "Entry level",
          "Entry level",
          "Entry level",
          "Entry level",
          "Entry level",
          "Entry level",
          "Entry level",
          "Entry level",
          "Entry level",
          "Entry level",
          "Entry level",
          "Entry level",
          "Entry level",
          "Entry level",
          "Entry level",
          "Entry level",
          "Entry level",
          "Entry level",
          "Entry level",
          "Entry level",
          "Entry level",
          "Entry level",
          "Entry level",
          "Entry level",
          "Entry level",
          "Entry level",
          "Entry level",
          "Entry level",
          "Entry level",
          "Entry level",
          "Entry level",
          "Entry level",
          "Entry level",
          "Entry level",
          "Entry level",
          "Entry level",
          "Entry level",
          "Entry level",
          "Entry level",
          "Entry level",
          "Entry level",
          "Entry level",
          "Entry level",
          "Entry level",
          "Entry level",
          "Entry level",
          "Entry level",
          "Entry level",
          "Entry level",
          "Entry level",
          "Entry level",
          "Entry level",
          "Entry level",
          "Entry level",
          "Entry level",
          "Entry level",
          "Entry level",
          "Entry level",
          "Entry level",
          "Entry level",
          "Entry level",
          "Entry level",
          "Entry level",
          "Entry level",
          "Entry level",
          "Entry level",
          "Entry level",
          "Entry level",
          "Entry level",
          "Entry level",
          "Entry level",
          "Entry level",
          "Entry level",
          "Entry level",
          "Entry level",
          "Entry level",
          "Entry level",
          "Entry level",
          "Entry level",
          "Entry level",
          "Entry level",
          "Entry level",
          "Entry level",
          "Entry level",
          "Entry level",
          "Entry level",
          "Entry level",
          "Entry level",
          "Entry level",
          "Entry level",
          "Entry level",
          "Entry level",
          "Entry level",
          "Entry level",
          "Entry level",
          "Entry level",
          "Entry level",
          "Entry level",
          "Entry level",
          "Entry level",
          "Entry level",
          "Entry level",
          "Entry level",
          "Entry level",
          "Entry level",
          "Entry level",
          "Entry level",
          "Entry level",
          "Entry level",
          "Entry level",
          "Entry level",
          "Entry level",
          "Entry level",
          "Entry level",
          "Entry level",
          "Entry level",
          "Entry level",
          "Entry level",
          "Entry level",
          "Entry level",
          "Entry level",
          "Entry level",
          "Entry level",
          "Entry level",
          "Entry level",
          "Entry level",
          "Entry level",
          "Entry level",
          "Entry level",
          "Entry level",
          "Entry level",
          "Entry level",
          "Entry level",
          "Entry level",
          "Entry level",
          "Entry level",
          "Entry level",
          "Entry level",
          "Entry level",
          "Entry level",
          "Entry level",
          "Entry level",
          "Entry level",
          "Entry level",
          "Entry level",
          "Entry level",
          "Entry level",
          "Entry level",
          "Entry level",
          "Entry level",
          "Entry level",
          "Entry level",
          "Entry level",
          "Entry level",
          "Entry level",
          "Entry level",
          "Entry level",
          "Entry level",
          "Entry level",
          "Entry level",
          "Entry level",
          "Entry level",
          "Entry level",
          "Entry level",
          "Entry level",
          "Entry level",
          "Entry level",
          "Entry level",
          "Entry level",
          "Entry level",
          "Entry level",
          "Entry level",
          "Entry level",
          "Entry level",
          "Entry level",
          "Entry level",
          "Entry level",
          "Entry level",
          "Entry level",
          "Entry level",
          "Entry level",
          "Entry level",
          "Entry level",
          "Entry level",
          "Entry level",
          "Entry level",
          "Entry level",
          "Entry level",
          "Entry level",
          "Entry level",
          "Entry level",
          "Entry level",
          "Entry level",
          "Entry level",
          "Entry level",
          "Entry level",
          "Entry level",
          "Entry level",
          "Entry level",
          "Entry level",
          "Entry level",
          "Entry level",
          "Entry level",
          "Entry level",
          "Entry level",
          "Entry level",
          "Entry level",
          "Entry level",
          "Entry level",
          "Entry level",
          "Entry level",
          "Entry level",
          "Entry level",
          "Entry level",
          "Entry level",
          "Entry level",
          "Entry level",
          "Entry level",
          "Entry level",
          "Entry level",
          "Entry level",
          "Entry level",
          "Entry level",
          "Entry level",
          "Entry level",
          "Entry level",
          "Entry level",
          "Entry level",
          "Entry level",
          "Entry level",
          "Entry level",
          "Entry level",
          "Entry level",
          "Entry level",
          "Entry level",
          "Entry level",
          "Entry level",
          "Entry level",
          "Entry level",
          "Entry level",
          "Entry level",
          "Entry level",
          "Entry level",
          "Entry level",
          "Entry level",
          "Entry level",
          "Entry level",
          "Entry level",
          "Entry level",
          "Entry level",
          "Entry level",
          "Entry level",
          "Entry level",
          "Entry level",
          "Entry level",
          "Entry level",
          "Entry level",
          "Entry level",
          "Entry level",
          "Entry level",
          "Entry level",
          "Entry level",
          "Entry level",
          "Entry level",
          "Entry level",
          "Entry level",
          "Entry level",
          "Entry level",
          "Entry level",
          "Entry level",
          "Entry level",
          "Entry level",
          "Entry level",
          "Entry level",
          "Entry level",
          "Entry level",
          "Entry level",
          "Entry level",
          "Entry level",
          "Entry level",
          "Entry level",
          "Entry level",
          "Entry level",
          "Entry level",
          "Entry level",
          "Entry level",
          "Entry level",
          "Entry level",
          "Entry level",
          "Entry level",
          "Entry level",
          "Entry level",
          "Entry level",
          "Entry level",
          "Entry level",
          "Entry level",
          "Entry level",
          "Entry level",
          "Entry level",
          "Entry level",
          "Entry level",
          "Entry level",
          "Entry level",
          "Entry level",
          "Entry level",
          "Entry level",
          "Entry level",
          "Entry level",
          "Entry level",
          "Entry level",
          "Entry level",
          "Entry level",
          "Entry level",
          "Entry level",
          "Entry level",
          "Entry level",
          "Entry level",
          "Entry level",
          "Entry level",
          "Entry level",
          "Entry level",
          "Entry level",
          "Entry level",
          "Entry level",
          "Entry level",
          "Entry level",
          "Entry level",
          "Entry level",
          "Entry level",
          "Entry level",
          "Entry level",
          "Entry level",
          "Entry level",
          "Entry level",
          "Entry level",
          "Entry level",
          "Entry level",
          "Entry level",
          "Entry level",
          "Entry level",
          "Entry level",
          "Entry level",
          "Entry level",
          "Entry level",
          "Entry level",
          "Entry level",
          "Entry level",
          "Entry level",
          "Entry level",
          "Entry level",
          "Entry level",
          "Entry level",
          "Entry level",
          "Entry level",
          "Entry level",
          "Entry level",
          "Entry level",
          "Entry level",
          "Entry level",
          "Entry level",
          "Entry level",
          "Entry level",
          "Entry level",
          "Entry level",
          "Entry level",
          "Entry level",
          "Entry level",
          "Entry level",
          "Entry level",
          "Entry level",
          "Entry level",
          "Entry level",
          "Entry level",
          "Entry level",
          "Entry level",
          "Entry level",
          "Entry level",
          "Entry level",
          "Entry level",
          "Entry level",
          "Entry level",
          "Entry level",
          "Entry level",
          "Entry level",
          "Entry level",
          "Entry level",
          "Entry level",
          "Entry level",
          "Entry level",
          "Entry level",
          "Entry level",
          "Entry level",
          "Entry level",
          "Entry level",
          "Entry level",
          "Entry level",
          "Entry level",
          "Entry level",
          "Entry level",
          "Entry level",
          "Entry level",
          "Entry level",
          "Entry level",
          "Entry level",
          "Entry level",
          "Entry level",
          "Entry level",
          "Entry level",
          "Entry level",
          "Entry level",
          "Entry level",
          "Entry level",
          "Entry level",
          "Entry level",
          "Entry level",
          "Entry level",
          "Entry level",
          "Entry level",
          "Entry level",
          "Entry level",
          "Entry level",
          "Entry level",
          "Entry level",
          "Entry level",
          "Entry level",
          "Entry level",
          "Entry level",
          "Entry level",
          "Entry level",
          "Entry level",
          "Entry level",
          "Entry level",
          "Entry level",
          "Entry level",
          "Entry level",
          "Entry level",
          "Entry level",
          "Entry level",
          "Entry level",
          "Entry level",
          "Entry level",
          "Entry level",
          "Entry level",
          "Entry level",
          "Entry level",
          "Entry level",
          "Entry level",
          "Entry level",
          "Entry level",
          "Entry level",
          "Entry level",
          "Entry level",
          "Entry level",
          "Entry level",
          "Entry level",
          "Entry level",
          "Entry level",
          "Entry level",
          "Entry level",
          "Entry level",
          "Entry level",
          "Entry level",
          "Entry level",
          "Entry level",
          "Entry level",
          "Entry level",
          "Entry level",
          "Entry level",
          "Entry level",
          "Entry level",
          "Entry level",
          "Entry level",
          "Entry level",
          "Entry level",
          "Entry level",
          "Entry level",
          "Entry level",
          "Entry level",
          "Entry level",
          "Entry level",
          "Entry level",
          "Entry level",
          "Entry level",
          "Entry level",
          "Entry level",
          "Entry level",
          "Entry level",
          "Entry level",
          "Entry level",
          "Entry level",
          "Entry level",
          "Entry level",
          "Entry level",
          "Entry level",
          "Entry level",
          "Entry level",
          "Entry level",
          "Entry level",
          "Entry level",
          "Entry level",
          "Entry level",
          "Entry level",
          "Entry level",
          "Entry level",
          "Entry level",
          "Entry level",
          "Entry level",
          "Entry level",
          "Entry level",
          "Entry level",
          "Entry level",
          "Entry level",
          "Entry level",
          "Entry level",
          "Entry level",
          "Entry level",
          "Entry level",
          "Entry level",
          "Entry level",
          "Entry level",
          "Entry level",
          "Entry level",
          "Entry level",
          "Entry level",
          "Entry level",
          "Entry level",
          "Entry level",
          "Entry level",
          "Entry level",
          "Entry level",
          "Entry level",
          "Entry level",
          "Entry level",
          "Entry level",
          "Entry level",
          "Entry level",
          "Entry level",
          "Entry level",
          "Entry level",
          "Entry level",
          "Entry level",
          "Entry level",
          "Entry level",
          "Entry level",
          "Entry level",
          "Entry level",
          "Entry level",
          "Entry level",
          "Entry level",
          "Entry level",
          "Entry level",
          "Entry level",
          "Entry level",
          "Entry level",
          "Entry level",
          "Entry level",
          "Entry level",
          "Entry level",
          "Entry level",
          "Entry level",
          "Entry level",
          "Entry level",
          "Entry level",
          "Entry level",
          "Entry level",
          "Entry level",
          "Entry level",
          "Entry level",
          "Entry level",
          "Entry level",
          "Entry level",
          "Entry level",
          "Entry level",
          "Entry level",
          "Entry level",
          "Entry level",
          "Entry level",
          "Entry level",
          "Entry level",
          "Entry level",
          "Entry level",
          "Entry level",
          "Entry level",
          "Entry level",
          "Entry level",
          "Entry level",
          "Entry level",
          "Entry level",
          "Entry level",
          "Entry level",
          "Entry level",
          "Entry level",
          "Entry level",
          "Entry level",
          "Entry level",
          "Entry level",
          "Entry level",
          "Entry level",
          "Entry level",
          "Entry level",
          "Entry level",
          "Entry level",
          "Entry level",
          "Entry level",
          "Entry level",
          "Entry level",
          "Entry level",
          "Entry level",
          "Entry level",
          "Entry level",
          "Entry level",
          "Entry level",
          "Entry level",
          "Entry level",
          "Entry level",
          "Entry level",
          "Entry level",
          "Entry level",
          "Entry level",
          "Entry level",
          "Entry level",
          "Entry level",
          "Entry level",
          "Entry level",
          "Entry level",
          "Entry level",
          "Entry level",
          "Entry level",
          "Entry level",
          "Entry level",
          "Entry level",
          "Entry level",
          "Entry level",
          "Entry level",
          "Entry level",
          "Entry level",
          "Entry level",
          "Entry level",
          "Entry level",
          "Entry level",
          "Entry level",
          "Entry level",
          "Entry level",
          "Entry level",
          "Entry level",
          "Entry level",
          "Entry level",
          "Entry level",
          "Entry level",
          "Entry level",
          "Entry level",
          "Entry level",
          "Entry level",
          "Entry level",
          "Entry level",
          "Entry level",
          "Entry level",
          "Entry level",
          "Entry level",
          "Entry level",
          "Entry level",
          "Entry level",
          "Entry level",
          "Entry level",
          "Entry level",
          "Entry level",
          "Entry level",
          "Entry level",
          "Entry level",
          "Entry level",
          "Entry level",
          "Entry level",
          "Entry level",
          "Entry level",
          "Entry level",
          "Entry level",
          "Entry level",
          "Entry level",
          "Entry level",
          "Entry level",
          "Entry level",
          "Entry level",
          "Entry level",
          "Entry level",
          "Entry level",
          "Entry level",
          "Entry level",
          "Entry level",
          "Entry level",
          "Entry level",
          "Entry level",
          "Entry level",
          "Entry level",
          "Entry level",
          "Entry level",
          "Entry level",
          "Entry level",
          "Entry level",
          "Entry level",
          "Entry level",
          "Entry level",
          "Entry level",
          "Entry level",
          "Entry level",
          "Entry level",
          "Entry level",
          "Entry level",
          "Entry level",
          "Entry level",
          "Entry level",
          "Entry level",
          "Entry level",
          "Entry level",
          "Entry level",
          "Entry level",
          "Entry level",
          "Entry level",
          "Entry level",
          "Entry level",
          "Entry level",
          "Entry level",
          "Entry level",
          "Entry level",
          "Entry level",
          "Entry level",
          "Entry level",
          "Entry level",
          "Entry level",
          "Entry level",
          "Entry level",
          "Entry level",
          "Entry level",
          "Entry level",
          "Entry level",
          "Entry level",
          "Entry level",
          "Entry level",
          "Entry level",
          "Entry level",
          "Entry level",
          "Entry level",
          "Entry level",
          "Entry level",
          "Entry level",
          "Entry level",
          "Entry level",
          "Entry level",
          "Entry level",
          "Entry level",
          "Entry level",
          "Entry level",
          "Entry level",
          "Entry level",
          "Entry level",
          "Entry level",
          "Entry level",
          "Entry level",
          "Entry level",
          "Entry level",
          "Entry level",
          "Entry level",
          "Entry level",
          "Entry level",
          "Entry level",
          "Entry level",
          "Entry level",
          "Entry level",
          "Entry level",
          "Entry level",
          "Entry level",
          "Entry level",
          "Entry level",
          "Entry level",
          "Entry level",
          "Entry level",
          "Entry level",
          "Entry level",
          "Entry level",
          "Entry level",
          "Entry level",
          "Entry level",
          "Entry level",
          "Entry level",
          "Entry level",
          "Entry level",
          "Entry level",
          "Entry level",
          "Entry level",
          "Entry level",
          "Entry level",
          "Entry level",
          "Entry level",
          "Entry level",
          "Entry level",
          "Entry level",
          "Entry level",
          "Entry level",
          "Entry level",
          "Entry level",
          "Entry level",
          "Entry level",
          "Entry level",
          "Entry level",
          "Entry level",
          "Entry level",
          "Entry level",
          "Entry level",
          "Entry level",
          "Entry level",
          "Entry level",
          "Entry level",
          "Entry level",
          "Entry level",
          "Entry level",
          "Entry level",
          "Entry level",
          "Entry level",
          "Entry level",
          "Entry level",
          "Entry level",
          "Entry level",
          "Entry level",
          "Entry level",
          "Entry level",
          "Entry level",
          "Entry level",
          "Entry level",
          "Entry level",
          "Entry level",
          "Entry level",
          "Entry level",
          "Entry level",
          "Entry level",
          "Entry level",
          "Entry level",
          "Entry level",
          "Entry level",
          "Entry level",
          "Entry level",
          "Entry level",
          "Entry level",
          "Entry level",
          "Entry level",
          "Entry level",
          "Entry level",
          "Entry level",
          "Entry level",
          "Entry level",
          "Entry level",
          "Entry level",
          "Entry level",
          "Entry level",
          "Entry level",
          "Entry level",
          "Entry level",
          "Entry level",
          "Entry level",
          "Entry level",
          "Entry level",
          "Entry level",
          "Entry level",
          "Entry level",
          "Entry level",
          "Entry level",
          "Entry level",
          "Entry level",
          "Entry level",
          "Entry level",
          "Entry level",
          "Entry level",
          "Entry level",
          "Entry level",
          "Entry level",
          "Entry level",
          "Entry level",
          "Entry level",
          "Entry level",
          "Entry level",
          "Entry level",
          "Entry level",
          "Entry level",
          "Entry level",
          "Entry level",
          "Entry level",
          "Entry level",
          "Entry level",
          "Entry level",
          "Entry level",
          "Entry level",
          "Entry level",
          "Entry level",
          "Entry level",
          "Entry level",
          "Entry level",
          "Entry level",
          "Entry level",
          "Entry level",
          "Entry level",
          "Entry level",
          "Entry level",
          "Entry level",
          "Entry level",
          "Entry level",
          "Entry level",
          "Entry level",
          "Entry level",
          "Entry level",
          "Entry level",
          "Entry level",
          "Entry level",
          "Entry level",
          "Entry level",
          "Entry level",
          "Entry level",
          "Entry level",
          "Entry level",
          "Entry level",
          "Entry level",
          "Entry level",
          "Entry level",
          "Entry level",
          "Entry level",
          "Entry level",
          "Entry level",
          "Entry level",
          "Entry level",
          "Entry level",
          "Entry level",
          "Entry level",
          "Entry level",
          "Entry level",
          "Entry level",
          "Entry level",
          "Entry level",
          "Entry level",
          "Entry level",
          "Entry level",
          "Entry level",
          "Entry level",
          "Entry level",
          "Entry level",
          "Entry level",
          "Entry level",
          "Entry level",
          "Entry level",
          "Entry level",
          "Entry level",
          "Entry level",
          "Entry level",
          "Entry level",
          "Entry level",
          "Entry level",
          "Entry level",
          "Entry level",
          "Entry level",
          "Entry level",
          "Entry level",
          "Entry level",
          "Entry level",
          "Entry level",
          "Entry level",
          "Entry level",
          "Entry level",
          "Entry level",
          "Entry level",
          "Entry level",
          "Entry level",
          "Entry level",
          "Entry level",
          "Entry level",
          "Entry level",
          "Entry level",
          "Entry level",
          "Entry level",
          "Entry level",
          "Entry level",
          "Entry level",
          "Entry level",
          "Entry level",
          "Entry level",
          "Entry level",
          "Entry level",
          "Entry level",
          "Entry level",
          "Entry level",
          "Entry level",
          "Entry level",
          "Entry level",
          "Entry level",
          "Entry level",
          "Entry level",
          "Entry level",
          "Entry level",
          "Entry level",
          "Entry level",
          "Entry level",
          "Entry level",
          "Entry level",
          "Entry level",
          "Entry level",
          "Entry level",
          "Entry level",
          "Entry level",
          "Entry level",
          "Entry level",
          "Entry level",
          "Entry level",
          "Entry level",
          "Entry level",
          "Entry level",
          "Entry level",
          "Entry level",
          "Entry level",
          "Entry level",
          "Entry level",
          "Entry level",
          "Entry level",
          "Entry level",
          "Entry level",
          "Entry level",
          "Entry level",
          "Entry level",
          "Entry level",
          "Entry level",
          "Entry level",
          "Entry level",
          "Entry level",
          "Entry level",
          "Entry level",
          "Entry level",
          "Entry level",
          "Entry level",
          "Entry level",
          "Entry level",
          "Entry level",
          "Entry level",
          "Entry level",
          "Entry level",
          "Entry level",
          "Entry level",
          "Entry level",
          "Entry level",
          "Entry level",
          "Entry level",
          "Entry level",
          "Entry level",
          "Entry level",
          "Entry level",
          "Entry level",
          "Entry level",
          "Entry level",
          "Entry level",
          "Entry level",
          "Entry level",
          "Entry level",
          "Entry level",
          "Entry level",
          "Entry level",
          "Entry level",
          "Entry level",
          "Entry level",
          "Entry level",
          "Entry level",
          "Entry level",
          "Entry level",
          "Entry level",
          "Entry level",
          "Entry level",
          "Entry level",
          "Entry level",
          "Entry level",
          "Entry level",
          "Entry level",
          "Entry level",
          "Entry level",
          "Entry level",
          "Entry level",
          "Entry level",
          "Entry level",
          "Entry level",
          "Entry level",
          "Entry level",
          "Entry level",
          "Entry level",
          "Entry level",
          "Entry level",
          "Entry level",
          "Entry level",
          "Entry level",
          "Entry level",
          "Entry level",
          "Entry level",
          "Entry level",
          "Entry level",
          "Entry level",
          "Entry level",
          "Entry level",
          "Entry level",
          "Entry level",
          "Entry level",
          "Entry level",
          "Entry level",
          "Entry level",
          "Entry level",
          "Entry level",
          "Entry level",
          "Entry level",
          "Entry level",
          "Entry level",
          "Entry level",
          "Entry level",
          "Entry level",
          "Entry level",
          "Entry level",
          "Entry level",
          "Entry level",
          "Entry level",
          "Entry level",
          "Entry level",
          "Entry level",
          "Entry level",
          "Entry level",
          "Entry level",
          "Entry level",
          "Entry level",
          "Entry level",
          "Entry level",
          "Entry level",
          "Entry level",
          "Entry level",
          "Entry level",
          "Entry level",
          "Entry level",
          "Entry level",
          "Entry level",
          "Entry level",
          "Entry level",
          "Entry level",
          "Entry level",
          "Entry level",
          "Entry level",
          "Entry level",
          "Entry level",
          "Entry level",
          "Entry level",
          "Entry level",
          "Entry level",
          "Entry level",
          "Entry level",
          "Entry level",
          "Entry level",
          "Entry level",
          "Entry level",
          "Entry level",
          "Entry level",
          "Entry level",
          "Entry level",
          "Entry level",
          "Entry level",
          "Entry level",
          "Entry level",
          "Entry level",
          "Entry level",
          "Entry level",
          "Entry level",
          "Entry level",
          "Entry level",
          "Entry level",
          "Entry level",
          "Entry level",
          "Entry level",
          "Entry level",
          "Entry level",
          "Entry level",
          "Entry level",
          "Entry level",
          "Entry level",
          "Entry level",
          "Entry level",
          "Entry level",
          "Entry level",
          "Entry level",
          "Entry level",
          "Entry level",
          "Entry level",
          "Entry level",
          "Entry level",
          "Entry level",
          "Entry level",
          "Entry level",
          "Entry level",
          "Entry level",
          "Entry level",
          "Entry level",
          "Entry level",
          "Entry level",
          "Entry level",
          "Entry level",
          "Entry level",
          "Entry level",
          "Entry level",
          "Entry level",
          "Entry level",
          "Entry level",
          "Entry level",
          "Entry level",
          "Entry level",
          "Entry level",
          "Entry level",
          "Entry level",
          "Entry level",
          "Entry level",
          "Entry level",
          "Entry level",
          "Entry level",
          "Entry level",
          "Entry level",
          "Entry level",
          "Entry level",
          "Entry level",
          "Entry level",
          "Entry level",
          "Entry level",
          "Entry level",
          "Entry level",
          "Entry level",
          "Entry level",
          "Entry level",
          "Entry level",
          "Entry level",
          "Entry level",
          "Entry level",
          "Entry level",
          "Entry level",
          "Entry level",
          "Entry level",
          "Entry level",
          "Entry level",
          "Entry level",
          "Entry level",
          "Entry level",
          "Entry level",
          "Entry level",
          "Entry level",
          "Entry level",
          "Entry level",
          "Entry level",
          "Entry level",
          "Entry level",
          "Entry level",
          "Entry level",
          "Entry level",
          "Entry level",
          "Entry level",
          "Entry level",
          "Entry level",
          "Entry level",
          "Entry level",
          "Entry level",
          "Entry level",
          "Entry level",
          "Entry level",
          "Entry level",
          "Entry level",
          "Entry level",
          "Entry level",
          "Entry level",
          "Entry level",
          "Entry level",
          "Entry level",
          "Entry level",
          "Entry level",
          "Entry level",
          "Entry level",
          "Entry level",
          "Entry level",
          "Entry level",
          "Entry level",
          "Entry level",
          "Entry level",
          "Entry level",
          "Entry level",
          "Entry level",
          "Entry level",
          "Entry level",
          "Entry level",
          "Entry level",
          "Entry level",
          "Entry level",
          "Entry level",
          "Entry level",
          "Entry level",
          "Entry level",
          "Entry level",
          "Entry level",
          "Entry level",
          "Entry level",
          "Entry level",
          "Entry level",
          "Entry level",
          "Entry level",
          "Entry level",
          "Entry level",
          "Entry level",
          "Entry level",
          "Entry level",
          "Entry level",
          "Entry level",
          "Entry level",
          "Entry level",
          "Entry level",
          "Entry level",
          "Entry level",
          "Entry level",
          "Entry level",
          "Entry level",
          "Entry level",
          "Entry level",
          "Entry level",
          "Entry level",
          "Entry level",
          "Entry level",
          "Entry level",
          "Entry level",
          "Entry level",
          "Entry level",
          "Entry level",
          "Entry level",
          "Entry level",
          "Entry level",
          "Entry level",
          "Entry level",
          "Entry level",
          "Entry level",
          "Entry level",
          "Entry level",
          "Entry level",
          "Entry level",
          "Entry level",
          "Entry level",
          "Entry level",
          "Entry level",
          "Entry level",
          "Entry level",
          "Entry level",
          "Entry level",
          "Entry level",
          "Entry level",
          "Entry level",
          "Entry level",
          "Entry level",
          "Entry level",
          "Entry level",
          "Entry level",
          "Entry level",
          "Entry level",
          "Entry level",
          "Entry level",
          "Entry level",
          "Entry level",
          "Entry level",
          "Entry level",
          "Entry level",
          "Entry level",
          "Entry level"
         ],
         "xaxis": "x",
         "yaxis": "y"
        },
        {
         "bingroup": "x",
         "hovertemplate": "Seniority level=%{x}<br>count=%{y}<extra></extra>",
         "legendgroup": "Associate",
         "marker": {
          "color": "#FFA15A",
          "pattern": {
           "shape": ""
          }
         },
         "name": "Associate",
         "orientation": "v",
         "showlegend": true,
         "type": "histogram",
         "x": [
          "Associate",
          "Associate",
          "Associate",
          "Associate",
          "Associate",
          "Associate",
          "Associate",
          "Associate",
          "Associate",
          "Associate",
          "Associate",
          "Associate",
          "Associate",
          "Associate",
          "Associate",
          "Associate",
          "Associate",
          "Associate",
          "Associate",
          "Associate",
          "Associate",
          "Associate",
          "Associate",
          "Associate",
          "Associate",
          "Associate",
          "Associate",
          "Associate",
          "Associate",
          "Associate",
          "Associate",
          "Associate",
          "Associate",
          "Associate",
          "Associate",
          "Associate",
          "Associate",
          "Associate",
          "Associate",
          "Associate",
          "Associate",
          "Associate",
          "Associate",
          "Associate",
          "Associate",
          "Associate",
          "Associate",
          "Associate",
          "Associate",
          "Associate",
          "Associate",
          "Associate",
          "Associate",
          "Associate",
          "Associate",
          "Associate",
          "Associate",
          "Associate",
          "Associate",
          "Associate",
          "Associate",
          "Associate",
          "Associate",
          "Associate",
          "Associate",
          "Associate",
          "Associate",
          "Associate",
          "Associate",
          "Associate",
          "Associate",
          "Associate",
          "Associate",
          "Associate",
          "Associate",
          "Associate",
          "Associate",
          "Associate",
          "Associate",
          "Associate",
          "Associate",
          "Associate",
          "Associate",
          "Associate",
          "Associate",
          "Associate",
          "Associate",
          "Associate",
          "Associate",
          "Associate",
          "Associate",
          "Associate",
          "Associate",
          "Associate",
          "Associate",
          "Associate",
          "Associate",
          "Associate",
          "Associate",
          "Associate",
          "Associate",
          "Associate",
          "Associate",
          "Associate",
          "Associate",
          "Associate",
          "Associate",
          "Associate",
          "Associate",
          "Associate",
          "Associate",
          "Associate",
          "Associate",
          "Associate",
          "Associate",
          "Associate",
          "Associate",
          "Associate",
          "Associate",
          "Associate",
          "Associate",
          "Associate",
          "Associate",
          "Associate",
          "Associate",
          "Associate",
          "Associate",
          "Associate",
          "Associate",
          "Associate",
          "Associate",
          "Associate",
          "Associate",
          "Associate",
          "Associate",
          "Associate",
          "Associate",
          "Associate",
          "Associate",
          "Associate",
          "Associate",
          "Associate",
          "Associate",
          "Associate",
          "Associate",
          "Associate",
          "Associate",
          "Associate",
          "Associate",
          "Associate",
          "Associate",
          "Associate",
          "Associate",
          "Associate",
          "Associate",
          "Associate",
          "Associate",
          "Associate",
          "Associate",
          "Associate",
          "Associate",
          "Associate",
          "Associate",
          "Associate",
          "Associate",
          "Associate",
          "Associate",
          "Associate",
          "Associate",
          "Associate",
          "Associate",
          "Associate",
          "Associate",
          "Associate",
          "Associate",
          "Associate",
          "Associate",
          "Associate",
          "Associate",
          "Associate",
          "Associate",
          "Associate",
          "Associate",
          "Associate",
          "Associate",
          "Associate",
          "Associate",
          "Associate",
          "Associate",
          "Associate",
          "Associate",
          "Associate",
          "Associate",
          "Associate",
          "Associate",
          "Associate",
          "Associate",
          "Associate",
          "Associate",
          "Associate",
          "Associate",
          "Associate",
          "Associate",
          "Associate",
          "Associate",
          "Associate",
          "Associate",
          "Associate",
          "Associate",
          "Associate",
          "Associate",
          "Associate",
          "Associate",
          "Associate",
          "Associate",
          "Associate",
          "Associate",
          "Associate",
          "Associate",
          "Associate",
          "Associate",
          "Associate",
          "Associate",
          "Associate",
          "Associate",
          "Associate",
          "Associate",
          "Associate",
          "Associate",
          "Associate",
          "Associate",
          "Associate",
          "Associate",
          "Associate",
          "Associate",
          "Associate",
          "Associate",
          "Associate",
          "Associate",
          "Associate",
          "Associate",
          "Associate",
          "Associate",
          "Associate",
          "Associate",
          "Associate",
          "Associate",
          "Associate",
          "Associate",
          "Associate",
          "Associate",
          "Associate",
          "Associate",
          "Associate",
          "Associate",
          "Associate",
          "Associate",
          "Associate",
          "Associate",
          "Associate",
          "Associate",
          "Associate",
          "Associate",
          "Associate",
          "Associate",
          "Associate",
          "Associate",
          "Associate",
          "Associate",
          "Associate",
          "Associate",
          "Associate",
          "Associate",
          "Associate",
          "Associate",
          "Associate",
          "Associate",
          "Associate",
          "Associate",
          "Associate",
          "Associate",
          "Associate",
          "Associate",
          "Associate",
          "Associate",
          "Associate",
          "Associate",
          "Associate",
          "Associate",
          "Associate",
          "Associate",
          "Associate",
          "Associate",
          "Associate",
          "Associate",
          "Associate",
          "Associate",
          "Associate",
          "Associate",
          "Associate",
          "Associate",
          "Associate",
          "Associate",
          "Associate",
          "Associate",
          "Associate",
          "Associate",
          "Associate",
          "Associate",
          "Associate",
          "Associate",
          "Associate",
          "Associate",
          "Associate",
          "Associate",
          "Associate",
          "Associate",
          "Associate",
          "Associate",
          "Associate",
          "Associate",
          "Associate",
          "Associate",
          "Associate",
          "Associate",
          "Associate",
          "Associate",
          "Associate",
          "Associate",
          "Associate",
          "Associate",
          "Associate",
          "Associate",
          "Associate",
          "Associate",
          "Associate",
          "Associate",
          "Associate",
          "Associate",
          "Associate",
          "Associate",
          "Associate",
          "Associate",
          "Associate",
          "Associate",
          "Associate",
          "Associate",
          "Associate",
          "Associate",
          "Associate",
          "Associate",
          "Associate",
          "Associate",
          "Associate",
          "Associate",
          "Associate",
          "Associate",
          "Associate",
          "Associate",
          "Associate",
          "Associate",
          "Associate",
          "Associate",
          "Associate",
          "Associate",
          "Associate",
          "Associate",
          "Associate",
          "Associate",
          "Associate",
          "Associate",
          "Associate",
          "Associate",
          "Associate",
          "Associate",
          "Associate",
          "Associate",
          "Associate",
          "Associate",
          "Associate",
          "Associate",
          "Associate",
          "Associate",
          "Associate",
          "Associate",
          "Associate",
          "Associate",
          "Associate",
          "Associate",
          "Associate",
          "Associate",
          "Associate",
          "Associate",
          "Associate",
          "Associate",
          "Associate",
          "Associate",
          "Associate",
          "Associate",
          "Associate",
          "Associate",
          "Associate",
          "Associate",
          "Associate",
          "Associate",
          "Associate",
          "Associate",
          "Associate",
          "Associate",
          "Associate",
          "Associate",
          "Associate",
          "Associate",
          "Associate",
          "Associate",
          "Associate",
          "Associate",
          "Associate",
          "Associate",
          "Associate",
          "Associate",
          "Associate",
          "Associate",
          "Associate",
          "Associate",
          "Associate",
          "Associate",
          "Associate",
          "Associate",
          "Associate",
          "Associate",
          "Associate",
          "Associate",
          "Associate",
          "Associate",
          "Associate",
          "Associate",
          "Associate",
          "Associate",
          "Associate",
          "Associate",
          "Associate",
          "Associate",
          "Associate",
          "Associate",
          "Associate",
          "Associate",
          "Associate",
          "Associate",
          "Associate",
          "Associate",
          "Associate",
          "Associate",
          "Associate",
          "Associate",
          "Associate",
          "Associate",
          "Associate",
          "Associate",
          "Associate",
          "Associate",
          "Associate",
          "Associate",
          "Associate",
          "Associate",
          "Associate",
          "Associate",
          "Associate",
          "Associate",
          "Associate",
          "Associate",
          "Associate",
          "Associate",
          "Associate",
          "Associate",
          "Associate",
          "Associate",
          "Associate",
          "Associate",
          "Associate",
          "Associate",
          "Associate",
          "Associate",
          "Associate",
          "Associate",
          "Associate",
          "Associate",
          "Associate",
          "Associate",
          "Associate",
          "Associate",
          "Associate",
          "Associate",
          "Associate",
          "Associate",
          "Associate",
          "Associate",
          "Associate",
          "Associate",
          "Associate",
          "Associate",
          "Associate",
          "Associate",
          "Associate",
          "Associate",
          "Associate",
          "Associate",
          "Associate",
          "Associate",
          "Associate",
          "Associate",
          "Associate",
          "Associate",
          "Associate",
          "Associate",
          "Associate",
          "Associate",
          "Associate",
          "Associate",
          "Associate",
          "Associate",
          "Associate",
          "Associate",
          "Associate",
          "Associate",
          "Associate",
          "Associate",
          "Associate",
          "Associate",
          "Associate",
          "Associate",
          "Associate",
          "Associate",
          "Associate",
          "Associate",
          "Associate",
          "Associate",
          "Associate",
          "Associate",
          "Associate",
          "Associate",
          "Associate",
          "Associate",
          "Associate",
          "Associate",
          "Associate",
          "Associate",
          "Associate",
          "Associate",
          "Associate",
          "Associate",
          "Associate",
          "Associate",
          "Associate",
          "Associate",
          "Associate",
          "Associate",
          "Associate",
          "Associate",
          "Associate",
          "Associate",
          "Associate",
          "Associate",
          "Associate",
          "Associate",
          "Associate",
          "Associate",
          "Associate",
          "Associate",
          "Associate",
          "Associate",
          "Associate",
          "Associate",
          "Associate",
          "Associate",
          "Associate",
          "Associate",
          "Associate",
          "Associate",
          "Associate",
          "Associate",
          "Associate",
          "Associate",
          "Associate",
          "Associate",
          "Associate",
          "Associate",
          "Associate",
          "Associate",
          "Associate",
          "Associate",
          "Associate",
          "Associate",
          "Associate",
          "Associate",
          "Associate",
          "Associate",
          "Associate",
          "Associate",
          "Associate",
          "Associate",
          "Associate",
          "Associate",
          "Associate",
          "Associate",
          "Associate",
          "Associate",
          "Associate",
          "Associate",
          "Associate",
          "Associate",
          "Associate",
          "Associate",
          "Associate",
          "Associate",
          "Associate",
          "Associate",
          "Associate",
          "Associate",
          "Associate",
          "Associate",
          "Associate",
          "Associate",
          "Associate",
          "Associate",
          "Associate",
          "Associate",
          "Associate",
          "Associate",
          "Associate",
          "Associate",
          "Associate",
          "Associate",
          "Associate",
          "Associate",
          "Associate",
          "Associate",
          "Associate",
          "Associate",
          "Associate",
          "Associate",
          "Associate",
          "Associate",
          "Associate",
          "Associate",
          "Associate",
          "Associate",
          "Associate",
          "Associate",
          "Associate",
          "Associate",
          "Associate",
          "Associate",
          "Associate",
          "Associate",
          "Associate",
          "Associate",
          "Associate",
          "Associate",
          "Associate",
          "Associate",
          "Associate",
          "Associate",
          "Associate",
          "Associate",
          "Associate",
          "Associate",
          "Associate",
          "Associate",
          "Associate",
          "Associate",
          "Associate",
          "Associate",
          "Associate",
          "Associate",
          "Associate",
          "Associate",
          "Associate",
          "Associate",
          "Associate",
          "Associate",
          "Associate",
          "Associate",
          "Associate",
          "Associate",
          "Associate",
          "Associate",
          "Associate",
          "Associate",
          "Associate",
          "Associate",
          "Associate",
          "Associate",
          "Associate",
          "Associate",
          "Associate",
          "Associate",
          "Associate",
          "Associate",
          "Associate",
          "Associate",
          "Associate",
          "Associate",
          "Associate",
          "Associate",
          "Associate",
          "Associate",
          "Associate",
          "Associate",
          "Associate",
          "Associate",
          "Associate",
          "Associate",
          "Associate",
          "Associate",
          "Associate",
          "Associate",
          "Associate",
          "Associate",
          "Associate",
          "Associate",
          "Associate",
          "Associate",
          "Associate",
          "Associate",
          "Associate",
          "Associate",
          "Associate",
          "Associate",
          "Associate",
          "Associate",
          "Associate",
          "Associate",
          "Associate",
          "Associate",
          "Associate",
          "Associate",
          "Associate",
          "Associate",
          "Associate",
          "Associate",
          "Associate",
          "Associate",
          "Associate",
          "Associate",
          "Associate",
          "Associate",
          "Associate",
          "Associate",
          "Associate",
          "Associate",
          "Associate",
          "Associate",
          "Associate",
          "Associate",
          "Associate",
          "Associate",
          "Associate",
          "Associate",
          "Associate",
          "Associate",
          "Associate",
          "Associate",
          "Associate",
          "Associate",
          "Associate",
          "Associate",
          "Associate",
          "Associate",
          "Associate",
          "Associate",
          "Associate",
          "Associate",
          "Associate",
          "Associate",
          "Associate",
          "Associate",
          "Associate",
          "Associate",
          "Associate",
          "Associate",
          "Associate",
          "Associate",
          "Associate",
          "Associate",
          "Associate",
          "Associate",
          "Associate",
          "Associate",
          "Associate",
          "Associate",
          "Associate",
          "Associate",
          "Associate",
          "Associate",
          "Associate",
          "Associate",
          "Associate",
          "Associate",
          "Associate",
          "Associate",
          "Associate",
          "Associate",
          "Associate",
          "Associate",
          "Associate",
          "Associate",
          "Associate",
          "Associate",
          "Associate",
          "Associate",
          "Associate",
          "Associate",
          "Associate",
          "Associate",
          "Associate",
          "Associate",
          "Associate",
          "Associate",
          "Associate",
          "Associate",
          "Associate",
          "Associate",
          "Associate",
          "Associate",
          "Associate",
          "Associate",
          "Associate",
          "Associate",
          "Associate",
          "Associate",
          "Associate",
          "Associate",
          "Associate",
          "Associate",
          "Associate",
          "Associate",
          "Associate",
          "Associate",
          "Associate",
          "Associate",
          "Associate",
          "Associate",
          "Associate",
          "Associate",
          "Associate",
          "Associate",
          "Associate",
          "Associate",
          "Associate",
          "Associate",
          "Associate",
          "Associate",
          "Associate",
          "Associate",
          "Associate",
          "Associate",
          "Associate",
          "Associate",
          "Associate",
          "Associate",
          "Associate",
          "Associate",
          "Associate",
          "Associate",
          "Associate",
          "Associate",
          "Associate",
          "Associate",
          "Associate",
          "Associate",
          "Associate",
          "Associate",
          "Associate",
          "Associate",
          "Associate",
          "Associate",
          "Associate",
          "Associate",
          "Associate",
          "Associate",
          "Associate",
          "Associate",
          "Associate",
          "Associate",
          "Associate",
          "Associate",
          "Associate",
          "Associate",
          "Associate",
          "Associate",
          "Associate",
          "Associate",
          "Associate",
          "Associate",
          "Associate",
          "Associate",
          "Associate",
          "Associate",
          "Associate",
          "Associate",
          "Associate",
          "Associate",
          "Associate",
          "Associate",
          "Associate",
          "Associate",
          "Associate",
          "Associate",
          "Associate",
          "Associate",
          "Associate",
          "Associate",
          "Associate",
          "Associate",
          "Associate",
          "Associate",
          "Associate",
          "Associate",
          "Associate",
          "Associate",
          "Associate",
          "Associate",
          "Associate",
          "Associate",
          "Associate",
          "Associate",
          "Associate",
          "Associate",
          "Associate",
          "Associate",
          "Associate",
          "Associate",
          "Associate",
          "Associate",
          "Associate",
          "Associate",
          "Associate",
          "Associate",
          "Associate",
          "Associate",
          "Associate",
          "Associate",
          "Associate",
          "Associate",
          "Associate",
          "Associate",
          "Associate",
          "Associate",
          "Associate",
          "Associate",
          "Associate",
          "Associate",
          "Associate",
          "Associate",
          "Associate",
          "Associate",
          "Associate",
          "Associate",
          "Associate",
          "Associate",
          "Associate",
          "Associate",
          "Associate",
          "Associate",
          "Associate",
          "Associate",
          "Associate",
          "Associate",
          "Associate",
          "Associate",
          "Associate",
          "Associate",
          "Associate",
          "Associate",
          "Associate",
          "Associate",
          "Associate",
          "Associate",
          "Associate",
          "Associate",
          "Associate",
          "Associate",
          "Associate",
          "Associate",
          "Associate",
          "Associate",
          "Associate",
          "Associate",
          "Associate",
          "Associate",
          "Associate",
          "Associate",
          "Associate",
          "Associate",
          "Associate",
          "Associate",
          "Associate",
          "Associate",
          "Associate",
          "Associate",
          "Associate",
          "Associate",
          "Associate",
          "Associate",
          "Associate",
          "Associate",
          "Associate",
          "Associate",
          "Associate",
          "Associate",
          "Associate",
          "Associate",
          "Associate",
          "Associate",
          "Associate",
          "Associate",
          "Associate",
          "Associate",
          "Associate",
          "Associate",
          "Associate",
          "Associate",
          "Associate",
          "Associate",
          "Associate",
          "Associate",
          "Associate",
          "Associate",
          "Associate",
          "Associate",
          "Associate",
          "Associate",
          "Associate"
         ],
         "xaxis": "x",
         "yaxis": "y"
        },
        {
         "bingroup": "x",
         "hovertemplate": "Seniority level=%{x}<br>count=%{y}<extra></extra>",
         "legendgroup": "Internship",
         "marker": {
          "color": "#19d3f3",
          "pattern": {
           "shape": ""
          }
         },
         "name": "Internship",
         "orientation": "v",
         "showlegend": true,
         "type": "histogram",
         "x": [
          "Internship",
          "Internship",
          "Internship",
          "Internship",
          "Internship",
          "Internship",
          "Internship",
          "Internship",
          "Internship",
          "Internship",
          "Internship",
          "Internship",
          "Internship",
          "Internship",
          "Internship",
          "Internship",
          "Internship",
          "Internship",
          "Internship",
          "Internship",
          "Internship",
          "Internship",
          "Internship",
          "Internship",
          "Internship",
          "Internship",
          "Internship",
          "Internship",
          "Internship",
          "Internship",
          "Internship",
          "Internship",
          "Internship",
          "Internship",
          "Internship"
         ],
         "xaxis": "x",
         "yaxis": "y"
        },
        {
         "bingroup": "x",
         "hovertemplate": "Seniority level=%{x}<br>count=%{y}<extra></extra>",
         "legendgroup": "Director",
         "marker": {
          "color": "#FF6692",
          "pattern": {
           "shape": ""
          }
         },
         "name": "Director",
         "orientation": "v",
         "showlegend": true,
         "type": "histogram",
         "x": [
          "Director",
          "Director",
          "Director",
          "Director",
          "Director",
          "Director",
          "Director",
          "Director",
          "Director",
          "Director",
          "Director",
          "Director",
          "Director",
          "Director",
          "Director",
          "Director",
          "Director",
          "Director",
          "Director",
          "Director",
          "Director",
          "Director",
          "Director",
          "Director",
          "Director",
          "Director",
          "Director"
         ],
         "xaxis": "x",
         "yaxis": "y"
        },
        {
         "bingroup": "x",
         "hovertemplate": "Seniority level=%{x}<br>count=%{y}<extra></extra>",
         "legendgroup": "Executive",
         "marker": {
          "color": "#B6E880",
          "pattern": {
           "shape": ""
          }
         },
         "name": "Executive",
         "orientation": "v",
         "showlegend": true,
         "type": "histogram",
         "x": [
          "Executive",
          "Executive",
          "Executive",
          "Executive",
          "Executive",
          "Executive",
          "Executive",
          "Executive"
         ],
         "xaxis": "x",
         "yaxis": "y"
        }
       ],
       "layout": {
        "barmode": "relative",
        "legend": {
         "title": {
          "text": "Seniority level"
         },
         "tracegroupgap": 0
        },
        "template": {
         "data": {
          "bar": [
           {
            "error_x": {
             "color": "#2a3f5f"
            },
            "error_y": {
             "color": "#2a3f5f"
            },
            "marker": {
             "line": {
              "color": "#E5ECF6",
              "width": 0.5
             },
             "pattern": {
              "fillmode": "overlay",
              "size": 10,
              "solidity": 0.2
             }
            },
            "type": "bar"
           }
          ],
          "barpolar": [
           {
            "marker": {
             "line": {
              "color": "#E5ECF6",
              "width": 0.5
             },
             "pattern": {
              "fillmode": "overlay",
              "size": 10,
              "solidity": 0.2
             }
            },
            "type": "barpolar"
           }
          ],
          "carpet": [
           {
            "aaxis": {
             "endlinecolor": "#2a3f5f",
             "gridcolor": "white",
             "linecolor": "white",
             "minorgridcolor": "white",
             "startlinecolor": "#2a3f5f"
            },
            "baxis": {
             "endlinecolor": "#2a3f5f",
             "gridcolor": "white",
             "linecolor": "white",
             "minorgridcolor": "white",
             "startlinecolor": "#2a3f5f"
            },
            "type": "carpet"
           }
          ],
          "choropleth": [
           {
            "colorbar": {
             "outlinewidth": 0,
             "ticks": ""
            },
            "type": "choropleth"
           }
          ],
          "contour": [
           {
            "colorbar": {
             "outlinewidth": 0,
             "ticks": ""
            },
            "colorscale": [
             [
              0,
              "#0d0887"
             ],
             [
              0.1111111111111111,
              "#46039f"
             ],
             [
              0.2222222222222222,
              "#7201a8"
             ],
             [
              0.3333333333333333,
              "#9c179e"
             ],
             [
              0.4444444444444444,
              "#bd3786"
             ],
             [
              0.5555555555555556,
              "#d8576b"
             ],
             [
              0.6666666666666666,
              "#ed7953"
             ],
             [
              0.7777777777777778,
              "#fb9f3a"
             ],
             [
              0.8888888888888888,
              "#fdca26"
             ],
             [
              1,
              "#f0f921"
             ]
            ],
            "type": "contour"
           }
          ],
          "contourcarpet": [
           {
            "colorbar": {
             "outlinewidth": 0,
             "ticks": ""
            },
            "type": "contourcarpet"
           }
          ],
          "heatmap": [
           {
            "colorbar": {
             "outlinewidth": 0,
             "ticks": ""
            },
            "colorscale": [
             [
              0,
              "#0d0887"
             ],
             [
              0.1111111111111111,
              "#46039f"
             ],
             [
              0.2222222222222222,
              "#7201a8"
             ],
             [
              0.3333333333333333,
              "#9c179e"
             ],
             [
              0.4444444444444444,
              "#bd3786"
             ],
             [
              0.5555555555555556,
              "#d8576b"
             ],
             [
              0.6666666666666666,
              "#ed7953"
             ],
             [
              0.7777777777777778,
              "#fb9f3a"
             ],
             [
              0.8888888888888888,
              "#fdca26"
             ],
             [
              1,
              "#f0f921"
             ]
            ],
            "type": "heatmap"
           }
          ],
          "histogram": [
           {
            "marker": {
             "pattern": {
              "fillmode": "overlay",
              "size": 10,
              "solidity": 0.2
             }
            },
            "type": "histogram"
           }
          ],
          "histogram2d": [
           {
            "colorbar": {
             "outlinewidth": 0,
             "ticks": ""
            },
            "colorscale": [
             [
              0,
              "#0d0887"
             ],
             [
              0.1111111111111111,
              "#46039f"
             ],
             [
              0.2222222222222222,
              "#7201a8"
             ],
             [
              0.3333333333333333,
              "#9c179e"
             ],
             [
              0.4444444444444444,
              "#bd3786"
             ],
             [
              0.5555555555555556,
              "#d8576b"
             ],
             [
              0.6666666666666666,
              "#ed7953"
             ],
             [
              0.7777777777777778,
              "#fb9f3a"
             ],
             [
              0.8888888888888888,
              "#fdca26"
             ],
             [
              1,
              "#f0f921"
             ]
            ],
            "type": "histogram2d"
           }
          ],
          "histogram2dcontour": [
           {
            "colorbar": {
             "outlinewidth": 0,
             "ticks": ""
            },
            "colorscale": [
             [
              0,
              "#0d0887"
             ],
             [
              0.1111111111111111,
              "#46039f"
             ],
             [
              0.2222222222222222,
              "#7201a8"
             ],
             [
              0.3333333333333333,
              "#9c179e"
             ],
             [
              0.4444444444444444,
              "#bd3786"
             ],
             [
              0.5555555555555556,
              "#d8576b"
             ],
             [
              0.6666666666666666,
              "#ed7953"
             ],
             [
              0.7777777777777778,
              "#fb9f3a"
             ],
             [
              0.8888888888888888,
              "#fdca26"
             ],
             [
              1,
              "#f0f921"
             ]
            ],
            "type": "histogram2dcontour"
           }
          ],
          "mesh3d": [
           {
            "colorbar": {
             "outlinewidth": 0,
             "ticks": ""
            },
            "type": "mesh3d"
           }
          ],
          "parcoords": [
           {
            "line": {
             "colorbar": {
              "outlinewidth": 0,
              "ticks": ""
             }
            },
            "type": "parcoords"
           }
          ],
          "pie": [
           {
            "automargin": true,
            "type": "pie"
           }
          ],
          "scatter": [
           {
            "fillpattern": {
             "fillmode": "overlay",
             "size": 10,
             "solidity": 0.2
            },
            "type": "scatter"
           }
          ],
          "scatter3d": [
           {
            "line": {
             "colorbar": {
              "outlinewidth": 0,
              "ticks": ""
             }
            },
            "marker": {
             "colorbar": {
              "outlinewidth": 0,
              "ticks": ""
             }
            },
            "type": "scatter3d"
           }
          ],
          "scattercarpet": [
           {
            "marker": {
             "colorbar": {
              "outlinewidth": 0,
              "ticks": ""
             }
            },
            "type": "scattercarpet"
           }
          ],
          "scattergeo": [
           {
            "marker": {
             "colorbar": {
              "outlinewidth": 0,
              "ticks": ""
             }
            },
            "type": "scattergeo"
           }
          ],
          "scattergl": [
           {
            "marker": {
             "colorbar": {
              "outlinewidth": 0,
              "ticks": ""
             }
            },
            "type": "scattergl"
           }
          ],
          "scattermap": [
           {
            "marker": {
             "colorbar": {
              "outlinewidth": 0,
              "ticks": ""
             }
            },
            "type": "scattermap"
           }
          ],
          "scattermapbox": [
           {
            "marker": {
             "colorbar": {
              "outlinewidth": 0,
              "ticks": ""
             }
            },
            "type": "scattermapbox"
           }
          ],
          "scatterpolar": [
           {
            "marker": {
             "colorbar": {
              "outlinewidth": 0,
              "ticks": ""
             }
            },
            "type": "scatterpolar"
           }
          ],
          "scatterpolargl": [
           {
            "marker": {
             "colorbar": {
              "outlinewidth": 0,
              "ticks": ""
             }
            },
            "type": "scatterpolargl"
           }
          ],
          "scatterternary": [
           {
            "marker": {
             "colorbar": {
              "outlinewidth": 0,
              "ticks": ""
             }
            },
            "type": "scatterternary"
           }
          ],
          "surface": [
           {
            "colorbar": {
             "outlinewidth": 0,
             "ticks": ""
            },
            "colorscale": [
             [
              0,
              "#0d0887"
             ],
             [
              0.1111111111111111,
              "#46039f"
             ],
             [
              0.2222222222222222,
              "#7201a8"
             ],
             [
              0.3333333333333333,
              "#9c179e"
             ],
             [
              0.4444444444444444,
              "#bd3786"
             ],
             [
              0.5555555555555556,
              "#d8576b"
             ],
             [
              0.6666666666666666,
              "#ed7953"
             ],
             [
              0.7777777777777778,
              "#fb9f3a"
             ],
             [
              0.8888888888888888,
              "#fdca26"
             ],
             [
              1,
              "#f0f921"
             ]
            ],
            "type": "surface"
           }
          ],
          "table": [
           {
            "cells": {
             "fill": {
              "color": "#EBF0F8"
             },
             "line": {
              "color": "white"
             }
            },
            "header": {
             "fill": {
              "color": "#C8D4E3"
             },
             "line": {
              "color": "white"
             }
            },
            "type": "table"
           }
          ]
         },
         "layout": {
          "annotationdefaults": {
           "arrowcolor": "#2a3f5f",
           "arrowhead": 0,
           "arrowwidth": 1
          },
          "autotypenumbers": "strict",
          "coloraxis": {
           "colorbar": {
            "outlinewidth": 0,
            "ticks": ""
           }
          },
          "colorscale": {
           "diverging": [
            [
             0,
             "#8e0152"
            ],
            [
             0.1,
             "#c51b7d"
            ],
            [
             0.2,
             "#de77ae"
            ],
            [
             0.3,
             "#f1b6da"
            ],
            [
             0.4,
             "#fde0ef"
            ],
            [
             0.5,
             "#f7f7f7"
            ],
            [
             0.6,
             "#e6f5d0"
            ],
            [
             0.7,
             "#b8e186"
            ],
            [
             0.8,
             "#7fbc41"
            ],
            [
             0.9,
             "#4d9221"
            ],
            [
             1,
             "#276419"
            ]
           ],
           "sequential": [
            [
             0,
             "#0d0887"
            ],
            [
             0.1111111111111111,
             "#46039f"
            ],
            [
             0.2222222222222222,
             "#7201a8"
            ],
            [
             0.3333333333333333,
             "#9c179e"
            ],
            [
             0.4444444444444444,
             "#bd3786"
            ],
            [
             0.5555555555555556,
             "#d8576b"
            ],
            [
             0.6666666666666666,
             "#ed7953"
            ],
            [
             0.7777777777777778,
             "#fb9f3a"
            ],
            [
             0.8888888888888888,
             "#fdca26"
            ],
            [
             1,
             "#f0f921"
            ]
           ],
           "sequentialminus": [
            [
             0,
             "#0d0887"
            ],
            [
             0.1111111111111111,
             "#46039f"
            ],
            [
             0.2222222222222222,
             "#7201a8"
            ],
            [
             0.3333333333333333,
             "#9c179e"
            ],
            [
             0.4444444444444444,
             "#bd3786"
            ],
            [
             0.5555555555555556,
             "#d8576b"
            ],
            [
             0.6666666666666666,
             "#ed7953"
            ],
            [
             0.7777777777777778,
             "#fb9f3a"
            ],
            [
             0.8888888888888888,
             "#fdca26"
            ],
            [
             1,
             "#f0f921"
            ]
           ]
          },
          "colorway": [
           "#636efa",
           "#EF553B",
           "#00cc96",
           "#ab63fa",
           "#FFA15A",
           "#19d3f3",
           "#FF6692",
           "#B6E880",
           "#FF97FF",
           "#FECB52"
          ],
          "font": {
           "color": "#2a3f5f"
          },
          "geo": {
           "bgcolor": "white",
           "lakecolor": "white",
           "landcolor": "#E5ECF6",
           "showlakes": true,
           "showland": true,
           "subunitcolor": "white"
          },
          "hoverlabel": {
           "align": "left"
          },
          "hovermode": "closest",
          "mapbox": {
           "style": "light"
          },
          "paper_bgcolor": "white",
          "plot_bgcolor": "#E5ECF6",
          "polar": {
           "angularaxis": {
            "gridcolor": "white",
            "linecolor": "white",
            "ticks": ""
           },
           "bgcolor": "#E5ECF6",
           "radialaxis": {
            "gridcolor": "white",
            "linecolor": "white",
            "ticks": ""
           }
          },
          "scene": {
           "xaxis": {
            "backgroundcolor": "#E5ECF6",
            "gridcolor": "white",
            "gridwidth": 2,
            "linecolor": "white",
            "showbackground": true,
            "ticks": "",
            "zerolinecolor": "white"
           },
           "yaxis": {
            "backgroundcolor": "#E5ECF6",
            "gridcolor": "white",
            "gridwidth": 2,
            "linecolor": "white",
            "showbackground": true,
            "ticks": "",
            "zerolinecolor": "white"
           },
           "zaxis": {
            "backgroundcolor": "#E5ECF6",
            "gridcolor": "white",
            "gridwidth": 2,
            "linecolor": "white",
            "showbackground": true,
            "ticks": "",
            "zerolinecolor": "white"
           }
          },
          "shapedefaults": {
           "line": {
            "color": "#2a3f5f"
           }
          },
          "ternary": {
           "aaxis": {
            "gridcolor": "white",
            "linecolor": "white",
            "ticks": ""
           },
           "baxis": {
            "gridcolor": "white",
            "linecolor": "white",
            "ticks": ""
           },
           "bgcolor": "#E5ECF6",
           "caxis": {
            "gridcolor": "white",
            "linecolor": "white",
            "ticks": ""
           }
          },
          "title": {
           "x": 0.05
          },
          "xaxis": {
           "automargin": true,
           "gridcolor": "white",
           "linecolor": "white",
           "ticks": "",
           "title": {
            "standoff": 15
           },
           "zerolinecolor": "white",
           "zerolinewidth": 2
          },
          "yaxis": {
           "automargin": true,
           "gridcolor": "white",
           "linecolor": "white",
           "ticks": "",
           "title": {
            "standoff": 15
           },
           "zerolinecolor": "white",
           "zerolinewidth": 2
          }
         }
        },
        "title": {
         "text": "Distribution of Seniority Levels"
        },
        "xaxis": {
         "anchor": "y",
         "categoryarray": [
          "Mid-Senior level",
          "Not Applicable",
          null,
          "Entry level",
          "Associate",
          "Internship",
          "Director",
          "Executive"
         ],
         "categoryorder": "array",
         "domain": [
          0,
          1
         ],
         "title": {
          "text": "Seniority Level"
         }
        },
        "yaxis": {
         "anchor": "x",
         "domain": [
          0,
          1
         ],
         "title": {
          "text": "Count"
         }
        }
       }
      }
     },
     "metadata": {},
     "output_type": "display_data"
    }
   ],
   "source": [
    "fig3 = px.histogram(df, x='Seniority level',\n",
    "                    title=\"Distribution of Seniority Levels\",\n",
    "                    color='Seniority level')\n",
    "fig3.update_layout(xaxis_title='Seniority Level', yaxis_title='Count')\n",
    "fig3.show()"
   ]
  },
  {
   "cell_type": "code",
   "execution_count": null,
   "id": "20a30c13",
   "metadata": {},
   "outputs": [
    {
     "data": {
      "application/vnd.plotly.v1+json": {
       "config": {
        "plotlyServerURL": "https://plot.ly"
       },
       "data": [
        {
         "domain": {
          "x": [
           0,
           1
          ],
          "y": [
           0,
           1
          ]
         },
         "hole": 0.4,
         "hovertemplate": "Company=%{label}<br>Postings=%{value}<extra></extra>",
         "labels": [
          "Apple",
          "CyberCoders",
          "Microsoft",
          "Deloitte",
          "Jobot",
          "Salesforce",
          "Google",
          "Uber",
          "IBM",
          "DoorDash"
         ],
         "legendgroup": "",
         "name": "",
         "showlegend": true,
         "type": "pie",
         "values": {
          "bdata": "hQKmAJUAagBlAGQAXABVAFQATQA=",
          "dtype": "i2"
         }
        }
       ],
       "layout": {
        "legend": {
         "tracegroupgap": 0
        },
        "template": {
         "data": {
          "bar": [
           {
            "error_x": {
             "color": "#2a3f5f"
            },
            "error_y": {
             "color": "#2a3f5f"
            },
            "marker": {
             "line": {
              "color": "#E5ECF6",
              "width": 0.5
             },
             "pattern": {
              "fillmode": "overlay",
              "size": 10,
              "solidity": 0.2
             }
            },
            "type": "bar"
           }
          ],
          "barpolar": [
           {
            "marker": {
             "line": {
              "color": "#E5ECF6",
              "width": 0.5
             },
             "pattern": {
              "fillmode": "overlay",
              "size": 10,
              "solidity": 0.2
             }
            },
            "type": "barpolar"
           }
          ],
          "carpet": [
           {
            "aaxis": {
             "endlinecolor": "#2a3f5f",
             "gridcolor": "white",
             "linecolor": "white",
             "minorgridcolor": "white",
             "startlinecolor": "#2a3f5f"
            },
            "baxis": {
             "endlinecolor": "#2a3f5f",
             "gridcolor": "white",
             "linecolor": "white",
             "minorgridcolor": "white",
             "startlinecolor": "#2a3f5f"
            },
            "type": "carpet"
           }
          ],
          "choropleth": [
           {
            "colorbar": {
             "outlinewidth": 0,
             "ticks": ""
            },
            "type": "choropleth"
           }
          ],
          "contour": [
           {
            "colorbar": {
             "outlinewidth": 0,
             "ticks": ""
            },
            "colorscale": [
             [
              0,
              "#0d0887"
             ],
             [
              0.1111111111111111,
              "#46039f"
             ],
             [
              0.2222222222222222,
              "#7201a8"
             ],
             [
              0.3333333333333333,
              "#9c179e"
             ],
             [
              0.4444444444444444,
              "#bd3786"
             ],
             [
              0.5555555555555556,
              "#d8576b"
             ],
             [
              0.6666666666666666,
              "#ed7953"
             ],
             [
              0.7777777777777778,
              "#fb9f3a"
             ],
             [
              0.8888888888888888,
              "#fdca26"
             ],
             [
              1,
              "#f0f921"
             ]
            ],
            "type": "contour"
           }
          ],
          "contourcarpet": [
           {
            "colorbar": {
             "outlinewidth": 0,
             "ticks": ""
            },
            "type": "contourcarpet"
           }
          ],
          "heatmap": [
           {
            "colorbar": {
             "outlinewidth": 0,
             "ticks": ""
            },
            "colorscale": [
             [
              0,
              "#0d0887"
             ],
             [
              0.1111111111111111,
              "#46039f"
             ],
             [
              0.2222222222222222,
              "#7201a8"
             ],
             [
              0.3333333333333333,
              "#9c179e"
             ],
             [
              0.4444444444444444,
              "#bd3786"
             ],
             [
              0.5555555555555556,
              "#d8576b"
             ],
             [
              0.6666666666666666,
              "#ed7953"
             ],
             [
              0.7777777777777778,
              "#fb9f3a"
             ],
             [
              0.8888888888888888,
              "#fdca26"
             ],
             [
              1,
              "#f0f921"
             ]
            ],
            "type": "heatmap"
           }
          ],
          "histogram": [
           {
            "marker": {
             "pattern": {
              "fillmode": "overlay",
              "size": 10,
              "solidity": 0.2
             }
            },
            "type": "histogram"
           }
          ],
          "histogram2d": [
           {
            "colorbar": {
             "outlinewidth": 0,
             "ticks": ""
            },
            "colorscale": [
             [
              0,
              "#0d0887"
             ],
             [
              0.1111111111111111,
              "#46039f"
             ],
             [
              0.2222222222222222,
              "#7201a8"
             ],
             [
              0.3333333333333333,
              "#9c179e"
             ],
             [
              0.4444444444444444,
              "#bd3786"
             ],
             [
              0.5555555555555556,
              "#d8576b"
             ],
             [
              0.6666666666666666,
              "#ed7953"
             ],
             [
              0.7777777777777778,
              "#fb9f3a"
             ],
             [
              0.8888888888888888,
              "#fdca26"
             ],
             [
              1,
              "#f0f921"
             ]
            ],
            "type": "histogram2d"
           }
          ],
          "histogram2dcontour": [
           {
            "colorbar": {
             "outlinewidth": 0,
             "ticks": ""
            },
            "colorscale": [
             [
              0,
              "#0d0887"
             ],
             [
              0.1111111111111111,
              "#46039f"
             ],
             [
              0.2222222222222222,
              "#7201a8"
             ],
             [
              0.3333333333333333,
              "#9c179e"
             ],
             [
              0.4444444444444444,
              "#bd3786"
             ],
             [
              0.5555555555555556,
              "#d8576b"
             ],
             [
              0.6666666666666666,
              "#ed7953"
             ],
             [
              0.7777777777777778,
              "#fb9f3a"
             ],
             [
              0.8888888888888888,
              "#fdca26"
             ],
             [
              1,
              "#f0f921"
             ]
            ],
            "type": "histogram2dcontour"
           }
          ],
          "mesh3d": [
           {
            "colorbar": {
             "outlinewidth": 0,
             "ticks": ""
            },
            "type": "mesh3d"
           }
          ],
          "parcoords": [
           {
            "line": {
             "colorbar": {
              "outlinewidth": 0,
              "ticks": ""
             }
            },
            "type": "parcoords"
           }
          ],
          "pie": [
           {
            "automargin": true,
            "type": "pie"
           }
          ],
          "scatter": [
           {
            "fillpattern": {
             "fillmode": "overlay",
             "size": 10,
             "solidity": 0.2
            },
            "type": "scatter"
           }
          ],
          "scatter3d": [
           {
            "line": {
             "colorbar": {
              "outlinewidth": 0,
              "ticks": ""
             }
            },
            "marker": {
             "colorbar": {
              "outlinewidth": 0,
              "ticks": ""
             }
            },
            "type": "scatter3d"
           }
          ],
          "scattercarpet": [
           {
            "marker": {
             "colorbar": {
              "outlinewidth": 0,
              "ticks": ""
             }
            },
            "type": "scattercarpet"
           }
          ],
          "scattergeo": [
           {
            "marker": {
             "colorbar": {
              "outlinewidth": 0,
              "ticks": ""
             }
            },
            "type": "scattergeo"
           }
          ],
          "scattergl": [
           {
            "marker": {
             "colorbar": {
              "outlinewidth": 0,
              "ticks": ""
             }
            },
            "type": "scattergl"
           }
          ],
          "scattermap": [
           {
            "marker": {
             "colorbar": {
              "outlinewidth": 0,
              "ticks": ""
             }
            },
            "type": "scattermap"
           }
          ],
          "scattermapbox": [
           {
            "marker": {
             "colorbar": {
              "outlinewidth": 0,
              "ticks": ""
             }
            },
            "type": "scattermapbox"
           }
          ],
          "scatterpolar": [
           {
            "marker": {
             "colorbar": {
              "outlinewidth": 0,
              "ticks": ""
             }
            },
            "type": "scatterpolar"
           }
          ],
          "scatterpolargl": [
           {
            "marker": {
             "colorbar": {
              "outlinewidth": 0,
              "ticks": ""
             }
            },
            "type": "scatterpolargl"
           }
          ],
          "scatterternary": [
           {
            "marker": {
             "colorbar": {
              "outlinewidth": 0,
              "ticks": ""
             }
            },
            "type": "scatterternary"
           }
          ],
          "surface": [
           {
            "colorbar": {
             "outlinewidth": 0,
             "ticks": ""
            },
            "colorscale": [
             [
              0,
              "#0d0887"
             ],
             [
              0.1111111111111111,
              "#46039f"
             ],
             [
              0.2222222222222222,
              "#7201a8"
             ],
             [
              0.3333333333333333,
              "#9c179e"
             ],
             [
              0.4444444444444444,
              "#bd3786"
             ],
             [
              0.5555555555555556,
              "#d8576b"
             ],
             [
              0.6666666666666666,
              "#ed7953"
             ],
             [
              0.7777777777777778,
              "#fb9f3a"
             ],
             [
              0.8888888888888888,
              "#fdca26"
             ],
             [
              1,
              "#f0f921"
             ]
            ],
            "type": "surface"
           }
          ],
          "table": [
           {
            "cells": {
             "fill": {
              "color": "#EBF0F8"
             },
             "line": {
              "color": "white"
             }
            },
            "header": {
             "fill": {
              "color": "#C8D4E3"
             },
             "line": {
              "color": "white"
             }
            },
            "type": "table"
           }
          ]
         },
         "layout": {
          "annotationdefaults": {
           "arrowcolor": "#2a3f5f",
           "arrowhead": 0,
           "arrowwidth": 1
          },
          "autotypenumbers": "strict",
          "coloraxis": {
           "colorbar": {
            "outlinewidth": 0,
            "ticks": ""
           }
          },
          "colorscale": {
           "diverging": [
            [
             0,
             "#8e0152"
            ],
            [
             0.1,
             "#c51b7d"
            ],
            [
             0.2,
             "#de77ae"
            ],
            [
             0.3,
             "#f1b6da"
            ],
            [
             0.4,
             "#fde0ef"
            ],
            [
             0.5,
             "#f7f7f7"
            ],
            [
             0.6,
             "#e6f5d0"
            ],
            [
             0.7,
             "#b8e186"
            ],
            [
             0.8,
             "#7fbc41"
            ],
            [
             0.9,
             "#4d9221"
            ],
            [
             1,
             "#276419"
            ]
           ],
           "sequential": [
            [
             0,
             "#0d0887"
            ],
            [
             0.1111111111111111,
             "#46039f"
            ],
            [
             0.2222222222222222,
             "#7201a8"
            ],
            [
             0.3333333333333333,
             "#9c179e"
            ],
            [
             0.4444444444444444,
             "#bd3786"
            ],
            [
             0.5555555555555556,
             "#d8576b"
            ],
            [
             0.6666666666666666,
             "#ed7953"
            ],
            [
             0.7777777777777778,
             "#fb9f3a"
            ],
            [
             0.8888888888888888,
             "#fdca26"
            ],
            [
             1,
             "#f0f921"
            ]
           ],
           "sequentialminus": [
            [
             0,
             "#0d0887"
            ],
            [
             0.1111111111111111,
             "#46039f"
            ],
            [
             0.2222222222222222,
             "#7201a8"
            ],
            [
             0.3333333333333333,
             "#9c179e"
            ],
            [
             0.4444444444444444,
             "#bd3786"
            ],
            [
             0.5555555555555556,
             "#d8576b"
            ],
            [
             0.6666666666666666,
             "#ed7953"
            ],
            [
             0.7777777777777778,
             "#fb9f3a"
            ],
            [
             0.8888888888888888,
             "#fdca26"
            ],
            [
             1,
             "#f0f921"
            ]
           ]
          },
          "colorway": [
           "#636efa",
           "#EF553B",
           "#00cc96",
           "#ab63fa",
           "#FFA15A",
           "#19d3f3",
           "#FF6692",
           "#B6E880",
           "#FF97FF",
           "#FECB52"
          ],
          "font": {
           "color": "#2a3f5f"
          },
          "geo": {
           "bgcolor": "white",
           "lakecolor": "white",
           "landcolor": "#E5ECF6",
           "showlakes": true,
           "showland": true,
           "subunitcolor": "white"
          },
          "hoverlabel": {
           "align": "left"
          },
          "hovermode": "closest",
          "mapbox": {
           "style": "light"
          },
          "paper_bgcolor": "white",
          "plot_bgcolor": "#E5ECF6",
          "polar": {
           "angularaxis": {
            "gridcolor": "white",
            "linecolor": "white",
            "ticks": ""
           },
           "bgcolor": "#E5ECF6",
           "radialaxis": {
            "gridcolor": "white",
            "linecolor": "white",
            "ticks": ""
           }
          },
          "scene": {
           "xaxis": {
            "backgroundcolor": "#E5ECF6",
            "gridcolor": "white",
            "gridwidth": 2,
            "linecolor": "white",
            "showbackground": true,
            "ticks": "",
            "zerolinecolor": "white"
           },
           "yaxis": {
            "backgroundcolor": "#E5ECF6",
            "gridcolor": "white",
            "gridwidth": 2,
            "linecolor": "white",
            "showbackground": true,
            "ticks": "",
            "zerolinecolor": "white"
           },
           "zaxis": {
            "backgroundcolor": "#E5ECF6",
            "gridcolor": "white",
            "gridwidth": 2,
            "linecolor": "white",
            "showbackground": true,
            "ticks": "",
            "zerolinecolor": "white"
           }
          },
          "shapedefaults": {
           "line": {
            "color": "#2a3f5f"
           }
          },
          "ternary": {
           "aaxis": {
            "gridcolor": "white",
            "linecolor": "white",
            "ticks": ""
           },
           "baxis": {
            "gridcolor": "white",
            "linecolor": "white",
            "ticks": ""
           },
           "bgcolor": "#E5ECF6",
           "caxis": {
            "gridcolor": "white",
            "linecolor": "white",
            "ticks": ""
           }
          },
          "title": {
           "x": 0.05
          },
          "xaxis": {
           "automargin": true,
           "gridcolor": "white",
           "linecolor": "white",
           "ticks": "",
           "title": {
            "standoff": 15
           },
           "zerolinecolor": "white",
           "zerolinewidth": 2
          },
          "yaxis": {
           "automargin": true,
           "gridcolor": "white",
           "linecolor": "white",
           "ticks": "",
           "title": {
            "standoff": 15
           },
           "zerolinecolor": "white",
           "zerolinewidth": 2
          }
         }
        },
        "title": {
         "text": "Top 10 Companies by Job Postings"
        }
       }
      }
     },
     "metadata": {},
     "output_type": "display_data"
    }
   ],
   "source": [
    "# Top 10 Companies by Job Postings\n",
    "def top_companies():\n",
    "    top_companies = df['company'].value_counts().nlargest(10).reset_index()\n",
    "    top_companies.columns = ['Company', 'Postings']\n",
    "\n",
    "    fig5 = px.pie(top_companies, names='Company', values='Postings',\n",
    "                  title=\"Top 10 Companies by Job Postings\",\n",
    "                  hole=0.4)\n",
    "    graph5_html = pio.to_html(fig5, full_html=False)\n",
    "    return graph5_html"
   ]
  },
  {
   "cell_type": "code",
   "execution_count": 10,
   "id": "39fc93c7",
   "metadata": {},
   "outputs": [
    {
     "data": {
      "application/vnd.plotly.v1+json": {
       "config": {
        "plotlyServerURL": "https://plot.ly"
       },
       "data": [
        {
         "hovertemplate": "Seniority level=Associate<br>Employment type=%{x}<br>Count=%{y}<extra></extra>",
         "legendgroup": "Associate",
         "marker": {
          "color": "#636efa",
          "pattern": {
           "shape": ""
          }
         },
         "name": "Associate",
         "orientation": "v",
         "showlegend": true,
         "textposition": "auto",
         "type": "bar",
         "x": [
          "Contract",
          "Full-time",
          "Internship",
          "Part-time",
          "Temporary",
          "Volunteer"
         ],
         "xaxis": "x",
         "y": {
          "bdata": "NwC5AwMADAAJAAIA",
          "dtype": "i2"
         },
         "yaxis": "y"
        },
        {
         "hovertemplate": "Seniority level=Director<br>Employment type=%{x}<br>Count=%{y}<extra></extra>",
         "legendgroup": "Director",
         "marker": {
          "color": "#EF553B",
          "pattern": {
           "shape": ""
          }
         },
         "name": "Director",
         "orientation": "v",
         "showlegend": true,
         "textposition": "auto",
         "type": "bar",
         "x": [
          "Contract",
          "Full-time"
         ],
         "xaxis": "x",
         "y": {
          "bdata": "Ahk=",
          "dtype": "i1"
         },
         "yaxis": "y"
        },
        {
         "hovertemplate": "Seniority level=Entry level<br>Employment type=%{x}<br>Count=%{y}<extra></extra>",
         "legendgroup": "Entry level",
         "marker": {
          "color": "#00cc96",
          "pattern": {
           "shape": ""
          }
         },
         "name": "Entry level",
         "orientation": "v",
         "showlegend": true,
         "textposition": "auto",
         "type": "bar",
         "x": [
          "Contract",
          "Full-time",
          "Internship",
          "Other",
          "Part-time",
          "Temporary"
         ],
         "xaxis": "x",
         "y": {
          "bdata": "QABKBwMAAQATAAMA",
          "dtype": "i2"
         },
         "yaxis": "y"
        },
        {
         "hovertemplate": "Seniority level=Executive<br>Employment type=%{x}<br>Count=%{y}<extra></extra>",
         "legendgroup": "Executive",
         "marker": {
          "color": "#ab63fa",
          "pattern": {
           "shape": ""
          }
         },
         "name": "Executive",
         "orientation": "v",
         "showlegend": true,
         "textposition": "auto",
         "type": "bar",
         "x": [
          "Contract",
          "Full-time"
         ],
         "xaxis": "x",
         "y": {
          "bdata": "AQc=",
          "dtype": "i1"
         },
         "yaxis": "y"
        },
        {
         "hovertemplate": "Seniority level=Mid-Senior level<br>Employment type=%{x}<br>Count=%{y}<extra></extra>",
         "legendgroup": "Mid-Senior level",
         "marker": {
          "color": "#FFA15A",
          "pattern": {
           "shape": ""
          }
         },
         "name": "Mid-Senior level",
         "orientation": "v",
         "showlegend": true,
         "textposition": "auto",
         "type": "bar",
         "x": [
          "Contract",
          "Full-time",
          "Internship",
          "Part-time"
         ],
         "xaxis": "x",
         "y": {
          "bdata": "ywA9BgEAAQA=",
          "dtype": "i2"
         },
         "yaxis": "y"
        },
        {
         "hovertemplate": "Seniority level=Not Applicable<br>Employment type=%{x}<br>Count=%{y}<extra></extra>",
         "legendgroup": "Not Applicable",
         "marker": {
          "color": "#19d3f3",
          "pattern": {
           "shape": ""
          }
         },
         "name": "Not Applicable",
         "orientation": "v",
         "showlegend": true,
         "textposition": "auto",
         "type": "bar",
         "x": [
          "Contract",
          "Full-time",
          "Internship",
          "Other",
          "Part-time"
         ],
         "xaxis": "x",
         "y": {
          "bdata": "DgDFCAgAKAADAA==",
          "dtype": "i2"
         },
         "yaxis": "y"
        },
        {
         "hovertemplate": "Seniority level=Internship<br>Employment type=%{x}<br>Count=%{y}<extra></extra>",
         "legendgroup": "Internship",
         "marker": {
          "color": "#FF6692",
          "pattern": {
           "shape": ""
          }
         },
         "name": "Internship",
         "orientation": "v",
         "showlegend": true,
         "textposition": "auto",
         "type": "bar",
         "x": [
          "Full-time",
          "Internship",
          "Part-time",
          "Temporary"
         ],
         "xaxis": "x",
         "y": {
          "bdata": "DBQCAQ==",
          "dtype": "i1"
         },
         "yaxis": "y"
        }
       ],
       "layout": {
        "barmode": "stack",
        "legend": {
         "title": {
          "text": "Seniority level"
         },
         "tracegroupgap": 0
        },
        "template": {
         "data": {
          "bar": [
           {
            "error_x": {
             "color": "#2a3f5f"
            },
            "error_y": {
             "color": "#2a3f5f"
            },
            "marker": {
             "line": {
              "color": "#E5ECF6",
              "width": 0.5
             },
             "pattern": {
              "fillmode": "overlay",
              "size": 10,
              "solidity": 0.2
             }
            },
            "type": "bar"
           }
          ],
          "barpolar": [
           {
            "marker": {
             "line": {
              "color": "#E5ECF6",
              "width": 0.5
             },
             "pattern": {
              "fillmode": "overlay",
              "size": 10,
              "solidity": 0.2
             }
            },
            "type": "barpolar"
           }
          ],
          "carpet": [
           {
            "aaxis": {
             "endlinecolor": "#2a3f5f",
             "gridcolor": "white",
             "linecolor": "white",
             "minorgridcolor": "white",
             "startlinecolor": "#2a3f5f"
            },
            "baxis": {
             "endlinecolor": "#2a3f5f",
             "gridcolor": "white",
             "linecolor": "white",
             "minorgridcolor": "white",
             "startlinecolor": "#2a3f5f"
            },
            "type": "carpet"
           }
          ],
          "choropleth": [
           {
            "colorbar": {
             "outlinewidth": 0,
             "ticks": ""
            },
            "type": "choropleth"
           }
          ],
          "contour": [
           {
            "colorbar": {
             "outlinewidth": 0,
             "ticks": ""
            },
            "colorscale": [
             [
              0,
              "#0d0887"
             ],
             [
              0.1111111111111111,
              "#46039f"
             ],
             [
              0.2222222222222222,
              "#7201a8"
             ],
             [
              0.3333333333333333,
              "#9c179e"
             ],
             [
              0.4444444444444444,
              "#bd3786"
             ],
             [
              0.5555555555555556,
              "#d8576b"
             ],
             [
              0.6666666666666666,
              "#ed7953"
             ],
             [
              0.7777777777777778,
              "#fb9f3a"
             ],
             [
              0.8888888888888888,
              "#fdca26"
             ],
             [
              1,
              "#f0f921"
             ]
            ],
            "type": "contour"
           }
          ],
          "contourcarpet": [
           {
            "colorbar": {
             "outlinewidth": 0,
             "ticks": ""
            },
            "type": "contourcarpet"
           }
          ],
          "heatmap": [
           {
            "colorbar": {
             "outlinewidth": 0,
             "ticks": ""
            },
            "colorscale": [
             [
              0,
              "#0d0887"
             ],
             [
              0.1111111111111111,
              "#46039f"
             ],
             [
              0.2222222222222222,
              "#7201a8"
             ],
             [
              0.3333333333333333,
              "#9c179e"
             ],
             [
              0.4444444444444444,
              "#bd3786"
             ],
             [
              0.5555555555555556,
              "#d8576b"
             ],
             [
              0.6666666666666666,
              "#ed7953"
             ],
             [
              0.7777777777777778,
              "#fb9f3a"
             ],
             [
              0.8888888888888888,
              "#fdca26"
             ],
             [
              1,
              "#f0f921"
             ]
            ],
            "type": "heatmap"
           }
          ],
          "histogram": [
           {
            "marker": {
             "pattern": {
              "fillmode": "overlay",
              "size": 10,
              "solidity": 0.2
             }
            },
            "type": "histogram"
           }
          ],
          "histogram2d": [
           {
            "colorbar": {
             "outlinewidth": 0,
             "ticks": ""
            },
            "colorscale": [
             [
              0,
              "#0d0887"
             ],
             [
              0.1111111111111111,
              "#46039f"
             ],
             [
              0.2222222222222222,
              "#7201a8"
             ],
             [
              0.3333333333333333,
              "#9c179e"
             ],
             [
              0.4444444444444444,
              "#bd3786"
             ],
             [
              0.5555555555555556,
              "#d8576b"
             ],
             [
              0.6666666666666666,
              "#ed7953"
             ],
             [
              0.7777777777777778,
              "#fb9f3a"
             ],
             [
              0.8888888888888888,
              "#fdca26"
             ],
             [
              1,
              "#f0f921"
             ]
            ],
            "type": "histogram2d"
           }
          ],
          "histogram2dcontour": [
           {
            "colorbar": {
             "outlinewidth": 0,
             "ticks": ""
            },
            "colorscale": [
             [
              0,
              "#0d0887"
             ],
             [
              0.1111111111111111,
              "#46039f"
             ],
             [
              0.2222222222222222,
              "#7201a8"
             ],
             [
              0.3333333333333333,
              "#9c179e"
             ],
             [
              0.4444444444444444,
              "#bd3786"
             ],
             [
              0.5555555555555556,
              "#d8576b"
             ],
             [
              0.6666666666666666,
              "#ed7953"
             ],
             [
              0.7777777777777778,
              "#fb9f3a"
             ],
             [
              0.8888888888888888,
              "#fdca26"
             ],
             [
              1,
              "#f0f921"
             ]
            ],
            "type": "histogram2dcontour"
           }
          ],
          "mesh3d": [
           {
            "colorbar": {
             "outlinewidth": 0,
             "ticks": ""
            },
            "type": "mesh3d"
           }
          ],
          "parcoords": [
           {
            "line": {
             "colorbar": {
              "outlinewidth": 0,
              "ticks": ""
             }
            },
            "type": "parcoords"
           }
          ],
          "pie": [
           {
            "automargin": true,
            "type": "pie"
           }
          ],
          "scatter": [
           {
            "fillpattern": {
             "fillmode": "overlay",
             "size": 10,
             "solidity": 0.2
            },
            "type": "scatter"
           }
          ],
          "scatter3d": [
           {
            "line": {
             "colorbar": {
              "outlinewidth": 0,
              "ticks": ""
             }
            },
            "marker": {
             "colorbar": {
              "outlinewidth": 0,
              "ticks": ""
             }
            },
            "type": "scatter3d"
           }
          ],
          "scattercarpet": [
           {
            "marker": {
             "colorbar": {
              "outlinewidth": 0,
              "ticks": ""
             }
            },
            "type": "scattercarpet"
           }
          ],
          "scattergeo": [
           {
            "marker": {
             "colorbar": {
              "outlinewidth": 0,
              "ticks": ""
             }
            },
            "type": "scattergeo"
           }
          ],
          "scattergl": [
           {
            "marker": {
             "colorbar": {
              "outlinewidth": 0,
              "ticks": ""
             }
            },
            "type": "scattergl"
           }
          ],
          "scattermap": [
           {
            "marker": {
             "colorbar": {
              "outlinewidth": 0,
              "ticks": ""
             }
            },
            "type": "scattermap"
           }
          ],
          "scattermapbox": [
           {
            "marker": {
             "colorbar": {
              "outlinewidth": 0,
              "ticks": ""
             }
            },
            "type": "scattermapbox"
           }
          ],
          "scatterpolar": [
           {
            "marker": {
             "colorbar": {
              "outlinewidth": 0,
              "ticks": ""
             }
            },
            "type": "scatterpolar"
           }
          ],
          "scatterpolargl": [
           {
            "marker": {
             "colorbar": {
              "outlinewidth": 0,
              "ticks": ""
             }
            },
            "type": "scatterpolargl"
           }
          ],
          "scatterternary": [
           {
            "marker": {
             "colorbar": {
              "outlinewidth": 0,
              "ticks": ""
             }
            },
            "type": "scatterternary"
           }
          ],
          "surface": [
           {
            "colorbar": {
             "outlinewidth": 0,
             "ticks": ""
            },
            "colorscale": [
             [
              0,
              "#0d0887"
             ],
             [
              0.1111111111111111,
              "#46039f"
             ],
             [
              0.2222222222222222,
              "#7201a8"
             ],
             [
              0.3333333333333333,
              "#9c179e"
             ],
             [
              0.4444444444444444,
              "#bd3786"
             ],
             [
              0.5555555555555556,
              "#d8576b"
             ],
             [
              0.6666666666666666,
              "#ed7953"
             ],
             [
              0.7777777777777778,
              "#fb9f3a"
             ],
             [
              0.8888888888888888,
              "#fdca26"
             ],
             [
              1,
              "#f0f921"
             ]
            ],
            "type": "surface"
           }
          ],
          "table": [
           {
            "cells": {
             "fill": {
              "color": "#EBF0F8"
             },
             "line": {
              "color": "white"
             }
            },
            "header": {
             "fill": {
              "color": "#C8D4E3"
             },
             "line": {
              "color": "white"
             }
            },
            "type": "table"
           }
          ]
         },
         "layout": {
          "annotationdefaults": {
           "arrowcolor": "#2a3f5f",
           "arrowhead": 0,
           "arrowwidth": 1
          },
          "autotypenumbers": "strict",
          "coloraxis": {
           "colorbar": {
            "outlinewidth": 0,
            "ticks": ""
           }
          },
          "colorscale": {
           "diverging": [
            [
             0,
             "#8e0152"
            ],
            [
             0.1,
             "#c51b7d"
            ],
            [
             0.2,
             "#de77ae"
            ],
            [
             0.3,
             "#f1b6da"
            ],
            [
             0.4,
             "#fde0ef"
            ],
            [
             0.5,
             "#f7f7f7"
            ],
            [
             0.6,
             "#e6f5d0"
            ],
            [
             0.7,
             "#b8e186"
            ],
            [
             0.8,
             "#7fbc41"
            ],
            [
             0.9,
             "#4d9221"
            ],
            [
             1,
             "#276419"
            ]
           ],
           "sequential": [
            [
             0,
             "#0d0887"
            ],
            [
             0.1111111111111111,
             "#46039f"
            ],
            [
             0.2222222222222222,
             "#7201a8"
            ],
            [
             0.3333333333333333,
             "#9c179e"
            ],
            [
             0.4444444444444444,
             "#bd3786"
            ],
            [
             0.5555555555555556,
             "#d8576b"
            ],
            [
             0.6666666666666666,
             "#ed7953"
            ],
            [
             0.7777777777777778,
             "#fb9f3a"
            ],
            [
             0.8888888888888888,
             "#fdca26"
            ],
            [
             1,
             "#f0f921"
            ]
           ],
           "sequentialminus": [
            [
             0,
             "#0d0887"
            ],
            [
             0.1111111111111111,
             "#46039f"
            ],
            [
             0.2222222222222222,
             "#7201a8"
            ],
            [
             0.3333333333333333,
             "#9c179e"
            ],
            [
             0.4444444444444444,
             "#bd3786"
            ],
            [
             0.5555555555555556,
             "#d8576b"
            ],
            [
             0.6666666666666666,
             "#ed7953"
            ],
            [
             0.7777777777777778,
             "#fb9f3a"
            ],
            [
             0.8888888888888888,
             "#fdca26"
            ],
            [
             1,
             "#f0f921"
            ]
           ]
          },
          "colorway": [
           "#636efa",
           "#EF553B",
           "#00cc96",
           "#ab63fa",
           "#FFA15A",
           "#19d3f3",
           "#FF6692",
           "#B6E880",
           "#FF97FF",
           "#FECB52"
          ],
          "font": {
           "color": "#2a3f5f"
          },
          "geo": {
           "bgcolor": "white",
           "lakecolor": "white",
           "landcolor": "#E5ECF6",
           "showlakes": true,
           "showland": true,
           "subunitcolor": "white"
          },
          "hoverlabel": {
           "align": "left"
          },
          "hovermode": "closest",
          "mapbox": {
           "style": "light"
          },
          "paper_bgcolor": "white",
          "plot_bgcolor": "#E5ECF6",
          "polar": {
           "angularaxis": {
            "gridcolor": "white",
            "linecolor": "white",
            "ticks": ""
           },
           "bgcolor": "#E5ECF6",
           "radialaxis": {
            "gridcolor": "white",
            "linecolor": "white",
            "ticks": ""
           }
          },
          "scene": {
           "xaxis": {
            "backgroundcolor": "#E5ECF6",
            "gridcolor": "white",
            "gridwidth": 2,
            "linecolor": "white",
            "showbackground": true,
            "ticks": "",
            "zerolinecolor": "white"
           },
           "yaxis": {
            "backgroundcolor": "#E5ECF6",
            "gridcolor": "white",
            "gridwidth": 2,
            "linecolor": "white",
            "showbackground": true,
            "ticks": "",
            "zerolinecolor": "white"
           },
           "zaxis": {
            "backgroundcolor": "#E5ECF6",
            "gridcolor": "white",
            "gridwidth": 2,
            "linecolor": "white",
            "showbackground": true,
            "ticks": "",
            "zerolinecolor": "white"
           }
          },
          "shapedefaults": {
           "line": {
            "color": "#2a3f5f"
           }
          },
          "ternary": {
           "aaxis": {
            "gridcolor": "white",
            "linecolor": "white",
            "ticks": ""
           },
           "baxis": {
            "gridcolor": "white",
            "linecolor": "white",
            "ticks": ""
           },
           "bgcolor": "#E5ECF6",
           "caxis": {
            "gridcolor": "white",
            "linecolor": "white",
            "ticks": ""
           }
          },
          "title": {
           "x": 0.05
          },
          "xaxis": {
           "automargin": true,
           "gridcolor": "white",
           "linecolor": "white",
           "ticks": "",
           "title": {
            "standoff": 15
           },
           "zerolinecolor": "white",
           "zerolinewidth": 2
          },
          "yaxis": {
           "automargin": true,
           "gridcolor": "white",
           "linecolor": "white",
           "ticks": "",
           "title": {
            "standoff": 15
           },
           "zerolinecolor": "white",
           "zerolinewidth": 2
          }
         }
        },
        "title": {
         "text": "Seniority Level by Employment Type"
        },
        "xaxis": {
         "anchor": "y",
         "domain": [
          0,
          1
         ],
         "title": {
          "text": "Employment type"
         }
        },
        "yaxis": {
         "anchor": "x",
         "domain": [
          0,
          1
         ],
         "title": {
          "text": "Count"
         }
        }
       }
      }
     },
     "metadata": {},
     "output_type": "display_data"
    }
   ],
   "source": [
    "combo = df.groupby(['Employment type', 'Seniority level']).size().reset_index(name='Count')\n",
    "\n",
    "fig5 = px.bar(combo, x='Employment type', y='Count', color='Seniority level',\n",
    "              title=\"Seniority Level by Employment Type\",\n",
    "              barmode='stack')\n",
    "fig5.show()"
   ]
  }
 ],
 "metadata": {
  "kernelspec": {
   "display_name": "base",
   "language": "python",
   "name": "python3"
  },
  "language_info": {
   "codemirror_mode": {
    "name": "ipython",
    "version": 3
   },
   "file_extension": ".py",
   "mimetype": "text/x-python",
   "name": "python",
   "nbconvert_exporter": "python",
   "pygments_lexer": "ipython3",
   "version": "3.12.9"
  }
 },
 "nbformat": 4,
 "nbformat_minor": 5
}
