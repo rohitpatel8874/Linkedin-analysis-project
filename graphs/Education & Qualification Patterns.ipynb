{
 "cells": [
  {
   "cell_type": "markdown",
   "id": "631d99ed",
   "metadata": {},
   "source": [
    "Education & Qualification Patterns"
   ]
  },
  {
   "cell_type": "code",
   "execution_count": 1,
   "id": "ee1e97ed",
   "metadata": {},
   "outputs": [],
   "source": [
    "import pandas as pd\n",
    "import plotly.express as px\n",
    "import plotly.graph_objects as go\n",
    "import plotly.io as pio"
   ]
  },
  {
   "cell_type": "code",
   "execution_count": 2,
   "id": "16e20018",
   "metadata": {},
   "outputs": [
    {
     "data": {
      "text/html": [
       "<div>\n",
       "<style scoped>\n",
       "    .dataframe tbody tr th:only-of-type {\n",
       "        vertical-align: middle;\n",
       "    }\n",
       "\n",
       "    .dataframe tbody tr th {\n",
       "        vertical-align: top;\n",
       "    }\n",
       "\n",
       "    .dataframe thead th {\n",
       "        text-align: right;\n",
       "    }\n",
       "</style>\n",
       "<table border=\"1\" class=\"dataframe\">\n",
       "  <thead>\n",
       "    <tr style=\"text-align: right;\">\n",
       "      <th></th>\n",
       "      <th>Employment type</th>\n",
       "      <th>Industries</th>\n",
       "      <th>Job function</th>\n",
       "      <th>Seniority level</th>\n",
       "      <th>company</th>\n",
       "      <th>company_id</th>\n",
       "      <th>context</th>\n",
       "      <th>date</th>\n",
       "      <th>description</th>\n",
       "      <th>education</th>\n",
       "      <th>location</th>\n",
       "      <th>months_experience</th>\n",
       "      <th>post_id</th>\n",
       "      <th>post_url</th>\n",
       "      <th>sal_high</th>\n",
       "      <th>sal_low</th>\n",
       "      <th>salary</th>\n",
       "      <th>title</th>\n",
       "    </tr>\n",
       "  </thead>\n",
       "  <tbody>\n",
       "    <tr>\n",
       "      <th>0</th>\n",
       "      <td>Full-time</td>\n",
       "      <td>Broadcast Media</td>\n",
       "      <td>Information Technology</td>\n",
       "      <td>Mid-Senior level</td>\n",
       "      <td>CyberCoders</td>\n",
       "      <td>21836.0</td>\n",
       "      <td>{\"@context\": \"http://schema.org\", \"@type\": \"Jo...</td>\n",
       "      <td>NaN</td>\n",
       "      <td>Job Title: Senior Data Engineer Location: Alex...</td>\n",
       "      <td>bachelor degree</td>\n",
       "      <td>Alexandria, VA</td>\n",
       "      <td>60.0</td>\n",
       "      <td>2632814552</td>\n",
       "      <td>https://www.linkedin.com/jobs/view/senior-data...</td>\n",
       "      <td>NaN</td>\n",
       "      <td>NaN</td>\n",
       "      <td>NaN</td>\n",
       "      <td>Senior Data Engineer</td>\n",
       "    </tr>\n",
       "    <tr>\n",
       "      <th>1</th>\n",
       "      <td>Full-time</td>\n",
       "      <td>Hospital &amp; Health Care, Medical Devices, and P...</td>\n",
       "      <td>Engineering and Information Technology</td>\n",
       "      <td>Not Applicable</td>\n",
       "      <td>Johnson &amp; Johnson</td>\n",
       "      <td>1207.0</td>\n",
       "      <td>{\"@context\": \"http://schema.org\", \"@type\": \"Jo...</td>\n",
       "      <td>NaN</td>\n",
       "      <td>Ethicon, part of Johnson &amp; Johnson Medical Dev...</td>\n",
       "      <td>bachelor degree</td>\n",
       "      <td>Santa Clara, CA</td>\n",
       "      <td>96.0</td>\n",
       "      <td>2632810866</td>\n",
       "      <td>https://www.linkedin.com/jobs/view/principal-f...</td>\n",
       "      <td>NaN</td>\n",
       "      <td>NaN</td>\n",
       "      <td>NaN</td>\n",
       "      <td>Principal Full Stack Software Engineer.</td>\n",
       "    </tr>\n",
       "    <tr>\n",
       "      <th>2</th>\n",
       "      <td>Full-time</td>\n",
       "      <td>Computer Hardware, Computer Software, and Info...</td>\n",
       "      <td>Engineering and Information Technology</td>\n",
       "      <td>Not Applicable</td>\n",
       "      <td>Microsoft</td>\n",
       "      <td>1035.0</td>\n",
       "      <td>{\"@context\": \"http://schema.org\", \"@type\": \"Jo...</td>\n",
       "      <td>NaN</td>\n",
       "      <td>Microsoft’s WCB health team is looking for a S...</td>\n",
       "      <td>bachelor degree</td>\n",
       "      <td>Washington, DC</td>\n",
       "      <td>84.0</td>\n",
       "      <td>2632812746</td>\n",
       "      <td>https://www.linkedin.com/jobs/view/senior-soft...</td>\n",
       "      <td>189000.0</td>\n",
       "      <td>120000.0</td>\n",
       "      <td>$120,000.00/yr - $189,000.00/yr</td>\n",
       "      <td>Senior Software Engineer</td>\n",
       "    </tr>\n",
       "    <tr>\n",
       "      <th>3</th>\n",
       "      <td>Full-time</td>\n",
       "      <td>Computer Hardware, Computer Software, and Info...</td>\n",
       "      <td>Engineering and Information Technology</td>\n",
       "      <td>Not Applicable</td>\n",
       "      <td>Microsoft</td>\n",
       "      <td>1035.0</td>\n",
       "      <td>{\"@context\": \"http://schema.org\", \"@type\": \"Jo...</td>\n",
       "      <td>NaN</td>\n",
       "      <td>Microsoft’s WCB health team is looking for a S...</td>\n",
       "      <td>bachelor degree</td>\n",
       "      <td>Reston, VA</td>\n",
       "      <td>84.0</td>\n",
       "      <td>2632817427</td>\n",
       "      <td>https://www.linkedin.com/jobs/view/senior-soft...</td>\n",
       "      <td>189000.0</td>\n",
       "      <td>120000.0</td>\n",
       "      <td>$120,000.00/yr - $189,000.00/yr</td>\n",
       "      <td>Senior Software Engineer</td>\n",
       "    </tr>\n",
       "    <tr>\n",
       "      <th>4</th>\n",
       "      <td>Full-time</td>\n",
       "      <td>Computer Hardware, Computer Software, and Info...</td>\n",
       "      <td>Engineering and Information Technology</td>\n",
       "      <td>Not Applicable</td>\n",
       "      <td>Microsoft</td>\n",
       "      <td>1035.0</td>\n",
       "      <td>{\"@context\": \"http://schema.org\", \"@type\": \"Jo...</td>\n",
       "      <td>NaN</td>\n",
       "      <td>Microsoft’s WCB health team is looking for a S...</td>\n",
       "      <td>bachelor degree</td>\n",
       "      <td>Irving, TX</td>\n",
       "      <td>84.0</td>\n",
       "      <td>2632817426</td>\n",
       "      <td>https://www.linkedin.com/jobs/view/senior-soft...</td>\n",
       "      <td>175000.0</td>\n",
       "      <td>108000.0</td>\n",
       "      <td>$108,000.00/yr - $175,000.00/yr</td>\n",
       "      <td>Senior Software Engineer</td>\n",
       "    </tr>\n",
       "    <tr>\n",
       "      <th>...</th>\n",
       "      <td>...</td>\n",
       "      <td>...</td>\n",
       "      <td>...</td>\n",
       "      <td>...</td>\n",
       "      <td>...</td>\n",
       "      <td>...</td>\n",
       "      <td>...</td>\n",
       "      <td>...</td>\n",
       "      <td>...</td>\n",
       "      <td>...</td>\n",
       "      <td>...</td>\n",
       "      <td>...</td>\n",
       "      <td>...</td>\n",
       "      <td>...</td>\n",
       "      <td>...</td>\n",
       "      <td>...</td>\n",
       "      <td>...</td>\n",
       "      <td>...</td>\n",
       "    </tr>\n",
       "    <tr>\n",
       "      <th>8256</th>\n",
       "      <td>Contract</td>\n",
       "      <td>NaN</td>\n",
       "      <td>NaN</td>\n",
       "      <td>NaN</td>\n",
       "      <td>Sky Solutions</td>\n",
       "      <td>18682633.0</td>\n",
       "      <td>{\"@context\": \"http://schema.org\", \"@type\": \"Jo...</td>\n",
       "      <td>2021-10-17 23:50:58.294116</td>\n",
       "      <td>Primary Skills: 1. Good hands on experience on...</td>\n",
       "      <td>bachelor degree</td>\n",
       "      <td>Malvern, PA</td>\n",
       "      <td>NaN</td>\n",
       "      <td>2750535238</td>\n",
       "      <td>https://www.linkedin.com/jobs/view/site-reliab...</td>\n",
       "      <td>NaN</td>\n",
       "      <td>NaN</td>\n",
       "      <td>NaN</td>\n",
       "      <td>Site Reliability Engineer</td>\n",
       "    </tr>\n",
       "    <tr>\n",
       "      <th>8257</th>\n",
       "      <td>Full-time</td>\n",
       "      <td>Marketing and Advertising, Computer Software, ...</td>\n",
       "      <td>Information Technology</td>\n",
       "      <td>Associate</td>\n",
       "      <td>Zillow</td>\n",
       "      <td>13990.0</td>\n",
       "      <td>{\"@context\": \"http://schema.org\", \"@type\": \"Jo...</td>\n",
       "      <td>2021-10-17 23:51:01.950194</td>\n",
       "      <td>About The Team The SRE team at Zillow Group em...</td>\n",
       "      <td>bachelor degree</td>\n",
       "      <td>United States</td>\n",
       "      <td>60.0</td>\n",
       "      <td>2743905746</td>\n",
       "      <td>https://www.linkedin.com/jobs/view/senior-site...</td>\n",
       "      <td>NaN</td>\n",
       "      <td>NaN</td>\n",
       "      <td>NaN</td>\n",
       "      <td>Senior Site Reliability Engineer</td>\n",
       "    </tr>\n",
       "    <tr>\n",
       "      <th>8258</th>\n",
       "      <td>Full-time</td>\n",
       "      <td>Computer Software, Consumer Services, and Ente...</td>\n",
       "      <td>Engineering and Information Technology</td>\n",
       "      <td>Not Applicable</td>\n",
       "      <td>PlayStation</td>\n",
       "      <td>1254.0</td>\n",
       "      <td>{\"@context\": \"http://schema.org\", \"@type\": \"Jo...</td>\n",
       "      <td>2021-10-17 23:51:05.271522</td>\n",
       "      <td>PlayStation isn’t just the Best Place to Play ...</td>\n",
       "      <td>bachelor degree</td>\n",
       "      <td>San Diego, CA</td>\n",
       "      <td>84.0</td>\n",
       "      <td>2740102323</td>\n",
       "      <td>https://www.linkedin.com/jobs/view/sr-site-rel...</td>\n",
       "      <td>162000.0</td>\n",
       "      <td>129000.0</td>\n",
       "      <td>$129,000.00/yr - $162,000.00/yr</td>\n",
       "      <td>Sr. Site Reliability Engineer</td>\n",
       "    </tr>\n",
       "    <tr>\n",
       "      <th>8259</th>\n",
       "      <td>NaN</td>\n",
       "      <td>NaN</td>\n",
       "      <td>NaN</td>\n",
       "      <td>NaN</td>\n",
       "      <td>Flowspace</td>\n",
       "      <td>NaN</td>\n",
       "      <td>NaN</td>\n",
       "      <td>2021-10-17 23:51:08.758745</td>\n",
       "      <td>NaN</td>\n",
       "      <td>NaN</td>\n",
       "      <td>Los Angeles, CA</td>\n",
       "      <td>NaN</td>\n",
       "      <td>2754349591</td>\n",
       "      <td>https://www.linkedin.com/jobs/view/site-reliab...</td>\n",
       "      <td>NaN</td>\n",
       "      <td>NaN</td>\n",
       "      <td>NaN</td>\n",
       "      <td>Site Reliability / DevOps Engineer (Remote)</td>\n",
       "    </tr>\n",
       "    <tr>\n",
       "      <th>8260</th>\n",
       "      <td>Full-time</td>\n",
       "      <td>Marketing and Advertising, Information Technol...</td>\n",
       "      <td>Engineering and Information Technology</td>\n",
       "      <td>Mid-Senior level</td>\n",
       "      <td>Adobe</td>\n",
       "      <td>1480.0</td>\n",
       "      <td>{\"@context\": \"http://schema.org\", \"@type\": \"Jo...</td>\n",
       "      <td>2021-10-17 23:51:11.907258</td>\n",
       "      <td>Our Company Changing the world through digital...</td>\n",
       "      <td>bachelor degree</td>\n",
       "      <td>Austin, TX</td>\n",
       "      <td>36.0</td>\n",
       "      <td>2751979003</td>\n",
       "      <td>https://www.linkedin.com/jobs/view/site-reliab...</td>\n",
       "      <td>NaN</td>\n",
       "      <td>NaN</td>\n",
       "      <td>NaN</td>\n",
       "      <td>Site Reliability Engineer</td>\n",
       "    </tr>\n",
       "  </tbody>\n",
       "</table>\n",
       "<p>8261 rows × 18 columns</p>\n",
       "</div>"
      ],
      "text/plain": [
       "     Employment type                                         Industries  \\\n",
       "0          Full-time                                    Broadcast Media   \n",
       "1          Full-time  Hospital & Health Care, Medical Devices, and P...   \n",
       "2          Full-time  Computer Hardware, Computer Software, and Info...   \n",
       "3          Full-time  Computer Hardware, Computer Software, and Info...   \n",
       "4          Full-time  Computer Hardware, Computer Software, and Info...   \n",
       "...              ...                                                ...   \n",
       "8256        Contract                                                NaN   \n",
       "8257       Full-time  Marketing and Advertising, Computer Software, ...   \n",
       "8258       Full-time  Computer Software, Consumer Services, and Ente...   \n",
       "8259             NaN                                                NaN   \n",
       "8260       Full-time  Marketing and Advertising, Information Technol...   \n",
       "\n",
       "                                Job function   Seniority level  \\\n",
       "0                     Information Technology  Mid-Senior level   \n",
       "1     Engineering and Information Technology    Not Applicable   \n",
       "2     Engineering and Information Technology    Not Applicable   \n",
       "3     Engineering and Information Technology    Not Applicable   \n",
       "4     Engineering and Information Technology    Not Applicable   \n",
       "...                                      ...               ...   \n",
       "8256                                     NaN               NaN   \n",
       "8257                  Information Technology         Associate   \n",
       "8258  Engineering and Information Technology    Not Applicable   \n",
       "8259                                     NaN               NaN   \n",
       "8260  Engineering and Information Technology  Mid-Senior level   \n",
       "\n",
       "                company  company_id  \\\n",
       "0           CyberCoders     21836.0   \n",
       "1     Johnson & Johnson      1207.0   \n",
       "2             Microsoft      1035.0   \n",
       "3             Microsoft      1035.0   \n",
       "4             Microsoft      1035.0   \n",
       "...                 ...         ...   \n",
       "8256      Sky Solutions  18682633.0   \n",
       "8257             Zillow     13990.0   \n",
       "8258        PlayStation      1254.0   \n",
       "8259          Flowspace         NaN   \n",
       "8260              Adobe      1480.0   \n",
       "\n",
       "                                                context  \\\n",
       "0     {\"@context\": \"http://schema.org\", \"@type\": \"Jo...   \n",
       "1     {\"@context\": \"http://schema.org\", \"@type\": \"Jo...   \n",
       "2     {\"@context\": \"http://schema.org\", \"@type\": \"Jo...   \n",
       "3     {\"@context\": \"http://schema.org\", \"@type\": \"Jo...   \n",
       "4     {\"@context\": \"http://schema.org\", \"@type\": \"Jo...   \n",
       "...                                                 ...   \n",
       "8256  {\"@context\": \"http://schema.org\", \"@type\": \"Jo...   \n",
       "8257  {\"@context\": \"http://schema.org\", \"@type\": \"Jo...   \n",
       "8258  {\"@context\": \"http://schema.org\", \"@type\": \"Jo...   \n",
       "8259                                                NaN   \n",
       "8260  {\"@context\": \"http://schema.org\", \"@type\": \"Jo...   \n",
       "\n",
       "                            date  \\\n",
       "0                            NaN   \n",
       "1                            NaN   \n",
       "2                            NaN   \n",
       "3                            NaN   \n",
       "4                            NaN   \n",
       "...                          ...   \n",
       "8256  2021-10-17 23:50:58.294116   \n",
       "8257  2021-10-17 23:51:01.950194   \n",
       "8258  2021-10-17 23:51:05.271522   \n",
       "8259  2021-10-17 23:51:08.758745   \n",
       "8260  2021-10-17 23:51:11.907258   \n",
       "\n",
       "                                            description        education  \\\n",
       "0     Job Title: Senior Data Engineer Location: Alex...  bachelor degree   \n",
       "1     Ethicon, part of Johnson & Johnson Medical Dev...  bachelor degree   \n",
       "2     Microsoft’s WCB health team is looking for a S...  bachelor degree   \n",
       "3     Microsoft’s WCB health team is looking for a S...  bachelor degree   \n",
       "4     Microsoft’s WCB health team is looking for a S...  bachelor degree   \n",
       "...                                                 ...              ...   \n",
       "8256  Primary Skills: 1. Good hands on experience on...  bachelor degree   \n",
       "8257  About The Team The SRE team at Zillow Group em...  bachelor degree   \n",
       "8258  PlayStation isn’t just the Best Place to Play ...  bachelor degree   \n",
       "8259                                                NaN              NaN   \n",
       "8260  Our Company Changing the world through digital...  bachelor degree   \n",
       "\n",
       "             location  months_experience     post_id  \\\n",
       "0      Alexandria, VA               60.0  2632814552   \n",
       "1     Santa Clara, CA               96.0  2632810866   \n",
       "2      Washington, DC               84.0  2632812746   \n",
       "3          Reston, VA               84.0  2632817427   \n",
       "4          Irving, TX               84.0  2632817426   \n",
       "...               ...                ...         ...   \n",
       "8256      Malvern, PA                NaN  2750535238   \n",
       "8257    United States               60.0  2743905746   \n",
       "8258    San Diego, CA               84.0  2740102323   \n",
       "8259  Los Angeles, CA                NaN  2754349591   \n",
       "8260       Austin, TX               36.0  2751979003   \n",
       "\n",
       "                                               post_url  sal_high   sal_low  \\\n",
       "0     https://www.linkedin.com/jobs/view/senior-data...       NaN       NaN   \n",
       "1     https://www.linkedin.com/jobs/view/principal-f...       NaN       NaN   \n",
       "2     https://www.linkedin.com/jobs/view/senior-soft...  189000.0  120000.0   \n",
       "3     https://www.linkedin.com/jobs/view/senior-soft...  189000.0  120000.0   \n",
       "4     https://www.linkedin.com/jobs/view/senior-soft...  175000.0  108000.0   \n",
       "...                                                 ...       ...       ...   \n",
       "8256  https://www.linkedin.com/jobs/view/site-reliab...       NaN       NaN   \n",
       "8257  https://www.linkedin.com/jobs/view/senior-site...       NaN       NaN   \n",
       "8258  https://www.linkedin.com/jobs/view/sr-site-rel...  162000.0  129000.0   \n",
       "8259  https://www.linkedin.com/jobs/view/site-reliab...       NaN       NaN   \n",
       "8260  https://www.linkedin.com/jobs/view/site-reliab...       NaN       NaN   \n",
       "\n",
       "                               salary  \\\n",
       "0                                 NaN   \n",
       "1                                 NaN   \n",
       "2     $120,000.00/yr - $189,000.00/yr   \n",
       "3     $120,000.00/yr - $189,000.00/yr   \n",
       "4     $108,000.00/yr - $175,000.00/yr   \n",
       "...                               ...   \n",
       "8256                              NaN   \n",
       "8257                              NaN   \n",
       "8258  $129,000.00/yr - $162,000.00/yr   \n",
       "8259                              NaN   \n",
       "8260                              NaN   \n",
       "\n",
       "                                            title  \n",
       "0                            Senior Data Engineer  \n",
       "1         Principal Full Stack Software Engineer.  \n",
       "2                        Senior Software Engineer  \n",
       "3                        Senior Software Engineer  \n",
       "4                        Senior Software Engineer  \n",
       "...                                           ...  \n",
       "8256                    Site Reliability Engineer  \n",
       "8257             Senior Site Reliability Engineer  \n",
       "8258                Sr. Site Reliability Engineer  \n",
       "8259  Site Reliability / DevOps Engineer (Remote)  \n",
       "8260                    Site Reliability Engineer  \n",
       "\n",
       "[8261 rows x 18 columns]"
      ]
     },
     "execution_count": 2,
     "metadata": {},
     "output_type": "execute_result"
    }
   ],
   "source": [
    "df = pd.read_csv(r'C:\\Users\\lenovo\\OneDrive\\Desktop\\flask\\graphs\\jobs.csv')\n",
    "df"
   ]
  },
  {
   "cell_type": "code",
   "execution_count": 3,
   "id": "277806cb",
   "metadata": {},
   "outputs": [
    {
     "data": {
      "application/vnd.plotly.v1+json": {
       "config": {
        "plotlyServerURL": "https://plot.ly"
       },
       "data": [
        {
         "hovertemplate": "Education Level=%{x}<br>Job Count=%{marker.color}<extra></extra>",
         "legendgroup": "",
         "marker": {
          "color": {
           "bdata": "Ih04AA0A",
           "dtype": "i2"
          },
          "coloraxis": "coloraxis",
          "pattern": {
           "shape": ""
          }
         },
         "name": "",
         "orientation": "v",
         "showlegend": false,
         "text": {
          "bdata": "AAAAAAAivUAAAAAAAABMQAAAAAAAACpA",
          "dtype": "f8"
         },
         "textposition": "auto",
         "type": "bar",
         "x": [
          "bachelor degree",
          "associate degree",
          "high school"
         ],
         "xaxis": "x",
         "y": {
          "bdata": "Ih04AA0A",
          "dtype": "i2"
         },
         "yaxis": "y"
        }
       ],
       "layout": {
        "barmode": "relative",
        "coloraxis": {
         "colorbar": {
          "title": {
           "text": "Job Count"
          }
         },
         "colorscale": [
          [
           0,
           "#0d0887"
          ],
          [
           0.1111111111111111,
           "#46039f"
          ],
          [
           0.2222222222222222,
           "#7201a8"
          ],
          [
           0.3333333333333333,
           "#9c179e"
          ],
          [
           0.4444444444444444,
           "#bd3786"
          ],
          [
           0.5555555555555556,
           "#d8576b"
          ],
          [
           0.6666666666666666,
           "#ed7953"
          ],
          [
           0.7777777777777778,
           "#fb9f3a"
          ],
          [
           0.8888888888888888,
           "#fdca26"
          ],
          [
           1,
           "#f0f921"
          ]
         ]
        },
        "legend": {
         "tracegroupgap": 0
        },
        "template": {
         "data": {
          "bar": [
           {
            "error_x": {
             "color": "#2a3f5f"
            },
            "error_y": {
             "color": "#2a3f5f"
            },
            "marker": {
             "line": {
              "color": "#E5ECF6",
              "width": 0.5
             },
             "pattern": {
              "fillmode": "overlay",
              "size": 10,
              "solidity": 0.2
             }
            },
            "type": "bar"
           }
          ],
          "barpolar": [
           {
            "marker": {
             "line": {
              "color": "#E5ECF6",
              "width": 0.5
             },
             "pattern": {
              "fillmode": "overlay",
              "size": 10,
              "solidity": 0.2
             }
            },
            "type": "barpolar"
           }
          ],
          "carpet": [
           {
            "aaxis": {
             "endlinecolor": "#2a3f5f",
             "gridcolor": "white",
             "linecolor": "white",
             "minorgridcolor": "white",
             "startlinecolor": "#2a3f5f"
            },
            "baxis": {
             "endlinecolor": "#2a3f5f",
             "gridcolor": "white",
             "linecolor": "white",
             "minorgridcolor": "white",
             "startlinecolor": "#2a3f5f"
            },
            "type": "carpet"
           }
          ],
          "choropleth": [
           {
            "colorbar": {
             "outlinewidth": 0,
             "ticks": ""
            },
            "type": "choropleth"
           }
          ],
          "contour": [
           {
            "colorbar": {
             "outlinewidth": 0,
             "ticks": ""
            },
            "colorscale": [
             [
              0,
              "#0d0887"
             ],
             [
              0.1111111111111111,
              "#46039f"
             ],
             [
              0.2222222222222222,
              "#7201a8"
             ],
             [
              0.3333333333333333,
              "#9c179e"
             ],
             [
              0.4444444444444444,
              "#bd3786"
             ],
             [
              0.5555555555555556,
              "#d8576b"
             ],
             [
              0.6666666666666666,
              "#ed7953"
             ],
             [
              0.7777777777777778,
              "#fb9f3a"
             ],
             [
              0.8888888888888888,
              "#fdca26"
             ],
             [
              1,
              "#f0f921"
             ]
            ],
            "type": "contour"
           }
          ],
          "contourcarpet": [
           {
            "colorbar": {
             "outlinewidth": 0,
             "ticks": ""
            },
            "type": "contourcarpet"
           }
          ],
          "heatmap": [
           {
            "colorbar": {
             "outlinewidth": 0,
             "ticks": ""
            },
            "colorscale": [
             [
              0,
              "#0d0887"
             ],
             [
              0.1111111111111111,
              "#46039f"
             ],
             [
              0.2222222222222222,
              "#7201a8"
             ],
             [
              0.3333333333333333,
              "#9c179e"
             ],
             [
              0.4444444444444444,
              "#bd3786"
             ],
             [
              0.5555555555555556,
              "#d8576b"
             ],
             [
              0.6666666666666666,
              "#ed7953"
             ],
             [
              0.7777777777777778,
              "#fb9f3a"
             ],
             [
              0.8888888888888888,
              "#fdca26"
             ],
             [
              1,
              "#f0f921"
             ]
            ],
            "type": "heatmap"
           }
          ],
          "histogram": [
           {
            "marker": {
             "pattern": {
              "fillmode": "overlay",
              "size": 10,
              "solidity": 0.2
             }
            },
            "type": "histogram"
           }
          ],
          "histogram2d": [
           {
            "colorbar": {
             "outlinewidth": 0,
             "ticks": ""
            },
            "colorscale": [
             [
              0,
              "#0d0887"
             ],
             [
              0.1111111111111111,
              "#46039f"
             ],
             [
              0.2222222222222222,
              "#7201a8"
             ],
             [
              0.3333333333333333,
              "#9c179e"
             ],
             [
              0.4444444444444444,
              "#bd3786"
             ],
             [
              0.5555555555555556,
              "#d8576b"
             ],
             [
              0.6666666666666666,
              "#ed7953"
             ],
             [
              0.7777777777777778,
              "#fb9f3a"
             ],
             [
              0.8888888888888888,
              "#fdca26"
             ],
             [
              1,
              "#f0f921"
             ]
            ],
            "type": "histogram2d"
           }
          ],
          "histogram2dcontour": [
           {
            "colorbar": {
             "outlinewidth": 0,
             "ticks": ""
            },
            "colorscale": [
             [
              0,
              "#0d0887"
             ],
             [
              0.1111111111111111,
              "#46039f"
             ],
             [
              0.2222222222222222,
              "#7201a8"
             ],
             [
              0.3333333333333333,
              "#9c179e"
             ],
             [
              0.4444444444444444,
              "#bd3786"
             ],
             [
              0.5555555555555556,
              "#d8576b"
             ],
             [
              0.6666666666666666,
              "#ed7953"
             ],
             [
              0.7777777777777778,
              "#fb9f3a"
             ],
             [
              0.8888888888888888,
              "#fdca26"
             ],
             [
              1,
              "#f0f921"
             ]
            ],
            "type": "histogram2dcontour"
           }
          ],
          "mesh3d": [
           {
            "colorbar": {
             "outlinewidth": 0,
             "ticks": ""
            },
            "type": "mesh3d"
           }
          ],
          "parcoords": [
           {
            "line": {
             "colorbar": {
              "outlinewidth": 0,
              "ticks": ""
             }
            },
            "type": "parcoords"
           }
          ],
          "pie": [
           {
            "automargin": true,
            "type": "pie"
           }
          ],
          "scatter": [
           {
            "fillpattern": {
             "fillmode": "overlay",
             "size": 10,
             "solidity": 0.2
            },
            "type": "scatter"
           }
          ],
          "scatter3d": [
           {
            "line": {
             "colorbar": {
              "outlinewidth": 0,
              "ticks": ""
             }
            },
            "marker": {
             "colorbar": {
              "outlinewidth": 0,
              "ticks": ""
             }
            },
            "type": "scatter3d"
           }
          ],
          "scattercarpet": [
           {
            "marker": {
             "colorbar": {
              "outlinewidth": 0,
              "ticks": ""
             }
            },
            "type": "scattercarpet"
           }
          ],
          "scattergeo": [
           {
            "marker": {
             "colorbar": {
              "outlinewidth": 0,
              "ticks": ""
             }
            },
            "type": "scattergeo"
           }
          ],
          "scattergl": [
           {
            "marker": {
             "colorbar": {
              "outlinewidth": 0,
              "ticks": ""
             }
            },
            "type": "scattergl"
           }
          ],
          "scattermap": [
           {
            "marker": {
             "colorbar": {
              "outlinewidth": 0,
              "ticks": ""
             }
            },
            "type": "scattermap"
           }
          ],
          "scattermapbox": [
           {
            "marker": {
             "colorbar": {
              "outlinewidth": 0,
              "ticks": ""
             }
            },
            "type": "scattermapbox"
           }
          ],
          "scatterpolar": [
           {
            "marker": {
             "colorbar": {
              "outlinewidth": 0,
              "ticks": ""
             }
            },
            "type": "scatterpolar"
           }
          ],
          "scatterpolargl": [
           {
            "marker": {
             "colorbar": {
              "outlinewidth": 0,
              "ticks": ""
             }
            },
            "type": "scatterpolargl"
           }
          ],
          "scatterternary": [
           {
            "marker": {
             "colorbar": {
              "outlinewidth": 0,
              "ticks": ""
             }
            },
            "type": "scatterternary"
           }
          ],
          "surface": [
           {
            "colorbar": {
             "outlinewidth": 0,
             "ticks": ""
            },
            "colorscale": [
             [
              0,
              "#0d0887"
             ],
             [
              0.1111111111111111,
              "#46039f"
             ],
             [
              0.2222222222222222,
              "#7201a8"
             ],
             [
              0.3333333333333333,
              "#9c179e"
             ],
             [
              0.4444444444444444,
              "#bd3786"
             ],
             [
              0.5555555555555556,
              "#d8576b"
             ],
             [
              0.6666666666666666,
              "#ed7953"
             ],
             [
              0.7777777777777778,
              "#fb9f3a"
             ],
             [
              0.8888888888888888,
              "#fdca26"
             ],
             [
              1,
              "#f0f921"
             ]
            ],
            "type": "surface"
           }
          ],
          "table": [
           {
            "cells": {
             "fill": {
              "color": "#EBF0F8"
             },
             "line": {
              "color": "white"
             }
            },
            "header": {
             "fill": {
              "color": "#C8D4E3"
             },
             "line": {
              "color": "white"
             }
            },
            "type": "table"
           }
          ]
         },
         "layout": {
          "annotationdefaults": {
           "arrowcolor": "#2a3f5f",
           "arrowhead": 0,
           "arrowwidth": 1
          },
          "autotypenumbers": "strict",
          "coloraxis": {
           "colorbar": {
            "outlinewidth": 0,
            "ticks": ""
           }
          },
          "colorscale": {
           "diverging": [
            [
             0,
             "#8e0152"
            ],
            [
             0.1,
             "#c51b7d"
            ],
            [
             0.2,
             "#de77ae"
            ],
            [
             0.3,
             "#f1b6da"
            ],
            [
             0.4,
             "#fde0ef"
            ],
            [
             0.5,
             "#f7f7f7"
            ],
            [
             0.6,
             "#e6f5d0"
            ],
            [
             0.7,
             "#b8e186"
            ],
            [
             0.8,
             "#7fbc41"
            ],
            [
             0.9,
             "#4d9221"
            ],
            [
             1,
             "#276419"
            ]
           ],
           "sequential": [
            [
             0,
             "#0d0887"
            ],
            [
             0.1111111111111111,
             "#46039f"
            ],
            [
             0.2222222222222222,
             "#7201a8"
            ],
            [
             0.3333333333333333,
             "#9c179e"
            ],
            [
             0.4444444444444444,
             "#bd3786"
            ],
            [
             0.5555555555555556,
             "#d8576b"
            ],
            [
             0.6666666666666666,
             "#ed7953"
            ],
            [
             0.7777777777777778,
             "#fb9f3a"
            ],
            [
             0.8888888888888888,
             "#fdca26"
            ],
            [
             1,
             "#f0f921"
            ]
           ],
           "sequentialminus": [
            [
             0,
             "#0d0887"
            ],
            [
             0.1111111111111111,
             "#46039f"
            ],
            [
             0.2222222222222222,
             "#7201a8"
            ],
            [
             0.3333333333333333,
             "#9c179e"
            ],
            [
             0.4444444444444444,
             "#bd3786"
            ],
            [
             0.5555555555555556,
             "#d8576b"
            ],
            [
             0.6666666666666666,
             "#ed7953"
            ],
            [
             0.7777777777777778,
             "#fb9f3a"
            ],
            [
             0.8888888888888888,
             "#fdca26"
            ],
            [
             1,
             "#f0f921"
            ]
           ]
          },
          "colorway": [
           "#636efa",
           "#EF553B",
           "#00cc96",
           "#ab63fa",
           "#FFA15A",
           "#19d3f3",
           "#FF6692",
           "#B6E880",
           "#FF97FF",
           "#FECB52"
          ],
          "font": {
           "color": "#2a3f5f"
          },
          "geo": {
           "bgcolor": "white",
           "lakecolor": "white",
           "landcolor": "#E5ECF6",
           "showlakes": true,
           "showland": true,
           "subunitcolor": "white"
          },
          "hoverlabel": {
           "align": "left"
          },
          "hovermode": "closest",
          "mapbox": {
           "style": "light"
          },
          "paper_bgcolor": "white",
          "plot_bgcolor": "#E5ECF6",
          "polar": {
           "angularaxis": {
            "gridcolor": "white",
            "linecolor": "white",
            "ticks": ""
           },
           "bgcolor": "#E5ECF6",
           "radialaxis": {
            "gridcolor": "white",
            "linecolor": "white",
            "ticks": ""
           }
          },
          "scene": {
           "xaxis": {
            "backgroundcolor": "#E5ECF6",
            "gridcolor": "white",
            "gridwidth": 2,
            "linecolor": "white",
            "showbackground": true,
            "ticks": "",
            "zerolinecolor": "white"
           },
           "yaxis": {
            "backgroundcolor": "#E5ECF6",
            "gridcolor": "white",
            "gridwidth": 2,
            "linecolor": "white",
            "showbackground": true,
            "ticks": "",
            "zerolinecolor": "white"
           },
           "zaxis": {
            "backgroundcolor": "#E5ECF6",
            "gridcolor": "white",
            "gridwidth": 2,
            "linecolor": "white",
            "showbackground": true,
            "ticks": "",
            "zerolinecolor": "white"
           }
          },
          "shapedefaults": {
           "line": {
            "color": "#2a3f5f"
           }
          },
          "ternary": {
           "aaxis": {
            "gridcolor": "white",
            "linecolor": "white",
            "ticks": ""
           },
           "baxis": {
            "gridcolor": "white",
            "linecolor": "white",
            "ticks": ""
           },
           "bgcolor": "#E5ECF6",
           "caxis": {
            "gridcolor": "white",
            "linecolor": "white",
            "ticks": ""
           }
          },
          "title": {
           "x": 0.05
          },
          "xaxis": {
           "automargin": true,
           "gridcolor": "white",
           "linecolor": "white",
           "ticks": "",
           "title": {
            "standoff": 15
           },
           "zerolinecolor": "white",
           "zerolinewidth": 2
          },
          "yaxis": {
           "automargin": true,
           "gridcolor": "white",
           "linecolor": "white",
           "ticks": "",
           "title": {
            "standoff": 15
           },
           "zerolinecolor": "white",
           "zerolinewidth": 2
          }
         }
        },
        "title": {
         "text": "Top 10 Most Common Education Requirements"
        },
        "xaxis": {
         "anchor": "y",
         "domain": [
          0,
          1
         ],
         "tickangle": -45,
         "title": {
          "text": "Education Level"
         }
        },
        "yaxis": {
         "anchor": "x",
         "domain": [
          0,
          1
         ],
         "title": {
          "text": "Job Count"
         }
        }
       }
      }
     },
     "metadata": {},
     "output_type": "display_data"
    }
   ],
   "source": [
    "# Bar Chart – Most Common Education Requirements\n",
    "edu_counts = df['education'].value_counts().nlargest(10).reset_index()\n",
    "edu_counts.columns = ['Education Level', 'Job Count']\n",
    "\n",
    "fig1 = px.bar(edu_counts, x='Education Level', y='Job Count',\n",
    "              title='Top 10 Most Common Education Requirements',\n",
    "              color='Job Count', text='Job Count')\n",
    "fig1.update_layout(xaxis_tickangle=-45)\n",
    "fig1.show()"
   ]
  },
  {
   "cell_type": "code",
   "execution_count": 4,
   "id": "2a61531b",
   "metadata": {},
   "outputs": [
    {
     "data": {
      "application/vnd.plotly.v1+json": {
       "config": {
        "plotlyServerURL": "https://plot.ly"
       },
       "data": [
        {
         "domain": {
          "x": [
           0,
           1
          ],
          "y": [
           0,
           1
          ]
         },
         "hovertemplate": "Education Level=%{label}<br>Count=%{value}<extra></extra>",
         "labels": [
          "bachelor degree",
          "associate degree",
          "high school"
         ],
         "legendgroup": "",
         "name": "",
         "showlegend": true,
         "type": "pie",
         "values": {
          "bdata": "Ih04AA0A",
          "dtype": "i2"
         }
        }
       ],
       "layout": {
        "legend": {
         "tracegroupgap": 0
        },
        "template": {
         "data": {
          "bar": [
           {
            "error_x": {
             "color": "#2a3f5f"
            },
            "error_y": {
             "color": "#2a3f5f"
            },
            "marker": {
             "line": {
              "color": "#E5ECF6",
              "width": 0.5
             },
             "pattern": {
              "fillmode": "overlay",
              "size": 10,
              "solidity": 0.2
             }
            },
            "type": "bar"
           }
          ],
          "barpolar": [
           {
            "marker": {
             "line": {
              "color": "#E5ECF6",
              "width": 0.5
             },
             "pattern": {
              "fillmode": "overlay",
              "size": 10,
              "solidity": 0.2
             }
            },
            "type": "barpolar"
           }
          ],
          "carpet": [
           {
            "aaxis": {
             "endlinecolor": "#2a3f5f",
             "gridcolor": "white",
             "linecolor": "white",
             "minorgridcolor": "white",
             "startlinecolor": "#2a3f5f"
            },
            "baxis": {
             "endlinecolor": "#2a3f5f",
             "gridcolor": "white",
             "linecolor": "white",
             "minorgridcolor": "white",
             "startlinecolor": "#2a3f5f"
            },
            "type": "carpet"
           }
          ],
          "choropleth": [
           {
            "colorbar": {
             "outlinewidth": 0,
             "ticks": ""
            },
            "type": "choropleth"
           }
          ],
          "contour": [
           {
            "colorbar": {
             "outlinewidth": 0,
             "ticks": ""
            },
            "colorscale": [
             [
              0,
              "#0d0887"
             ],
             [
              0.1111111111111111,
              "#46039f"
             ],
             [
              0.2222222222222222,
              "#7201a8"
             ],
             [
              0.3333333333333333,
              "#9c179e"
             ],
             [
              0.4444444444444444,
              "#bd3786"
             ],
             [
              0.5555555555555556,
              "#d8576b"
             ],
             [
              0.6666666666666666,
              "#ed7953"
             ],
             [
              0.7777777777777778,
              "#fb9f3a"
             ],
             [
              0.8888888888888888,
              "#fdca26"
             ],
             [
              1,
              "#f0f921"
             ]
            ],
            "type": "contour"
           }
          ],
          "contourcarpet": [
           {
            "colorbar": {
             "outlinewidth": 0,
             "ticks": ""
            },
            "type": "contourcarpet"
           }
          ],
          "heatmap": [
           {
            "colorbar": {
             "outlinewidth": 0,
             "ticks": ""
            },
            "colorscale": [
             [
              0,
              "#0d0887"
             ],
             [
              0.1111111111111111,
              "#46039f"
             ],
             [
              0.2222222222222222,
              "#7201a8"
             ],
             [
              0.3333333333333333,
              "#9c179e"
             ],
             [
              0.4444444444444444,
              "#bd3786"
             ],
             [
              0.5555555555555556,
              "#d8576b"
             ],
             [
              0.6666666666666666,
              "#ed7953"
             ],
             [
              0.7777777777777778,
              "#fb9f3a"
             ],
             [
              0.8888888888888888,
              "#fdca26"
             ],
             [
              1,
              "#f0f921"
             ]
            ],
            "type": "heatmap"
           }
          ],
          "histogram": [
           {
            "marker": {
             "pattern": {
              "fillmode": "overlay",
              "size": 10,
              "solidity": 0.2
             }
            },
            "type": "histogram"
           }
          ],
          "histogram2d": [
           {
            "colorbar": {
             "outlinewidth": 0,
             "ticks": ""
            },
            "colorscale": [
             [
              0,
              "#0d0887"
             ],
             [
              0.1111111111111111,
              "#46039f"
             ],
             [
              0.2222222222222222,
              "#7201a8"
             ],
             [
              0.3333333333333333,
              "#9c179e"
             ],
             [
              0.4444444444444444,
              "#bd3786"
             ],
             [
              0.5555555555555556,
              "#d8576b"
             ],
             [
              0.6666666666666666,
              "#ed7953"
             ],
             [
              0.7777777777777778,
              "#fb9f3a"
             ],
             [
              0.8888888888888888,
              "#fdca26"
             ],
             [
              1,
              "#f0f921"
             ]
            ],
            "type": "histogram2d"
           }
          ],
          "histogram2dcontour": [
           {
            "colorbar": {
             "outlinewidth": 0,
             "ticks": ""
            },
            "colorscale": [
             [
              0,
              "#0d0887"
             ],
             [
              0.1111111111111111,
              "#46039f"
             ],
             [
              0.2222222222222222,
              "#7201a8"
             ],
             [
              0.3333333333333333,
              "#9c179e"
             ],
             [
              0.4444444444444444,
              "#bd3786"
             ],
             [
              0.5555555555555556,
              "#d8576b"
             ],
             [
              0.6666666666666666,
              "#ed7953"
             ],
             [
              0.7777777777777778,
              "#fb9f3a"
             ],
             [
              0.8888888888888888,
              "#fdca26"
             ],
             [
              1,
              "#f0f921"
             ]
            ],
            "type": "histogram2dcontour"
           }
          ],
          "mesh3d": [
           {
            "colorbar": {
             "outlinewidth": 0,
             "ticks": ""
            },
            "type": "mesh3d"
           }
          ],
          "parcoords": [
           {
            "line": {
             "colorbar": {
              "outlinewidth": 0,
              "ticks": ""
             }
            },
            "type": "parcoords"
           }
          ],
          "pie": [
           {
            "automargin": true,
            "type": "pie"
           }
          ],
          "scatter": [
           {
            "fillpattern": {
             "fillmode": "overlay",
             "size": 10,
             "solidity": 0.2
            },
            "type": "scatter"
           }
          ],
          "scatter3d": [
           {
            "line": {
             "colorbar": {
              "outlinewidth": 0,
              "ticks": ""
             }
            },
            "marker": {
             "colorbar": {
              "outlinewidth": 0,
              "ticks": ""
             }
            },
            "type": "scatter3d"
           }
          ],
          "scattercarpet": [
           {
            "marker": {
             "colorbar": {
              "outlinewidth": 0,
              "ticks": ""
             }
            },
            "type": "scattercarpet"
           }
          ],
          "scattergeo": [
           {
            "marker": {
             "colorbar": {
              "outlinewidth": 0,
              "ticks": ""
             }
            },
            "type": "scattergeo"
           }
          ],
          "scattergl": [
           {
            "marker": {
             "colorbar": {
              "outlinewidth": 0,
              "ticks": ""
             }
            },
            "type": "scattergl"
           }
          ],
          "scattermap": [
           {
            "marker": {
             "colorbar": {
              "outlinewidth": 0,
              "ticks": ""
             }
            },
            "type": "scattermap"
           }
          ],
          "scattermapbox": [
           {
            "marker": {
             "colorbar": {
              "outlinewidth": 0,
              "ticks": ""
             }
            },
            "type": "scattermapbox"
           }
          ],
          "scatterpolar": [
           {
            "marker": {
             "colorbar": {
              "outlinewidth": 0,
              "ticks": ""
             }
            },
            "type": "scatterpolar"
           }
          ],
          "scatterpolargl": [
           {
            "marker": {
             "colorbar": {
              "outlinewidth": 0,
              "ticks": ""
             }
            },
            "type": "scatterpolargl"
           }
          ],
          "scatterternary": [
           {
            "marker": {
             "colorbar": {
              "outlinewidth": 0,
              "ticks": ""
             }
            },
            "type": "scatterternary"
           }
          ],
          "surface": [
           {
            "colorbar": {
             "outlinewidth": 0,
             "ticks": ""
            },
            "colorscale": [
             [
              0,
              "#0d0887"
             ],
             [
              0.1111111111111111,
              "#46039f"
             ],
             [
              0.2222222222222222,
              "#7201a8"
             ],
             [
              0.3333333333333333,
              "#9c179e"
             ],
             [
              0.4444444444444444,
              "#bd3786"
             ],
             [
              0.5555555555555556,
              "#d8576b"
             ],
             [
              0.6666666666666666,
              "#ed7953"
             ],
             [
              0.7777777777777778,
              "#fb9f3a"
             ],
             [
              0.8888888888888888,
              "#fdca26"
             ],
             [
              1,
              "#f0f921"
             ]
            ],
            "type": "surface"
           }
          ],
          "table": [
           {
            "cells": {
             "fill": {
              "color": "#EBF0F8"
             },
             "line": {
              "color": "white"
             }
            },
            "header": {
             "fill": {
              "color": "#C8D4E3"
             },
             "line": {
              "color": "white"
             }
            },
            "type": "table"
           }
          ]
         },
         "layout": {
          "annotationdefaults": {
           "arrowcolor": "#2a3f5f",
           "arrowhead": 0,
           "arrowwidth": 1
          },
          "autotypenumbers": "strict",
          "coloraxis": {
           "colorbar": {
            "outlinewidth": 0,
            "ticks": ""
           }
          },
          "colorscale": {
           "diverging": [
            [
             0,
             "#8e0152"
            ],
            [
             0.1,
             "#c51b7d"
            ],
            [
             0.2,
             "#de77ae"
            ],
            [
             0.3,
             "#f1b6da"
            ],
            [
             0.4,
             "#fde0ef"
            ],
            [
             0.5,
             "#f7f7f7"
            ],
            [
             0.6,
             "#e6f5d0"
            ],
            [
             0.7,
             "#b8e186"
            ],
            [
             0.8,
             "#7fbc41"
            ],
            [
             0.9,
             "#4d9221"
            ],
            [
             1,
             "#276419"
            ]
           ],
           "sequential": [
            [
             0,
             "#0d0887"
            ],
            [
             0.1111111111111111,
             "#46039f"
            ],
            [
             0.2222222222222222,
             "#7201a8"
            ],
            [
             0.3333333333333333,
             "#9c179e"
            ],
            [
             0.4444444444444444,
             "#bd3786"
            ],
            [
             0.5555555555555556,
             "#d8576b"
            ],
            [
             0.6666666666666666,
             "#ed7953"
            ],
            [
             0.7777777777777778,
             "#fb9f3a"
            ],
            [
             0.8888888888888888,
             "#fdca26"
            ],
            [
             1,
             "#f0f921"
            ]
           ],
           "sequentialminus": [
            [
             0,
             "#0d0887"
            ],
            [
             0.1111111111111111,
             "#46039f"
            ],
            [
             0.2222222222222222,
             "#7201a8"
            ],
            [
             0.3333333333333333,
             "#9c179e"
            ],
            [
             0.4444444444444444,
             "#bd3786"
            ],
            [
             0.5555555555555556,
             "#d8576b"
            ],
            [
             0.6666666666666666,
             "#ed7953"
            ],
            [
             0.7777777777777778,
             "#fb9f3a"
            ],
            [
             0.8888888888888888,
             "#fdca26"
            ],
            [
             1,
             "#f0f921"
            ]
           ]
          },
          "colorway": [
           "#636efa",
           "#EF553B",
           "#00cc96",
           "#ab63fa",
           "#FFA15A",
           "#19d3f3",
           "#FF6692",
           "#B6E880",
           "#FF97FF",
           "#FECB52"
          ],
          "font": {
           "color": "#2a3f5f"
          },
          "geo": {
           "bgcolor": "white",
           "lakecolor": "white",
           "landcolor": "#E5ECF6",
           "showlakes": true,
           "showland": true,
           "subunitcolor": "white"
          },
          "hoverlabel": {
           "align": "left"
          },
          "hovermode": "closest",
          "mapbox": {
           "style": "light"
          },
          "paper_bgcolor": "white",
          "plot_bgcolor": "#E5ECF6",
          "polar": {
           "angularaxis": {
            "gridcolor": "white",
            "linecolor": "white",
            "ticks": ""
           },
           "bgcolor": "#E5ECF6",
           "radialaxis": {
            "gridcolor": "white",
            "linecolor": "white",
            "ticks": ""
           }
          },
          "scene": {
           "xaxis": {
            "backgroundcolor": "#E5ECF6",
            "gridcolor": "white",
            "gridwidth": 2,
            "linecolor": "white",
            "showbackground": true,
            "ticks": "",
            "zerolinecolor": "white"
           },
           "yaxis": {
            "backgroundcolor": "#E5ECF6",
            "gridcolor": "white",
            "gridwidth": 2,
            "linecolor": "white",
            "showbackground": true,
            "ticks": "",
            "zerolinecolor": "white"
           },
           "zaxis": {
            "backgroundcolor": "#E5ECF6",
            "gridcolor": "white",
            "gridwidth": 2,
            "linecolor": "white",
            "showbackground": true,
            "ticks": "",
            "zerolinecolor": "white"
           }
          },
          "shapedefaults": {
           "line": {
            "color": "#2a3f5f"
           }
          },
          "ternary": {
           "aaxis": {
            "gridcolor": "white",
            "linecolor": "white",
            "ticks": ""
           },
           "baxis": {
            "gridcolor": "white",
            "linecolor": "white",
            "ticks": ""
           },
           "bgcolor": "#E5ECF6",
           "caxis": {
            "gridcolor": "white",
            "linecolor": "white",
            "ticks": ""
           }
          },
          "title": {
           "x": 0.05
          },
          "xaxis": {
           "automargin": true,
           "gridcolor": "white",
           "linecolor": "white",
           "ticks": "",
           "title": {
            "standoff": 15
           },
           "zerolinecolor": "white",
           "zerolinewidth": 2
          },
          "yaxis": {
           "automargin": true,
           "gridcolor": "white",
           "linecolor": "white",
           "ticks": "",
           "title": {
            "standoff": 15
           },
           "zerolinecolor": "white",
           "zerolinewidth": 2
          }
         }
        },
        "title": {
         "text": "Distribution of Education Requirements (Top 7)"
        }
       }
      }
     },
     "metadata": {},
     "output_type": "display_data"
    }
   ],
   "source": [
    "# Pie Chart – Distribution of Education Requirements\n",
    "top_edu_pie = df['education'].value_counts().nlargest(7).reset_index()\n",
    "top_edu_pie.columns = ['Education Level', 'Count']\n",
    "\n",
    "fig2 = px.pie(top_edu_pie, names='Education Level', values='Count',\n",
    "              title='Distribution of Education Requirements (Top 7)')\n",
    "fig2.show()"
   ]
  },
  {
   "cell_type": "code",
   "execution_count": 5,
   "id": "3dd1b825",
   "metadata": {},
   "outputs": [
    {
     "data": {
      "application/vnd.plotly.v1+json": {
       "config": {
        "plotlyServerURL": "https://plot.ly"
       },
       "data": [
        {
         "branchvalues": "total",
         "domain": {
          "x": [
           0,
           1
          ],
          "y": [
           0,
           1
          ]
         },
         "hovertemplate": "labels=%{label}<br>Count=%{value}<br>parent=%{parent}<br>id=%{id}<extra></extra>",
         "ids": [
          "Associate/associate degree",
          "Associate/bachelor degree",
          "Associate/high school",
          "Director/bachelor degree",
          "Entry level/associate degree",
          "Entry level/bachelor degree",
          "Entry level/high school",
          "Executive/bachelor degree",
          "Internship/bachelor degree",
          "Mid-Senior level/associate degree",
          "Mid-Senior level/bachelor degree",
          "Mid-Senior level/high school",
          "Not Applicable/associate degree",
          "Not Applicable/bachelor degree",
          "Associate",
          "Director",
          "Entry level",
          "Executive",
          "Internship",
          "Mid-Senior level",
          "Not Applicable"
         ],
         "labels": [
          "associate degree",
          "bachelor degree",
          "high school",
          "bachelor degree",
          "associate degree",
          "bachelor degree",
          "high school",
          "bachelor degree",
          "bachelor degree",
          "associate degree",
          "bachelor degree",
          "high school",
          "associate degree",
          "bachelor degree",
          "Associate",
          "Director",
          "Entry level",
          "Executive",
          "Internship",
          "Mid-Senior level",
          "Not Applicable"
         ],
         "name": "",
         "parents": [
          "Associate",
          "Associate",
          "Associate",
          "Director",
          "Entry level",
          "Entry level",
          "Entry level",
          "Executive",
          "Internship",
          "Mid-Senior level",
          "Mid-Senior level",
          "Mid-Senior level",
          "Not Applicable",
          "Not Applicable",
          "",
          "",
          "",
          "",
          "",
          "",
          ""
         ],
         "type": "sunburst",
         "values": {
          "bdata": "AAAAAAAAGEAAAAAAAKCOQAAAAAAAAABAAAAAAAAAOEAAAAAAAAAcQAAAAAAA4JxAAAAAAAAAHEAAAAAAAAAcQAAAAAAAgEBAAAAAAACAQkAAAAAAACCbQAAAAAAAAPA/AAAAAAAAAEAAAAAAAIChQAAAAAAA4I5AAAAAAAAAOEAAAAAAABidQAAAAAAAABxAAAAAAACAQEAAAAAAALibQAAAAAAAhKFA",
          "dtype": "f8"
         }
        }
       ],
       "layout": {
        "legend": {
         "tracegroupgap": 0
        },
        "template": {
         "data": {
          "bar": [
           {
            "error_x": {
             "color": "#2a3f5f"
            },
            "error_y": {
             "color": "#2a3f5f"
            },
            "marker": {
             "line": {
              "color": "#E5ECF6",
              "width": 0.5
             },
             "pattern": {
              "fillmode": "overlay",
              "size": 10,
              "solidity": 0.2
             }
            },
            "type": "bar"
           }
          ],
          "barpolar": [
           {
            "marker": {
             "line": {
              "color": "#E5ECF6",
              "width": 0.5
             },
             "pattern": {
              "fillmode": "overlay",
              "size": 10,
              "solidity": 0.2
             }
            },
            "type": "barpolar"
           }
          ],
          "carpet": [
           {
            "aaxis": {
             "endlinecolor": "#2a3f5f",
             "gridcolor": "white",
             "linecolor": "white",
             "minorgridcolor": "white",
             "startlinecolor": "#2a3f5f"
            },
            "baxis": {
             "endlinecolor": "#2a3f5f",
             "gridcolor": "white",
             "linecolor": "white",
             "minorgridcolor": "white",
             "startlinecolor": "#2a3f5f"
            },
            "type": "carpet"
           }
          ],
          "choropleth": [
           {
            "colorbar": {
             "outlinewidth": 0,
             "ticks": ""
            },
            "type": "choropleth"
           }
          ],
          "contour": [
           {
            "colorbar": {
             "outlinewidth": 0,
             "ticks": ""
            },
            "colorscale": [
             [
              0,
              "#0d0887"
             ],
             [
              0.1111111111111111,
              "#46039f"
             ],
             [
              0.2222222222222222,
              "#7201a8"
             ],
             [
              0.3333333333333333,
              "#9c179e"
             ],
             [
              0.4444444444444444,
              "#bd3786"
             ],
             [
              0.5555555555555556,
              "#d8576b"
             ],
             [
              0.6666666666666666,
              "#ed7953"
             ],
             [
              0.7777777777777778,
              "#fb9f3a"
             ],
             [
              0.8888888888888888,
              "#fdca26"
             ],
             [
              1,
              "#f0f921"
             ]
            ],
            "type": "contour"
           }
          ],
          "contourcarpet": [
           {
            "colorbar": {
             "outlinewidth": 0,
             "ticks": ""
            },
            "type": "contourcarpet"
           }
          ],
          "heatmap": [
           {
            "colorbar": {
             "outlinewidth": 0,
             "ticks": ""
            },
            "colorscale": [
             [
              0,
              "#0d0887"
             ],
             [
              0.1111111111111111,
              "#46039f"
             ],
             [
              0.2222222222222222,
              "#7201a8"
             ],
             [
              0.3333333333333333,
              "#9c179e"
             ],
             [
              0.4444444444444444,
              "#bd3786"
             ],
             [
              0.5555555555555556,
              "#d8576b"
             ],
             [
              0.6666666666666666,
              "#ed7953"
             ],
             [
              0.7777777777777778,
              "#fb9f3a"
             ],
             [
              0.8888888888888888,
              "#fdca26"
             ],
             [
              1,
              "#f0f921"
             ]
            ],
            "type": "heatmap"
           }
          ],
          "histogram": [
           {
            "marker": {
             "pattern": {
              "fillmode": "overlay",
              "size": 10,
              "solidity": 0.2
             }
            },
            "type": "histogram"
           }
          ],
          "histogram2d": [
           {
            "colorbar": {
             "outlinewidth": 0,
             "ticks": ""
            },
            "colorscale": [
             [
              0,
              "#0d0887"
             ],
             [
              0.1111111111111111,
              "#46039f"
             ],
             [
              0.2222222222222222,
              "#7201a8"
             ],
             [
              0.3333333333333333,
              "#9c179e"
             ],
             [
              0.4444444444444444,
              "#bd3786"
             ],
             [
              0.5555555555555556,
              "#d8576b"
             ],
             [
              0.6666666666666666,
              "#ed7953"
             ],
             [
              0.7777777777777778,
              "#fb9f3a"
             ],
             [
              0.8888888888888888,
              "#fdca26"
             ],
             [
              1,
              "#f0f921"
             ]
            ],
            "type": "histogram2d"
           }
          ],
          "histogram2dcontour": [
           {
            "colorbar": {
             "outlinewidth": 0,
             "ticks": ""
            },
            "colorscale": [
             [
              0,
              "#0d0887"
             ],
             [
              0.1111111111111111,
              "#46039f"
             ],
             [
              0.2222222222222222,
              "#7201a8"
             ],
             [
              0.3333333333333333,
              "#9c179e"
             ],
             [
              0.4444444444444444,
              "#bd3786"
             ],
             [
              0.5555555555555556,
              "#d8576b"
             ],
             [
              0.6666666666666666,
              "#ed7953"
             ],
             [
              0.7777777777777778,
              "#fb9f3a"
             ],
             [
              0.8888888888888888,
              "#fdca26"
             ],
             [
              1,
              "#f0f921"
             ]
            ],
            "type": "histogram2dcontour"
           }
          ],
          "mesh3d": [
           {
            "colorbar": {
             "outlinewidth": 0,
             "ticks": ""
            },
            "type": "mesh3d"
           }
          ],
          "parcoords": [
           {
            "line": {
             "colorbar": {
              "outlinewidth": 0,
              "ticks": ""
             }
            },
            "type": "parcoords"
           }
          ],
          "pie": [
           {
            "automargin": true,
            "type": "pie"
           }
          ],
          "scatter": [
           {
            "fillpattern": {
             "fillmode": "overlay",
             "size": 10,
             "solidity": 0.2
            },
            "type": "scatter"
           }
          ],
          "scatter3d": [
           {
            "line": {
             "colorbar": {
              "outlinewidth": 0,
              "ticks": ""
             }
            },
            "marker": {
             "colorbar": {
              "outlinewidth": 0,
              "ticks": ""
             }
            },
            "type": "scatter3d"
           }
          ],
          "scattercarpet": [
           {
            "marker": {
             "colorbar": {
              "outlinewidth": 0,
              "ticks": ""
             }
            },
            "type": "scattercarpet"
           }
          ],
          "scattergeo": [
           {
            "marker": {
             "colorbar": {
              "outlinewidth": 0,
              "ticks": ""
             }
            },
            "type": "scattergeo"
           }
          ],
          "scattergl": [
           {
            "marker": {
             "colorbar": {
              "outlinewidth": 0,
              "ticks": ""
             }
            },
            "type": "scattergl"
           }
          ],
          "scattermap": [
           {
            "marker": {
             "colorbar": {
              "outlinewidth": 0,
              "ticks": ""
             }
            },
            "type": "scattermap"
           }
          ],
          "scattermapbox": [
           {
            "marker": {
             "colorbar": {
              "outlinewidth": 0,
              "ticks": ""
             }
            },
            "type": "scattermapbox"
           }
          ],
          "scatterpolar": [
           {
            "marker": {
             "colorbar": {
              "outlinewidth": 0,
              "ticks": ""
             }
            },
            "type": "scatterpolar"
           }
          ],
          "scatterpolargl": [
           {
            "marker": {
             "colorbar": {
              "outlinewidth": 0,
              "ticks": ""
             }
            },
            "type": "scatterpolargl"
           }
          ],
          "scatterternary": [
           {
            "marker": {
             "colorbar": {
              "outlinewidth": 0,
              "ticks": ""
             }
            },
            "type": "scatterternary"
           }
          ],
          "surface": [
           {
            "colorbar": {
             "outlinewidth": 0,
             "ticks": ""
            },
            "colorscale": [
             [
              0,
              "#0d0887"
             ],
             [
              0.1111111111111111,
              "#46039f"
             ],
             [
              0.2222222222222222,
              "#7201a8"
             ],
             [
              0.3333333333333333,
              "#9c179e"
             ],
             [
              0.4444444444444444,
              "#bd3786"
             ],
             [
              0.5555555555555556,
              "#d8576b"
             ],
             [
              0.6666666666666666,
              "#ed7953"
             ],
             [
              0.7777777777777778,
              "#fb9f3a"
             ],
             [
              0.8888888888888888,
              "#fdca26"
             ],
             [
              1,
              "#f0f921"
             ]
            ],
            "type": "surface"
           }
          ],
          "table": [
           {
            "cells": {
             "fill": {
              "color": "#EBF0F8"
             },
             "line": {
              "color": "white"
             }
            },
            "header": {
             "fill": {
              "color": "#C8D4E3"
             },
             "line": {
              "color": "white"
             }
            },
            "type": "table"
           }
          ]
         },
         "layout": {
          "annotationdefaults": {
           "arrowcolor": "#2a3f5f",
           "arrowhead": 0,
           "arrowwidth": 1
          },
          "autotypenumbers": "strict",
          "coloraxis": {
           "colorbar": {
            "outlinewidth": 0,
            "ticks": ""
           }
          },
          "colorscale": {
           "diverging": [
            [
             0,
             "#8e0152"
            ],
            [
             0.1,
             "#c51b7d"
            ],
            [
             0.2,
             "#de77ae"
            ],
            [
             0.3,
             "#f1b6da"
            ],
            [
             0.4,
             "#fde0ef"
            ],
            [
             0.5,
             "#f7f7f7"
            ],
            [
             0.6,
             "#e6f5d0"
            ],
            [
             0.7,
             "#b8e186"
            ],
            [
             0.8,
             "#7fbc41"
            ],
            [
             0.9,
             "#4d9221"
            ],
            [
             1,
             "#276419"
            ]
           ],
           "sequential": [
            [
             0,
             "#0d0887"
            ],
            [
             0.1111111111111111,
             "#46039f"
            ],
            [
             0.2222222222222222,
             "#7201a8"
            ],
            [
             0.3333333333333333,
             "#9c179e"
            ],
            [
             0.4444444444444444,
             "#bd3786"
            ],
            [
             0.5555555555555556,
             "#d8576b"
            ],
            [
             0.6666666666666666,
             "#ed7953"
            ],
            [
             0.7777777777777778,
             "#fb9f3a"
            ],
            [
             0.8888888888888888,
             "#fdca26"
            ],
            [
             1,
             "#f0f921"
            ]
           ],
           "sequentialminus": [
            [
             0,
             "#0d0887"
            ],
            [
             0.1111111111111111,
             "#46039f"
            ],
            [
             0.2222222222222222,
             "#7201a8"
            ],
            [
             0.3333333333333333,
             "#9c179e"
            ],
            [
             0.4444444444444444,
             "#bd3786"
            ],
            [
             0.5555555555555556,
             "#d8576b"
            ],
            [
             0.6666666666666666,
             "#ed7953"
            ],
            [
             0.7777777777777778,
             "#fb9f3a"
            ],
            [
             0.8888888888888888,
             "#fdca26"
            ],
            [
             1,
             "#f0f921"
            ]
           ]
          },
          "colorway": [
           "#636efa",
           "#EF553B",
           "#00cc96",
           "#ab63fa",
           "#FFA15A",
           "#19d3f3",
           "#FF6692",
           "#B6E880",
           "#FF97FF",
           "#FECB52"
          ],
          "font": {
           "color": "#2a3f5f"
          },
          "geo": {
           "bgcolor": "white",
           "lakecolor": "white",
           "landcolor": "#E5ECF6",
           "showlakes": true,
           "showland": true,
           "subunitcolor": "white"
          },
          "hoverlabel": {
           "align": "left"
          },
          "hovermode": "closest",
          "mapbox": {
           "style": "light"
          },
          "paper_bgcolor": "white",
          "plot_bgcolor": "#E5ECF6",
          "polar": {
           "angularaxis": {
            "gridcolor": "white",
            "linecolor": "white",
            "ticks": ""
           },
           "bgcolor": "#E5ECF6",
           "radialaxis": {
            "gridcolor": "white",
            "linecolor": "white",
            "ticks": ""
           }
          },
          "scene": {
           "xaxis": {
            "backgroundcolor": "#E5ECF6",
            "gridcolor": "white",
            "gridwidth": 2,
            "linecolor": "white",
            "showbackground": true,
            "ticks": "",
            "zerolinecolor": "white"
           },
           "yaxis": {
            "backgroundcolor": "#E5ECF6",
            "gridcolor": "white",
            "gridwidth": 2,
            "linecolor": "white",
            "showbackground": true,
            "ticks": "",
            "zerolinecolor": "white"
           },
           "zaxis": {
            "backgroundcolor": "#E5ECF6",
            "gridcolor": "white",
            "gridwidth": 2,
            "linecolor": "white",
            "showbackground": true,
            "ticks": "",
            "zerolinecolor": "white"
           }
          },
          "shapedefaults": {
           "line": {
            "color": "#2a3f5f"
           }
          },
          "ternary": {
           "aaxis": {
            "gridcolor": "white",
            "linecolor": "white",
            "ticks": ""
           },
           "baxis": {
            "gridcolor": "white",
            "linecolor": "white",
            "ticks": ""
           },
           "bgcolor": "#E5ECF6",
           "caxis": {
            "gridcolor": "white",
            "linecolor": "white",
            "ticks": ""
           }
          },
          "title": {
           "x": 0.05
          },
          "xaxis": {
           "automargin": true,
           "gridcolor": "white",
           "linecolor": "white",
           "ticks": "",
           "title": {
            "standoff": 15
           },
           "zerolinecolor": "white",
           "zerolinewidth": 2
          },
          "yaxis": {
           "automargin": true,
           "gridcolor": "white",
           "linecolor": "white",
           "ticks": "",
           "title": {
            "standoff": 15
           },
           "zerolinecolor": "white",
           "zerolinewidth": 2
          }
         }
        },
        "title": {
         "text": "Breakdown of Education Level within Seniority Levels"
        }
       }
      }
     },
     "metadata": {},
     "output_type": "display_data"
    }
   ],
   "source": [
    "# Sunburst Chart – Education Level within Seniority Levels\n",
    "edu_seniority = df.groupby(['Seniority level', 'education']).size().reset_index(name='Count')\n",
    "\n",
    "fig3 = px.sunburst(edu_seniority, path=['Seniority level', 'education'], values='Count',\n",
    "                   title='Breakdown of Education Level within Seniority Levels')\n",
    "fig3.show()"
   ]
  },
  {
   "cell_type": "code",
   "execution_count": 6,
   "id": "e855dfeb",
   "metadata": {},
   "outputs": [
    {
     "data": {
      "application/vnd.plotly.v1+json": {
       "config": {
        "plotlyServerURL": "https://plot.ly"
       },
       "data": [
        {
         "branchvalues": "total",
         "domain": {
          "x": [
           0,
           1
          ],
          "y": [
           0,
           1
          ]
         },
         "hovertemplate": "labels=%{label}<br>Count=%{value}<br>parent=%{parent}<br>id=%{id}<extra></extra>",
         "ids": [
          "Accounting/bachelor degree",
          "Accounting, Financial Services, and Information Technology and Services/bachelor degree",
          "Accounting, Financial Services, and Management Consulting/bachelor degree",
          "Accounting, Information Technology and Services, and Management Consulting/bachelor degree",
          "Airlines/Aviation/bachelor degree",
          "Airlines/Aviation/high school",
          "Airlines/Aviation, Aviation & Aerospace, and Defense & Space/bachelor degree",
          "Airlines/Aviation, Defense & Space, and Oil & Energy/bachelor degree",
          "Airlines/Aviation, Information Technology and Services, and Computer Software/bachelor degree",
          "Apparel & Fashion/bachelor degree",
          "Apparel & Fashion, Consumer Goods, and Retail/bachelor degree",
          "Apparel & Fashion, Furniture, and Retail/bachelor degree",
          "Apparel & Fashion, Information Technology and Services, and Retail/bachelor degree",
          "Apparel & Fashion, Internet, and Retail/bachelor degree",
          "Apparel & Fashion, Retail, and Luxury Goods & Jewelry/bachelor degree",
          "Architecture & Planning/bachelor degree",
          "Architecture & Planning and Design/bachelor degree",
          "Arts and Crafts, Building Materials, and Consumer Goods/bachelor degree",
          "Automotive/bachelor degree",
          "Automotive and Consumer Goods/bachelor degree",
          "Automotive and Electrical/Electronic Manufacturing/bachelor degree",
          "Automotive and Marketing and Advertising/bachelor degree",
          "Automotive and Retail/bachelor degree",
          "Automotive and Transportation/Trucking/Railroad/bachelor degree",
          "Automotive, Banking, and Financial Services/bachelor degree",
          "Automotive, Computer Software, and Information Technology and Services/bachelor degree",
          "Automotive, Electrical/Electronic Manufacturing, and Information Technology and Services/bachelor degree",
          "Automotive, Electrical/Electronic Manufacturing, and Mechanical or Industrial Engineering/bachelor degree",
          "Automotive, Insurance, and Financial Services/bachelor degree",
          "Automotive, Logistics and Supply Chain, and Computer Software/bachelor degree",
          "Automotive, Mechanical or Industrial Engineering, and Transportation/Trucking/Railroad/bachelor degree",
          "Automotive, Renewables & Environment, and Utilities/bachelor degree",
          "Automotive, Staffing and Recruiting, and Transportation/Trucking/Railroad/bachelor degree",
          "Aviation & Aerospace/bachelor degree",
          "Aviation & Aerospace/high school",
          "Aviation & Aerospace and Defense & Space/bachelor degree",
          "Aviation & Aerospace, Computer Software, and Defense & Space/bachelor degree",
          "Banking/bachelor degree",
          "Banking and Financial Services/bachelor degree",
          "Banking, Capital Markets, and Financial Services/bachelor degree",
          "Banking, Financial Services, and Information Technology and Services/bachelor degree",
          "Banking, Financial Services, and Investment Banking/bachelor degree",
          "Banking, Financial Services, and Investment Management/bachelor degree",
          "Banking, Investment Banking, and Investment Management/bachelor degree",
          "Biotechnology/bachelor degree",
          "Biotechnology and Medical Devices/bachelor degree",
          "Biotechnology and Pharmaceuticals/bachelor degree",
          "Biotechnology and Research/bachelor degree",
          "Biotechnology, Hospital & Health Care, and Electrical/Electronic Manufacturing/bachelor degree",
          "Biotechnology, Hospital & Health Care, and Pharmaceuticals/associate degree",
          "Biotechnology, Hospital & Health Care, and Pharmaceuticals/bachelor degree",
          "Biotechnology, Hospital & Health Care, and Pharmaceuticals/high school",
          "Biotechnology, Information Technology and Services, and Computer Software/bachelor degree",
          "Biotechnology, Medical Devices, and Computer Software/bachelor degree",
          "Biotechnology, Medical Devices, and Research/bachelor degree",
          "Biotechnology, Pharmaceuticals, and Research/bachelor degree",
          "Biotechnology, Research, and Medical Devices/bachelor degree",
          "Biotechnology, Research, and Nonprofit Organization Management/bachelor degree",
          "Biotechnology, Research, and Pharmaceuticals/bachelor degree",
          "Broadcast Media/bachelor degree",
          "Broadcast Media, Entertainment, and Media Production/bachelor degree",
          "Broadcast Media, Online Media, and Media Production/bachelor degree",
          "Building Materials and Logistics and Supply Chain/bachelor degree",
          "Capital Markets and Financial Services/bachelor degree",
          "Capital Markets, Banking, and Financial Services/bachelor degree",
          "Capital Markets, Computer Software, and Financial Services/bachelor degree",
          "Capital Markets, Financial Services, and Investment Management/bachelor degree",
          "Capital Markets, Research, and Computer Software/bachelor degree",
          "Chemicals/bachelor degree",
          "Chemicals and Plastics/bachelor degree",
          "Chemicals, Food & Beverages, and Food Production/bachelor degree",
          "Chemicals, Mechanical or Industrial Engineering, and Research/bachelor degree",
          "Chemicals, Pharmaceuticals, and Biotechnology/bachelor degree",
          "Civic & Social Organization and Nonprofit Organization Management/bachelor degree",
          "Civil Engineering/bachelor degree",
          "Commercial Real Estate/bachelor degree",
          "Commercial Real Estate, Information Technology and Services, and Research/bachelor degree",
          "Computer & Network Security/bachelor degree",
          "Computer & Network Security and Computer Software/bachelor degree",
          "Computer & Network Security, Computer Software, and Information Technology and Services/bachelor degree",
          "Computer & Network Security, Government Administration, and Information Technology and Services/bachelor degree",
          "Computer & Network Security, Information Technology and Services, and Nanotechnology/bachelor degree",
          "Computer Games/bachelor degree",
          "Computer Games and Computer Software/bachelor degree",
          "Computer Games, Computer Software, and Entertainment/bachelor degree",
          "Computer Games, Computer Software, and Internet/bachelor degree",
          "Computer Games, Information Technology and Services, and Computer Software/bachelor degree",
          "Computer Hardware/bachelor degree",
          "Computer Hardware and Computer Software/bachelor degree",
          "Computer Hardware, Computer Networking, and Computer Software/bachelor degree",
          "Computer Hardware, Computer Software, and Computer Networking/bachelor degree",
          "Computer Hardware, Computer Software, and Consumer Electronics/bachelor degree",
          "Computer Hardware, Computer Software, and Information Technology and Services/bachelor degree",
          "Computer Hardware, Computer Software, and Semiconductors/bachelor degree",
          "Computer Hardware, Defense & Space, and Information Technology and Services/bachelor degree",
          "Computer Hardware, Electrical/Electronic Manufacturing, and Information Technology and Services/bachelor degree",
          "Computer Hardware, Electrical/Electronic Manufacturing, and Semiconductors/bachelor degree",
          "Computer Hardware, Semiconductors, and Computer Software/bachelor degree",
          "Computer Networking/bachelor degree",
          "Computer Networking and Computer Software/bachelor degree",
          "Computer Networking and Information Technology and Services/bachelor degree",
          "Computer Networking, Computer Software, and Computer & Network Security/bachelor degree",
          "Computer Networking, Computer Software, and Information Technology and Services/bachelor degree",
          "Computer Networking, Computer Software, and Internet/bachelor degree",
          "Computer Networking, Electrical/Electronic Manufacturing, and Telecommunications/bachelor degree",
          "Computer Software/associate degree",
          "Computer Software/bachelor degree",
          "Computer Software and Accounting/bachelor degree",
          "Computer Software and Automotive/bachelor degree",
          "Computer Software and Computer & Network Security/bachelor degree",
          "Computer Software and Computer Hardware/bachelor degree",
          "Computer Software and Consumer Goods/bachelor degree",
          "Computer Software and Defense & Space/bachelor degree",
          "Computer Software and Design/bachelor degree",
          "Computer Software and Electrical/Electronic Manufacturing/bachelor degree",
          "Computer Software and Hospital & Health Care/bachelor degree",
          "Computer Software and Industrial Automation/bachelor degree",
          "Computer Software and Information Technology and Services/bachelor degree",
          "Computer Software and Internet/bachelor degree",
          "Computer Software and Logistics and Supply Chain/bachelor degree",
          "Computer Software and Market Research/bachelor degree",
          "Computer Software and Marketing and Advertising/bachelor degree",
          "Computer Software and Program Development/bachelor degree",
          "Computer Software and Sports/bachelor degree",
          "Computer Software and Venture Capital & Private Equity/bachelor degree",
          "Computer Software, Automotive, and Financial Services/bachelor degree",
          "Computer Software, Automotive, and Information Technology and Services/bachelor degree",
          "Computer Software, Automotive, and Telecommunications/bachelor degree",
          "Computer Software, Banking, and Computer & Network Security/bachelor degree",
          "Computer Software, Banking, and Financial Services/bachelor degree",
          "Computer Software, Biotechnology, and Hospital & Health Care/bachelor degree",
          "Computer Software, Biotechnology, and Pharmaceuticals/bachelor degree",
          "Computer Software, Broadcast Media, and Online Media/bachelor degree",
          "Computer Software, Computer & Network Security, and Computer Networking/bachelor degree",
          "Computer Software, Computer & Network Security, and Information Technology and Services/bachelor degree",
          "Computer Software, Computer Hardware, and Computer Networking/bachelor degree",
          "Computer Software, Computer Hardware, and Internet/bachelor degree",
          "Computer Software, Computer Hardware, and Research/bachelor degree",
          "Computer Software, Computer Networking, and Computer & Network Security/bachelor degree",
          "Computer Software, Computer Networking, and Computer Games/bachelor degree",
          "Computer Software, Computer Networking, and Consumer Electronics/bachelor degree",
          "Computer Software, Computer Networking, and Internet/bachelor degree",
          "Computer Software, Consumer Services, and Automotive/bachelor degree",
          "Computer Software, Consumer Services, and Entertainment/bachelor degree",
          "Computer Software, Consumer Services, and Information Technology and Services/bachelor degree",
          "Computer Software, Consumer Services, and Internet/bachelor degree",
          "Computer Software, Design, and Information Technology and Services/bachelor degree",
          "Computer Software, Entertainment, and Computer Games/bachelor degree",
          "Computer Software, Financial Services, and Accounting/bachelor degree",
          "Computer Software, Financial Services, and Hospital & Health Care/bachelor degree",
          "Computer Software, Financial Services, and Human Resources/bachelor degree",
          "Computer Software, Financial Services, and Information Services/bachelor degree",
          "Computer Software, Financial Services, and Internet/bachelor degree",
          "Computer Software, Financial Services, and Investment Management/bachelor degree",
          "Computer Software, Financial Services, and Real Estate/bachelor degree",
          "Computer Software, Health, Wellness and Fitness, and Hospital & Health Care/bachelor degree",
          "Computer Software, Hospital & Health Care, and Research/bachelor degree",
          "Computer Software, Human Resources, and Information Technology and Services/bachelor degree",
          "Computer Software, Information Services, and Information Technology and Services/bachelor degree",
          "Computer Software, Information Technology and Services, and Computer & Network Security/bachelor degree",
          "Computer Software, Information Technology and Services, and Computer Networking/bachelor degree",
          "Computer Software, Information Technology and Services, and Consumer Electronics/bachelor degree",
          "Computer Software, Information Technology and Services, and E-Learning/bachelor degree",
          "Computer Software, Information Technology and Services, and Information Services/bachelor degree",
          "Computer Software, Information Technology and Services, and Internet/bachelor degree",
          "Computer Software, Information Technology and Services, and Leisure, Travel & Tourism/bachelor degree",
          "Computer Software, Information Technology and Services, and Marketing and Advertising/bachelor degree",
          "Computer Software, Information Technology and Services, and Medical Devices/bachelor degree",
          "Computer Software, Information Technology and Services, and Outsourcing/Offshoring/bachelor degree",
          "Computer Software, Information Technology and Services, and Research/bachelor degree",
          "Computer Software, Insurance, and Financial Services/bachelor degree",
          "Computer Software, Internet, and Computer & Network Security/bachelor degree",
          "Computer Software, Internet, and Computer Games/bachelor degree",
          "Computer Software, Internet, and Consumer Goods/bachelor degree",
          "Computer Software, Internet, and Consumer Services/bachelor degree",
          "Computer Software, Internet, and Financial Services/bachelor degree",
          "Computer Software, Internet, and Hospital & Health Care/bachelor degree",
          "Computer Software, Internet, and Information Technology and Services/bachelor degree",
          "Computer Software, Internet, and Management Consulting/bachelor degree",
          "Computer Software, Internet, and Marketing and Advertising/bachelor degree",
          "Computer Software, Internet, and Real Estate/bachelor degree",
          "Computer Software, Internet, and Retail/bachelor degree",
          "Computer Software, Marketing and Advertising, and Research/bachelor degree",
          "Computer Software, Research, and Biotechnology/bachelor degree",
          "Computer Software, Semiconductors, and Wireless/bachelor degree",
          "Computer Software, Telecommunications, and Information Technology and Services/bachelor degree",
          "Construction/associate degree",
          "Construction/bachelor degree",
          "Construction/high school",
          "Construction and Machinery/bachelor degree",
          "Construction, Architecture & Planning, and Oil & Energy/associate degree",
          "Construction, Automotive, and Machinery/bachelor degree",
          "Construction, Automotive, and Transportation/Trucking/Railroad/bachelor degree",
          "Construction, Civil Engineering, and Transportation/Trucking/Railroad/bachelor degree",
          "Construction, Computer Software, and Logistics and Supply Chain/bachelor degree",
          "Construction, Entertainment, and Hospitality/bachelor degree",
          "Construction, Food & Beverages, and Financial Services/bachelor degree",
          "Construction, Food & Beverages, and Hospitality/bachelor degree",
          "Construction, Food & Beverages, and Retail/bachelor degree",
          "Construction, Food & Beverages, and Transportation/Trucking/Railroad/bachelor degree",
          "Construction, Information Technology and Services, and Computer Software/bachelor degree",
          "Construction, Information Technology and Services, and Defense & Space/bachelor degree",
          "Construction, Information Technology and Services, and Financial Services/bachelor degree",
          "Construction, Information Technology and Services, and Financial Services/high school",
          "Construction, Information Technology and Services, and Mechanical or Industrial Engineering/bachelor degree",
          "Construction, Information Technology and Services, and Staffing and Recruiting/bachelor degree",
          "Construction, Logistics and Supply Chain, and Transportation/Trucking/Railroad/bachelor degree",
          "Construction, Marketing and Advertising, and Financial Services/bachelor degree",
          "Construction, Mechanical or Industrial Engineering, and Oil & Energy/bachelor degree",
          "Construction, Nonprofit Organization Management, and Retail/bachelor degree",
          "Construction, Oil & Energy, and Financial Services/bachelor degree",
          "Construction, Retail, and Hospital & Health Care/associate degree",
          "Construction, Retail, and Hospital & Health Care/bachelor degree",
          "Construction, Retail, and Hospital & Health Care/high school",
          "Construction, Staffing and Recruiting, and Hospital & Health Care/bachelor degree",
          "Consumer Electronics/bachelor degree",
          "Consumer Electronics and Automotive/bachelor degree",
          "Consumer Electronics and Information Technology and Services/bachelor degree",
          "Consumer Electronics and Retail/bachelor degree",
          "Consumer Electronics, Computer Software, and Electrical/Electronic Manufacturing/bachelor degree",
          "Consumer Electronics, Entertainment, and Broadcast Media/bachelor degree",
          "Consumer Goods/bachelor degree",
          "Consumer Goods and Food & Beverages/bachelor degree",
          "Consumer Goods, Banking, and Financial Services/bachelor degree",
          "Consumer Goods, Entertainment, and Online Media/associate degree",
          "Consumer Goods, Entertainment, and Online Media/bachelor degree",
          "Consumer Goods, Food & Beverages, and Retail/bachelor degree",
          "Consumer Goods, Food Production, and Food & Beverages/bachelor degree",
          "Consumer Goods, Food Production, and Health, Wellness and Fitness/bachelor degree",
          "Consumer Goods, Health, Wellness and Fitness, and Food Production/bachelor degree",
          "Consumer Goods, Hospitality, and Restaurants/bachelor degree",
          "Consumer Goods, Information Technology and Services, and Wireless/bachelor degree",
          "Consumer Goods, Logistics and Supply Chain, and Retail/bachelor degree",
          "Consumer Goods, Market Research, and Retail/bachelor degree",
          "Consumer Goods, Retail, and Financial Services/bachelor degree",
          "Consumer Services/bachelor degree",
          "Consumer Services, Financial Services, and Information Technology and Services/bachelor degree",
          "Consumer Services, Health, Wellness and Fitness, and Information Technology and Services/bachelor degree",
          "Cosmetics/bachelor degree",
          "Defense & Space/bachelor degree",
          "Defense & Space and Telecommunications/bachelor degree",
          "Defense & Space, Aviation & Aerospace, and Military/bachelor degree",
          "Defense & Space, Computer Software, and Aviation & Aerospace/bachelor degree",
          "Defense & Space, Information Technology and Services, and Electrical/Electronic Manufacturing/bachelor degree",
          "Design, Computer Software, and Internet/bachelor degree",
          "E-Learning/bachelor degree",
          "Education Management/bachelor degree",
          "Education Management and E-Learning/bachelor degree",
          "Education Management, Information Services, and Information Technology and Services/bachelor degree",
          "Electrical/Electronic Manufacturing/bachelor degree",
          "Electrical/Electronic Manufacturing and Computer Software/bachelor degree",
          "Electrical/Electronic Manufacturing, Automotive, and Mechanical or Industrial Engineering/bachelor degree",
          "Electrical/Electronic Manufacturing, Automotive, and Oil & Energy/bachelor degree",
          "Electrical/Electronic Manufacturing, Aviation & Aerospace, and Mechanical or Industrial Engineering/bachelor degree",
          "Electrical/Electronic Manufacturing, Computer Hardware, and Semiconductors/bachelor degree",
          "Electrical/Electronic Manufacturing, Computer Software, and Automotive/bachelor degree",
          "Electrical/Electronic Manufacturing, Computer Software, and Consumer Electronics/bachelor degree",
          "Electrical/Electronic Manufacturing, Computer Software, and Mechanical or Industrial Engineering/bachelor degree",
          "Electrical/Electronic Manufacturing, Computer Software, and Oil & Energy/bachelor degree",
          "Electrical/Electronic Manufacturing, Computer Software, and Semiconductors/bachelor degree",
          "Electrical/Electronic Manufacturing, Construction, and Automotive/bachelor degree",
          "Electrical/Electronic Manufacturing, Construction, and Computer Software/bachelor degree",
          "Electrical/Electronic Manufacturing, Construction, and Mechanical or Industrial Engineering/bachelor degree",
          "Electrical/Electronic Manufacturing, Construction, and Staffing and Recruiting/bachelor degree",
          "Electrical/Electronic Manufacturing, Defense & Space, and Aviation & Aerospace/bachelor degree",
          "Electrical/Electronic Manufacturing, Defense & Space, and Computer Software/bachelor degree",
          "Electrical/Electronic Manufacturing, Industrial Automation, and Mechanical or Industrial Engineering/bachelor degree",
          "Electrical/Electronic Manufacturing, Information Technology and Services, and Automotive/bachelor degree",
          "Electrical/Electronic Manufacturing, Information Technology and Services, and Computer Software/bachelor degree",
          "Electrical/Electronic Manufacturing, Information Technology and Services, and Mechanical or Industrial Engineering/bachelor degree",
          "Electrical/Electronic Manufacturing, Information Technology and Services, and Staffing and Recruiting/bachelor degree",
          "Electrical/Electronic Manufacturing, Information Technology and Services, and Telecommunications/bachelor degree",
          "Electrical/Electronic Manufacturing, Logistics and Supply Chain, and Machinery/bachelor degree",
          "Electrical/Electronic Manufacturing, Machinery, and Mechanical or Industrial Engineering/bachelor degree",
          "Electrical/Electronic Manufacturing, Mechanical or Industrial Engineering, and Consumer Goods/bachelor degree",
          "Electrical/Electronic Manufacturing, Mechanical or Industrial Engineering, and Medical Devices/bachelor degree",
          "Electrical/Electronic Manufacturing, Mechanical or Industrial Engineering, and Semiconductors/bachelor degree",
          "Electrical/Electronic Manufacturing, Medical Devices, and Biotechnology/bachelor degree",
          "Electrical/Electronic Manufacturing, Nanotechnology, and Semiconductors/bachelor degree",
          "Entertainment/bachelor degree",
          "Entertainment and Broadcast Media/bachelor degree",
          "Entertainment and Information Technology and Services/bachelor degree",
          "Entertainment and Marketing and Advertising/bachelor degree",
          "Entertainment and Sports/bachelor degree",
          "Entertainment, Broadcast Media, and Online Media/bachelor degree",
          "Entertainment, Internet, and Motion Pictures and Film/bachelor degree",
          "Environmental Services/bachelor degree",
          "Environmental Services, Civil Engineering, and Oil & Energy/bachelor degree",
          "Environmental Services, Information Technology and Services, and Staffing and Recruiting/bachelor degree",
          "Farming/bachelor degree",
          "Financial Services/associate degree",
          "Financial Services/bachelor degree",
          "Financial Services and Computer Software/bachelor degree",
          "Financial Services and Information Technology and Services/bachelor degree",
          "Financial Services and Insurance/bachelor degree",
          "Financial Services and Investment Management/bachelor degree",
          "Financial Services and Retail/bachelor degree",
          "Financial Services, Automotive, and Information Technology and Services/bachelor degree",
          "Financial Services, Banking, and Information Technology and Services/bachelor degree",
          "Financial Services, Capital Markets, and Investment Banking/bachelor degree",
          "Financial Services, Computer Software, and Internet/bachelor degree",
          "Financial Services, Health, Wellness and Fitness, and Hospital & Health Care/bachelor degree",
          "Financial Services, Hospital & Health Care, and Management Consulting/bachelor degree",
          "Financial Services, Information Services, and Information Technology and Services/bachelor degree",
          "Financial Services, Information Technology and Services, and Computer Software/bachelor degree",
          "Financial Services, Information Technology and Services, and Information Services/bachelor degree",
          "Financial Services, Information Technology and Services, and Internet/bachelor degree",
          "Financial Services, Information Technology and Services, and Market Research/bachelor degree",
          "Financial Services, Insurance, and Information Technology and Services/bachelor degree",
          "Financial Services, Internet, and Computer Software/bachelor degree",
          "Financial Services, Investment Banking, and Investment Management/bachelor degree",
          "Financial Services, Investment Management, and Banking/bachelor degree",
          "Financial Services, Logistics and Supply Chain, and Transportation/Trucking/Railroad/bachelor degree",
          "Financial Services, Real Estate, and Hospitality/bachelor degree",
          "Food & Beverages/bachelor degree",
          "Food & Beverages and Information Technology and Services/bachelor degree",
          "Food & Beverages and Logistics and Supply Chain/bachelor degree",
          "Food & Beverages and Retail/bachelor degree",
          "Food & Beverages, Computer Software, and Food Production/bachelor degree",
          "Food & Beverages, Food Production, and Consumer Goods/bachelor degree",
          "Food & Beverages, Food Production, and Retail/bachelor degree",
          "Food & Beverages, Retail, and Financial Services/bachelor degree",
          "Food & Beverages, Retail, and Hospital & Health Care/bachelor degree",
          "Food Production/bachelor degree",
          "Furniture/bachelor degree",
          "Government Administration/bachelor degree",
          "Government Administration and Information Technology and Services/bachelor degree",
          "Government Administration, Information Services, and Information Technology and Services/bachelor degree",
          "Government Relations/bachelor degree",
          "Health, Wellness and Fitness/bachelor degree",
          "Health, Wellness and Fitness and Computer Software/bachelor degree",
          "Health, Wellness and Fitness and Hospital & Health Care/bachelor degree",
          "Health, Wellness and Fitness and Mental Health Care/bachelor degree",
          "Health, Wellness and Fitness, Hospital & Health Care, and Medical Practice/bachelor degree",
          "Health, Wellness and Fitness, Medical Devices, and Information Technology and Services/bachelor degree",
          "Health, Wellness and Fitness, Medical Practice, and Hospital & Health Care/bachelor degree",
          "Health, Wellness and Fitness, Pharmaceuticals, and Retail/bachelor degree",
          "Higher Education/bachelor degree",
          "Higher Education, E-Learning, and Computer Software/bachelor degree",
          "Higher Education, Government Administration, and Financial Services/bachelor degree",
          "Hospital & Health Care/associate degree",
          "Hospital & Health Care/bachelor degree",
          "Hospital & Health Care and Biotechnology/bachelor degree",
          "Hospital & Health Care and Health, Wellness and Fitness/bachelor degree",
          "Hospital & Health Care and Information Technology and Services/bachelor degree",
          "Hospital & Health Care and Insurance/bachelor degree",
          "Hospital & Health Care, Financial Services, and Computer Software/bachelor degree",
          "Hospital & Health Care, Health, Wellness and Fitness, and Medical Devices/bachelor degree",
          "Hospital & Health Care, Insurance, and Pharmaceuticals/bachelor degree",
          "Hospital & Health Care, Logistics and Supply Chain, and Medical Devices/bachelor degree",
          "Hospital & Health Care, Medical Devices, and Pharmaceuticals/bachelor degree",
          "Hospital & Health Care, Pharmaceuticals, and Biotechnology/bachelor degree",
          "Hospitality/bachelor degree",
          "Hospitality, Information Technology and Services, and Internet/bachelor degree",
          "Hospitality, Internet, and Leisure, Travel & Tourism/bachelor degree",
          "Hospitality, Internet, and Restaurants/bachelor degree",
          "Human Resources/bachelor degree",
          "Human Resources, Information Technology and Services, and Marketing and Advertising/bachelor degree",
          "Industrial Automation/bachelor degree",
          "Industrial Automation and Computer Software/bachelor degree",
          "Industrial Automation and Mechanical or Industrial Engineering/bachelor degree",
          "Industrial Automation, Aviation & Aerospace, and Computer Software/bachelor degree",
          "Information Services/bachelor degree",
          "Information Services and Computer Software/bachelor degree",
          "Information Services and Information Technology and Services/bachelor degree",
          "Information Services and Internet/bachelor degree",
          "Information Services, Financial Services, and Banking/bachelor degree",
          "Information Services, Information Technology and Services, and Computer Networking/bachelor degree",
          "Information Services, Information Technology and Services, and Computer Software/bachelor degree",
          "Information Services, Information Technology and Services, and Financial Services/bachelor degree",
          "Information Services, Information Technology and Services, and Health, Wellness and Fitness/bachelor degree",
          "Information Technology and Services/bachelor degree",
          "Information Technology and Services and Automotive/bachelor degree",
          "Information Technology and Services and Computer & Network Security/bachelor degree",
          "Information Technology and Services and Computer Hardware/bachelor degree",
          "Information Technology and Services and Computer Software/bachelor degree",
          "Information Technology and Services and Consumer Electronics/bachelor degree",
          "Information Technology and Services and Consumer Services/bachelor degree",
          "Information Technology and Services and Defense & Space/bachelor degree",
          "Information Technology and Services and Financial Services/bachelor degree",
          "Information Technology and Services and Government Administration/bachelor degree",
          "Information Technology and Services and Health, Wellness and Fitness/bachelor degree",
          "Information Technology and Services and Hospital & Health Care/bachelor degree",
          "Information Technology and Services and Information Services/bachelor degree",
          "Information Technology and Services and Insurance/bachelor degree",
          "Information Technology and Services and Internet/bachelor degree",
          "Information Technology and Services and Management Consulting/bachelor degree",
          "Information Technology and Services and Medical Devices/bachelor degree",
          "Information Technology and Services and Renewables & Environment/bachelor degree",
          "Information Technology and Services and Retail/bachelor degree",
          "Information Technology and Services and Semiconductors/bachelor degree",
          "Information Technology and Services and Telecommunications/bachelor degree",
          "Information Technology and Services and Transportation/Trucking/Railroad/bachelor degree",
          "Information Technology and Services, Accounting, and Financial Services/bachelor degree",
          "Information Technology and Services, Automotive, and Financial Services/bachelor degree",
          "Information Technology and Services, Banking, and Financial Services/bachelor degree",
          "Information Technology and Services, Biotechnology, and Hospital & Health Care/bachelor degree",
          "Information Technology and Services, Biotechnology, and Medical Devices/bachelor degree",
          "Information Technology and Services, Commercial Real Estate, and Computer Software/bachelor degree",
          "Information Technology and Services, Computer & Network Security, and Computer Software/bachelor degree",
          "Information Technology and Services, Computer & Network Security, and Information Services/bachelor degree",
          "Information Technology and Services, Computer & Network Security, and Security and Investigations/bachelor degree",
          "Information Technology and Services, Computer Hardware, and Computer & Network Security/bachelor degree",
          "Information Technology and Services, Computer Hardware, and Computer Software/bachelor degree",
          "Information Technology and Services, Computer Networking, and Computer Software/bachelor degree",
          "Information Technology and Services, Computer Software, and Automotive/bachelor degree",
          "Information Technology and Services, Computer Software, and Aviation & Aerospace/bachelor degree",
          "Information Technology and Services, Computer Software, and Biotechnology/bachelor degree",
          "Information Technology and Services, Computer Software, and Business Supplies and Equipment/bachelor degree",
          "Information Technology and Services, Computer Software, and Computer & Network Security/bachelor degree",
          "Information Technology and Services, Computer Software, and Computer Networking/bachelor degree",
          "Information Technology and Services, Computer Software, and Financial Services/associate degree",
          "Information Technology and Services, Computer Software, and Financial Services/bachelor degree",
          "Information Technology and Services, Computer Software, and Hospital & Health Care/bachelor degree",
          "Information Technology and Services, Computer Software, and Human Resources/bachelor degree",
          "Information Technology and Services, Computer Software, and Information Services/bachelor degree",
          "Information Technology and Services, Computer Software, and Insurance/bachelor degree",
          "Information Technology and Services, Computer Software, and Internet/associate degree",
          "Information Technology and Services, Computer Software, and Internet/bachelor degree",
          "Information Technology and Services, Computer Software, and Logistics and Supply Chain/bachelor degree",
          "Information Technology and Services, Computer Software, and Management Consulting/bachelor degree",
          "Information Technology and Services, Computer Software, and Mechanical or Industrial Engineering/bachelor degree",
          "Information Technology and Services, Computer Software, and Oil & Energy/bachelor degree",
          "Information Technology and Services, Computer Software, and Pharmaceuticals/bachelor degree",
          "Information Technology and Services, Computer Software, and Public Safety/bachelor degree",
          "Information Technology and Services, Computer Software, and Research/bachelor degree",
          "Information Technology and Services, Computer Software, and Semiconductors/bachelor degree",
          "Information Technology and Services, Computer Software, and Staffing and Recruiting/bachelor degree",
          "Information Technology and Services, Computer Software, and Telecommunications/bachelor degree",
          "Information Technology and Services, Computer Software, and Utilities/bachelor degree",
          "Information Technology and Services, Consumer Electronics, and Consumer Services/bachelor degree",
          "Information Technology and Services, Consumer Electronics, and Marketing and Advertising/bachelor degree",
          "Information Technology and Services, Defense & Space, and Aviation & Aerospace/bachelor degree",
          "Information Technology and Services, Defense & Space, and Computer & Network Security/bachelor degree",
          "Information Technology and Services, Defense & Space, and Computer Software/bachelor degree",
          "Information Technology and Services, Defense & Space, and Research/bachelor degree",
          "Information Technology and Services, Defense & Space, and Telecommunications/bachelor degree",
          "Information Technology and Services, Design, and Computer Software/bachelor degree",
          "Information Technology and Services, Design, and Hospital & Health Care/bachelor degree",
          "Information Technology and Services, Electrical/Electronic Manufacturing, and Oil & Energy/bachelor degree",
          "Information Technology and Services, Financial Services, and Banking/bachelor degree",
          "Information Technology and Services, Financial Services, and Hospital & Health Care/bachelor degree",
          "Information Technology and Services, Financial Services, and Investment Banking/bachelor degree",
          "Information Technology and Services, Financial Services, and Real Estate/bachelor degree",
          "Information Technology and Services, Financial Services, and Transportation/Trucking/Railroad/associate degree",
          "Information Technology and Services, Government Relations, and Architecture & Planning/bachelor degree",
          "Information Technology and Services, Higher Education, and Computer Software/bachelor degree",
          "Information Technology and Services, Hospital & Health Care, and Pharmaceuticals/bachelor degree",
          "Information Technology and Services, Information Services, and Capital Markets/bachelor degree",
          "Information Technology and Services, Information Services, and Research/bachelor degree",
          "Information Technology and Services, Insurance, and Financial Services/bachelor degree",
          "Information Technology and Services, Insurance, and Hospital & Health Care/bachelor degree",
          "Information Technology and Services, Internet, and Computer & Network Security/bachelor degree",
          "Information Technology and Services, Internet, and Market Research/bachelor degree",
          "Information Technology and Services, Internet, and Marketing and Advertising/bachelor degree",
          "Information Technology and Services, Internet, and Online Media/bachelor degree",
          "Information Technology and Services, Internet, and Staffing and Recruiting/bachelor degree",
          "Information Technology and Services, Internet, and Telecommunications/associate degree",
          "Information Technology and Services, Internet, and Telecommunications/bachelor degree",
          "Information Technology and Services, Machinery, and Staffing and Recruiting/bachelor degree",
          "Information Technology and Services, Management Consulting, and Financial Services/bachelor degree",
          "Information Technology and Services, Management Consulting, and Outsourcing/Offshoring/bachelor degree",
          "Information Technology and Services, Mechanical or Industrial Engineering, and Financial Services/bachelor degree",
          "Information Technology and Services, Nonprofit Organization Management, and Computer Software/bachelor degree",
          "Information Technology and Services, Oil & Energy, and Financial Services/bachelor degree",
          "Information Technology and Services, Pharmaceuticals, and Biotechnology/bachelor degree",
          "Information Technology and Services, Retail, and Consumer Electronics/bachelor degree",
          "Information Technology and Services, Retail, and Financial Services/bachelor degree",
          "Information Technology and Services, Semiconductors, and Wireless/bachelor degree",
          "Information Technology and Services, Staffing and Recruiting, and Financial Services/bachelor degree",
          "Information Technology and Services, Staffing and Recruiting, and Hospital & Health Care/associate degree",
          "Information Technology and Services, Staffing and Recruiting, and Hospital & Health Care/bachelor degree",
          "Information Technology and Services, Staffing and Recruiting, and Human Resources/bachelor degree",
          "Information Technology and Services, Staffing and Recruiting, and Management Consulting/bachelor degree",
          "Information Technology and Services, Staffing and Recruiting, and Pharmaceuticals/bachelor degree",
          "Information Technology and Services, Telecommunications, and Financial Services/bachelor degree",
          "Information Technology and Services, Transportation/Trucking/Railroad, and Warehousing/bachelor degree",
          "Insurance/bachelor degree",
          "Insurance and Consumer Services/bachelor degree",
          "Insurance and Financial Services/bachelor degree",
          "Insurance and Health, Wellness and Fitness/bachelor degree",
          "Insurance and Management Consulting/bachelor degree",
          "Insurance and Marketing and Advertising/bachelor degree",
          "Insurance and Research/bachelor degree",
          "Insurance, Computer Software, and Online Media/bachelor degree",
          "Insurance, Financial Services, and Hospital & Health Care/bachelor degree",
          "Insurance, Health, Wellness and Fitness, and Information Technology and Services/bachelor degree",
          "Internet/associate degree",
          "Internet/bachelor degree",
          "Internet and Computer Software/bachelor degree",
          "Internet and Financial Services/bachelor degree",
          "Internet and Information Technology and Services/bachelor degree",
          "Internet and Leisure, Travel & Tourism/bachelor degree",
          "Internet, Automotive, and Consumer Services/bachelor degree",
          "Internet, Computer Software, and Computer Games/bachelor degree",
          "Internet, Computer Software, and Financial Services/bachelor degree",
          "Internet, Computer Software, and Health, Wellness and Fitness/bachelor degree",
          "Internet, Computer Software, and Information Technology and Services/bachelor degree",
          "Internet, Computer Software, and Real Estate/bachelor degree",
          "Internet, Consumer Goods, and Retail/bachelor degree",
          "Internet, Financial Services, and Accounting/bachelor degree",
          "Internet, Financial Services, and Consumer Services/bachelor degree",
          "Internet, Financial Services, and Hospital & Health Care/bachelor degree",
          "Internet, Financial Services, and Real Estate/bachelor degree",
          "Internet, Health, Wellness and Fitness, and Mental Health Care/bachelor degree",
          "Internet, Information Technology and Services, and Computer Software/bachelor degree",
          "Internet, Information Technology and Services, and Information Services/bachelor degree",
          "Internet, Information Technology and Services, and Media Production/bachelor degree",
          "Internet, Insurance, and Financial Services/bachelor degree",
          "Internet, Marketing and Advertising, and Computer Software/bachelor degree",
          "Internet, Online Media, and Information Technology and Services/bachelor degree",
          "Investment Banking, Banking, and Investment Management/bachelor degree",
          "Investment Banking, Investment Management, and Banking/bachelor degree",
          "Investment Management/bachelor degree",
          "Investment Management and Financial Services/bachelor degree",
          "Investment Management, Financial Services, and Capital Markets/bachelor degree",
          "Law Enforcement, Computer Networking, and Information Technology and Services/bachelor degree",
          "Law Enforcement, Information Technology and Services, and Computer Software/bachelor degree",
          "Legal Services/bachelor degree",
          "Leisure, Travel & Tourism/bachelor degree",
          "Leisure, Travel & Tourism and Hospitality/bachelor degree",
          "Logistics and Supply Chain/bachelor degree",
          "Logistics and Supply Chain and Pharmaceuticals/bachelor degree",
          "Logistics and Supply Chain, Financial Services, and Transportation/Trucking/Railroad/bachelor degree",
          "Logistics and Supply Chain, Human Resources, and Financial Services/bachelor degree",
          "Logistics and Supply Chain, Public Relations and Communications, and International Trade and Development/bachelor degree",
          "Machinery/bachelor degree",
          "Machinery and Farming/bachelor degree",
          "Machinery and Industrial Automation/bachelor degree",
          "Machinery, Mechanical or Industrial Engineering, and Human Resources/bachelor degree",
          "Machinery, Mechanical or Industrial Engineering, and Staffing and Recruiting/bachelor degree",
          "Machinery, Staffing and Recruiting, and Financial Services/bachelor degree",
          "Management Consulting/bachelor degree",
          "Management Consulting and Computer Software/bachelor degree",
          "Management Consulting and Information Technology and Services/bachelor degree",
          "Management Consulting, Accounting, and Information Technology and Services/bachelor degree",
          "Management Consulting, Financial Services, and Accounting/bachelor degree",
          "Management Consulting, Information Technology and Services, and Biotechnology/bachelor degree",
          "Management Consulting, Information Technology and Services, and Industrial Automation/bachelor degree",
          "Management Consulting, Market Research, and Marketing and Advertising/bachelor degree",
          "Maritime/bachelor degree",
          "Market Research/bachelor degree",
          "Market Research, Retail, and Consumer Goods/bachelor degree",
          "Marketing and Advertising/bachelor degree",
          "Marketing and Advertising and Financial Services/bachelor degree",
          "Marketing and Advertising and Health, Wellness and Fitness/bachelor degree",
          "Marketing and Advertising and Information Technology and Services/bachelor degree",
          "Marketing and Advertising, Apparel & Fashion, and Retail/bachelor degree",
          "Marketing and Advertising, Automotive, and Financial Services/bachelor degree",
          "Marketing and Advertising, Chemicals, and Staffing and Recruiting/bachelor degree",
          "Marketing and Advertising, Computer Software, and Entertainment/bachelor degree",
          "Marketing and Advertising, Computer Software, and Financial Services/bachelor degree",
          "Marketing and Advertising, Computer Software, and Hospital & Health Care/bachelor degree",
          "Marketing and Advertising, Computer Software, and Hospital & Health Care/high school",
          "Marketing and Advertising, Computer Software, and Information Technology and Services/bachelor degree",
          "Marketing and Advertising, Computer Software, and Internet/bachelor degree",
          "Marketing and Advertising, Consumer Goods, and Retail/bachelor degree",
          "Marketing and Advertising, Design, and Graphic Design/bachelor degree",
          "Marketing and Advertising, Design, and Internet/bachelor degree",
          "Marketing and Advertising, Food & Beverages, and Computer Software/bachelor degree",
          "Marketing and Advertising, Information Technology and Services, and Computer Software/bachelor degree",
          "Marketing and Advertising, Information Technology and Services, and Entertainment/bachelor degree",
          "Marketing and Advertising, Information Technology and Services, and Financial Services/bachelor degree",
          "Marketing and Advertising, Information Technology and Services, and Information Services/bachelor degree",
          "Marketing and Advertising, Information Technology and Services, and Internet/bachelor degree",
          "Marketing and Advertising, Information Technology and Services, and Staffing and Recruiting/bachelor degree",
          "Marketing and Advertising, Internet, and Consumer Goods/bachelor degree",
          "Marketing and Advertising, Internet, and Financial Services/bachelor degree",
          "Marketing and Advertising, Internet, and Retail/bachelor degree",
          "Marketing and Advertising, Internet, and Staffing and Recruiting/bachelor degree",
          "Marketing and Advertising, Market Research, and Research/bachelor degree",
          "Marketing and Advertising, Nonprofit Organization Management, and Insurance/bachelor degree",
          "Marketing and Advertising, Online Media, and Internet/bachelor degree",
          "Marketing and Advertising, Pharmaceuticals, and Online Media/bachelor degree",
          "Marketing and Advertising, Retail, and Financial Services/bachelor degree",
          "Mechanical or Industrial Engineering/bachelor degree",
          "Mechanical or Industrial Engineering, Aviation & Aerospace, and Airlines/Aviation/bachelor degree",
          "Media Production, Online Media, and Broadcast Media/bachelor degree",
          "Medical Devices/bachelor degree",
          "Medical Devices, Biotechnology, and Hospital & Health Care/bachelor degree",
          "Medical Devices, Biotechnology, and Pharmaceuticals/bachelor degree",
          "Medical Devices, Computer Software, and Hospital & Health Care/bachelor degree",
          "Medical Devices, Computer Software, and Pharmaceuticals/bachelor degree",
          "Medical Devices, Health, Wellness and Fitness, and Hospital & Health Care/bachelor degree",
          "Medical Devices, Hospital & Health Care, and Biotechnology/bachelor degree",
          "Medical Devices, Hospital & Health Care, and Information Technology and Services/bachelor degree",
          "Medical Devices, Hospital & Health Care, and Pharmaceuticals/bachelor degree",
          "Medical Devices, Pharmaceuticals, and Hospital & Health Care/bachelor degree",
          "Mental Health Care/bachelor degree",
          "Mental Health Care, Health, Wellness and Fitness, and Hospital & Health Care/bachelor degree",
          "Music, Computer Software, and Entertainment/bachelor degree",
          "Music, Internet, and Computer Software/bachelor degree",
          "Music, Research, and Computer Software/bachelor degree",
          "Nonprofit Organization Management/bachelor degree",
          "Nonprofit Organization Management and Fund-Raising/bachelor degree",
          "Nonprofit Organization Management and Mental Health Care/bachelor degree",
          "Nonprofit Organization Management, Education Management, and Maritime/bachelor degree",
          "Nonprofit Organization Management, Financial Services, and Hospital & Health Care/bachelor degree",
          "Nonprofit Organization Management, Financial Services, and Real Estate/bachelor degree",
          "Nonprofit Organization Management, Government Administration, and Hospital & Health Care/bachelor degree",
          "Nonprofit Organization Management, Health, Wellness and Fitness, and Hospital & Health Care/bachelor degree",
          "Nonprofit Organization Management, Higher Education, and Education Management/bachelor degree",
          "Nonprofit Organization Management, Insurance, and Financial Services/bachelor degree",
          "Nonprofit Organization Management, Internet, and Insurance/bachelor degree",
          "Nonprofit Organization Management, Management Consulting, and Financial Services/bachelor degree",
          "Nonprofit Organization Management, Research, and Management Consulting/bachelor degree",
          "Oil & Energy/bachelor degree",
          "Oil & Energy and Renewables & Environment/bachelor degree",
          "Oil & Energy, Management Consulting, and Financial Services/bachelor degree",
          "Online Media/bachelor degree",
          "Online Media, Computer Software, and Internet/bachelor degree",
          "Online Media, Entertainment, and Computer Software/bachelor degree",
          "Online Media, Internet, and Entertainment/bachelor degree",
          "Online Media, Publishing, and Newspapers/bachelor degree",
          "Outsourcing/Offshoring/bachelor degree",
          "Pharmaceuticals/bachelor degree",
          "Pharmaceuticals and Biotechnology/bachelor degree",
          "Pharmaceuticals and Hospital & Health Care/associate degree",
          "Pharmaceuticals and Medical Devices/bachelor degree",
          "Pharmaceuticals, Biotechnology, and Medical Devices/bachelor degree",
          "Pharmaceuticals, Health, Wellness and Fitness, and International Affairs/bachelor degree",
          "Primary/Secondary Education, Higher Education, and Government Administration/bachelor degree",
          "Printing/bachelor degree",
          "Professional Training & Coaching/bachelor degree",
          "Public Safety/bachelor degree",
          "Public Safety, Judiciary, and Law Enforcement/bachelor degree",
          "Publishing/bachelor degree",
          "Publishing, Computer Software, and Online Media/bachelor degree",
          "Publishing, Information Technology and Services, and E-Learning/bachelor degree",
          "Publishing, Online Media, and Media Production/bachelor degree",
          "Railroad Manufacture and Transportation/Trucking/Railroad/bachelor degree",
          "Real Estate/bachelor degree",
          "Real Estate and Computer Software/bachelor degree",
          "Renewables & Environment/bachelor degree",
          "Renewables & Environment, Information Technology and Services, and Computer Software/bachelor degree",
          "Research/bachelor degree",
          "Research and Higher Education/bachelor degree",
          "Research and Information Technology and Services/bachelor degree",
          "Research, Biotechnology, and Hospital & Health Care/bachelor degree",
          "Research, Biotechnology, and Pharmaceuticals/bachelor degree",
          "Research, Computer Software, and Biotechnology/bachelor degree",
          "Restaurants/bachelor degree",
          "Restaurants, Facilities Services, and Hospitality/bachelor degree",
          "Restaurants, Food & Beverages, and Food Production/bachelor degree",
          "Restaurants, Hospitality, and Information Technology and Services/bachelor degree",
          "Retail/bachelor degree",
          "Retail/high school",
          "Retail and Apparel & Fashion/bachelor degree",
          "Retail and Consumer Goods/bachelor degree",
          "Retail and Food & Beverages/bachelor degree",
          "Retail, Apparel & Fashion, and Consumer Goods/bachelor degree",
          "Retail, Automotive, and Information Technology and Services/bachelor degree",
          "Retail, Consumer Goods, and Internet/bachelor degree",
          "Retail, Health, Wellness and Fitness, and Hospital & Health Care/bachelor degree",
          "Retail, Health, Wellness and Fitness, and Information Technology and Services/bachelor degree",
          "Security and Investigations/bachelor degree",
          "Semiconductors/bachelor degree",
          "Semiconductors and Accounting/bachelor degree",
          "Semiconductors and Electrical/Electronic Manufacturing/associate degree",
          "Semiconductors and Electrical/Electronic Manufacturing/bachelor degree",
          "Semiconductors, Computer Software, and Computer Hardware/bachelor degree",
          "Semiconductors, Telecommunications, and Medical Devices/bachelor degree",
          "Sporting Goods, Computer Software, and Information Technology and Services/bachelor degree",
          "Sporting Goods, Retail, and Information Technology and Services/bachelor degree",
          "Sports/bachelor degree",
          "Staffing and Recruiting/bachelor degree",
          "Staffing and Recruiting and Chemicals/bachelor degree",
          "Staffing and Recruiting and Consumer Services/bachelor degree",
          "Staffing and Recruiting and Financial Services/bachelor degree",
          "Staffing and Recruiting and Information Technology and Services/bachelor degree",
          "Staffing and Recruiting, Banking, and Financial Services/bachelor degree",
          "Staffing and Recruiting, Computer Hardware, and Computer Software/bachelor degree",
          "Staffing and Recruiting, Computer Networking, and Information Technology and Services/bachelor degree",
          "Staffing and Recruiting, Financial Services, and Hospital & Health Care/bachelor degree",
          "Staffing and Recruiting, Financial Services, and Information Technology and Services/bachelor degree",
          "Telecommunications/associate degree",
          "Telecommunications/bachelor degree",
          "Telecommunications and Aviation & Aerospace/bachelor degree",
          "Telecommunications and Computer Networking/bachelor degree",
          "Telecommunications and Information Technology and Services/bachelor degree",
          "Telecommunications, Biotechnology, and Information Technology and Services/bachelor degree",
          "Telecommunications, Hospital & Health Care, and Information Technology and Services/bachelor degree",
          "Telecommunications, Information Technology and Services, and Computer & Network Security/bachelor degree",
          "Translation and Localization/bachelor degree",
          "Transportation/Trucking/Railroad/bachelor degree",
          "Utilities/bachelor degree",
          "Venture Capital & Private Equity/bachelor degree",
          "Wholesale, Consumer Goods, and Retail/bachelor degree",
          "Wine and Spirits, Food & Beverages, and Consumer Goods/bachelor degree",
          "Wireless and Telecommunications/bachelor degree",
          "Wireless, Computer Software, and Computer Hardware/bachelor degree",
          "Wireless, Information Technology and Services, and Telecommunications/bachelor degree",
          "Accounting",
          "Accounting, Financial Services, and Information Technology and Services",
          "Accounting, Financial Services, and Management Consulting",
          "Accounting, Information Technology and Services, and Management Consulting",
          "Airlines/Aviation",
          "Airlines/Aviation, Aviation & Aerospace, and Defense & Space",
          "Airlines/Aviation, Defense & Space, and Oil & Energy",
          "Airlines/Aviation, Information Technology and Services, and Computer Software",
          "Apparel & Fashion",
          "Apparel & Fashion, Consumer Goods, and Retail",
          "Apparel & Fashion, Furniture, and Retail",
          "Apparel & Fashion, Information Technology and Services, and Retail",
          "Apparel & Fashion, Internet, and Retail",
          "Apparel & Fashion, Retail, and Luxury Goods & Jewelry",
          "Architecture & Planning",
          "Architecture & Planning and Design",
          "Arts and Crafts, Building Materials, and Consumer Goods",
          "Automotive",
          "Automotive and Consumer Goods",
          "Automotive and Electrical/Electronic Manufacturing",
          "Automotive and Marketing and Advertising",
          "Automotive and Retail",
          "Automotive and Transportation/Trucking/Railroad",
          "Automotive, Banking, and Financial Services",
          "Automotive, Computer Software, and Information Technology and Services",
          "Automotive, Electrical/Electronic Manufacturing, and Information Technology and Services",
          "Automotive, Electrical/Electronic Manufacturing, and Mechanical or Industrial Engineering",
          "Automotive, Insurance, and Financial Services",
          "Automotive, Logistics and Supply Chain, and Computer Software",
          "Automotive, Mechanical or Industrial Engineering, and Transportation/Trucking/Railroad",
          "Automotive, Renewables & Environment, and Utilities",
          "Automotive, Staffing and Recruiting, and Transportation/Trucking/Railroad",
          "Aviation & Aerospace",
          "Aviation & Aerospace and Defense & Space",
          "Aviation & Aerospace, Computer Software, and Defense & Space",
          "Banking",
          "Banking and Financial Services",
          "Banking, Capital Markets, and Financial Services",
          "Banking, Financial Services, and Information Technology and Services",
          "Banking, Financial Services, and Investment Banking",
          "Banking, Financial Services, and Investment Management",
          "Banking, Investment Banking, and Investment Management",
          "Biotechnology",
          "Biotechnology and Medical Devices",
          "Biotechnology and Pharmaceuticals",
          "Biotechnology and Research",
          "Biotechnology, Hospital & Health Care, and Electrical/Electronic Manufacturing",
          "Biotechnology, Hospital & Health Care, and Pharmaceuticals",
          "Biotechnology, Information Technology and Services, and Computer Software",
          "Biotechnology, Medical Devices, and Computer Software",
          "Biotechnology, Medical Devices, and Research",
          "Biotechnology, Pharmaceuticals, and Research",
          "Biotechnology, Research, and Medical Devices",
          "Biotechnology, Research, and Nonprofit Organization Management",
          "Biotechnology, Research, and Pharmaceuticals",
          "Broadcast Media",
          "Broadcast Media, Entertainment, and Media Production",
          "Broadcast Media, Online Media, and Media Production",
          "Building Materials and Logistics and Supply Chain",
          "Capital Markets and Financial Services",
          "Capital Markets, Banking, and Financial Services",
          "Capital Markets, Computer Software, and Financial Services",
          "Capital Markets, Financial Services, and Investment Management",
          "Capital Markets, Research, and Computer Software",
          "Chemicals",
          "Chemicals and Plastics",
          "Chemicals, Food & Beverages, and Food Production",
          "Chemicals, Mechanical or Industrial Engineering, and Research",
          "Chemicals, Pharmaceuticals, and Biotechnology",
          "Civic & Social Organization and Nonprofit Organization Management",
          "Civil Engineering",
          "Commercial Real Estate",
          "Commercial Real Estate, Information Technology and Services, and Research",
          "Computer & Network Security",
          "Computer & Network Security and Computer Software",
          "Computer & Network Security, Computer Software, and Information Technology and Services",
          "Computer & Network Security, Government Administration, and Information Technology and Services",
          "Computer & Network Security, Information Technology and Services, and Nanotechnology",
          "Computer Games",
          "Computer Games and Computer Software",
          "Computer Games, Computer Software, and Entertainment",
          "Computer Games, Computer Software, and Internet",
          "Computer Games, Information Technology and Services, and Computer Software",
          "Computer Hardware",
          "Computer Hardware and Computer Software",
          "Computer Hardware, Computer Networking, and Computer Software",
          "Computer Hardware, Computer Software, and Computer Networking",
          "Computer Hardware, Computer Software, and Consumer Electronics",
          "Computer Hardware, Computer Software, and Information Technology and Services",
          "Computer Hardware, Computer Software, and Semiconductors",
          "Computer Hardware, Defense & Space, and Information Technology and Services",
          "Computer Hardware, Electrical/Electronic Manufacturing, and Information Technology and Services",
          "Computer Hardware, Electrical/Electronic Manufacturing, and Semiconductors",
          "Computer Hardware, Semiconductors, and Computer Software",
          "Computer Networking",
          "Computer Networking and Computer Software",
          "Computer Networking and Information Technology and Services",
          "Computer Networking, Computer Software, and Computer & Network Security",
          "Computer Networking, Computer Software, and Information Technology and Services",
          "Computer Networking, Computer Software, and Internet",
          "Computer Networking, Electrical/Electronic Manufacturing, and Telecommunications",
          "Computer Software",
          "Computer Software and Accounting",
          "Computer Software and Automotive",
          "Computer Software and Computer & Network Security",
          "Computer Software and Computer Hardware",
          "Computer Software and Consumer Goods",
          "Computer Software and Defense & Space",
          "Computer Software and Design",
          "Computer Software and Electrical/Electronic Manufacturing",
          "Computer Software and Hospital & Health Care",
          "Computer Software and Industrial Automation",
          "Computer Software and Information Technology and Services",
          "Computer Software and Internet",
          "Computer Software and Logistics and Supply Chain",
          "Computer Software and Market Research",
          "Computer Software and Marketing and Advertising",
          "Computer Software and Program Development",
          "Computer Software and Sports",
          "Computer Software and Venture Capital & Private Equity",
          "Computer Software, Automotive, and Financial Services",
          "Computer Software, Automotive, and Information Technology and Services",
          "Computer Software, Automotive, and Telecommunications",
          "Computer Software, Banking, and Computer & Network Security",
          "Computer Software, Banking, and Financial Services",
          "Computer Software, Biotechnology, and Hospital & Health Care",
          "Computer Software, Biotechnology, and Pharmaceuticals",
          "Computer Software, Broadcast Media, and Online Media",
          "Computer Software, Computer & Network Security, and Computer Networking",
          "Computer Software, Computer & Network Security, and Information Technology and Services",
          "Computer Software, Computer Hardware, and Computer Networking",
          "Computer Software, Computer Hardware, and Internet",
          "Computer Software, Computer Hardware, and Research",
          "Computer Software, Computer Networking, and Computer & Network Security",
          "Computer Software, Computer Networking, and Computer Games",
          "Computer Software, Computer Networking, and Consumer Electronics",
          "Computer Software, Computer Networking, and Internet",
          "Computer Software, Consumer Services, and Automotive",
          "Computer Software, Consumer Services, and Entertainment",
          "Computer Software, Consumer Services, and Information Technology and Services",
          "Computer Software, Consumer Services, and Internet",
          "Computer Software, Design, and Information Technology and Services",
          "Computer Software, Entertainment, and Computer Games",
          "Computer Software, Financial Services, and Accounting",
          "Computer Software, Financial Services, and Hospital & Health Care",
          "Computer Software, Financial Services, and Human Resources",
          "Computer Software, Financial Services, and Information Services",
          "Computer Software, Financial Services, and Internet",
          "Computer Software, Financial Services, and Investment Management",
          "Computer Software, Financial Services, and Real Estate",
          "Computer Software, Health, Wellness and Fitness, and Hospital & Health Care",
          "Computer Software, Hospital & Health Care, and Research",
          "Computer Software, Human Resources, and Information Technology and Services",
          "Computer Software, Information Services, and Information Technology and Services",
          "Computer Software, Information Technology and Services, and Computer & Network Security",
          "Computer Software, Information Technology and Services, and Computer Networking",
          "Computer Software, Information Technology and Services, and Consumer Electronics",
          "Computer Software, Information Technology and Services, and E-Learning",
          "Computer Software, Information Technology and Services, and Information Services",
          "Computer Software, Information Technology and Services, and Internet",
          "Computer Software, Information Technology and Services, and Leisure, Travel & Tourism",
          "Computer Software, Information Technology and Services, and Marketing and Advertising",
          "Computer Software, Information Technology and Services, and Medical Devices",
          "Computer Software, Information Technology and Services, and Outsourcing/Offshoring",
          "Computer Software, Information Technology and Services, and Research",
          "Computer Software, Insurance, and Financial Services",
          "Computer Software, Internet, and Computer & Network Security",
          "Computer Software, Internet, and Computer Games",
          "Computer Software, Internet, and Consumer Goods",
          "Computer Software, Internet, and Consumer Services",
          "Computer Software, Internet, and Financial Services",
          "Computer Software, Internet, and Hospital & Health Care",
          "Computer Software, Internet, and Information Technology and Services",
          "Computer Software, Internet, and Management Consulting",
          "Computer Software, Internet, and Marketing and Advertising",
          "Computer Software, Internet, and Real Estate",
          "Computer Software, Internet, and Retail",
          "Computer Software, Marketing and Advertising, and Research",
          "Computer Software, Research, and Biotechnology",
          "Computer Software, Semiconductors, and Wireless",
          "Computer Software, Telecommunications, and Information Technology and Services",
          "Construction",
          "Construction and Machinery",
          "Construction, Architecture & Planning, and Oil & Energy",
          "Construction, Automotive, and Machinery",
          "Construction, Automotive, and Transportation/Trucking/Railroad",
          "Construction, Civil Engineering, and Transportation/Trucking/Railroad",
          "Construction, Computer Software, and Logistics and Supply Chain",
          "Construction, Entertainment, and Hospitality",
          "Construction, Food & Beverages, and Financial Services",
          "Construction, Food & Beverages, and Hospitality",
          "Construction, Food & Beverages, and Retail",
          "Construction, Food & Beverages, and Transportation/Trucking/Railroad",
          "Construction, Information Technology and Services, and Computer Software",
          "Construction, Information Technology and Services, and Defense & Space",
          "Construction, Information Technology and Services, and Financial Services",
          "Construction, Information Technology and Services, and Mechanical or Industrial Engineering",
          "Construction, Information Technology and Services, and Staffing and Recruiting",
          "Construction, Logistics and Supply Chain, and Transportation/Trucking/Railroad",
          "Construction, Marketing and Advertising, and Financial Services",
          "Construction, Mechanical or Industrial Engineering, and Oil & Energy",
          "Construction, Nonprofit Organization Management, and Retail",
          "Construction, Oil & Energy, and Financial Services",
          "Construction, Retail, and Hospital & Health Care",
          "Construction, Staffing and Recruiting, and Hospital & Health Care",
          "Consumer Electronics",
          "Consumer Electronics and Automotive",
          "Consumer Electronics and Information Technology and Services",
          "Consumer Electronics and Retail",
          "Consumer Electronics, Computer Software, and Electrical/Electronic Manufacturing",
          "Consumer Electronics, Entertainment, and Broadcast Media",
          "Consumer Goods",
          "Consumer Goods and Food & Beverages",
          "Consumer Goods, Banking, and Financial Services",
          "Consumer Goods, Entertainment, and Online Media",
          "Consumer Goods, Food & Beverages, and Retail",
          "Consumer Goods, Food Production, and Food & Beverages",
          "Consumer Goods, Food Production, and Health, Wellness and Fitness",
          "Consumer Goods, Health, Wellness and Fitness, and Food Production",
          "Consumer Goods, Hospitality, and Restaurants",
          "Consumer Goods, Information Technology and Services, and Wireless",
          "Consumer Goods, Logistics and Supply Chain, and Retail",
          "Consumer Goods, Market Research, and Retail",
          "Consumer Goods, Retail, and Financial Services",
          "Consumer Services",
          "Consumer Services, Financial Services, and Information Technology and Services",
          "Consumer Services, Health, Wellness and Fitness, and Information Technology and Services",
          "Cosmetics",
          "Defense & Space",
          "Defense & Space and Telecommunications",
          "Defense & Space, Aviation & Aerospace, and Military",
          "Defense & Space, Computer Software, and Aviation & Aerospace",
          "Defense & Space, Information Technology and Services, and Electrical/Electronic Manufacturing",
          "Design, Computer Software, and Internet",
          "E-Learning",
          "Education Management",
          "Education Management and E-Learning",
          "Education Management, Information Services, and Information Technology and Services",
          "Electrical/Electronic Manufacturing",
          "Electrical/Electronic Manufacturing and Computer Software",
          "Electrical/Electronic Manufacturing, Automotive, and Mechanical or Industrial Engineering",
          "Electrical/Electronic Manufacturing, Automotive, and Oil & Energy",
          "Electrical/Electronic Manufacturing, Aviation & Aerospace, and Mechanical or Industrial Engineering",
          "Electrical/Electronic Manufacturing, Computer Hardware, and Semiconductors",
          "Electrical/Electronic Manufacturing, Computer Software, and Automotive",
          "Electrical/Electronic Manufacturing, Computer Software, and Consumer Electronics",
          "Electrical/Electronic Manufacturing, Computer Software, and Mechanical or Industrial Engineering",
          "Electrical/Electronic Manufacturing, Computer Software, and Oil & Energy",
          "Electrical/Electronic Manufacturing, Computer Software, and Semiconductors",
          "Electrical/Electronic Manufacturing, Construction, and Automotive",
          "Electrical/Electronic Manufacturing, Construction, and Computer Software",
          "Electrical/Electronic Manufacturing, Construction, and Mechanical or Industrial Engineering",
          "Electrical/Electronic Manufacturing, Construction, and Staffing and Recruiting",
          "Electrical/Electronic Manufacturing, Defense & Space, and Aviation & Aerospace",
          "Electrical/Electronic Manufacturing, Defense & Space, and Computer Software",
          "Electrical/Electronic Manufacturing, Industrial Automation, and Mechanical or Industrial Engineering",
          "Electrical/Electronic Manufacturing, Information Technology and Services, and Automotive",
          "Electrical/Electronic Manufacturing, Information Technology and Services, and Computer Software",
          "Electrical/Electronic Manufacturing, Information Technology and Services, and Mechanical or Industrial Engineering",
          "Electrical/Electronic Manufacturing, Information Technology and Services, and Staffing and Recruiting",
          "Electrical/Electronic Manufacturing, Information Technology and Services, and Telecommunications",
          "Electrical/Electronic Manufacturing, Logistics and Supply Chain, and Machinery",
          "Electrical/Electronic Manufacturing, Machinery, and Mechanical or Industrial Engineering",
          "Electrical/Electronic Manufacturing, Mechanical or Industrial Engineering, and Consumer Goods",
          "Electrical/Electronic Manufacturing, Mechanical or Industrial Engineering, and Medical Devices",
          "Electrical/Electronic Manufacturing, Mechanical or Industrial Engineering, and Semiconductors",
          "Electrical/Electronic Manufacturing, Medical Devices, and Biotechnology",
          "Electrical/Electronic Manufacturing, Nanotechnology, and Semiconductors",
          "Entertainment",
          "Entertainment and Broadcast Media",
          "Entertainment and Information Technology and Services",
          "Entertainment and Marketing and Advertising",
          "Entertainment and Sports",
          "Entertainment, Broadcast Media, and Online Media",
          "Entertainment, Internet, and Motion Pictures and Film",
          "Environmental Services",
          "Environmental Services, Civil Engineering, and Oil & Energy",
          "Environmental Services, Information Technology and Services, and Staffing and Recruiting",
          "Farming",
          "Financial Services",
          "Financial Services and Computer Software",
          "Financial Services and Information Technology and Services",
          "Financial Services and Insurance",
          "Financial Services and Investment Management",
          "Financial Services and Retail",
          "Financial Services, Automotive, and Information Technology and Services",
          "Financial Services, Banking, and Information Technology and Services",
          "Financial Services, Capital Markets, and Investment Banking",
          "Financial Services, Computer Software, and Internet",
          "Financial Services, Health, Wellness and Fitness, and Hospital & Health Care",
          "Financial Services, Hospital & Health Care, and Management Consulting",
          "Financial Services, Information Services, and Information Technology and Services",
          "Financial Services, Information Technology and Services, and Computer Software",
          "Financial Services, Information Technology and Services, and Information Services",
          "Financial Services, Information Technology and Services, and Internet",
          "Financial Services, Information Technology and Services, and Market Research",
          "Financial Services, Insurance, and Information Technology and Services",
          "Financial Services, Internet, and Computer Software",
          "Financial Services, Investment Banking, and Investment Management",
          "Financial Services, Investment Management, and Banking",
          "Financial Services, Logistics and Supply Chain, and Transportation/Trucking/Railroad",
          "Financial Services, Real Estate, and Hospitality",
          "Food & Beverages",
          "Food & Beverages and Information Technology and Services",
          "Food & Beverages and Logistics and Supply Chain",
          "Food & Beverages and Retail",
          "Food & Beverages, Computer Software, and Food Production",
          "Food & Beverages, Food Production, and Consumer Goods",
          "Food & Beverages, Food Production, and Retail",
          "Food & Beverages, Retail, and Financial Services",
          "Food & Beverages, Retail, and Hospital & Health Care",
          "Food Production",
          "Furniture",
          "Government Administration",
          "Government Administration and Information Technology and Services",
          "Government Administration, Information Services, and Information Technology and Services",
          "Government Relations",
          "Health, Wellness and Fitness",
          "Health, Wellness and Fitness and Computer Software",
          "Health, Wellness and Fitness and Hospital & Health Care",
          "Health, Wellness and Fitness and Mental Health Care",
          "Health, Wellness and Fitness, Hospital & Health Care, and Medical Practice",
          "Health, Wellness and Fitness, Medical Devices, and Information Technology and Services",
          "Health, Wellness and Fitness, Medical Practice, and Hospital & Health Care",
          "Health, Wellness and Fitness, Pharmaceuticals, and Retail",
          "Higher Education",
          "Higher Education, E-Learning, and Computer Software",
          "Higher Education, Government Administration, and Financial Services",
          "Hospital & Health Care",
          "Hospital & Health Care and Biotechnology",
          "Hospital & Health Care and Health, Wellness and Fitness",
          "Hospital & Health Care and Information Technology and Services",
          "Hospital & Health Care and Insurance",
          "Hospital & Health Care, Financial Services, and Computer Software",
          "Hospital & Health Care, Health, Wellness and Fitness, and Medical Devices",
          "Hospital & Health Care, Insurance, and Pharmaceuticals",
          "Hospital & Health Care, Logistics and Supply Chain, and Medical Devices",
          "Hospital & Health Care, Medical Devices, and Pharmaceuticals",
          "Hospital & Health Care, Pharmaceuticals, and Biotechnology",
          "Hospitality",
          "Hospitality, Information Technology and Services, and Internet",
          "Hospitality, Internet, and Leisure, Travel & Tourism",
          "Hospitality, Internet, and Restaurants",
          "Human Resources",
          "Human Resources, Information Technology and Services, and Marketing and Advertising",
          "Industrial Automation",
          "Industrial Automation and Computer Software",
          "Industrial Automation and Mechanical or Industrial Engineering",
          "Industrial Automation, Aviation & Aerospace, and Computer Software",
          "Information Services",
          "Information Services and Computer Software",
          "Information Services and Information Technology and Services",
          "Information Services and Internet",
          "Information Services, Financial Services, and Banking",
          "Information Services, Information Technology and Services, and Computer Networking",
          "Information Services, Information Technology and Services, and Computer Software",
          "Information Services, Information Technology and Services, and Financial Services",
          "Information Services, Information Technology and Services, and Health, Wellness and Fitness",
          "Information Technology and Services",
          "Information Technology and Services and Automotive",
          "Information Technology and Services and Computer & Network Security",
          "Information Technology and Services and Computer Hardware",
          "Information Technology and Services and Computer Software",
          "Information Technology and Services and Consumer Electronics",
          "Information Technology and Services and Consumer Services",
          "Information Technology and Services and Defense & Space",
          "Information Technology and Services and Financial Services",
          "Information Technology and Services and Government Administration",
          "Information Technology and Services and Health, Wellness and Fitness",
          "Information Technology and Services and Hospital & Health Care",
          "Information Technology and Services and Information Services",
          "Information Technology and Services and Insurance",
          "Information Technology and Services and Internet",
          "Information Technology and Services and Management Consulting",
          "Information Technology and Services and Medical Devices",
          "Information Technology and Services and Renewables & Environment",
          "Information Technology and Services and Retail",
          "Information Technology and Services and Semiconductors",
          "Information Technology and Services and Telecommunications",
          "Information Technology and Services and Transportation/Trucking/Railroad",
          "Information Technology and Services, Accounting, and Financial Services",
          "Information Technology and Services, Automotive, and Financial Services",
          "Information Technology and Services, Banking, and Financial Services",
          "Information Technology and Services, Biotechnology, and Hospital & Health Care",
          "Information Technology and Services, Biotechnology, and Medical Devices",
          "Information Technology and Services, Commercial Real Estate, and Computer Software",
          "Information Technology and Services, Computer & Network Security, and Computer Software",
          "Information Technology and Services, Computer & Network Security, and Information Services",
          "Information Technology and Services, Computer & Network Security, and Security and Investigations",
          "Information Technology and Services, Computer Hardware, and Computer & Network Security",
          "Information Technology and Services, Computer Hardware, and Computer Software",
          "Information Technology and Services, Computer Networking, and Computer Software",
          "Information Technology and Services, Computer Software, and Automotive",
          "Information Technology and Services, Computer Software, and Aviation & Aerospace",
          "Information Technology and Services, Computer Software, and Biotechnology",
          "Information Technology and Services, Computer Software, and Business Supplies and Equipment",
          "Information Technology and Services, Computer Software, and Computer & Network Security",
          "Information Technology and Services, Computer Software, and Computer Networking",
          "Information Technology and Services, Computer Software, and Financial Services",
          "Information Technology and Services, Computer Software, and Hospital & Health Care",
          "Information Technology and Services, Computer Software, and Human Resources",
          "Information Technology and Services, Computer Software, and Information Services",
          "Information Technology and Services, Computer Software, and Insurance",
          "Information Technology and Services, Computer Software, and Internet",
          "Information Technology and Services, Computer Software, and Logistics and Supply Chain",
          "Information Technology and Services, Computer Software, and Management Consulting",
          "Information Technology and Services, Computer Software, and Mechanical or Industrial Engineering",
          "Information Technology and Services, Computer Software, and Oil & Energy",
          "Information Technology and Services, Computer Software, and Pharmaceuticals",
          "Information Technology and Services, Computer Software, and Public Safety",
          "Information Technology and Services, Computer Software, and Research",
          "Information Technology and Services, Computer Software, and Semiconductors",
          "Information Technology and Services, Computer Software, and Staffing and Recruiting",
          "Information Technology and Services, Computer Software, and Telecommunications",
          "Information Technology and Services, Computer Software, and Utilities",
          "Information Technology and Services, Consumer Electronics, and Consumer Services",
          "Information Technology and Services, Consumer Electronics, and Marketing and Advertising",
          "Information Technology and Services, Defense & Space, and Aviation & Aerospace",
          "Information Technology and Services, Defense & Space, and Computer & Network Security",
          "Information Technology and Services, Defense & Space, and Computer Software",
          "Information Technology and Services, Defense & Space, and Research",
          "Information Technology and Services, Defense & Space, and Telecommunications",
          "Information Technology and Services, Design, and Computer Software",
          "Information Technology and Services, Design, and Hospital & Health Care",
          "Information Technology and Services, Electrical/Electronic Manufacturing, and Oil & Energy",
          "Information Technology and Services, Financial Services, and Banking",
          "Information Technology and Services, Financial Services, and Hospital & Health Care",
          "Information Technology and Services, Financial Services, and Investment Banking",
          "Information Technology and Services, Financial Services, and Real Estate",
          "Information Technology and Services, Financial Services, and Transportation/Trucking/Railroad",
          "Information Technology and Services, Government Relations, and Architecture & Planning",
          "Information Technology and Services, Higher Education, and Computer Software",
          "Information Technology and Services, Hospital & Health Care, and Pharmaceuticals",
          "Information Technology and Services, Information Services, and Capital Markets",
          "Information Technology and Services, Information Services, and Research",
          "Information Technology and Services, Insurance, and Financial Services",
          "Information Technology and Services, Insurance, and Hospital & Health Care",
          "Information Technology and Services, Internet, and Computer & Network Security",
          "Information Technology and Services, Internet, and Market Research",
          "Information Technology and Services, Internet, and Marketing and Advertising",
          "Information Technology and Services, Internet, and Online Media",
          "Information Technology and Services, Internet, and Staffing and Recruiting",
          "Information Technology and Services, Internet, and Telecommunications",
          "Information Technology and Services, Machinery, and Staffing and Recruiting",
          "Information Technology and Services, Management Consulting, and Financial Services",
          "Information Technology and Services, Management Consulting, and Outsourcing/Offshoring",
          "Information Technology and Services, Mechanical or Industrial Engineering, and Financial Services",
          "Information Technology and Services, Nonprofit Organization Management, and Computer Software",
          "Information Technology and Services, Oil & Energy, and Financial Services",
          "Information Technology and Services, Pharmaceuticals, and Biotechnology",
          "Information Technology and Services, Retail, and Consumer Electronics",
          "Information Technology and Services, Retail, and Financial Services",
          "Information Technology and Services, Semiconductors, and Wireless",
          "Information Technology and Services, Staffing and Recruiting, and Financial Services",
          "Information Technology and Services, Staffing and Recruiting, and Hospital & Health Care",
          "Information Technology and Services, Staffing and Recruiting, and Human Resources",
          "Information Technology and Services, Staffing and Recruiting, and Management Consulting",
          "Information Technology and Services, Staffing and Recruiting, and Pharmaceuticals",
          "Information Technology and Services, Telecommunications, and Financial Services",
          "Information Technology and Services, Transportation/Trucking/Railroad, and Warehousing",
          "Insurance",
          "Insurance and Consumer Services",
          "Insurance and Financial Services",
          "Insurance and Health, Wellness and Fitness",
          "Insurance and Management Consulting",
          "Insurance and Marketing and Advertising",
          "Insurance and Research",
          "Insurance, Computer Software, and Online Media",
          "Insurance, Financial Services, and Hospital & Health Care",
          "Insurance, Health, Wellness and Fitness, and Information Technology and Services",
          "Internet",
          "Internet and Computer Software",
          "Internet and Financial Services",
          "Internet and Information Technology and Services",
          "Internet and Leisure, Travel & Tourism",
          "Internet, Automotive, and Consumer Services",
          "Internet, Computer Software, and Computer Games",
          "Internet, Computer Software, and Financial Services",
          "Internet, Computer Software, and Health, Wellness and Fitness",
          "Internet, Computer Software, and Information Technology and Services",
          "Internet, Computer Software, and Real Estate",
          "Internet, Consumer Goods, and Retail",
          "Internet, Financial Services, and Accounting",
          "Internet, Financial Services, and Consumer Services",
          "Internet, Financial Services, and Hospital & Health Care",
          "Internet, Financial Services, and Real Estate",
          "Internet, Health, Wellness and Fitness, and Mental Health Care",
          "Internet, Information Technology and Services, and Computer Software",
          "Internet, Information Technology and Services, and Information Services",
          "Internet, Information Technology and Services, and Media Production",
          "Internet, Insurance, and Financial Services",
          "Internet, Marketing and Advertising, and Computer Software",
          "Internet, Online Media, and Information Technology and Services",
          "Investment Banking, Banking, and Investment Management",
          "Investment Banking, Investment Management, and Banking",
          "Investment Management",
          "Investment Management and Financial Services",
          "Investment Management, Financial Services, and Capital Markets",
          "Law Enforcement, Computer Networking, and Information Technology and Services",
          "Law Enforcement, Information Technology and Services, and Computer Software",
          "Legal Services",
          "Leisure, Travel & Tourism",
          "Leisure, Travel & Tourism and Hospitality",
          "Logistics and Supply Chain",
          "Logistics and Supply Chain and Pharmaceuticals",
          "Logistics and Supply Chain, Financial Services, and Transportation/Trucking/Railroad",
          "Logistics and Supply Chain, Human Resources, and Financial Services",
          "Logistics and Supply Chain, Public Relations and Communications, and International Trade and Development",
          "Machinery",
          "Machinery and Farming",
          "Machinery and Industrial Automation",
          "Machinery, Mechanical or Industrial Engineering, and Human Resources",
          "Machinery, Mechanical or Industrial Engineering, and Staffing and Recruiting",
          "Machinery, Staffing and Recruiting, and Financial Services",
          "Management Consulting",
          "Management Consulting and Computer Software",
          "Management Consulting and Information Technology and Services",
          "Management Consulting, Accounting, and Information Technology and Services",
          "Management Consulting, Financial Services, and Accounting",
          "Management Consulting, Information Technology and Services, and Biotechnology",
          "Management Consulting, Information Technology and Services, and Industrial Automation",
          "Management Consulting, Market Research, and Marketing and Advertising",
          "Maritime",
          "Market Research",
          "Market Research, Retail, and Consumer Goods",
          "Marketing and Advertising",
          "Marketing and Advertising and Financial Services",
          "Marketing and Advertising and Health, Wellness and Fitness",
          "Marketing and Advertising and Information Technology and Services",
          "Marketing and Advertising, Apparel & Fashion, and Retail",
          "Marketing and Advertising, Automotive, and Financial Services",
          "Marketing and Advertising, Chemicals, and Staffing and Recruiting",
          "Marketing and Advertising, Computer Software, and Entertainment",
          "Marketing and Advertising, Computer Software, and Financial Services",
          "Marketing and Advertising, Computer Software, and Hospital & Health Care",
          "Marketing and Advertising, Computer Software, and Information Technology and Services",
          "Marketing and Advertising, Computer Software, and Internet",
          "Marketing and Advertising, Consumer Goods, and Retail",
          "Marketing and Advertising, Design, and Graphic Design",
          "Marketing and Advertising, Design, and Internet",
          "Marketing and Advertising, Food & Beverages, and Computer Software",
          "Marketing and Advertising, Information Technology and Services, and Computer Software",
          "Marketing and Advertising, Information Technology and Services, and Entertainment",
          "Marketing and Advertising, Information Technology and Services, and Financial Services",
          "Marketing and Advertising, Information Technology and Services, and Information Services",
          "Marketing and Advertising, Information Technology and Services, and Internet",
          "Marketing and Advertising, Information Technology and Services, and Staffing and Recruiting",
          "Marketing and Advertising, Internet, and Consumer Goods",
          "Marketing and Advertising, Internet, and Financial Services",
          "Marketing and Advertising, Internet, and Retail",
          "Marketing and Advertising, Internet, and Staffing and Recruiting",
          "Marketing and Advertising, Market Research, and Research",
          "Marketing and Advertising, Nonprofit Organization Management, and Insurance",
          "Marketing and Advertising, Online Media, and Internet",
          "Marketing and Advertising, Pharmaceuticals, and Online Media",
          "Marketing and Advertising, Retail, and Financial Services",
          "Mechanical or Industrial Engineering",
          "Mechanical or Industrial Engineering, Aviation & Aerospace, and Airlines/Aviation",
          "Media Production, Online Media, and Broadcast Media",
          "Medical Devices",
          "Medical Devices, Biotechnology, and Hospital & Health Care",
          "Medical Devices, Biotechnology, and Pharmaceuticals",
          "Medical Devices, Computer Software, and Hospital & Health Care",
          "Medical Devices, Computer Software, and Pharmaceuticals",
          "Medical Devices, Health, Wellness and Fitness, and Hospital & Health Care",
          "Medical Devices, Hospital & Health Care, and Biotechnology",
          "Medical Devices, Hospital & Health Care, and Information Technology and Services",
          "Medical Devices, Hospital & Health Care, and Pharmaceuticals",
          "Medical Devices, Pharmaceuticals, and Hospital & Health Care",
          "Mental Health Care",
          "Mental Health Care, Health, Wellness and Fitness, and Hospital & Health Care",
          "Music, Computer Software, and Entertainment",
          "Music, Internet, and Computer Software",
          "Music, Research, and Computer Software",
          "Nonprofit Organization Management",
          "Nonprofit Organization Management and Fund-Raising",
          "Nonprofit Organization Management and Mental Health Care",
          "Nonprofit Organization Management, Education Management, and Maritime",
          "Nonprofit Organization Management, Financial Services, and Hospital & Health Care",
          "Nonprofit Organization Management, Financial Services, and Real Estate",
          "Nonprofit Organization Management, Government Administration, and Hospital & Health Care",
          "Nonprofit Organization Management, Health, Wellness and Fitness, and Hospital & Health Care",
          "Nonprofit Organization Management, Higher Education, and Education Management",
          "Nonprofit Organization Management, Insurance, and Financial Services",
          "Nonprofit Organization Management, Internet, and Insurance",
          "Nonprofit Organization Management, Management Consulting, and Financial Services",
          "Nonprofit Organization Management, Research, and Management Consulting",
          "Oil & Energy",
          "Oil & Energy and Renewables & Environment",
          "Oil & Energy, Management Consulting, and Financial Services",
          "Online Media",
          "Online Media, Computer Software, and Internet",
          "Online Media, Entertainment, and Computer Software",
          "Online Media, Internet, and Entertainment",
          "Online Media, Publishing, and Newspapers",
          "Outsourcing/Offshoring",
          "Pharmaceuticals",
          "Pharmaceuticals and Biotechnology",
          "Pharmaceuticals and Hospital & Health Care",
          "Pharmaceuticals and Medical Devices",
          "Pharmaceuticals, Biotechnology, and Medical Devices",
          "Pharmaceuticals, Health, Wellness and Fitness, and International Affairs",
          "Primary/Secondary Education, Higher Education, and Government Administration",
          "Printing",
          "Professional Training & Coaching",
          "Public Safety",
          "Public Safety, Judiciary, and Law Enforcement",
          "Publishing",
          "Publishing, Computer Software, and Online Media",
          "Publishing, Information Technology and Services, and E-Learning",
          "Publishing, Online Media, and Media Production",
          "Railroad Manufacture and Transportation/Trucking/Railroad",
          "Real Estate",
          "Real Estate and Computer Software",
          "Renewables & Environment",
          "Renewables & Environment, Information Technology and Services, and Computer Software",
          "Research",
          "Research and Higher Education",
          "Research and Information Technology and Services",
          "Research, Biotechnology, and Hospital & Health Care",
          "Research, Biotechnology, and Pharmaceuticals",
          "Research, Computer Software, and Biotechnology",
          "Restaurants",
          "Restaurants, Facilities Services, and Hospitality",
          "Restaurants, Food & Beverages, and Food Production",
          "Restaurants, Hospitality, and Information Technology and Services",
          "Retail",
          "Retail and Apparel & Fashion",
          "Retail and Consumer Goods",
          "Retail and Food & Beverages",
          "Retail, Apparel & Fashion, and Consumer Goods",
          "Retail, Automotive, and Information Technology and Services",
          "Retail, Consumer Goods, and Internet",
          "Retail, Health, Wellness and Fitness, and Hospital & Health Care",
          "Retail, Health, Wellness and Fitness, and Information Technology and Services",
          "Security and Investigations",
          "Semiconductors",
          "Semiconductors and Accounting",
          "Semiconductors and Electrical/Electronic Manufacturing",
          "Semiconductors, Computer Software, and Computer Hardware",
          "Semiconductors, Telecommunications, and Medical Devices",
          "Sporting Goods, Computer Software, and Information Technology and Services",
          "Sporting Goods, Retail, and Information Technology and Services",
          "Sports",
          "Staffing and Recruiting",
          "Staffing and Recruiting and Chemicals",
          "Staffing and Recruiting and Consumer Services",
          "Staffing and Recruiting and Financial Services",
          "Staffing and Recruiting and Information Technology and Services",
          "Staffing and Recruiting, Banking, and Financial Services",
          "Staffing and Recruiting, Computer Hardware, and Computer Software",
          "Staffing and Recruiting, Computer Networking, and Information Technology and Services",
          "Staffing and Recruiting, Financial Services, and Hospital & Health Care",
          "Staffing and Recruiting, Financial Services, and Information Technology and Services",
          "Telecommunications",
          "Telecommunications and Aviation & Aerospace",
          "Telecommunications and Computer Networking",
          "Telecommunications and Information Technology and Services",
          "Telecommunications, Biotechnology, and Information Technology and Services",
          "Telecommunications, Hospital & Health Care, and Information Technology and Services",
          "Telecommunications, Information Technology and Services, and Computer & Network Security",
          "Translation and Localization",
          "Transportation/Trucking/Railroad",
          "Utilities",
          "Venture Capital & Private Equity",
          "Wholesale, Consumer Goods, and Retail",
          "Wine and Spirits, Food & Beverages, and Consumer Goods",
          "Wireless and Telecommunications",
          "Wireless, Computer Software, and Computer Hardware",
          "Wireless, Information Technology and Services, and Telecommunications"
         ],
         "labels": [
          "bachelor degree",
          "bachelor degree",
          "bachelor degree",
          "bachelor degree",
          "bachelor degree",
          "high school",
          "bachelor degree",
          "bachelor degree",
          "bachelor degree",
          "bachelor degree",
          "bachelor degree",
          "bachelor degree",
          "bachelor degree",
          "bachelor degree",
          "bachelor degree",
          "bachelor degree",
          "bachelor degree",
          "bachelor degree",
          "bachelor degree",
          "bachelor degree",
          "bachelor degree",
          "bachelor degree",
          "bachelor degree",
          "bachelor degree",
          "bachelor degree",
          "bachelor degree",
          "bachelor degree",
          "bachelor degree",
          "bachelor degree",
          "bachelor degree",
          "bachelor degree",
          "bachelor degree",
          "bachelor degree",
          "bachelor degree",
          "high school",
          "bachelor degree",
          "bachelor degree",
          "bachelor degree",
          "bachelor degree",
          "bachelor degree",
          "bachelor degree",
          "bachelor degree",
          "bachelor degree",
          "bachelor degree",
          "bachelor degree",
          "bachelor degree",
          "bachelor degree",
          "bachelor degree",
          "bachelor degree",
          "associate degree",
          "bachelor degree",
          "high school",
          "bachelor degree",
          "bachelor degree",
          "bachelor degree",
          "bachelor degree",
          "bachelor degree",
          "bachelor degree",
          "bachelor degree",
          "bachelor degree",
          "bachelor degree",
          "bachelor degree",
          "bachelor degree",
          "bachelor degree",
          "bachelor degree",
          "bachelor degree",
          "bachelor degree",
          "bachelor degree",
          "bachelor degree",
          "bachelor degree",
          "bachelor degree",
          "bachelor degree",
          "bachelor degree",
          "bachelor degree",
          "bachelor degree",
          "bachelor degree",
          "bachelor degree",
          "bachelor degree",
          "bachelor degree",
          "bachelor degree",
          "bachelor degree",
          "bachelor degree",
          "bachelor degree",
          "bachelor degree",
          "bachelor degree",
          "bachelor degree",
          "bachelor degree",
          "bachelor degree",
          "bachelor degree",
          "bachelor degree",
          "bachelor degree",
          "bachelor degree",
          "bachelor degree",
          "bachelor degree",
          "bachelor degree",
          "bachelor degree",
          "bachelor degree",
          "bachelor degree",
          "bachelor degree",
          "bachelor degree",
          "bachelor degree",
          "bachelor degree",
          "bachelor degree",
          "bachelor degree",
          "bachelor degree",
          "associate degree",
          "bachelor degree",
          "bachelor degree",
          "bachelor degree",
          "bachelor degree",
          "bachelor degree",
          "bachelor degree",
          "bachelor degree",
          "bachelor degree",
          "bachelor degree",
          "bachelor degree",
          "bachelor degree",
          "bachelor degree",
          "bachelor degree",
          "bachelor degree",
          "bachelor degree",
          "bachelor degree",
          "bachelor degree",
          "bachelor degree",
          "bachelor degree",
          "bachelor degree",
          "bachelor degree",
          "bachelor degree",
          "bachelor degree",
          "bachelor degree",
          "bachelor degree",
          "bachelor degree",
          "bachelor degree",
          "bachelor degree",
          "bachelor degree",
          "bachelor degree",
          "bachelor degree",
          "bachelor degree",
          "bachelor degree",
          "bachelor degree",
          "bachelor degree",
          "bachelor degree",
          "bachelor degree",
          "bachelor degree",
          "bachelor degree",
          "bachelor degree",
          "bachelor degree",
          "bachelor degree",
          "bachelor degree",
          "bachelor degree",
          "bachelor degree",
          "bachelor degree",
          "bachelor degree",
          "bachelor degree",
          "bachelor degree",
          "bachelor degree",
          "bachelor degree",
          "bachelor degree",
          "bachelor degree",
          "bachelor degree",
          "bachelor degree",
          "bachelor degree",
          "bachelor degree",
          "bachelor degree",
          "bachelor degree",
          "bachelor degree",
          "bachelor degree",
          "bachelor degree",
          "bachelor degree",
          "bachelor degree",
          "bachelor degree",
          "bachelor degree",
          "bachelor degree",
          "bachelor degree",
          "bachelor degree",
          "bachelor degree",
          "bachelor degree",
          "bachelor degree",
          "bachelor degree",
          "bachelor degree",
          "bachelor degree",
          "bachelor degree",
          "bachelor degree",
          "bachelor degree",
          "bachelor degree",
          "bachelor degree",
          "associate degree",
          "bachelor degree",
          "high school",
          "bachelor degree",
          "associate degree",
          "bachelor degree",
          "bachelor degree",
          "bachelor degree",
          "bachelor degree",
          "bachelor degree",
          "bachelor degree",
          "bachelor degree",
          "bachelor degree",
          "bachelor degree",
          "bachelor degree",
          "bachelor degree",
          "bachelor degree",
          "high school",
          "bachelor degree",
          "bachelor degree",
          "bachelor degree",
          "bachelor degree",
          "bachelor degree",
          "bachelor degree",
          "bachelor degree",
          "associate degree",
          "bachelor degree",
          "high school",
          "bachelor degree",
          "bachelor degree",
          "bachelor degree",
          "bachelor degree",
          "bachelor degree",
          "bachelor degree",
          "bachelor degree",
          "bachelor degree",
          "bachelor degree",
          "bachelor degree",
          "associate degree",
          "bachelor degree",
          "bachelor degree",
          "bachelor degree",
          "bachelor degree",
          "bachelor degree",
          "bachelor degree",
          "bachelor degree",
          "bachelor degree",
          "bachelor degree",
          "bachelor degree",
          "bachelor degree",
          "bachelor degree",
          "bachelor degree",
          "bachelor degree",
          "bachelor degree",
          "bachelor degree",
          "bachelor degree",
          "bachelor degree",
          "bachelor degree",
          "bachelor degree",
          "bachelor degree",
          "bachelor degree",
          "bachelor degree",
          "bachelor degree",
          "bachelor degree",
          "bachelor degree",
          "bachelor degree",
          "bachelor degree",
          "bachelor degree",
          "bachelor degree",
          "bachelor degree",
          "bachelor degree",
          "bachelor degree",
          "bachelor degree",
          "bachelor degree",
          "bachelor degree",
          "bachelor degree",
          "bachelor degree",
          "bachelor degree",
          "bachelor degree",
          "bachelor degree",
          "bachelor degree",
          "bachelor degree",
          "bachelor degree",
          "bachelor degree",
          "bachelor degree",
          "bachelor degree",
          "bachelor degree",
          "bachelor degree",
          "bachelor degree",
          "bachelor degree",
          "bachelor degree",
          "bachelor degree",
          "bachelor degree",
          "bachelor degree",
          "bachelor degree",
          "bachelor degree",
          "bachelor degree",
          "bachelor degree",
          "bachelor degree",
          "bachelor degree",
          "bachelor degree",
          "bachelor degree",
          "bachelor degree",
          "bachelor degree",
          "associate degree",
          "bachelor degree",
          "bachelor degree",
          "bachelor degree",
          "bachelor degree",
          "bachelor degree",
          "bachelor degree",
          "bachelor degree",
          "bachelor degree",
          "bachelor degree",
          "bachelor degree",
          "bachelor degree",
          "bachelor degree",
          "bachelor degree",
          "bachelor degree",
          "bachelor degree",
          "bachelor degree",
          "bachelor degree",
          "bachelor degree",
          "bachelor degree",
          "bachelor degree",
          "bachelor degree",
          "bachelor degree",
          "bachelor degree",
          "bachelor degree",
          "bachelor degree",
          "bachelor degree",
          "bachelor degree",
          "bachelor degree",
          "bachelor degree",
          "bachelor degree",
          "bachelor degree",
          "bachelor degree",
          "bachelor degree",
          "bachelor degree",
          "bachelor degree",
          "bachelor degree",
          "bachelor degree",
          "bachelor degree",
          "bachelor degree",
          "bachelor degree",
          "bachelor degree",
          "bachelor degree",
          "bachelor degree",
          "bachelor degree",
          "bachelor degree",
          "bachelor degree",
          "bachelor degree",
          "bachelor degree",
          "bachelor degree",
          "associate degree",
          "bachelor degree",
          "bachelor degree",
          "bachelor degree",
          "bachelor degree",
          "bachelor degree",
          "bachelor degree",
          "bachelor degree",
          "bachelor degree",
          "bachelor degree",
          "bachelor degree",
          "bachelor degree",
          "bachelor degree",
          "bachelor degree",
          "bachelor degree",
          "bachelor degree",
          "bachelor degree",
          "bachelor degree",
          "bachelor degree",
          "bachelor degree",
          "bachelor degree",
          "bachelor degree",
          "bachelor degree",
          "bachelor degree",
          "bachelor degree",
          "bachelor degree",
          "bachelor degree",
          "bachelor degree",
          "bachelor degree",
          "bachelor degree",
          "bachelor degree",
          "bachelor degree",
          "bachelor degree",
          "bachelor degree",
          "bachelor degree",
          "bachelor degree",
          "bachelor degree",
          "bachelor degree",
          "bachelor degree",
          "bachelor degree",
          "bachelor degree",
          "bachelor degree",
          "bachelor degree",
          "bachelor degree",
          "bachelor degree",
          "bachelor degree",
          "bachelor degree",
          "bachelor degree",
          "bachelor degree",
          "bachelor degree",
          "bachelor degree",
          "bachelor degree",
          "bachelor degree",
          "bachelor degree",
          "bachelor degree",
          "bachelor degree",
          "bachelor degree",
          "bachelor degree",
          "bachelor degree",
          "bachelor degree",
          "bachelor degree",
          "bachelor degree",
          "bachelor degree",
          "bachelor degree",
          "bachelor degree",
          "bachelor degree",
          "bachelor degree",
          "bachelor degree",
          "bachelor degree",
          "bachelor degree",
          "bachelor degree",
          "associate degree",
          "bachelor degree",
          "bachelor degree",
          "bachelor degree",
          "bachelor degree",
          "bachelor degree",
          "associate degree",
          "bachelor degree",
          "bachelor degree",
          "bachelor degree",
          "bachelor degree",
          "bachelor degree",
          "bachelor degree",
          "bachelor degree",
          "bachelor degree",
          "bachelor degree",
          "bachelor degree",
          "bachelor degree",
          "bachelor degree",
          "bachelor degree",
          "bachelor degree",
          "bachelor degree",
          "bachelor degree",
          "bachelor degree",
          "bachelor degree",
          "bachelor degree",
          "bachelor degree",
          "bachelor degree",
          "bachelor degree",
          "bachelor degree",
          "bachelor degree",
          "bachelor degree",
          "bachelor degree",
          "associate degree",
          "bachelor degree",
          "bachelor degree",
          "bachelor degree",
          "bachelor degree",
          "bachelor degree",
          "bachelor degree",
          "bachelor degree",
          "bachelor degree",
          "bachelor degree",
          "bachelor degree",
          "bachelor degree",
          "bachelor degree",
          "associate degree",
          "bachelor degree",
          "bachelor degree",
          "bachelor degree",
          "bachelor degree",
          "bachelor degree",
          "bachelor degree",
          "bachelor degree",
          "bachelor degree",
          "bachelor degree",
          "bachelor degree",
          "bachelor degree",
          "bachelor degree",
          "associate degree",
          "bachelor degree",
          "bachelor degree",
          "bachelor degree",
          "bachelor degree",
          "bachelor degree",
          "bachelor degree",
          "bachelor degree",
          "bachelor degree",
          "bachelor degree",
          "bachelor degree",
          "bachelor degree",
          "bachelor degree",
          "bachelor degree",
          "bachelor degree",
          "bachelor degree",
          "bachelor degree",
          "associate degree",
          "bachelor degree",
          "bachelor degree",
          "bachelor degree",
          "bachelor degree",
          "bachelor degree",
          "bachelor degree",
          "bachelor degree",
          "bachelor degree",
          "bachelor degree",
          "bachelor degree",
          "bachelor degree",
          "bachelor degree",
          "bachelor degree",
          "bachelor degree",
          "bachelor degree",
          "bachelor degree",
          "bachelor degree",
          "bachelor degree",
          "bachelor degree",
          "bachelor degree",
          "bachelor degree",
          "bachelor degree",
          "bachelor degree",
          "bachelor degree",
          "bachelor degree",
          "bachelor degree",
          "bachelor degree",
          "bachelor degree",
          "bachelor degree",
          "bachelor degree",
          "bachelor degree",
          "bachelor degree",
          "bachelor degree",
          "bachelor degree",
          "bachelor degree",
          "bachelor degree",
          "bachelor degree",
          "bachelor degree",
          "bachelor degree",
          "bachelor degree",
          "bachelor degree",
          "bachelor degree",
          "bachelor degree",
          "bachelor degree",
          "bachelor degree",
          "bachelor degree",
          "bachelor degree",
          "bachelor degree",
          "bachelor degree",
          "bachelor degree",
          "bachelor degree",
          "bachelor degree",
          "bachelor degree",
          "bachelor degree",
          "bachelor degree",
          "bachelor degree",
          "bachelor degree",
          "bachelor degree",
          "bachelor degree",
          "bachelor degree",
          "bachelor degree",
          "bachelor degree",
          "bachelor degree",
          "bachelor degree",
          "bachelor degree",
          "high school",
          "bachelor degree",
          "bachelor degree",
          "bachelor degree",
          "bachelor degree",
          "bachelor degree",
          "bachelor degree",
          "bachelor degree",
          "bachelor degree",
          "bachelor degree",
          "bachelor degree",
          "bachelor degree",
          "bachelor degree",
          "bachelor degree",
          "bachelor degree",
          "bachelor degree",
          "bachelor degree",
          "bachelor degree",
          "bachelor degree",
          "bachelor degree",
          "bachelor degree",
          "bachelor degree",
          "bachelor degree",
          "bachelor degree",
          "bachelor degree",
          "bachelor degree",
          "bachelor degree",
          "bachelor degree",
          "bachelor degree",
          "bachelor degree",
          "bachelor degree",
          "bachelor degree",
          "bachelor degree",
          "bachelor degree",
          "bachelor degree",
          "bachelor degree",
          "bachelor degree",
          "bachelor degree",
          "bachelor degree",
          "bachelor degree",
          "bachelor degree",
          "bachelor degree",
          "bachelor degree",
          "bachelor degree",
          "bachelor degree",
          "bachelor degree",
          "bachelor degree",
          "bachelor degree",
          "bachelor degree",
          "bachelor degree",
          "bachelor degree",
          "bachelor degree",
          "bachelor degree",
          "bachelor degree",
          "bachelor degree",
          "bachelor degree",
          "bachelor degree",
          "bachelor degree",
          "bachelor degree",
          "bachelor degree",
          "bachelor degree",
          "bachelor degree",
          "bachelor degree",
          "bachelor degree",
          "associate degree",
          "bachelor degree",
          "bachelor degree",
          "bachelor degree",
          "bachelor degree",
          "bachelor degree",
          "bachelor degree",
          "bachelor degree",
          "bachelor degree",
          "bachelor degree",
          "bachelor degree",
          "bachelor degree",
          "bachelor degree",
          "bachelor degree",
          "bachelor degree",
          "bachelor degree",
          "bachelor degree",
          "bachelor degree",
          "bachelor degree",
          "bachelor degree",
          "bachelor degree",
          "bachelor degree",
          "bachelor degree",
          "bachelor degree",
          "bachelor degree",
          "bachelor degree",
          "bachelor degree",
          "bachelor degree",
          "bachelor degree",
          "high school",
          "bachelor degree",
          "bachelor degree",
          "bachelor degree",
          "bachelor degree",
          "bachelor degree",
          "bachelor degree",
          "bachelor degree",
          "bachelor degree",
          "bachelor degree",
          "bachelor degree",
          "bachelor degree",
          "associate degree",
          "bachelor degree",
          "bachelor degree",
          "bachelor degree",
          "bachelor degree",
          "bachelor degree",
          "bachelor degree",
          "bachelor degree",
          "bachelor degree",
          "bachelor degree",
          "bachelor degree",
          "bachelor degree",
          "bachelor degree",
          "bachelor degree",
          "bachelor degree",
          "bachelor degree",
          "bachelor degree",
          "associate degree",
          "bachelor degree",
          "bachelor degree",
          "bachelor degree",
          "bachelor degree",
          "bachelor degree",
          "bachelor degree",
          "bachelor degree",
          "bachelor degree",
          "bachelor degree",
          "bachelor degree",
          "bachelor degree",
          "bachelor degree",
          "bachelor degree",
          "bachelor degree",
          "bachelor degree",
          "bachelor degree",
          "Accounting",
          "Accounting, Financial Services, and Information Technology and Services",
          "Accounting, Financial Services, and Management Consulting",
          "Accounting, Information Technology and Services, and Management Consulting",
          "Airlines/Aviation",
          "Airlines/Aviation, Aviation & Aerospace, and Defense & Space",
          "Airlines/Aviation, Defense & Space, and Oil & Energy",
          "Airlines/Aviation, Information Technology and Services, and Computer Software",
          "Apparel & Fashion",
          "Apparel & Fashion, Consumer Goods, and Retail",
          "Apparel & Fashion, Furniture, and Retail",
          "Apparel & Fashion, Information Technology and Services, and Retail",
          "Apparel & Fashion, Internet, and Retail",
          "Apparel & Fashion, Retail, and Luxury Goods & Jewelry",
          "Architecture & Planning",
          "Architecture & Planning and Design",
          "Arts and Crafts, Building Materials, and Consumer Goods",
          "Automotive",
          "Automotive and Consumer Goods",
          "Automotive and Electrical/Electronic Manufacturing",
          "Automotive and Marketing and Advertising",
          "Automotive and Retail",
          "Automotive and Transportation/Trucking/Railroad",
          "Automotive, Banking, and Financial Services",
          "Automotive, Computer Software, and Information Technology and Services",
          "Automotive, Electrical/Electronic Manufacturing, and Information Technology and Services",
          "Automotive, Electrical/Electronic Manufacturing, and Mechanical or Industrial Engineering",
          "Automotive, Insurance, and Financial Services",
          "Automotive, Logistics and Supply Chain, and Computer Software",
          "Automotive, Mechanical or Industrial Engineering, and Transportation/Trucking/Railroad",
          "Automotive, Renewables & Environment, and Utilities",
          "Automotive, Staffing and Recruiting, and Transportation/Trucking/Railroad",
          "Aviation & Aerospace",
          "Aviation & Aerospace and Defense & Space",
          "Aviation & Aerospace, Computer Software, and Defense & Space",
          "Banking",
          "Banking and Financial Services",
          "Banking, Capital Markets, and Financial Services",
          "Banking, Financial Services, and Information Technology and Services",
          "Banking, Financial Services, and Investment Banking",
          "Banking, Financial Services, and Investment Management",
          "Banking, Investment Banking, and Investment Management",
          "Biotechnology",
          "Biotechnology and Medical Devices",
          "Biotechnology and Pharmaceuticals",
          "Biotechnology and Research",
          "Biotechnology, Hospital & Health Care, and Electrical/Electronic Manufacturing",
          "Biotechnology, Hospital & Health Care, and Pharmaceuticals",
          "Biotechnology, Information Technology and Services, and Computer Software",
          "Biotechnology, Medical Devices, and Computer Software",
          "Biotechnology, Medical Devices, and Research",
          "Biotechnology, Pharmaceuticals, and Research",
          "Biotechnology, Research, and Medical Devices",
          "Biotechnology, Research, and Nonprofit Organization Management",
          "Biotechnology, Research, and Pharmaceuticals",
          "Broadcast Media",
          "Broadcast Media, Entertainment, and Media Production",
          "Broadcast Media, Online Media, and Media Production",
          "Building Materials and Logistics and Supply Chain",
          "Capital Markets and Financial Services",
          "Capital Markets, Banking, and Financial Services",
          "Capital Markets, Computer Software, and Financial Services",
          "Capital Markets, Financial Services, and Investment Management",
          "Capital Markets, Research, and Computer Software",
          "Chemicals",
          "Chemicals and Plastics",
          "Chemicals, Food & Beverages, and Food Production",
          "Chemicals, Mechanical or Industrial Engineering, and Research",
          "Chemicals, Pharmaceuticals, and Biotechnology",
          "Civic & Social Organization and Nonprofit Organization Management",
          "Civil Engineering",
          "Commercial Real Estate",
          "Commercial Real Estate, Information Technology and Services, and Research",
          "Computer & Network Security",
          "Computer & Network Security and Computer Software",
          "Computer & Network Security, Computer Software, and Information Technology and Services",
          "Computer & Network Security, Government Administration, and Information Technology and Services",
          "Computer & Network Security, Information Technology and Services, and Nanotechnology",
          "Computer Games",
          "Computer Games and Computer Software",
          "Computer Games, Computer Software, and Entertainment",
          "Computer Games, Computer Software, and Internet",
          "Computer Games, Information Technology and Services, and Computer Software",
          "Computer Hardware",
          "Computer Hardware and Computer Software",
          "Computer Hardware, Computer Networking, and Computer Software",
          "Computer Hardware, Computer Software, and Computer Networking",
          "Computer Hardware, Computer Software, and Consumer Electronics",
          "Computer Hardware, Computer Software, and Information Technology and Services",
          "Computer Hardware, Computer Software, and Semiconductors",
          "Computer Hardware, Defense & Space, and Information Technology and Services",
          "Computer Hardware, Electrical/Electronic Manufacturing, and Information Technology and Services",
          "Computer Hardware, Electrical/Electronic Manufacturing, and Semiconductors",
          "Computer Hardware, Semiconductors, and Computer Software",
          "Computer Networking",
          "Computer Networking and Computer Software",
          "Computer Networking and Information Technology and Services",
          "Computer Networking, Computer Software, and Computer & Network Security",
          "Computer Networking, Computer Software, and Information Technology and Services",
          "Computer Networking, Computer Software, and Internet",
          "Computer Networking, Electrical/Electronic Manufacturing, and Telecommunications",
          "Computer Software",
          "Computer Software and Accounting",
          "Computer Software and Automotive",
          "Computer Software and Computer & Network Security",
          "Computer Software and Computer Hardware",
          "Computer Software and Consumer Goods",
          "Computer Software and Defense & Space",
          "Computer Software and Design",
          "Computer Software and Electrical/Electronic Manufacturing",
          "Computer Software and Hospital & Health Care",
          "Computer Software and Industrial Automation",
          "Computer Software and Information Technology and Services",
          "Computer Software and Internet",
          "Computer Software and Logistics and Supply Chain",
          "Computer Software and Market Research",
          "Computer Software and Marketing and Advertising",
          "Computer Software and Program Development",
          "Computer Software and Sports",
          "Computer Software and Venture Capital & Private Equity",
          "Computer Software, Automotive, and Financial Services",
          "Computer Software, Automotive, and Information Technology and Services",
          "Computer Software, Automotive, and Telecommunications",
          "Computer Software, Banking, and Computer & Network Security",
          "Computer Software, Banking, and Financial Services",
          "Computer Software, Biotechnology, and Hospital & Health Care",
          "Computer Software, Biotechnology, and Pharmaceuticals",
          "Computer Software, Broadcast Media, and Online Media",
          "Computer Software, Computer & Network Security, and Computer Networking",
          "Computer Software, Computer & Network Security, and Information Technology and Services",
          "Computer Software, Computer Hardware, and Computer Networking",
          "Computer Software, Computer Hardware, and Internet",
          "Computer Software, Computer Hardware, and Research",
          "Computer Software, Computer Networking, and Computer & Network Security",
          "Computer Software, Computer Networking, and Computer Games",
          "Computer Software, Computer Networking, and Consumer Electronics",
          "Computer Software, Computer Networking, and Internet",
          "Computer Software, Consumer Services, and Automotive",
          "Computer Software, Consumer Services, and Entertainment",
          "Computer Software, Consumer Services, and Information Technology and Services",
          "Computer Software, Consumer Services, and Internet",
          "Computer Software, Design, and Information Technology and Services",
          "Computer Software, Entertainment, and Computer Games",
          "Computer Software, Financial Services, and Accounting",
          "Computer Software, Financial Services, and Hospital & Health Care",
          "Computer Software, Financial Services, and Human Resources",
          "Computer Software, Financial Services, and Information Services",
          "Computer Software, Financial Services, and Internet",
          "Computer Software, Financial Services, and Investment Management",
          "Computer Software, Financial Services, and Real Estate",
          "Computer Software, Health, Wellness and Fitness, and Hospital & Health Care",
          "Computer Software, Hospital & Health Care, and Research",
          "Computer Software, Human Resources, and Information Technology and Services",
          "Computer Software, Information Services, and Information Technology and Services",
          "Computer Software, Information Technology and Services, and Computer & Network Security",
          "Computer Software, Information Technology and Services, and Computer Networking",
          "Computer Software, Information Technology and Services, and Consumer Electronics",
          "Computer Software, Information Technology and Services, and E-Learning",
          "Computer Software, Information Technology and Services, and Information Services",
          "Computer Software, Information Technology and Services, and Internet",
          "Computer Software, Information Technology and Services, and Leisure, Travel & Tourism",
          "Computer Software, Information Technology and Services, and Marketing and Advertising",
          "Computer Software, Information Technology and Services, and Medical Devices",
          "Computer Software, Information Technology and Services, and Outsourcing/Offshoring",
          "Computer Software, Information Technology and Services, and Research",
          "Computer Software, Insurance, and Financial Services",
          "Computer Software, Internet, and Computer & Network Security",
          "Computer Software, Internet, and Computer Games",
          "Computer Software, Internet, and Consumer Goods",
          "Computer Software, Internet, and Consumer Services",
          "Computer Software, Internet, and Financial Services",
          "Computer Software, Internet, and Hospital & Health Care",
          "Computer Software, Internet, and Information Technology and Services",
          "Computer Software, Internet, and Management Consulting",
          "Computer Software, Internet, and Marketing and Advertising",
          "Computer Software, Internet, and Real Estate",
          "Computer Software, Internet, and Retail",
          "Computer Software, Marketing and Advertising, and Research",
          "Computer Software, Research, and Biotechnology",
          "Computer Software, Semiconductors, and Wireless",
          "Computer Software, Telecommunications, and Information Technology and Services",
          "Construction",
          "Construction and Machinery",
          "Construction, Architecture & Planning, and Oil & Energy",
          "Construction, Automotive, and Machinery",
          "Construction, Automotive, and Transportation/Trucking/Railroad",
          "Construction, Civil Engineering, and Transportation/Trucking/Railroad",
          "Construction, Computer Software, and Logistics and Supply Chain",
          "Construction, Entertainment, and Hospitality",
          "Construction, Food & Beverages, and Financial Services",
          "Construction, Food & Beverages, and Hospitality",
          "Construction, Food & Beverages, and Retail",
          "Construction, Food & Beverages, and Transportation/Trucking/Railroad",
          "Construction, Information Technology and Services, and Computer Software",
          "Construction, Information Technology and Services, and Defense & Space",
          "Construction, Information Technology and Services, and Financial Services",
          "Construction, Information Technology and Services, and Mechanical or Industrial Engineering",
          "Construction, Information Technology and Services, and Staffing and Recruiting",
          "Construction, Logistics and Supply Chain, and Transportation/Trucking/Railroad",
          "Construction, Marketing and Advertising, and Financial Services",
          "Construction, Mechanical or Industrial Engineering, and Oil & Energy",
          "Construction, Nonprofit Organization Management, and Retail",
          "Construction, Oil & Energy, and Financial Services",
          "Construction, Retail, and Hospital & Health Care",
          "Construction, Staffing and Recruiting, and Hospital & Health Care",
          "Consumer Electronics",
          "Consumer Electronics and Automotive",
          "Consumer Electronics and Information Technology and Services",
          "Consumer Electronics and Retail",
          "Consumer Electronics, Computer Software, and Electrical/Electronic Manufacturing",
          "Consumer Electronics, Entertainment, and Broadcast Media",
          "Consumer Goods",
          "Consumer Goods and Food & Beverages",
          "Consumer Goods, Banking, and Financial Services",
          "Consumer Goods, Entertainment, and Online Media",
          "Consumer Goods, Food & Beverages, and Retail",
          "Consumer Goods, Food Production, and Food & Beverages",
          "Consumer Goods, Food Production, and Health, Wellness and Fitness",
          "Consumer Goods, Health, Wellness and Fitness, and Food Production",
          "Consumer Goods, Hospitality, and Restaurants",
          "Consumer Goods, Information Technology and Services, and Wireless",
          "Consumer Goods, Logistics and Supply Chain, and Retail",
          "Consumer Goods, Market Research, and Retail",
          "Consumer Goods, Retail, and Financial Services",
          "Consumer Services",
          "Consumer Services, Financial Services, and Information Technology and Services",
          "Consumer Services, Health, Wellness and Fitness, and Information Technology and Services",
          "Cosmetics",
          "Defense & Space",
          "Defense & Space and Telecommunications",
          "Defense & Space, Aviation & Aerospace, and Military",
          "Defense & Space, Computer Software, and Aviation & Aerospace",
          "Defense & Space, Information Technology and Services, and Electrical/Electronic Manufacturing",
          "Design, Computer Software, and Internet",
          "E-Learning",
          "Education Management",
          "Education Management and E-Learning",
          "Education Management, Information Services, and Information Technology and Services",
          "Electrical/Electronic Manufacturing",
          "Electrical/Electronic Manufacturing and Computer Software",
          "Electrical/Electronic Manufacturing, Automotive, and Mechanical or Industrial Engineering",
          "Electrical/Electronic Manufacturing, Automotive, and Oil & Energy",
          "Electrical/Electronic Manufacturing, Aviation & Aerospace, and Mechanical or Industrial Engineering",
          "Electrical/Electronic Manufacturing, Computer Hardware, and Semiconductors",
          "Electrical/Electronic Manufacturing, Computer Software, and Automotive",
          "Electrical/Electronic Manufacturing, Computer Software, and Consumer Electronics",
          "Electrical/Electronic Manufacturing, Computer Software, and Mechanical or Industrial Engineering",
          "Electrical/Electronic Manufacturing, Computer Software, and Oil & Energy",
          "Electrical/Electronic Manufacturing, Computer Software, and Semiconductors",
          "Electrical/Electronic Manufacturing, Construction, and Automotive",
          "Electrical/Electronic Manufacturing, Construction, and Computer Software",
          "Electrical/Electronic Manufacturing, Construction, and Mechanical or Industrial Engineering",
          "Electrical/Electronic Manufacturing, Construction, and Staffing and Recruiting",
          "Electrical/Electronic Manufacturing, Defense & Space, and Aviation & Aerospace",
          "Electrical/Electronic Manufacturing, Defense & Space, and Computer Software",
          "Electrical/Electronic Manufacturing, Industrial Automation, and Mechanical or Industrial Engineering",
          "Electrical/Electronic Manufacturing, Information Technology and Services, and Automotive",
          "Electrical/Electronic Manufacturing, Information Technology and Services, and Computer Software",
          "Electrical/Electronic Manufacturing, Information Technology and Services, and Mechanical or Industrial Engineering",
          "Electrical/Electronic Manufacturing, Information Technology and Services, and Staffing and Recruiting",
          "Electrical/Electronic Manufacturing, Information Technology and Services, and Telecommunications",
          "Electrical/Electronic Manufacturing, Logistics and Supply Chain, and Machinery",
          "Electrical/Electronic Manufacturing, Machinery, and Mechanical or Industrial Engineering",
          "Electrical/Electronic Manufacturing, Mechanical or Industrial Engineering, and Consumer Goods",
          "Electrical/Electronic Manufacturing, Mechanical or Industrial Engineering, and Medical Devices",
          "Electrical/Electronic Manufacturing, Mechanical or Industrial Engineering, and Semiconductors",
          "Electrical/Electronic Manufacturing, Medical Devices, and Biotechnology",
          "Electrical/Electronic Manufacturing, Nanotechnology, and Semiconductors",
          "Entertainment",
          "Entertainment and Broadcast Media",
          "Entertainment and Information Technology and Services",
          "Entertainment and Marketing and Advertising",
          "Entertainment and Sports",
          "Entertainment, Broadcast Media, and Online Media",
          "Entertainment, Internet, and Motion Pictures and Film",
          "Environmental Services",
          "Environmental Services, Civil Engineering, and Oil & Energy",
          "Environmental Services, Information Technology and Services, and Staffing and Recruiting",
          "Farming",
          "Financial Services",
          "Financial Services and Computer Software",
          "Financial Services and Information Technology and Services",
          "Financial Services and Insurance",
          "Financial Services and Investment Management",
          "Financial Services and Retail",
          "Financial Services, Automotive, and Information Technology and Services",
          "Financial Services, Banking, and Information Technology and Services",
          "Financial Services, Capital Markets, and Investment Banking",
          "Financial Services, Computer Software, and Internet",
          "Financial Services, Health, Wellness and Fitness, and Hospital & Health Care",
          "Financial Services, Hospital & Health Care, and Management Consulting",
          "Financial Services, Information Services, and Information Technology and Services",
          "Financial Services, Information Technology and Services, and Computer Software",
          "Financial Services, Information Technology and Services, and Information Services",
          "Financial Services, Information Technology and Services, and Internet",
          "Financial Services, Information Technology and Services, and Market Research",
          "Financial Services, Insurance, and Information Technology and Services",
          "Financial Services, Internet, and Computer Software",
          "Financial Services, Investment Banking, and Investment Management",
          "Financial Services, Investment Management, and Banking",
          "Financial Services, Logistics and Supply Chain, and Transportation/Trucking/Railroad",
          "Financial Services, Real Estate, and Hospitality",
          "Food & Beverages",
          "Food & Beverages and Information Technology and Services",
          "Food & Beverages and Logistics and Supply Chain",
          "Food & Beverages and Retail",
          "Food & Beverages, Computer Software, and Food Production",
          "Food & Beverages, Food Production, and Consumer Goods",
          "Food & Beverages, Food Production, and Retail",
          "Food & Beverages, Retail, and Financial Services",
          "Food & Beverages, Retail, and Hospital & Health Care",
          "Food Production",
          "Furniture",
          "Government Administration",
          "Government Administration and Information Technology and Services",
          "Government Administration, Information Services, and Information Technology and Services",
          "Government Relations",
          "Health, Wellness and Fitness",
          "Health, Wellness and Fitness and Computer Software",
          "Health, Wellness and Fitness and Hospital & Health Care",
          "Health, Wellness and Fitness and Mental Health Care",
          "Health, Wellness and Fitness, Hospital & Health Care, and Medical Practice",
          "Health, Wellness and Fitness, Medical Devices, and Information Technology and Services",
          "Health, Wellness and Fitness, Medical Practice, and Hospital & Health Care",
          "Health, Wellness and Fitness, Pharmaceuticals, and Retail",
          "Higher Education",
          "Higher Education, E-Learning, and Computer Software",
          "Higher Education, Government Administration, and Financial Services",
          "Hospital & Health Care",
          "Hospital & Health Care and Biotechnology",
          "Hospital & Health Care and Health, Wellness and Fitness",
          "Hospital & Health Care and Information Technology and Services",
          "Hospital & Health Care and Insurance",
          "Hospital & Health Care, Financial Services, and Computer Software",
          "Hospital & Health Care, Health, Wellness and Fitness, and Medical Devices",
          "Hospital & Health Care, Insurance, and Pharmaceuticals",
          "Hospital & Health Care, Logistics and Supply Chain, and Medical Devices",
          "Hospital & Health Care, Medical Devices, and Pharmaceuticals",
          "Hospital & Health Care, Pharmaceuticals, and Biotechnology",
          "Hospitality",
          "Hospitality, Information Technology and Services, and Internet",
          "Hospitality, Internet, and Leisure, Travel & Tourism",
          "Hospitality, Internet, and Restaurants",
          "Human Resources",
          "Human Resources, Information Technology and Services, and Marketing and Advertising",
          "Industrial Automation",
          "Industrial Automation and Computer Software",
          "Industrial Automation and Mechanical or Industrial Engineering",
          "Industrial Automation, Aviation & Aerospace, and Computer Software",
          "Information Services",
          "Information Services and Computer Software",
          "Information Services and Information Technology and Services",
          "Information Services and Internet",
          "Information Services, Financial Services, and Banking",
          "Information Services, Information Technology and Services, and Computer Networking",
          "Information Services, Information Technology and Services, and Computer Software",
          "Information Services, Information Technology and Services, and Financial Services",
          "Information Services, Information Technology and Services, and Health, Wellness and Fitness",
          "Information Technology and Services",
          "Information Technology and Services and Automotive",
          "Information Technology and Services and Computer & Network Security",
          "Information Technology and Services and Computer Hardware",
          "Information Technology and Services and Computer Software",
          "Information Technology and Services and Consumer Electronics",
          "Information Technology and Services and Consumer Services",
          "Information Technology and Services and Defense & Space",
          "Information Technology and Services and Financial Services",
          "Information Technology and Services and Government Administration",
          "Information Technology and Services and Health, Wellness and Fitness",
          "Information Technology and Services and Hospital & Health Care",
          "Information Technology and Services and Information Services",
          "Information Technology and Services and Insurance",
          "Information Technology and Services and Internet",
          "Information Technology and Services and Management Consulting",
          "Information Technology and Services and Medical Devices",
          "Information Technology and Services and Renewables & Environment",
          "Information Technology and Services and Retail",
          "Information Technology and Services and Semiconductors",
          "Information Technology and Services and Telecommunications",
          "Information Technology and Services and Transportation/Trucking/Railroad",
          "Information Technology and Services, Accounting, and Financial Services",
          "Information Technology and Services, Automotive, and Financial Services",
          "Information Technology and Services, Banking, and Financial Services",
          "Information Technology and Services, Biotechnology, and Hospital & Health Care",
          "Information Technology and Services, Biotechnology, and Medical Devices",
          "Information Technology and Services, Commercial Real Estate, and Computer Software",
          "Information Technology and Services, Computer & Network Security, and Computer Software",
          "Information Technology and Services, Computer & Network Security, and Information Services",
          "Information Technology and Services, Computer & Network Security, and Security and Investigations",
          "Information Technology and Services, Computer Hardware, and Computer & Network Security",
          "Information Technology and Services, Computer Hardware, and Computer Software",
          "Information Technology and Services, Computer Networking, and Computer Software",
          "Information Technology and Services, Computer Software, and Automotive",
          "Information Technology and Services, Computer Software, and Aviation & Aerospace",
          "Information Technology and Services, Computer Software, and Biotechnology",
          "Information Technology and Services, Computer Software, and Business Supplies and Equipment",
          "Information Technology and Services, Computer Software, and Computer & Network Security",
          "Information Technology and Services, Computer Software, and Computer Networking",
          "Information Technology and Services, Computer Software, and Financial Services",
          "Information Technology and Services, Computer Software, and Hospital & Health Care",
          "Information Technology and Services, Computer Software, and Human Resources",
          "Information Technology and Services, Computer Software, and Information Services",
          "Information Technology and Services, Computer Software, and Insurance",
          "Information Technology and Services, Computer Software, and Internet",
          "Information Technology and Services, Computer Software, and Logistics and Supply Chain",
          "Information Technology and Services, Computer Software, and Management Consulting",
          "Information Technology and Services, Computer Software, and Mechanical or Industrial Engineering",
          "Information Technology and Services, Computer Software, and Oil & Energy",
          "Information Technology and Services, Computer Software, and Pharmaceuticals",
          "Information Technology and Services, Computer Software, and Public Safety",
          "Information Technology and Services, Computer Software, and Research",
          "Information Technology and Services, Computer Software, and Semiconductors",
          "Information Technology and Services, Computer Software, and Staffing and Recruiting",
          "Information Technology and Services, Computer Software, and Telecommunications",
          "Information Technology and Services, Computer Software, and Utilities",
          "Information Technology and Services, Consumer Electronics, and Consumer Services",
          "Information Technology and Services, Consumer Electronics, and Marketing and Advertising",
          "Information Technology and Services, Defense & Space, and Aviation & Aerospace",
          "Information Technology and Services, Defense & Space, and Computer & Network Security",
          "Information Technology and Services, Defense & Space, and Computer Software",
          "Information Technology and Services, Defense & Space, and Research",
          "Information Technology and Services, Defense & Space, and Telecommunications",
          "Information Technology and Services, Design, and Computer Software",
          "Information Technology and Services, Design, and Hospital & Health Care",
          "Information Technology and Services, Electrical/Electronic Manufacturing, and Oil & Energy",
          "Information Technology and Services, Financial Services, and Banking",
          "Information Technology and Services, Financial Services, and Hospital & Health Care",
          "Information Technology and Services, Financial Services, and Investment Banking",
          "Information Technology and Services, Financial Services, and Real Estate",
          "Information Technology and Services, Financial Services, and Transportation/Trucking/Railroad",
          "Information Technology and Services, Government Relations, and Architecture & Planning",
          "Information Technology and Services, Higher Education, and Computer Software",
          "Information Technology and Services, Hospital & Health Care, and Pharmaceuticals",
          "Information Technology and Services, Information Services, and Capital Markets",
          "Information Technology and Services, Information Services, and Research",
          "Information Technology and Services, Insurance, and Financial Services",
          "Information Technology and Services, Insurance, and Hospital & Health Care",
          "Information Technology and Services, Internet, and Computer & Network Security",
          "Information Technology and Services, Internet, and Market Research",
          "Information Technology and Services, Internet, and Marketing and Advertising",
          "Information Technology and Services, Internet, and Online Media",
          "Information Technology and Services, Internet, and Staffing and Recruiting",
          "Information Technology and Services, Internet, and Telecommunications",
          "Information Technology and Services, Machinery, and Staffing and Recruiting",
          "Information Technology and Services, Management Consulting, and Financial Services",
          "Information Technology and Services, Management Consulting, and Outsourcing/Offshoring",
          "Information Technology and Services, Mechanical or Industrial Engineering, and Financial Services",
          "Information Technology and Services, Nonprofit Organization Management, and Computer Software",
          "Information Technology and Services, Oil & Energy, and Financial Services",
          "Information Technology and Services, Pharmaceuticals, and Biotechnology",
          "Information Technology and Services, Retail, and Consumer Electronics",
          "Information Technology and Services, Retail, and Financial Services",
          "Information Technology and Services, Semiconductors, and Wireless",
          "Information Technology and Services, Staffing and Recruiting, and Financial Services",
          "Information Technology and Services, Staffing and Recruiting, and Hospital & Health Care",
          "Information Technology and Services, Staffing and Recruiting, and Human Resources",
          "Information Technology and Services, Staffing and Recruiting, and Management Consulting",
          "Information Technology and Services, Staffing and Recruiting, and Pharmaceuticals",
          "Information Technology and Services, Telecommunications, and Financial Services",
          "Information Technology and Services, Transportation/Trucking/Railroad, and Warehousing",
          "Insurance",
          "Insurance and Consumer Services",
          "Insurance and Financial Services",
          "Insurance and Health, Wellness and Fitness",
          "Insurance and Management Consulting",
          "Insurance and Marketing and Advertising",
          "Insurance and Research",
          "Insurance, Computer Software, and Online Media",
          "Insurance, Financial Services, and Hospital & Health Care",
          "Insurance, Health, Wellness and Fitness, and Information Technology and Services",
          "Internet",
          "Internet and Computer Software",
          "Internet and Financial Services",
          "Internet and Information Technology and Services",
          "Internet and Leisure, Travel & Tourism",
          "Internet, Automotive, and Consumer Services",
          "Internet, Computer Software, and Computer Games",
          "Internet, Computer Software, and Financial Services",
          "Internet, Computer Software, and Health, Wellness and Fitness",
          "Internet, Computer Software, and Information Technology and Services",
          "Internet, Computer Software, and Real Estate",
          "Internet, Consumer Goods, and Retail",
          "Internet, Financial Services, and Accounting",
          "Internet, Financial Services, and Consumer Services",
          "Internet, Financial Services, and Hospital & Health Care",
          "Internet, Financial Services, and Real Estate",
          "Internet, Health, Wellness and Fitness, and Mental Health Care",
          "Internet, Information Technology and Services, and Computer Software",
          "Internet, Information Technology and Services, and Information Services",
          "Internet, Information Technology and Services, and Media Production",
          "Internet, Insurance, and Financial Services",
          "Internet, Marketing and Advertising, and Computer Software",
          "Internet, Online Media, and Information Technology and Services",
          "Investment Banking, Banking, and Investment Management",
          "Investment Banking, Investment Management, and Banking",
          "Investment Management",
          "Investment Management and Financial Services",
          "Investment Management, Financial Services, and Capital Markets",
          "Law Enforcement, Computer Networking, and Information Technology and Services",
          "Law Enforcement, Information Technology and Services, and Computer Software",
          "Legal Services",
          "Leisure, Travel & Tourism",
          "Leisure, Travel & Tourism and Hospitality",
          "Logistics and Supply Chain",
          "Logistics and Supply Chain and Pharmaceuticals",
          "Logistics and Supply Chain, Financial Services, and Transportation/Trucking/Railroad",
          "Logistics and Supply Chain, Human Resources, and Financial Services",
          "Logistics and Supply Chain, Public Relations and Communications, and International Trade and Development",
          "Machinery",
          "Machinery and Farming",
          "Machinery and Industrial Automation",
          "Machinery, Mechanical or Industrial Engineering, and Human Resources",
          "Machinery, Mechanical or Industrial Engineering, and Staffing and Recruiting",
          "Machinery, Staffing and Recruiting, and Financial Services",
          "Management Consulting",
          "Management Consulting and Computer Software",
          "Management Consulting and Information Technology and Services",
          "Management Consulting, Accounting, and Information Technology and Services",
          "Management Consulting, Financial Services, and Accounting",
          "Management Consulting, Information Technology and Services, and Biotechnology",
          "Management Consulting, Information Technology and Services, and Industrial Automation",
          "Management Consulting, Market Research, and Marketing and Advertising",
          "Maritime",
          "Market Research",
          "Market Research, Retail, and Consumer Goods",
          "Marketing and Advertising",
          "Marketing and Advertising and Financial Services",
          "Marketing and Advertising and Health, Wellness and Fitness",
          "Marketing and Advertising and Information Technology and Services",
          "Marketing and Advertising, Apparel & Fashion, and Retail",
          "Marketing and Advertising, Automotive, and Financial Services",
          "Marketing and Advertising, Chemicals, and Staffing and Recruiting",
          "Marketing and Advertising, Computer Software, and Entertainment",
          "Marketing and Advertising, Computer Software, and Financial Services",
          "Marketing and Advertising, Computer Software, and Hospital & Health Care",
          "Marketing and Advertising, Computer Software, and Information Technology and Services",
          "Marketing and Advertising, Computer Software, and Internet",
          "Marketing and Advertising, Consumer Goods, and Retail",
          "Marketing and Advertising, Design, and Graphic Design",
          "Marketing and Advertising, Design, and Internet",
          "Marketing and Advertising, Food & Beverages, and Computer Software",
          "Marketing and Advertising, Information Technology and Services, and Computer Software",
          "Marketing and Advertising, Information Technology and Services, and Entertainment",
          "Marketing and Advertising, Information Technology and Services, and Financial Services",
          "Marketing and Advertising, Information Technology and Services, and Information Services",
          "Marketing and Advertising, Information Technology and Services, and Internet",
          "Marketing and Advertising, Information Technology and Services, and Staffing and Recruiting",
          "Marketing and Advertising, Internet, and Consumer Goods",
          "Marketing and Advertising, Internet, and Financial Services",
          "Marketing and Advertising, Internet, and Retail",
          "Marketing and Advertising, Internet, and Staffing and Recruiting",
          "Marketing and Advertising, Market Research, and Research",
          "Marketing and Advertising, Nonprofit Organization Management, and Insurance",
          "Marketing and Advertising, Online Media, and Internet",
          "Marketing and Advertising, Pharmaceuticals, and Online Media",
          "Marketing and Advertising, Retail, and Financial Services",
          "Mechanical or Industrial Engineering",
          "Mechanical or Industrial Engineering, Aviation & Aerospace, and Airlines/Aviation",
          "Media Production, Online Media, and Broadcast Media",
          "Medical Devices",
          "Medical Devices, Biotechnology, and Hospital & Health Care",
          "Medical Devices, Biotechnology, and Pharmaceuticals",
          "Medical Devices, Computer Software, and Hospital & Health Care",
          "Medical Devices, Computer Software, and Pharmaceuticals",
          "Medical Devices, Health, Wellness and Fitness, and Hospital & Health Care",
          "Medical Devices, Hospital & Health Care, and Biotechnology",
          "Medical Devices, Hospital & Health Care, and Information Technology and Services",
          "Medical Devices, Hospital & Health Care, and Pharmaceuticals",
          "Medical Devices, Pharmaceuticals, and Hospital & Health Care",
          "Mental Health Care",
          "Mental Health Care, Health, Wellness and Fitness, and Hospital & Health Care",
          "Music, Computer Software, and Entertainment",
          "Music, Internet, and Computer Software",
          "Music, Research, and Computer Software",
          "Nonprofit Organization Management",
          "Nonprofit Organization Management and Fund-Raising",
          "Nonprofit Organization Management and Mental Health Care",
          "Nonprofit Organization Management, Education Management, and Maritime",
          "Nonprofit Organization Management, Financial Services, and Hospital & Health Care",
          "Nonprofit Organization Management, Financial Services, and Real Estate",
          "Nonprofit Organization Management, Government Administration, and Hospital & Health Care",
          "Nonprofit Organization Management, Health, Wellness and Fitness, and Hospital & Health Care",
          "Nonprofit Organization Management, Higher Education, and Education Management",
          "Nonprofit Organization Management, Insurance, and Financial Services",
          "Nonprofit Organization Management, Internet, and Insurance",
          "Nonprofit Organization Management, Management Consulting, and Financial Services",
          "Nonprofit Organization Management, Research, and Management Consulting",
          "Oil & Energy",
          "Oil & Energy and Renewables & Environment",
          "Oil & Energy, Management Consulting, and Financial Services",
          "Online Media",
          "Online Media, Computer Software, and Internet",
          "Online Media, Entertainment, and Computer Software",
          "Online Media, Internet, and Entertainment",
          "Online Media, Publishing, and Newspapers",
          "Outsourcing/Offshoring",
          "Pharmaceuticals",
          "Pharmaceuticals and Biotechnology",
          "Pharmaceuticals and Hospital & Health Care",
          "Pharmaceuticals and Medical Devices",
          "Pharmaceuticals, Biotechnology, and Medical Devices",
          "Pharmaceuticals, Health, Wellness and Fitness, and International Affairs",
          "Primary/Secondary Education, Higher Education, and Government Administration",
          "Printing",
          "Professional Training & Coaching",
          "Public Safety",
          "Public Safety, Judiciary, and Law Enforcement",
          "Publishing",
          "Publishing, Computer Software, and Online Media",
          "Publishing, Information Technology and Services, and E-Learning",
          "Publishing, Online Media, and Media Production",
          "Railroad Manufacture and Transportation/Trucking/Railroad",
          "Real Estate",
          "Real Estate and Computer Software",
          "Renewables & Environment",
          "Renewables & Environment, Information Technology and Services, and Computer Software",
          "Research",
          "Research and Higher Education",
          "Research and Information Technology and Services",
          "Research, Biotechnology, and Hospital & Health Care",
          "Research, Biotechnology, and Pharmaceuticals",
          "Research, Computer Software, and Biotechnology",
          "Restaurants",
          "Restaurants, Facilities Services, and Hospitality",
          "Restaurants, Food & Beverages, and Food Production",
          "Restaurants, Hospitality, and Information Technology and Services",
          "Retail",
          "Retail and Apparel & Fashion",
          "Retail and Consumer Goods",
          "Retail and Food & Beverages",
          "Retail, Apparel & Fashion, and Consumer Goods",
          "Retail, Automotive, and Information Technology and Services",
          "Retail, Consumer Goods, and Internet",
          "Retail, Health, Wellness and Fitness, and Hospital & Health Care",
          "Retail, Health, Wellness and Fitness, and Information Technology and Services",
          "Security and Investigations",
          "Semiconductors",
          "Semiconductors and Accounting",
          "Semiconductors and Electrical/Electronic Manufacturing",
          "Semiconductors, Computer Software, and Computer Hardware",
          "Semiconductors, Telecommunications, and Medical Devices",
          "Sporting Goods, Computer Software, and Information Technology and Services",
          "Sporting Goods, Retail, and Information Technology and Services",
          "Sports",
          "Staffing and Recruiting",
          "Staffing and Recruiting and Chemicals",
          "Staffing and Recruiting and Consumer Services",
          "Staffing and Recruiting and Financial Services",
          "Staffing and Recruiting and Information Technology and Services",
          "Staffing and Recruiting, Banking, and Financial Services",
          "Staffing and Recruiting, Computer Hardware, and Computer Software",
          "Staffing and Recruiting, Computer Networking, and Information Technology and Services",
          "Staffing and Recruiting, Financial Services, and Hospital & Health Care",
          "Staffing and Recruiting, Financial Services, and Information Technology and Services",
          "Telecommunications",
          "Telecommunications and Aviation & Aerospace",
          "Telecommunications and Computer Networking",
          "Telecommunications and Information Technology and Services",
          "Telecommunications, Biotechnology, and Information Technology and Services",
          "Telecommunications, Hospital & Health Care, and Information Technology and Services",
          "Telecommunications, Information Technology and Services, and Computer & Network Security",
          "Translation and Localization",
          "Transportation/Trucking/Railroad",
          "Utilities",
          "Venture Capital & Private Equity",
          "Wholesale, Consumer Goods, and Retail",
          "Wine and Spirits, Food & Beverages, and Consumer Goods",
          "Wireless and Telecommunications",
          "Wireless, Computer Software, and Computer Hardware",
          "Wireless, Information Technology and Services, and Telecommunications"
         ],
         "name": "",
         "parents": [
          "Accounting",
          "Accounting, Financial Services, and Information Technology and Services",
          "Accounting, Financial Services, and Management Consulting",
          "Accounting, Information Technology and Services, and Management Consulting",
          "Airlines/Aviation",
          "Airlines/Aviation",
          "Airlines/Aviation, Aviation & Aerospace, and Defense & Space",
          "Airlines/Aviation, Defense & Space, and Oil & Energy",
          "Airlines/Aviation, Information Technology and Services, and Computer Software",
          "Apparel & Fashion",
          "Apparel & Fashion, Consumer Goods, and Retail",
          "Apparel & Fashion, Furniture, and Retail",
          "Apparel & Fashion, Information Technology and Services, and Retail",
          "Apparel & Fashion, Internet, and Retail",
          "Apparel & Fashion, Retail, and Luxury Goods & Jewelry",
          "Architecture & Planning",
          "Architecture & Planning and Design",
          "Arts and Crafts, Building Materials, and Consumer Goods",
          "Automotive",
          "Automotive and Consumer Goods",
          "Automotive and Electrical/Electronic Manufacturing",
          "Automotive and Marketing and Advertising",
          "Automotive and Retail",
          "Automotive and Transportation/Trucking/Railroad",
          "Automotive, Banking, and Financial Services",
          "Automotive, Computer Software, and Information Technology and Services",
          "Automotive, Electrical/Electronic Manufacturing, and Information Technology and Services",
          "Automotive, Electrical/Electronic Manufacturing, and Mechanical or Industrial Engineering",
          "Automotive, Insurance, and Financial Services",
          "Automotive, Logistics and Supply Chain, and Computer Software",
          "Automotive, Mechanical or Industrial Engineering, and Transportation/Trucking/Railroad",
          "Automotive, Renewables & Environment, and Utilities",
          "Automotive, Staffing and Recruiting, and Transportation/Trucking/Railroad",
          "Aviation & Aerospace",
          "Aviation & Aerospace",
          "Aviation & Aerospace and Defense & Space",
          "Aviation & Aerospace, Computer Software, and Defense & Space",
          "Banking",
          "Banking and Financial Services",
          "Banking, Capital Markets, and Financial Services",
          "Banking, Financial Services, and Information Technology and Services",
          "Banking, Financial Services, and Investment Banking",
          "Banking, Financial Services, and Investment Management",
          "Banking, Investment Banking, and Investment Management",
          "Biotechnology",
          "Biotechnology and Medical Devices",
          "Biotechnology and Pharmaceuticals",
          "Biotechnology and Research",
          "Biotechnology, Hospital & Health Care, and Electrical/Electronic Manufacturing",
          "Biotechnology, Hospital & Health Care, and Pharmaceuticals",
          "Biotechnology, Hospital & Health Care, and Pharmaceuticals",
          "Biotechnology, Hospital & Health Care, and Pharmaceuticals",
          "Biotechnology, Information Technology and Services, and Computer Software",
          "Biotechnology, Medical Devices, and Computer Software",
          "Biotechnology, Medical Devices, and Research",
          "Biotechnology, Pharmaceuticals, and Research",
          "Biotechnology, Research, and Medical Devices",
          "Biotechnology, Research, and Nonprofit Organization Management",
          "Biotechnology, Research, and Pharmaceuticals",
          "Broadcast Media",
          "Broadcast Media, Entertainment, and Media Production",
          "Broadcast Media, Online Media, and Media Production",
          "Building Materials and Logistics and Supply Chain",
          "Capital Markets and Financial Services",
          "Capital Markets, Banking, and Financial Services",
          "Capital Markets, Computer Software, and Financial Services",
          "Capital Markets, Financial Services, and Investment Management",
          "Capital Markets, Research, and Computer Software",
          "Chemicals",
          "Chemicals and Plastics",
          "Chemicals, Food & Beverages, and Food Production",
          "Chemicals, Mechanical or Industrial Engineering, and Research",
          "Chemicals, Pharmaceuticals, and Biotechnology",
          "Civic & Social Organization and Nonprofit Organization Management",
          "Civil Engineering",
          "Commercial Real Estate",
          "Commercial Real Estate, Information Technology and Services, and Research",
          "Computer & Network Security",
          "Computer & Network Security and Computer Software",
          "Computer & Network Security, Computer Software, and Information Technology and Services",
          "Computer & Network Security, Government Administration, and Information Technology and Services",
          "Computer & Network Security, Information Technology and Services, and Nanotechnology",
          "Computer Games",
          "Computer Games and Computer Software",
          "Computer Games, Computer Software, and Entertainment",
          "Computer Games, Computer Software, and Internet",
          "Computer Games, Information Technology and Services, and Computer Software",
          "Computer Hardware",
          "Computer Hardware and Computer Software",
          "Computer Hardware, Computer Networking, and Computer Software",
          "Computer Hardware, Computer Software, and Computer Networking",
          "Computer Hardware, Computer Software, and Consumer Electronics",
          "Computer Hardware, Computer Software, and Information Technology and Services",
          "Computer Hardware, Computer Software, and Semiconductors",
          "Computer Hardware, Defense & Space, and Information Technology and Services",
          "Computer Hardware, Electrical/Electronic Manufacturing, and Information Technology and Services",
          "Computer Hardware, Electrical/Electronic Manufacturing, and Semiconductors",
          "Computer Hardware, Semiconductors, and Computer Software",
          "Computer Networking",
          "Computer Networking and Computer Software",
          "Computer Networking and Information Technology and Services",
          "Computer Networking, Computer Software, and Computer & Network Security",
          "Computer Networking, Computer Software, and Information Technology and Services",
          "Computer Networking, Computer Software, and Internet",
          "Computer Networking, Electrical/Electronic Manufacturing, and Telecommunications",
          "Computer Software",
          "Computer Software",
          "Computer Software and Accounting",
          "Computer Software and Automotive",
          "Computer Software and Computer & Network Security",
          "Computer Software and Computer Hardware",
          "Computer Software and Consumer Goods",
          "Computer Software and Defense & Space",
          "Computer Software and Design",
          "Computer Software and Electrical/Electronic Manufacturing",
          "Computer Software and Hospital & Health Care",
          "Computer Software and Industrial Automation",
          "Computer Software and Information Technology and Services",
          "Computer Software and Internet",
          "Computer Software and Logistics and Supply Chain",
          "Computer Software and Market Research",
          "Computer Software and Marketing and Advertising",
          "Computer Software and Program Development",
          "Computer Software and Sports",
          "Computer Software and Venture Capital & Private Equity",
          "Computer Software, Automotive, and Financial Services",
          "Computer Software, Automotive, and Information Technology and Services",
          "Computer Software, Automotive, and Telecommunications",
          "Computer Software, Banking, and Computer & Network Security",
          "Computer Software, Banking, and Financial Services",
          "Computer Software, Biotechnology, and Hospital & Health Care",
          "Computer Software, Biotechnology, and Pharmaceuticals",
          "Computer Software, Broadcast Media, and Online Media",
          "Computer Software, Computer & Network Security, and Computer Networking",
          "Computer Software, Computer & Network Security, and Information Technology and Services",
          "Computer Software, Computer Hardware, and Computer Networking",
          "Computer Software, Computer Hardware, and Internet",
          "Computer Software, Computer Hardware, and Research",
          "Computer Software, Computer Networking, and Computer & Network Security",
          "Computer Software, Computer Networking, and Computer Games",
          "Computer Software, Computer Networking, and Consumer Electronics",
          "Computer Software, Computer Networking, and Internet",
          "Computer Software, Consumer Services, and Automotive",
          "Computer Software, Consumer Services, and Entertainment",
          "Computer Software, Consumer Services, and Information Technology and Services",
          "Computer Software, Consumer Services, and Internet",
          "Computer Software, Design, and Information Technology and Services",
          "Computer Software, Entertainment, and Computer Games",
          "Computer Software, Financial Services, and Accounting",
          "Computer Software, Financial Services, and Hospital & Health Care",
          "Computer Software, Financial Services, and Human Resources",
          "Computer Software, Financial Services, and Information Services",
          "Computer Software, Financial Services, and Internet",
          "Computer Software, Financial Services, and Investment Management",
          "Computer Software, Financial Services, and Real Estate",
          "Computer Software, Health, Wellness and Fitness, and Hospital & Health Care",
          "Computer Software, Hospital & Health Care, and Research",
          "Computer Software, Human Resources, and Information Technology and Services",
          "Computer Software, Information Services, and Information Technology and Services",
          "Computer Software, Information Technology and Services, and Computer & Network Security",
          "Computer Software, Information Technology and Services, and Computer Networking",
          "Computer Software, Information Technology and Services, and Consumer Electronics",
          "Computer Software, Information Technology and Services, and E-Learning",
          "Computer Software, Information Technology and Services, and Information Services",
          "Computer Software, Information Technology and Services, and Internet",
          "Computer Software, Information Technology and Services, and Leisure, Travel & Tourism",
          "Computer Software, Information Technology and Services, and Marketing and Advertising",
          "Computer Software, Information Technology and Services, and Medical Devices",
          "Computer Software, Information Technology and Services, and Outsourcing/Offshoring",
          "Computer Software, Information Technology and Services, and Research",
          "Computer Software, Insurance, and Financial Services",
          "Computer Software, Internet, and Computer & Network Security",
          "Computer Software, Internet, and Computer Games",
          "Computer Software, Internet, and Consumer Goods",
          "Computer Software, Internet, and Consumer Services",
          "Computer Software, Internet, and Financial Services",
          "Computer Software, Internet, and Hospital & Health Care",
          "Computer Software, Internet, and Information Technology and Services",
          "Computer Software, Internet, and Management Consulting",
          "Computer Software, Internet, and Marketing and Advertising",
          "Computer Software, Internet, and Real Estate",
          "Computer Software, Internet, and Retail",
          "Computer Software, Marketing and Advertising, and Research",
          "Computer Software, Research, and Biotechnology",
          "Computer Software, Semiconductors, and Wireless",
          "Computer Software, Telecommunications, and Information Technology and Services",
          "Construction",
          "Construction",
          "Construction",
          "Construction and Machinery",
          "Construction, Architecture & Planning, and Oil & Energy",
          "Construction, Automotive, and Machinery",
          "Construction, Automotive, and Transportation/Trucking/Railroad",
          "Construction, Civil Engineering, and Transportation/Trucking/Railroad",
          "Construction, Computer Software, and Logistics and Supply Chain",
          "Construction, Entertainment, and Hospitality",
          "Construction, Food & Beverages, and Financial Services",
          "Construction, Food & Beverages, and Hospitality",
          "Construction, Food & Beverages, and Retail",
          "Construction, Food & Beverages, and Transportation/Trucking/Railroad",
          "Construction, Information Technology and Services, and Computer Software",
          "Construction, Information Technology and Services, and Defense & Space",
          "Construction, Information Technology and Services, and Financial Services",
          "Construction, Information Technology and Services, and Financial Services",
          "Construction, Information Technology and Services, and Mechanical or Industrial Engineering",
          "Construction, Information Technology and Services, and Staffing and Recruiting",
          "Construction, Logistics and Supply Chain, and Transportation/Trucking/Railroad",
          "Construction, Marketing and Advertising, and Financial Services",
          "Construction, Mechanical or Industrial Engineering, and Oil & Energy",
          "Construction, Nonprofit Organization Management, and Retail",
          "Construction, Oil & Energy, and Financial Services",
          "Construction, Retail, and Hospital & Health Care",
          "Construction, Retail, and Hospital & Health Care",
          "Construction, Retail, and Hospital & Health Care",
          "Construction, Staffing and Recruiting, and Hospital & Health Care",
          "Consumer Electronics",
          "Consumer Electronics and Automotive",
          "Consumer Electronics and Information Technology and Services",
          "Consumer Electronics and Retail",
          "Consumer Electronics, Computer Software, and Electrical/Electronic Manufacturing",
          "Consumer Electronics, Entertainment, and Broadcast Media",
          "Consumer Goods",
          "Consumer Goods and Food & Beverages",
          "Consumer Goods, Banking, and Financial Services",
          "Consumer Goods, Entertainment, and Online Media",
          "Consumer Goods, Entertainment, and Online Media",
          "Consumer Goods, Food & Beverages, and Retail",
          "Consumer Goods, Food Production, and Food & Beverages",
          "Consumer Goods, Food Production, and Health, Wellness and Fitness",
          "Consumer Goods, Health, Wellness and Fitness, and Food Production",
          "Consumer Goods, Hospitality, and Restaurants",
          "Consumer Goods, Information Technology and Services, and Wireless",
          "Consumer Goods, Logistics and Supply Chain, and Retail",
          "Consumer Goods, Market Research, and Retail",
          "Consumer Goods, Retail, and Financial Services",
          "Consumer Services",
          "Consumer Services, Financial Services, and Information Technology and Services",
          "Consumer Services, Health, Wellness and Fitness, and Information Technology and Services",
          "Cosmetics",
          "Defense & Space",
          "Defense & Space and Telecommunications",
          "Defense & Space, Aviation & Aerospace, and Military",
          "Defense & Space, Computer Software, and Aviation & Aerospace",
          "Defense & Space, Information Technology and Services, and Electrical/Electronic Manufacturing",
          "Design, Computer Software, and Internet",
          "E-Learning",
          "Education Management",
          "Education Management and E-Learning",
          "Education Management, Information Services, and Information Technology and Services",
          "Electrical/Electronic Manufacturing",
          "Electrical/Electronic Manufacturing and Computer Software",
          "Electrical/Electronic Manufacturing, Automotive, and Mechanical or Industrial Engineering",
          "Electrical/Electronic Manufacturing, Automotive, and Oil & Energy",
          "Electrical/Electronic Manufacturing, Aviation & Aerospace, and Mechanical or Industrial Engineering",
          "Electrical/Electronic Manufacturing, Computer Hardware, and Semiconductors",
          "Electrical/Electronic Manufacturing, Computer Software, and Automotive",
          "Electrical/Electronic Manufacturing, Computer Software, and Consumer Electronics",
          "Electrical/Electronic Manufacturing, Computer Software, and Mechanical or Industrial Engineering",
          "Electrical/Electronic Manufacturing, Computer Software, and Oil & Energy",
          "Electrical/Electronic Manufacturing, Computer Software, and Semiconductors",
          "Electrical/Electronic Manufacturing, Construction, and Automotive",
          "Electrical/Electronic Manufacturing, Construction, and Computer Software",
          "Electrical/Electronic Manufacturing, Construction, and Mechanical or Industrial Engineering",
          "Electrical/Electronic Manufacturing, Construction, and Staffing and Recruiting",
          "Electrical/Electronic Manufacturing, Defense & Space, and Aviation & Aerospace",
          "Electrical/Electronic Manufacturing, Defense & Space, and Computer Software",
          "Electrical/Electronic Manufacturing, Industrial Automation, and Mechanical or Industrial Engineering",
          "Electrical/Electronic Manufacturing, Information Technology and Services, and Automotive",
          "Electrical/Electronic Manufacturing, Information Technology and Services, and Computer Software",
          "Electrical/Electronic Manufacturing, Information Technology and Services, and Mechanical or Industrial Engineering",
          "Electrical/Electronic Manufacturing, Information Technology and Services, and Staffing and Recruiting",
          "Electrical/Electronic Manufacturing, Information Technology and Services, and Telecommunications",
          "Electrical/Electronic Manufacturing, Logistics and Supply Chain, and Machinery",
          "Electrical/Electronic Manufacturing, Machinery, and Mechanical or Industrial Engineering",
          "Electrical/Electronic Manufacturing, Mechanical or Industrial Engineering, and Consumer Goods",
          "Electrical/Electronic Manufacturing, Mechanical or Industrial Engineering, and Medical Devices",
          "Electrical/Electronic Manufacturing, Mechanical or Industrial Engineering, and Semiconductors",
          "Electrical/Electronic Manufacturing, Medical Devices, and Biotechnology",
          "Electrical/Electronic Manufacturing, Nanotechnology, and Semiconductors",
          "Entertainment",
          "Entertainment and Broadcast Media",
          "Entertainment and Information Technology and Services",
          "Entertainment and Marketing and Advertising",
          "Entertainment and Sports",
          "Entertainment, Broadcast Media, and Online Media",
          "Entertainment, Internet, and Motion Pictures and Film",
          "Environmental Services",
          "Environmental Services, Civil Engineering, and Oil & Energy",
          "Environmental Services, Information Technology and Services, and Staffing and Recruiting",
          "Farming",
          "Financial Services",
          "Financial Services",
          "Financial Services and Computer Software",
          "Financial Services and Information Technology and Services",
          "Financial Services and Insurance",
          "Financial Services and Investment Management",
          "Financial Services and Retail",
          "Financial Services, Automotive, and Information Technology and Services",
          "Financial Services, Banking, and Information Technology and Services",
          "Financial Services, Capital Markets, and Investment Banking",
          "Financial Services, Computer Software, and Internet",
          "Financial Services, Health, Wellness and Fitness, and Hospital & Health Care",
          "Financial Services, Hospital & Health Care, and Management Consulting",
          "Financial Services, Information Services, and Information Technology and Services",
          "Financial Services, Information Technology and Services, and Computer Software",
          "Financial Services, Information Technology and Services, and Information Services",
          "Financial Services, Information Technology and Services, and Internet",
          "Financial Services, Information Technology and Services, and Market Research",
          "Financial Services, Insurance, and Information Technology and Services",
          "Financial Services, Internet, and Computer Software",
          "Financial Services, Investment Banking, and Investment Management",
          "Financial Services, Investment Management, and Banking",
          "Financial Services, Logistics and Supply Chain, and Transportation/Trucking/Railroad",
          "Financial Services, Real Estate, and Hospitality",
          "Food & Beverages",
          "Food & Beverages and Information Technology and Services",
          "Food & Beverages and Logistics and Supply Chain",
          "Food & Beverages and Retail",
          "Food & Beverages, Computer Software, and Food Production",
          "Food & Beverages, Food Production, and Consumer Goods",
          "Food & Beverages, Food Production, and Retail",
          "Food & Beverages, Retail, and Financial Services",
          "Food & Beverages, Retail, and Hospital & Health Care",
          "Food Production",
          "Furniture",
          "Government Administration",
          "Government Administration and Information Technology and Services",
          "Government Administration, Information Services, and Information Technology and Services",
          "Government Relations",
          "Health, Wellness and Fitness",
          "Health, Wellness and Fitness and Computer Software",
          "Health, Wellness and Fitness and Hospital & Health Care",
          "Health, Wellness and Fitness and Mental Health Care",
          "Health, Wellness and Fitness, Hospital & Health Care, and Medical Practice",
          "Health, Wellness and Fitness, Medical Devices, and Information Technology and Services",
          "Health, Wellness and Fitness, Medical Practice, and Hospital & Health Care",
          "Health, Wellness and Fitness, Pharmaceuticals, and Retail",
          "Higher Education",
          "Higher Education, E-Learning, and Computer Software",
          "Higher Education, Government Administration, and Financial Services",
          "Hospital & Health Care",
          "Hospital & Health Care",
          "Hospital & Health Care and Biotechnology",
          "Hospital & Health Care and Health, Wellness and Fitness",
          "Hospital & Health Care and Information Technology and Services",
          "Hospital & Health Care and Insurance",
          "Hospital & Health Care, Financial Services, and Computer Software",
          "Hospital & Health Care, Health, Wellness and Fitness, and Medical Devices",
          "Hospital & Health Care, Insurance, and Pharmaceuticals",
          "Hospital & Health Care, Logistics and Supply Chain, and Medical Devices",
          "Hospital & Health Care, Medical Devices, and Pharmaceuticals",
          "Hospital & Health Care, Pharmaceuticals, and Biotechnology",
          "Hospitality",
          "Hospitality, Information Technology and Services, and Internet",
          "Hospitality, Internet, and Leisure, Travel & Tourism",
          "Hospitality, Internet, and Restaurants",
          "Human Resources",
          "Human Resources, Information Technology and Services, and Marketing and Advertising",
          "Industrial Automation",
          "Industrial Automation and Computer Software",
          "Industrial Automation and Mechanical or Industrial Engineering",
          "Industrial Automation, Aviation & Aerospace, and Computer Software",
          "Information Services",
          "Information Services and Computer Software",
          "Information Services and Information Technology and Services",
          "Information Services and Internet",
          "Information Services, Financial Services, and Banking",
          "Information Services, Information Technology and Services, and Computer Networking",
          "Information Services, Information Technology and Services, and Computer Software",
          "Information Services, Information Technology and Services, and Financial Services",
          "Information Services, Information Technology and Services, and Health, Wellness and Fitness",
          "Information Technology and Services",
          "Information Technology and Services and Automotive",
          "Information Technology and Services and Computer & Network Security",
          "Information Technology and Services and Computer Hardware",
          "Information Technology and Services and Computer Software",
          "Information Technology and Services and Consumer Electronics",
          "Information Technology and Services and Consumer Services",
          "Information Technology and Services and Defense & Space",
          "Information Technology and Services and Financial Services",
          "Information Technology and Services and Government Administration",
          "Information Technology and Services and Health, Wellness and Fitness",
          "Information Technology and Services and Hospital & Health Care",
          "Information Technology and Services and Information Services",
          "Information Technology and Services and Insurance",
          "Information Technology and Services and Internet",
          "Information Technology and Services and Management Consulting",
          "Information Technology and Services and Medical Devices",
          "Information Technology and Services and Renewables & Environment",
          "Information Technology and Services and Retail",
          "Information Technology and Services and Semiconductors",
          "Information Technology and Services and Telecommunications",
          "Information Technology and Services and Transportation/Trucking/Railroad",
          "Information Technology and Services, Accounting, and Financial Services",
          "Information Technology and Services, Automotive, and Financial Services",
          "Information Technology and Services, Banking, and Financial Services",
          "Information Technology and Services, Biotechnology, and Hospital & Health Care",
          "Information Technology and Services, Biotechnology, and Medical Devices",
          "Information Technology and Services, Commercial Real Estate, and Computer Software",
          "Information Technology and Services, Computer & Network Security, and Computer Software",
          "Information Technology and Services, Computer & Network Security, and Information Services",
          "Information Technology and Services, Computer & Network Security, and Security and Investigations",
          "Information Technology and Services, Computer Hardware, and Computer & Network Security",
          "Information Technology and Services, Computer Hardware, and Computer Software",
          "Information Technology and Services, Computer Networking, and Computer Software",
          "Information Technology and Services, Computer Software, and Automotive",
          "Information Technology and Services, Computer Software, and Aviation & Aerospace",
          "Information Technology and Services, Computer Software, and Biotechnology",
          "Information Technology and Services, Computer Software, and Business Supplies and Equipment",
          "Information Technology and Services, Computer Software, and Computer & Network Security",
          "Information Technology and Services, Computer Software, and Computer Networking",
          "Information Technology and Services, Computer Software, and Financial Services",
          "Information Technology and Services, Computer Software, and Financial Services",
          "Information Technology and Services, Computer Software, and Hospital & Health Care",
          "Information Technology and Services, Computer Software, and Human Resources",
          "Information Technology and Services, Computer Software, and Information Services",
          "Information Technology and Services, Computer Software, and Insurance",
          "Information Technology and Services, Computer Software, and Internet",
          "Information Technology and Services, Computer Software, and Internet",
          "Information Technology and Services, Computer Software, and Logistics and Supply Chain",
          "Information Technology and Services, Computer Software, and Management Consulting",
          "Information Technology and Services, Computer Software, and Mechanical or Industrial Engineering",
          "Information Technology and Services, Computer Software, and Oil & Energy",
          "Information Technology and Services, Computer Software, and Pharmaceuticals",
          "Information Technology and Services, Computer Software, and Public Safety",
          "Information Technology and Services, Computer Software, and Research",
          "Information Technology and Services, Computer Software, and Semiconductors",
          "Information Technology and Services, Computer Software, and Staffing and Recruiting",
          "Information Technology and Services, Computer Software, and Telecommunications",
          "Information Technology and Services, Computer Software, and Utilities",
          "Information Technology and Services, Consumer Electronics, and Consumer Services",
          "Information Technology and Services, Consumer Electronics, and Marketing and Advertising",
          "Information Technology and Services, Defense & Space, and Aviation & Aerospace",
          "Information Technology and Services, Defense & Space, and Computer & Network Security",
          "Information Technology and Services, Defense & Space, and Computer Software",
          "Information Technology and Services, Defense & Space, and Research",
          "Information Technology and Services, Defense & Space, and Telecommunications",
          "Information Technology and Services, Design, and Computer Software",
          "Information Technology and Services, Design, and Hospital & Health Care",
          "Information Technology and Services, Electrical/Electronic Manufacturing, and Oil & Energy",
          "Information Technology and Services, Financial Services, and Banking",
          "Information Technology and Services, Financial Services, and Hospital & Health Care",
          "Information Technology and Services, Financial Services, and Investment Banking",
          "Information Technology and Services, Financial Services, and Real Estate",
          "Information Technology and Services, Financial Services, and Transportation/Trucking/Railroad",
          "Information Technology and Services, Government Relations, and Architecture & Planning",
          "Information Technology and Services, Higher Education, and Computer Software",
          "Information Technology and Services, Hospital & Health Care, and Pharmaceuticals",
          "Information Technology and Services, Information Services, and Capital Markets",
          "Information Technology and Services, Information Services, and Research",
          "Information Technology and Services, Insurance, and Financial Services",
          "Information Technology and Services, Insurance, and Hospital & Health Care",
          "Information Technology and Services, Internet, and Computer & Network Security",
          "Information Technology and Services, Internet, and Market Research",
          "Information Technology and Services, Internet, and Marketing and Advertising",
          "Information Technology and Services, Internet, and Online Media",
          "Information Technology and Services, Internet, and Staffing and Recruiting",
          "Information Technology and Services, Internet, and Telecommunications",
          "Information Technology and Services, Internet, and Telecommunications",
          "Information Technology and Services, Machinery, and Staffing and Recruiting",
          "Information Technology and Services, Management Consulting, and Financial Services",
          "Information Technology and Services, Management Consulting, and Outsourcing/Offshoring",
          "Information Technology and Services, Mechanical or Industrial Engineering, and Financial Services",
          "Information Technology and Services, Nonprofit Organization Management, and Computer Software",
          "Information Technology and Services, Oil & Energy, and Financial Services",
          "Information Technology and Services, Pharmaceuticals, and Biotechnology",
          "Information Technology and Services, Retail, and Consumer Electronics",
          "Information Technology and Services, Retail, and Financial Services",
          "Information Technology and Services, Semiconductors, and Wireless",
          "Information Technology and Services, Staffing and Recruiting, and Financial Services",
          "Information Technology and Services, Staffing and Recruiting, and Hospital & Health Care",
          "Information Technology and Services, Staffing and Recruiting, and Hospital & Health Care",
          "Information Technology and Services, Staffing and Recruiting, and Human Resources",
          "Information Technology and Services, Staffing and Recruiting, and Management Consulting",
          "Information Technology and Services, Staffing and Recruiting, and Pharmaceuticals",
          "Information Technology and Services, Telecommunications, and Financial Services",
          "Information Technology and Services, Transportation/Trucking/Railroad, and Warehousing",
          "Insurance",
          "Insurance and Consumer Services",
          "Insurance and Financial Services",
          "Insurance and Health, Wellness and Fitness",
          "Insurance and Management Consulting",
          "Insurance and Marketing and Advertising",
          "Insurance and Research",
          "Insurance, Computer Software, and Online Media",
          "Insurance, Financial Services, and Hospital & Health Care",
          "Insurance, Health, Wellness and Fitness, and Information Technology and Services",
          "Internet",
          "Internet",
          "Internet and Computer Software",
          "Internet and Financial Services",
          "Internet and Information Technology and Services",
          "Internet and Leisure, Travel & Tourism",
          "Internet, Automotive, and Consumer Services",
          "Internet, Computer Software, and Computer Games",
          "Internet, Computer Software, and Financial Services",
          "Internet, Computer Software, and Health, Wellness and Fitness",
          "Internet, Computer Software, and Information Technology and Services",
          "Internet, Computer Software, and Real Estate",
          "Internet, Consumer Goods, and Retail",
          "Internet, Financial Services, and Accounting",
          "Internet, Financial Services, and Consumer Services",
          "Internet, Financial Services, and Hospital & Health Care",
          "Internet, Financial Services, and Real Estate",
          "Internet, Health, Wellness and Fitness, and Mental Health Care",
          "Internet, Information Technology and Services, and Computer Software",
          "Internet, Information Technology and Services, and Information Services",
          "Internet, Information Technology and Services, and Media Production",
          "Internet, Insurance, and Financial Services",
          "Internet, Marketing and Advertising, and Computer Software",
          "Internet, Online Media, and Information Technology and Services",
          "Investment Banking, Banking, and Investment Management",
          "Investment Banking, Investment Management, and Banking",
          "Investment Management",
          "Investment Management and Financial Services",
          "Investment Management, Financial Services, and Capital Markets",
          "Law Enforcement, Computer Networking, and Information Technology and Services",
          "Law Enforcement, Information Technology and Services, and Computer Software",
          "Legal Services",
          "Leisure, Travel & Tourism",
          "Leisure, Travel & Tourism and Hospitality",
          "Logistics and Supply Chain",
          "Logistics and Supply Chain and Pharmaceuticals",
          "Logistics and Supply Chain, Financial Services, and Transportation/Trucking/Railroad",
          "Logistics and Supply Chain, Human Resources, and Financial Services",
          "Logistics and Supply Chain, Public Relations and Communications, and International Trade and Development",
          "Machinery",
          "Machinery and Farming",
          "Machinery and Industrial Automation",
          "Machinery, Mechanical or Industrial Engineering, and Human Resources",
          "Machinery, Mechanical or Industrial Engineering, and Staffing and Recruiting",
          "Machinery, Staffing and Recruiting, and Financial Services",
          "Management Consulting",
          "Management Consulting and Computer Software",
          "Management Consulting and Information Technology and Services",
          "Management Consulting, Accounting, and Information Technology and Services",
          "Management Consulting, Financial Services, and Accounting",
          "Management Consulting, Information Technology and Services, and Biotechnology",
          "Management Consulting, Information Technology and Services, and Industrial Automation",
          "Management Consulting, Market Research, and Marketing and Advertising",
          "Maritime",
          "Market Research",
          "Market Research, Retail, and Consumer Goods",
          "Marketing and Advertising",
          "Marketing and Advertising and Financial Services",
          "Marketing and Advertising and Health, Wellness and Fitness",
          "Marketing and Advertising and Information Technology and Services",
          "Marketing and Advertising, Apparel & Fashion, and Retail",
          "Marketing and Advertising, Automotive, and Financial Services",
          "Marketing and Advertising, Chemicals, and Staffing and Recruiting",
          "Marketing and Advertising, Computer Software, and Entertainment",
          "Marketing and Advertising, Computer Software, and Financial Services",
          "Marketing and Advertising, Computer Software, and Hospital & Health Care",
          "Marketing and Advertising, Computer Software, and Hospital & Health Care",
          "Marketing and Advertising, Computer Software, and Information Technology and Services",
          "Marketing and Advertising, Computer Software, and Internet",
          "Marketing and Advertising, Consumer Goods, and Retail",
          "Marketing and Advertising, Design, and Graphic Design",
          "Marketing and Advertising, Design, and Internet",
          "Marketing and Advertising, Food & Beverages, and Computer Software",
          "Marketing and Advertising, Information Technology and Services, and Computer Software",
          "Marketing and Advertising, Information Technology and Services, and Entertainment",
          "Marketing and Advertising, Information Technology and Services, and Financial Services",
          "Marketing and Advertising, Information Technology and Services, and Information Services",
          "Marketing and Advertising, Information Technology and Services, and Internet",
          "Marketing and Advertising, Information Technology and Services, and Staffing and Recruiting",
          "Marketing and Advertising, Internet, and Consumer Goods",
          "Marketing and Advertising, Internet, and Financial Services",
          "Marketing and Advertising, Internet, and Retail",
          "Marketing and Advertising, Internet, and Staffing and Recruiting",
          "Marketing and Advertising, Market Research, and Research",
          "Marketing and Advertising, Nonprofit Organization Management, and Insurance",
          "Marketing and Advertising, Online Media, and Internet",
          "Marketing and Advertising, Pharmaceuticals, and Online Media",
          "Marketing and Advertising, Retail, and Financial Services",
          "Mechanical or Industrial Engineering",
          "Mechanical or Industrial Engineering, Aviation & Aerospace, and Airlines/Aviation",
          "Media Production, Online Media, and Broadcast Media",
          "Medical Devices",
          "Medical Devices, Biotechnology, and Hospital & Health Care",
          "Medical Devices, Biotechnology, and Pharmaceuticals",
          "Medical Devices, Computer Software, and Hospital & Health Care",
          "Medical Devices, Computer Software, and Pharmaceuticals",
          "Medical Devices, Health, Wellness and Fitness, and Hospital & Health Care",
          "Medical Devices, Hospital & Health Care, and Biotechnology",
          "Medical Devices, Hospital & Health Care, and Information Technology and Services",
          "Medical Devices, Hospital & Health Care, and Pharmaceuticals",
          "Medical Devices, Pharmaceuticals, and Hospital & Health Care",
          "Mental Health Care",
          "Mental Health Care, Health, Wellness and Fitness, and Hospital & Health Care",
          "Music, Computer Software, and Entertainment",
          "Music, Internet, and Computer Software",
          "Music, Research, and Computer Software",
          "Nonprofit Organization Management",
          "Nonprofit Organization Management and Fund-Raising",
          "Nonprofit Organization Management and Mental Health Care",
          "Nonprofit Organization Management, Education Management, and Maritime",
          "Nonprofit Organization Management, Financial Services, and Hospital & Health Care",
          "Nonprofit Organization Management, Financial Services, and Real Estate",
          "Nonprofit Organization Management, Government Administration, and Hospital & Health Care",
          "Nonprofit Organization Management, Health, Wellness and Fitness, and Hospital & Health Care",
          "Nonprofit Organization Management, Higher Education, and Education Management",
          "Nonprofit Organization Management, Insurance, and Financial Services",
          "Nonprofit Organization Management, Internet, and Insurance",
          "Nonprofit Organization Management, Management Consulting, and Financial Services",
          "Nonprofit Organization Management, Research, and Management Consulting",
          "Oil & Energy",
          "Oil & Energy and Renewables & Environment",
          "Oil & Energy, Management Consulting, and Financial Services",
          "Online Media",
          "Online Media, Computer Software, and Internet",
          "Online Media, Entertainment, and Computer Software",
          "Online Media, Internet, and Entertainment",
          "Online Media, Publishing, and Newspapers",
          "Outsourcing/Offshoring",
          "Pharmaceuticals",
          "Pharmaceuticals and Biotechnology",
          "Pharmaceuticals and Hospital & Health Care",
          "Pharmaceuticals and Medical Devices",
          "Pharmaceuticals, Biotechnology, and Medical Devices",
          "Pharmaceuticals, Health, Wellness and Fitness, and International Affairs",
          "Primary/Secondary Education, Higher Education, and Government Administration",
          "Printing",
          "Professional Training & Coaching",
          "Public Safety",
          "Public Safety, Judiciary, and Law Enforcement",
          "Publishing",
          "Publishing, Computer Software, and Online Media",
          "Publishing, Information Technology and Services, and E-Learning",
          "Publishing, Online Media, and Media Production",
          "Railroad Manufacture and Transportation/Trucking/Railroad",
          "Real Estate",
          "Real Estate and Computer Software",
          "Renewables & Environment",
          "Renewables & Environment, Information Technology and Services, and Computer Software",
          "Research",
          "Research and Higher Education",
          "Research and Information Technology and Services",
          "Research, Biotechnology, and Hospital & Health Care",
          "Research, Biotechnology, and Pharmaceuticals",
          "Research, Computer Software, and Biotechnology",
          "Restaurants",
          "Restaurants, Facilities Services, and Hospitality",
          "Restaurants, Food & Beverages, and Food Production",
          "Restaurants, Hospitality, and Information Technology and Services",
          "Retail",
          "Retail",
          "Retail and Apparel & Fashion",
          "Retail and Consumer Goods",
          "Retail and Food & Beverages",
          "Retail, Apparel & Fashion, and Consumer Goods",
          "Retail, Automotive, and Information Technology and Services",
          "Retail, Consumer Goods, and Internet",
          "Retail, Health, Wellness and Fitness, and Hospital & Health Care",
          "Retail, Health, Wellness and Fitness, and Information Technology and Services",
          "Security and Investigations",
          "Semiconductors",
          "Semiconductors and Accounting",
          "Semiconductors and Electrical/Electronic Manufacturing",
          "Semiconductors and Electrical/Electronic Manufacturing",
          "Semiconductors, Computer Software, and Computer Hardware",
          "Semiconductors, Telecommunications, and Medical Devices",
          "Sporting Goods, Computer Software, and Information Technology and Services",
          "Sporting Goods, Retail, and Information Technology and Services",
          "Sports",
          "Staffing and Recruiting",
          "Staffing and Recruiting and Chemicals",
          "Staffing and Recruiting and Consumer Services",
          "Staffing and Recruiting and Financial Services",
          "Staffing and Recruiting and Information Technology and Services",
          "Staffing and Recruiting, Banking, and Financial Services",
          "Staffing and Recruiting, Computer Hardware, and Computer Software",
          "Staffing and Recruiting, Computer Networking, and Information Technology and Services",
          "Staffing and Recruiting, Financial Services, and Hospital & Health Care",
          "Staffing and Recruiting, Financial Services, and Information Technology and Services",
          "Telecommunications",
          "Telecommunications",
          "Telecommunications and Aviation & Aerospace",
          "Telecommunications and Computer Networking",
          "Telecommunications and Information Technology and Services",
          "Telecommunications, Biotechnology, and Information Technology and Services",
          "Telecommunications, Hospital & Health Care, and Information Technology and Services",
          "Telecommunications, Information Technology and Services, and Computer & Network Security",
          "Translation and Localization",
          "Transportation/Trucking/Railroad",
          "Utilities",
          "Venture Capital & Private Equity",
          "Wholesale, Consumer Goods, and Retail",
          "Wine and Spirits, Food & Beverages, and Consumer Goods",
          "Wireless and Telecommunications",
          "Wireless, Computer Software, and Computer Hardware",
          "Wireless, Information Technology and Services, and Telecommunications",
          "",
          "",
          "",
          "",
          "",
          "",
          "",
          "",
          "",
          "",
          "",
          "",
          "",
          "",
          "",
          "",
          "",
          "",
          "",
          "",
          "",
          "",
          "",
          "",
          "",
          "",
          "",
          "",
          "",
          "",
          "",
          "",
          "",
          "",
          "",
          "",
          "",
          "",
          "",
          "",
          "",
          "",
          "",
          "",
          "",
          "",
          "",
          "",
          "",
          "",
          "",
          "",
          "",
          "",
          "",
          "",
          "",
          "",
          "",
          "",
          "",
          "",
          "",
          "",
          "",
          "",
          "",
          "",
          "",
          "",
          "",
          "",
          "",
          "",
          "",
          "",
          "",
          "",
          "",
          "",
          "",
          "",
          "",
          "",
          "",
          "",
          "",
          "",
          "",
          "",
          "",
          "",
          "",
          "",
          "",
          "",
          "",
          "",
          "",
          "",
          "",
          "",
          "",
          "",
          "",
          "",
          "",
          "",
          "",
          "",
          "",
          "",
          "",
          "",
          "",
          "",
          "",
          "",
          "",
          "",
          "",
          "",
          "",
          "",
          "",
          "",
          "",
          "",
          "",
          "",
          "",
          "",
          "",
          "",
          "",
          "",
          "",
          "",
          "",
          "",
          "",
          "",
          "",
          "",
          "",
          "",
          "",
          "",
          "",
          "",
          "",
          "",
          "",
          "",
          "",
          "",
          "",
          "",
          "",
          "",
          "",
          "",
          "",
          "",
          "",
          "",
          "",
          "",
          "",
          "",
          "",
          "",
          "",
          "",
          "",
          "",
          "",
          "",
          "",
          "",
          "",
          "",
          "",
          "",
          "",
          "",
          "",
          "",
          "",
          "",
          "",
          "",
          "",
          "",
          "",
          "",
          "",
          "",
          "",
          "",
          "",
          "",
          "",
          "",
          "",
          "",
          "",
          "",
          "",
          "",
          "",
          "",
          "",
          "",
          "",
          "",
          "",
          "",
          "",
          "",
          "",
          "",
          "",
          "",
          "",
          "",
          "",
          "",
          "",
          "",
          "",
          "",
          "",
          "",
          "",
          "",
          "",
          "",
          "",
          "",
          "",
          "",
          "",
          "",
          "",
          "",
          "",
          "",
          "",
          "",
          "",
          "",
          "",
          "",
          "",
          "",
          "",
          "",
          "",
          "",
          "",
          "",
          "",
          "",
          "",
          "",
          "",
          "",
          "",
          "",
          "",
          "",
          "",
          "",
          "",
          "",
          "",
          "",
          "",
          "",
          "",
          "",
          "",
          "",
          "",
          "",
          "",
          "",
          "",
          "",
          "",
          "",
          "",
          "",
          "",
          "",
          "",
          "",
          "",
          "",
          "",
          "",
          "",
          "",
          "",
          "",
          "",
          "",
          "",
          "",
          "",
          "",
          "",
          "",
          "",
          "",
          "",
          "",
          "",
          "",
          "",
          "",
          "",
          "",
          "",
          "",
          "",
          "",
          "",
          "",
          "",
          "",
          "",
          "",
          "",
          "",
          "",
          "",
          "",
          "",
          "",
          "",
          "",
          "",
          "",
          "",
          "",
          "",
          "",
          "",
          "",
          "",
          "",
          "",
          "",
          "",
          "",
          "",
          "",
          "",
          "",
          "",
          "",
          "",
          "",
          "",
          "",
          "",
          "",
          "",
          "",
          "",
          "",
          "",
          "",
          "",
          "",
          "",
          "",
          "",
          "",
          "",
          "",
          "",
          "",
          "",
          "",
          "",
          "",
          "",
          "",
          "",
          "",
          "",
          "",
          "",
          "",
          "",
          "",
          "",
          "",
          "",
          "",
          "",
          "",
          "",
          "",
          "",
          "",
          "",
          "",
          "",
          "",
          "",
          "",
          "",
          "",
          "",
          "",
          "",
          "",
          "",
          "",
          "",
          "",
          "",
          "",
          "",
          "",
          "",
          "",
          "",
          "",
          "",
          "",
          "",
          "",
          "",
          "",
          "",
          "",
          "",
          "",
          "",
          "",
          "",
          "",
          "",
          "",
          "",
          "",
          "",
          "",
          "",
          "",
          "",
          "",
          "",
          "",
          "",
          "",
          "",
          "",
          "",
          "",
          "",
          "",
          "",
          "",
          "",
          "",
          "",
          "",
          "",
          "",
          "",
          "",
          "",
          "",
          "",
          "",
          "",
          "",
          "",
          "",
          "",
          "",
          "",
          "",
          "",
          "",
          "",
          "",
          "",
          "",
          "",
          "",
          "",
          "",
          "",
          "",
          "",
          "",
          "",
          "",
          "",
          "",
          "",
          "",
          "",
          "",
          "",
          "",
          "",
          "",
          "",
          "",
          "",
          "",
          "",
          "",
          "",
          "",
          "",
          "",
          "",
          "",
          "",
          "",
          "",
          "",
          "",
          "",
          "",
          "",
          "",
          "",
          "",
          "",
          "",
          "",
          "",
          "",
          "",
          "",
          "",
          "",
          "",
          "",
          "",
          "",
          "",
          "",
          "",
          "",
          "",
          "",
          "",
          "",
          "",
          "",
          "",
          "",
          "",
          "",
          "",
          "",
          "",
          "",
          "",
          "",
          "",
          "",
          "",
          "",
          "",
          "",
          "",
          "",
          "",
          "",
          "",
          "",
          "",
          "",
          "",
          "",
          "",
          "",
          "",
          "",
          "",
          "",
          "",
          "",
          "",
          "",
          "",
          "",
          "",
          "",
          "",
          "",
          "",
          "",
          "",
          "",
          "",
          "",
          "",
          "",
          "",
          "",
          "",
          "",
          "",
          "",
          "",
          "",
          "",
          "",
          "",
          "",
          "",
          "",
          "",
          "",
          "",
          "",
          "",
          "",
          "",
          "",
          "",
          "",
          "",
          "",
          "",
          "",
          "",
          "",
          "",
          "",
          "",
          "",
          "",
          "",
          "",
          "",
          "",
          "",
          "",
          "",
          "",
          "",
          "",
          "",
          "",
          "",
          "",
          "",
          "",
          "",
          "",
          "",
          "",
          "",
          "",
          "",
          ""
         ],
         "type": "treemap",
         "values": {
          "bdata": "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",
          "dtype": "f8"
         }
        }
       ],
       "layout": {
        "legend": {
         "tracegroupgap": 0
        },
        "template": {
         "data": {
          "bar": [
           {
            "error_x": {
             "color": "#2a3f5f"
            },
            "error_y": {
             "color": "#2a3f5f"
            },
            "marker": {
             "line": {
              "color": "#E5ECF6",
              "width": 0.5
             },
             "pattern": {
              "fillmode": "overlay",
              "size": 10,
              "solidity": 0.2
             }
            },
            "type": "bar"
           }
          ],
          "barpolar": [
           {
            "marker": {
             "line": {
              "color": "#E5ECF6",
              "width": 0.5
             },
             "pattern": {
              "fillmode": "overlay",
              "size": 10,
              "solidity": 0.2
             }
            },
            "type": "barpolar"
           }
          ],
          "carpet": [
           {
            "aaxis": {
             "endlinecolor": "#2a3f5f",
             "gridcolor": "white",
             "linecolor": "white",
             "minorgridcolor": "white",
             "startlinecolor": "#2a3f5f"
            },
            "baxis": {
             "endlinecolor": "#2a3f5f",
             "gridcolor": "white",
             "linecolor": "white",
             "minorgridcolor": "white",
             "startlinecolor": "#2a3f5f"
            },
            "type": "carpet"
           }
          ],
          "choropleth": [
           {
            "colorbar": {
             "outlinewidth": 0,
             "ticks": ""
            },
            "type": "choropleth"
           }
          ],
          "contour": [
           {
            "colorbar": {
             "outlinewidth": 0,
             "ticks": ""
            },
            "colorscale": [
             [
              0,
              "#0d0887"
             ],
             [
              0.1111111111111111,
              "#46039f"
             ],
             [
              0.2222222222222222,
              "#7201a8"
             ],
             [
              0.3333333333333333,
              "#9c179e"
             ],
             [
              0.4444444444444444,
              "#bd3786"
             ],
             [
              0.5555555555555556,
              "#d8576b"
             ],
             [
              0.6666666666666666,
              "#ed7953"
             ],
             [
              0.7777777777777778,
              "#fb9f3a"
             ],
             [
              0.8888888888888888,
              "#fdca26"
             ],
             [
              1,
              "#f0f921"
             ]
            ],
            "type": "contour"
           }
          ],
          "contourcarpet": [
           {
            "colorbar": {
             "outlinewidth": 0,
             "ticks": ""
            },
            "type": "contourcarpet"
           }
          ],
          "heatmap": [
           {
            "colorbar": {
             "outlinewidth": 0,
             "ticks": ""
            },
            "colorscale": [
             [
              0,
              "#0d0887"
             ],
             [
              0.1111111111111111,
              "#46039f"
             ],
             [
              0.2222222222222222,
              "#7201a8"
             ],
             [
              0.3333333333333333,
              "#9c179e"
             ],
             [
              0.4444444444444444,
              "#bd3786"
             ],
             [
              0.5555555555555556,
              "#d8576b"
             ],
             [
              0.6666666666666666,
              "#ed7953"
             ],
             [
              0.7777777777777778,
              "#fb9f3a"
             ],
             [
              0.8888888888888888,
              "#fdca26"
             ],
             [
              1,
              "#f0f921"
             ]
            ],
            "type": "heatmap"
           }
          ],
          "histogram": [
           {
            "marker": {
             "pattern": {
              "fillmode": "overlay",
              "size": 10,
              "solidity": 0.2
             }
            },
            "type": "histogram"
           }
          ],
          "histogram2d": [
           {
            "colorbar": {
             "outlinewidth": 0,
             "ticks": ""
            },
            "colorscale": [
             [
              0,
              "#0d0887"
             ],
             [
              0.1111111111111111,
              "#46039f"
             ],
             [
              0.2222222222222222,
              "#7201a8"
             ],
             [
              0.3333333333333333,
              "#9c179e"
             ],
             [
              0.4444444444444444,
              "#bd3786"
             ],
             [
              0.5555555555555556,
              "#d8576b"
             ],
             [
              0.6666666666666666,
              "#ed7953"
             ],
             [
              0.7777777777777778,
              "#fb9f3a"
             ],
             [
              0.8888888888888888,
              "#fdca26"
             ],
             [
              1,
              "#f0f921"
             ]
            ],
            "type": "histogram2d"
           }
          ],
          "histogram2dcontour": [
           {
            "colorbar": {
             "outlinewidth": 0,
             "ticks": ""
            },
            "colorscale": [
             [
              0,
              "#0d0887"
             ],
             [
              0.1111111111111111,
              "#46039f"
             ],
             [
              0.2222222222222222,
              "#7201a8"
             ],
             [
              0.3333333333333333,
              "#9c179e"
             ],
             [
              0.4444444444444444,
              "#bd3786"
             ],
             [
              0.5555555555555556,
              "#d8576b"
             ],
             [
              0.6666666666666666,
              "#ed7953"
             ],
             [
              0.7777777777777778,
              "#fb9f3a"
             ],
             [
              0.8888888888888888,
              "#fdca26"
             ],
             [
              1,
              "#f0f921"
             ]
            ],
            "type": "histogram2dcontour"
           }
          ],
          "mesh3d": [
           {
            "colorbar": {
             "outlinewidth": 0,
             "ticks": ""
            },
            "type": "mesh3d"
           }
          ],
          "parcoords": [
           {
            "line": {
             "colorbar": {
              "outlinewidth": 0,
              "ticks": ""
             }
            },
            "type": "parcoords"
           }
          ],
          "pie": [
           {
            "automargin": true,
            "type": "pie"
           }
          ],
          "scatter": [
           {
            "fillpattern": {
             "fillmode": "overlay",
             "size": 10,
             "solidity": 0.2
            },
            "type": "scatter"
           }
          ],
          "scatter3d": [
           {
            "line": {
             "colorbar": {
              "outlinewidth": 0,
              "ticks": ""
             }
            },
            "marker": {
             "colorbar": {
              "outlinewidth": 0,
              "ticks": ""
             }
            },
            "type": "scatter3d"
           }
          ],
          "scattercarpet": [
           {
            "marker": {
             "colorbar": {
              "outlinewidth": 0,
              "ticks": ""
             }
            },
            "type": "scattercarpet"
           }
          ],
          "scattergeo": [
           {
            "marker": {
             "colorbar": {
              "outlinewidth": 0,
              "ticks": ""
             }
            },
            "type": "scattergeo"
           }
          ],
          "scattergl": [
           {
            "marker": {
             "colorbar": {
              "outlinewidth": 0,
              "ticks": ""
             }
            },
            "type": "scattergl"
           }
          ],
          "scattermap": [
           {
            "marker": {
             "colorbar": {
              "outlinewidth": 0,
              "ticks": ""
             }
            },
            "type": "scattermap"
           }
          ],
          "scattermapbox": [
           {
            "marker": {
             "colorbar": {
              "outlinewidth": 0,
              "ticks": ""
             }
            },
            "type": "scattermapbox"
           }
          ],
          "scatterpolar": [
           {
            "marker": {
             "colorbar": {
              "outlinewidth": 0,
              "ticks": ""
             }
            },
            "type": "scatterpolar"
           }
          ],
          "scatterpolargl": [
           {
            "marker": {
             "colorbar": {
              "outlinewidth": 0,
              "ticks": ""
             }
            },
            "type": "scatterpolargl"
           }
          ],
          "scatterternary": [
           {
            "marker": {
             "colorbar": {
              "outlinewidth": 0,
              "ticks": ""
             }
            },
            "type": "scatterternary"
           }
          ],
          "surface": [
           {
            "colorbar": {
             "outlinewidth": 0,
             "ticks": ""
            },
            "colorscale": [
             [
              0,
              "#0d0887"
             ],
             [
              0.1111111111111111,
              "#46039f"
             ],
             [
              0.2222222222222222,
              "#7201a8"
             ],
             [
              0.3333333333333333,
              "#9c179e"
             ],
             [
              0.4444444444444444,
              "#bd3786"
             ],
             [
              0.5555555555555556,
              "#d8576b"
             ],
             [
              0.6666666666666666,
              "#ed7953"
             ],
             [
              0.7777777777777778,
              "#fb9f3a"
             ],
             [
              0.8888888888888888,
              "#fdca26"
             ],
             [
              1,
              "#f0f921"
             ]
            ],
            "type": "surface"
           }
          ],
          "table": [
           {
            "cells": {
             "fill": {
              "color": "#EBF0F8"
             },
             "line": {
              "color": "white"
             }
            },
            "header": {
             "fill": {
              "color": "#C8D4E3"
             },
             "line": {
              "color": "white"
             }
            },
            "type": "table"
           }
          ]
         },
         "layout": {
          "annotationdefaults": {
           "arrowcolor": "#2a3f5f",
           "arrowhead": 0,
           "arrowwidth": 1
          },
          "autotypenumbers": "strict",
          "coloraxis": {
           "colorbar": {
            "outlinewidth": 0,
            "ticks": ""
           }
          },
          "colorscale": {
           "diverging": [
            [
             0,
             "#8e0152"
            ],
            [
             0.1,
             "#c51b7d"
            ],
            [
             0.2,
             "#de77ae"
            ],
            [
             0.3,
             "#f1b6da"
            ],
            [
             0.4,
             "#fde0ef"
            ],
            [
             0.5,
             "#f7f7f7"
            ],
            [
             0.6,
             "#e6f5d0"
            ],
            [
             0.7,
             "#b8e186"
            ],
            [
             0.8,
             "#7fbc41"
            ],
            [
             0.9,
             "#4d9221"
            ],
            [
             1,
             "#276419"
            ]
           ],
           "sequential": [
            [
             0,
             "#0d0887"
            ],
            [
             0.1111111111111111,
             "#46039f"
            ],
            [
             0.2222222222222222,
             "#7201a8"
            ],
            [
             0.3333333333333333,
             "#9c179e"
            ],
            [
             0.4444444444444444,
             "#bd3786"
            ],
            [
             0.5555555555555556,
             "#d8576b"
            ],
            [
             0.6666666666666666,
             "#ed7953"
            ],
            [
             0.7777777777777778,
             "#fb9f3a"
            ],
            [
             0.8888888888888888,
             "#fdca26"
            ],
            [
             1,
             "#f0f921"
            ]
           ],
           "sequentialminus": [
            [
             0,
             "#0d0887"
            ],
            [
             0.1111111111111111,
             "#46039f"
            ],
            [
             0.2222222222222222,
             "#7201a8"
            ],
            [
             0.3333333333333333,
             "#9c179e"
            ],
            [
             0.4444444444444444,
             "#bd3786"
            ],
            [
             0.5555555555555556,
             "#d8576b"
            ],
            [
             0.6666666666666666,
             "#ed7953"
            ],
            [
             0.7777777777777778,
             "#fb9f3a"
            ],
            [
             0.8888888888888888,
             "#fdca26"
            ],
            [
             1,
             "#f0f921"
            ]
           ]
          },
          "colorway": [
           "#636efa",
           "#EF553B",
           "#00cc96",
           "#ab63fa",
           "#FFA15A",
           "#19d3f3",
           "#FF6692",
           "#B6E880",
           "#FF97FF",
           "#FECB52"
          ],
          "font": {
           "color": "#2a3f5f"
          },
          "geo": {
           "bgcolor": "white",
           "lakecolor": "white",
           "landcolor": "#E5ECF6",
           "showlakes": true,
           "showland": true,
           "subunitcolor": "white"
          },
          "hoverlabel": {
           "align": "left"
          },
          "hovermode": "closest",
          "mapbox": {
           "style": "light"
          },
          "paper_bgcolor": "white",
          "plot_bgcolor": "#E5ECF6",
          "polar": {
           "angularaxis": {
            "gridcolor": "white",
            "linecolor": "white",
            "ticks": ""
           },
           "bgcolor": "#E5ECF6",
           "radialaxis": {
            "gridcolor": "white",
            "linecolor": "white",
            "ticks": ""
           }
          },
          "scene": {
           "xaxis": {
            "backgroundcolor": "#E5ECF6",
            "gridcolor": "white",
            "gridwidth": 2,
            "linecolor": "white",
            "showbackground": true,
            "ticks": "",
            "zerolinecolor": "white"
           },
           "yaxis": {
            "backgroundcolor": "#E5ECF6",
            "gridcolor": "white",
            "gridwidth": 2,
            "linecolor": "white",
            "showbackground": true,
            "ticks": "",
            "zerolinecolor": "white"
           },
           "zaxis": {
            "backgroundcolor": "#E5ECF6",
            "gridcolor": "white",
            "gridwidth": 2,
            "linecolor": "white",
            "showbackground": true,
            "ticks": "",
            "zerolinecolor": "white"
           }
          },
          "shapedefaults": {
           "line": {
            "color": "#2a3f5f"
           }
          },
          "ternary": {
           "aaxis": {
            "gridcolor": "white",
            "linecolor": "white",
            "ticks": ""
           },
           "baxis": {
            "gridcolor": "white",
            "linecolor": "white",
            "ticks": ""
           },
           "bgcolor": "#E5ECF6",
           "caxis": {
            "gridcolor": "white",
            "linecolor": "white",
            "ticks": ""
           }
          },
          "title": {
           "x": 0.05
          },
          "xaxis": {
           "automargin": true,
           "gridcolor": "white",
           "linecolor": "white",
           "ticks": "",
           "title": {
            "standoff": 15
           },
           "zerolinecolor": "white",
           "zerolinewidth": 2
          },
          "yaxis": {
           "automargin": true,
           "gridcolor": "white",
           "linecolor": "white",
           "ticks": "",
           "title": {
            "standoff": 15
           },
           "zerolinecolor": "white",
           "zerolinewidth": 2
          }
         }
        },
        "title": {
         "text": "Education Requirements Across Industries"
        }
       }
      }
     },
     "metadata": {},
     "output_type": "display_data"
    }
   ],
   "source": [
    "# Treemap – Education Level by Industry\n",
    "edu_industry = df.groupby(['Industries', 'education']).size().reset_index(name='Count')\n",
    "\n",
    "fig4 = px.treemap(edu_industry, path=['Industries', 'education'], values='Count',\n",
    "                  title='Education Requirements Across Industries')\n",
    "fig4.show()\n"
   ]
  },
  {
   "cell_type": "code",
   "execution_count": 7,
   "id": "9da61558",
   "metadata": {},
   "outputs": [
    {
     "data": {
      "application/vnd.plotly.v1+json": {
       "config": {
        "plotlyServerURL": "https://plot.ly"
       },
       "data": [
        {
         "name": "associate degree",
         "type": "bar",
         "x": [
          "Contract",
          "Full-time",
          "Internship",
          "Other",
          "Part-time",
          "Temporary",
          "Volunteer"
         ],
         "y": {
          "bdata": "AAAAAAAA8D8AAAAAAIBKQAAAAAAAAPA/AAAAAAAAAAAAAAAAAADwPwAAAAAAAAAAAAAAAAAAAAA=",
          "dtype": "f8"
         }
        },
        {
         "name": "bachelor degree",
         "type": "bar",
         "x": [
          "Contract",
          "Full-time",
          "Internship",
          "Other",
          "Part-time",
          "Temporary",
          "Volunteer"
         ],
         "y": {
          "bdata": "AAAAAAAgekAAAAAAABG7QAAAAAAAAEdAAAAAAAAAAEAAAAAAAIBCQAAAAAAAAChAAAAAAAAAAEA=",
          "dtype": "f8"
         }
        },
        {
         "name": "high school",
         "type": "bar",
         "x": [
          "Contract",
          "Full-time",
          "Internship",
          "Other",
          "Part-time",
          "Temporary",
          "Volunteer"
         ],
         "y": {
          "bdata": "AAAAAAAA8D8AAAAAAAAkQAAAAAAAAAAAAAAAAAAAAAAAAAAAAADwPwAAAAAAAPA/AAAAAAAAAAA=",
          "dtype": "f8"
         }
        }
       ],
       "layout": {
        "barmode": "stack",
        "template": {
         "data": {
          "bar": [
           {
            "error_x": {
             "color": "#2a3f5f"
            },
            "error_y": {
             "color": "#2a3f5f"
            },
            "marker": {
             "line": {
              "color": "#E5ECF6",
              "width": 0.5
             },
             "pattern": {
              "fillmode": "overlay",
              "size": 10,
              "solidity": 0.2
             }
            },
            "type": "bar"
           }
          ],
          "barpolar": [
           {
            "marker": {
             "line": {
              "color": "#E5ECF6",
              "width": 0.5
             },
             "pattern": {
              "fillmode": "overlay",
              "size": 10,
              "solidity": 0.2
             }
            },
            "type": "barpolar"
           }
          ],
          "carpet": [
           {
            "aaxis": {
             "endlinecolor": "#2a3f5f",
             "gridcolor": "white",
             "linecolor": "white",
             "minorgridcolor": "white",
             "startlinecolor": "#2a3f5f"
            },
            "baxis": {
             "endlinecolor": "#2a3f5f",
             "gridcolor": "white",
             "linecolor": "white",
             "minorgridcolor": "white",
             "startlinecolor": "#2a3f5f"
            },
            "type": "carpet"
           }
          ],
          "choropleth": [
           {
            "colorbar": {
             "outlinewidth": 0,
             "ticks": ""
            },
            "type": "choropleth"
           }
          ],
          "contour": [
           {
            "colorbar": {
             "outlinewidth": 0,
             "ticks": ""
            },
            "colorscale": [
             [
              0,
              "#0d0887"
             ],
             [
              0.1111111111111111,
              "#46039f"
             ],
             [
              0.2222222222222222,
              "#7201a8"
             ],
             [
              0.3333333333333333,
              "#9c179e"
             ],
             [
              0.4444444444444444,
              "#bd3786"
             ],
             [
              0.5555555555555556,
              "#d8576b"
             ],
             [
              0.6666666666666666,
              "#ed7953"
             ],
             [
              0.7777777777777778,
              "#fb9f3a"
             ],
             [
              0.8888888888888888,
              "#fdca26"
             ],
             [
              1,
              "#f0f921"
             ]
            ],
            "type": "contour"
           }
          ],
          "contourcarpet": [
           {
            "colorbar": {
             "outlinewidth": 0,
             "ticks": ""
            },
            "type": "contourcarpet"
           }
          ],
          "heatmap": [
           {
            "colorbar": {
             "outlinewidth": 0,
             "ticks": ""
            },
            "colorscale": [
             [
              0,
              "#0d0887"
             ],
             [
              0.1111111111111111,
              "#46039f"
             ],
             [
              0.2222222222222222,
              "#7201a8"
             ],
             [
              0.3333333333333333,
              "#9c179e"
             ],
             [
              0.4444444444444444,
              "#bd3786"
             ],
             [
              0.5555555555555556,
              "#d8576b"
             ],
             [
              0.6666666666666666,
              "#ed7953"
             ],
             [
              0.7777777777777778,
              "#fb9f3a"
             ],
             [
              0.8888888888888888,
              "#fdca26"
             ],
             [
              1,
              "#f0f921"
             ]
            ],
            "type": "heatmap"
           }
          ],
          "histogram": [
           {
            "marker": {
             "pattern": {
              "fillmode": "overlay",
              "size": 10,
              "solidity": 0.2
             }
            },
            "type": "histogram"
           }
          ],
          "histogram2d": [
           {
            "colorbar": {
             "outlinewidth": 0,
             "ticks": ""
            },
            "colorscale": [
             [
              0,
              "#0d0887"
             ],
             [
              0.1111111111111111,
              "#46039f"
             ],
             [
              0.2222222222222222,
              "#7201a8"
             ],
             [
              0.3333333333333333,
              "#9c179e"
             ],
             [
              0.4444444444444444,
              "#bd3786"
             ],
             [
              0.5555555555555556,
              "#d8576b"
             ],
             [
              0.6666666666666666,
              "#ed7953"
             ],
             [
              0.7777777777777778,
              "#fb9f3a"
             ],
             [
              0.8888888888888888,
              "#fdca26"
             ],
             [
              1,
              "#f0f921"
             ]
            ],
            "type": "histogram2d"
           }
          ],
          "histogram2dcontour": [
           {
            "colorbar": {
             "outlinewidth": 0,
             "ticks": ""
            },
            "colorscale": [
             [
              0,
              "#0d0887"
             ],
             [
              0.1111111111111111,
              "#46039f"
             ],
             [
              0.2222222222222222,
              "#7201a8"
             ],
             [
              0.3333333333333333,
              "#9c179e"
             ],
             [
              0.4444444444444444,
              "#bd3786"
             ],
             [
              0.5555555555555556,
              "#d8576b"
             ],
             [
              0.6666666666666666,
              "#ed7953"
             ],
             [
              0.7777777777777778,
              "#fb9f3a"
             ],
             [
              0.8888888888888888,
              "#fdca26"
             ],
             [
              1,
              "#f0f921"
             ]
            ],
            "type": "histogram2dcontour"
           }
          ],
          "mesh3d": [
           {
            "colorbar": {
             "outlinewidth": 0,
             "ticks": ""
            },
            "type": "mesh3d"
           }
          ],
          "parcoords": [
           {
            "line": {
             "colorbar": {
              "outlinewidth": 0,
              "ticks": ""
             }
            },
            "type": "parcoords"
           }
          ],
          "pie": [
           {
            "automargin": true,
            "type": "pie"
           }
          ],
          "scatter": [
           {
            "fillpattern": {
             "fillmode": "overlay",
             "size": 10,
             "solidity": 0.2
            },
            "type": "scatter"
           }
          ],
          "scatter3d": [
           {
            "line": {
             "colorbar": {
              "outlinewidth": 0,
              "ticks": ""
             }
            },
            "marker": {
             "colorbar": {
              "outlinewidth": 0,
              "ticks": ""
             }
            },
            "type": "scatter3d"
           }
          ],
          "scattercarpet": [
           {
            "marker": {
             "colorbar": {
              "outlinewidth": 0,
              "ticks": ""
             }
            },
            "type": "scattercarpet"
           }
          ],
          "scattergeo": [
           {
            "marker": {
             "colorbar": {
              "outlinewidth": 0,
              "ticks": ""
             }
            },
            "type": "scattergeo"
           }
          ],
          "scattergl": [
           {
            "marker": {
             "colorbar": {
              "outlinewidth": 0,
              "ticks": ""
             }
            },
            "type": "scattergl"
           }
          ],
          "scattermap": [
           {
            "marker": {
             "colorbar": {
              "outlinewidth": 0,
              "ticks": ""
             }
            },
            "type": "scattermap"
           }
          ],
          "scattermapbox": [
           {
            "marker": {
             "colorbar": {
              "outlinewidth": 0,
              "ticks": ""
             }
            },
            "type": "scattermapbox"
           }
          ],
          "scatterpolar": [
           {
            "marker": {
             "colorbar": {
              "outlinewidth": 0,
              "ticks": ""
             }
            },
            "type": "scatterpolar"
           }
          ],
          "scatterpolargl": [
           {
            "marker": {
             "colorbar": {
              "outlinewidth": 0,
              "ticks": ""
             }
            },
            "type": "scatterpolargl"
           }
          ],
          "scatterternary": [
           {
            "marker": {
             "colorbar": {
              "outlinewidth": 0,
              "ticks": ""
             }
            },
            "type": "scatterternary"
           }
          ],
          "surface": [
           {
            "colorbar": {
             "outlinewidth": 0,
             "ticks": ""
            },
            "colorscale": [
             [
              0,
              "#0d0887"
             ],
             [
              0.1111111111111111,
              "#46039f"
             ],
             [
              0.2222222222222222,
              "#7201a8"
             ],
             [
              0.3333333333333333,
              "#9c179e"
             ],
             [
              0.4444444444444444,
              "#bd3786"
             ],
             [
              0.5555555555555556,
              "#d8576b"
             ],
             [
              0.6666666666666666,
              "#ed7953"
             ],
             [
              0.7777777777777778,
              "#fb9f3a"
             ],
             [
              0.8888888888888888,
              "#fdca26"
             ],
             [
              1,
              "#f0f921"
             ]
            ],
            "type": "surface"
           }
          ],
          "table": [
           {
            "cells": {
             "fill": {
              "color": "#EBF0F8"
             },
             "line": {
              "color": "white"
             }
            },
            "header": {
             "fill": {
              "color": "#C8D4E3"
             },
             "line": {
              "color": "white"
             }
            },
            "type": "table"
           }
          ]
         },
         "layout": {
          "annotationdefaults": {
           "arrowcolor": "#2a3f5f",
           "arrowhead": 0,
           "arrowwidth": 1
          },
          "autotypenumbers": "strict",
          "coloraxis": {
           "colorbar": {
            "outlinewidth": 0,
            "ticks": ""
           }
          },
          "colorscale": {
           "diverging": [
            [
             0,
             "#8e0152"
            ],
            [
             0.1,
             "#c51b7d"
            ],
            [
             0.2,
             "#de77ae"
            ],
            [
             0.3,
             "#f1b6da"
            ],
            [
             0.4,
             "#fde0ef"
            ],
            [
             0.5,
             "#f7f7f7"
            ],
            [
             0.6,
             "#e6f5d0"
            ],
            [
             0.7,
             "#b8e186"
            ],
            [
             0.8,
             "#7fbc41"
            ],
            [
             0.9,
             "#4d9221"
            ],
            [
             1,
             "#276419"
            ]
           ],
           "sequential": [
            [
             0,
             "#0d0887"
            ],
            [
             0.1111111111111111,
             "#46039f"
            ],
            [
             0.2222222222222222,
             "#7201a8"
            ],
            [
             0.3333333333333333,
             "#9c179e"
            ],
            [
             0.4444444444444444,
             "#bd3786"
            ],
            [
             0.5555555555555556,
             "#d8576b"
            ],
            [
             0.6666666666666666,
             "#ed7953"
            ],
            [
             0.7777777777777778,
             "#fb9f3a"
            ],
            [
             0.8888888888888888,
             "#fdca26"
            ],
            [
             1,
             "#f0f921"
            ]
           ],
           "sequentialminus": [
            [
             0,
             "#0d0887"
            ],
            [
             0.1111111111111111,
             "#46039f"
            ],
            [
             0.2222222222222222,
             "#7201a8"
            ],
            [
             0.3333333333333333,
             "#9c179e"
            ],
            [
             0.4444444444444444,
             "#bd3786"
            ],
            [
             0.5555555555555556,
             "#d8576b"
            ],
            [
             0.6666666666666666,
             "#ed7953"
            ],
            [
             0.7777777777777778,
             "#fb9f3a"
            ],
            [
             0.8888888888888888,
             "#fdca26"
            ],
            [
             1,
             "#f0f921"
            ]
           ]
          },
          "colorway": [
           "#636efa",
           "#EF553B",
           "#00cc96",
           "#ab63fa",
           "#FFA15A",
           "#19d3f3",
           "#FF6692",
           "#B6E880",
           "#FF97FF",
           "#FECB52"
          ],
          "font": {
           "color": "#2a3f5f"
          },
          "geo": {
           "bgcolor": "white",
           "lakecolor": "white",
           "landcolor": "#E5ECF6",
           "showlakes": true,
           "showland": true,
           "subunitcolor": "white"
          },
          "hoverlabel": {
           "align": "left"
          },
          "hovermode": "closest",
          "mapbox": {
           "style": "light"
          },
          "paper_bgcolor": "white",
          "plot_bgcolor": "#E5ECF6",
          "polar": {
           "angularaxis": {
            "gridcolor": "white",
            "linecolor": "white",
            "ticks": ""
           },
           "bgcolor": "#E5ECF6",
           "radialaxis": {
            "gridcolor": "white",
            "linecolor": "white",
            "ticks": ""
           }
          },
          "scene": {
           "xaxis": {
            "backgroundcolor": "#E5ECF6",
            "gridcolor": "white",
            "gridwidth": 2,
            "linecolor": "white",
            "showbackground": true,
            "ticks": "",
            "zerolinecolor": "white"
           },
           "yaxis": {
            "backgroundcolor": "#E5ECF6",
            "gridcolor": "white",
            "gridwidth": 2,
            "linecolor": "white",
            "showbackground": true,
            "ticks": "",
            "zerolinecolor": "white"
           },
           "zaxis": {
            "backgroundcolor": "#E5ECF6",
            "gridcolor": "white",
            "gridwidth": 2,
            "linecolor": "white",
            "showbackground": true,
            "ticks": "",
            "zerolinecolor": "white"
           }
          },
          "shapedefaults": {
           "line": {
            "color": "#2a3f5f"
           }
          },
          "ternary": {
           "aaxis": {
            "gridcolor": "white",
            "linecolor": "white",
            "ticks": ""
           },
           "baxis": {
            "gridcolor": "white",
            "linecolor": "white",
            "ticks": ""
           },
           "bgcolor": "#E5ECF6",
           "caxis": {
            "gridcolor": "white",
            "linecolor": "white",
            "ticks": ""
           }
          },
          "title": {
           "x": 0.05
          },
          "xaxis": {
           "automargin": true,
           "gridcolor": "white",
           "linecolor": "white",
           "ticks": "",
           "title": {
            "standoff": 15
           },
           "zerolinecolor": "white",
           "zerolinewidth": 2
          },
          "yaxis": {
           "automargin": true,
           "gridcolor": "white",
           "linecolor": "white",
           "ticks": "",
           "title": {
            "standoff": 15
           },
           "zerolinecolor": "white",
           "zerolinewidth": 2
          }
         }
        },
        "title": {
         "text": "Education Requirements by Employment Type"
        },
        "xaxis": {
         "tickangle": -45,
         "title": {
          "text": "Employment Type"
         }
        },
        "yaxis": {
         "title": {
          "text": "Job Count"
         }
        }
       }
      }
     },
     "metadata": {},
     "output_type": "display_data"
    }
   ],
   "source": [
    "# Stacked Bar Chart – Education Requirements Across Employment Types\n",
    "edu_employment = df.groupby(['Employment type', 'education']).size().reset_index(name='Count')\n",
    "edu_pivot = edu_employment.pivot(index='Employment type', columns='education', values='Count').fillna(0)\n",
    "\n",
    "fig5 = go.Figure()\n",
    "\n",
    "for education in edu_pivot.columns:\n",
    "    fig5.add_trace(go.Bar(\n",
    "        x=edu_pivot.index,\n",
    "        y=edu_pivot[education],\n",
    "        name=education\n",
    "    ))\n",
    "\n",
    "fig5.update_layout(barmode='stack',\n",
    "                   title='Education Requirements by Employment Type',\n",
    "                   xaxis_title='Employment Type',\n",
    "                   yaxis_title='Job Count',\n",
    "                   xaxis_tickangle=-45)\n",
    "fig5.show()\n"
   ]
  }
 ],
 "metadata": {
  "kernelspec": {
   "display_name": "base",
   "language": "python",
   "name": "python3"
  },
  "language_info": {
   "codemirror_mode": {
    "name": "ipython",
    "version": 3
   },
   "file_extension": ".py",
   "mimetype": "text/x-python",
   "name": "python",
   "nbconvert_exporter": "python",
   "pygments_lexer": "ipython3",
   "version": "3.12.9"
  }
 },
 "nbformat": 4,
 "nbformat_minor": 5
}
