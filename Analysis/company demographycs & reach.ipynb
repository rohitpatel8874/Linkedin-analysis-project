{
 "cells": [
  {
   "cell_type": "code",
   "execution_count": 1,
   "id": "c481f1cb",
   "metadata": {},
   "outputs": [],
   "source": [
    "import pandas as pd\n",
    "import numpy as np\n",
    "import seaborn as sns\n",
    "import matplotlib.pyplot as plt\n",
    "import folium\n",
    "import plotly.express as px"
   ]
  },
  {
   "cell_type": "code",
   "execution_count": 2,
   "id": "fa38999b",
   "metadata": {},
   "outputs": [
    {
     "data": {
      "text/html": [
       "<div>\n",
       "<style scoped>\n",
       "    .dataframe tbody tr th:only-of-type {\n",
       "        vertical-align: middle;\n",
       "    }\n",
       "\n",
       "    .dataframe tbody tr th {\n",
       "        vertical-align: top;\n",
       "    }\n",
       "\n",
       "    .dataframe thead th {\n",
       "        text-align: right;\n",
       "    }\n",
       "</style>\n",
       "<table border=\"1\" class=\"dataframe\">\n",
       "  <thead>\n",
       "    <tr style=\"text-align: right;\">\n",
       "      <th></th>\n",
       "      <th>id</th>\n",
       "      <th>name</th>\n",
       "      <th>country_code</th>\n",
       "      <th>locations</th>\n",
       "      <th>followers</th>\n",
       "      <th>employees_in_linkedin</th>\n",
       "      <th>about</th>\n",
       "      <th>specialties</th>\n",
       "      <th>company_size</th>\n",
       "      <th>organization_type</th>\n",
       "      <th>...</th>\n",
       "      <th>url</th>\n",
       "      <th>updates</th>\n",
       "      <th>slogan</th>\n",
       "      <th>affiliated</th>\n",
       "      <th>funding</th>\n",
       "      <th>investors</th>\n",
       "      <th>formatted_locations</th>\n",
       "      <th>stock_info</th>\n",
       "      <th>get_directions_url</th>\n",
       "      <th>description</th>\n",
       "    </tr>\n",
       "  </thead>\n",
       "  <tbody>\n",
       "    <tr>\n",
       "      <th>0</th>\n",
       "      <td>netzsch-analyzing-testing</td>\n",
       "      <td>NETZSCH Analyzing &amp; Testing</td>\n",
       "      <td>DE</td>\n",
       "      <td>[\"Wittelsbacher Str. 42 Selb, Bayern 95100, DE\"]</td>\n",
       "      <td>7947</td>\n",
       "      <td>197</td>\n",
       "      <td>The Analyzing &amp; Testing business unit of the N...</td>\n",
       "      <td>Thermal Analysis, Thermophysical Properties, A...</td>\n",
       "      <td>1,001-5,000 employees</td>\n",
       "      <td>Privately Held</td>\n",
       "      <td>...</td>\n",
       "      <td>https://www.linkedin.com/company/netzsch-analy...</td>\n",
       "      <td>[{\"external_link\":\"https://www.linkedin.com/re...</td>\n",
       "      <td>PROVEN EXCELLENCE</td>\n",
       "      <td>[{\"Links\":\"https://de.linkedin.com/company/net...</td>\n",
       "      <td>NaN</td>\n",
       "      <td>NaN</td>\n",
       "      <td>[\"Wittelsbacher Str. 42, Selb, Bayern 95100, DE\"]</td>\n",
       "      <td>NaN</td>\n",
       "      <td>[{\"directions_url\":\"https://www.bing.com/maps?...</td>\n",
       "      <td>NETZSCH Analyzing &amp;amp; Testing | 7,947 follow...</td>\n",
       "    </tr>\n",
       "    <tr>\n",
       "      <th>1</th>\n",
       "      <td>promip</td>\n",
       "      <td>Promip</td>\n",
       "      <td>BR</td>\n",
       "      <td>[\"Rua Tiradentes 1200 Splendor Office Piracica...</td>\n",
       "      <td>15113</td>\n",
       "      <td>68</td>\n",
       "      <td>A PROMIP foi fundada em 2006 com a missão de c...</td>\n",
       "      <td>Fabricação de Produtos Biológicos, Comercializ...</td>\n",
       "      <td>51-200 employees</td>\n",
       "      <td>Privately Held</td>\n",
       "      <td>...</td>\n",
       "      <td>https://www.linkedin.com/company/promip</td>\n",
       "      <td>[{\"likes_count\":14,\"text\":\"❓Você conhece o Mip...</td>\n",
       "      <td>Buscamos na natureza soluções que viabilizem u...</td>\n",
       "      <td>NaN</td>\n",
       "      <td>{\"last_round_date\":\"2017-07-13T00:00:00.000Z\",...</td>\n",
       "      <td>NaN</td>\n",
       "      <td>[\"Rua Tiradentes 1200, Splendor Office, Piraci...</td>\n",
       "      <td>NaN</td>\n",
       "      <td>[{\"directions_url\":\"https://www.bing.com/maps?...</td>\n",
       "      <td>Promip | 15,113 followers on LinkedIn. Buscamo...</td>\n",
       "    </tr>\n",
       "    <tr>\n",
       "      <th>2</th>\n",
       "      <td>lemfi</td>\n",
       "      <td>LemFi</td>\n",
       "      <td>US</td>\n",
       "      <td>[\"Oakland, CA 94601, US\"]</td>\n",
       "      <td>9594</td>\n",
       "      <td>179</td>\n",
       "      <td>International Payments for everyone. Send mone...</td>\n",
       "      <td>NaN</td>\n",
       "      <td>11-50 employees</td>\n",
       "      <td>Privately Held</td>\n",
       "      <td>...</td>\n",
       "      <td>https://www.linkedin.com/company/lemfi</td>\n",
       "      <td>[{\"comments_count\":22,\"external_link\":\"https:/...</td>\n",
       "      <td>International Payments for everyone. Send mone...</td>\n",
       "      <td>NaN</td>\n",
       "      <td>{\"last_round_date\":\"2023-09-24T00:00:00.000Z\",...</td>\n",
       "      <td>[\"Left Lane Capital\",\"+ 4 Other investors\"]</td>\n",
       "      <td>[\"Oakland, CA 94601, US\"]</td>\n",
       "      <td>NaN</td>\n",
       "      <td>[{\"directions_url\":\"https://www.bing.com/maps?...</td>\n",
       "      <td>LemFi | 9,594 followers on LinkedIn. Internati...</td>\n",
       "    </tr>\n",
       "    <tr>\n",
       "      <th>3</th>\n",
       "      <td>addiszeybe</td>\n",
       "      <td>Addis Zeybe - አዲስ ዘይቤ</td>\n",
       "      <td>ET</td>\n",
       "      <td>[\"Sierra Leone Street Hussien Building, 3rd Fl...</td>\n",
       "      <td>11864</td>\n",
       "      <td>16</td>\n",
       "      <td>Addis Zeybe contributes to creating a new medi...</td>\n",
       "      <td>Urban, Professionalism, and Ethiopia</td>\n",
       "      <td>11-50 employees</td>\n",
       "      <td>Privately Held</td>\n",
       "      <td>...</td>\n",
       "      <td>https://www.linkedin.com/company/addiszeybe</td>\n",
       "      <td>[{\"external_link\":\"https://www.linkedin.com/re...</td>\n",
       "      <td>Discover #Ethiopia's urban news &amp; stories with...</td>\n",
       "      <td>[{\"Links\":\"https://www.linkedin.com/showcase/s...</td>\n",
       "      <td>NaN</td>\n",
       "      <td>NaN</td>\n",
       "      <td>[\"Sierra Leone Street, Hussien Building, 3rd F...</td>\n",
       "      <td>NaN</td>\n",
       "      <td>[{\"directions_url\":\"https://www.bing.com/maps?...</td>\n",
       "      <td>Addis Zeybe - አዲስ ዘይቤ | 11,864 followers on Li...</td>\n",
       "    </tr>\n",
       "    <tr>\n",
       "      <th>4</th>\n",
       "      <td>stayble-therapeutics</td>\n",
       "      <td>Stayble Therapeutics</td>\n",
       "      <td>SE</td>\n",
       "      <td>[\"Medicinaregatan 8A Gothenburg, 41390, SE\"]</td>\n",
       "      <td>871</td>\n",
       "      <td>9</td>\n",
       "      <td>Stayble is a clinical stage pharmaceutical com...</td>\n",
       "      <td>Pharmaceutical development and Chronic low bac...</td>\n",
       "      <td>2-10 employees</td>\n",
       "      <td>Partnership</td>\n",
       "      <td>...</td>\n",
       "      <td>https://www.linkedin.com/company/stayble-thera...</td>\n",
       "      <td>[{\"comments_count\":1,\"images\":[\"https://media....</td>\n",
       "      <td>Stayble is a clinical stage pharmaceutical com...</td>\n",
       "      <td>NaN</td>\n",
       "      <td>{\"last_round_date\":\"2023-05-12T00:00:00.000Z\",...</td>\n",
       "      <td>NaN</td>\n",
       "      <td>[\"Medicinaregatan 8A, Gothenburg, 41390, SE\"]</td>\n",
       "      <td>NaN</td>\n",
       "      <td>[{\"directions_url\":\"https://www.bing.com/maps?...</td>\n",
       "      <td>Stayble Therapeutics | 871 followers on Linked...</td>\n",
       "    </tr>\n",
       "    <tr>\n",
       "      <th>...</th>\n",
       "      <td>...</td>\n",
       "      <td>...</td>\n",
       "      <td>...</td>\n",
       "      <td>...</td>\n",
       "      <td>...</td>\n",
       "      <td>...</td>\n",
       "      <td>...</td>\n",
       "      <td>...</td>\n",
       "      <td>...</td>\n",
       "      <td>...</td>\n",
       "      <td>...</td>\n",
       "      <td>...</td>\n",
       "      <td>...</td>\n",
       "      <td>...</td>\n",
       "      <td>...</td>\n",
       "      <td>...</td>\n",
       "      <td>...</td>\n",
       "      <td>...</td>\n",
       "      <td>...</td>\n",
       "      <td>...</td>\n",
       "      <td>...</td>\n",
       "    </tr>\n",
       "    <tr>\n",
       "      <th>995</th>\n",
       "      <td>stoutagri</td>\n",
       "      <td>StoutAgri Livestock Equipment Manufacturer</td>\n",
       "      <td>CN</td>\n",
       "      <td>[\"No.620 Chuncheng Road, Chengyang District Qi...</td>\n",
       "      <td>43</td>\n",
       "      <td>4</td>\n",
       "      <td>Stout Agri Ltd. is a professional livestock eq...</td>\n",
       "      <td>Livestock equipment, Poultry equipment, Pig eq...</td>\n",
       "      <td>11-50 employees</td>\n",
       "      <td>Privately Held</td>\n",
       "      <td>...</td>\n",
       "      <td>https://www.linkedin.com/company/stoutagri</td>\n",
       "      <td>[]</td>\n",
       "      <td>Manufacturer of livestock equipment in China. ...</td>\n",
       "      <td>[]</td>\n",
       "      <td>NaN</td>\n",
       "      <td>NaN</td>\n",
       "      <td>[\"No.620 Chuncheng Road, Chengyang District, Q...</td>\n",
       "      <td>NaN</td>\n",
       "      <td>[{\"directions_url\":\"https://www.bing.com/maps?...</td>\n",
       "      <td>StoutAgri Livestock Equipment Manufacturer | 4...</td>\n",
       "    </tr>\n",
       "    <tr>\n",
       "      <th>996</th>\n",
       "      <td>primocollect-receivables-center</td>\n",
       "      <td>PrimoCollect Ukraine</td>\n",
       "      <td>UA,RU</td>\n",
       "      <td>[\"Surikova 3a Kyiv, 03067, UA\",\"28 building, 1...</td>\n",
       "      <td>484</td>\n",
       "      <td>42</td>\n",
       "      <td>Since 2006 PrimoCollect Group is one of the mo...</td>\n",
       "      <td>Debt purchase (DB), Outsourced debt collection...</td>\n",
       "      <td>501-1,000 employees</td>\n",
       "      <td>Partnership</td>\n",
       "      <td>...</td>\n",
       "      <td>https://www.linkedin.com/company/primocollect-...</td>\n",
       "      <td>[{\"images\":[\"https://media.licdn.com/dms/image...</td>\n",
       "      <td>We just know how</td>\n",
       "      <td>NaN</td>\n",
       "      <td>{\"last_round_date\":\"2010-07-01T00:00:00.000Z\",...</td>\n",
       "      <td>NaN</td>\n",
       "      <td>[\"Surikova 3a, Kyiv, 03067, UA\",\"28 building, ...</td>\n",
       "      <td>NaN</td>\n",
       "      <td>[{\"directions_url\":\"https://www.bing.com/maps?...</td>\n",
       "      <td>PrimoCollect Ukraine | 484 followers on Linked...</td>\n",
       "    </tr>\n",
       "    <tr>\n",
       "      <th>997</th>\n",
       "      <td>d%C3%A9covi-sa</td>\n",
       "      <td>Décovi SA</td>\n",
       "      <td>CH</td>\n",
       "      <td>[\"Z.I. La Romaine 2 Vicques, Jura 2824, CH\"]</td>\n",
       "      <td>2276</td>\n",
       "      <td>58</td>\n",
       "      <td>Décovi SA est un acteur clef de l'industrie ju...</td>\n",
       "      <td>Décolletage, Masses Oscillantes, Gravure laser...</td>\n",
       "      <td>51-200 employees</td>\n",
       "      <td>Self-Employed</td>\n",
       "      <td>...</td>\n",
       "      <td>https://www.linkedin.com/company/d%C3%A9covi-sa</td>\n",
       "      <td>[{\"images\":[\"https://media.licdn.com/dms/image...</td>\n",
       "      <td>Fournisseur d'usinage de précision pour les in...</td>\n",
       "      <td>[{\"Links\":\"https://ch.linkedin.com/company/acr...</td>\n",
       "      <td>NaN</td>\n",
       "      <td>NaN</td>\n",
       "      <td>[\"Z.I. La Romaine 2, Vicques, Jura 2824, CH\"]</td>\n",
       "      <td>NaN</td>\n",
       "      <td>[{\"directions_url\":\"https://www.bing.com/maps?...</td>\n",
       "      <td>Décovi SA | 2,276 followers on LinkedIn. Fourn...</td>\n",
       "    </tr>\n",
       "    <tr>\n",
       "      <th>998</th>\n",
       "      <td>wijzijnab</td>\n",
       "      <td>AB</td>\n",
       "      <td>NL</td>\n",
       "      <td>[\"Groningerweg 13 B Paterswolde, Groningen, NL...</td>\n",
       "      <td>2468</td>\n",
       "      <td>93</td>\n",
       "      <td>Met Exact heeft A.B. Software &amp; Consultancy ge...</td>\n",
       "      <td>Procesoptimalisatie in de industrie, Automatis...</td>\n",
       "      <td>51-200 employees</td>\n",
       "      <td>Privately Held</td>\n",
       "      <td>...</td>\n",
       "      <td>https://www.linkedin.com/company/wijzijnab</td>\n",
       "      <td>[{\"images\":[\"https://media.licdn.com/dms/image...</td>\n",
       "      <td>Bright People, Smart Solutions</td>\n",
       "      <td>[{\"Links\":\"https://nl.linkedin.com/showcase/ko...</td>\n",
       "      <td>NaN</td>\n",
       "      <td>NaN</td>\n",
       "      <td>[\"Groningerweg 13 B, Paterswolde, Groningen, N...</td>\n",
       "      <td>NaN</td>\n",
       "      <td>[{\"directions_url\":\"https://www.bing.com/maps?...</td>\n",
       "      <td>AB | 2,468 followers on LinkedIn. Bright Peopl...</td>\n",
       "    </tr>\n",
       "    <tr>\n",
       "      <th>999</th>\n",
       "      <td>mobki</td>\n",
       "      <td>Mobki</td>\n",
       "      <td>CL</td>\n",
       "      <td>[\"Avenida Bernardo O'Higgins 330, Oficina 35 C...</td>\n",
       "      <td>44</td>\n",
       "      <td>3</td>\n",
       "      <td>Mobki es una empresa de Innovación Tecnológica...</td>\n",
       "      <td>Innovación, Tecnologías de Información, Diseño...</td>\n",
       "      <td>2-10 employees</td>\n",
       "      <td>Self-Owned</td>\n",
       "      <td>...</td>\n",
       "      <td>https://www.linkedin.com/company/mobki</td>\n",
       "      <td>[]</td>\n",
       "      <td>NaN</td>\n",
       "      <td>[]</td>\n",
       "      <td>NaN</td>\n",
       "      <td>NaN</td>\n",
       "      <td>[\"Avenida Bernardo O'Higgins 330, Oficina 35, ...</td>\n",
       "      <td>NaN</td>\n",
       "      <td>[{\"directions_url\":\"https://www.bing.com/maps?...</td>\n",
       "      <td>Mobki | 44 followers on LinkedIn. Mobki es una...</td>\n",
       "    </tr>\n",
       "  </tbody>\n",
       "</table>\n",
       "<p>1000 rows × 29 columns</p>\n",
       "</div>"
      ],
      "text/plain": [
       "                                  id  \\\n",
       "0          netzsch-analyzing-testing   \n",
       "1                             promip   \n",
       "2                              lemfi   \n",
       "3                         addiszeybe   \n",
       "4               stayble-therapeutics   \n",
       "..                               ...   \n",
       "995                        stoutagri   \n",
       "996  primocollect-receivables-center   \n",
       "997                   d%C3%A9covi-sa   \n",
       "998                        wijzijnab   \n",
       "999                            mobki   \n",
       "\n",
       "                                           name country_code  \\\n",
       "0                   NETZSCH Analyzing & Testing           DE   \n",
       "1                                        Promip           BR   \n",
       "2                                         LemFi           US   \n",
       "3                         Addis Zeybe - አዲስ ዘይቤ           ET   \n",
       "4                          Stayble Therapeutics           SE   \n",
       "..                                          ...          ...   \n",
       "995  StoutAgri Livestock Equipment Manufacturer           CN   \n",
       "996                        PrimoCollect Ukraine        UA,RU   \n",
       "997                                   Décovi SA           CH   \n",
       "998                                          AB           NL   \n",
       "999                                       Mobki           CL   \n",
       "\n",
       "                                             locations  followers  \\\n",
       "0     [\"Wittelsbacher Str. 42 Selb, Bayern 95100, DE\"]       7947   \n",
       "1    [\"Rua Tiradentes 1200 Splendor Office Piracica...      15113   \n",
       "2                            [\"Oakland, CA 94601, US\"]       9594   \n",
       "3    [\"Sierra Leone Street Hussien Building, 3rd Fl...      11864   \n",
       "4         [\"Medicinaregatan 8A Gothenburg, 41390, SE\"]        871   \n",
       "..                                                 ...        ...   \n",
       "995  [\"No.620 Chuncheng Road, Chengyang District Qi...         43   \n",
       "996  [\"Surikova 3a Kyiv, 03067, UA\",\"28 building, 1...        484   \n",
       "997       [\"Z.I. La Romaine 2 Vicques, Jura 2824, CH\"]       2276   \n",
       "998  [\"Groningerweg 13 B Paterswolde, Groningen, NL...       2468   \n",
       "999  [\"Avenida Bernardo O'Higgins 330, Oficina 35 C...         44   \n",
       "\n",
       "     employees_in_linkedin                                              about  \\\n",
       "0                      197  The Analyzing & Testing business unit of the N...   \n",
       "1                       68  A PROMIP foi fundada em 2006 com a missão de c...   \n",
       "2                      179  International Payments for everyone. Send mone...   \n",
       "3                       16  Addis Zeybe contributes to creating a new medi...   \n",
       "4                        9  Stayble is a clinical stage pharmaceutical com...   \n",
       "..                     ...                                                ...   \n",
       "995                      4  Stout Agri Ltd. is a professional livestock eq...   \n",
       "996                     42  Since 2006 PrimoCollect Group is one of the mo...   \n",
       "997                     58  Décovi SA est un acteur clef de l'industrie ju...   \n",
       "998                     93  Met Exact heeft A.B. Software & Consultancy ge...   \n",
       "999                      3  Mobki es una empresa de Innovación Tecnológica...   \n",
       "\n",
       "                                           specialties           company_size  \\\n",
       "0    Thermal Analysis, Thermophysical Properties, A...  1,001-5,000 employees   \n",
       "1    Fabricação de Produtos Biológicos, Comercializ...       51-200 employees   \n",
       "2                                                  NaN        11-50 employees   \n",
       "3                 Urban, Professionalism, and Ethiopia        11-50 employees   \n",
       "4    Pharmaceutical development and Chronic low bac...         2-10 employees   \n",
       "..                                                 ...                    ...   \n",
       "995  Livestock equipment, Poultry equipment, Pig eq...        11-50 employees   \n",
       "996  Debt purchase (DB), Outsourced debt collection...    501-1,000 employees   \n",
       "997  Décolletage, Masses Oscillantes, Gravure laser...       51-200 employees   \n",
       "998  Procesoptimalisatie in de industrie, Automatis...       51-200 employees   \n",
       "999  Innovación, Tecnologías de Información, Diseño...         2-10 employees   \n",
       "\n",
       "    organization_type  ...                                                url  \\\n",
       "0      Privately Held  ...  https://www.linkedin.com/company/netzsch-analy...   \n",
       "1      Privately Held  ...            https://www.linkedin.com/company/promip   \n",
       "2      Privately Held  ...             https://www.linkedin.com/company/lemfi   \n",
       "3      Privately Held  ...        https://www.linkedin.com/company/addiszeybe   \n",
       "4         Partnership  ...  https://www.linkedin.com/company/stayble-thera...   \n",
       "..                ...  ...                                                ...   \n",
       "995    Privately Held  ...         https://www.linkedin.com/company/stoutagri   \n",
       "996       Partnership  ...  https://www.linkedin.com/company/primocollect-...   \n",
       "997     Self-Employed  ...    https://www.linkedin.com/company/d%C3%A9covi-sa   \n",
       "998    Privately Held  ...         https://www.linkedin.com/company/wijzijnab   \n",
       "999        Self-Owned  ...             https://www.linkedin.com/company/mobki   \n",
       "\n",
       "                                               updates  \\\n",
       "0    [{\"external_link\":\"https://www.linkedin.com/re...   \n",
       "1    [{\"likes_count\":14,\"text\":\"❓Você conhece o Mip...   \n",
       "2    [{\"comments_count\":22,\"external_link\":\"https:/...   \n",
       "3    [{\"external_link\":\"https://www.linkedin.com/re...   \n",
       "4    [{\"comments_count\":1,\"images\":[\"https://media....   \n",
       "..                                                 ...   \n",
       "995                                                 []   \n",
       "996  [{\"images\":[\"https://media.licdn.com/dms/image...   \n",
       "997  [{\"images\":[\"https://media.licdn.com/dms/image...   \n",
       "998  [{\"images\":[\"https://media.licdn.com/dms/image...   \n",
       "999                                                 []   \n",
       "\n",
       "                                                slogan  \\\n",
       "0                                    PROVEN EXCELLENCE   \n",
       "1    Buscamos na natureza soluções que viabilizem u...   \n",
       "2    International Payments for everyone. Send mone...   \n",
       "3    Discover #Ethiopia's urban news & stories with...   \n",
       "4    Stayble is a clinical stage pharmaceutical com...   \n",
       "..                                                 ...   \n",
       "995  Manufacturer of livestock equipment in China. ...   \n",
       "996                                   We just know how   \n",
       "997  Fournisseur d'usinage de précision pour les in...   \n",
       "998                     Bright People, Smart Solutions   \n",
       "999                                                NaN   \n",
       "\n",
       "                                            affiliated  \\\n",
       "0    [{\"Links\":\"https://de.linkedin.com/company/net...   \n",
       "1                                                  NaN   \n",
       "2                                                  NaN   \n",
       "3    [{\"Links\":\"https://www.linkedin.com/showcase/s...   \n",
       "4                                                  NaN   \n",
       "..                                                 ...   \n",
       "995                                                 []   \n",
       "996                                                NaN   \n",
       "997  [{\"Links\":\"https://ch.linkedin.com/company/acr...   \n",
       "998  [{\"Links\":\"https://nl.linkedin.com/showcase/ko...   \n",
       "999                                                 []   \n",
       "\n",
       "                                               funding  \\\n",
       "0                                                  NaN   \n",
       "1    {\"last_round_date\":\"2017-07-13T00:00:00.000Z\",...   \n",
       "2    {\"last_round_date\":\"2023-09-24T00:00:00.000Z\",...   \n",
       "3                                                  NaN   \n",
       "4    {\"last_round_date\":\"2023-05-12T00:00:00.000Z\",...   \n",
       "..                                                 ...   \n",
       "995                                                NaN   \n",
       "996  {\"last_round_date\":\"2010-07-01T00:00:00.000Z\",...   \n",
       "997                                                NaN   \n",
       "998                                                NaN   \n",
       "999                                                NaN   \n",
       "\n",
       "                                       investors  \\\n",
       "0                                            NaN   \n",
       "1                                            NaN   \n",
       "2    [\"Left Lane Capital\",\"+ 4 Other investors\"]   \n",
       "3                                            NaN   \n",
       "4                                            NaN   \n",
       "..                                           ...   \n",
       "995                                          NaN   \n",
       "996                                          NaN   \n",
       "997                                          NaN   \n",
       "998                                          NaN   \n",
       "999                                          NaN   \n",
       "\n",
       "                                   formatted_locations stock_info  \\\n",
       "0    [\"Wittelsbacher Str. 42, Selb, Bayern 95100, DE\"]        NaN   \n",
       "1    [\"Rua Tiradentes 1200, Splendor Office, Piraci...        NaN   \n",
       "2                            [\"Oakland, CA 94601, US\"]        NaN   \n",
       "3    [\"Sierra Leone Street, Hussien Building, 3rd F...        NaN   \n",
       "4        [\"Medicinaregatan 8A, Gothenburg, 41390, SE\"]        NaN   \n",
       "..                                                 ...        ...   \n",
       "995  [\"No.620 Chuncheng Road, Chengyang District, Q...        NaN   \n",
       "996  [\"Surikova 3a, Kyiv, 03067, UA\",\"28 building, ...        NaN   \n",
       "997      [\"Z.I. La Romaine 2, Vicques, Jura 2824, CH\"]        NaN   \n",
       "998  [\"Groningerweg 13 B, Paterswolde, Groningen, N...        NaN   \n",
       "999  [\"Avenida Bernardo O'Higgins 330, Oficina 35, ...        NaN   \n",
       "\n",
       "                                    get_directions_url  \\\n",
       "0    [{\"directions_url\":\"https://www.bing.com/maps?...   \n",
       "1    [{\"directions_url\":\"https://www.bing.com/maps?...   \n",
       "2    [{\"directions_url\":\"https://www.bing.com/maps?...   \n",
       "3    [{\"directions_url\":\"https://www.bing.com/maps?...   \n",
       "4    [{\"directions_url\":\"https://www.bing.com/maps?...   \n",
       "..                                                 ...   \n",
       "995  [{\"directions_url\":\"https://www.bing.com/maps?...   \n",
       "996  [{\"directions_url\":\"https://www.bing.com/maps?...   \n",
       "997  [{\"directions_url\":\"https://www.bing.com/maps?...   \n",
       "998  [{\"directions_url\":\"https://www.bing.com/maps?...   \n",
       "999  [{\"directions_url\":\"https://www.bing.com/maps?...   \n",
       "\n",
       "                                           description  \n",
       "0    NETZSCH Analyzing &amp; Testing | 7,947 follow...  \n",
       "1    Promip | 15,113 followers on LinkedIn. Buscamo...  \n",
       "2    LemFi | 9,594 followers on LinkedIn. Internati...  \n",
       "3    Addis Zeybe - አዲስ ዘይቤ | 11,864 followers on Li...  \n",
       "4    Stayble Therapeutics | 871 followers on Linked...  \n",
       "..                                                 ...  \n",
       "995  StoutAgri Livestock Equipment Manufacturer | 4...  \n",
       "996  PrimoCollect Ukraine | 484 followers on Linked...  \n",
       "997  Décovi SA | 2,276 followers on LinkedIn. Fourn...  \n",
       "998  AB | 2,468 followers on LinkedIn. Bright Peopl...  \n",
       "999  Mobki | 44 followers on LinkedIn. Mobki es una...  \n",
       "\n",
       "[1000 rows x 29 columns]"
      ]
     },
     "execution_count": 2,
     "metadata": {},
     "output_type": "execute_result"
    }
   ],
   "source": [
    "df = pd.read_csv(\"linkedin-company-information.csv\")\n",
    "df"
   ]
  },
  {
   "cell_type": "code",
   "execution_count": 3,
   "id": "88bc57f7",
   "metadata": {},
   "outputs": [
    {
     "data": {
      "text/plain": [
       "id                         0\n",
       "name                       0\n",
       "country_code               7\n",
       "locations                  0\n",
       "followers                  0\n",
       "employees_in_linkedin      0\n",
       "about                      1\n",
       "specialties              133\n",
       "company_size               0\n",
       "organization_type          0\n",
       "industries                 0\n",
       "website                    4\n",
       "crunchbase_url           590\n",
       "founded                   32\n",
       "company_id                 0\n",
       "headquarters               5\n",
       "image                      0\n",
       "logo                       0\n",
       "similar                    0\n",
       "url                        0\n",
       "updates                   87\n",
       "slogan                    58\n",
       "affiliated               369\n",
       "funding                  590\n",
       "investors                748\n",
       "formatted_locations        0\n",
       "stock_info               992\n",
       "get_directions_url         0\n",
       "description                1\n",
       "dtype: int64"
      ]
     },
     "execution_count": 3,
     "metadata": {},
     "output_type": "execute_result"
    }
   ],
   "source": [
    "df.isnull().sum()"
   ]
  },
  {
   "cell_type": "code",
   "execution_count": 4,
   "id": "cefad527",
   "metadata": {},
   "outputs": [
    {
     "name": "stdout",
     "output_type": "stream",
     "text": [
      "0b1010\n"
     ]
    }
   ],
   "source": [
    "binary_rap = bin(10)\n",
    "print(binary_rap)"
   ]
  },
  {
   "cell_type": "code",
   "execution_count": 5,
   "id": "720d5cfa",
   "metadata": {},
   "outputs": [
    {
     "name": "stdout",
     "output_type": "stream",
     "text": [
      "0b1100100\n"
     ]
    }
   ],
   "source": [
    "z = bin(100)\n",
    "print(z)"
   ]
  },
  {
   "cell_type": "code",
   "execution_count": 6,
   "id": "143de458",
   "metadata": {},
   "outputs": [
    {
     "name": "stdout",
     "output_type": "stream",
     "text": [
      "15\n"
     ]
    }
   ],
   "source": [
    "my_list = [1, 2, 3, 4, 5]\n",
    "a = sum(my_list)\n",
    "print(a)"
   ]
  },
  {
   "cell_type": "code",
   "execution_count": 7,
   "id": "80d9db18",
   "metadata": {},
   "outputs": [
    {
     "data": {
      "text/plain": [
       "id                         0\n",
       "name                       0\n",
       "country_code               7\n",
       "locations                  0\n",
       "followers                  0\n",
       "employees_in_linkedin      0\n",
       "about                      1\n",
       "specialties              133\n",
       "company_size               0\n",
       "organization_type          0\n",
       "industries                 0\n",
       "website                    4\n",
       "crunchbase_url           590\n",
       "founded                   32\n",
       "company_id                 0\n",
       "headquarters               5\n",
       "image                      0\n",
       "logo                       0\n",
       "similar                    0\n",
       "url                        0\n",
       "updates                   87\n",
       "slogan                    58\n",
       "affiliated               369\n",
       "funding                  590\n",
       "investors                748\n",
       "formatted_locations        0\n",
       "stock_info               992\n",
       "get_directions_url         0\n",
       "description                1\n",
       "dtype: int64"
      ]
     },
     "execution_count": 7,
     "metadata": {},
     "output_type": "execute_result"
    }
   ],
   "source": [
    "df.isnull().sum()"
   ]
  },
  {
   "cell_type": "code",
   "execution_count": 8,
   "id": "7810a7ec",
   "metadata": {},
   "outputs": [
    {
     "data": {
      "text/html": [
       "<div>\n",
       "<style scoped>\n",
       "    .dataframe tbody tr th:only-of-type {\n",
       "        vertical-align: middle;\n",
       "    }\n",
       "\n",
       "    .dataframe tbody tr th {\n",
       "        vertical-align: top;\n",
       "    }\n",
       "\n",
       "    .dataframe thead th {\n",
       "        text-align: right;\n",
       "    }\n",
       "</style>\n",
       "<table border=\"1\" class=\"dataframe\">\n",
       "  <thead>\n",
       "    <tr style=\"text-align: right;\">\n",
       "      <th></th>\n",
       "      <th>id</th>\n",
       "      <th>name</th>\n",
       "      <th>country_code</th>\n",
       "      <th>locations</th>\n",
       "      <th>followers</th>\n",
       "      <th>employees_in_linkedin</th>\n",
       "      <th>about</th>\n",
       "      <th>specialties</th>\n",
       "      <th>company_size</th>\n",
       "      <th>organization_type</th>\n",
       "      <th>...</th>\n",
       "      <th>url</th>\n",
       "      <th>updates</th>\n",
       "      <th>slogan</th>\n",
       "      <th>affiliated</th>\n",
       "      <th>funding</th>\n",
       "      <th>investors</th>\n",
       "      <th>formatted_locations</th>\n",
       "      <th>stock_info</th>\n",
       "      <th>get_directions_url</th>\n",
       "      <th>description</th>\n",
       "    </tr>\n",
       "  </thead>\n",
       "  <tbody>\n",
       "    <tr>\n",
       "      <th>0</th>\n",
       "      <td>netzsch-analyzing-testing</td>\n",
       "      <td>NETZSCH Analyzing &amp; Testing</td>\n",
       "      <td>DE</td>\n",
       "      <td>[\"Wittelsbacher Str. 42 Selb, Bayern 95100, DE\"]</td>\n",
       "      <td>7947</td>\n",
       "      <td>197</td>\n",
       "      <td>The Analyzing &amp; Testing business unit of the N...</td>\n",
       "      <td>Thermal Analysis, Thermophysical Properties, A...</td>\n",
       "      <td>1,001-5,000 employees</td>\n",
       "      <td>Privately Held</td>\n",
       "      <td>...</td>\n",
       "      <td>https://www.linkedin.com/company/netzsch-analy...</td>\n",
       "      <td>[{\"external_link\":\"https://www.linkedin.com/re...</td>\n",
       "      <td>PROVEN EXCELLENCE</td>\n",
       "      <td>[{\"Links\":\"https://de.linkedin.com/company/net...</td>\n",
       "      <td>NaN</td>\n",
       "      <td>NaN</td>\n",
       "      <td>[\"Wittelsbacher Str. 42, Selb, Bayern 95100, DE\"]</td>\n",
       "      <td>NaN</td>\n",
       "      <td>[{\"directions_url\":\"https://www.bing.com/maps?...</td>\n",
       "      <td>NETZSCH Analyzing &amp;amp; Testing | 7,947 follow...</td>\n",
       "    </tr>\n",
       "    <tr>\n",
       "      <th>1</th>\n",
       "      <td>promip</td>\n",
       "      <td>Promip</td>\n",
       "      <td>BR</td>\n",
       "      <td>[\"Rua Tiradentes 1200 Splendor Office Piracica...</td>\n",
       "      <td>15113</td>\n",
       "      <td>68</td>\n",
       "      <td>A PROMIP foi fundada em 2006 com a missão de c...</td>\n",
       "      <td>Fabricação de Produtos Biológicos, Comercializ...</td>\n",
       "      <td>51-200 employees</td>\n",
       "      <td>Privately Held</td>\n",
       "      <td>...</td>\n",
       "      <td>https://www.linkedin.com/company/promip</td>\n",
       "      <td>[{\"likes_count\":14,\"text\":\"❓Você conhece o Mip...</td>\n",
       "      <td>Buscamos na natureza soluções que viabilizem u...</td>\n",
       "      <td>NaN</td>\n",
       "      <td>{\"last_round_date\":\"2017-07-13T00:00:00.000Z\",...</td>\n",
       "      <td>NaN</td>\n",
       "      <td>[\"Rua Tiradentes 1200, Splendor Office, Piraci...</td>\n",
       "      <td>NaN</td>\n",
       "      <td>[{\"directions_url\":\"https://www.bing.com/maps?...</td>\n",
       "      <td>Promip | 15,113 followers on LinkedIn. Buscamo...</td>\n",
       "    </tr>\n",
       "    <tr>\n",
       "      <th>2</th>\n",
       "      <td>lemfi</td>\n",
       "      <td>LemFi</td>\n",
       "      <td>US</td>\n",
       "      <td>[\"Oakland, CA 94601, US\"]</td>\n",
       "      <td>9594</td>\n",
       "      <td>179</td>\n",
       "      <td>International Payments for everyone. Send mone...</td>\n",
       "      <td>NaN</td>\n",
       "      <td>11-50 employees</td>\n",
       "      <td>Privately Held</td>\n",
       "      <td>...</td>\n",
       "      <td>https://www.linkedin.com/company/lemfi</td>\n",
       "      <td>[{\"comments_count\":22,\"external_link\":\"https:/...</td>\n",
       "      <td>International Payments for everyone. Send mone...</td>\n",
       "      <td>NaN</td>\n",
       "      <td>{\"last_round_date\":\"2023-09-24T00:00:00.000Z\",...</td>\n",
       "      <td>[\"Left Lane Capital\",\"+ 4 Other investors\"]</td>\n",
       "      <td>[\"Oakland, CA 94601, US\"]</td>\n",
       "      <td>NaN</td>\n",
       "      <td>[{\"directions_url\":\"https://www.bing.com/maps?...</td>\n",
       "      <td>LemFi | 9,594 followers on LinkedIn. Internati...</td>\n",
       "    </tr>\n",
       "    <tr>\n",
       "      <th>3</th>\n",
       "      <td>addiszeybe</td>\n",
       "      <td>Addis Zeybe - አዲስ ዘይቤ</td>\n",
       "      <td>ET</td>\n",
       "      <td>[\"Sierra Leone Street Hussien Building, 3rd Fl...</td>\n",
       "      <td>11864</td>\n",
       "      <td>16</td>\n",
       "      <td>Addis Zeybe contributes to creating a new medi...</td>\n",
       "      <td>Urban, Professionalism, and Ethiopia</td>\n",
       "      <td>11-50 employees</td>\n",
       "      <td>Privately Held</td>\n",
       "      <td>...</td>\n",
       "      <td>https://www.linkedin.com/company/addiszeybe</td>\n",
       "      <td>[{\"external_link\":\"https://www.linkedin.com/re...</td>\n",
       "      <td>Discover #Ethiopia's urban news &amp; stories with...</td>\n",
       "      <td>[{\"Links\":\"https://www.linkedin.com/showcase/s...</td>\n",
       "      <td>NaN</td>\n",
       "      <td>NaN</td>\n",
       "      <td>[\"Sierra Leone Street, Hussien Building, 3rd F...</td>\n",
       "      <td>NaN</td>\n",
       "      <td>[{\"directions_url\":\"https://www.bing.com/maps?...</td>\n",
       "      <td>Addis Zeybe - አዲስ ዘይቤ | 11,864 followers on Li...</td>\n",
       "    </tr>\n",
       "    <tr>\n",
       "      <th>4</th>\n",
       "      <td>stayble-therapeutics</td>\n",
       "      <td>Stayble Therapeutics</td>\n",
       "      <td>SE</td>\n",
       "      <td>[\"Medicinaregatan 8A Gothenburg, 41390, SE\"]</td>\n",
       "      <td>871</td>\n",
       "      <td>9</td>\n",
       "      <td>Stayble is a clinical stage pharmaceutical com...</td>\n",
       "      <td>Pharmaceutical development and Chronic low bac...</td>\n",
       "      <td>2-10 employees</td>\n",
       "      <td>Partnership</td>\n",
       "      <td>...</td>\n",
       "      <td>https://www.linkedin.com/company/stayble-thera...</td>\n",
       "      <td>[{\"comments_count\":1,\"images\":[\"https://media....</td>\n",
       "      <td>Stayble is a clinical stage pharmaceutical com...</td>\n",
       "      <td>NaN</td>\n",
       "      <td>{\"last_round_date\":\"2023-05-12T00:00:00.000Z\",...</td>\n",
       "      <td>NaN</td>\n",
       "      <td>[\"Medicinaregatan 8A, Gothenburg, 41390, SE\"]</td>\n",
       "      <td>NaN</td>\n",
       "      <td>[{\"directions_url\":\"https://www.bing.com/maps?...</td>\n",
       "      <td>Stayble Therapeutics | 871 followers on Linked...</td>\n",
       "    </tr>\n",
       "    <tr>\n",
       "      <th>...</th>\n",
       "      <td>...</td>\n",
       "      <td>...</td>\n",
       "      <td>...</td>\n",
       "      <td>...</td>\n",
       "      <td>...</td>\n",
       "      <td>...</td>\n",
       "      <td>...</td>\n",
       "      <td>...</td>\n",
       "      <td>...</td>\n",
       "      <td>...</td>\n",
       "      <td>...</td>\n",
       "      <td>...</td>\n",
       "      <td>...</td>\n",
       "      <td>...</td>\n",
       "      <td>...</td>\n",
       "      <td>...</td>\n",
       "      <td>...</td>\n",
       "      <td>...</td>\n",
       "      <td>...</td>\n",
       "      <td>...</td>\n",
       "      <td>...</td>\n",
       "    </tr>\n",
       "    <tr>\n",
       "      <th>995</th>\n",
       "      <td>stoutagri</td>\n",
       "      <td>StoutAgri Livestock Equipment Manufacturer</td>\n",
       "      <td>CN</td>\n",
       "      <td>[\"No.620 Chuncheng Road, Chengyang District Qi...</td>\n",
       "      <td>43</td>\n",
       "      <td>4</td>\n",
       "      <td>Stout Agri Ltd. is a professional livestock eq...</td>\n",
       "      <td>Livestock equipment, Poultry equipment, Pig eq...</td>\n",
       "      <td>11-50 employees</td>\n",
       "      <td>Privately Held</td>\n",
       "      <td>...</td>\n",
       "      <td>https://www.linkedin.com/company/stoutagri</td>\n",
       "      <td>[]</td>\n",
       "      <td>Manufacturer of livestock equipment in China. ...</td>\n",
       "      <td>[]</td>\n",
       "      <td>NaN</td>\n",
       "      <td>NaN</td>\n",
       "      <td>[\"No.620 Chuncheng Road, Chengyang District, Q...</td>\n",
       "      <td>NaN</td>\n",
       "      <td>[{\"directions_url\":\"https://www.bing.com/maps?...</td>\n",
       "      <td>StoutAgri Livestock Equipment Manufacturer | 4...</td>\n",
       "    </tr>\n",
       "    <tr>\n",
       "      <th>996</th>\n",
       "      <td>primocollect-receivables-center</td>\n",
       "      <td>PrimoCollect Ukraine</td>\n",
       "      <td>UA,RU</td>\n",
       "      <td>[\"Surikova 3a Kyiv, 03067, UA\",\"28 building, 1...</td>\n",
       "      <td>484</td>\n",
       "      <td>42</td>\n",
       "      <td>Since 2006 PrimoCollect Group is one of the mo...</td>\n",
       "      <td>Debt purchase (DB), Outsourced debt collection...</td>\n",
       "      <td>501-1,000 employees</td>\n",
       "      <td>Partnership</td>\n",
       "      <td>...</td>\n",
       "      <td>https://www.linkedin.com/company/primocollect-...</td>\n",
       "      <td>[{\"images\":[\"https://media.licdn.com/dms/image...</td>\n",
       "      <td>We just know how</td>\n",
       "      <td>NaN</td>\n",
       "      <td>{\"last_round_date\":\"2010-07-01T00:00:00.000Z\",...</td>\n",
       "      <td>NaN</td>\n",
       "      <td>[\"Surikova 3a, Kyiv, 03067, UA\",\"28 building, ...</td>\n",
       "      <td>NaN</td>\n",
       "      <td>[{\"directions_url\":\"https://www.bing.com/maps?...</td>\n",
       "      <td>PrimoCollect Ukraine | 484 followers on Linked...</td>\n",
       "    </tr>\n",
       "    <tr>\n",
       "      <th>997</th>\n",
       "      <td>d%C3%A9covi-sa</td>\n",
       "      <td>Décovi SA</td>\n",
       "      <td>CH</td>\n",
       "      <td>[\"Z.I. La Romaine 2 Vicques, Jura 2824, CH\"]</td>\n",
       "      <td>2276</td>\n",
       "      <td>58</td>\n",
       "      <td>Décovi SA est un acteur clef de l'industrie ju...</td>\n",
       "      <td>Décolletage, Masses Oscillantes, Gravure laser...</td>\n",
       "      <td>51-200 employees</td>\n",
       "      <td>Self-Employed</td>\n",
       "      <td>...</td>\n",
       "      <td>https://www.linkedin.com/company/d%C3%A9covi-sa</td>\n",
       "      <td>[{\"images\":[\"https://media.licdn.com/dms/image...</td>\n",
       "      <td>Fournisseur d'usinage de précision pour les in...</td>\n",
       "      <td>[{\"Links\":\"https://ch.linkedin.com/company/acr...</td>\n",
       "      <td>NaN</td>\n",
       "      <td>NaN</td>\n",
       "      <td>[\"Z.I. La Romaine 2, Vicques, Jura 2824, CH\"]</td>\n",
       "      <td>NaN</td>\n",
       "      <td>[{\"directions_url\":\"https://www.bing.com/maps?...</td>\n",
       "      <td>Décovi SA | 2,276 followers on LinkedIn. Fourn...</td>\n",
       "    </tr>\n",
       "    <tr>\n",
       "      <th>998</th>\n",
       "      <td>wijzijnab</td>\n",
       "      <td>AB</td>\n",
       "      <td>NL</td>\n",
       "      <td>[\"Groningerweg 13 B Paterswolde, Groningen, NL...</td>\n",
       "      <td>2468</td>\n",
       "      <td>93</td>\n",
       "      <td>Met Exact heeft A.B. Software &amp; Consultancy ge...</td>\n",
       "      <td>Procesoptimalisatie in de industrie, Automatis...</td>\n",
       "      <td>51-200 employees</td>\n",
       "      <td>Privately Held</td>\n",
       "      <td>...</td>\n",
       "      <td>https://www.linkedin.com/company/wijzijnab</td>\n",
       "      <td>[{\"images\":[\"https://media.licdn.com/dms/image...</td>\n",
       "      <td>Bright People, Smart Solutions</td>\n",
       "      <td>[{\"Links\":\"https://nl.linkedin.com/showcase/ko...</td>\n",
       "      <td>NaN</td>\n",
       "      <td>NaN</td>\n",
       "      <td>[\"Groningerweg 13 B, Paterswolde, Groningen, N...</td>\n",
       "      <td>NaN</td>\n",
       "      <td>[{\"directions_url\":\"https://www.bing.com/maps?...</td>\n",
       "      <td>AB | 2,468 followers on LinkedIn. Bright Peopl...</td>\n",
       "    </tr>\n",
       "    <tr>\n",
       "      <th>999</th>\n",
       "      <td>mobki</td>\n",
       "      <td>Mobki</td>\n",
       "      <td>CL</td>\n",
       "      <td>[\"Avenida Bernardo O'Higgins 330, Oficina 35 C...</td>\n",
       "      <td>44</td>\n",
       "      <td>3</td>\n",
       "      <td>Mobki es una empresa de Innovación Tecnológica...</td>\n",
       "      <td>Innovación, Tecnologías de Información, Diseño...</td>\n",
       "      <td>2-10 employees</td>\n",
       "      <td>Self-Owned</td>\n",
       "      <td>...</td>\n",
       "      <td>https://www.linkedin.com/company/mobki</td>\n",
       "      <td>[]</td>\n",
       "      <td>NaN</td>\n",
       "      <td>[]</td>\n",
       "      <td>NaN</td>\n",
       "      <td>NaN</td>\n",
       "      <td>[\"Avenida Bernardo O'Higgins 330, Oficina 35, ...</td>\n",
       "      <td>NaN</td>\n",
       "      <td>[{\"directions_url\":\"https://www.bing.com/maps?...</td>\n",
       "      <td>Mobki | 44 followers on LinkedIn. Mobki es una...</td>\n",
       "    </tr>\n",
       "  </tbody>\n",
       "</table>\n",
       "<p>1000 rows × 29 columns</p>\n",
       "</div>"
      ],
      "text/plain": [
       "                                  id  \\\n",
       "0          netzsch-analyzing-testing   \n",
       "1                             promip   \n",
       "2                              lemfi   \n",
       "3                         addiszeybe   \n",
       "4               stayble-therapeutics   \n",
       "..                               ...   \n",
       "995                        stoutagri   \n",
       "996  primocollect-receivables-center   \n",
       "997                   d%C3%A9covi-sa   \n",
       "998                        wijzijnab   \n",
       "999                            mobki   \n",
       "\n",
       "                                           name country_code  \\\n",
       "0                   NETZSCH Analyzing & Testing           DE   \n",
       "1                                        Promip           BR   \n",
       "2                                         LemFi           US   \n",
       "3                         Addis Zeybe - አዲስ ዘይቤ           ET   \n",
       "4                          Stayble Therapeutics           SE   \n",
       "..                                          ...          ...   \n",
       "995  StoutAgri Livestock Equipment Manufacturer           CN   \n",
       "996                        PrimoCollect Ukraine        UA,RU   \n",
       "997                                   Décovi SA           CH   \n",
       "998                                          AB           NL   \n",
       "999                                       Mobki           CL   \n",
       "\n",
       "                                             locations  followers  \\\n",
       "0     [\"Wittelsbacher Str. 42 Selb, Bayern 95100, DE\"]       7947   \n",
       "1    [\"Rua Tiradentes 1200 Splendor Office Piracica...      15113   \n",
       "2                            [\"Oakland, CA 94601, US\"]       9594   \n",
       "3    [\"Sierra Leone Street Hussien Building, 3rd Fl...      11864   \n",
       "4         [\"Medicinaregatan 8A Gothenburg, 41390, SE\"]        871   \n",
       "..                                                 ...        ...   \n",
       "995  [\"No.620 Chuncheng Road, Chengyang District Qi...         43   \n",
       "996  [\"Surikova 3a Kyiv, 03067, UA\",\"28 building, 1...        484   \n",
       "997       [\"Z.I. La Romaine 2 Vicques, Jura 2824, CH\"]       2276   \n",
       "998  [\"Groningerweg 13 B Paterswolde, Groningen, NL...       2468   \n",
       "999  [\"Avenida Bernardo O'Higgins 330, Oficina 35 C...         44   \n",
       "\n",
       "     employees_in_linkedin                                              about  \\\n",
       "0                      197  The Analyzing & Testing business unit of the N...   \n",
       "1                       68  A PROMIP foi fundada em 2006 com a missão de c...   \n",
       "2                      179  International Payments for everyone. Send mone...   \n",
       "3                       16  Addis Zeybe contributes to creating a new medi...   \n",
       "4                        9  Stayble is a clinical stage pharmaceutical com...   \n",
       "..                     ...                                                ...   \n",
       "995                      4  Stout Agri Ltd. is a professional livestock eq...   \n",
       "996                     42  Since 2006 PrimoCollect Group is one of the mo...   \n",
       "997                     58  Décovi SA est un acteur clef de l'industrie ju...   \n",
       "998                     93  Met Exact heeft A.B. Software & Consultancy ge...   \n",
       "999                      3  Mobki es una empresa de Innovación Tecnológica...   \n",
       "\n",
       "                                           specialties           company_size  \\\n",
       "0    Thermal Analysis, Thermophysical Properties, A...  1,001-5,000 employees   \n",
       "1    Fabricação de Produtos Biológicos, Comercializ...       51-200 employees   \n",
       "2                                                  NaN        11-50 employees   \n",
       "3                 Urban, Professionalism, and Ethiopia        11-50 employees   \n",
       "4    Pharmaceutical development and Chronic low bac...         2-10 employees   \n",
       "..                                                 ...                    ...   \n",
       "995  Livestock equipment, Poultry equipment, Pig eq...        11-50 employees   \n",
       "996  Debt purchase (DB), Outsourced debt collection...    501-1,000 employees   \n",
       "997  Décolletage, Masses Oscillantes, Gravure laser...       51-200 employees   \n",
       "998  Procesoptimalisatie in de industrie, Automatis...       51-200 employees   \n",
       "999  Innovación, Tecnologías de Información, Diseño...         2-10 employees   \n",
       "\n",
       "    organization_type  ...                                                url  \\\n",
       "0      Privately Held  ...  https://www.linkedin.com/company/netzsch-analy...   \n",
       "1      Privately Held  ...            https://www.linkedin.com/company/promip   \n",
       "2      Privately Held  ...             https://www.linkedin.com/company/lemfi   \n",
       "3      Privately Held  ...        https://www.linkedin.com/company/addiszeybe   \n",
       "4         Partnership  ...  https://www.linkedin.com/company/stayble-thera...   \n",
       "..                ...  ...                                                ...   \n",
       "995    Privately Held  ...         https://www.linkedin.com/company/stoutagri   \n",
       "996       Partnership  ...  https://www.linkedin.com/company/primocollect-...   \n",
       "997     Self-Employed  ...    https://www.linkedin.com/company/d%C3%A9covi-sa   \n",
       "998    Privately Held  ...         https://www.linkedin.com/company/wijzijnab   \n",
       "999        Self-Owned  ...             https://www.linkedin.com/company/mobki   \n",
       "\n",
       "                                               updates  \\\n",
       "0    [{\"external_link\":\"https://www.linkedin.com/re...   \n",
       "1    [{\"likes_count\":14,\"text\":\"❓Você conhece o Mip...   \n",
       "2    [{\"comments_count\":22,\"external_link\":\"https:/...   \n",
       "3    [{\"external_link\":\"https://www.linkedin.com/re...   \n",
       "4    [{\"comments_count\":1,\"images\":[\"https://media....   \n",
       "..                                                 ...   \n",
       "995                                                 []   \n",
       "996  [{\"images\":[\"https://media.licdn.com/dms/image...   \n",
       "997  [{\"images\":[\"https://media.licdn.com/dms/image...   \n",
       "998  [{\"images\":[\"https://media.licdn.com/dms/image...   \n",
       "999                                                 []   \n",
       "\n",
       "                                                slogan  \\\n",
       "0                                    PROVEN EXCELLENCE   \n",
       "1    Buscamos na natureza soluções que viabilizem u...   \n",
       "2    International Payments for everyone. Send mone...   \n",
       "3    Discover #Ethiopia's urban news & stories with...   \n",
       "4    Stayble is a clinical stage pharmaceutical com...   \n",
       "..                                                 ...   \n",
       "995  Manufacturer of livestock equipment in China. ...   \n",
       "996                                   We just know how   \n",
       "997  Fournisseur d'usinage de précision pour les in...   \n",
       "998                     Bright People, Smart Solutions   \n",
       "999                                                NaN   \n",
       "\n",
       "                                            affiliated  \\\n",
       "0    [{\"Links\":\"https://de.linkedin.com/company/net...   \n",
       "1                                                  NaN   \n",
       "2                                                  NaN   \n",
       "3    [{\"Links\":\"https://www.linkedin.com/showcase/s...   \n",
       "4                                                  NaN   \n",
       "..                                                 ...   \n",
       "995                                                 []   \n",
       "996                                                NaN   \n",
       "997  [{\"Links\":\"https://ch.linkedin.com/company/acr...   \n",
       "998  [{\"Links\":\"https://nl.linkedin.com/showcase/ko...   \n",
       "999                                                 []   \n",
       "\n",
       "                                               funding  \\\n",
       "0                                                  NaN   \n",
       "1    {\"last_round_date\":\"2017-07-13T00:00:00.000Z\",...   \n",
       "2    {\"last_round_date\":\"2023-09-24T00:00:00.000Z\",...   \n",
       "3                                                  NaN   \n",
       "4    {\"last_round_date\":\"2023-05-12T00:00:00.000Z\",...   \n",
       "..                                                 ...   \n",
       "995                                                NaN   \n",
       "996  {\"last_round_date\":\"2010-07-01T00:00:00.000Z\",...   \n",
       "997                                                NaN   \n",
       "998                                                NaN   \n",
       "999                                                NaN   \n",
       "\n",
       "                                       investors  \\\n",
       "0                                            NaN   \n",
       "1                                            NaN   \n",
       "2    [\"Left Lane Capital\",\"+ 4 Other investors\"]   \n",
       "3                                            NaN   \n",
       "4                                            NaN   \n",
       "..                                           ...   \n",
       "995                                          NaN   \n",
       "996                                          NaN   \n",
       "997                                          NaN   \n",
       "998                                          NaN   \n",
       "999                                          NaN   \n",
       "\n",
       "                                   formatted_locations stock_info  \\\n",
       "0    [\"Wittelsbacher Str. 42, Selb, Bayern 95100, DE\"]        NaN   \n",
       "1    [\"Rua Tiradentes 1200, Splendor Office, Piraci...        NaN   \n",
       "2                            [\"Oakland, CA 94601, US\"]        NaN   \n",
       "3    [\"Sierra Leone Street, Hussien Building, 3rd F...        NaN   \n",
       "4        [\"Medicinaregatan 8A, Gothenburg, 41390, SE\"]        NaN   \n",
       "..                                                 ...        ...   \n",
       "995  [\"No.620 Chuncheng Road, Chengyang District, Q...        NaN   \n",
       "996  [\"Surikova 3a, Kyiv, 03067, UA\",\"28 building, ...        NaN   \n",
       "997      [\"Z.I. La Romaine 2, Vicques, Jura 2824, CH\"]        NaN   \n",
       "998  [\"Groningerweg 13 B, Paterswolde, Groningen, N...        NaN   \n",
       "999  [\"Avenida Bernardo O'Higgins 330, Oficina 35, ...        NaN   \n",
       "\n",
       "                                    get_directions_url  \\\n",
       "0    [{\"directions_url\":\"https://www.bing.com/maps?...   \n",
       "1    [{\"directions_url\":\"https://www.bing.com/maps?...   \n",
       "2    [{\"directions_url\":\"https://www.bing.com/maps?...   \n",
       "3    [{\"directions_url\":\"https://www.bing.com/maps?...   \n",
       "4    [{\"directions_url\":\"https://www.bing.com/maps?...   \n",
       "..                                                 ...   \n",
       "995  [{\"directions_url\":\"https://www.bing.com/maps?...   \n",
       "996  [{\"directions_url\":\"https://www.bing.com/maps?...   \n",
       "997  [{\"directions_url\":\"https://www.bing.com/maps?...   \n",
       "998  [{\"directions_url\":\"https://www.bing.com/maps?...   \n",
       "999  [{\"directions_url\":\"https://www.bing.com/maps?...   \n",
       "\n",
       "                                           description  \n",
       "0    NETZSCH Analyzing &amp; Testing | 7,947 follow...  \n",
       "1    Promip | 15,113 followers on LinkedIn. Buscamo...  \n",
       "2    LemFi | 9,594 followers on LinkedIn. Internati...  \n",
       "3    Addis Zeybe - አዲስ ዘይቤ | 11,864 followers on Li...  \n",
       "4    Stayble Therapeutics | 871 followers on Linked...  \n",
       "..                                                 ...  \n",
       "995  StoutAgri Livestock Equipment Manufacturer | 4...  \n",
       "996  PrimoCollect Ukraine | 484 followers on Linked...  \n",
       "997  Décovi SA | 2,276 followers on LinkedIn. Fourn...  \n",
       "998  AB | 2,468 followers on LinkedIn. Bright Peopl...  \n",
       "999  Mobki | 44 followers on LinkedIn. Mobki es una...  \n",
       "\n",
       "[1000 rows x 29 columns]"
      ]
     },
     "execution_count": 8,
     "metadata": {},
     "output_type": "execute_result"
    }
   ],
   "source": [
    "df"
   ]
  },
  {
   "cell_type": "code",
   "execution_count": 9,
   "id": "366e6ec6",
   "metadata": {},
   "outputs": [
    {
     "data": {
      "text/html": [
       "<div>\n",
       "<style scoped>\n",
       "    .dataframe tbody tr th:only-of-type {\n",
       "        vertical-align: middle;\n",
       "    }\n",
       "\n",
       "    .dataframe tbody tr th {\n",
       "        vertical-align: top;\n",
       "    }\n",
       "\n",
       "    .dataframe thead th {\n",
       "        text-align: right;\n",
       "    }\n",
       "</style>\n",
       "<table border=\"1\" class=\"dataframe\">\n",
       "  <thead>\n",
       "    <tr style=\"text-align: right;\">\n",
       "      <th></th>\n",
       "      <th>id</th>\n",
       "      <th>name</th>\n",
       "      <th>country_code</th>\n",
       "      <th>locations</th>\n",
       "      <th>followers</th>\n",
       "      <th>employees_in_linkedin</th>\n",
       "      <th>about</th>\n",
       "      <th>specialties</th>\n",
       "      <th>company_size</th>\n",
       "      <th>organization_type</th>\n",
       "      <th>...</th>\n",
       "      <th>url</th>\n",
       "      <th>updates</th>\n",
       "      <th>slogan</th>\n",
       "      <th>affiliated</th>\n",
       "      <th>funding</th>\n",
       "      <th>investors</th>\n",
       "      <th>formatted_locations</th>\n",
       "      <th>stock_info</th>\n",
       "      <th>get_directions_url</th>\n",
       "      <th>description</th>\n",
       "    </tr>\n",
       "  </thead>\n",
       "  <tbody>\n",
       "    <tr>\n",
       "      <th>0</th>\n",
       "      <td>netzsch-analyzing-testing</td>\n",
       "      <td>NETZSCH Analyzing &amp; Testing</td>\n",
       "      <td>DE</td>\n",
       "      <td>[\"Wittelsbacher Str. 42 Selb, Bayern 95100, DE\"]</td>\n",
       "      <td>7947</td>\n",
       "      <td>197</td>\n",
       "      <td>The Analyzing &amp; Testing business unit of the N...</td>\n",
       "      <td>Thermal Analysis, Thermophysical Properties, A...</td>\n",
       "      <td>1,001-5,000 employees</td>\n",
       "      <td>Privately Held</td>\n",
       "      <td>...</td>\n",
       "      <td>https://www.linkedin.com/company/netzsch-analy...</td>\n",
       "      <td>[{\"external_link\":\"https://www.linkedin.com/re...</td>\n",
       "      <td>PROVEN EXCELLENCE</td>\n",
       "      <td>[{\"Links\":\"https://de.linkedin.com/company/net...</td>\n",
       "      <td>NaN</td>\n",
       "      <td>NaN</td>\n",
       "      <td>[\"Wittelsbacher Str. 42, Selb, Bayern 95100, DE\"]</td>\n",
       "      <td>NaN</td>\n",
       "      <td>[{\"directions_url\":\"https://www.bing.com/maps?...</td>\n",
       "      <td>NETZSCH Analyzing &amp;amp; Testing | 7,947 follow...</td>\n",
       "    </tr>\n",
       "    <tr>\n",
       "      <th>1</th>\n",
       "      <td>promip</td>\n",
       "      <td>Promip</td>\n",
       "      <td>BR</td>\n",
       "      <td>[\"Rua Tiradentes 1200 Splendor Office Piracica...</td>\n",
       "      <td>15113</td>\n",
       "      <td>68</td>\n",
       "      <td>A PROMIP foi fundada em 2006 com a missão de c...</td>\n",
       "      <td>Fabricação de Produtos Biológicos, Comercializ...</td>\n",
       "      <td>51-200 employees</td>\n",
       "      <td>Privately Held</td>\n",
       "      <td>...</td>\n",
       "      <td>https://www.linkedin.com/company/promip</td>\n",
       "      <td>[{\"likes_count\":14,\"text\":\"❓Você conhece o Mip...</td>\n",
       "      <td>Buscamos na natureza soluções que viabilizem u...</td>\n",
       "      <td>NaN</td>\n",
       "      <td>{\"last_round_date\":\"2017-07-13T00:00:00.000Z\",...</td>\n",
       "      <td>NaN</td>\n",
       "      <td>[\"Rua Tiradentes 1200, Splendor Office, Piraci...</td>\n",
       "      <td>NaN</td>\n",
       "      <td>[{\"directions_url\":\"https://www.bing.com/maps?...</td>\n",
       "      <td>Promip | 15,113 followers on LinkedIn. Buscamo...</td>\n",
       "    </tr>\n",
       "    <tr>\n",
       "      <th>2</th>\n",
       "      <td>lemfi</td>\n",
       "      <td>LemFi</td>\n",
       "      <td>US</td>\n",
       "      <td>[\"Oakland, CA 94601, US\"]</td>\n",
       "      <td>9594</td>\n",
       "      <td>179</td>\n",
       "      <td>International Payments for everyone. Send mone...</td>\n",
       "      <td>NaN</td>\n",
       "      <td>11-50 employees</td>\n",
       "      <td>Privately Held</td>\n",
       "      <td>...</td>\n",
       "      <td>https://www.linkedin.com/company/lemfi</td>\n",
       "      <td>[{\"comments_count\":22,\"external_link\":\"https:/...</td>\n",
       "      <td>International Payments for everyone. Send mone...</td>\n",
       "      <td>NaN</td>\n",
       "      <td>{\"last_round_date\":\"2023-09-24T00:00:00.000Z\",...</td>\n",
       "      <td>[\"Left Lane Capital\",\"+ 4 Other investors\"]</td>\n",
       "      <td>[\"Oakland, CA 94601, US\"]</td>\n",
       "      <td>NaN</td>\n",
       "      <td>[{\"directions_url\":\"https://www.bing.com/maps?...</td>\n",
       "      <td>LemFi | 9,594 followers on LinkedIn. Internati...</td>\n",
       "    </tr>\n",
       "    <tr>\n",
       "      <th>3</th>\n",
       "      <td>addiszeybe</td>\n",
       "      <td>Addis Zeybe - አዲስ ዘይቤ</td>\n",
       "      <td>ET</td>\n",
       "      <td>[\"Sierra Leone Street Hussien Building, 3rd Fl...</td>\n",
       "      <td>11864</td>\n",
       "      <td>16</td>\n",
       "      <td>Addis Zeybe contributes to creating a new medi...</td>\n",
       "      <td>Urban, Professionalism, and Ethiopia</td>\n",
       "      <td>11-50 employees</td>\n",
       "      <td>Privately Held</td>\n",
       "      <td>...</td>\n",
       "      <td>https://www.linkedin.com/company/addiszeybe</td>\n",
       "      <td>[{\"external_link\":\"https://www.linkedin.com/re...</td>\n",
       "      <td>Discover #Ethiopia's urban news &amp; stories with...</td>\n",
       "      <td>[{\"Links\":\"https://www.linkedin.com/showcase/s...</td>\n",
       "      <td>NaN</td>\n",
       "      <td>NaN</td>\n",
       "      <td>[\"Sierra Leone Street, Hussien Building, 3rd F...</td>\n",
       "      <td>NaN</td>\n",
       "      <td>[{\"directions_url\":\"https://www.bing.com/maps?...</td>\n",
       "      <td>Addis Zeybe - አዲስ ዘይቤ | 11,864 followers on Li...</td>\n",
       "    </tr>\n",
       "    <tr>\n",
       "      <th>4</th>\n",
       "      <td>stayble-therapeutics</td>\n",
       "      <td>Stayble Therapeutics</td>\n",
       "      <td>SE</td>\n",
       "      <td>[\"Medicinaregatan 8A Gothenburg, 41390, SE\"]</td>\n",
       "      <td>871</td>\n",
       "      <td>9</td>\n",
       "      <td>Stayble is a clinical stage pharmaceutical com...</td>\n",
       "      <td>Pharmaceutical development and Chronic low bac...</td>\n",
       "      <td>2-10 employees</td>\n",
       "      <td>Partnership</td>\n",
       "      <td>...</td>\n",
       "      <td>https://www.linkedin.com/company/stayble-thera...</td>\n",
       "      <td>[{\"comments_count\":1,\"images\":[\"https://media....</td>\n",
       "      <td>Stayble is a clinical stage pharmaceutical com...</td>\n",
       "      <td>NaN</td>\n",
       "      <td>{\"last_round_date\":\"2023-05-12T00:00:00.000Z\",...</td>\n",
       "      <td>NaN</td>\n",
       "      <td>[\"Medicinaregatan 8A, Gothenburg, 41390, SE\"]</td>\n",
       "      <td>NaN</td>\n",
       "      <td>[{\"directions_url\":\"https://www.bing.com/maps?...</td>\n",
       "      <td>Stayble Therapeutics | 871 followers on Linked...</td>\n",
       "    </tr>\n",
       "    <tr>\n",
       "      <th>...</th>\n",
       "      <td>...</td>\n",
       "      <td>...</td>\n",
       "      <td>...</td>\n",
       "      <td>...</td>\n",
       "      <td>...</td>\n",
       "      <td>...</td>\n",
       "      <td>...</td>\n",
       "      <td>...</td>\n",
       "      <td>...</td>\n",
       "      <td>...</td>\n",
       "      <td>...</td>\n",
       "      <td>...</td>\n",
       "      <td>...</td>\n",
       "      <td>...</td>\n",
       "      <td>...</td>\n",
       "      <td>...</td>\n",
       "      <td>...</td>\n",
       "      <td>...</td>\n",
       "      <td>...</td>\n",
       "      <td>...</td>\n",
       "      <td>...</td>\n",
       "    </tr>\n",
       "    <tr>\n",
       "      <th>995</th>\n",
       "      <td>stoutagri</td>\n",
       "      <td>StoutAgri Livestock Equipment Manufacturer</td>\n",
       "      <td>CN</td>\n",
       "      <td>[\"No.620 Chuncheng Road, Chengyang District Qi...</td>\n",
       "      <td>43</td>\n",
       "      <td>4</td>\n",
       "      <td>Stout Agri Ltd. is a professional livestock eq...</td>\n",
       "      <td>Livestock equipment, Poultry equipment, Pig eq...</td>\n",
       "      <td>11-50 employees</td>\n",
       "      <td>Privately Held</td>\n",
       "      <td>...</td>\n",
       "      <td>https://www.linkedin.com/company/stoutagri</td>\n",
       "      <td>[]</td>\n",
       "      <td>Manufacturer of livestock equipment in China. ...</td>\n",
       "      <td>[]</td>\n",
       "      <td>NaN</td>\n",
       "      <td>NaN</td>\n",
       "      <td>[\"No.620 Chuncheng Road, Chengyang District, Q...</td>\n",
       "      <td>NaN</td>\n",
       "      <td>[{\"directions_url\":\"https://www.bing.com/maps?...</td>\n",
       "      <td>StoutAgri Livestock Equipment Manufacturer | 4...</td>\n",
       "    </tr>\n",
       "    <tr>\n",
       "      <th>996</th>\n",
       "      <td>primocollect-receivables-center</td>\n",
       "      <td>PrimoCollect Ukraine</td>\n",
       "      <td>UA,RU</td>\n",
       "      <td>[\"Surikova 3a Kyiv, 03067, UA\",\"28 building, 1...</td>\n",
       "      <td>484</td>\n",
       "      <td>42</td>\n",
       "      <td>Since 2006 PrimoCollect Group is one of the mo...</td>\n",
       "      <td>Debt purchase (DB), Outsourced debt collection...</td>\n",
       "      <td>501-1,000 employees</td>\n",
       "      <td>Partnership</td>\n",
       "      <td>...</td>\n",
       "      <td>https://www.linkedin.com/company/primocollect-...</td>\n",
       "      <td>[{\"images\":[\"https://media.licdn.com/dms/image...</td>\n",
       "      <td>We just know how</td>\n",
       "      <td>NaN</td>\n",
       "      <td>{\"last_round_date\":\"2010-07-01T00:00:00.000Z\",...</td>\n",
       "      <td>NaN</td>\n",
       "      <td>[\"Surikova 3a, Kyiv, 03067, UA\",\"28 building, ...</td>\n",
       "      <td>NaN</td>\n",
       "      <td>[{\"directions_url\":\"https://www.bing.com/maps?...</td>\n",
       "      <td>PrimoCollect Ukraine | 484 followers on Linked...</td>\n",
       "    </tr>\n",
       "    <tr>\n",
       "      <th>997</th>\n",
       "      <td>d%C3%A9covi-sa</td>\n",
       "      <td>Décovi SA</td>\n",
       "      <td>CH</td>\n",
       "      <td>[\"Z.I. La Romaine 2 Vicques, Jura 2824, CH\"]</td>\n",
       "      <td>2276</td>\n",
       "      <td>58</td>\n",
       "      <td>Décovi SA est un acteur clef de l'industrie ju...</td>\n",
       "      <td>Décolletage, Masses Oscillantes, Gravure laser...</td>\n",
       "      <td>51-200 employees</td>\n",
       "      <td>Self-Employed</td>\n",
       "      <td>...</td>\n",
       "      <td>https://www.linkedin.com/company/d%C3%A9covi-sa</td>\n",
       "      <td>[{\"images\":[\"https://media.licdn.com/dms/image...</td>\n",
       "      <td>Fournisseur d'usinage de précision pour les in...</td>\n",
       "      <td>[{\"Links\":\"https://ch.linkedin.com/company/acr...</td>\n",
       "      <td>NaN</td>\n",
       "      <td>NaN</td>\n",
       "      <td>[\"Z.I. La Romaine 2, Vicques, Jura 2824, CH\"]</td>\n",
       "      <td>NaN</td>\n",
       "      <td>[{\"directions_url\":\"https://www.bing.com/maps?...</td>\n",
       "      <td>Décovi SA | 2,276 followers on LinkedIn. Fourn...</td>\n",
       "    </tr>\n",
       "    <tr>\n",
       "      <th>998</th>\n",
       "      <td>wijzijnab</td>\n",
       "      <td>AB</td>\n",
       "      <td>NL</td>\n",
       "      <td>[\"Groningerweg 13 B Paterswolde, Groningen, NL...</td>\n",
       "      <td>2468</td>\n",
       "      <td>93</td>\n",
       "      <td>Met Exact heeft A.B. Software &amp; Consultancy ge...</td>\n",
       "      <td>Procesoptimalisatie in de industrie, Automatis...</td>\n",
       "      <td>51-200 employees</td>\n",
       "      <td>Privately Held</td>\n",
       "      <td>...</td>\n",
       "      <td>https://www.linkedin.com/company/wijzijnab</td>\n",
       "      <td>[{\"images\":[\"https://media.licdn.com/dms/image...</td>\n",
       "      <td>Bright People, Smart Solutions</td>\n",
       "      <td>[{\"Links\":\"https://nl.linkedin.com/showcase/ko...</td>\n",
       "      <td>NaN</td>\n",
       "      <td>NaN</td>\n",
       "      <td>[\"Groningerweg 13 B, Paterswolde, Groningen, N...</td>\n",
       "      <td>NaN</td>\n",
       "      <td>[{\"directions_url\":\"https://www.bing.com/maps?...</td>\n",
       "      <td>AB | 2,468 followers on LinkedIn. Bright Peopl...</td>\n",
       "    </tr>\n",
       "    <tr>\n",
       "      <th>999</th>\n",
       "      <td>mobki</td>\n",
       "      <td>Mobki</td>\n",
       "      <td>CL</td>\n",
       "      <td>[\"Avenida Bernardo O'Higgins 330, Oficina 35 C...</td>\n",
       "      <td>44</td>\n",
       "      <td>3</td>\n",
       "      <td>Mobki es una empresa de Innovación Tecnológica...</td>\n",
       "      <td>Innovación, Tecnologías de Información, Diseño...</td>\n",
       "      <td>2-10 employees</td>\n",
       "      <td>Self-Owned</td>\n",
       "      <td>...</td>\n",
       "      <td>https://www.linkedin.com/company/mobki</td>\n",
       "      <td>[]</td>\n",
       "      <td>NaN</td>\n",
       "      <td>[]</td>\n",
       "      <td>NaN</td>\n",
       "      <td>NaN</td>\n",
       "      <td>[\"Avenida Bernardo O'Higgins 330, Oficina 35, ...</td>\n",
       "      <td>NaN</td>\n",
       "      <td>[{\"directions_url\":\"https://www.bing.com/maps?...</td>\n",
       "      <td>Mobki | 44 followers on LinkedIn. Mobki es una...</td>\n",
       "    </tr>\n",
       "  </tbody>\n",
       "</table>\n",
       "<p>1000 rows × 29 columns</p>\n",
       "</div>"
      ],
      "text/plain": [
       "                                  id  \\\n",
       "0          netzsch-analyzing-testing   \n",
       "1                             promip   \n",
       "2                              lemfi   \n",
       "3                         addiszeybe   \n",
       "4               stayble-therapeutics   \n",
       "..                               ...   \n",
       "995                        stoutagri   \n",
       "996  primocollect-receivables-center   \n",
       "997                   d%C3%A9covi-sa   \n",
       "998                        wijzijnab   \n",
       "999                            mobki   \n",
       "\n",
       "                                           name country_code  \\\n",
       "0                   NETZSCH Analyzing & Testing           DE   \n",
       "1                                        Promip           BR   \n",
       "2                                         LemFi           US   \n",
       "3                         Addis Zeybe - አዲስ ዘይቤ           ET   \n",
       "4                          Stayble Therapeutics           SE   \n",
       "..                                          ...          ...   \n",
       "995  StoutAgri Livestock Equipment Manufacturer           CN   \n",
       "996                        PrimoCollect Ukraine        UA,RU   \n",
       "997                                   Décovi SA           CH   \n",
       "998                                          AB           NL   \n",
       "999                                       Mobki           CL   \n",
       "\n",
       "                                             locations  followers  \\\n",
       "0     [\"Wittelsbacher Str. 42 Selb, Bayern 95100, DE\"]       7947   \n",
       "1    [\"Rua Tiradentes 1200 Splendor Office Piracica...      15113   \n",
       "2                            [\"Oakland, CA 94601, US\"]       9594   \n",
       "3    [\"Sierra Leone Street Hussien Building, 3rd Fl...      11864   \n",
       "4         [\"Medicinaregatan 8A Gothenburg, 41390, SE\"]        871   \n",
       "..                                                 ...        ...   \n",
       "995  [\"No.620 Chuncheng Road, Chengyang District Qi...         43   \n",
       "996  [\"Surikova 3a Kyiv, 03067, UA\",\"28 building, 1...        484   \n",
       "997       [\"Z.I. La Romaine 2 Vicques, Jura 2824, CH\"]       2276   \n",
       "998  [\"Groningerweg 13 B Paterswolde, Groningen, NL...       2468   \n",
       "999  [\"Avenida Bernardo O'Higgins 330, Oficina 35 C...         44   \n",
       "\n",
       "     employees_in_linkedin                                              about  \\\n",
       "0                      197  The Analyzing & Testing business unit of the N...   \n",
       "1                       68  A PROMIP foi fundada em 2006 com a missão de c...   \n",
       "2                      179  International Payments for everyone. Send mone...   \n",
       "3                       16  Addis Zeybe contributes to creating a new medi...   \n",
       "4                        9  Stayble is a clinical stage pharmaceutical com...   \n",
       "..                     ...                                                ...   \n",
       "995                      4  Stout Agri Ltd. is a professional livestock eq...   \n",
       "996                     42  Since 2006 PrimoCollect Group is one of the mo...   \n",
       "997                     58  Décovi SA est un acteur clef de l'industrie ju...   \n",
       "998                     93  Met Exact heeft A.B. Software & Consultancy ge...   \n",
       "999                      3  Mobki es una empresa de Innovación Tecnológica...   \n",
       "\n",
       "                                           specialties           company_size  \\\n",
       "0    Thermal Analysis, Thermophysical Properties, A...  1,001-5,000 employees   \n",
       "1    Fabricação de Produtos Biológicos, Comercializ...       51-200 employees   \n",
       "2                                                  NaN        11-50 employees   \n",
       "3                 Urban, Professionalism, and Ethiopia        11-50 employees   \n",
       "4    Pharmaceutical development and Chronic low bac...         2-10 employees   \n",
       "..                                                 ...                    ...   \n",
       "995  Livestock equipment, Poultry equipment, Pig eq...        11-50 employees   \n",
       "996  Debt purchase (DB), Outsourced debt collection...    501-1,000 employees   \n",
       "997  Décolletage, Masses Oscillantes, Gravure laser...       51-200 employees   \n",
       "998  Procesoptimalisatie in de industrie, Automatis...       51-200 employees   \n",
       "999  Innovación, Tecnologías de Información, Diseño...         2-10 employees   \n",
       "\n",
       "    organization_type  ...                                                url  \\\n",
       "0      Privately Held  ...  https://www.linkedin.com/company/netzsch-analy...   \n",
       "1      Privately Held  ...            https://www.linkedin.com/company/promip   \n",
       "2      Privately Held  ...             https://www.linkedin.com/company/lemfi   \n",
       "3      Privately Held  ...        https://www.linkedin.com/company/addiszeybe   \n",
       "4         Partnership  ...  https://www.linkedin.com/company/stayble-thera...   \n",
       "..                ...  ...                                                ...   \n",
       "995    Privately Held  ...         https://www.linkedin.com/company/stoutagri   \n",
       "996       Partnership  ...  https://www.linkedin.com/company/primocollect-...   \n",
       "997     Self-Employed  ...    https://www.linkedin.com/company/d%C3%A9covi-sa   \n",
       "998    Privately Held  ...         https://www.linkedin.com/company/wijzijnab   \n",
       "999        Self-Owned  ...             https://www.linkedin.com/company/mobki   \n",
       "\n",
       "                                               updates  \\\n",
       "0    [{\"external_link\":\"https://www.linkedin.com/re...   \n",
       "1    [{\"likes_count\":14,\"text\":\"❓Você conhece o Mip...   \n",
       "2    [{\"comments_count\":22,\"external_link\":\"https:/...   \n",
       "3    [{\"external_link\":\"https://www.linkedin.com/re...   \n",
       "4    [{\"comments_count\":1,\"images\":[\"https://media....   \n",
       "..                                                 ...   \n",
       "995                                                 []   \n",
       "996  [{\"images\":[\"https://media.licdn.com/dms/image...   \n",
       "997  [{\"images\":[\"https://media.licdn.com/dms/image...   \n",
       "998  [{\"images\":[\"https://media.licdn.com/dms/image...   \n",
       "999                                                 []   \n",
       "\n",
       "                                                slogan  \\\n",
       "0                                    PROVEN EXCELLENCE   \n",
       "1    Buscamos na natureza soluções que viabilizem u...   \n",
       "2    International Payments for everyone. Send mone...   \n",
       "3    Discover #Ethiopia's urban news & stories with...   \n",
       "4    Stayble is a clinical stage pharmaceutical com...   \n",
       "..                                                 ...   \n",
       "995  Manufacturer of livestock equipment in China. ...   \n",
       "996                                   We just know how   \n",
       "997  Fournisseur d'usinage de précision pour les in...   \n",
       "998                     Bright People, Smart Solutions   \n",
       "999                                                NaN   \n",
       "\n",
       "                                            affiliated  \\\n",
       "0    [{\"Links\":\"https://de.linkedin.com/company/net...   \n",
       "1                                                  NaN   \n",
       "2                                                  NaN   \n",
       "3    [{\"Links\":\"https://www.linkedin.com/showcase/s...   \n",
       "4                                                  NaN   \n",
       "..                                                 ...   \n",
       "995                                                 []   \n",
       "996                                                NaN   \n",
       "997  [{\"Links\":\"https://ch.linkedin.com/company/acr...   \n",
       "998  [{\"Links\":\"https://nl.linkedin.com/showcase/ko...   \n",
       "999                                                 []   \n",
       "\n",
       "                                               funding  \\\n",
       "0                                                  NaN   \n",
       "1    {\"last_round_date\":\"2017-07-13T00:00:00.000Z\",...   \n",
       "2    {\"last_round_date\":\"2023-09-24T00:00:00.000Z\",...   \n",
       "3                                                  NaN   \n",
       "4    {\"last_round_date\":\"2023-05-12T00:00:00.000Z\",...   \n",
       "..                                                 ...   \n",
       "995                                                NaN   \n",
       "996  {\"last_round_date\":\"2010-07-01T00:00:00.000Z\",...   \n",
       "997                                                NaN   \n",
       "998                                                NaN   \n",
       "999                                                NaN   \n",
       "\n",
       "                                       investors  \\\n",
       "0                                            NaN   \n",
       "1                                            NaN   \n",
       "2    [\"Left Lane Capital\",\"+ 4 Other investors\"]   \n",
       "3                                            NaN   \n",
       "4                                            NaN   \n",
       "..                                           ...   \n",
       "995                                          NaN   \n",
       "996                                          NaN   \n",
       "997                                          NaN   \n",
       "998                                          NaN   \n",
       "999                                          NaN   \n",
       "\n",
       "                                   formatted_locations stock_info  \\\n",
       "0    [\"Wittelsbacher Str. 42, Selb, Bayern 95100, DE\"]        NaN   \n",
       "1    [\"Rua Tiradentes 1200, Splendor Office, Piraci...        NaN   \n",
       "2                            [\"Oakland, CA 94601, US\"]        NaN   \n",
       "3    [\"Sierra Leone Street, Hussien Building, 3rd F...        NaN   \n",
       "4        [\"Medicinaregatan 8A, Gothenburg, 41390, SE\"]        NaN   \n",
       "..                                                 ...        ...   \n",
       "995  [\"No.620 Chuncheng Road, Chengyang District, Q...        NaN   \n",
       "996  [\"Surikova 3a, Kyiv, 03067, UA\",\"28 building, ...        NaN   \n",
       "997      [\"Z.I. La Romaine 2, Vicques, Jura 2824, CH\"]        NaN   \n",
       "998  [\"Groningerweg 13 B, Paterswolde, Groningen, N...        NaN   \n",
       "999  [\"Avenida Bernardo O'Higgins 330, Oficina 35, ...        NaN   \n",
       "\n",
       "                                    get_directions_url  \\\n",
       "0    [{\"directions_url\":\"https://www.bing.com/maps?...   \n",
       "1    [{\"directions_url\":\"https://www.bing.com/maps?...   \n",
       "2    [{\"directions_url\":\"https://www.bing.com/maps?...   \n",
       "3    [{\"directions_url\":\"https://www.bing.com/maps?...   \n",
       "4    [{\"directions_url\":\"https://www.bing.com/maps?...   \n",
       "..                                                 ...   \n",
       "995  [{\"directions_url\":\"https://www.bing.com/maps?...   \n",
       "996  [{\"directions_url\":\"https://www.bing.com/maps?...   \n",
       "997  [{\"directions_url\":\"https://www.bing.com/maps?...   \n",
       "998  [{\"directions_url\":\"https://www.bing.com/maps?...   \n",
       "999  [{\"directions_url\":\"https://www.bing.com/maps?...   \n",
       "\n",
       "                                           description  \n",
       "0    NETZSCH Analyzing &amp; Testing | 7,947 follow...  \n",
       "1    Promip | 15,113 followers on LinkedIn. Buscamo...  \n",
       "2    LemFi | 9,594 followers on LinkedIn. Internati...  \n",
       "3    Addis Zeybe - አዲስ ዘይቤ | 11,864 followers on Li...  \n",
       "4    Stayble Therapeutics | 871 followers on Linked...  \n",
       "..                                                 ...  \n",
       "995  StoutAgri Livestock Equipment Manufacturer | 4...  \n",
       "996  PrimoCollect Ukraine | 484 followers on Linked...  \n",
       "997  Décovi SA | 2,276 followers on LinkedIn. Fourn...  \n",
       "998  AB | 2,468 followers on LinkedIn. Bright Peopl...  \n",
       "999  Mobki | 44 followers on LinkedIn. Mobki es una...  \n",
       "\n",
       "[1000 rows x 29 columns]"
      ]
     },
     "execution_count": 9,
     "metadata": {},
     "output_type": "execute_result"
    }
   ],
   "source": [
    "df.columns\n",
    "df"
   ]
  },
  {
   "cell_type": "code",
   "execution_count": 10,
   "id": "63c6676a",
   "metadata": {},
   "outputs": [
    {
     "name": "stderr",
     "output_type": "stream",
     "text": [
      "C:\\Users\\lenovo\\AppData\\Local\\Temp\\ipykernel_6028\\3745073078.py:8: FutureWarning: \n",
      "\n",
      "Passing `palette` without assigning `hue` is deprecated and will be removed in v0.14.0. Assign the `y` variable to `hue` and set `legend=False` for the same effect.\n",
      "\n",
      "  sns.barplot(x=country_counts.values, y=country_counts.index, palette='Blues_d')\n"
     ]
    },
    {
     "data": {
      "image/png": "[encoded data removed]",
      "text/plain": [
       "<Figure size 1000x600 with 1 Axes>"
      ]
     },
     "metadata": {},
     "output_type": "display_data"
    }
   ],
   "source": [
    "# Bar chart for the top 10 countries with the most companies on LinkedIn\n",
    "# Clean and prepare the data\n",
    "df['country_code'] = df['country_code'].astype(str).str.strip()\n",
    "country_counts = df['country_code'].value_counts().head(10)\n",
    "\n",
    "# Plotting\n",
    "plt.figure(figsize=(10, 6))\n",
    "sns.barplot(x=country_counts.values, y=country_counts.index, palette='Blues_d')\n",
    "plt.title(\"Top 10 Countries with the Most Companies on LinkedIn\")\n",
    "plt.xlabel(\"Number of Companies\")\n",
    "plt.ylabel(\"Country Code\")\n",
    "plt.tight_layout()\n",
    "plt.show()\n"
   ]
  },
  {
   "cell_type": "code",
   "execution_count": 11,
   "id": "522ab1b3",
   "metadata": {},
   "outputs": [
    {
     "data": {
      "application/vnd.plotly.v1+json": {
       "config": {
        "plotlyServerURL": "https://plot.ly"
       },
       "data": [
        {
         "coloraxis": "coloraxis",
         "geo": "geo",
         "hovertemplate": "country_code=%{location}<br>num_companies=%{z}<extra></extra>",
         "locationmode": "ISO-3",
         "locations": [
          "US",
          "GB",
          "IN",
          "FR",
          "IT",
          "DE",
          "NL",
          "AU",
          "CA",
          "BR",
          "CN",
          "ES",
          "CH",
          "PL",
          "KR",
          "SE",
          "TR",
          "IE",
          "DK",
          "BE",
          "nan",
          "ID",
          "CO",
          "AT",
          "NG",
          "PT",
          "US,IN",
          "CZ",
          "EG",
          "CA,US",
          "ZA",
          "SG",
          "MY",
          "PE",
          "MX",
          "AR",
          "NO",
          "BD",
          "KE",
          "SA",
          "RO",
          "HU",
          "US,GB",
          "CL",
          "UA",
          "AE",
          "BO",
          "GH",
          "ET",
          "FI",
          "CR",
          "VN",
          "NP",
          "PK",
          "JP",
          "HR",
          "DE,AT",
          "DZ",
          "EC",
          "GR",
          "JO",
          "HK",
          "LK",
          "CO,MX,BR",
          "FR,TH",
          "VE",
          "SV",
          "MX,CL",
          "NL,DE,CH",
          "EE",
          "PT,ES,PL,CN",
          "KW",
          "NL,US,CZ,FI",
          "ES,MX,CO,CN,US,TH",
          "GB,FR",
          "TN",
          "US,CN",
          "GB,US,AU",
          "SE,US,DE,CN,HK",
          "IN,US",
          "NL,ES,HU,CN,GB",
          "US,SC",
          "FI,US,ES,CA,DE,CN,BR,MX,TW,JP",
          "RU",
          "US,MX,ES,BR,CO",
          "US,CN,NL,JP,SG,KR,HK,AU,GB",
          "BR,US,AU",
          "TR,GB",
          "AU,CA",
          "QA",
          "AU,NZ",
          "SG,MY",
          "RE",
          "FR,ES",
          "US,CA,MX",
          "BM,GI,MT,CA",
          "DE,US",
          "TN,US",
          "LI",
          "CA,US,MX,AU,CL",
          "HK,CN",
          "HK,US",
          "NL,FR,US",
          "SG,MY,PH,TH,ID,VN,IN",
          "NZ",
          "ZW,ES",
          "VG",
          "NL,US,GB,ES,AU,AE",
          "AU,CN",
          "SE,GB,DE,IT,IE,PT",
          "PT,GB",
          "MA",
          "IN,AE,US,SG",
          "GB,US",
          "NL,KE,ET,SG",
          "IS",
          "MA,US",
          "SE,NO",
          "SK",
          "CH,IT",
          "BR,ES",
          "GB,AU",
          "GB,US,EG",
          "US,CH",
          "US,ES,CL",
          "MY,VN,TH",
          "AE,LB",
          "SE,CN",
          "BW",
          "CH,DE,BE,GB,IE,NL,IT",
          "SE,US",
          "MT",
          "US,BR",
          "US,TH",
          "LB",
          "IN,PH",
          "US,AW,BB,CO,CR,GT,HN,NI,SV,DO,JM,PA,TT,VI",
          "AZ",
          "BD,SA,SG",
          "PL,GB",
          "MM",
          "DE,NL,GB,FR,IT,US,CN,SG,TW,JP,KR",
          "US,JP,CA,CH,IE",
          "TH,HK,AU",
          "GB,US,NL",
          "CH,DE,NZ",
          "CH,UA",
          "DE,US,GB",
          "ES,US",
          "DK,MZ",
          "RS",
          "CH,CA,US,BR,ZA,GB,AU",
          "AR,CA",
          "US,CA",
          "US,RU,CO,SG",
          "IN,BW,ZA",
          "TW,US,JP,CN",
          "CD",
          "NL,BE,GB,DE",
          "FR,TN",
          "GB,HK,US,IN",
          "GB,US,AE",
          "RW",
          "BG",
          "NZ,SG,AU",
          "JP,SG,BD",
          "GB,ES,US,HK",
          "US,IE,AE",
          "IT,US,DE",
          "ES,US,GB",
          "US,GB,FI,ES",
          "IN,AE,CA,US,AU",
          "IN,JP,US,GB,DE,FI",
          "ES,CH",
          "IN,GB,DE,US,AE",
          "IR",
          "IN,AE,MY,LK",
          "NL,PT,US",
          "IM",
          "MX,ES",
          "BR,US",
          "AE,SA,QA,KW,OM,BH",
          "FR,CN,US",
          "HK,GB,US,JP,SG",
          "TW,HK",
          "DE,BR",
          "AE,SA,QA,KW,IN,AU,CA",
          "DK,IT,UA,AU,BR",
          "DK,GB,DE,ES,CN,NL,US,CA,RU,RO",
          "BL,IT",
          "CR,MX",
          "PH",
          "FR,RU,BH,PT,AU,MK,BR,GB,ZM,PE,CA,ZA",
          "AU,GB",
          "UA,RU"
         ],
         "name": "",
         "type": "choropleth",
         "z": {
          "bdata": "9AA7ADYANgAlACAAHwAeAB0AGgAUABAADwAOAA0ADAAJAAkACQAIAAcABgAGAAYABgAFAAUABQAFAAUABQAEAAQABAAEAAQABAAEAAMAAwADAAMAAwADAAMAAwACAAIAAgACAAIAAgACAAIAAgACAAIAAgACAAIAAgACAAIAAQABAAEAAQABAAEAAQABAAEAAQABAAEAAQABAAEAAQABAAEAAQABAAEAAQABAAEAAQABAAEAAQABAAEAAQABAAEAAQABAAEAAQABAAEAAQABAAEAAQABAAEAAQABAAEAAQABAAEAAQABAAEAAQABAAEAAQABAAEAAQABAAEAAQABAAEAAQABAAEAAQABAAEAAQABAAEAAQABAAEAAQABAAEAAQABAAEAAQABAAEAAQABAAEAAQABAAEAAQABAAEAAQABAAEAAQABAAEAAQABAAEAAQABAAEAAQABAAEAAQABAAEAAQABAAEAAQABAAEAAQABAAEAAQABAAEAAQABAAEAAQABAAEA",
          "dtype": "i2"
         }
        }
       ],
       "layout": {
        "coloraxis": {
         "colorbar": {
          "title": {
           "text": "num_companies"
          }
         },
         "colorscale": [
          [
           0,
           "rgb(247,251,255)"
          ],
          [
           0.125,
           "rgb(222,235,247)"
          ],
          [
           0.25,
           "rgb(198,219,239)"
          ],
          [
           0.375,
           "rgb(158,202,225)"
          ],
          [
           0.5,
           "rgb(107,174,214)"
          ],
          [
           0.625,
           "rgb(66,146,198)"
          ],
          [
           0.75,
           "rgb(33,113,181)"
          ],
          [
           0.875,
           "rgb(8,81,156)"
          ],
          [
           1,
           "rgb(8,48,107)"
          ]
         ]
        },
        "geo": {
         "center": {},
         "domain": {
          "x": [
           0,
           1
          ],
          "y": [
           0,
           1
          ]
         },
         "showcoastlines": true,
         "showframe": false
        },
        "legend": {
         "tracegroupgap": 0
        },
        "template": {
         "data": {
          "bar": [
           {
            "error_x": {
             "color": "#2a3f5f"
            },
            "error_y": {
             "color": "#2a3f5f"
            },
            "marker": {
             "line": {
              "color": "#E5ECF6",
              "width": 0.5
             },
             "pattern": {
              "fillmode": "overlay",
              "size": 10,
              "solidity": 0.2
             }
            },
            "type": "bar"
           }
          ],
          "barpolar": [
           {
            "marker": {
             "line": {
              "color": "#E5ECF6",
              "width": 0.5
             },
             "pattern": {
              "fillmode": "overlay",
              "size": 10,
              "solidity": 0.2
             }
            },
            "type": "barpolar"
           }
          ],
          "carpet": [
           {
            "aaxis": {
             "endlinecolor": "#2a3f5f",
             "gridcolor": "white",
             "linecolor": "white",
             "minorgridcolor": "white",
             "startlinecolor": "#2a3f5f"
            },
            "baxis": {
             "endlinecolor": "#2a3f5f",
             "gridcolor": "white",
             "linecolor": "white",
             "minorgridcolor": "white",
             "startlinecolor": "#2a3f5f"
            },
            "type": "carpet"
           }
          ],
          "choropleth": [
           {
            "colorbar": {
             "outlinewidth": 0,
             "ticks": ""
            },
            "type": "choropleth"
           }
          ],
          "contour": [
           {
            "colorbar": {
             "outlinewidth": 0,
             "ticks": ""
            },
            "colorscale": [
             [
              0,
              "#0d0887"
             ],
             [
              0.1111111111111111,
              "#46039f"
             ],
             [
              0.2222222222222222,
              "#7201a8"
             ],
             [
              0.3333333333333333,
              "#9c179e"
             ],
             [
              0.4444444444444444,
              "#bd3786"
             ],
             [
              0.5555555555555556,
              "#d8576b"
             ],
             [
              0.6666666666666666,
              "#ed7953"
             ],
             [
              0.7777777777777778,
              "#fb9f3a"
             ],
             [
              0.8888888888888888,
              "#fdca26"
             ],
             [
              1,
              "#f0f921"
             ]
            ],
            "type": "contour"
           }
          ],
          "contourcarpet": [
           {
            "colorbar": {
             "outlinewidth": 0,
             "ticks": ""
            },
            "type": "contourcarpet"
           }
          ],
          "heatmap": [
           {
            "colorbar": {
             "outlinewidth": 0,
             "ticks": ""
            },
            "colorscale": [
             [
              0,
              "#0d0887"
             ],
             [
              0.1111111111111111,
              "#46039f"
             ],
             [
              0.2222222222222222,
              "#7201a8"
             ],
             [
              0.3333333333333333,
              "#9c179e"
             ],
             [
              0.4444444444444444,
              "#bd3786"
             ],
             [
              0.5555555555555556,
              "#d8576b"
             ],
             [
              0.6666666666666666,
              "#ed7953"
             ],
             [
              0.7777777777777778,
              "#fb9f3a"
             ],
             [
              0.8888888888888888,
              "#fdca26"
             ],
             [
              1,
              "#f0f921"
             ]
            ],
            "type": "heatmap"
           }
          ],
          "histogram": [
           {
            "marker": {
             "pattern": {
              "fillmode": "overlay",
              "size": 10,
              "solidity": 0.2
             }
            },
            "type": "histogram"
           }
          ],
          "histogram2d": [
           {
            "colorbar": {
             "outlinewidth": 0,
             "ticks": ""
            },
            "colorscale": [
             [
              0,
              "#0d0887"
             ],
             [
              0.1111111111111111,
              "#46039f"
             ],
             [
              0.2222222222222222,
              "#7201a8"
             ],
             [
              0.3333333333333333,
              "#9c179e"
             ],
             [
              0.4444444444444444,
              "#bd3786"
             ],
             [
              0.5555555555555556,
              "#d8576b"
             ],
             [
              0.6666666666666666,
              "#ed7953"
             ],
             [
              0.7777777777777778,
              "#fb9f3a"
             ],
             [
              0.8888888888888888,
              "#fdca26"
             ],
             [
              1,
              "#f0f921"
             ]
            ],
            "type": "histogram2d"
           }
          ],
          "histogram2dcontour": [
           {
            "colorbar": {
             "outlinewidth": 0,
             "ticks": ""
            },
            "colorscale": [
             [
              0,
              "#0d0887"
             ],
             [
              0.1111111111111111,
              "#46039f"
             ],
             [
              0.2222222222222222,
              "#7201a8"
             ],
             [
              0.3333333333333333,
              "#9c179e"
             ],
             [
              0.4444444444444444,
              "#bd3786"
             ],
             [
              0.5555555555555556,
              "#d8576b"
             ],
             [
              0.6666666666666666,
              "#ed7953"
             ],
             [
              0.7777777777777778,
              "#fb9f3a"
             ],
             [
              0.8888888888888888,
              "#fdca26"
             ],
             [
              1,
              "#f0f921"
             ]
            ],
            "type": "histogram2dcontour"
           }
          ],
          "mesh3d": [
           {
            "colorbar": {
             "outlinewidth": 0,
             "ticks": ""
            },
            "type": "mesh3d"
           }
          ],
          "parcoords": [
           {
            "line": {
             "colorbar": {
              "outlinewidth": 0,
              "ticks": ""
             }
            },
            "type": "parcoords"
           }
          ],
          "pie": [
           {
            "automargin": true,
            "type": "pie"
           }
          ],
          "scatter": [
           {
            "fillpattern": {
             "fillmode": "overlay",
             "size": 10,
             "solidity": 0.2
            },
            "type": "scatter"
           }
          ],
          "scatter3d": [
           {
            "line": {
             "colorbar": {
              "outlinewidth": 0,
              "ticks": ""
             }
            },
            "marker": {
             "colorbar": {
              "outlinewidth": 0,
              "ticks": ""
             }
            },
            "type": "scatter3d"
           }
          ],
          "scattercarpet": [
           {
            "marker": {
             "colorbar": {
              "outlinewidth": 0,
              "ticks": ""
             }
            },
            "type": "scattercarpet"
           }
          ],
          "scattergeo": [
           {
            "marker": {
             "colorbar": {
              "outlinewidth": 0,
              "ticks": ""
             }
            },
            "type": "scattergeo"
           }
          ],
          "scattergl": [
           {
            "marker": {
             "colorbar": {
              "outlinewidth": 0,
              "ticks": ""
             }
            },
            "type": "scattergl"
           }
          ],
          "scattermap": [
           {
            "marker": {
             "colorbar": {
              "outlinewidth": 0,
              "ticks": ""
             }
            },
            "type": "scattermap"
           }
          ],
          "scattermapbox": [
           {
            "marker": {
             "colorbar": {
              "outlinewidth": 0,
              "ticks": ""
             }
            },
            "type": "scattermapbox"
           }
          ],
          "scatterpolar": [
           {
            "marker": {
             "colorbar": {
              "outlinewidth": 0,
              "ticks": ""
             }
            },
            "type": "scatterpolar"
           }
          ],
          "scatterpolargl": [
           {
            "marker": {
             "colorbar": {
              "outlinewidth": 0,
              "ticks": ""
             }
            },
            "type": "scatterpolargl"
           }
          ],
          "scatterternary": [
           {
            "marker": {
             "colorbar": {
              "outlinewidth": 0,
              "ticks": ""
             }
            },
            "type": "scatterternary"
           }
          ],
          "surface": [
           {
            "colorbar": {
             "outlinewidth": 0,
             "ticks": ""
            },
            "colorscale": [
             [
              0,
              "#0d0887"
             ],
             [
              0.1111111111111111,
              "#46039f"
             ],
             [
              0.2222222222222222,
              "#7201a8"
             ],
             [
              0.3333333333333333,
              "#9c179e"
             ],
             [
              0.4444444444444444,
              "#bd3786"
             ],
             [
              0.5555555555555556,
              "#d8576b"
             ],
             [
              0.6666666666666666,
              "#ed7953"
             ],
             [
              0.7777777777777778,
              "#fb9f3a"
             ],
             [
              0.8888888888888888,
              "#fdca26"
             ],
             [
              1,
              "#f0f921"
             ]
            ],
            "type": "surface"
           }
          ],
          "table": [
           {
            "cells": {
             "fill": {
              "color": "#EBF0F8"
             },
             "line": {
              "color": "white"
             }
            },
            "header": {
             "fill": {
              "color": "#C8D4E3"
             },
             "line": {
              "color": "white"
             }
            },
            "type": "table"
           }
          ]
         },
         "layout": {
          "annotationdefaults": {
           "arrowcolor": "#2a3f5f",
           "arrowhead": 0,
           "arrowwidth": 1
          },
          "autotypenumbers": "strict",
          "coloraxis": {
           "colorbar": {
            "outlinewidth": 0,
            "ticks": ""
           }
          },
          "colorscale": {
           "diverging": [
            [
             0,
             "#8e0152"
            ],
            [
             0.1,
             "#c51b7d"
            ],
            [
             0.2,
             "#de77ae"
            ],
            [
             0.3,
             "#f1b6da"
            ],
            [
             0.4,
             "#fde0ef"
            ],
            [
             0.5,
             "#f7f7f7"
            ],
            [
             0.6,
             "#e6f5d0"
            ],
            [
             0.7,
             "#b8e186"
            ],
            [
             0.8,
             "#7fbc41"
            ],
            [
             0.9,
             "#4d9221"
            ],
            [
             1,
             "#276419"
            ]
           ],
           "sequential": [
            [
             0,
             "#0d0887"
            ],
            [
             0.1111111111111111,
             "#46039f"
            ],
            [
             0.2222222222222222,
             "#7201a8"
            ],
            [
             0.3333333333333333,
             "#9c179e"
            ],
            [
             0.4444444444444444,
             "#bd3786"
            ],
            [
             0.5555555555555556,
             "#d8576b"
            ],
            [
             0.6666666666666666,
             "#ed7953"
            ],
            [
             0.7777777777777778,
             "#fb9f3a"
            ],
            [
             0.8888888888888888,
             "#fdca26"
            ],
            [
             1,
             "#f0f921"
            ]
           ],
           "sequentialminus": [
            [
             0,
             "#0d0887"
            ],
            [
             0.1111111111111111,
             "#46039f"
            ],
            [
             0.2222222222222222,
             "#7201a8"
            ],
            [
             0.3333333333333333,
             "#9c179e"
            ],
            [
             0.4444444444444444,
             "#bd3786"
            ],
            [
             0.5555555555555556,
             "#d8576b"
            ],
            [
             0.6666666666666666,
             "#ed7953"
            ],
            [
             0.7777777777777778,
             "#fb9f3a"
            ],
            [
             0.8888888888888888,
             "#fdca26"
            ],
            [
             1,
             "#f0f921"
            ]
           ]
          },
          "colorway": [
           "#636efa",
           "#EF553B",
           "#00cc96",
           "#ab63fa",
           "#FFA15A",
           "#19d3f3",
           "#FF6692",
           "#B6E880",
           "#FF97FF",
           "#FECB52"
          ],
          "font": {
           "color": "#2a3f5f"
          },
          "geo": {
           "bgcolor": "white",
           "lakecolor": "white",
           "landcolor": "#E5ECF6",
           "showlakes": true,
           "showland": true,
           "subunitcolor": "white"
          },
          "hoverlabel": {
           "align": "left"
          },
          "hovermode": "closest",
          "mapbox": {
           "style": "light"
          },
          "paper_bgcolor": "white",
          "plot_bgcolor": "#E5ECF6",
          "polar": {
           "angularaxis": {
            "gridcolor": "white",
            "linecolor": "white",
            "ticks": ""
           },
           "bgcolor": "#E5ECF6",
           "radialaxis": {
            "gridcolor": "white",
            "linecolor": "white",
            "ticks": ""
           }
          },
          "scene": {
           "xaxis": {
            "backgroundcolor": "#E5ECF6",
            "gridcolor": "white",
            "gridwidth": 2,
            "linecolor": "white",
            "showbackground": true,
            "ticks": "",
            "zerolinecolor": "white"
           },
           "yaxis": {
            "backgroundcolor": "#E5ECF6",
            "gridcolor": "white",
            "gridwidth": 2,
            "linecolor": "white",
            "showbackground": true,
            "ticks": "",
            "zerolinecolor": "white"
           },
           "zaxis": {
            "backgroundcolor": "#E5ECF6",
            "gridcolor": "white",
            "gridwidth": 2,
            "linecolor": "white",
            "showbackground": true,
            "ticks": "",
            "zerolinecolor": "white"
           }
          },
          "shapedefaults": {
           "line": {
            "color": "#2a3f5f"
           }
          },
          "ternary": {
           "aaxis": {
            "gridcolor": "white",
            "linecolor": "white",
            "ticks": ""
           },
           "baxis": {
            "gridcolor": "white",
            "linecolor": "white",
            "ticks": ""
           },
           "bgcolor": "#E5ECF6",
           "caxis": {
            "gridcolor": "white",
            "linecolor": "white",
            "ticks": ""
           }
          },
          "title": {
           "x": 0.05
          },
          "xaxis": {
           "automargin": true,
           "gridcolor": "white",
           "linecolor": "white",
           "ticks": "",
           "title": {
            "standoff": 15
           },
           "zerolinecolor": "white",
           "zerolinewidth": 2
          },
          "yaxis": {
           "automargin": true,
           "gridcolor": "white",
           "linecolor": "white",
           "ticks": "",
           "title": {
            "standoff": 15
           },
           "zerolinecolor": "white",
           "zerolinewidth": 2
          }
         }
        },
        "title": {
         "text": "Company Distribution Heatmap by Country"
        }
       }
      }
     },
     "metadata": {},
     "output_type": "display_data"
    }
   ],
   "source": [
    "\n",
    "\n",
    "# Map Visualization – Heatmap of company distribution by country/region.\n",
    "df['country_code'] = df['country_code'].astype(str).str.strip()\n",
    "country_counts = df['country_code'].value_counts().reset_index()\n",
    "country_counts.columns = ['country_code', 'num_companies']\n",
    "\n",
    "# Create the choropleth map\n",
    "fig = px.choropleth(\n",
    "    country_counts,\n",
    "    locations='country_code',\n",
    "    color='num_companies',\n",
    "    color_continuous_scale='Blues',\n",
    "    locationmode='ISO-3',\n",
    "    title='Company Distribution Heatmap by Country'\n",
    ")\n",
    "\n",
    "fig.update_layout(geo=dict(showframe=False, showcoastlines=True))\n",
    "fig.show()\n"
   ]
  },
  {
   "cell_type": "code",
   "execution_count": 12,
   "id": "7ef87fc7",
   "metadata": {},
   "outputs": [
    {
     "data": {
      "image/png": "[encoded data removed]",
      "text/plain": [
       "<Figure size 800x800 with 1 Axes>"
      ]
     },
     "metadata": {},
     "output_type": "display_data"
    }
   ],
   "source": [
    "# Pie Chart – Distribution of organization types (Private, Public, Nonprofit, etc.)\n",
    "df['organization_type'] = df['organization_type'].astype(str).str.strip()\n",
    "org_counts = df['organization_type'].value_counts()\n",
    "\n",
    "# Plot the pie chart\n",
    "plt.figure(figsize=(8, 8))\n",
    "plt.pie(org_counts, labels=org_counts.index, autopct='%1.1f%%', startangle=140)\n",
    "plt.title('Distribution of Organization Types on LinkedIn')\n",
    "plt.axis('equal')  # Equal aspect ratio ensures the pie is circular\n",
    "plt.tight_layout()\n",
    "plt.show()"
   ]
  },
  {
   "cell_type": "code",
   "execution_count": 13,
   "id": "b314ea0c",
   "metadata": {},
   "outputs": [
    {
     "name": "stderr",
     "output_type": "stream",
     "text": [
      "C:\\Users\\lenovo\\AppData\\Local\\Temp\\ipykernel_6028\\4181532924.py:16: FutureWarning:\n",
      "\n",
      "\n",
      "\n",
      "Passing `palette` without assigning `hue` is deprecated and will be removed in v0.14.0. Assign the `x` variable to `hue` and set `legend=False` for the same effect.\n",
      "\n",
      "\n"
     ]
    },
    {
     "data": {
      "image/png": "[encoded data removed]",
      "text/plain": [
       "<Figure size 1000x600 with 1 Axes>"
      ]
     },
     "metadata": {},
     "output_type": "display_data"
    }
   ],
   "source": [
    "# Histogram – Distribution of companies based on company size.\n",
    "df['company_size'] = df['company_size'].astype(str).str.strip()\n",
    "\n",
    "# Optional: Sort company sizes logically if needed\n",
    "size_order = [\n",
    "    '1-10', '11-50', '51-200', '201-500',\n",
    "    '501-1000', '1001-5000', '5001-10,000', '10,001+'\n",
    "]\n",
    "df['company_size'] = pd.Categorical(df['company_size'], categories=size_order, ordered=True)\n",
    "\n",
    "# Count company sizes\n",
    "company_size_counts = df['company_size'].value_counts().sort_index()\n",
    "\n",
    "# Plotting\n",
    "plt.figure(figsize=(10, 6))\n",
    "sns.barplot(x=company_size_counts.index, y=company_size_counts.values, palette='viridis')\n",
    "plt.title('Distribution of Companies Based on Company Size')\n",
    "plt.xlabel('Company Size')\n",
    "plt.ylabel('Number of Companies')\n",
    "plt.xticks(rotation=45)\n",
    "plt.tight_layout()\n",
    "plt.show()"
   ]
  },
  {
   "cell_type": "code",
   "execution_count": 3,
   "id": "97aa1879",
   "metadata": {},
   "outputs": [
    {
     "ename": "NameError",
     "evalue": "name 'df' is not defined",
     "output_type": "error",
     "traceback": [
      "\u001b[1;31m---------------------------------------------------------------------------\u001b[0m",
      "\u001b[1;31mNameError\u001b[0m                                 Traceback (most recent call last)",
      "Cell \u001b[1;32mIn[3], line 2\u001b[0m\n\u001b[0;32m      1\u001b[0m \u001b[38;5;66;03m# Box Plot – Spread of followers based on company size or type.\u001b[39;00m\n\u001b[1;32m----> 2\u001b[0m df[\u001b[38;5;124m'\u001b[39m\u001b[38;5;124mcompany_size\u001b[39m\u001b[38;5;124m'\u001b[39m] \u001b[38;5;241m=\u001b[39m \u001b[43mdf\u001b[49m[\u001b[38;5;124m'\u001b[39m\u001b[38;5;124mcompany_size\u001b[39m\u001b[38;5;124m'\u001b[39m]\u001b[38;5;241m.\u001b[39mastype(\u001b[38;5;28mstr\u001b[39m)\u001b[38;5;241m.\u001b[39mstr\u001b[38;5;241m.\u001b[39mstrip()\n\u001b[0;32m      3\u001b[0m df[\u001b[38;5;124m'\u001b[39m\u001b[38;5;124morganization_type\u001b[39m\u001b[38;5;124m'\u001b[39m] \u001b[38;5;241m=\u001b[39m df[\u001b[38;5;124m'\u001b[39m\u001b[38;5;124morganization_type\u001b[39m\u001b[38;5;124m'\u001b[39m]\u001b[38;5;241m.\u001b[39mastype(\u001b[38;5;28mstr\u001b[39m)\u001b[38;5;241m.\u001b[39mstr\u001b[38;5;241m.\u001b[39mstrip()\n\u001b[0;32m      4\u001b[0m df[\u001b[38;5;124m'\u001b[39m\u001b[38;5;124mfollowers\u001b[39m\u001b[38;5;124m'\u001b[39m] \u001b[38;5;241m=\u001b[39m pd\u001b[38;5;241m.\u001b[39mto_numeric(df[\u001b[38;5;124m'\u001b[39m\u001b[38;5;124mfollowers\u001b[39m\u001b[38;5;124m'\u001b[39m], errors\u001b[38;5;241m=\u001b[39m\u001b[38;5;124m'\u001b[39m\u001b[38;5;124mcoerce\u001b[39m\u001b[38;5;124m'\u001b[39m)  \u001b[38;5;66;03m# Convert to numeric\u001b[39;00m\n",
      "\u001b[1;31mNameError\u001b[0m: name 'df' is not defined"
     ]
    }
   ],
   "source": [
    "# Box Plot – Spread of followers based on company size or type.\n",
    "df['company_size'] = df['company_size'].astype(str).str.strip()\n",
    "df['organization_type'] = df['organization_type'].astype(str).str.strip()\n",
    "df['followers'] = pd.to_numeric(df['followers'], errors='coerce')  # Convert to numeric\n",
    "\n",
    "# Drop missing follower values\n",
    "df = df.dropna(subset=['followers'])\n",
    "\n",
    "# OPTIONAL: Set an order for company sizes\n",
    "size_order = [\n",
    "    '1-10', '11-50', '51-200', '201-500',\n",
    "    '501-1000', '1001-5000', '5001-10,000', '10,001+'\n",
    "]\n",
    "df['company_size'] = pd.Categorical(df['company_size'], categories=size_order, ordered=True)\n",
    "\n",
    "# Plotting box plot by company size\n",
    "plt.figure(figsize=(12, 6))\n",
    "sns.boxplot(x='company_size', y='followers', data=df, palette='Set2')\n",
    "plt.title('Spread of Followers by Company Size')\n",
    "plt.xlabel('Company Size')\n",
    "plt.ylabel('Number of Followers')\n",
    "plt.xticks(rotation=45)\n",
    "plt.tight_layout()\n",
    "plt.show()"
   ]
  }
 ],
 "metadata": {
  "kernelspec": {
   "display_name": "base",
   "language": "python",
   "name": "python3"
  },
  "language_info": {
   "codemirror_mode": {
    "name": "ipython",
    "version": 3
   },
   "file_extension": ".py",
   "mimetype": "text/x-python",
   "name": "python",
   "nbconvert_exporter": "python",
   "pygments_lexer": "ipython3",
   "version": "3.12.9"
  }
 },
 "nbformat": 4,
 "nbformat_minor": 5
}
